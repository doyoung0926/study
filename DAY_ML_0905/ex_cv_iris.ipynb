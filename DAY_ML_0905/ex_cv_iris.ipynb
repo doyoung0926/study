{
 "cells": [
  {
   "cell_type": "markdown",
   "id": "02ea410d",
   "metadata": {},
   "source": [
    "## 교차 검증(Cross Validation)\n",
    "---\n",
    "- 데이터셋 부족에 대한 과소적합 해결\n",
    "- 테스트 데이터셋에 대한 과대적합(Overfitting) 해결\n",
    "- cross_validate()함수 사용\n",
    "    * 기본 값 cv = 5-Fold ===> 모델 5개"
   ]
  },
  {
   "cell_type": "code",
   "execution_count": 1,
   "id": "33f54b67",
   "metadata": {},
   "outputs": [],
   "source": [
    "from sklearn.model_selection import cross_validate\n",
    "from sklearn.datasets import load_iris\n",
    "from sklearn.linear_model import LogisticRegression\n",
    "import numpy as np"
   ]
  },
  {
   "cell_type": "code",
   "execution_count": 4,
   "id": "f4080892",
   "metadata": {},
   "outputs": [],
   "source": [
    "# 데이터 준비 ----------------------------------------\n",
    "data=load_iris()\n",
    "input_data=data['data']\n",
    "input_target=data['target']"
   ]
  },
  {
   "cell_type": "code",
   "execution_count": 5,
   "id": "1f8b0b8b",
   "metadata": {},
   "outputs": [
    {
     "data": {
      "text/plain": [
       "((150, 4), (150,))"
      ]
     },
     "execution_count": 5,
     "metadata": {},
     "output_type": "execute_result"
    }
   ],
   "source": [
    "input_data.shape, input_target.shape"
   ]
  },
  {
   "cell_type": "code",
   "execution_count": 14,
   "id": "2e320331",
   "metadata": {},
   "outputs": [],
   "source": [
    "# 모델 객체 생성\n",
    "model=LogisticRegression(max_iter=500)"
   ]
  },
  {
   "cell_type": "code",
   "execution_count": 19,
   "id": "14ad63e5",
   "metadata": {},
   "outputs": [],
   "source": [
    "# 5-Fold로 5등분으로 나누어서 학습/검증 모델 생성 진행\n",
    "result=cross_validate(model,\n",
    "                      input_data,\n",
    "                      input_target,\n",
    "                      return_train_score=True,\n",
    "                     cv=10)"
   ]
  },
  {
   "cell_type": "code",
   "execution_count": 20,
   "id": "1a28a558",
   "metadata": {},
   "outputs": [
    {
     "data": {
      "text/plain": [
       "{'fit_time': array([0.02570224, 0.02203584, 0.02483249, 0.02301407, 0.0220654 ,\n",
       "        0.02373624, 0.02386189, 0.01758313, 0.02329707, 0.02302456]),\n",
       " 'score_time': array([0.00096488, 0.        , 0.        , 0.        , 0.        ,\n",
       "        0.        , 0.        , 0.        , 0.        , 0.        ]),\n",
       " 'test_score': array([1.        , 0.93333333, 1.        , 1.        , 0.93333333,\n",
       "        0.93333333, 0.93333333, 1.        , 1.        , 1.        ]),\n",
       " 'train_score': array([0.97037037, 0.97777778, 0.97037037, 0.97037037, 0.97777778,\n",
       "        0.97777778, 0.98518519, 0.97037037, 0.97037037, 0.97777778])}"
      ]
     },
     "execution_count": 20,
     "metadata": {},
     "output_type": "execute_result"
    }
   ],
   "source": [
    "result"
   ]
  },
  {
   "cell_type": "code",
   "execution_count": 21,
   "id": "e4034b42",
   "metadata": {},
   "outputs": [
    {
     "data": {
      "text/plain": [
       "0.9733333333333334"
      ]
     },
     "execution_count": 21,
     "metadata": {},
     "output_type": "execute_result"
    }
   ],
   "source": [
    "result['test_score'].mean()"
   ]
  },
  {
   "cell_type": "code",
   "execution_count": null,
   "id": "46d9c5af",
   "metadata": {},
   "outputs": [],
   "source": []
  }
 ],
 "metadata": {
  "kernelspec": {
   "display_name": "Python 3 (ipykernel)",
   "language": "python",
   "name": "python3"
  },
  "language_info": {
   "codemirror_mode": {
    "name": "ipython",
    "version": 3
   },
   "file_extension": ".py",
   "mimetype": "text/x-python",
   "name": "python",
   "nbconvert_exporter": "python",
   "pygments_lexer": "ipython3",
   "version": "3.9.12"
  }
 },
 "nbformat": 4,
 "nbformat_minor": 5
}
