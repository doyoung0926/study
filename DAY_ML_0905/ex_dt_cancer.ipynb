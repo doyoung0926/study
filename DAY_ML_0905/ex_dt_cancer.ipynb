{
 "cells": [
  {
   "cell_type": "markdown",
   "id": "f3e3c2b1",
   "metadata": {},
   "source": [
    "## 결정트리(Decision Tree)\n",
    "---\n",
    "- 직관적이고 쉬운 모델 방식\n",
    "- 스무고개 퀴즈 형식\n",
    "- 과적합의 발생으로 다른 모델 대비 성능이 좋지 않은 모델\n",
    "- 단독으로 사용되는 경우보다 여러개의 DT가 모여서 사용됨 ==> 앙상블"
   ]
  },
  {
   "cell_type": "code",
   "execution_count": 321,
   "id": "0032a084",
   "metadata": {},
   "outputs": [],
   "source": [
    "# 모듈 로딩 ----------------------------------------\n",
    "from sklearn.datasets import load_breast_cancer\n",
    "from sklearn.model_selection import train_test_split\n",
    "from sklearn.tree import DecisionTreeClassifier\n",
    "from sklearn.tree import plot_tree  # 트리 시각화 함수\n",
    "import pandas as pd"
   ]
  },
  {
   "cell_type": "markdown",
   "id": "71bf034a",
   "metadata": {},
   "source": [
    "### [1] 데이터 로딩\n",
    "---"
   ]
  },
  {
   "cell_type": "code",
   "execution_count": 322,
   "id": "906f89b3",
   "metadata": {},
   "outputs": [],
   "source": [
    "# numpy => DataFrame형태로 데이터 로딩\n",
    "# return_X_y=True, as_frame=True\n",
    "dataX, datay = load_breast_cancer(return_X_y=True, as_frame=True)\n",
    "\n",
    "# Bunch 타입 => Key로 data, target, target_names, feature_names...\n",
    "# dataX, datay = load_breast_cancer)"
   ]
  },
  {
   "cell_type": "code",
   "execution_count": 323,
   "id": "1fefd71a",
   "metadata": {
    "collapsed": true
   },
   "outputs": [
    {
     "name": "stdout",
     "output_type": "stream",
     "text": [
      "<class 'pandas.core.frame.DataFrame'>\n",
      "RangeIndex: 569 entries, 0 to 568\n",
      "Data columns (total 30 columns):\n",
      " #   Column                   Non-Null Count  Dtype  \n",
      "---  ------                   --------------  -----  \n",
      " 0   mean radius              569 non-null    float64\n",
      " 1   mean texture             569 non-null    float64\n",
      " 2   mean perimeter           569 non-null    float64\n",
      " 3   mean area                569 non-null    float64\n",
      " 4   mean smoothness          569 non-null    float64\n",
      " 5   mean compactness         569 non-null    float64\n",
      " 6   mean concavity           569 non-null    float64\n",
      " 7   mean concave points      569 non-null    float64\n",
      " 8   mean symmetry            569 non-null    float64\n",
      " 9   mean fractal dimension   569 non-null    float64\n",
      " 10  radius error             569 non-null    float64\n",
      " 11  texture error            569 non-null    float64\n",
      " 12  perimeter error          569 non-null    float64\n",
      " 13  area error               569 non-null    float64\n",
      " 14  smoothness error         569 non-null    float64\n",
      " 15  compactness error        569 non-null    float64\n",
      " 16  concavity error          569 non-null    float64\n",
      " 17  concave points error     569 non-null    float64\n",
      " 18  symmetry error           569 non-null    float64\n",
      " 19  fractal dimension error  569 non-null    float64\n",
      " 20  worst radius             569 non-null    float64\n",
      " 21  worst texture            569 non-null    float64\n",
      " 22  worst perimeter          569 non-null    float64\n",
      " 23  worst area               569 non-null    float64\n",
      " 24  worst smoothness         569 non-null    float64\n",
      " 25  worst compactness        569 non-null    float64\n",
      " 26  worst concavity          569 non-null    float64\n",
      " 27  worst concave points     569 non-null    float64\n",
      " 28  worst symmetry           569 non-null    float64\n",
      " 29  worst fractal dimension  569 non-null    float64\n",
      "dtypes: float64(30)\n",
      "memory usage: 133.5 KB\n"
     ]
    },
    {
     "data": {
      "text/plain": [
       "(None,\n",
       " Index(['mean radius', 'mean texture', 'mean perimeter', 'mean area',\n",
       "        'mean smoothness', 'mean compactness', 'mean concavity',\n",
       "        'mean concave points', 'mean symmetry', 'mean fractal dimension',\n",
       "        'radius error', 'texture error', 'perimeter error', 'area error',\n",
       "        'smoothness error', 'compactness error', 'concavity error',\n",
       "        'concave points error', 'symmetry error', 'fractal dimension error',\n",
       "        'worst radius', 'worst texture', 'worst perimeter', 'worst area',\n",
       "        'worst smoothness', 'worst compactness', 'worst concavity',\n",
       "        'worst concave points', 'worst symmetry', 'worst fractal dimension'],\n",
       "       dtype='object'))"
      ]
     },
     "execution_count": 323,
     "metadata": {},
     "output_type": "execute_result"
    }
   ],
   "source": [
    "dataX.info(), dataX.columns"
   ]
  },
  {
   "cell_type": "code",
   "execution_count": 324,
   "id": "5e8d5877",
   "metadata": {},
   "outputs": [],
   "source": [
    "f_names = dataX.columns"
   ]
  },
  {
   "cell_type": "code",
   "execution_count": 325,
   "id": "bb91cbcd",
   "metadata": {
    "collapsed": true
   },
   "outputs": [
    {
     "data": {
      "text/plain": [
       "mean radius                0\n",
       "mean texture               0\n",
       "mean perimeter             0\n",
       "mean area                  0\n",
       "mean smoothness            0\n",
       "mean compactness           0\n",
       "mean concavity             0\n",
       "mean concave points        0\n",
       "mean symmetry              0\n",
       "mean fractal dimension     0\n",
       "radius error               0\n",
       "texture error              0\n",
       "perimeter error            0\n",
       "area error                 0\n",
       "smoothness error           0\n",
       "compactness error          0\n",
       "concavity error            0\n",
       "concave points error       0\n",
       "symmetry error             0\n",
       "fractal dimension error    0\n",
       "worst radius               0\n",
       "worst texture              0\n",
       "worst perimeter            0\n",
       "worst area                 0\n",
       "worst smoothness           0\n",
       "worst compactness          0\n",
       "worst concavity            0\n",
       "worst concave points       0\n",
       "worst symmetry             0\n",
       "worst fractal dimension    0\n",
       "dtype: int64"
      ]
     },
     "execution_count": 325,
     "metadata": {},
     "output_type": "execute_result"
    }
   ],
   "source": [
    "dataX.isnull().sum()"
   ]
  },
  {
   "cell_type": "markdown",
   "id": "c580b1ef",
   "metadata": {},
   "source": [
    "### [2] 학습 & 테스트 데이터 분리"
   ]
  },
  {
   "cell_type": "code",
   "execution_count": 326,
   "id": "526b454f",
   "metadata": {},
   "outputs": [
    {
     "data": {
      "text/plain": [
       "(numpy.ndarray, numpy.ndarray)"
      ]
     },
     "execution_count": 326,
     "metadata": {},
     "output_type": "execute_result"
    }
   ],
   "source": [
    "type(dataX.values), type(datay.values)"
   ]
  },
  {
   "cell_type": "code",
   "execution_count": 327,
   "id": "5bc10dd0",
   "metadata": {},
   "outputs": [],
   "source": [
    "# dataX = dataX.to_numpy()"
   ]
  },
  {
   "cell_type": "code",
   "execution_count": 328,
   "id": "7ed266de",
   "metadata": {},
   "outputs": [],
   "source": [
    "# datay = datay.to_numpy()"
   ]
  },
  {
   "cell_type": "code",
   "execution_count": 329,
   "id": "584312db",
   "metadata": {},
   "outputs": [],
   "source": [
    "# train : test = 75:25 <- test_size로 조절 하면 됨\n",
    "# stratify=라벨 즉 타겟 데이터 지정 : 학습&테스트 데이터에도 비율 맞추기\n",
    "train_X, test_X, train_y, test_y = train_test_split(dataX, \n",
    "                                                    datay,\n",
    "#                                                     shuffle=False,  # stratify 랑 같이 못 씀???\n",
    "                                                    stratify=datay,\n",
    "                                                    random_state=42)"
   ]
  },
  {
   "cell_type": "code",
   "execution_count": 330,
   "id": "f92ef8de",
   "metadata": {},
   "outputs": [
    {
     "name": "stdout",
     "output_type": "stream",
     "text": [
      "train_X : (426, 30), test_X : (143, 30)\n"
     ]
    }
   ],
   "source": [
    "print(f'train_X : {train_X.shape}, test_X : {test_X.shape}')"
   ]
  },
  {
   "cell_type": "markdown",
   "id": "e4d0bcac",
   "metadata": {},
   "source": [
    "### [3] 학습\n",
    "---\n",
    "- DecisionTreeClassifier 학습 방법"
   ]
  },
  {
   "cell_type": "code",
   "execution_count": 331,
   "id": "624f1c46",
   "metadata": {},
   "outputs": [],
   "source": [
    "# 모델 객체 생성\n",
    "dtModel = DecisionTreeClassifier()"
   ]
  },
  {
   "cell_type": "code",
   "execution_count": 332,
   "id": "b9c5c6e7",
   "metadata": {},
   "outputs": [
    {
     "data": {
      "text/plain": [
       "DecisionTreeClassifier()"
      ]
     },
     "execution_count": 332,
     "metadata": {},
     "output_type": "execute_result"
    }
   ],
   "source": [
    "# 학습용 데이터로 학습 진행\n",
    "dtModel.fit(train_X.values, train_y.values)\n",
    "# values 안주면 predict에서 warning 뜸"
   ]
  },
  {
   "cell_type": "markdown",
   "id": "02bf3f50",
   "metadata": {},
   "source": [
    "### [4] 평가"
   ]
  },
  {
   "cell_type": "code",
   "execution_count": 333,
   "id": "89dae6ad",
   "metadata": {},
   "outputs": [],
   "source": [
    "train_score=dtModel.score(train_X.values, train_y.values)\n",
    "test_score=dtModel.score(test_X.values, test_y.values)\n",
    "# 여기도 values 주면 됨"
   ]
  },
  {
   "cell_type": "code",
   "execution_count": 334,
   "id": "65703435",
   "metadata": {},
   "outputs": [
    {
     "data": {
      "text/plain": [
       "mean radius                 12.750000\n",
       "mean texture                16.700000\n",
       "mean perimeter              82.510000\n",
       "mean area                  493.800000\n",
       "mean smoothness              0.112500\n",
       "mean compactness             0.111700\n",
       "mean concavity               0.038800\n",
       "mean concave points          0.029950\n",
       "mean symmetry                0.212000\n",
       "mean fractal dimension       0.066230\n",
       "radius error                 0.383400\n",
       "texture error                1.003000\n",
       "perimeter error              2.495000\n",
       "area error                  28.620000\n",
       "smoothness error             0.007509\n",
       "compactness error            0.015610\n",
       "concavity error              0.019770\n",
       "concave points error         0.009199\n",
       "symmetry error               0.018050\n",
       "fractal dimension error      0.003629\n",
       "worst radius                14.450000\n",
       "worst texture               21.740000\n",
       "worst perimeter             93.630000\n",
       "worst area                 624.100000\n",
       "worst smoothness             0.147500\n",
       "worst compactness            0.197900\n",
       "worst concavity              0.142300\n",
       "worst concave points         0.080450\n",
       "worst symmetry               0.307100\n",
       "worst fractal dimension      0.085570\n",
       "Name: 519, dtype: float64"
      ]
     },
     "execution_count": 334,
     "metadata": {},
     "output_type": "execute_result"
    }
   ],
   "source": [
    "test_X.iloc[0]"
   ]
  },
  {
   "cell_type": "code",
   "execution_count": 335,
   "id": "c5e29468",
   "metadata": {
    "scrolled": true
   },
   "outputs": [
    {
     "name": "stdout",
     "output_type": "stream",
     "text": [
      "train_score : 1.0 - test_score : 0.9230769230769231\n"
     ]
    }
   ],
   "source": [
    "print(f'train_score : {train_score} - test_score : {test_score}')"
   ]
  },
  {
   "cell_type": "code",
   "execution_count": 336,
   "id": "1778c1e3",
   "metadata": {},
   "outputs": [
    {
     "data": {
      "text/plain": [
       "array([1])"
      ]
     },
     "execution_count": 336,
     "metadata": {},
     "output_type": "execute_result"
    }
   ],
   "source": [
    "dtModel.predict([test_X.iloc[0]])"
   ]
  },
  {
   "cell_type": "markdown",
   "id": "54193438",
   "metadata": {},
   "source": [
    "### DTree 시각화\n",
    "---\n",
    "- plot_tree()"
   ]
  },
  {
   "cell_type": "code",
   "execution_count": 337,
   "id": "8b3f0de5",
   "metadata": {
    "scrolled": true
   },
   "outputs": [
    {
     "data": {
      "image/png": "[encoded data removed]",
      "text/plain": [
       "<Figure size 792x720 with 1 Axes>"
      ]
     },
     "metadata": {
      "needs_background": "light"
     },
     "output_type": "display_data"
    }
   ],
   "source": [
    "import matplotlib.pyplot as plt\n",
    "\n",
    "plt.figure(figsize = (11, 10))\n",
    "# plot_tree(dtModel)\n",
    "plot_tree(dtModel, max_depth=1, filled=True, feature_names=f_names)\n",
    "plt.savefig('tree.png')  # 현재 figure에 있는 그래프 파일로 저장\n",
    "plt.show()"
   ]
  },
  {
   "cell_type": "markdown",
   "id": "4c903e30",
   "metadata": {},
   "source": [
    "### 모델 속성 확인\n",
    "---\n",
    "- DT에서 속성들 중에서 속성도 중요도를 감지 가능\n",
    "- Feature별로 특성들의 중요도 값\n",
    "- 모든 값 합치면 1"
   ]
  },
  {
   "cell_type": "code",
   "execution_count": 338,
   "id": "77391dda",
   "metadata": {
    "scrolled": true
   },
   "outputs": [
    {
     "data": {
      "text/plain": [
       "(0.6954632181471273, 20, 'worst perimeter')"
      ]
     },
     "execution_count": 338,
     "metadata": {},
     "output_type": "execute_result"
    }
   ],
   "source": [
    "dtModel.feature_importances_.max(), dtModel.feature_importances_.argmax(), f_names[22]"
   ]
  },
  {
   "cell_type": "code",
   "execution_count": 339,
   "id": "b403aaf9",
   "metadata": {},
   "outputs": [
    {
     "data": {
      "image/png": "[encoded data removed]",
      "text/plain": [
       "<Figure size 432x288 with 1 Axes>"
      ]
     },
     "metadata": {
      "needs_background": "light"
     },
     "output_type": "display_data"
    }
   ],
   "source": [
    "plt.barh(y=f_names, width=dtModel.feature_importances_)\n",
    "plt.show()"
   ]
  },
  {
   "cell_type": "markdown",
   "id": "4cc41e61",
   "metadata": {},
   "source": [
    "# "
   ]
  },
  {
   "cell_type": "markdown",
   "id": "4fd2d173",
   "metadata": {},
   "source": [
    "### RandomForest 학습 모델\n",
    "---\n",
    "- 100개 DecisionTree 모델\n",
    "- 중복허용된 랜덤샘플 데이터 + DecisionTree 모델"
   ]
  },
  {
   "cell_type": "code",
   "execution_count": 340,
   "id": "c308c1c4",
   "metadata": {},
   "outputs": [],
   "source": [
    "from sklearn.ensemble import RandomForestClassifier"
   ]
  },
  {
   "cell_type": "code",
   "execution_count": 341,
   "id": "e95eef4c",
   "metadata": {},
   "outputs": [],
   "source": [
    "# oob_score_ : 중복허용랜덤샘플에 포함되지 않은 데이터 => 검증용으로 사용\n",
    "forestModel = RandomForestClassifier(max_depth=5,\n",
    "                                     oob_score=True)"
   ]
  },
  {
   "cell_type": "code",
   "execution_count": 342,
   "id": "c6493a1c",
   "metadata": {},
   "outputs": [
    {
     "data": {
      "text/plain": [
       "RandomForestClassifier(max_depth=5, oob_score=True)"
      ]
     },
     "execution_count": 342,
     "metadata": {},
     "output_type": "execute_result"
    }
   ],
   "source": [
    "forestModel.fit(train_X, train_y)"
   ]
  },
  {
   "cell_type": "code",
   "execution_count": 343,
   "id": "c0a9fd78",
   "metadata": {},
   "outputs": [
    {
     "name": "stdout",
     "output_type": "stream",
     "text": [
      "classes_ : [0 1]\n"
     ]
    }
   ],
   "source": [
    "# 모델 학습 후 속성 -----------------------\n",
    "print(f'classes_ : {forestModel.classes_}')"
   ]
  },
  {
   "cell_type": "code",
   "execution_count": 344,
   "id": "1e0c06d6",
   "metadata": {},
   "outputs": [
    {
     "name": "stdout",
     "output_type": "stream",
     "text": [
      "base_estimator_ : DecisionTreeClassifier()\n"
     ]
    }
   ],
   "source": [
    "print(f'base_estimator_ : {forestModel.base_estimator_}')"
   ]
  },
  {
   "cell_type": "code",
   "execution_count": 345,
   "id": "20577658",
   "metadata": {
    "collapsed": true
   },
   "outputs": [
    {
     "name": "stdout",
     "output_type": "stream",
     "text": [
      "estimators_ : [DecisionTreeClassifier(max_depth=5, max_features='auto',\n",
      "                       random_state=1283151195), DecisionTreeClassifier(max_depth=5, max_features='auto',\n",
      "                       random_state=1488805138), DecisionTreeClassifier(max_depth=5, max_features='auto',\n",
      "                       random_state=1605745690), DecisionTreeClassifier(max_depth=5, max_features='auto',\n",
      "                       random_state=1941805269), DecisionTreeClassifier(max_depth=5, max_features='auto',\n",
      "                       random_state=1100125852), DecisionTreeClassifier(max_depth=5, max_features='auto', random_state=713426899), DecisionTreeClassifier(max_depth=5, max_features='auto', random_state=108694200), DecisionTreeClassifier(max_depth=5, max_features='auto', random_state=983831195), DecisionTreeClassifier(max_depth=5, max_features='auto',\n",
      "                       random_state=1461376464), DecisionTreeClassifier(max_depth=5, max_features='auto',\n",
      "                       random_state=1566891447), DecisionTreeClassifier(max_depth=5, max_features='auto',\n",
      "                       random_state=2065019166), DecisionTreeClassifier(max_depth=5, max_features='auto', random_state=828239083), DecisionTreeClassifier(max_depth=5, max_features='auto',\n",
      "                       random_state=1161108420), DecisionTreeClassifier(max_depth=5, max_features='auto', random_state=197203430), DecisionTreeClassifier(max_depth=5, max_features='auto',\n",
      "                       random_state=1782560677), DecisionTreeClassifier(max_depth=5, max_features='auto', random_state=914108242), DecisionTreeClassifier(max_depth=5, max_features='auto',\n",
      "                       random_state=1477986388), DecisionTreeClassifier(max_depth=5, max_features='auto',\n",
      "                       random_state=2066697351), DecisionTreeClassifier(max_depth=5, max_features='auto',\n",
      "                       random_state=1549906889), DecisionTreeClassifier(max_depth=5, max_features='auto', random_state=395254850), DecisionTreeClassifier(max_depth=5, max_features='auto', random_state=951045333), DecisionTreeClassifier(max_depth=5, max_features='auto',\n",
      "                       random_state=1473940025), DecisionTreeClassifier(max_depth=5, max_features='auto', random_state=737808387), DecisionTreeClassifier(max_depth=5, max_features='auto',\n",
      "                       random_state=1388357538), DecisionTreeClassifier(max_depth=5, max_features='auto', random_state=507967824), DecisionTreeClassifier(max_depth=5, max_features='auto', random_state=172205635), DecisionTreeClassifier(max_depth=5, max_features='auto', random_state=944876514), DecisionTreeClassifier(max_depth=5, max_features='auto', random_state=705345002), DecisionTreeClassifier(max_depth=5, max_features='auto',\n",
      "                       random_state=1029850415), DecisionTreeClassifier(max_depth=5, max_features='auto', random_state=273289318), DecisionTreeClassifier(max_depth=5, max_features='auto',\n",
      "                       random_state=1875780945), DecisionTreeClassifier(max_depth=5, max_features='auto',\n",
      "                       random_state=1361071665), DecisionTreeClassifier(max_depth=5, max_features='auto',\n",
      "                       random_state=1176878616), DecisionTreeClassifier(max_depth=5, max_features='auto',\n",
      "                       random_state=1204406085), DecisionTreeClassifier(max_depth=5, max_features='auto', random_state=414032660), DecisionTreeClassifier(max_depth=5, max_features='auto',\n",
      "                       random_state=1649333660), DecisionTreeClassifier(max_depth=5, max_features='auto',\n",
      "                       random_state=1721689048), DecisionTreeClassifier(max_depth=5, max_features='auto',\n",
      "                       random_state=1415841161), DecisionTreeClassifier(max_depth=5, max_features='auto',\n",
      "                       random_state=1822026427), DecisionTreeClassifier(max_depth=5, max_features='auto', random_state=446362121), DecisionTreeClassifier(max_depth=5, max_features='auto', random_state=32945469), DecisionTreeClassifier(max_depth=5, max_features='auto',\n",
      "                       random_state=1025266467), DecisionTreeClassifier(max_depth=5, max_features='auto', random_state=164974097), DecisionTreeClassifier(max_depth=5, max_features='auto', random_state=771652606), DecisionTreeClassifier(max_depth=5, max_features='auto',\n",
      "                       random_state=1181736970), DecisionTreeClassifier(max_depth=5, max_features='auto',\n",
      "                       random_state=1224494099), DecisionTreeClassifier(max_depth=5, max_features='auto',\n",
      "                       random_state=2020351641), DecisionTreeClassifier(max_depth=5, max_features='auto', random_state=115318016), DecisionTreeClassifier(max_depth=5, max_features='auto', random_state=785410552), DecisionTreeClassifier(max_depth=5, max_features='auto',\n",
      "                       random_state=1760615296), DecisionTreeClassifier(max_depth=5, max_features='auto', random_state=203509534), DecisionTreeClassifier(max_depth=5, max_features='auto',\n",
      "                       random_state=1256146606), DecisionTreeClassifier(max_depth=5, max_features='auto', random_state=155972661), DecisionTreeClassifier(max_depth=5, max_features='auto',\n",
      "                       random_state=1263502212), DecisionTreeClassifier(max_depth=5, max_features='auto',\n",
      "                       random_state=2103662094), DecisionTreeClassifier(max_depth=5, max_features='auto', random_state=144380145), DecisionTreeClassifier(max_depth=5, max_features='auto',\n",
      "                       random_state=1891578385), DecisionTreeClassifier(max_depth=5, max_features='auto',\n",
      "                       random_state=1989101107), DecisionTreeClassifier(max_depth=5, max_features='auto', random_state=940874521), DecisionTreeClassifier(max_depth=5, max_features='auto', random_state=414943385), DecisionTreeClassifier(max_depth=5, max_features='auto', random_state=206169094), DecisionTreeClassifier(max_depth=5, max_features='auto', random_state=230834465), DecisionTreeClassifier(max_depth=5, max_features='auto', random_state=911184375), DecisionTreeClassifier(max_depth=5, max_features='auto', random_state=775384233), DecisionTreeClassifier(max_depth=5, max_features='auto', random_state=735511607), DecisionTreeClassifier(max_depth=5, max_features='auto',\n",
      "                       random_state=1658109921), DecisionTreeClassifier(max_depth=5, max_features='auto', random_state=861325077), DecisionTreeClassifier(max_depth=5, max_features='auto',\n",
      "                       random_state=1114528341), DecisionTreeClassifier(max_depth=5, max_features='auto',\n",
      "                       random_state=1496583637), DecisionTreeClassifier(max_depth=5, max_features='auto', random_state=36476981), DecisionTreeClassifier(max_depth=5, max_features='auto',\n",
      "                       random_state=1440806365), DecisionTreeClassifier(max_depth=5, max_features='auto', random_state=519404430), DecisionTreeClassifier(max_depth=5, max_features='auto',\n",
      "                       random_state=1128437878), DecisionTreeClassifier(max_depth=5, max_features='auto',\n",
      "                       random_state=1010599917), DecisionTreeClassifier(max_depth=5, max_features='auto', random_state=803443057), DecisionTreeClassifier(max_depth=5, max_features='auto',\n",
      "                       random_state=1823408235), DecisionTreeClassifier(max_depth=5, max_features='auto',\n",
      "                       random_state=1595691147), DecisionTreeClassifier(max_depth=5, max_features='auto', random_state=984871334), DecisionTreeClassifier(max_depth=5, max_features='auto',\n",
      "                       random_state=1512426375), DecisionTreeClassifier(max_depth=5, max_features='auto', random_state=756172515), DecisionTreeClassifier(max_depth=5, max_features='auto', random_state=589254577), DecisionTreeClassifier(max_depth=5, max_features='auto',\n",
      "                       random_state=1953275463), DecisionTreeClassifier(max_depth=5, max_features='auto',\n",
      "                       random_state=1713374970), DecisionTreeClassifier(max_depth=5, max_features='auto', random_state=958785093), DecisionTreeClassifier(max_depth=5, max_features='auto',\n",
      "                       random_state=1455827260), DecisionTreeClassifier(max_depth=5, max_features='auto',\n",
      "                       random_state=1560237574), DecisionTreeClassifier(max_depth=5, max_features='auto', random_state=922596847), DecisionTreeClassifier(max_depth=5, max_features='auto',\n",
      "                       random_state=1667484997), DecisionTreeClassifier(max_depth=5, max_features='auto',\n",
      "                       random_state=1605579398), DecisionTreeClassifier(max_depth=5, max_features='auto', random_state=228341309), DecisionTreeClassifier(max_depth=5, max_features='auto', random_state=328893742), DecisionTreeClassifier(max_depth=5, max_features='auto', random_state=415617558), DecisionTreeClassifier(max_depth=5, max_features='auto',\n",
      "                       random_state=1673946760), DecisionTreeClassifier(max_depth=5, max_features='auto',\n",
      "                       random_state=1581220580), DecisionTreeClassifier(max_depth=5, max_features='auto',\n",
      "                       random_state=1626958092), DecisionTreeClassifier(max_depth=5, max_features='auto',\n",
      "                       random_state=2051718933), DecisionTreeClassifier(max_depth=5, max_features='auto', random_state=392391116), DecisionTreeClassifier(max_depth=5, max_features='auto',\n",
      "                       random_state=1645512174), DecisionTreeClassifier(max_depth=5, max_features='auto',\n",
      "                       random_state=1098400972), DecisionTreeClassifier(max_depth=5, max_features='auto',\n",
      "                       random_state=1662925237)]\n"
     ]
    }
   ],
   "source": [
    "print(f'estimators_ : {forestModel.estimators_}')"
   ]
  },
  {
   "cell_type": "code",
   "execution_count": 346,
   "id": "dc3e2e4f",
   "metadata": {},
   "outputs": [
    {
     "name": "stdout",
     "output_type": "stream",
     "text": [
      "oob_score : 0.9530516431924883\n"
     ]
    }
   ],
   "source": [
    "print(f'oob_score_ : {forestModel.oob_score_}')"
   ]
  },
  {
   "cell_type": "code",
   "execution_count": 347,
   "id": "10caecd6",
   "metadata": {},
   "outputs": [],
   "source": [
    "bestModel=forestModel.base_estimator_"
   ]
  },
  {
   "cell_type": "code",
   "execution_count": 348,
   "id": "42e5c55b",
   "metadata": {},
   "outputs": [],
   "source": [
    "## 평가\n",
    "train_score=forestModel.score(train_X, train_y)\n",
    "test_score=forestModel.score(test_X, test_y)"
   ]
  },
  {
   "cell_type": "code",
   "execution_count": 349,
   "id": "86ec1998",
   "metadata": {},
   "outputs": [
    {
     "data": {
      "text/plain": [
       "(0.9929577464788732, 0.958041958041958)"
      ]
     },
     "execution_count": 349,
     "metadata": {},
     "output_type": "execute_result"
    }
   ],
   "source": [
    "train_score, test_score"
   ]
  },
  {
   "cell_type": "code",
   "execution_count": 350,
   "id": "d098b272",
   "metadata": {},
   "outputs": [
    {
     "data": {
      "text/plain": [
       "array([0.02217913, 0.00972294, 0.05540952, 0.0336098 , 0.00651543,\n",
       "       0.00685806, 0.07354371, 0.11456782, 0.00564166, 0.00179543,\n",
       "       0.013239  , 0.00410065, 0.00664662, 0.03465711, 0.00358957,\n",
       "       0.00391723, 0.00638913, 0.00470487, 0.0033837 , 0.00581147,\n",
       "       0.09159256, 0.01735314, 0.1099263 , 0.15004048, 0.00730778,\n",
       "       0.01013593, 0.06041682, 0.12126924, 0.01020111, 0.00547379])"
      ]
     },
     "execution_count": 350,
     "metadata": {},
     "output_type": "execute_result"
    }
   ],
   "source": [
    "# 특정 중요도 저장 속성 그래프 출력\n",
    "forestModel.feature_importances_"
   ]
  },
  {
   "cell_type": "code",
   "execution_count": 351,
   "id": "83ee3c13",
   "metadata": {},
   "outputs": [
    {
     "name": "stderr",
     "output_type": "stream",
     "text": [
      "C:\\ProgramData\\Anaconda3\\lib\\site-packages\\sklearn\\utils\\deprecation.py:103: FutureWarning: Attribute `n_features_` was deprecated in version 1.0 and will be removed in 1.2. Use `n_features_in_` instead.\n",
      "  warnings.warn(msg, category=FutureWarning)\n"
     ]
    },
    {
     "data": {
      "text/plain": [
       "30"
      ]
     },
     "execution_count": 351,
     "metadata": {},
     "output_type": "execute_result"
    }
   ],
   "source": [
    "forestModel.n_features_"
   ]
  },
  {
   "cell_type": "code",
   "execution_count": 352,
   "id": "4f9d457f",
   "metadata": {},
   "outputs": [
    {
     "data": {
      "image/png": "[encoded data removed]",
      "text/plain": [
       "<Figure size 432x288 with 1 Axes>"
      ]
     },
     "metadata": {
      "needs_background": "light"
     },
     "output_type": "display_data"
    }
   ],
   "source": [
    "import numpy as np\n",
    "# plt.barh(y=np.ararnge(forestModel.n_features_), \n",
    "plt.barh(y=f_names,\n",
    "        width=forestModel.feature_importances_)\n",
    "\n",
    "plt.show()"
   ]
  },
  {
   "cell_type": "code",
   "execution_count": null,
   "id": "90a4d99d",
   "metadata": {},
   "outputs": [],
   "source": []
  }
 ],
 "metadata": {
  "kernelspec": {
   "display_name": "Python 3 (ipykernel)",
   "language": "python",
   "name": "python3"
  },
  "language_info": {
   "codemirror_mode": {
    "name": "ipython",
    "version": 3
   },
   "file_extension": ".py",
   "mimetype": "text/x-python",
   "name": "python",
   "nbconvert_exporter": "python",
   "pygments_lexer": "ipython3",
   "version": "3.9.12"
  }
 },
 "nbformat": 4,
 "nbformat_minor": 5
}
