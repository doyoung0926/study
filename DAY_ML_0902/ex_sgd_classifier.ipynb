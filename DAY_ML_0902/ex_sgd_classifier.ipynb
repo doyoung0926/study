{
 "cells": [
  {
   "cell_type": "markdown",
   "id": "4c88da64",
   "metadata": {},
   "source": [
    "# SGDClassifier\n",
    "---\n",
    "- LogisiticRegression에 SGD 경사하강법을 적용한 모델\n",
    "- 필수 설정 파라미터\n",
    "    * loss pram : 이진/다중 손실함수 이름 지정"
   ]
  },
  {
   "cell_type": "code",
   "execution_count": null,
   "id": "e9b4cc71",
   "metadata": {},
   "outputs": [],
   "source": []
  }
 ],
 "metadata": {
  "kernelspec": {
   "display_name": "Python 3 (ipykernel)",
   "language": "python",
   "name": "python3"
  },
  "language_info": {
   "codemirror_mode": {
    "name": "ipython",
    "version": 3
   },
   "file_extension": ".py",
   "mimetype": "text/x-python",
   "name": "python",
   "nbconvert_exporter": "python",
   "pygments_lexer": "ipython3",
   "version": "3.9.12"
  }
 },
 "nbformat": 4,
 "nbformat_minor": 5
}
