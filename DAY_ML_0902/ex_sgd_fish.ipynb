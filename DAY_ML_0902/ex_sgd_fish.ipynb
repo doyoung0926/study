{
 "cells": [
  {
   "cell_type": "markdown",
   "id": "62dcc364",
   "metadata": {},
   "source": [
    "# SGD Classifier\n",
    "---\n",
    "- LogisticRegression + SGD(확률적경사하강법) 적용한 분류\n",
    "- 필수 파라미터 => 손실함수 설정"
   ]
  },
  {
   "cell_type": "code",
   "execution_count": 278,
   "id": "e78aba39",
   "metadata": {},
   "outputs": [],
   "source": [
    "# 모듈 로딩 ------------------------------\n",
    "import pandas as pd\n",
    "import numpy as np\n",
    "from sklearn.model_selection import train_test_split\n",
    "from sklearn.preprocessing import StandardScaler\n",
    "from sklearn.linear_model import SGDClassifier"
   ]
  },
  {
   "cell_type": "code",
   "execution_count": 279,
   "id": "d121ac10",
   "metadata": {},
   "outputs": [],
   "source": [
    "# 경고 무시 -------------------------------------\n",
    "# 향후 deprecated 된다는 경고 출력 막음\n",
    "import warnings\n",
    "warnings.filterwarnings(action='ignore')"
   ]
  },
  {
   "cell_type": "code",
   "execution_count": 280,
   "id": "6851221b",
   "metadata": {},
   "outputs": [],
   "source": [
    "# 파일 관련 --------------------------\n",
    "FILE='./data/fish.csv'"
   ]
  },
  {
   "cell_type": "markdown",
   "id": "68163b5e",
   "metadata": {},
   "source": [
    "### [1] 데이터 준비\n",
    "---"
   ]
  },
  {
   "cell_type": "code",
   "execution_count": 281,
   "id": "ac396ff6",
   "metadata": {},
   "outputs": [],
   "source": [
    "fish = pd.read_csv(FILE)"
   ]
  },
  {
   "cell_type": "code",
   "execution_count": 282,
   "id": "40fe5d1e",
   "metadata": {
    "scrolled": true
   },
   "outputs": [
    {
     "name": "stdout",
     "output_type": "stream",
     "text": [
      "(159, 6)\n",
      "\n",
      "Index(['Species', 'Weight', 'Length', 'Diagonal', 'Height', 'Width'], dtype='object')\n"
     ]
    }
   ],
   "source": [
    "print(fish.shape, fish.columns, sep='\\n\\n')"
   ]
  },
  {
   "cell_type": "code",
   "execution_count": 283,
   "id": "3e4b09ef",
   "metadata": {},
   "outputs": [
    {
     "data": {
      "text/plain": [
       "Index(['Weight', 'Length', 'Diagonal', 'Height', 'Width'], dtype='object')"
      ]
     },
     "execution_count": 283,
     "metadata": {},
     "output_type": "execute_result"
    }
   ],
   "source": [
    "fish.columns[1:]"
   ]
  },
  {
   "cell_type": "code",
   "execution_count": 284,
   "id": "9f2d1f44",
   "metadata": {},
   "outputs": [],
   "source": [
    "# 특성 데이터 + 타겟 분리\n",
    "fish_input = fish[['Weight','Length','Diagonal','Height','Width']].to_numpy()\n",
    "# fish_input = fish[fish.columns[1:]].to_numpy()\n",
    "fish_target = fish['Species'].to_numpy()"
   ]
  },
  {
   "cell_type": "code",
   "execution_count": 285,
   "id": "10a12e6e",
   "metadata": {},
   "outputs": [],
   "source": [
    "## 학습용, 테스트용 데이터 분리 => 8 : 2\n",
    "## random_state : 학습 시 랜덤한 동일 데이터로 진행 위해 사용\n",
    "train_input, test_input, train_target, test_target = train_test_split(\n",
    "fish_input, fish_target, random_state=42)"
   ]
  },
  {
   "cell_type": "code",
   "execution_count": 286,
   "id": "19c65d23",
   "metadata": {},
   "outputs": [],
   "source": [
    "## 표준화 평균0, 표준편차 1\n",
    "from sklearn.preprocessing import StandardScaler\n",
    "\n",
    "ss = StandardScaler()\n",
    "ss.fit(train_input)\n",
    "train_scaled = ss.transform(train_input)\n",
    "test_scaled = ss.transform(test_input)"
   ]
  },
  {
   "cell_type": "markdown",
   "id": "fdb7725e",
   "metadata": {},
   "source": [
    "### [2] 모델 생성 및 함수"
   ]
  },
  {
   "cell_type": "code",
   "execution_count": 287,
   "id": "bcda5b7c",
   "metadata": {},
   "outputs": [],
   "source": [
    "from sklearn.linear_model import SGDClassifier"
   ]
  },
  {
   "cell_type": "code",
   "execution_count": 288,
   "id": "9cdd926e",
   "metadata": {},
   "outputs": [
    {
     "data": {
      "text/plain": [
       "SGDClassifier(loss='log', max_iter=10, random_state=42)"
      ]
     },
     "execution_count": 288,
     "metadata": {},
     "output_type": "execute_result"
    }
   ],
   "source": [
    "# 최적화 경사하강법 변경 => BGD => SGD\n",
    "# loss = 손실함수 : 모델에 따라 다름  ==> 'log' 곧 deprecated 예정\n",
    "# max_iter = 1000 기본값 : 학습 횟수\n",
    "sc = SGDClassifier(loss='log',\n",
    "                   max_iter = 10,\n",
    "                   random_state=42)\n",
    "# 학습 진행 fit(): 반복 횟수 즉 max_iter 만큼 학습 진행\n",
    "sc.fit(train_scaled, train_target)"
   ]
  },
  {
   "cell_type": "code",
   "execution_count": 289,
   "id": "376815bb",
   "metadata": {},
   "outputs": [
    {
     "name": "stdout",
     "output_type": "stream",
     "text": [
      "0.773109243697479\n",
      "0.775\n"
     ]
    }
   ],
   "source": [
    "print(sc.score(train_scaled, train_target))\n",
    "print(sc.score(test_scaled, test_target))"
   ]
  },
  {
   "cell_type": "code",
   "execution_count": 290,
   "id": "4ec53695",
   "metadata": {},
   "outputs": [
    {
     "name": "stdout",
     "output_type": "stream",
     "text": [
      "0.8151260504201681\n",
      "0.85\n"
     ]
    }
   ],
   "source": [
    "## partial_fit() - 1 epoch만 학습 진행\n",
    "sc.partial_fit(train_scaled, train_target)\n",
    "\n",
    "print(sc.score(train_scaled, train_target))\n",
    "print(sc.score(test_scaled, test_target))"
   ]
  },
  {
   "cell_type": "markdown",
   "id": "fe66a8ca",
   "metadata": {},
   "source": [
    "### 학습 횟수(epoch)와 과/소적합"
   ]
  },
  {
   "cell_type": "code",
   "execution_count": 291,
   "id": "ac223859",
   "metadata": {},
   "outputs": [],
   "source": [
    "# 기본 max_iter=1000\n",
    "sc = SGDClassifier(loss='log', random_state=42)\n",
    "\n",
    "train_score=[]\n",
    "test_score=[]\n",
    "\n",
    "# 분류 항목\n",
    "classes = np.unique(train_target)"
   ]
  },
  {
   "cell_type": "code",
   "execution_count": 292,
   "id": "a1375dd5",
   "metadata": {},
   "outputs": [
    {
     "name": "stdout",
     "output_type": "stream",
     "text": [
      "calssese : \n"
     ]
    },
    {
     "data": {
      "text/plain": [
       "(None,\n",
       " array(['Bream', 'Parkki', 'Perch', 'Pike', 'Roach', 'Smelt', 'Whitefish'],\n",
       "       dtype=object))"
      ]
     },
     "execution_count": 292,
     "metadata": {},
     "output_type": "execute_result"
    }
   ],
   "source": [
    "print('calssese : '), classes"
   ]
  },
  {
   "cell_type": "code",
   "execution_count": 293,
   "id": "81f20553",
   "metadata": {},
   "outputs": [],
   "source": [
    "# epoch 수 변화 시키며 모델 평가\n",
    "for _ in range(0, 300):\n",
    "    sc.partial_fit(train_scaled, train_target, classes=classes)\n",
    "    \n",
    "    train_score.append(sc.score(train_scaled, train_target))\n",
    "    test_score.append(sc.score(test_scaled, test_target))"
   ]
  },
  {
   "cell_type": "code",
   "execution_count": 294,
   "id": "1fe5bb8d",
   "metadata": {},
   "outputs": [
    {
     "data": {
      "image/png": "[encoded data removed]",
      "text/plain": [
       "<Figure size 432x288 with 1 Axes>"
      ]
     },
     "metadata": {
      "needs_background": "light"
     },
     "output_type": "display_data"
    }
   ],
   "source": [
    "import matplotlib.pyplot as plt\n",
    "\n",
    "plt.plot(train_score, color = 'r')\n",
    "plt.plot(test_score)\n",
    "plt.xlabel('epoch')\n",
    "plt.ylabel('accuracy')\n",
    "plt.show()"
   ]
  },
  {
   "cell_type": "code",
   "execution_count": 295,
   "id": "945ac39b",
   "metadata": {},
   "outputs": [],
   "source": [
    "## 최적 epoch 수로 학습 진행"
   ]
  },
  {
   "cell_type": "code",
   "execution_count": 296,
   "id": "ad2afe5d",
   "metadata": {},
   "outputs": [
    {
     "name": "stdout",
     "output_type": "stream",
     "text": [
      "0.957983193277311\n",
      "0.925\n",
      "2000\n"
     ]
    }
   ],
   "source": [
    "sc = SGDClassifier(loss='log', max_iter=2000, tol=None, random_state=42)\n",
    "sc.fit(train_scaled, train_target)\n",
    "\n",
    "print(sc.score(train_scaled, train_target))\n",
    "print(sc.score(test_scaled, test_target))\n",
    "print(sc.n_iter_)"
   ]
  },
  {
   "cell_type": "code",
   "execution_count": 297,
   "id": "d9408986",
   "metadata": {},
   "outputs": [
    {
     "name": "stdout",
     "output_type": "stream",
     "text": [
      "0.8319327731092437\n",
      "0.875\n",
      "11\n"
     ]
    }
   ],
   "source": [
    "# early_stopping : 조기종료 여부 (기:False)\n",
    "# n_iter_no_change : n번 동안 변경되지 않은 경우 early_stopping 이 True\n",
    "# tol : 성능 개선의 기준값\n",
    "sc = SGDClassifier(loss='log', tol=1.0,\n",
    "                  random_state=42,\n",
    "                  n_iter_no_change=10,\n",
    "                  early_stopping=True)\n",
    "sc.fit(train_scaled, train_target)\n",
    "\n",
    "print(sc.score(train_scaled, train_target))\n",
    "print(sc.score(test_scaled, test_target))\n",
    "print(sc.n_iter_)  # _붙은 것은 학습이 다 되어야지 나옴??"
   ]
  },
  {
   "cell_type": "code",
   "execution_count": null,
   "id": "b06f0bbc",
   "metadata": {},
   "outputs": [],
   "source": []
  },
  {
   "cell_type": "code",
   "execution_count": null,
   "id": "871baff9",
   "metadata": {},
   "outputs": [],
   "source": []
  }
 ],
 "metadata": {
  "kernelspec": {
   "display_name": "Python 3 (ipykernel)",
   "language": "python",
   "name": "python3"
  },
  "language_info": {
   "codemirror_mode": {
    "name": "ipython",
    "version": 3
   },
   "file_extension": ".py",
   "mimetype": "text/x-python",
   "name": "python",
   "nbconvert_exporter": "python",
   "pygments_lexer": "ipython3",
   "version": "3.9.12"
  }
 },
 "nbformat": 4,
 "nbformat_minor": 5
}
