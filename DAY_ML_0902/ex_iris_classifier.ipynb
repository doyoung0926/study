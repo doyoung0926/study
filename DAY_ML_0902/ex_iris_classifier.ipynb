{
 "cells": [
  {
   "cell_type": "code",
   "execution_count": 1,
   "id": "42c95ca9",
   "metadata": {},
   "outputs": [],
   "source": [
    "from sklearn.datasets import load_iris\n",
    "from sklearn.linear_model import LogisticRegression\n",
    "from sklearn.model_selection import train_test_split\n",
    "import numpy as np"
   ]
  },
  {
   "cell_type": "code",
   "execution_count": 2,
   "id": "8ea202a2",
   "metadata": {},
   "outputs": [],
   "source": [
    "iris = load_iris()"
   ]
  },
  {
   "cell_type": "code",
   "execution_count": 3,
   "id": "e91ed76d",
   "metadata": {},
   "outputs": [],
   "source": [
    "data = iris.data"
   ]
  },
  {
   "cell_type": "code",
   "execution_count": 4,
   "id": "3a6cfa51",
   "metadata": {},
   "outputs": [],
   "source": [
    "target = iris.target"
   ]
  },
  {
   "cell_type": "code",
   "execution_count": 7,
   "id": "a4e6aec0",
   "metadata": {},
   "outputs": [
    {
     "data": {
      "text/plain": [
       "((150, 4), (150,), numpy.ndarray, numpy.ndarray)"
      ]
     },
     "execution_count": 7,
     "metadata": {},
     "output_type": "execute_result"
    }
   ],
   "source": [
    "data.shape, target.shape, type(data), type(target)"
   ]
  },
  {
   "cell_type": "code",
   "execution_count": 11,
   "id": "2c0e0e16",
   "metadata": {},
   "outputs": [],
   "source": [
    "model = LogisticRegression(max_iter=500)"
   ]
  },
  {
   "cell_type": "code",
   "execution_count": 12,
   "id": "7cc035b1",
   "metadata": {},
   "outputs": [
    {
     "data": {
      "text/plain": [
       "LogisticRegression(max_iter=500)"
      ]
     },
     "execution_count": 12,
     "metadata": {},
     "output_type": "execute_result"
    }
   ],
   "source": [
    "model.fit(data, target)"
   ]
  },
  {
   "cell_type": "code",
   "execution_count": 15,
   "id": "43e901db",
   "metadata": {},
   "outputs": [
    {
     "name": "stdout",
     "output_type": "stream",
     "text": [
      "classes_ :  [0 1 2]\n",
      "coef_ :  [[-0.42434519  0.96692807 -2.51720846 -1.07938946]\n",
      " [ 0.53499003 -0.32132698 -0.20620328 -0.94424639]\n",
      " [-0.11064484 -0.64560109  2.72341174  2.02363584]]\n",
      "intercept_ :  [  9.85512128   2.23277161 -12.08789289]\n"
     ]
    }
   ],
   "source": [
    "# 선형계수 즉 기울기w ==> 특성 Feature 마다 곱하기\n",
    "print('classes_ : ', model.classes_)\n",
    "print('coef_ : ', model.coef_)\n",
    "print('intercept_ : ', model.intercept_)"
   ]
  },
  {
   "cell_type": "code",
   "execution_count": 29,
   "id": "1323c553",
   "metadata": {},
   "outputs": [
    {
     "data": {
      "text/plain": [
       "array([[6.7, 3. , 5.2, 2.3],\n",
       "       [6.3, 2.5, 5. , 1.9],\n",
       "       [6.5, 3. , 5.2, 2. ],\n",
       "       [6.2, 3.4, 5.4, 2.3],\n",
       "       [5.9, 3. , 5.1, 1.8]])"
      ]
     },
     "execution_count": 29,
     "metadata": {},
     "output_type": "execute_result"
    }
   ],
   "source": [
    "data[145:]"
   ]
  },
  {
   "cell_type": "code",
   "execution_count": 30,
   "id": "587f74dc",
   "metadata": {},
   "outputs": [
    {
     "name": "stdout",
     "output_type": "stream",
     "text": [
      "[[-5.65928705  1.60920009  4.05008696]]\n"
     ]
    }
   ],
   "source": [
    "new_data = [6.7, 3. , 5.2, 2.3]\n",
    "\n",
    "ret = model.decision_function([new_data])\n",
    "print(ret)"
   ]
  },
  {
   "cell_type": "code",
   "execution_count": 37,
   "id": "7b4ce3fb",
   "metadata": {},
   "outputs": [
    {
     "name": "stdout",
     "output_type": "stream",
     "text": [
      "y =  -5.659287048399767 y =  1.609200091042602 y =  4.050086957356793 "
     ]
    }
   ],
   "source": [
    "from scipy.special import softmax\n",
    "\n",
    "# y = aw1 + bw2 + cw3 + dw4 + b\n",
    "values = []\n",
    "for i in range(3):\n",
    "    y = model.coef_[i][0]*new_data[0] +\\\n",
    "        model.coef_[i][1]*new_data[1] +\\\n",
    "        model.coef_[i][2]*new_data[2] +\\\n",
    "        model.coef_[i][3]*new_data[3] + model.intercept_[i]\n",
    "    print('y = ', y, end = ' ')\n",
    "    values.append(y)\n",
    "arrValue = np.array(values)\n",
    "#     print('softmax => ', np.round(softmax(y)))"
   ]
  },
  {
   "cell_type": "code",
   "execution_count": 38,
   "id": "3628c6f7",
   "metadata": {},
   "outputs": [
    {
     "data": {
      "text/plain": [
       "array([[0.  , 0.08, 0.92]])"
      ]
     },
     "execution_count": 38,
     "metadata": {},
     "output_type": "execute_result"
    }
   ],
   "source": [
    "np.round(softmax(ret), 3)"
   ]
  },
  {
   "cell_type": "code",
   "execution_count": null,
   "id": "9f3dfea9",
   "metadata": {},
   "outputs": [],
   "source": []
  }
 ],
 "metadata": {
  "kernelspec": {
   "display_name": "Python 3 (ipykernel)",
   "language": "python",
   "name": "python3"
  },
  "language_info": {
   "codemirror_mode": {
    "name": "ipython",
    "version": 3
   },
   "file_extension": ".py",
   "mimetype": "text/x-python",
   "name": "python",
   "nbconvert_exporter": "python",
   "pygments_lexer": "ipython3",
   "version": "3.9.12"
  }
 },
 "nbformat": 4,
 "nbformat_minor": 5
}
