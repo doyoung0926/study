{
 "cells": [
  {
   "cell_type": "code",
   "execution_count": 1,
   "id": "262e03ae",
   "metadata": {},
   "outputs": [],
   "source": [
    "# 모듈 로딩\n",
    "import pandas as pd"
   ]
  },
  {
   "cell_type": "code",
   "execution_count": 2,
   "id": "4c3d960f",
   "metadata": {},
   "outputs": [
    {
     "name": "stderr",
     "output_type": "stream",
     "text": [
      "C:\\ProgramData\\Anaconda3\\lib\\site-packages\\openpyxl\\styles\\stylesheet.py:226: UserWarning: Workbook contains no default style, apply openpyxl's default\n",
      "  warn(\"Workbook contains no default style, apply openpyxl's default\")\n"
     ]
    },
    {
     "name": "stdout",
     "output_type": "stream",
     "text": [
      "<class 'pandas.core.frame.DataFrame'>\n",
      "RangeIndex: 3693 entries, 0 to 3692\n",
      "Data columns (total 4 columns):\n",
      " #   Column  Non-Null Count  Dtype  \n",
      "---  ------  --------------  -----  \n",
      " 0   시점      21 non-null     float64\n",
      " 1   구분(1)   413 non-null    object \n",
      " 2   항목      3693 non-null   object \n",
      " 3   데이터     3693 non-null   float64\n",
      "dtypes: float64(2), object(2)\n",
      "memory usage: 115.5+ KB\n"
     ]
    }
   ],
   "source": [
    "# 파일 로딩\n",
    "df = pd.read_excel('미세먼지배출량.xlsx')\n",
    "df.info()"
   ]
  },
  {
   "cell_type": "code",
   "execution_count": 3,
   "id": "720bd97d",
   "metadata": {},
   "outputs": [
    {
     "data": {
      "text/plain": [
       "0"
      ]
     },
     "execution_count": 3,
     "metadata": {},
     "output_type": "execute_result"
    }
   ],
   "source": [
    "# 데이터 결측치 갯수 파악\n",
    "df['데이터'].isnull().sum()"
   ]
  },
  {
   "cell_type": "code",
   "execution_count": 4,
   "id": "a20248f4",
   "metadata": {},
   "outputs": [],
   "source": [
    "# 이전 값으로 채우기\n",
    "df.fillna(method='ffill', inplace = True)"
   ]
  },
  {
   "cell_type": "code",
   "execution_count": 5,
   "id": "7ab4d742",
   "metadata": {},
   "outputs": [],
   "source": [
    "# 시점 연도로 형 바꾸고 연도로 넣기\n",
    "year = []\n",
    "for i in df['시점']:\n",
    "    i = int(i)\n",
    "    year.append(str(i))\n",
    "    \n",
    "df['시점'] = year\n",
    "\n",
    "years = []\n",
    "for i in pd.to_datetime(df['시점']):\n",
    "    years.append(i.to_period('Y'))\n",
    "    \n",
    "df['시점'] = years"
   ]
  },
  {
   "cell_type": "code",
   "execution_count": 8,
   "id": "fc0fc5a9",
   "metadata": {},
   "outputs": [],
   "source": [
    "df.columns = ['날짜', '행정구역', '항목', '미세먼지배출량']"
   ]
  },
  {
   "cell_type": "code",
   "execution_count": 9,
   "id": "f1d69869",
   "metadata": {},
   "outputs": [],
   "source": [
    "df.to_csv('미세먼지배출량.csv')"
   ]
  }
 ],
 "metadata": {
  "kernelspec": {
   "display_name": "Python 3 (ipykernel)",
   "language": "python",
   "name": "python3"
  },
  "language_info": {
   "codemirror_mode": {
    "name": "ipython",
    "version": 3
   },
   "file_extension": ".py",
   "mimetype": "text/x-python",
   "name": "python",
   "nbconvert_exporter": "python",
   "pygments_lexer": "ipython3",
   "version": "3.9.12"
  }
 },
 "nbformat": 4,
 "nbformat_minor": 5
}
