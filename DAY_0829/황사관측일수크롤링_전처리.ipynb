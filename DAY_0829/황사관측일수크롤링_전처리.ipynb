{
 "cells": [
  {
   "cell_type": "code",
   "execution_count": 1,
   "id": "6cd8f111",
   "metadata": {},
   "outputs": [],
   "source": [
    "# 주소 불러오기\n",
    "from urllib.request import urlopen\n",
    "from bs4 import BeautifulSoup\n",
    "import pandas as pd\n",
    "\n",
    "html=urlopen('https://www.weather.go.kr/w/dust/dust-obs-days.do')\n",
    "bs=BeautifulSoup(html.read(), 'html.parser')\n",
    "\n",
    "select = bs.find('select',{'id':'select-stn'})\n",
    "\n",
    "c=[]\n",
    "for i in select.find_all('option'):\n",
    "    c.append(i.text)\n",
    "\n",
    "uu=[]\n",
    "for i in c:\n",
    "    if ('[' not in i) and (i[0] != ' '):\n",
    "        uu.append(int(i.split(' ')[0]))"
   ]
  },
  {
   "cell_type": "code",
   "execution_count": 2,
   "id": "6526b653",
   "metadata": {},
   "outputs": [],
   "source": [
    "# 지역명 처리??\n",
    "kk=[]\n",
    "for i in c:\n",
    "    if ('[' not in i) and (i[0] != ' '):\n",
    "        kk.append(i.split(' ')[1])\n",
    "        \n",
    "addr = {'서울':'서울특별시','백령도':'백령도','파주(':'파주시',\n",
    "        '동두천':'동두천시','인천':'인천광역시','수원':'수원시',\n",
    "        '강화':'강화군','양평':'양평군','이천':'이천시',\n",
    "        '강릉':'강릉시','북강릉':'북강릉','북춘천':'북춘천',\n",
    "        '춘천':'춘천시','원주':'원주시','대관령':'대관령',\n",
    "        '속초':'속초시','동해':'동해시','철원':'철원군',\n",
    "        '영월':'영월군','인제':'인제군','홍천':'홍천군',\n",
    "        '태백':'태백시','충주':'충주시','청주':'청주시',\n",
    "        '추풍령':'추풍령면','제천':'제천시','보은':'보은군',\n",
    "        '대전':'대전광역시','서산':'서산시','홍성':'홍성군',\n",
    "        '천안':'천안시','보령':'보령시','부여':'부여군',\n",
    "        '금산':'금산군','군산':'군산시','전주':'전주시',\n",
    "        '부안':'부안군','임실':'임실군','정읍':'정읍시',\n",
    "        '남원':'남원시','장수':'장수군','고창':'고창군',\n",
    "        '광주':'광주광역시','목포':'목포시','여수':'여수시',\n",
    "        '완도':'완도군','진도':'진도군','흑산도':'흑산도',\n",
    "        '순천':'순천시','장흥':'장흥군','해남':'해남군',\n",
    "        '고흥':'고흥군','대구(구)':'대구광역시(구)',\n",
    "        '대구(기)':'대구광역시(기)','울진':'울진군','안동':'안동시',\n",
    "        '상주':'상주시','포항':'포항시','울릉도':'울릉군',\n",
    "        '봉화':'봉화군','영주':'영주시','문경':'문경시',\n",
    "        '영덕':'영덕군','의성':'의성군',\n",
    "        '구미':'구미시','영천':'영천시','부산':'부산광역시',\n",
    "        '울산':'울산광역시','창원(':'창원시','통영':'통영시',\n",
    "        '진주':'진주시','거창':'거창군','합천':'합천군',\n",
    "        '밀양':'밀양시','산청':'산청군','거제':'거제시','남해':'남해군',\n",
    "        '제주':'제주특별자치도','고산':'고산리',\n",
    "        '서귀포':'서귀포시','성산(':'성산읍','(구)성산포':'성산읍(구)'}\n",
    "kk = pd.Series(kk)\n",
    "\n",
    "kk = kk.apply(lambda v: addr.get(v, v))"
   ]
  },
  {
   "cell_type": "code",
   "execution_count": 3,
   "id": "754a5692",
   "metadata": {},
   "outputs": [],
   "source": [
    "# 행정구역 설정\n",
    "xx=['서울특별시']\n",
    "aa=['백령도','파주시','동두천시','인천광역시','수원시','강화군','양평군','이천시']\n",
    "bb=['강릉시','북강릉','북춘천','춘천시','원주시','대관령','속초시','동해시',\n",
    "    '철원군','영월군','인제군','홍천군','태백시']\n",
    "cc=['충주시','청주시','추풍령면','제천시','보은군']\n",
    "dd=['대전광역시','서산시','홍성군','천안시','보령시','부여군','금산군']\n",
    "ee=['군산시','전주시','부안군','임실군','정읍시','남원시','장수군','고창군']\n",
    "ff=['광주광역시','목포시','여수시','완도군','진도군','흑산도','순천시','장흥군','해남군','고흥군']\n",
    "gg=['대구광역시(구)','대구광역시(기)','울진군','안동시','상주시','포항시',\n",
    "    '울릉군','봉화군','영주시','문경시','영덕군','의성군','구미시','영천시']\n",
    "hh=['부산광역시','울산광역시','창원시','통영시','진주시','거창군',\n",
    "    '합천군','밀양시','산청군','거제시','남해군']\n",
    "ii=['제주특별자치도','고산리','서귀포시','성산읍','성산읍(구)']"
   ]
  },
  {
   "cell_type": "code",
   "execution_count": 5,
   "id": "3ebf75fb",
   "metadata": {},
   "outputs": [],
   "source": [
    "# 해당 페이지 데이터 프레임 \n",
    "# 마지막((구)성산포)은 데이터가 없으므로 제외하기 !!\n",
    "dfdf0 = list()\n",
    "dfdf1 = list()\n",
    "dfdf2 = list()\n",
    "dfdf3 = list()\n",
    "dfdf4 = list()\n",
    "dfdf5 = list()\n",
    "dfdf6 = list()\n",
    "dfdf7 = list()\n",
    "\n",
    "\n",
    "for file in uu[:81]:\n",
    "    html1=urlopen('https://www.weather.go.kr/w/dust/dust-obs-days.do?type=1&stnId='+str(file))\n",
    "    bs1=BeautifulSoup(html1.read(), 'html.parser')\n",
    "\n",
    "    table = bs1.find('table')\n",
    "\n",
    "    a=[]\n",
    "    for i in table.find_all('tr'):\n",
    "        a.append(i.text.strip())\n",
    "\n",
    "    b=[pd.Series(a[0].split('\\n'))]\n",
    "    for j in range(len(a)-1, 0, -1):\n",
    "        b.append(pd.Series(a[j].split('\\n')))\n",
    "\n",
    "\n",
    "    DF = pd.concat(b, axis = 1).T\n",
    "\n",
    "    DF = DF.replace('.', 0)\n",
    "\n",
    "    day = list()\n",
    "    for i in DF.iloc[1:, 0]:\n",
    "        for j in DF.iloc[0, 1:]:\n",
    "            day.append(i[:-1] + '-' + j[:-1])\n",
    "    day = pd.Series(day)\n",
    "\n",
    "    value=[]\n",
    "    for i in range(1, DF.shape[0]):\n",
    "        value.append(DF.iloc[i, 1:])\n",
    "\n",
    "    values = pd.concat(value)\n",
    "    values = values.astype(int)\n",
    "\n",
    "\n",
    "    df = day.to_frame()\n",
    "    df['1'] = list(values)\n",
    "\n",
    "    df[0] = pd.to_datetime(df[0])\n",
    "\n",
    "    month = list()\n",
    "    for i in df[0]:\n",
    "        month.append(i.to_period('m'))\n",
    "    df[0]=month\n",
    "\n",
    "    df.columns=['날짜', '데이터']\n",
    "    \n",
    "    df.insert(1, '지역', kk[uu.index(file)])\n",
    "    \n",
    "    if df['지역'][0] in xx:\n",
    "        df.insert(2, '행정구역', '서울특별시')\n",
    "    elif df['지역'][0] in aa:\n",
    "        df.insert(2, '행정구역', '경기도')\n",
    "    elif df['지역'][0] in bb:\n",
    "        df.insert(2, '행정구역', '강원도')\n",
    "    elif df['지역'][0] in cc:\n",
    "        df.insert(2, '행정구역', '충청북도')\n",
    "    elif df['지역'][0] in dd:\n",
    "        df.insert(2, '행정구역', '충청남도')\n",
    "    elif df['지역'][0] in ee:\n",
    "        df.insert(2, '행정구역', '전라북도')\n",
    "    elif df['지역'][0] in ff:\n",
    "        df.insert(2, '행정구역', '전라남도')\n",
    "    elif df['지역'][0] in gg:\n",
    "        df.insert(2, '행정구역', '경상북도')\n",
    "    elif df['지역'][0] in hh:\n",
    "        df.insert(2, '행정구역', '경상남도')\n",
    "    elif df['지역'][0] in ii:\n",
    "        df.insert(2, '행정구역', '제주특별자치도')\n",
    "    \n",
    "    dfdf0.append(df)\n",
    "#     df.to_csv('./yellow/'+str(kk[uu.index(file)])+'.csv')"
   ]
  },
  {
   "cell_type": "code",
   "execution_count": null,
   "id": "c43cc90a",
   "metadata": {},
   "outputs": [],
   "source": [
    "# # 하나씩 csv 파일로 내보내기\n",
    "# x0=pd.concat(dfdf0)\n",
    "# x0.to_csv('./xxx/x0.csv')\n",
    "\n",
    "# x1=pd.concat(dfdf1)\n",
    "# x1.to_csv('./xxx/x1.csv')\n",
    "\n",
    "# x2=pd.concat(dfdf2)\n",
    "# x2.to_csv('./xxx/x2.csv')\n",
    "\n",
    "# x3=pd.concat(dfdf3)\n",
    "# x3.to_csv('./xxx/x3.csv')\n",
    "\n",
    "# x4=pd.concat(dfdf4)\n",
    "# x4.to_csv('./xxx/x4.csv')\n",
    "\n",
    "# x5=pd.concat(dfdf5)\n",
    "# x5.to_csv('./xxx/x5.csv')\n",
    "\n",
    "# x6=pd.concat(dfdf6)\n",
    "# x6.to_csv('./xxx/x6.csv')\n",
    "\n",
    "# x7=pd.concat(dfdf7)\n",
    "# x7.to_csv('./xxx/x7.csv')"
   ]
  },
  {
   "cell_type": "code",
   "execution_count": null,
   "id": "be094297",
   "metadata": {},
   "outputs": [],
   "source": [
    "# # 파일 읽어들이기\n",
    "# p0=pd.read_csv('./xxx/x0.csv')\n",
    "# p1=pd.read_csv('./xxx/x1.csv')\n",
    "# p2=pd.read_csv('./xxx/x2.csv')\n",
    "# p3=pd.read_csv('./xxx/x3.csv')\n",
    "# p4=pd.read_csv('./xxx/x4.csv')\n",
    "# p5=pd.read_csv('./xxx/x5.csv')\n",
    "# p6=pd.read_csv('./xxx/x6.csv')\n",
    "# p7=pd.read_csv('./xxx/x7.csv')"
   ]
  },
  {
   "cell_type": "code",
   "execution_count": null,
   "id": "636288dc",
   "metadata": {},
   "outputs": [],
   "source": [
    "# # 하나의 최종 데이터프레임 만들기\n",
    "# DF_ = pd.concat([p0, p1, p2, p3, p4, p5, p6, p7])\n",
    "# DF_.columns"
   ]
  },
  {
   "cell_type": "code",
   "execution_count": null,
   "id": "9ea1896e",
   "metadata": {},
   "outputs": [],
   "source": [
    "# # 필요 없는 컬럼 지우기\n",
    "# DF_=DF_.drop(['Unnamed: 0'], axis = 1)"
   ]
  },
  {
   "cell_type": "code",
   "execution_count": null,
   "id": "14a0bc48",
   "metadata": {},
   "outputs": [],
   "source": [
    "# # 날짜 컬럼 형변환\n",
    "# DF_['날짜'] = pd.to_datetime(DF_['날짜'])\n",
    "\n",
    "# months = list()\n",
    "# for i in DF_['날짜']:\n",
    "#     months.append(i.to_period('m'))\n",
    "    \n",
    "# DF_['날짜'] = months"
   ]
  },
  {
   "cell_type": "code",
   "execution_count": null,
   "id": "44526a2c",
   "metadata": {},
   "outputs": [],
   "source": [
    "# # 파일 정보 확인\n",
    "# DF_.info()"
   ]
  },
  {
   "cell_type": "code",
   "execution_count": null,
   "id": "27425630",
   "metadata": {},
   "outputs": [],
   "source": [
    "# DF_.to_csv('result1.csv')"
   ]
  },
  {
   "cell_type": "code",
   "execution_count": null,
   "id": "9a91075f",
   "metadata": {},
   "outputs": [],
   "source": [
    "##################################################"
   ]
  },
  {
   "cell_type": "code",
   "execution_count": 6,
   "id": "626bdf73",
   "metadata": {
    "scrolled": true
   },
   "outputs": [
    {
     "name": "stdout",
     "output_type": "stream",
     "text": [
      "<class 'pandas.core.frame.DataFrame'>\n",
      "Int64Index: 45936 entries, 0 to 623\n",
      "Data columns (total 4 columns):\n",
      " #   Column  Non-Null Count  Dtype    \n",
      "---  ------  --------------  -----    \n",
      " 0   날짜      45936 non-null  period[M]\n",
      " 1   지역      45936 non-null  object   \n",
      " 2   행정구역    45936 non-null  object   \n",
      " 3   데이터     45936 non-null  int64    \n",
      "dtypes: int64(1), object(2), period[M](1)\n",
      "memory usage: 1.8+ MB\n"
     ]
    }
   ],
   "source": [
    "df_leg = pd.concat(dfdf0)\n",
    "df_leg.info()"
   ]
  },
  {
   "cell_type": "code",
   "execution_count": 9,
   "id": "5295a5ca",
   "metadata": {},
   "outputs": [],
   "source": [
    "df_leg.columns = ['날짜', '지역', '행정구역', '황사관측일수']"
   ]
  },
  {
   "cell_type": "code",
   "execution_count": 10,
   "id": "4082d95d",
   "metadata": {},
   "outputs": [],
   "source": [
    "df_leg.to_csv('황사관측일수.csv')"
   ]
  },
  {
   "cell_type": "code",
   "execution_count": null,
   "id": "6cc47aaf",
   "metadata": {},
   "outputs": [],
   "source": []
  }
 ],
 "metadata": {
  "kernelspec": {
   "display_name": "Python 3 (ipykernel)",
   "language": "python",
   "name": "python3"
  },
  "language_info": {
   "codemirror_mode": {
    "name": "ipython",
    "version": 3
   },
   "file_extension": ".py",
   "mimetype": "text/x-python",
   "name": "python",
   "nbconvert_exporter": "python",
   "pygments_lexer": "ipython3",
   "version": "3.9.12"
  }
 },
 "nbformat": 4,
 "nbformat_minor": 5
}
