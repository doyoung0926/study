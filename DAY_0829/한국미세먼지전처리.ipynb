{
 "cells": [
  {
   "cell_type": "code",
   "execution_count": 1,
   "id": "6a6ab254",
   "metadata": {},
   "outputs": [],
   "source": [
    "# 모듈 로딩\n",
    "import pandas as pd\n",
    "import numpy as np"
   ]
  },
  {
   "cell_type": "code",
   "execution_count": 2,
   "id": "b35623d1",
   "metadata": {},
   "outputs": [
    {
     "data": {
      "text/plain": [
       "['2010.xlsx',\n",
       " '2011.xlsx',\n",
       " '2012.xlsx',\n",
       " '2013.xlsx',\n",
       " '2014.xlsx',\n",
       " '2015.xlsx',\n",
       " '2016.xlsx',\n",
       " '2017.xlsx',\n",
       " '2018.xlsx',\n",
       " '2019.xlsx',\n",
       " '2020.xlsx']"
      ]
     },
     "execution_count": 2,
     "metadata": {},
     "output_type": "execute_result"
    }
   ],
   "source": [
    "# 파일명\n",
    "FILE = list()\n",
    "\n",
    "for i in range(2010, 2021):\n",
    "    FILE.append(str(i)+'.xlsx')\n",
    "    \n",
    "FILE"
   ]
  },
  {
   "cell_type": "code",
   "execution_count": 3,
   "id": "a9e78ff5",
   "metadata": {},
   "outputs": [],
   "source": [
    "DF = list()\n",
    "def start(file):\n",
    "    df = pd.read_excel(file)\n",
    "    idx = df[df['구분(4)'] == ('시도평균' or '소계')].index\n",
    "    df.drop(idx, inplace = True)\n",
    "    \n",
    "    for i in df.index:\n",
    "        if type(df['데이터'][i]) == str:\n",
    "            df['데이터'][i] = df['데이터'][i].replace('*', '')\n",
    "        \n",
    "    df['데이터'] = df['데이터'].astype(int)\n",
    "    \n",
    "    df.fillna(method='ffill', inplace = True)\n",
    "    \n",
    "    addr = {'서울':'서울특별시','부산':'부산광역시','대구':'대구광역시',\n",
    "        '인천':'인천광역시','광주':'광주광역시','대전':'대전광역시',\n",
    "        '울산':'울산광역시','경기':'경기도','강원':'강원도',\n",
    "        '충북':'충청북도','충남':'충청남도','전북':'전라북도',\n",
    "        '전남':'전라남도','경북':'경상북도','경남':'경상남도',\n",
    "        '제주':'제주특별자치도','세종':'세종특별자치시'}\n",
    "\n",
    "    df['구분(2)'] = df['구분(2)'].apply(lambda v: addr.get(v, v))\n",
    "\n",
    "    df['구분(2)'].unique()\n",
    "    \n",
    "    df.columns = ['시점', '측정망별', '도시별', '측정지점별1', '측정지점별2', '데이터']\n",
    "    \n",
    "    idx1 = df[df['시점'] == 2021.01].index\n",
    "    idx2 = df[df['시점'] == 2021.02].index\n",
    "    \n",
    "    df.drop(idx1, inplace = True)\n",
    "    df.drop(idx2, inplace = True)\n",
    "    \n",
    "    DF.append(df)"
   ]
  },
  {
   "cell_type": "code",
   "execution_count": 4,
   "id": "128d732e",
   "metadata": {},
   "outputs": [
    {
     "name": "stderr",
     "output_type": "stream",
     "text": [
      "C:\\ProgramData\\Anaconda3\\lib\\site-packages\\openpyxl\\styles\\stylesheet.py:226: UserWarning: Workbook contains no default style, apply openpyxl's default\n",
      "  warn(\"Workbook contains no default style, apply openpyxl's default\")\n",
      "C:\\Users\\User\\AppData\\Local\\Temp\\ipykernel_11696\\32098168.py:9: SettingWithCopyWarning: \n",
      "A value is trying to be set on a copy of a slice from a DataFrame\n",
      "\n",
      "See the caveats in the documentation: https://pandas.pydata.org/pandas-docs/stable/user_guide/indexing.html#returning-a-view-versus-a-copy\n",
      "  df['데이터'][i] = df['데이터'][i].replace('*', '')\n",
      "C:\\ProgramData\\Anaconda3\\lib\\site-packages\\openpyxl\\styles\\stylesheet.py:226: UserWarning: Workbook contains no default style, apply openpyxl's default\n",
      "  warn(\"Workbook contains no default style, apply openpyxl's default\")\n",
      "C:\\ProgramData\\Anaconda3\\lib\\site-packages\\openpyxl\\styles\\stylesheet.py:226: UserWarning: Workbook contains no default style, apply openpyxl's default\n",
      "  warn(\"Workbook contains no default style, apply openpyxl's default\")\n",
      "C:\\ProgramData\\Anaconda3\\lib\\site-packages\\openpyxl\\styles\\stylesheet.py:226: UserWarning: Workbook contains no default style, apply openpyxl's default\n",
      "  warn(\"Workbook contains no default style, apply openpyxl's default\")\n",
      "C:\\ProgramData\\Anaconda3\\lib\\site-packages\\openpyxl\\styles\\stylesheet.py:226: UserWarning: Workbook contains no default style, apply openpyxl's default\n",
      "  warn(\"Workbook contains no default style, apply openpyxl's default\")\n",
      "C:\\Users\\User\\AppData\\Local\\Temp\\ipykernel_11696\\32098168.py:9: SettingWithCopyWarning: \n",
      "A value is trying to be set on a copy of a slice from a DataFrame\n",
      "\n",
      "See the caveats in the documentation: https://pandas.pydata.org/pandas-docs/stable/user_guide/indexing.html#returning-a-view-versus-a-copy\n",
      "  df['데이터'][i] = df['데이터'][i].replace('*', '')\n",
      "C:\\ProgramData\\Anaconda3\\lib\\site-packages\\openpyxl\\styles\\stylesheet.py:226: UserWarning: Workbook contains no default style, apply openpyxl's default\n",
      "  warn(\"Workbook contains no default style, apply openpyxl's default\")\n",
      "C:\\Users\\User\\AppData\\Local\\Temp\\ipykernel_11696\\32098168.py:9: SettingWithCopyWarning: \n",
      "A value is trying to be set on a copy of a slice from a DataFrame\n",
      "\n",
      "See the caveats in the documentation: https://pandas.pydata.org/pandas-docs/stable/user_guide/indexing.html#returning-a-view-versus-a-copy\n",
      "  df['데이터'][i] = df['데이터'][i].replace('*', '')\n",
      "C:\\ProgramData\\Anaconda3\\lib\\site-packages\\openpyxl\\styles\\stylesheet.py:226: UserWarning: Workbook contains no default style, apply openpyxl's default\n",
      "  warn(\"Workbook contains no default style, apply openpyxl's default\")\n",
      "C:\\Users\\User\\AppData\\Local\\Temp\\ipykernel_11696\\32098168.py:9: SettingWithCopyWarning: \n",
      "A value is trying to be set on a copy of a slice from a DataFrame\n",
      "\n",
      "See the caveats in the documentation: https://pandas.pydata.org/pandas-docs/stable/user_guide/indexing.html#returning-a-view-versus-a-copy\n",
      "  df['데이터'][i] = df['데이터'][i].replace('*', '')\n",
      "C:\\ProgramData\\Anaconda3\\lib\\site-packages\\openpyxl\\styles\\stylesheet.py:226: UserWarning: Workbook contains no default style, apply openpyxl's default\n",
      "  warn(\"Workbook contains no default style, apply openpyxl's default\")\n",
      "C:\\Users\\User\\AppData\\Local\\Temp\\ipykernel_11696\\32098168.py:9: SettingWithCopyWarning: \n",
      "A value is trying to be set on a copy of a slice from a DataFrame\n",
      "\n",
      "See the caveats in the documentation: https://pandas.pydata.org/pandas-docs/stable/user_guide/indexing.html#returning-a-view-versus-a-copy\n",
      "  df['데이터'][i] = df['데이터'][i].replace('*', '')\n",
      "C:\\ProgramData\\Anaconda3\\lib\\site-packages\\openpyxl\\styles\\stylesheet.py:226: UserWarning: Workbook contains no default style, apply openpyxl's default\n",
      "  warn(\"Workbook contains no default style, apply openpyxl's default\")\n",
      "C:\\Users\\User\\AppData\\Local\\Temp\\ipykernel_11696\\32098168.py:9: SettingWithCopyWarning: \n",
      "A value is trying to be set on a copy of a slice from a DataFrame\n",
      "\n",
      "See the caveats in the documentation: https://pandas.pydata.org/pandas-docs/stable/user_guide/indexing.html#returning-a-view-versus-a-copy\n",
      "  df['데이터'][i] = df['데이터'][i].replace('*', '')\n",
      "C:\\ProgramData\\Anaconda3\\lib\\site-packages\\openpyxl\\styles\\stylesheet.py:226: UserWarning: Workbook contains no default style, apply openpyxl's default\n",
      "  warn(\"Workbook contains no default style, apply openpyxl's default\")\n",
      "C:\\Users\\User\\AppData\\Local\\Temp\\ipykernel_11696\\32098168.py:9: SettingWithCopyWarning: \n",
      "A value is trying to be set on a copy of a slice from a DataFrame\n",
      "\n",
      "See the caveats in the documentation: https://pandas.pydata.org/pandas-docs/stable/user_guide/indexing.html#returning-a-view-versus-a-copy\n",
      "  df['데이터'][i] = df['데이터'][i].replace('*', '')\n",
      "C:\\ProgramData\\Anaconda3\\lib\\site-packages\\openpyxl\\styles\\stylesheet.py:226: UserWarning: Workbook contains no default style, apply openpyxl's default\n",
      "  warn(\"Workbook contains no default style, apply openpyxl's default\")\n",
      "C:\\Users\\User\\AppData\\Local\\Temp\\ipykernel_11696\\32098168.py:9: SettingWithCopyWarning: \n",
      "A value is trying to be set on a copy of a slice from a DataFrame\n",
      "\n",
      "See the caveats in the documentation: https://pandas.pydata.org/pandas-docs/stable/user_guide/indexing.html#returning-a-view-versus-a-copy\n",
      "  df['데이터'][i] = df['데이터'][i].replace('*', '')\n"
     ]
    }
   ],
   "source": [
    "for file in FILE:\n",
    "    start(file)"
   ]
  },
  {
   "cell_type": "code",
   "execution_count": 5,
   "id": "64f93495",
   "metadata": {},
   "outputs": [],
   "source": [
    "# 최종 DataFrame 만들기\n",
    "DF = pd.concat(DF)\n"
   ]
  },
  {
   "cell_type": "code",
   "execution_count": 6,
   "id": "91fafc74",
   "metadata": {
    "scrolled": true
   },
   "outputs": [
    {
     "data": {
      "text/plain": [
       "dtype('O')"
      ]
     },
     "execution_count": 6,
     "metadata": {},
     "output_type": "execute_result"
    }
   ],
   "source": [
    "# 날짜 타입 문자형 변환\n",
    "DF['시점'] = DF['시점'].astype(str)\n",
    "\n",
    "# 형 변환 확인\n",
    "DF['시점'].dtype"
   ]
  },
  {
   "cell_type": "code",
   "execution_count": 7,
   "id": "95000078",
   "metadata": {},
   "outputs": [
    {
     "data": {
      "text/plain": [
       "array(['2010.01', '2010.02', '2010.03', '2010.04', '2010.05', '2010.06',\n",
       "       '2010.07', '2010.08', '2010.09', '2010.10', '2010.11', '2010.12',\n",
       "       '2011.01', '2011.02', '2011.03', '2011.04', '2011.05', '2011.06',\n",
       "       '2011.07', '2011.08', '2011.09', '2011.10', '2011.11', '2011.12',\n",
       "       '2012.01', '2012.02', '2012.03', '2012.04', '2012.05', '2012.06',\n",
       "       '2012.07', '2012.08', '2012.09', '2012.10', '2012.11', '2012.12',\n",
       "       '2013.01', '2013.02', '2013.03', '2013.04', '2013.05', '2013.06',\n",
       "       '2013.07', '2013.08', '2013.09', '2013.10', '2013.11', '2013.12',\n",
       "       '2014.01', '2014.02', '2014.03', '2014.04', '2014.05', '2014.06',\n",
       "       '2014.07', '2014.08', '2014.09', '2014.10', '2014.11', '2014.12',\n",
       "       '2015.01', '2015.02', '2015.03', '2015.04', '2015.05', '2015.06',\n",
       "       '2015.07', '2015.08', '2015.09', '2015.10', '2015.11', '2015.12',\n",
       "       '2016.01', '2016.02', '2016.03', '2016.04', '2016.05', '2016.06',\n",
       "       '2016.07', '2016.08', '2016.09', '2016.10', '2016.11', '2016.12',\n",
       "       '2017.01', '2017.02', '2017.03', '2017.04', '2017.05', '2017.06',\n",
       "       '2017.07', '2017.08', '2017.09', '2017.10', '2017.11', '2017.12',\n",
       "       '2018.01', '2018.02', '2018.03', '2018.04', '2018.05', '2018.06',\n",
       "       '2018.07', '2018.08', '2018.09', '2018.10', '2018.11', '2018.12',\n",
       "       '2019.01', '2019.02', '2019.03', '2019.04', '2019.05', '2019.06',\n",
       "       '2019.07', '2019.08', '2019.09', '2019.10', '2019.11', '2019.12',\n",
       "       '2020.01', '2020.02', '2020.03', '2020.04', '2020.05', '2020.06',\n",
       "       '2020.07', '2020.08', '2020.09', '2020.10', '2020.11', '2020.12'],\n",
       "      dtype=object)"
      ]
     },
     "execution_count": 7,
     "metadata": {},
     "output_type": "execute_result"
    }
   ],
   "source": [
    "# 날짜 수정\n",
    "date = {'2010.1':'2010.10','2011.1':'2011.10','2012.1':'2012.10','2013.1':'2013.10',\n",
    "        '2014.1':'2014.10','2015.1':'2015.10','2016.1':'2016.10','2017.1':'2017.10',\n",
    "        '2018.1':'2018.10','2019.1':'2019.10','2020.1':'2020.10'}\n",
    "\n",
    "DF['시점'] = DF['시점'].apply(lambda v: date.get(v, v))\n",
    "\n",
    "DF['시점'].unique()"
   ]
  },
  {
   "cell_type": "code",
   "execution_count": 8,
   "id": "387d901a",
   "metadata": {},
   "outputs": [],
   "source": [
    "# 날짜 datetime 형 변환\n",
    "DF['시점'] = pd.to_datetime(DF['시점'])\n",
    "\n",
    "month = list()\n",
    "for i in DF['시점']:\n",
    "    month.append(i.to_period('m'))\n",
    "    \n",
    "DF['시점'] = month"
   ]
  },
  {
   "cell_type": "code",
   "execution_count": 9,
   "id": "0cf4bd8a",
   "metadata": {},
   "outputs": [],
   "source": [
    "# 컬럼명 변경\n",
    "DF.columns = ['날짜', '측정망별', '행정구역', '측정지점별1', '측정지점별2', '한국미세먼지']"
   ]
  },
  {
   "cell_type": "code",
   "execution_count": 10,
   "id": "53d6ffea",
   "metadata": {},
   "outputs": [
    {
     "data": {
      "text/html": [
       "<div>\n",
       "<style scoped>\n",
       "    .dataframe tbody tr th:only-of-type {\n",
       "        vertical-align: middle;\n",
       "    }\n",
       "\n",
       "    .dataframe tbody tr th {\n",
       "        vertical-align: top;\n",
       "    }\n",
       "\n",
       "    .dataframe thead th {\n",
       "        text-align: right;\n",
       "    }\n",
       "</style>\n",
       "<table border=\"1\" class=\"dataframe\">\n",
       "  <thead>\n",
       "    <tr style=\"text-align: right;\">\n",
       "      <th></th>\n",
       "      <th>날짜</th>\n",
       "      <th>측정망별</th>\n",
       "      <th>행정구역</th>\n",
       "      <th>측정지점별1</th>\n",
       "      <th>측정지점별2</th>\n",
       "      <th>한국미세먼지</th>\n",
       "    </tr>\n",
       "  </thead>\n",
       "  <tbody>\n",
       "    <tr>\n",
       "      <th>0</th>\n",
       "      <td>2010-01</td>\n",
       "      <td>도시대기</td>\n",
       "      <td>서울특별시</td>\n",
       "      <td>중구</td>\n",
       "      <td>서소문동</td>\n",
       "      <td>58</td>\n",
       "    </tr>\n",
       "    <tr>\n",
       "      <th>1</th>\n",
       "      <td>2010-01</td>\n",
       "      <td>도시대기</td>\n",
       "      <td>서울특별시</td>\n",
       "      <td>종로구</td>\n",
       "      <td>효제동</td>\n",
       "      <td>59</td>\n",
       "    </tr>\n",
       "    <tr>\n",
       "      <th>2</th>\n",
       "      <td>2010-01</td>\n",
       "      <td>도시대기</td>\n",
       "      <td>서울특별시</td>\n",
       "      <td>중랑구</td>\n",
       "      <td>면목동</td>\n",
       "      <td>60</td>\n",
       "    </tr>\n",
       "    <tr>\n",
       "      <th>3</th>\n",
       "      <td>2010-01</td>\n",
       "      <td>도시대기</td>\n",
       "      <td>서울특별시</td>\n",
       "      <td>동대문구</td>\n",
       "      <td>용두동</td>\n",
       "      <td>63</td>\n",
       "    </tr>\n",
       "    <tr>\n",
       "      <th>4</th>\n",
       "      <td>2010-01</td>\n",
       "      <td>도시대기</td>\n",
       "      <td>서울특별시</td>\n",
       "      <td>은평구</td>\n",
       "      <td>불광동</td>\n",
       "      <td>52</td>\n",
       "    </tr>\n",
       "    <tr>\n",
       "      <th>...</th>\n",
       "      <td>...</td>\n",
       "      <td>...</td>\n",
       "      <td>...</td>\n",
       "      <td>...</td>\n",
       "      <td>...</td>\n",
       "      <td>...</td>\n",
       "    </tr>\n",
       "    <tr>\n",
       "      <th>6283</th>\n",
       "      <td>2020-12</td>\n",
       "      <td>도로변대기</td>\n",
       "      <td>충청북도</td>\n",
       "      <td>청주</td>\n",
       "      <td>복대동</td>\n",
       "      <td>46</td>\n",
       "    </tr>\n",
       "    <tr>\n",
       "      <th>6284</th>\n",
       "      <td>2020-12</td>\n",
       "      <td>도로변대기</td>\n",
       "      <td>충청남도</td>\n",
       "      <td>천안</td>\n",
       "      <td>성성동</td>\n",
       "      <td>51</td>\n",
       "    </tr>\n",
       "    <tr>\n",
       "      <th>6285</th>\n",
       "      <td>2020-12</td>\n",
       "      <td>도로변대기</td>\n",
       "      <td>전라북도</td>\n",
       "      <td>전주</td>\n",
       "      <td>서신동</td>\n",
       "      <td>38</td>\n",
       "    </tr>\n",
       "    <tr>\n",
       "      <th>6286</th>\n",
       "      <td>2020-12</td>\n",
       "      <td>도로변대기</td>\n",
       "      <td>경상남도</td>\n",
       "      <td>창원</td>\n",
       "      <td>반송로</td>\n",
       "      <td>28</td>\n",
       "    </tr>\n",
       "    <tr>\n",
       "      <th>6287</th>\n",
       "      <td>2020-12</td>\n",
       "      <td>도로변대기</td>\n",
       "      <td>제주특별자치도</td>\n",
       "      <td>제주</td>\n",
       "      <td>노형로</td>\n",
       "      <td>27</td>\n",
       "    </tr>\n",
       "  </tbody>\n",
       "</table>\n",
       "<p>45764 rows × 6 columns</p>\n",
       "</div>"
      ],
      "text/plain": [
       "           날짜   측정망별     행정구역 측정지점별1 측정지점별2  한국미세먼지\n",
       "0     2010-01   도시대기    서울특별시     중구   서소문동      58\n",
       "1     2010-01   도시대기    서울특별시    종로구    효제동      59\n",
       "2     2010-01   도시대기    서울특별시    중랑구    면목동      60\n",
       "3     2010-01   도시대기    서울특별시   동대문구    용두동      63\n",
       "4     2010-01   도시대기    서울특별시    은평구    불광동      52\n",
       "...       ...    ...      ...    ...    ...     ...\n",
       "6283  2020-12  도로변대기     충청북도     청주    복대동      46\n",
       "6284  2020-12  도로변대기     충청남도     천안    성성동      51\n",
       "6285  2020-12  도로변대기     전라북도     전주    서신동      38\n",
       "6286  2020-12  도로변대기     경상남도     창원    반송로      28\n",
       "6287  2020-12  도로변대기  제주특별자치도     제주    노형로      27\n",
       "\n",
       "[45764 rows x 6 columns]"
      ]
     },
     "execution_count": 10,
     "metadata": {},
     "output_type": "execute_result"
    }
   ],
   "source": [
    "DF"
   ]
  },
  {
   "cell_type": "code",
   "execution_count": 13,
   "id": "cb7ecabe",
   "metadata": {},
   "outputs": [],
   "source": [
    "DF.to_csv('한국미세먼지.csv')"
   ]
  }
 ],
 "metadata": {
  "kernelspec": {
   "display_name": "Python 3 (ipykernel)",
   "language": "python",
   "name": "python3"
  },
  "language_info": {
   "codemirror_mode": {
    "name": "ipython",
    "version": 3
   },
   "file_extension": ".py",
   "mimetype": "text/x-python",
   "name": "python",
   "nbconvert_exporter": "python",
   "pygments_lexer": "ipython3",
   "version": "3.9.12"
  }
 },
 "nbformat": 4,
 "nbformat_minor": 5
}
