{
 "cells": [
  {
   "cell_type": "code",
   "execution_count": 8,
   "id": "7024759f",
   "metadata": {},
   "outputs": [],
   "source": [
    "# 모듈 로딩\n",
    "import pandas as pd"
   ]
  },
  {
   "cell_type": "code",
   "execution_count": 9,
   "id": "db7878d2",
   "metadata": {},
   "outputs": [
    {
     "name": "stderr",
     "output_type": "stream",
     "text": [
      "C:\\ProgramData\\Anaconda3\\lib\\site-packages\\openpyxl\\styles\\stylesheet.py:226: UserWarning: Workbook contains no default style, apply openpyxl's default\n",
      "  warn(\"Workbook contains no default style, apply openpyxl's default\")\n"
     ]
    }
   ],
   "source": [
    "# 파일 로딩\n",
    "df = pd.read_excel('국가별초미세먼지배출량.xlsx')"
   ]
  },
  {
   "cell_type": "code",
   "execution_count": 10,
   "id": "2b7e3d70",
   "metadata": {},
   "outputs": [
    {
     "data": {
      "text/plain": [
       "0"
      ]
     },
     "execution_count": 10,
     "metadata": {},
     "output_type": "execute_result"
    }
   ],
   "source": [
    "# 데이터 결측치 갯수 파악\n",
    "df['데이터'].isnull().sum()"
   ]
  },
  {
   "cell_type": "code",
   "execution_count": 11,
   "id": "94da1af8",
   "metadata": {},
   "outputs": [],
   "source": [
    "# 이전 값으로 채우기\n",
    "df.fillna(method='ffill', inplace = True)"
   ]
  },
  {
   "cell_type": "code",
   "execution_count": 12,
   "id": "0bb35701",
   "metadata": {},
   "outputs": [],
   "source": [
    "# 시점 연도로 형 바꾸고 연도로 넣기\n",
    "year = []\n",
    "for i in df['시점']:\n",
    "    i = int(i)\n",
    "    year.append(str(i))\n",
    "    \n",
    "df['시점'] = year\n",
    "\n",
    "years = []\n",
    "for i in pd.to_datetime(df['시점']):\n",
    "    years.append(i.to_period('Y'))\n",
    "    \n",
    "df['시점'] = years"
   ]
  },
  {
   "cell_type": "code",
   "execution_count": 13,
   "id": "f9a4ec0f",
   "metadata": {},
   "outputs": [],
   "source": [
    "df.columns=['날짜', '대륙', '국가', '국가별초미세먼지배출량']"
   ]
  },
  {
   "cell_type": "code",
   "execution_count": 14,
   "id": "951b7310",
   "metadata": {
    "scrolled": true
   },
   "outputs": [],
   "source": [
    "df.to_csv('국가별초미세먼지배출량.csv')"
   ]
  }
 ],
 "metadata": {
  "kernelspec": {
   "display_name": "Python 3 (ipykernel)",
   "language": "python",
   "name": "python3"
  },
  "language_info": {
   "codemirror_mode": {
    "name": "ipython",
    "version": 3
   },
   "file_extension": ".py",
   "mimetype": "text/x-python",
   "name": "python",
   "nbconvert_exporter": "python",
   "pygments_lexer": "ipython3",
   "version": "3.9.12"
  }
 },
 "nbformat": 4,
 "nbformat_minor": 5
}
