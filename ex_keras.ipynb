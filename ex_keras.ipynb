{
 "cells": [
  {
   "cell_type": "markdown",
   "id": "6dc43487",
   "metadata": {},
   "source": [
    "## Keras LIB\n",
    "---\n",
    "- Tensorflow 기반의 Keras 패키지\n",
    "- 기본 데이터 Tensor 타입\n",
    "- 모델을 직접 설계/생성 해야함!!!"
   ]
  },
  {
   "cell_type": "code",
   "execution_count": 256,
   "id": "259fec90",
   "metadata": {},
   "outputs": [],
   "source": [
    "## 모듈 로딩\n",
    "import tensorflow as tf"
   ]
  },
  {
   "cell_type": "code",
   "execution_count": 286,
   "id": "f00b3e94",
   "metadata": {},
   "outputs": [],
   "source": [
    "from tensorflow.keras import Sequential   # 모델 담는 애?\n",
    "from tensorflow.keras.layers import Dense\n",
    "import numpy as np\n",
    "from sklearn.datasets import load_iris"
   ]
  },
  {
   "cell_type": "code",
   "execution_count": 258,
   "id": "aba6ab4d",
   "metadata": {},
   "outputs": [],
   "source": [
    "# from keras import Sequential\n",
    "# from keras.layer import Dense"
   ]
  },
  {
   "cell_type": "code",
   "execution_count": 259,
   "id": "3ddb3c4b",
   "metadata": {},
   "outputs": [],
   "source": [
    "# import tensorflow\n",
    "# tensorflow.__version__"
   ]
  },
  {
   "cell_type": "markdown",
   "id": "f27e7fd6",
   "metadata": {},
   "source": [
    "### [1] 모델 구성"
   ]
  },
  {
   "cell_type": "code",
   "execution_count": 260,
   "id": "44576132",
   "metadata": {},
   "outputs": [],
   "source": [
    "model = Sequential(name='HelloModel')  # 지금은 빈 통"
   ]
  },
  {
   "cell_type": "code",
   "execution_count": 261,
   "id": "86d83324",
   "metadata": {},
   "outputs": [],
   "source": [
    "# 첫 번째 층은 반드시 입력 정보 파라미터 설정 => input_shape=() 튜플, input_dim=숫자\n",
    "l1 = Dense(10, activation='relu', input_shape=(5,))"
   ]
  },
  {
   "cell_type": "code",
   "execution_count": 262,
   "id": "47a8b45d",
   "metadata": {},
   "outputs": [],
   "source": [
    "# 각 노드(퍼셉트론, 유닛) : 10개 입력 / 출력 : 50개\n",
    "l2=Dense(50, activation='relu')  # 다중분류"
   ]
  },
  {
   "cell_type": "code",
   "execution_count": 263,
   "id": "2b315d27",
   "metadata": {},
   "outputs": [],
   "source": [
    "# 각 노드(퍼셉트론, 유닛) : 50 입력 / 출력 : 5개?\n",
    "l3=Dense(5, activation='softmax')"
   ]
  },
  {
   "cell_type": "code",
   "execution_count": 264,
   "id": "0e1df780",
   "metadata": {},
   "outputs": [],
   "source": [
    "model.add(l1)\n",
    "model.add(l2)\n",
    "model.add(l3)"
   ]
  },
  {
   "cell_type": "code",
   "execution_count": 265,
   "id": "5f9119b1",
   "metadata": {},
   "outputs": [
    {
     "name": "stdout",
     "output_type": "stream",
     "text": [
      "Model: \"HelloModel\"\n",
      "_________________________________________________________________\n",
      " Layer (type)                Output Shape              Param #   \n",
      "=================================================================\n",
      " dense_47 (Dense)            (None, 10)                60        \n",
      "                                                                 \n",
      " dense_48 (Dense)            (None, 50)                550       \n",
      "                                                                 \n",
      " dense_49 (Dense)            (None, 5)                 255       \n",
      "                                                                 \n",
      "=================================================================\n",
      "Total params: 865\n",
      "Trainable params: 865\n",
      "Non-trainable params: 0\n",
      "_________________________________________________________________\n"
     ]
    }
   ],
   "source": [
    "## 모델 구성 확인 => summary()\n",
    "model.summary()  # 설계도?"
   ]
  },
  {
   "cell_type": "markdown",
   "id": "d2d0a5c4",
   "metadata": {},
   "source": [
    "### [2] 모델 생성\n",
    "---\n",
    "- 손실함수, 최적화 기법, 성능평가항목 설정\n",
    "- compile() 메서드\n",
    "    * optimizer : string 타입의 최적화기법명 입력 또는 객체 <- 기본값 사용하지 않는 경우\n",
    "    * loss : 손실함수로 string 타입의 이름 입력\n",
    "        - 분류 : caregorical_crossentropy, sparse_categorical_crossentropy, binary_crossentropy\n",
    "        - 회귀 : mean_squred_error, mean_absolute_error..\n",
    "    * metrics : 모델 평가 항목\n",
    "        - accuracy, mse, mae..."
   ]
  },
  {
   "cell_type": "code",
   "execution_count": 266,
   "id": "5da499b2",
   "metadata": {},
   "outputs": [],
   "source": [
    "model.compile(optimizer='adam', loss='sparse_categorical_crossentropy', metrics=['accuracy'])"
   ]
  },
  {
   "cell_type": "markdown",
   "id": "55fb6ebb",
   "metadata": {},
   "source": [
    "### [3] 학습\n",
    "---\n",
    "- fit() 메서드\n",
    "    * 훈련용 데이터\n",
    "    * 훈련용 타겟\n",
    "    * epochs : 학습 횟수 (처음~끝까지)\n",
    "    * batch_size : 한번 학습량 (기:32)\n",
    "    * validation_split / validation_data=(,) : 검증 데이터 설정\n",
    "    * callbacks : 이벤트처리 함수 목록 (예: 학습중단 이벤트, 모델 검증 및 저장 이벤트...)\n",
    "    * verbose : 학습 과정 출력 여부 설정(기:True)"
   ]
  },
  {
   "cell_type": "code",
   "execution_count": 267,
   "id": "e55a4489",
   "metadata": {},
   "outputs": [],
   "source": [
    "## 데이터 로딩\n",
    "iris = load_iris()"
   ]
  },
  {
   "cell_type": "code",
   "execution_count": 268,
   "id": "f000544e",
   "metadata": {},
   "outputs": [],
   "source": [
    "data = iris.data\n",
    "target = iris.target"
   ]
  },
  {
   "cell_type": "code",
   "execution_count": 269,
   "id": "7412ba5a",
   "metadata": {
    "scrolled": true
   },
   "outputs": [
    {
     "name": "stdout",
     "output_type": "stream",
     "text": [
      "(150, 4) (150,)\n"
     ]
    }
   ],
   "source": [
    "print(data.shape, target.shape)"
   ]
  },
  {
   "cell_type": "code",
   "execution_count": 270,
   "id": "0bad1320",
   "metadata": {},
   "outputs": [
    {
     "data": {
      "text/plain": [
       "array([[5.1, 3.5, 1.4, 0.2]])"
      ]
     },
     "execution_count": 270,
     "metadata": {},
     "output_type": "execute_result"
    }
   ],
   "source": [
    "data[:1]"
   ]
  },
  {
   "cell_type": "code",
   "execution_count": 271,
   "id": "e1a974b0",
   "metadata": {},
   "outputs": [
    {
     "data": {
      "text/plain": [
       "(array([0, 0, 0, 0, 0]), array([1, 1, 1, 1, 1]), array([2, 2, 2, 2, 2]))"
      ]
     },
     "execution_count": 271,
     "metadata": {},
     "output_type": "execute_result"
    }
   ],
   "source": [
    "target[:5], target[50:55], target[100:105]"
   ]
  },
  {
   "cell_type": "code",
   "execution_count": 272,
   "id": "8db7fd3e",
   "metadata": {},
   "outputs": [],
   "source": [
    "from sklearn.preprocessing import LabelEncoder, OneHotEncoder"
   ]
  },
  {
   "cell_type": "code",
   "execution_count": 273,
   "id": "a93192a6",
   "metadata": {},
   "outputs": [],
   "source": [
    "# label=LabelEncoder()\n",
    "# target_=label.fit(target).transform(target)"
   ]
  },
  {
   "cell_type": "code",
   "execution_count": 274,
   "id": "3ddbc1cf",
   "metadata": {},
   "outputs": [],
   "source": [
    "ohe=OneHotEncoder()\n",
    "target_2=ohe.fit(target.reshape(-1,1)).transform(target.reshape(-1,1))"
   ]
  },
  {
   "cell_type": "code",
   "execution_count": 275,
   "id": "95253c14",
   "metadata": {},
   "outputs": [
    {
     "data": {
      "text/plain": [
       "scipy.sparse.csr.csr_matrix"
      ]
     },
     "execution_count": 275,
     "metadata": {},
     "output_type": "execute_result"
    }
   ],
   "source": [
    "type(target_2)"
   ]
  },
  {
   "cell_type": "code",
   "execution_count": 276,
   "id": "73b76c61",
   "metadata": {},
   "outputs": [
    {
     "data": {
      "text/plain": [
       "(numpy.ndarray,\n",
       " array([1., 0., 0.]),\n",
       " array([0., 1., 0.]),\n",
       " array([0., 0., 1.]),\n",
       " (150, 3))"
      ]
     },
     "execution_count": 276,
     "metadata": {},
     "output_type": "execute_result"
    }
   ],
   "source": [
    "target_3=target_2.toarray()\n",
    "type(target_3), target_3[0], target_3[50], target_3[100], target_3.shape"
   ]
  },
  {
   "cell_type": "markdown",
   "id": "e4ba94b4",
   "metadata": {},
   "source": [
    "# [1] 모델 구성"
   ]
  },
  {
   "cell_type": "code",
   "execution_count": 277,
   "id": "7a2d1fda",
   "metadata": {},
   "outputs": [],
   "source": [
    "model = Sequential(name='IRIS')"
   ]
  },
  {
   "cell_type": "code",
   "execution_count": 278,
   "id": "db404c94",
   "metadata": {},
   "outputs": [],
   "source": [
    "# 첫번째 층은 반드시 입력정보 파라미터 설정 => input_shape=() 튜플, input_dim=숫자\n",
    "# 각 노드(퍼셋트론, 유닛) : 4개 입력 / 출력 : 1개\n",
    "# 총 10개가 다음 층(Layer)의 입력\n",
    "l1=Dense(10, activation='relu', input_shape=(4,))"
   ]
  },
  {
   "cell_type": "code",
   "execution_count": 279,
   "id": "736e4529",
   "metadata": {},
   "outputs": [],
   "source": [
    "# 각 노드(퍼셉트론, 유닛) : 10개 입력 / 출력 : 3개\n",
    "# 총 3개 출력\n",
    "l2=Dense(3, activation='softmax')"
   ]
  },
  {
   "cell_type": "code",
   "execution_count": 280,
   "id": "295f4017",
   "metadata": {},
   "outputs": [],
   "source": [
    "model.add(l1)\n",
    "model.add(l2)"
   ]
  },
  {
   "cell_type": "code",
   "execution_count": 281,
   "id": "bb087840",
   "metadata": {
    "scrolled": true
   },
   "outputs": [
    {
     "name": "stdout",
     "output_type": "stream",
     "text": [
      "Model: \"IRIS\"\n",
      "_________________________________________________________________\n",
      " Layer (type)                Output Shape              Param #   \n",
      "=================================================================\n",
      " dense_50 (Dense)            (None, 10)                50        \n",
      "                                                                 \n",
      " dense_51 (Dense)            (None, 3)                 33        \n",
      "                                                                 \n",
      "=================================================================\n",
      "Total params: 83\n",
      "Trainable params: 83\n",
      "Non-trainable params: 0\n",
      "_________________________________________________________________\n"
     ]
    }
   ],
   "source": [
    "## 모델 구성 확인 => summary()\n",
    "model.summary()"
   ]
  },
  {
   "cell_type": "markdown",
   "id": "8d3d08bb",
   "metadata": {},
   "source": [
    "# [2] 모델 생성"
   ]
  },
  {
   "cell_type": "code",
   "execution_count": 282,
   "id": "d5fa62ec",
   "metadata": {},
   "outputs": [],
   "source": [
    "model.compile(optimizer='adam', loss='categorical_crossentropy', metrics=['accuracy'])"
   ]
  },
  {
   "cell_type": "markdown",
   "id": "913e8b6a",
   "metadata": {},
   "source": [
    "# [3] 학습"
   ]
  },
  {
   "cell_type": "code",
   "execution_count": 283,
   "id": "34b80aad",
   "metadata": {},
   "outputs": [
    {
     "name": "stdout",
     "output_type": "stream",
     "text": [
      "Epoch 1/5\n",
      "5/5 [==============================] - 0s 2ms/step - loss: 1.1975 - accuracy: 0.3333\n",
      "Epoch 2/5\n",
      "5/5 [==============================] - 0s 2ms/step - loss: 1.1811 - accuracy: 0.3333\n",
      "Epoch 3/5\n",
      "5/5 [==============================] - 0s 2ms/step - loss: 1.1657 - accuracy: 0.3333\n",
      "Epoch 4/5\n",
      "5/5 [==============================] - 0s 2ms/step - loss: 1.1557 - accuracy: 0.3333\n",
      "Epoch 5/5\n",
      "5/5 [==============================] - 0s 1ms/step - loss: 1.1444 - accuracy: 0.3333\n"
     ]
    },
    {
     "data": {
      "text/plain": [
       "<keras.callbacks.History at 0x26cd87e5910>"
      ]
     },
     "execution_count": 283,
     "metadata": {},
     "output_type": "execute_result"
    }
   ],
   "source": [
    "model.fit(data, target_3, epochs=5)"
   ]
  },
  {
   "cell_type": "markdown",
   "id": "ce2499bc",
   "metadata": {},
   "source": [
    "# [4] 평가\n",
    "---\n",
    "- evaluate()메서드\n",
    "- 테스트용 데이터로 진행"
   ]
  },
  {
   "cell_type": "code",
   "execution_count": 284,
   "id": "25f5fe12",
   "metadata": {},
   "outputs": [
    {
     "name": "stdout",
     "output_type": "stream",
     "text": [
      "5/5 [==============================] - 0s 2ms/step - loss: 1.1393 - accuracy: 0.3333\n"
     ]
    },
    {
     "data": {
      "text/plain": [
       "[1.1392645835876465, 0.3333333432674408]"
      ]
     },
     "execution_count": 284,
     "metadata": {},
     "output_type": "execute_result"
    }
   ],
   "source": [
    "## 평가\n",
    "model.evaluate(data, target_3)\n",
    "# model.evaluate([[5.1, 3.5, 1.4, 0.2]])"
   ]
  },
  {
   "cell_type": "markdown",
   "id": "b30080a3",
   "metadata": {},
   "source": [
    "# [5] 예측\n",
    "---\n",
    "- predict()"
   ]
  },
  {
   "cell_type": "code",
   "execution_count": 285,
   "id": "2cea9667",
   "metadata": {},
   "outputs": [
    {
     "name": "stdout",
     "output_type": "stream",
     "text": [
      "1/1 [==============================] - 0s 66ms/step\n"
     ]
    },
    {
     "data": {
      "text/plain": [
       "array([[0.24737492, 0.2917271 , 0.46089804]], dtype=float32)"
      ]
     },
     "execution_count": 285,
     "metadata": {},
     "output_type": "execute_result"
    }
   ],
   "source": [
    "## 예측\n",
    "model.predict([[5.1, 3.5, 1.4, 0.2]])"
   ]
  }
 ],
 "metadata": {
  "kernelspec": {
   "display_name": "Python 3 (ipykernel)",
   "language": "python",
   "name": "python3"
  },
  "language_info": {
   "codemirror_mode": {
    "name": "ipython",
    "version": 3
   },
   "file_extension": ".py",
   "mimetype": "text/x-python",
   "name": "python",
   "nbconvert_exporter": "python",
   "pygments_lexer": "ipython3",
   "version": "3.9.12"
  }
 },
 "nbformat": 4,
 "nbformat_minor": 5
}
