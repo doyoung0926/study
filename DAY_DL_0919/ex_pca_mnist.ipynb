{
 "cells": [
  {
   "cell_type": "markdown",
   "id": "1a680b97",
   "metadata": {},
   "source": [
    "# MNIST + PCA\n",
    "---\n",
    "- Feature 784 ==> 주요 Feature로 압축"
   ]
  },
  {
   "cell_type": "code",
   "execution_count": 142,
   "id": "cc779901",
   "metadata": {},
   "outputs": [],
   "source": [
    "from sklearn.datasets import fetch_openml\n",
    "from sklearn.decomposition import PCA\n",
    "from tensorflow.keras.datasets.mnist import load_data\n",
    "import numpy as np\n",
    "import matplotlib.pyplot as plt\n",
    "import pandas as pd"
   ]
  },
  {
   "cell_type": "markdown",
   "id": "fdc5a3e0",
   "metadata": {},
   "source": [
    "## [1] 데이터 로딩"
   ]
  },
  {
   "cell_type": "code",
   "execution_count": 143,
   "id": "c5b45c37",
   "metadata": {},
   "outputs": [],
   "source": [
    "(x_train, y_train), (x_test, y_test)=load_data()"
   ]
  },
  {
   "cell_type": "code",
   "execution_count": 144,
   "id": "27e60dbb",
   "metadata": {},
   "outputs": [
    {
     "data": {
      "text/plain": [
       "((60000, 28, 28), (10000, 28, 28))"
      ]
     },
     "execution_count": 144,
     "metadata": {},
     "output_type": "execute_result"
    }
   ],
   "source": [
    "x_train.shape, x_test.shape"
   ]
  },
  {
   "cell_type": "markdown",
   "id": "53c7fb2d",
   "metadata": {},
   "source": [
    "## [2] 데이터 전처리 및 형변환"
   ]
  },
  {
   "cell_type": "code",
   "execution_count": 145,
   "id": "bc5ea653",
   "metadata": {},
   "outputs": [],
   "source": [
    "# 0~1사이 범위값으로 피쳐(Feature) 정규화\n",
    "x_train=x_train/255.0\n",
    "x_test=x_test/255.0"
   ]
  },
  {
   "cell_type": "code",
   "execution_count": 146,
   "id": "e39e71b5",
   "metadata": {},
   "outputs": [],
   "source": [
    "# PCA 2차원 데이터 처리 3D => 2D 형변환\n",
    "x_train=x_train.reshape(-1, 28*28)\n",
    "x_test=x_test.reshape(-1, 28*28)"
   ]
  },
  {
   "cell_type": "code",
   "execution_count": 147,
   "id": "c507cbe5",
   "metadata": {},
   "outputs": [
    {
     "name": "stdout",
     "output_type": "stream",
     "text": [
      "x_train.shape : (60000, 784), x_test.shape : (10000, 784)\n"
     ]
    }
   ],
   "source": [
    "print(f'x_train.shape : {x_train.shape}, x_test.shape : {x_test.shape}')"
   ]
  },
  {
   "cell_type": "markdown",
   "id": "68612b08",
   "metadata": {},
   "source": [
    "## [2] MNIST의 PC(주성분 요소) 수 찾기\n",
    "---"
   ]
  },
  {
   "cell_type": "code",
   "execution_count": 148,
   "id": "7b23aad7",
   "metadata": {},
   "outputs": [],
   "source": [
    "# PCA 객체 생성\n",
    "pca=PCA(n_components=0.95)"
   ]
  },
  {
   "cell_type": "code",
   "execution_count": 149,
   "id": "0cf447a1",
   "metadata": {},
   "outputs": [
    {
     "data": {
      "text/plain": [
       "PCA(n_components=0.95)"
      ]
     },
     "execution_count": 149,
     "metadata": {},
     "output_type": "execute_result"
    }
   ],
   "source": [
    "# PC 계산\n",
    "pca.fit(x_train)"
   ]
  },
  {
   "cell_type": "code",
   "execution_count": 150,
   "id": "c20a04c1",
   "metadata": {},
   "outputs": [
    {
     "name": "stdout",
     "output_type": "stream",
     "text": [
      "pca.singular_values_ : [554.08236184 473.79289646 441.76832659 412.90967564 392.45954891\n",
      " 369.34743738 321.72592959 302.04650943 295.59576934 273.06366032\n",
      " 258.31039157 252.97700677 232.98056847 231.36547104 223.47337767\n",
      " 216.59463867 204.70103539 200.98426661 193.8016728  190.95856472\n",
      " 183.65236363 178.45839561 173.68452004 169.90685928 167.17214551\n",
      " 162.9474728  160.33074547 157.72351701 153.49152274 147.83552759\n",
      " 144.28725    143.19277799 138.07150073 136.22239172 134.28567117\n",
      " 131.13991042 126.49333601 124.2313057  123.40999747 122.22992796\n",
      " 120.20481924 118.62713309 115.06215042 112.23881111 110.35705642\n",
      " 108.93302362 107.01475474 105.46372614 103.71956692 100.90840213\n",
      " 100.45950025  99.47658474  96.76475599  95.60902108  94.8075482\n",
      "  92.66540711  92.3380578   90.42557427  89.59931997  87.99801628\n",
      "  87.22623816  87.0004999   85.37550857  83.71483558  82.22568067\n",
      "  80.9665046   80.14523835  78.90007754  78.10823212  77.24889952\n",
      "  76.90918966  75.68727777  74.94785429  74.38349456  72.41384403\n",
      "  72.00547004  71.469276    70.05077701  68.33549279  67.30065293\n",
      "  67.04590903  66.82352995  66.5914453   65.52878832  65.07117027\n",
      "  64.71754652  64.16796224  63.10307337  62.3351542   62.0187697\n",
      "  60.84724886  60.28290373  59.85383983  59.22727057  58.72201077\n",
      "  58.1594256   57.41290684  57.36076904  56.5972135   56.39310145\n",
      "  55.79373442  54.81180891  54.57044799  53.83580892  53.59092793\n",
      "  53.26591092  52.32272174  52.01287174  51.72156693  51.00947631\n",
      "  50.04176729  49.86299964  49.82072842  49.31734234  49.16263463\n",
      "  48.80980057  48.27850824  47.96126982  47.7139341   47.28651838\n",
      "  46.90390921  46.79372995  46.49335018  46.17783007  45.93110297\n",
      "  45.18074297  44.84086799  44.70139093  44.39202671  43.75885024\n",
      "  43.69730012  43.36636739  43.14061636  43.07502119  42.88441615\n",
      "  42.71776149  42.2912094   41.8927035   41.14623249  40.78928805\n",
      "  40.7570055   40.17709417  39.88921118  39.81407897  39.72000871\n",
      "  39.41447268  39.19182526  39.08305782  38.72394262  38.49195148\n",
      "  38.41987497  38.28496768  38.1179312   37.74622774]\n",
      "pca.explained_variance_ratio_ : [0.09704664 0.07095924 0.06169089 0.05389419 0.04868797 0.04312231\n",
      " 0.0327193  0.02883895 0.02762029 0.02357001 0.0210919  0.02022991\n",
      " 0.01715818 0.01692111 0.01578641 0.01482953 0.01324561 0.01276897\n",
      " 0.01187263 0.01152684 0.01066166 0.01006713 0.00953573 0.00912544\n",
      " 0.00883405 0.00839319 0.00812579 0.00786366 0.00744733 0.00690859\n",
      " 0.00658094 0.00648148 0.00602615 0.00586582 0.00570021 0.00543628\n",
      " 0.00505786 0.00487859 0.00481429 0.00472266 0.00456747 0.00444836\n",
      " 0.00418501 0.00398215 0.00384975 0.00375103 0.00362009 0.00351591\n",
      " 0.00340058 0.00321874 0.00319017 0.00312805 0.00295983 0.00288955\n",
      " 0.0028413  0.00271436 0.00269521 0.00258473 0.00253771 0.00244781\n",
      " 0.00240506 0.00239263 0.00230408 0.00221532 0.00213721 0.00207225\n",
      " 0.00203043 0.00196783 0.00192853 0.00188632 0.00186977 0.00181083\n",
      " 0.00177562 0.00174898 0.00165758 0.00163894 0.00161462 0.00155116\n",
      " 0.00147613 0.00143176 0.00142094 0.00141153 0.00140174 0.00135736\n",
      " 0.00133847 0.00132396 0.00130157 0.00125873 0.00122828 0.00121584\n",
      " 0.00117034 0.00114874 0.00113244 0.00110886 0.00109002 0.00106923\n",
      " 0.00104196 0.00104007 0.00101256 0.00100527 0.00098402 0.00094969\n",
      " 0.00094134 0.00091617 0.00090785 0.00089687 0.00086539 0.00085517\n",
      " 0.00084562 0.0008225  0.00079158 0.00078594 0.00078461 0.00076883\n",
      " 0.00076402 0.00075309 0.00073678 0.00072713 0.00071965 0.00070682\n",
      " 0.00069542 0.00069216 0.0006833  0.00067406 0.00066688 0.00064527\n",
      " 0.00063559 0.00063165 0.00062293 0.00060529 0.00060359 0.00059448\n",
      " 0.00058831 0.00058652 0.00058134 0.00057683 0.00056537 0.00055476\n",
      " 0.00053517 0.00052593 0.00052509 0.00051026 0.00050297 0.00050108\n",
      " 0.00049871 0.00049107 0.00048554 0.00048285 0.00047401 0.00046835\n",
      " 0.0004666  0.00046333 0.00045929 0.00045038]\n"
     ]
    }
   ],
   "source": [
    "# PC 확인\n",
    "print(f'pca.singular_values_ : {pca.singular_values_}\\npca.explained_variance_ratio_ : {pca.explained_variance_ratio_}')"
   ]
  },
  {
   "cell_type": "code",
   "execution_count": 151,
   "id": "5710f937",
   "metadata": {},
   "outputs": [],
   "source": [
    "# PC기반 데이터 투영\n",
    "mnistPCA=pca.transform(x_train)"
   ]
  },
  {
   "cell_type": "code",
   "execution_count": 152,
   "id": "a68c11d9",
   "metadata": {},
   "outputs": [
    {
     "name": "stdout",
     "output_type": "stream",
     "text": [
      "mnistPCA.shape : (60000, 154)\n"
     ]
    }
   ],
   "source": [
    "print(f'mnistPCA.shape : {mnistPCA.shape}')"
   ]
  },
  {
   "cell_type": "code",
   "execution_count": 153,
   "id": "b63a67df",
   "metadata": {},
   "outputs": [
    {
     "data": {
      "text/plain": [
       "(60000, 784)"
      ]
     },
     "execution_count": 153,
     "metadata": {},
     "output_type": "execute_result"
    }
   ],
   "source": [
    "# 압축된 피쳐성분기반 원래 성분 복원\n",
    "reMnist=pca.inverse_transform(mnistPCA)\n",
    "reMnist.shape"
   ]
  },
  {
   "cell_type": "code",
   "execution_count": 154,
   "id": "4468ed99",
   "metadata": {},
   "outputs": [],
   "source": [
    "# PCA 전후 이미지 비교\n",
    "def drawImage(selecImg, title):\n",
    "    plt.imshow(selecImg.reshape(28,28), cmap='gray')\n",
    "    plt.title(f'[{title}]')\n",
    "    plt.show()"
   ]
  },
  {
   "cell_type": "code",
   "execution_count": 155,
   "id": "d392285f",
   "metadata": {},
   "outputs": [
    {
     "data": {
      "image/png": "[encoded data removed]",
      "text/plain": [
       "<Figure size 432x288 with 1 Axes>"
      ]
     },
     "metadata": {
      "needs_background": "light"
     },
     "output_type": "display_data"
    }
   ],
   "source": [
    "drawImage(x_train[0], 'Original-MNIST')"
   ]
  },
  {
   "cell_type": "code",
   "execution_count": 156,
   "id": "e321ff35",
   "metadata": {},
   "outputs": [
    {
     "data": {
      "image/png": "[encoded data removed]",
      "text/plain": [
       "<Figure size 432x288 with 1 Axes>"
      ]
     },
     "metadata": {
      "needs_background": "light"
     },
     "output_type": "display_data"
    }
   ],
   "source": [
    "drawImage(reMnist[0], 'Re-MNIST')"
   ]
  },
  {
   "cell_type": "raw",
   "id": "e8de7169",
   "metadata": {},
   "source": []
  }
 ],
 "metadata": {
  "kernelspec": {
   "display_name": "Python 3 (ipykernel)",
   "language": "python",
   "name": "python3"
  },
  "language_info": {
   "codemirror_mode": {
    "name": "ipython",
    "version": 3
   },
   "file_extension": ".py",
   "mimetype": "text/x-python",
   "name": "python",
   "nbconvert_exporter": "python",
   "pygments_lexer": "ipython3",
   "version": "3.9.12"
  }
 },
 "nbformat": 4,
 "nbformat_minor": 5
}
