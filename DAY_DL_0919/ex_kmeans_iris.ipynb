{
 "cells": [
  {
   "cell_type": "markdown",
   "id": "64896806",
   "metadata": {},
   "source": [
    "## K-Means 분할적 군집화\n",
    "---\n",
    "- 지정된 K만큼 임의의 중심점(Centroid)를 지정\n",
    "- 중심점(Centroid)를 기준으로 가까운 거리에 있는 데이터를 하나의 군집으로 묶기\n",
    "- 군집마다 다시 중심점(Centroid) 계산\n",
    "- 중심점(Centroid) 이동이 더 이상 변경되지 않을 때까지 반복하는 방법"
   ]
  },
  {
   "cell_type": "code",
   "execution_count": 2,
   "id": "ff243eda",
   "metadata": {},
   "outputs": [],
   "source": [
    "from sklearn.datasets import load_iris\n",
    "from sklearn.cluster import KMeans\n",
    "import matplotlib.pyplot as plt\n",
    "import numpy as np"
   ]
  },
  {
   "cell_type": "markdown",
   "id": "e6676b53",
   "metadata": {},
   "source": [
    "## [1] 데이터 로딩 및 준비"
   ]
  },
  {
   "cell_type": "code",
   "execution_count": 3,
   "id": "652e2627",
   "metadata": {},
   "outputs": [],
   "source": [
    "iris=load_iris()"
   ]
  },
  {
   "cell_type": "code",
   "execution_count": 4,
   "id": "487e5246",
   "metadata": {},
   "outputs": [],
   "source": [
    "irisData=iris.data"
   ]
  },
  {
   "cell_type": "code",
   "execution_count": 5,
   "id": "3e6d611f",
   "metadata": {},
   "outputs": [
    {
     "data": {
      "text/plain": [
       "(150, 4)"
      ]
     },
     "execution_count": 5,
     "metadata": {},
     "output_type": "execute_result"
    }
   ],
   "source": [
    "irisData.shape"
   ]
  },
  {
   "cell_type": "code",
   "execution_count": 6,
   "id": "f2e5f3a6",
   "metadata": {},
   "outputs": [
    {
     "data": {
      "text/plain": [
       "['sepal length (cm)', 'sepal width (cm)']"
      ]
     },
     "execution_count": 6,
     "metadata": {},
     "output_type": "execute_result"
    }
   ],
   "source": [
    "iris.feature_names[:2]"
   ]
  },
  {
   "cell_type": "code",
   "execution_count": 7,
   "id": "dfc0eca8",
   "metadata": {},
   "outputs": [
    {
     "data": {
      "text/plain": [
       "(150, 2)"
      ]
     },
     "execution_count": 7,
     "metadata": {},
     "output_type": "execute_result"
    }
   ],
   "source": [
    "irisData=irisData[:, :2]\n",
    "irisData.shape"
   ]
  },
  {
   "cell_type": "code",
   "execution_count": 8,
   "id": "602f33d1",
   "metadata": {},
   "outputs": [],
   "source": [
    "from sklearn.preprocessing import StandardScaler"
   ]
  },
  {
   "cell_type": "code",
   "execution_count": 9,
   "id": "fe2ad2b9",
   "metadata": {},
   "outputs": [],
   "source": [
    "scaler=StandardScaler()"
   ]
  },
  {
   "cell_type": "code",
   "execution_count": 10,
   "id": "0c51ecc9",
   "metadata": {},
   "outputs": [
    {
     "data": {
      "text/plain": [
       "StandardScaler()"
      ]
     },
     "execution_count": 10,
     "metadata": {},
     "output_type": "execute_result"
    }
   ],
   "source": [
    "scaler.fit(irisData)"
   ]
  },
  {
   "cell_type": "code",
   "execution_count": 11,
   "id": "fabdfddb",
   "metadata": {},
   "outputs": [],
   "source": [
    "scaled_irisData=scaler.transform(irisData)"
   ]
  },
  {
   "cell_type": "markdown",
   "id": "4c2ef774",
   "metadata": {},
   "source": [
    "## [2] 데이터 처리"
   ]
  },
  {
   "cell_type": "code",
   "execution_count": 12,
   "id": "52858f15",
   "metadata": {},
   "outputs": [],
   "source": [
    "irisCluster=KMeans(n_clusters=2)"
   ]
  },
  {
   "cell_type": "code",
   "execution_count": 13,
   "id": "4ef27025",
   "metadata": {},
   "outputs": [
    {
     "data": {
      "text/plain": [
       "KMeans(n_clusters=2)"
      ]
     },
     "execution_count": 13,
     "metadata": {},
     "output_type": "execute_result"
    }
   ],
   "source": [
    "irisCluster.fit(scaled_irisData)"
   ]
  },
  {
   "cell_type": "code",
   "execution_count": 14,
   "id": "352d6d1a",
   "metadata": {
    "scrolled": true
   },
   "outputs": [
    {
     "name": "stdout",
     "output_type": "stream",
     "text": [
      "cluster_centers_ : [[-0.97822861  0.90390597]\n",
      " [ 0.4891143  -0.45195298]]\n",
      "labels_          : [0 0 0 0 0 0 0 0 0 0 0 0 0 0 0 0 0 0 0 0 0 0 0 0 0 0 0 0 0 0 0 0 0 0 0 0 0\n",
      " 0 0 0 0 1 0 0 0 0 0 0 0 0 1 1 1 1 1 1 1 1 1 1 1 1 1 1 1 1 1 1 1 1 1 1 1 1\n",
      " 1 1 1 1 1 1 1 1 1 1 1 0 1 1 1 1 1 1 1 1 1 1 1 1 1 1 1 1 1 1 1 1 1 1 1 1 1\n",
      " 1 1 1 1 1 1 1 1 1 1 1 1 1 1 1 1 1 1 1 1 1 1 1 1 1 1 1 1 1 1 1 1 1 1 1 1 1\n",
      " 1 1]\n",
      "labels_ Counts   : (array([0, 1]), array([ 50, 100], dtype=int64))\n",
      "inertia_         : 166.9517093393448\n",
      "n_iter_          : 5\n"
     ]
    }
   ],
   "source": [
    "# Cluster 객체 속성 확인\n",
    "print(f'cluster_centers_ : {irisCluster.cluster_centers_}')\n",
    "print(f'labels_          : {irisCluster.labels_}')\n",
    "print(f'labels_ Counts   : {np.unique(irisCluster.labels_, return_counts=True)}')\n",
    "print(f'inertia_         : {irisCluster.inertia_}')\n",
    "print(f'n_iter_          : {irisCluster.n_iter_}')"
   ]
  },
  {
   "cell_type": "code",
   "execution_count": 15,
   "id": "af9f238a",
   "metadata": {},
   "outputs": [],
   "source": [
    "# 샘플데이터 => 결정된 군집으로 변환\n",
    "transIris=irisCluster.transform(scaled_irisData)"
   ]
  },
  {
   "cell_type": "code",
   "execution_count": 16,
   "id": "ea7a5cc0",
   "metadata": {},
   "outputs": [
    {
     "data": {
      "text/plain": [
       "array([-0.97822861,  0.90390597])"
      ]
     },
     "execution_count": 16,
     "metadata": {},
     "output_type": "execute_result"
    }
   ],
   "source": [
    "irisCluster.cluster_centers_[0]"
   ]
  },
  {
   "cell_type": "markdown",
   "id": "e13a5fbe",
   "metadata": {},
   "source": [
    "## 시각화\n",
    "---"
   ]
  },
  {
   "cell_type": "code",
   "execution_count": 17,
   "id": "64f1268a",
   "metadata": {},
   "outputs": [],
   "source": [
    "import pandas as pd"
   ]
  },
  {
   "cell_type": "code",
   "execution_count": 18,
   "id": "701f85cc",
   "metadata": {},
   "outputs": [
    {
     "data": {
      "text/plain": [
       "(150, 2)"
      ]
     },
     "execution_count": 18,
     "metadata": {},
     "output_type": "execute_result"
    }
   ],
   "source": [
    "irisDF=pd.DataFrame(scaled_irisData)\n",
    "irisDF.shape"
   ]
  },
  {
   "cell_type": "code",
   "execution_count": 19,
   "id": "23b7eb6a",
   "metadata": {},
   "outputs": [
    {
     "data": {
      "image/png": "[encoded data removed]",
      "text/plain": [
       "<Figure size 432x288 with 1 Axes>"
      ]
     },
     "metadata": {
      "needs_background": "light"
     },
     "output_type": "display_data"
    }
   ],
   "source": [
    "plt.scatter(scaled_irisData[:, 0], scaled_irisData[:, 1], c='skyblue')\n",
    "plt.plot(irisCluster.cluster_centers_[0][0], irisCluster.cluster_centers_[0][1], 'rs', label='c1')\n",
    "plt.plot(irisCluster.cluster_centers_[1][0], irisCluster.cluster_centers_[1][1], 'b^', label='c2')\n",
    "plt.legend()\n",
    "plt.show()"
   ]
  },
  {
   "cell_type": "code",
   "execution_count": 20,
   "id": "c66b39ba",
   "metadata": {},
   "outputs": [
    {
     "name": "stderr",
     "output_type": "stream",
     "text": [
      "C:\\ProgramData\\Anaconda3\\lib\\site-packages\\sklearn\\cluster\\_kmeans.py:1036: UserWarning: KMeans is known to have a memory leak on Windows with MKL, when there are less chunks than available threads. You can avoid it by setting the environment variable OMP_NUM_THREADS=1.\n",
      "  warnings.warn(\n"
     ]
    }
   ],
   "source": [
    "inert= []\n",
    "for n_clusters in range(1, 11):\n",
    "    irisCluster=KMeans(n_clusters)\n",
    "    irisCluster.fit(scaled_irisData)\n",
    "    inert.append(irisCluster.inertia_)"
   ]
  },
  {
   "cell_type": "code",
   "execution_count": 21,
   "id": "91578c34",
   "metadata": {
    "scrolled": true
   },
   "outputs": [
    {
     "data": {
      "image/png": "[encoded data removed]",
      "text/plain": [
       "<Figure size 864x576 with 1 Axes>"
      ]
     },
     "metadata": {
      "needs_background": "light"
     },
     "output_type": "display_data"
    }
   ],
   "source": [
    "# 최적의 k 찾기\n",
    "plt.figure(figsize=(12,8))\n",
    "plt.plot(range(1,11), inert, 'b-')\n",
    "plt.plot(5,21, 'ro')\n",
    "plt.show()"
   ]
  },
  {
   "cell_type": "markdown",
   "id": "0a88c593",
   "metadata": {},
   "source": [
    "## 군집화 성능 체크\n",
    "---\n",
    "- 실루엣 계수/지수/인덱스\n",
    "    * 범위 : -1 ~ 1\n",
    "        * 1: 군집화 아주 잘 됨\n",
    "        * 0.5이상 : 군집화 잘 됨\n",
    "        * -1 : 군집화 안 됨"
   ]
  },
  {
   "cell_type": "code",
   "execution_count": 22,
   "id": "daffc604",
   "metadata": {
    "scrolled": true
   },
   "outputs": [
    {
     "data": {
      "text/plain": [
       "0.42592735526762737"
      ]
     },
     "execution_count": 22,
     "metadata": {},
     "output_type": "execute_result"
    }
   ],
   "source": [
    "# 실루엣 점수 <- 1에 가까울수록 군집화 잘 된 것\n",
    "from sklearn.metrics import silhouette_score\n",
    "\n",
    "silhouette_score(scaled_irisData, irisCluster.labels_, metric='euclidean')"
   ]
  },
  {
   "cell_type": "markdown",
   "id": "27bd8978",
   "metadata": {},
   "source": [
    "### n_clusters = 5 에 대한 데이터"
   ]
  },
  {
   "cell_type": "code",
   "execution_count": 23,
   "id": "d29c6f49",
   "metadata": {
    "scrolled": true
   },
   "outputs": [
    {
     "name": "stdout",
     "output_type": "stream",
     "text": [
      "cluster_centers_ : [[ 1.22714485  0.17682106]\n",
      " [-1.15648001  0.52663905]\n",
      " [-0.473405   -1.53739132]\n",
      " [ 0.18982966 -0.54745657]\n",
      " [-0.57445998  1.95749886]]\n",
      "labels_          : [1 1 1 1 1 4 1 1 1 1 4 1 1 1 4 4 4 1 4 4 1 4 1 1 1 1 1 1 1 1 1 1 4 4 1 1 1\n",
      " 1 1 1 1 2 1 1 4 1 4 1 4 1 0 0 0 2 3 3 0 2 0 2 2 3 2 3 3 0 3 3 2 2 3 3 3 3\n",
      " 3 0 0 0 3 2 2 2 3 3 3 0 0 2 3 2 2 3 3 2 3 3 3 3 2 3 0 3 0 3 0 0 2 0 3 0 0\n",
      " 3 0 2 3 0 0 0 0 2 0 3 0 3 0 0 3 3 3 0 0 0 3 3 3 0 0 0 3 0 0 0 3 0 0 0 3 0\n",
      " 0 3]\n",
      "labels_ Counts   : (array([0, 1, 2, 3, 4]), array([41, 36, 19, 41, 13], dtype=int64))\n",
      "inertia_         : 61.80924909521251\n",
      "n_iter_          : 7\n"
     ]
    }
   ],
   "source": [
    "irisCluster=KMeans(n_clusters=5)\n",
    "irisCluster.fit(scaled_irisData)\n",
    "transIris=irisCluster.transform(scaled_irisData)\n",
    "\n",
    "# Cluster 객체 속성 확인\n",
    "print(f'cluster_centers_ : {irisCluster.cluster_centers_}')\n",
    "print(f'labels_          : {irisCluster.labels_}')\n",
    "print(f'labels_ Counts   : {np.unique(irisCluster.labels_, return_counts=True)}')\n",
    "print(f'inertia_         : {irisCluster.inertia_}')\n",
    "print(f'n_iter_          : {irisCluster.n_iter_}')"
   ]
  },
  {
   "cell_type": "code",
   "execution_count": 32,
   "id": "98743c26",
   "metadata": {},
   "outputs": [
    {
     "data": {
      "image/png": "[encoded data removed]",
      "text/plain": [
       "<Figure size 432x288 with 1 Axes>"
      ]
     },
     "metadata": {
      "needs_background": "light"
     },
     "output_type": "display_data"
    }
   ],
   "source": [
    "plt.plot(scaled_irisData[irisCluster.labels_==0][:, 0], scaled_irisData[irisCluster.labels_==0][:, 1], 'yo')\n",
    "plt.plot(scaled_irisData[irisCluster.labels_==1][:, 0], scaled_irisData[irisCluster.labels_==1][:, 1], 'go')\n",
    "plt.plot(scaled_irisData[irisCluster.labels_==2][:, 0], scaled_irisData[irisCluster.labels_==2][:, 1], 'bo')\n",
    "plt.plot(scaled_irisData[irisCluster.labels_==3][:, 0], scaled_irisData[irisCluster.labels_==3][:, 1], 'o')\n",
    "plt.plot(scaled_irisData[irisCluster.labels_==4][:, 0], scaled_irisData[irisCluster.labels_==4][:, 1], 'mo')\n",
    "plt.plot(irisCluster.cluster_centers_[0][0], irisCluster.cluster_centers_[0][1], 'rs')\n",
    "plt.plot(irisCluster.cluster_centers_[1][0], irisCluster.cluster_centers_[1][1], 'rs')\n",
    "plt.plot(irisCluster.cluster_centers_[2][0], irisCluster.cluster_centers_[2][1], 'rs')\n",
    "plt.plot(irisCluster.cluster_centers_[3][0], irisCluster.cluster_centers_[3][1], 'rs')\n",
    "plt.plot(irisCluster.cluster_centers_[4][0], irisCluster.cluster_centers_[4][1], 'rs')\n",
    "plt.show()"
   ]
  },
  {
   "cell_type": "code",
   "execution_count": 25,
   "id": "6aabac6f",
   "metadata": {},
   "outputs": [
    {
     "data": {
      "text/plain": [
       "array([1, 1, 1, 1, 1, 4, 1, 1, 1, 1, 4, 1, 1, 1, 4, 4, 4, 1, 4, 4, 1, 4,\n",
       "       1, 1, 1, 1, 1, 1, 1, 1, 1, 1, 4, 4, 1, 1, 1, 1, 1, 1, 1, 2, 1, 1,\n",
       "       4, 1, 4, 1, 4, 1, 0, 0, 0, 2, 3, 3, 0, 2, 0, 2, 2, 3, 2, 3, 3, 0,\n",
       "       3, 3, 2, 2, 3, 3, 3, 3, 3, 0, 0, 0, 3, 2, 2, 2, 3, 3, 3, 0, 0, 2,\n",
       "       3, 2, 2, 3, 3, 2, 3, 3, 3, 3, 2, 3, 0, 3, 0, 3, 0, 0, 2, 0, 3, 0,\n",
       "       0, 3, 0, 2, 3, 0, 0, 0, 0, 2, 0, 3, 0, 3, 0, 0, 3, 3, 3, 0, 0, 0,\n",
       "       3, 3, 3, 0, 0, 0, 3, 0, 0, 0, 3, 0, 0, 0, 3, 0, 0, 3])"
      ]
     },
     "execution_count": 25,
     "metadata": {},
     "output_type": "execute_result"
    }
   ],
   "source": [
    "irisCluster.labels_"
   ]
  },
  {
   "cell_type": "markdown",
   "id": "4106340d",
   "metadata": {},
   "source": [
    "## 군집화 이후 추가 작업\n",
    "---\n",
    "- 라벨과 데이터를 가지고 지도학습 분류로 성능 체크"
   ]
  },
  {
   "cell_type": "code",
   "execution_count": 26,
   "id": "df5c309c",
   "metadata": {},
   "outputs": [],
   "source": [
    "from sklearn.linear_model import LogisticRegression"
   ]
  },
  {
   "cell_type": "code",
   "execution_count": 27,
   "id": "5350de1f",
   "metadata": {},
   "outputs": [
    {
     "data": {
      "text/plain": [
       "((150, 1), (150, 2))"
      ]
     },
     "execution_count": 27,
     "metadata": {},
     "output_type": "execute_result"
    }
   ],
   "source": [
    "# 군집화로 생성된 데이터\n",
    "target=irisCluster.labels_.reshape(-1,1)\n",
    "target.shape, scaled_irisData.shape"
   ]
  },
  {
   "cell_type": "code",
   "execution_count": 28,
   "id": "a8289d3a",
   "metadata": {},
   "outputs": [
    {
     "data": {
      "text/plain": [
       "LogisticRegression(max_iter=500, random_state=11)"
      ]
     },
     "execution_count": 28,
     "metadata": {},
     "output_type": "execute_result"
    }
   ],
   "source": [
    "lrModel=LogisticRegression(random_state=11, max_iter=500)\n",
    "lrModel.fit(scaled_irisData, irisCluster.labels_)"
   ]
  },
  {
   "cell_type": "code",
   "execution_count": 29,
   "id": "b76e97eb",
   "metadata": {},
   "outputs": [],
   "source": [
    "pre_label=lrModel.predict(scaled_irisData)"
   ]
  },
  {
   "cell_type": "code",
   "execution_count": 30,
   "id": "8ce779f9",
   "metadata": {},
   "outputs": [
    {
     "data": {
      "text/plain": [
       "0.9866666666666667"
      ]
     },
     "execution_count": 30,
     "metadata": {},
     "output_type": "execute_result"
    }
   ],
   "source": [
    "lrModel.score(scaled_irisData, irisCluster.labels_)"
   ]
  },
  {
   "cell_type": "code",
   "execution_count": 31,
   "id": "43c4f540",
   "metadata": {},
   "outputs": [
    {
     "data": {
      "image/png": "[encoded data removed]",
      "text/plain": [
       "<Figure size 864x504 with 1 Axes>"
      ]
     },
     "metadata": {
      "needs_background": "light"
     },
     "output_type": "display_data"
    }
   ],
   "source": [
    "plt.figure(figsize=(12,7))\n",
    "plt.plot(pre_label, 'ro')\n",
    "plt.plot(irisCluster.labels_, 'b^')\n",
    "plt.axis([0, 150, 0, 3])\n",
    "plt.show()"
   ]
  },
  {
   "cell_type": "code",
   "execution_count": null,
   "id": "aebacbeb",
   "metadata": {},
   "outputs": [],
   "source": []
  }
 ],
 "metadata": {
  "kernelspec": {
   "display_name": "Python 3 (ipykernel)",
   "language": "python",
   "name": "python3"
  },
  "language_info": {
   "codemirror_mode": {
    "name": "ipython",
    "version": 3
   },
   "file_extension": ".py",
   "mimetype": "text/x-python",
   "name": "python",
   "nbconvert_exporter": "python",
   "pygments_lexer": "ipython3",
   "version": "3.9.12"
  }
 },
 "nbformat": 4,
 "nbformat_minor": 5
}
