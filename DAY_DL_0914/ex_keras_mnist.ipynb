{
 "cells": [
  {
   "cell_type": "markdown",
   "id": "ee44b9b6",
   "metadata": {},
   "source": [
    "## 손글씨 숫자 식별 모델\n",
    "---\n",
    "- 데 이 터 : MNIST 데이터 사용\n",
    "- 학습모델 : 신경망 모델\n",
    "- 동   작 : 0 ~ 9 사이 숫자 판별"
   ]
  },
  {
   "cell_type": "code",
   "execution_count": 114,
   "id": "0a9f6ed8",
   "metadata": {},
   "outputs": [],
   "source": [
    "from tensorflow.keras import Sequential\n",
    "from tensorflow.keras.layers import Dense, Dropout\n",
    "from tensorflow.keras.datasets.mnist import load_data\n",
    "from sklearn.model_selection import train_test_split"
   ]
  },
  {
   "cell_type": "markdown",
   "id": "87309f26",
   "metadata": {},
   "source": [
    "### [1] 데이터 로딩 및 준비"
   ]
  },
  {
   "cell_type": "code",
   "execution_count": 115,
   "id": "23421aa4",
   "metadata": {},
   "outputs": [],
   "source": [
    "(x_train, y_train), (x_test, y_test) = load_data()"
   ]
  },
  {
   "cell_type": "code",
   "execution_count": 116,
   "id": "c62c1b87",
   "metadata": {},
   "outputs": [
    {
     "name": "stdout",
     "output_type": "stream",
     "text": [
      "x_train.shape : (60000, 28, 28), x_test.shape : (10000, 28, 28)\n",
      "y_train.shape : (60000,), y_test.shape : (10000,)\n"
     ]
    }
   ],
   "source": [
    "print(f'x_train.shape : {x_train.shape}, x_test.shape : {x_test.shape}')\n",
    "print(f'y_train.shape : {y_train.shape}, y_test.shape : {y_test.shape}')"
   ]
  },
  {
   "cell_type": "code",
   "execution_count": 117,
   "id": "e1955227",
   "metadata": {},
   "outputs": [],
   "source": [
    "# 검증용 데이터 셋 준비\n",
    "x_train, x_val, y_train, y_val = train_test_split(x_train,\n",
    "                                                  y_train,\n",
    "                                                  stratify=y_train)"
   ]
  },
  {
   "cell_type": "code",
   "execution_count": 118,
   "id": "83c2c0e9",
   "metadata": {},
   "outputs": [
    {
     "name": "stdout",
     "output_type": "stream",
     "text": [
      "x_train.shape : (45000, 28, 28), x_val.shape : (15000, 28, 28)\n",
      "y_train.shape : (45000,), y_val.shape : (15000,)\n"
     ]
    }
   ],
   "source": [
    "print(f'x_train.shape : {x_train.shape}, x_val.shape : {x_val.shape}')\n",
    "print(f'y_train.shape : {y_train.shape}, y_val.shape : {y_val.shape}')\n"
   ]
  },
  {
   "cell_type": "markdown",
   "id": "8b9bd404",
   "metadata": {},
   "source": [
    "### [2] 데이터 전처리\n",
    "---\n",
    "- 수치 데이터   => 스케일링\n",
    "- 범주형 데이터 => 원핫인코딩"
   ]
  },
  {
   "cell_type": "code",
   "execution_count": 119,
   "id": "ba8a54fb",
   "metadata": {},
   "outputs": [
    {
     "data": {
      "text/plain": [
       "(array([[  0,   0,   0,   0,   0,   0,   0,   0,   0,   0,   0,   0,   0,\n",
       "           0,   0,   0,   0,   0,   0,   0,   0,   0,   0,   0,   0,   0,\n",
       "           0,   0],\n",
       "        [  0,   0,   0,   0,   0,   0,   0,   0,   0,   0,   0,   0,   0,\n",
       "           0,   0,   0,   0,   0,   0,   0,   0,   0,   0,   0,   0,   0,\n",
       "           0,   0],\n",
       "        [  0,   0,   0,   0,   0,   0,   0,   0,   0,   0,   0,   0,   0,\n",
       "           0,   0,   0,   0,   0,   0,   0,   0,   0,   0,   0,   0,   0,\n",
       "           0,   0],\n",
       "        [  0,   0,   0,   0,   0,   0,   0,   0,   0,   0,   0,   0,   0,\n",
       "           0,   0,   0,   0,   0,   0,   0,   0,   0,   0,   0,   0,   0,\n",
       "           0,   0],\n",
       "        [  0,   0,   0,   0,   0,   0,   0,   0,   0,   0,   0,   0,   0,\n",
       "           0,   0,   0,   0,   0,   0,   0,   0,   0,   0,   0,   0,   0,\n",
       "           0,   0],\n",
       "        [  0,   0,   0,   0,   0,   0,   0,   0,   0,   0,   3,  73, 153,\n",
       "         254, 255, 254, 255, 242,  62,   0,   0,   0,   0,   0,   0,   0,\n",
       "           0,   0],\n",
       "        [  0,   0,   0,   0,   0,   0,   0,   0,   0,  66, 188, 253, 253,\n",
       "         253, 217, 214, 253, 253, 236,  20,   0,   0,   0,   0,   0,   0,\n",
       "           0,   0],\n",
       "        [  0,   0,   0,   0,   0,   0,   0,   0,   4, 187, 236, 191,  69,\n",
       "          10,   6,   6,  46, 173, 253, 126,   0,   0,   0,   0,   0,   0,\n",
       "           0,   0],\n",
       "        [  0,   0,   0,   0,   0,   0,   0,   0,  18, 204,  91,   0,   0,\n",
       "           0,   0,   0,   0,  66, 253, 129,   0,   0,   0,   0,   0,   0,\n",
       "           0,   0],\n",
       "        [  0,   0,   0,   0,   0,   0,   0,   0,   0,   9,   0,   0,   0,\n",
       "           0,   0,   0,  56, 196, 253,  76,   0,   0,   0,   0,   0,   0,\n",
       "           0,   0],\n",
       "        [  0,   0,   0,   0,   0,   0,   0,   0,   0,   0,   0,   0,   0,\n",
       "           0,  59, 132, 235, 253, 231,  18,   0,   0,   0,   0,   0,   0,\n",
       "           0,   0],\n",
       "        [  0,   0,   0,   0,   0,   0,   0,   0,   0,   0,   0,  36, 122,\n",
       "         223, 247, 253, 248, 225,  51,   0,   0,   0,   0,   0,   0,   0,\n",
       "           0,   0],\n",
       "        [  0,   0,   0,   0,   0,   0,   0,   0,  32,  63, 154, 223, 253,\n",
       "         253, 253, 175,  57,   0,   0,   0,   0,   0,   0,   0,   0,   0,\n",
       "           0,   0],\n",
       "        [  0,   0,   0,   0,   0,   0,   0,   0, 217, 253, 253, 253, 253,\n",
       "         253, 213,   7,   0,   0,   0,   0,   0,   0,   0,   0,   0,   0,\n",
       "           0,   0],\n",
       "        [  0,   0,   0,   0,   0,   0,   0,   0, 191, 253, 229, 236, 253,\n",
       "         253, 253, 237, 120,   3,   0,   0,   0,   0,   0,   0,   0,   0,\n",
       "           0,   0],\n",
       "        [  0,   0,   0,   0,   0,   0,   0,   0,   6,  51,  27,  34,  51,\n",
       "          51, 134, 252, 253, 180,   0,   0,   0,   0,   0,   0,   0,   0,\n",
       "           0,   0],\n",
       "        [  0,   0,   0,   0,   0,   0,   0,   0,   0,   0,   0,   0,   0,\n",
       "           0,   0,  81, 243, 253, 185,   5,   0,   0,   0,   0,   0,   0,\n",
       "           0,   0],\n",
       "        [  0,   0,   0,   0,   0,   0,   0,   0,   0,   0,   0,   0,   0,\n",
       "           0,   0,   0, 114, 253, 253,  25,   0,   0,   0,   0,   0,   0,\n",
       "           0,   0],\n",
       "        [  0,   0,   0,   0,   0,   0,   0,   0,   0,   0,   0,   0,   0,\n",
       "           0,   0,   0,  42, 246, 253,  25,   0,   0,   0,   0,   0,   0,\n",
       "           0,   0],\n",
       "        [  0,   0,   0,   0,   0,   0,   0,   0,   0,   0,   0,   0,   0,\n",
       "           0,   0,   0,  28, 243, 253,  25,   0,   0,   0,   0,   0,   0,\n",
       "           0,   0],\n",
       "        [  0,   0,   0,   0,   0,   0,   0,   0,   0,   0,   0,   0,   0,\n",
       "           0,   0,   0,  89, 253, 253,  25,   0,   0,   0,   0,   0,   0,\n",
       "           0,   0],\n",
       "        [  0,   0,   0,   0,   0,   0,   0,   0,  46, 100,  36,   0,   0,\n",
       "           0,   0,   0, 158, 253, 253,  25,   0,   0,   0,   0,   0,   0,\n",
       "           0,   0],\n",
       "        [  0,   0,   0,   0,   0,   0,   0,   0, 130, 253, 230,  89,  11,\n",
       "          11,  51, 131, 245, 253, 139,   4,   0,   0,   0,   0,   0,   0,\n",
       "           0,   0],\n",
       "        [  0,   0,   0,   0,   0,   0,   0,   0,  59, 213, 253, 253, 253,\n",
       "         253, 253, 253, 253, 210,  27,   0,   0,   0,   0,   0,   0,   0,\n",
       "           0,   0],\n",
       "        [  0,   0,   0,   0,   0,   0,   0,   0,   0,  14, 102, 253, 253,\n",
       "         253, 253, 236, 149,  28,   0,   0,   0,   0,   0,   0,   0,   0,\n",
       "           0,   0],\n",
       "        [  0,   0,   0,   0,   0,   0,   0,   0,   0,   0,   0,   0,   0,\n",
       "           0,   0,   0,   0,   0,   0,   0,   0,   0,   0,   0,   0,   0,\n",
       "           0,   0],\n",
       "        [  0,   0,   0,   0,   0,   0,   0,   0,   0,   0,   0,   0,   0,\n",
       "           0,   0,   0,   0,   0,   0,   0,   0,   0,   0,   0,   0,   0,\n",
       "           0,   0],\n",
       "        [  0,   0,   0,   0,   0,   0,   0,   0,   0,   0,   0,   0,   0,\n",
       "           0,   0,   0,   0,   0,   0,   0,   0,   0,   0,   0,   0,   0,\n",
       "           0,   0]], dtype=uint8),\n",
       " 3)"
      ]
     },
     "execution_count": 119,
     "metadata": {},
     "output_type": "execute_result"
    }
   ],
   "source": [
    "# 저장된 값 확인\n",
    "x_train[0], y_train[0]"
   ]
  },
  {
   "cell_type": "code",
   "execution_count": 120,
   "id": "dc1987ba",
   "metadata": {},
   "outputs": [],
   "source": [
    "# 이미지 데이터의 픽셀값 즉 특성(Feature) 0.0~1.0으로 스케일링\n",
    "x_train = x_train/255.0  # 실수로 나오게 하려고 .0 함\n",
    "x_val = x_val/255.0\n",
    "x_test = x_test/255.0"
   ]
  },
  {
   "cell_type": "code",
   "execution_count": 121,
   "id": "c5bb34cd",
   "metadata": {},
   "outputs": [],
   "source": [
    "# 타겟 라벨 => OneHotEncoding으로 변환\n",
    "from sklearn.preprocessing import OneHotEncoder"
   ]
  },
  {
   "cell_type": "code",
   "execution_count": 122,
   "id": "d3f446e6",
   "metadata": {},
   "outputs": [],
   "source": [
    "encoder = OneHotEncoder()\n",
    "encoder.fit(y_train.reshape(-1,1))\n",
    "y_train = encoder.transform(y_train.reshape(-1,1))"
   ]
  },
  {
   "cell_type": "code",
   "execution_count": 123,
   "id": "8700d039",
   "metadata": {},
   "outputs": [
    {
     "data": {
      "text/plain": [
       "scipy.sparse.csr.csr_matrix"
      ]
     },
     "execution_count": 123,
     "metadata": {},
     "output_type": "execute_result"
    }
   ],
   "source": [
    "type(y_train)  # 희소 행렬"
   ]
  },
  {
   "cell_type": "code",
   "execution_count": 124,
   "id": "9304a062",
   "metadata": {},
   "outputs": [],
   "source": [
    "y_train = y_train.toarray()"
   ]
  },
  {
   "cell_type": "code",
   "execution_count": 125,
   "id": "a6d3c7f7",
   "metadata": {},
   "outputs": [
    {
     "name": "stdout",
     "output_type": "stream",
     "text": [
      "y_train : <class 'numpy.ndarray'>\n",
      "y_train[0] : [0. 0. 0. 1. 0. 0. 0. 0. 0. 0.]\n"
     ]
    }
   ],
   "source": [
    "print(f'y_train : {type(y_train)}\\ny_train[0] : {y_train[0]}')"
   ]
  },
  {
   "cell_type": "code",
   "execution_count": 126,
   "id": "462ae879",
   "metadata": {},
   "outputs": [],
   "source": [
    "y_test = encoder.transform(y_test.reshape(-1,1))\n",
    "y_val = encoder.transform(y_val.reshape(-1,1))"
   ]
  },
  {
   "cell_type": "code",
   "execution_count": 127,
   "id": "c733ccb8",
   "metadata": {},
   "outputs": [],
   "source": [
    "y_test = y_test.toarray()\n",
    "y_val = y_val.toarray()"
   ]
  },
  {
   "cell_type": "code",
   "execution_count": 128,
   "id": "2554c6b2",
   "metadata": {},
   "outputs": [
    {
     "data": {
      "text/plain": [
       "(45000, 28, 28)"
      ]
     },
     "execution_count": 128,
     "metadata": {},
     "output_type": "execute_result"
    }
   ],
   "source": [
    "# Dense Layer 입력 형태로 변환 -------------------------\n",
    "x_train.shape"
   ]
  },
  {
   "cell_type": "code",
   "execution_count": 129,
   "id": "3b3b0a7b",
   "metadata": {},
   "outputs": [
    {
     "data": {
      "text/plain": [
       "((45000, 784), (45000, 10))"
      ]
     },
     "execution_count": 129,
     "metadata": {},
     "output_type": "execute_result"
    }
   ],
   "source": [
    "x_train = x_train.reshape(-1, 28*28)\n",
    "x_train.shape, y_train.shape"
   ]
  },
  {
   "cell_type": "code",
   "execution_count": 130,
   "id": "648e4f81",
   "metadata": {},
   "outputs": [],
   "source": [
    "x_val = x_val.reshape(-1, 28*28)\n",
    "x_test = x_test.reshape(-1, 28*28)"
   ]
  },
  {
   "cell_type": "code",
   "execution_count": 131,
   "id": "b2e82005",
   "metadata": {},
   "outputs": [
    {
     "data": {
      "text/plain": [
       "((15000, 784), (10000, 784))"
      ]
     },
     "execution_count": 131,
     "metadata": {},
     "output_type": "execute_result"
    }
   ],
   "source": [
    "x_val.shape, x_test.shape"
   ]
  },
  {
   "cell_type": "markdown",
   "id": "d6e43fa5",
   "metadata": {},
   "source": [
    "### [3] 모델 생성\n",
    "---\n",
    "- (1) 모델 구성\n",
    "- (2) 모델 생성"
   ]
  },
  {
   "cell_type": "markdown",
   "id": "cadd2a18",
   "metadata": {},
   "source": [
    "#### [3-1] 모델 구성\n",
    "---\n",
    "- 입력 데이터 : 784 => 28 * 28 이미지 데이터\n",
    "- 출력 데이터 : 10  => 0 ~ 9 숫자 라벨\n",
    "- 학습 방 법 : 분류 - 다중분류"
   ]
  },
  {
   "cell_type": "code",
   "execution_count": 132,
   "id": "ed405738",
   "metadata": {},
   "outputs": [],
   "source": [
    "model = Sequential(name='MNIST_NNModel')"
   ]
  },
  {
   "cell_type": "code",
   "execution_count": 133,
   "id": "669882bf",
   "metadata": {},
   "outputs": [],
   "source": [
    "# Layer 생성 => Node(퍼셉트론, 뉴런) 개수, 활성화함수, [옵]input_shape param\n",
    "model.add( Dense(250, activation='relu', input_shape=(784,)))"
   ]
  },
  {
   "cell_type": "code",
   "execution_count": 134,
   "id": "f9ee8046",
   "metadata": {},
   "outputs": [],
   "source": [
    "model.add( Dropout(0.3))"
   ]
  },
  {
   "cell_type": "code",
   "execution_count": 135,
   "id": "9937517f",
   "metadata": {},
   "outputs": [],
   "source": [
    "model.add( Dense(100, activation='relu'))"
   ]
  },
  {
   "cell_type": "code",
   "execution_count": 136,
   "id": "8c1849a8",
   "metadata": {},
   "outputs": [],
   "source": [
    "model.add( Dropout(0.3))"
   ]
  },
  {
   "cell_type": "code",
   "execution_count": 137,
   "id": "4dcf3f1f",
   "metadata": {},
   "outputs": [],
   "source": [
    "# 출력 Layer 생성 => Node(퍼셉트론, 뉴런) 개수, 활성화함수\n",
    "model.add( Dense(10, activation='softmax'))"
   ]
  },
  {
   "cell_type": "code",
   "execution_count": 138,
   "id": "36d90b66",
   "metadata": {
    "scrolled": true
   },
   "outputs": [
    {
     "name": "stdout",
     "output_type": "stream",
     "text": [
      "Model: \"MNIST_NNModel\"\n",
      "_________________________________________________________________\n",
      " Layer (type)                Output Shape              Param #   \n",
      "=================================================================\n",
      " dense_9 (Dense)             (None, 250)               196250    \n",
      "                                                                 \n",
      " dropout_6 (Dropout)         (None, 250)               0         \n",
      "                                                                 \n",
      " dense_10 (Dense)            (None, 100)               25100     \n",
      "                                                                 \n",
      " dropout_7 (Dropout)         (None, 100)               0         \n",
      "                                                                 \n",
      " dense_11 (Dense)            (None, 10)                1010      \n",
      "                                                                 \n",
      "=================================================================\n",
      "Total params: 222,360\n",
      "Trainable params: 222,360\n",
      "Non-trainable params: 0\n",
      "_________________________________________________________________\n"
     ]
    }
   ],
   "source": [
    "model.summary()"
   ]
  },
  {
   "cell_type": "markdown",
   "id": "8a94afce",
   "metadata": {},
   "source": [
    "#### [3-2] 모델 생성\n",
    "---\n",
    "- loss 함수 => crossentropy\n",
    "    * 이진분류 : binary_crossentropy\n",
    "    * 다중분류 : sparse_categorical_crossentropy, categorical_crossentropy\n",
    "- optimizer 기법 => 'rmsprop'\n",
    "- metrics 평가항목 => 'loss'"
   ]
  },
  {
   "cell_type": "code",
   "execution_count": 139,
   "id": "b107ec13",
   "metadata": {},
   "outputs": [],
   "source": [
    "model.compile(loss='categorical_crossentropy',\n",
    "              optimizer='adam',\n",
    "              metrics='accuracy')"
   ]
  },
  {
   "cell_type": "markdown",
   "id": "c9fe2913",
   "metadata": {},
   "source": [
    "### [4] 학습"
   ]
  },
  {
   "cell_type": "code",
   "execution_count": 140,
   "id": "20ed87f1",
   "metadata": {},
   "outputs": [],
   "source": [
    "from tensorflow.keras.callbacks import EarlyStopping, ModelCheckpoint"
   ]
  },
  {
   "cell_type": "code",
   "execution_count": 141,
   "id": "0e5bbb6d",
   "metadata": {},
   "outputs": [],
   "source": [
    "stopCB = EarlyStopping(monitor='val_loss', patience=2)"
   ]
  },
  {
   "cell_type": "code",
   "execution_count": 142,
   "id": "6e86caef",
   "metadata": {},
   "outputs": [],
   "source": [
    "MODEL_PATH = 'model.{epoch:02d}-{val_loss:.2f}.h5'\n",
    "modelCB = ModelCheckpoint(filepath=MODEL_PATH)  # 데이터가 많을 때 저장 해놓으려고 쓰는 거"
   ]
  },
  {
   "cell_type": "code",
   "execution_count": 143,
   "id": "6dad0b29",
   "metadata": {},
   "outputs": [
    {
     "name": "stdout",
     "output_type": "stream",
     "text": [
      "Epoch 1/10\n",
      "1407/1407 [==============================] - 7s 4ms/step - loss: 0.3482 - accuracy: 0.8941 - val_loss: 0.1371 - val_accuracy: 0.9586\n",
      "Epoch 2/10\n",
      "1407/1407 [==============================] - 5s 4ms/step - loss: 0.1699 - accuracy: 0.9491 - val_loss: 0.1111 - val_accuracy: 0.9651\n",
      "Epoch 3/10\n",
      "1407/1407 [==============================] - 5s 4ms/step - loss: 0.1311 - accuracy: 0.9591 - val_loss: 0.0912 - val_accuracy: 0.9725\n",
      "Epoch 4/10\n",
      "1407/1407 [==============================] - 5s 4ms/step - loss: 0.1091 - accuracy: 0.9664 - val_loss: 0.0846 - val_accuracy: 0.9756\n",
      "Epoch 5/10\n",
      "1407/1407 [==============================] - 6s 4ms/step - loss: 0.0968 - accuracy: 0.9700 - val_loss: 0.0835 - val_accuracy: 0.9745\n",
      "Epoch 6/10\n",
      "1407/1407 [==============================] - 6s 4ms/step - loss: 0.0829 - accuracy: 0.9746 - val_loss: 0.0834 - val_accuracy: 0.9764\n",
      "Epoch 7/10\n",
      "1407/1407 [==============================] - 6s 4ms/step - loss: 0.0784 - accuracy: 0.9754 - val_loss: 0.0836 - val_accuracy: 0.9775\n",
      "Epoch 8/10\n",
      "1407/1407 [==============================] - 6s 4ms/step - loss: 0.0695 - accuracy: 0.9776 - val_loss: 0.0965 - val_accuracy: 0.9738\n"
     ]
    }
   ],
   "source": [
    "his = model.fit(x_train, y_train,\n",
    "                epochs=10,\n",
    "                validation_data=(x_val, y_val),\n",
    "                callbacks=[stopCB, modelCB])  # 많이 씀"
   ]
  },
  {
   "cell_type": "code",
   "execution_count": 144,
   "id": "101fe9a7",
   "metadata": {},
   "outputs": [],
   "source": [
    "# 학습 진행 결과 시각화\n",
    "import matplotlib.pyplot as plt"
   ]
  },
  {
   "cell_type": "code",
   "execution_count": 145,
   "id": "6b2520bb",
   "metadata": {},
   "outputs": [
    {
     "data": {
      "image/png": "[encoded data removed]",
      "text/plain": [
       "<Figure size 864x504 with 1 Axes>"
      ]
     },
     "metadata": {
      "needs_background": "light"
     },
     "output_type": "display_data"
    }
   ],
   "source": [
    "plt.figure(figsize=(12,7))\n",
    "plt.plot(his.epoch, his.history['loss'], label='Train loss', linewidth=3)\n",
    "plt.plot(his.epoch, his.history['val_loss'], label='Validation loss', color='tomato', linewidth=3)\n",
    "plt.xlabel('epochs', fontsize=20)\n",
    "plt.ylabel('loss', fontsize=20)\n",
    "plt.legend()\n",
    "plt.show()"
   ]
  },
  {
   "cell_type": "code",
   "execution_count": 146,
   "id": "2298f4e3",
   "metadata": {},
   "outputs": [
    {
     "data": {
      "image/png": "[encoded data removed]",
      "text/plain": [
       "<Figure size 864x504 with 1 Axes>"
      ]
     },
     "metadata": {
      "needs_background": "light"
     },
     "output_type": "display_data"
    }
   ],
   "source": [
    "plt.figure(figsize=(12,7))\n",
    "plt.plot(his.epoch, his.history['accuracy'], label='Train accuracy', linewidth=3)\n",
    "plt.plot(his.epoch, his.history['val_accuracy'], label='Validation accuracy',color='tomato', linewidth=3)\n",
    "plt.xlabel('epochs', fontsize=20)\n",
    "plt.ylabel('accuracy', fontsize=20)\n",
    "plt.legend()\n",
    "plt.show()"
   ]
  },
  {
   "cell_type": "markdown",
   "id": "c574310d",
   "metadata": {},
   "source": [
    "### [5] 평가\n",
    "---\n",
    "- evaluate() 메서드\n",
    "    * test data, target\n",
    "    * 반환값 : loss, metrics에서 지정한 성능평가항목"
   ]
  },
  {
   "cell_type": "code",
   "execution_count": 147,
   "id": "93a44f52",
   "metadata": {},
   "outputs": [
    {
     "name": "stdout",
     "output_type": "stream",
     "text": [
      "313/313 [==============================] - 1s 2ms/step - loss: 0.0825 - accuracy: 0.9755\n"
     ]
    }
   ],
   "source": [
    "test_result = model.evaluate(x_test, y_test)"
   ]
  },
  {
   "cell_type": "code",
   "execution_count": 148,
   "id": "26f20ffb",
   "metadata": {
    "collapsed": true
   },
   "outputs": [
    {
     "data": {
      "text/plain": [
       "((784,),\n",
       " numpy.ndarray,\n",
       " array([[0.        , 0.        , 0.        , 0.        , 0.        ,\n",
       "         0.        , 0.        , 0.        , 0.        , 0.        ,\n",
       "         0.        , 0.        , 0.        , 0.        , 0.        ,\n",
       "         0.        , 0.        , 0.        , 0.        , 0.        ,\n",
       "         0.        , 0.        , 0.        , 0.        , 0.        ,\n",
       "         0.        , 0.        , 0.        , 0.        , 0.        ,\n",
       "         0.        , 0.        , 0.        , 0.        , 0.        ,\n",
       "         0.        , 0.        , 0.        , 0.        , 0.        ,\n",
       "         0.        , 0.        , 0.        , 0.        , 0.        ,\n",
       "         0.        , 0.        , 0.        , 0.        , 0.        ,\n",
       "         0.        , 0.        , 0.        , 0.        , 0.        ,\n",
       "         0.        , 0.        , 0.        , 0.        , 0.        ,\n",
       "         0.        , 0.        , 0.        , 0.        , 0.        ,\n",
       "         0.        , 0.        , 0.        , 0.        , 0.        ,\n",
       "         0.        , 0.        , 0.        , 0.        , 0.        ,\n",
       "         0.        , 0.        , 0.        , 0.        , 0.        ,\n",
       "         0.        , 0.        , 0.        , 0.        , 0.        ,\n",
       "         0.        , 0.        , 0.        , 0.        , 0.        ,\n",
       "         0.        , 0.        , 0.        , 0.        , 0.        ,\n",
       "         0.        , 0.        , 0.        , 0.        , 0.        ,\n",
       "         0.        , 0.        , 0.        , 0.        , 0.        ,\n",
       "         0.        , 0.        , 0.        , 0.        , 0.        ,\n",
       "         0.        , 0.        , 0.        , 0.        , 0.        ,\n",
       "         0.        , 0.        , 0.        , 0.        , 0.        ,\n",
       "         0.        , 0.        , 0.        , 0.        , 0.        ,\n",
       "         0.        , 0.        , 0.        , 0.        , 0.        ,\n",
       "         0.        , 0.        , 0.        , 0.        , 0.        ,\n",
       "         0.        , 0.        , 0.        , 0.        , 0.        ,\n",
       "         0.        , 0.        , 0.        , 0.        , 0.        ,\n",
       "         0.        , 0.        , 0.        , 0.        , 0.        ,\n",
       "         0.        , 0.        , 0.        , 0.        , 0.        ,\n",
       "         0.        , 0.        , 0.        , 0.        , 0.        ,\n",
       "         0.        , 0.        , 0.        , 0.        , 0.        ,\n",
       "         0.        , 0.        , 0.        , 0.        , 0.        ,\n",
       "         0.        , 0.        , 0.        , 0.        , 0.        ,\n",
       "         0.        , 0.        , 0.        , 0.        , 0.        ,\n",
       "         0.        , 0.        , 0.        , 0.        , 0.        ,\n",
       "         0.        , 0.        , 0.        , 0.        , 0.        ,\n",
       "         0.        , 0.        , 0.        , 0.        , 0.        ,\n",
       "         0.        , 0.        , 0.        , 0.        , 0.        ,\n",
       "         0.        , 0.        , 0.32941176, 0.7254902 , 0.62352941,\n",
       "         0.59215686, 0.23529412, 0.14117647, 0.        , 0.        ,\n",
       "         0.        , 0.        , 0.        , 0.        , 0.        ,\n",
       "         0.        , 0.        , 0.        , 0.        , 0.        ,\n",
       "         0.        , 0.        , 0.        , 0.        , 0.        ,\n",
       "         0.        , 0.        , 0.        , 0.        , 0.        ,\n",
       "         0.87058824, 0.99607843, 0.99607843, 0.99607843, 0.99607843,\n",
       "         0.94509804, 0.77647059, 0.77647059, 0.77647059, 0.77647059,\n",
       "         0.77647059, 0.77647059, 0.77647059, 0.77647059, 0.66666667,\n",
       "         0.20392157, 0.        , 0.        , 0.        , 0.        ,\n",
       "         0.        , 0.        , 0.        , 0.        , 0.        ,\n",
       "         0.        , 0.        , 0.        , 0.2627451 , 0.44705882,\n",
       "         0.28235294, 0.44705882, 0.63921569, 0.89019608, 0.99607843,\n",
       "         0.88235294, 0.99607843, 0.99607843, 0.99607843, 0.98039216,\n",
       "         0.89803922, 0.99607843, 0.99607843, 0.54901961, 0.        ,\n",
       "         0.        , 0.        , 0.        , 0.        , 0.        ,\n",
       "         0.        , 0.        , 0.        , 0.        , 0.        ,\n",
       "         0.        , 0.        , 0.        , 0.        , 0.        ,\n",
       "         0.        , 0.06666667, 0.25882353, 0.05490196, 0.2627451 ,\n",
       "         0.2627451 , 0.2627451 , 0.23137255, 0.08235294, 0.9254902 ,\n",
       "         0.99607843, 0.41568627, 0.        , 0.        , 0.        ,\n",
       "         0.        , 0.        , 0.        , 0.        , 0.        ,\n",
       "         0.        , 0.        , 0.        , 0.        , 0.        ,\n",
       "         0.        , 0.        , 0.        , 0.        , 0.        ,\n",
       "         0.        , 0.        , 0.        , 0.        , 0.        ,\n",
       "         0.        , 0.3254902 , 0.99215686, 0.81960784, 0.07058824,\n",
       "         0.        , 0.        , 0.        , 0.        , 0.        ,\n",
       "         0.        , 0.        , 0.        , 0.        , 0.        ,\n",
       "         0.        , 0.        , 0.        , 0.        , 0.        ,\n",
       "         0.        , 0.        , 0.        , 0.        , 0.        ,\n",
       "         0.        , 0.        , 0.        , 0.08627451, 0.91372549,\n",
       "         1.        , 0.3254902 , 0.        , 0.        , 0.        ,\n",
       "         0.        , 0.        , 0.        , 0.        , 0.        ,\n",
       "         0.        , 0.        , 0.        , 0.        , 0.        ,\n",
       "         0.        , 0.        , 0.        , 0.        , 0.        ,\n",
       "         0.        , 0.        , 0.        , 0.        , 0.        ,\n",
       "         0.        , 0.50588235, 0.99607843, 0.93333333, 0.17254902,\n",
       "         0.        , 0.        , 0.        , 0.        , 0.        ,\n",
       "         0.        , 0.        , 0.        , 0.        , 0.        ,\n",
       "         0.        , 0.        , 0.        , 0.        , 0.        ,\n",
       "         0.        , 0.        , 0.        , 0.        , 0.        ,\n",
       "         0.        , 0.        , 0.        , 0.23137255, 0.97647059,\n",
       "         0.99607843, 0.24313725, 0.        , 0.        , 0.        ,\n",
       "         0.        , 0.        , 0.        , 0.        , 0.        ,\n",
       "         0.        , 0.        , 0.        , 0.        , 0.        ,\n",
       "         0.        , 0.        , 0.        , 0.        , 0.        ,\n",
       "         0.        , 0.        , 0.        , 0.        , 0.        ,\n",
       "         0.        , 0.52156863, 0.99607843, 0.73333333, 0.01960784,\n",
       "         0.        , 0.        , 0.        , 0.        , 0.        ,\n",
       "         0.        , 0.        , 0.        , 0.        , 0.        ,\n",
       "         0.        , 0.        , 0.        , 0.        , 0.        ,\n",
       "         0.        , 0.        , 0.        , 0.        , 0.        ,\n",
       "         0.        , 0.        , 0.        , 0.03529412, 0.80392157,\n",
       "         0.97254902, 0.22745098, 0.        , 0.        , 0.        ,\n",
       "         0.        , 0.        , 0.        , 0.        , 0.        ,\n",
       "         0.        , 0.        , 0.        , 0.        , 0.        ,\n",
       "         0.        , 0.        , 0.        , 0.        , 0.        ,\n",
       "         0.        , 0.        , 0.        , 0.        , 0.        ,\n",
       "         0.        , 0.49411765, 0.99607843, 0.71372549, 0.        ,\n",
       "         0.        , 0.        , 0.        , 0.        , 0.        ,\n",
       "         0.        , 0.        , 0.        , 0.        , 0.        ,\n",
       "         0.        , 0.        , 0.        , 0.        , 0.        ,\n",
       "         0.        , 0.        , 0.        , 0.        , 0.        ,\n",
       "         0.        , 0.        , 0.        , 0.29411765, 0.98431373,\n",
       "         0.94117647, 0.22352941, 0.        , 0.        , 0.        ,\n",
       "         0.        , 0.        , 0.        , 0.        , 0.        ,\n",
       "         0.        , 0.        , 0.        , 0.        , 0.        ,\n",
       "         0.        , 0.        , 0.        , 0.        , 0.        ,\n",
       "         0.        , 0.        , 0.        , 0.        , 0.        ,\n",
       "         0.0745098 , 0.86666667, 0.99607843, 0.65098039, 0.        ,\n",
       "         0.        , 0.        , 0.        , 0.        , 0.        ,\n",
       "         0.        , 0.        , 0.        , 0.        , 0.        ,\n",
       "         0.        , 0.        , 0.        , 0.        , 0.        ,\n",
       "         0.        , 0.        , 0.        , 0.        , 0.        ,\n",
       "         0.        , 0.        , 0.01176471, 0.79607843, 0.99607843,\n",
       "         0.85882353, 0.1372549 , 0.        , 0.        , 0.        ,\n",
       "         0.        , 0.        , 0.        , 0.        , 0.        ,\n",
       "         0.        , 0.        , 0.        , 0.        , 0.        ,\n",
       "         0.        , 0.        , 0.        , 0.        , 0.        ,\n",
       "         0.        , 0.        , 0.        , 0.        , 0.        ,\n",
       "         0.14901961, 0.99607843, 0.99607843, 0.30196078, 0.        ,\n",
       "         0.        , 0.        , 0.        , 0.        , 0.        ,\n",
       "         0.        , 0.        , 0.        , 0.        , 0.        ,\n",
       "         0.        , 0.        , 0.        , 0.        , 0.        ,\n",
       "         0.        , 0.        , 0.        , 0.        , 0.        ,\n",
       "         0.        , 0.        , 0.12156863, 0.87843137, 0.99607843,\n",
       "         0.45098039, 0.00392157, 0.        , 0.        , 0.        ,\n",
       "         0.        , 0.        , 0.        , 0.        , 0.        ,\n",
       "         0.        , 0.        , 0.        , 0.        , 0.        ,\n",
       "         0.        , 0.        , 0.        , 0.        , 0.        ,\n",
       "         0.        , 0.        , 0.        , 0.        , 0.        ,\n",
       "         0.52156863, 0.99607843, 0.99607843, 0.20392157, 0.        ,\n",
       "         0.        , 0.        , 0.        , 0.        , 0.        ,\n",
       "         0.        , 0.        , 0.        , 0.        , 0.        ,\n",
       "         0.        , 0.        , 0.        , 0.        , 0.        ,\n",
       "         0.        , 0.        , 0.        , 0.        , 0.        ,\n",
       "         0.        , 0.        , 0.23921569, 0.94901961, 0.99607843,\n",
       "         0.99607843, 0.20392157, 0.        , 0.        , 0.        ,\n",
       "         0.        , 0.        , 0.        , 0.        , 0.        ,\n",
       "         0.        , 0.        , 0.        , 0.        , 0.        ,\n",
       "         0.        , 0.        , 0.        , 0.        , 0.        ,\n",
       "         0.        , 0.        , 0.        , 0.        , 0.        ,\n",
       "         0.4745098 , 0.99607843, 0.99607843, 0.85882353, 0.15686275,\n",
       "         0.        , 0.        , 0.        , 0.        , 0.        ,\n",
       "         0.        , 0.        , 0.        , 0.        , 0.        ,\n",
       "         0.        , 0.        , 0.        , 0.        , 0.        ,\n",
       "         0.        , 0.        , 0.        , 0.        , 0.        ,\n",
       "         0.        , 0.        , 0.        , 0.4745098 , 0.99607843,\n",
       "         0.81176471, 0.07058824, 0.        , 0.        , 0.        ,\n",
       "         0.        , 0.        , 0.        , 0.        , 0.        ,\n",
       "         0.        , 0.        , 0.        , 0.        , 0.        ,\n",
       "         0.        , 0.        , 0.        , 0.        , 0.        ,\n",
       "         0.        , 0.        , 0.        , 0.        , 0.        ,\n",
       "         0.        , 0.        , 0.        , 0.        , 0.        ,\n",
       "         0.        , 0.        , 0.        , 0.        , 0.        ,\n",
       "         0.        , 0.        , 0.        , 0.        , 0.        ,\n",
       "         0.        , 0.        , 0.        , 0.        ]]))"
      ]
     },
     "execution_count": 148,
     "metadata": {},
     "output_type": "execute_result"
    }
   ],
   "source": [
    "x_test[0].shape, type(x_test[0]), x_test[0].reshape(-1,784)"
   ]
  },
  {
   "cell_type": "markdown",
   "id": "754c4324",
   "metadata": {},
   "source": [
    "### [6] 테스트/예측"
   ]
  },
  {
   "cell_type": "code",
   "execution_count": 149,
   "id": "96e8889b",
   "metadata": {},
   "outputs": [
    {
     "name": "stdout",
     "output_type": "stream",
     "text": [
      "1/1 [==============================] - 0s 83ms/step\n"
     ]
    }
   ],
   "source": [
    "pre_label = model.predict(x_test[0].reshape(-1,784))"
   ]
  },
  {
   "cell_type": "code",
   "execution_count": 150,
   "id": "8c8cfda4",
   "metadata": {},
   "outputs": [
    {
     "data": {
      "text/plain": [
       "array([[0., 0., 0., 0., 0., 0., 0., 1., 0., 0.]], dtype=float32)"
      ]
     },
     "execution_count": 150,
     "metadata": {},
     "output_type": "execute_result"
    }
   ],
   "source": [
    "import numpy as np\n",
    "np.round(pre_label, 2)   # 예측?"
   ]
  },
  {
   "cell_type": "code",
   "execution_count": 151,
   "id": "01b94e74",
   "metadata": {},
   "outputs": [
    {
     "data": {
      "text/plain": [
       "array([0., 0., 0., 0., 0., 0., 0., 1., 0., 0.])"
      ]
     },
     "execution_count": 151,
     "metadata": {},
     "output_type": "execute_result"
    }
   ],
   "source": [
    "y_test[0]   # 실제?"
   ]
  },
  {
   "cell_type": "code",
   "execution_count": null,
   "id": "48c73811",
   "metadata": {},
   "outputs": [],
   "source": []
  },
  {
   "cell_type": "markdown",
   "id": "90967e29",
   "metadata": {},
   "source": [
    "- 마지막에 저장하는 거까지가 원래 끝임 \n",
    "- model.save()  ???"
   ]
  }
 ],
 "metadata": {
  "kernelspec": {
   "display_name": "Python 3 (ipykernel)",
   "language": "python",
   "name": "python3"
  },
  "language_info": {
   "codemirror_mode": {
    "name": "ipython",
    "version": 3
   },
   "file_extension": ".py",
   "mimetype": "text/x-python",
   "name": "python",
   "nbconvert_exporter": "python",
   "pygments_lexer": "ipython3",
   "version": "3.9.12"
  }
 },
 "nbformat": 4,
 "nbformat_minor": 5
}
