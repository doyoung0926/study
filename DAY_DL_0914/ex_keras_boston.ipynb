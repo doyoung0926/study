{
 "cells": [
  {
   "cell_type": "code",
   "execution_count": 172,
   "id": "9724b059",
   "metadata": {},
   "outputs": [],
   "source": [
    "# 모듈 로딩 -----------------------------\n",
    "import tensorflow as tf\n",
    "from tensorflow.keras import Sequential, Input           # 모델 객체\n",
    "from tensorflow.keras.layers import Dense, Dropout       # 레이어 객체\n",
    "from tensorflow.keras.datasets.boston_housing import load_data\n",
    "import numpy as np"
   ]
  },
  {
   "cell_type": "markdown",
   "id": "67bbd7a0",
   "metadata": {},
   "source": [
    "### [1] 데이터 로딩\n",
    "---"
   ]
  },
  {
   "cell_type": "code",
   "execution_count": 173,
   "id": "6de5c0e3",
   "metadata": {},
   "outputs": [],
   "source": [
    "# 학습용, 테스트용 = 8 : 2\n",
    "(x_train, y_train), (x_test, y_test) = load_data()"
   ]
  },
  {
   "cell_type": "code",
   "execution_count": 174,
   "id": "de56cdd5",
   "metadata": {},
   "outputs": [
    {
     "data": {
      "text/plain": [
       "((404, 13), (102, 13))"
      ]
     },
     "execution_count": 174,
     "metadata": {},
     "output_type": "execute_result"
    }
   ],
   "source": [
    "x_train.shape, x_test.shape"
   ]
  },
  {
   "cell_type": "code",
   "execution_count": 175,
   "id": "5edea3a4",
   "metadata": {
    "scrolled": true
   },
   "outputs": [
    {
     "data": {
      "text/plain": [
       "(array([[  1.23247,   0.     ,   8.14   ,   0.     ,   0.538  ,   6.142  ,\n",
       "          91.7    ,   3.9769 ,   4.     , 307.     ,  21.     , 396.9    ,\n",
       "          18.72   ]]),\n",
       " 15.2)"
      ]
     },
     "execution_count": 175,
     "metadata": {},
     "output_type": "execute_result"
    }
   ],
   "source": [
    "x_train[:1], y_train[0]"
   ]
  },
  {
   "cell_type": "markdown",
   "id": "7eb19a91",
   "metadata": {},
   "source": [
    "### [1-1] 전처리\n",
    "---\n",
    "- 특성(Feature) 전처리\n",
    "    * 수치 데이터 : 값의 범위\n",
    "    * 문자 데이터 : 수치화 "
   ]
  },
  {
   "cell_type": "code",
   "execution_count": 176,
   "id": "9912f043",
   "metadata": {},
   "outputs": [],
   "source": [
    "from sklearn.preprocessing import StandardScaler, MinMaxScaler, RobustScaler"
   ]
  },
  {
   "cell_type": "code",
   "execution_count": 177,
   "id": "2b7c0f0b",
   "metadata": {},
   "outputs": [],
   "source": [
    "scaler=StandardScaler()"
   ]
  },
  {
   "cell_type": "code",
   "execution_count": 178,
   "id": "4a3bc76a",
   "metadata": {},
   "outputs": [
    {
     "data": {
      "text/plain": [
       "StandardScaler()"
      ]
     },
     "execution_count": 178,
     "metadata": {},
     "output_type": "execute_result"
    }
   ],
   "source": [
    "scaler.fit(x_train)"
   ]
  },
  {
   "cell_type": "code",
   "execution_count": 179,
   "id": "e7df7733",
   "metadata": {},
   "outputs": [
    {
     "data": {
      "text/plain": [
       "(array([3.74511057e+00, 1.14801980e+01, 1.11044307e+01, 6.18811881e-02,\n",
       "        5.57355941e-01, 6.26708168e+00, 6.90106436e+01, 3.74027079e+00,\n",
       "        9.44059406e+00, 4.05898515e+02, 1.84759901e+01, 3.54783168e+02,\n",
       "        1.27408168e+01]),\n",
       " array([9.22929073e+00, 2.37382770e+01, 6.80287253e+00, 2.40939633e-01,\n",
       "        1.17147847e-01, 7.08908627e-01, 2.79060634e+01, 2.02770050e+00,\n",
       "        8.68758849e+00, 1.66168506e+02, 2.19765689e+00, 9.39946015e+01,\n",
       "        7.24556085e+00]))"
      ]
     },
     "execution_count": 179,
     "metadata": {},
     "output_type": "execute_result"
    }
   ],
   "source": [
    "scaler.mean_, scaler.scale_"
   ]
  },
  {
   "cell_type": "code",
   "execution_count": 180,
   "id": "ca84105e",
   "metadata": {},
   "outputs": [],
   "source": [
    "x_train_scaled = scaler.transform(x_train)"
   ]
  },
  {
   "cell_type": "markdown",
   "id": "848ee702",
   "metadata": {},
   "source": [
    "### [2] NN Model 실습\n",
    "---\n",
    "- (1) 모델 구상\n",
    "- (2) 모델 생성\n",
    "- (3) 학습\n",
    "- (4) 평가\n",
    "- (5) 테스트"
   ]
  },
  {
   "cell_type": "markdown",
   "id": "dea06ad6",
   "metadata": {},
   "source": [
    "#### [2-1] 모델 구상\n",
    "- 입력 데이터 => 13 특성\n",
    "- 출력 데이터 => 1 집값"
   ]
  },
  {
   "cell_type": "code",
   "execution_count": 181,
   "id": "08384bf3",
   "metadata": {},
   "outputs": [],
   "source": [
    "# NN Model의 Layer를 층층이 담아서 관리하는 객체\n",
    "model = Sequential(name='BostonNNM')"
   ]
  },
  {
   "cell_type": "code",
   "execution_count": 182,
   "id": "a0ff9f6f",
   "metadata": {},
   "outputs": [],
   "source": [
    "# Layer 추가 하기\n",
    "model.add( Input(shape=(13,), name='input') )\n",
    "model.add( Dense(30, activation='relu', name='hidden-1') )\n",
    "# model.add( Dense(30, activation='relu', name='hidden-1', input_shape(13,)) )\n",
    "\n",
    "# 과적합을 해결하기 위해서 Dropout() 사용, 지정된 비율만큼 node를 비활성화 (랜덤)\n",
    "model.add( Dropout(0.5) )\n",
    "model.add( Dense(10, activation='relu', name='hidden-2') )\n",
    "# 회귀 => 출력층\n",
    "model.add( Dense(1, activation='linear', name='output') )"
   ]
  },
  {
   "cell_type": "code",
   "execution_count": 183,
   "id": "8c621a01",
   "metadata": {},
   "outputs": [
    {
     "name": "stdout",
     "output_type": "stream",
     "text": [
      "Model: \"BostonNNM\"\n",
      "_________________________________________________________________\n",
      " Layer (type)                Output Shape              Param #   \n",
      "=================================================================\n",
      " hidden-1 (Dense)            (None, 30)                420       \n",
      "                                                                 \n",
      " dropout_3 (Dropout)         (None, 30)                0         \n",
      "                                                                 \n",
      " hidden-2 (Dense)            (None, 10)                310       \n",
      "                                                                 \n",
      " output (Dense)              (None, 1)                 11        \n",
      "                                                                 \n",
      "=================================================================\n",
      "Total params: 741\n",
      "Trainable params: 741\n",
      "Non-trainable params: 0\n",
      "_________________________________________________________________\n"
     ]
    }
   ],
   "source": [
    "# 모델 구성 확인 => summary()\n",
    "model.summary()"
   ]
  },
  {
   "cell_type": "markdown",
   "id": "8f626711",
   "metadata": {},
   "source": [
    "#### [2-2] 모델 생성\n",
    "---\n",
    "- Sequential 클래스의 compile 메서드\n",
    "- 모델이 동작하기 위해서 필요한 설정\n",
    "    * 오차 계산 함수 설정 => loss\n",
    "    * W, B 최적화 방식 설정 => optimizer\n",
    "    * 모델의 성능 측정 항목 설정 => metrics\n",
    "- 파라미터 값들\n",
    "    * str 타입으로 입력 가능\n",
    "    * 객체 타입으로 입력 가능"
   ]
  },
  {
   "cell_type": "code",
   "execution_count": 184,
   "id": "5f88b49c",
   "metadata": {},
   "outputs": [],
   "source": [
    "model.compile(loss='mse', optimizer='adam', metrics='mae')"
   ]
  },
  {
   "cell_type": "markdown",
   "id": "1f63f5d7",
   "metadata": {},
   "source": [
    "#### [2-3] 학습\n",
    "---\n",
    "- fit() 메서드\n",
    "    * 파라미터\n",
    "    * 반환값 => History 객체"
   ]
  },
  {
   "cell_type": "code",
   "execution_count": 185,
   "id": "acd462af",
   "metadata": {},
   "outputs": [],
   "source": [
    "from tensorflow.keras.callbacks import EarlyStopping\n",
    "\n",
    "# 검증 데이터에 대한 loss값 3번 연속 개선되지 않으면 학습 중지\n",
    "stopCB = EarlyStopping(monitor='val_loss', patience=3)"
   ]
  },
  {
   "cell_type": "code",
   "execution_count": 186,
   "id": "ebabdc5e",
   "metadata": {},
   "outputs": [
    {
     "name": "stdout",
     "output_type": "stream",
     "text": [
      "Epoch 1/1000\n",
      "41/41 [==============================] - 1s 8ms/step - loss: 14843.2393 - mae: 93.5258 - val_loss: 347.1703 - val_mae: 14.6861\n",
      "Epoch 2/1000\n",
      "41/41 [==============================] - 0s 3ms/step - loss: 6582.2822 - mae: 62.8726 - val_loss: 484.9789 - val_mae: 18.5287\n",
      "Epoch 3/1000\n",
      "41/41 [==============================] - 0s 3ms/step - loss: 3649.8184 - mae: 46.4550 - val_loss: 499.4302 - val_mae: 18.1238\n",
      "Epoch 4/1000\n",
      "41/41 [==============================] - 0s 3ms/step - loss: 2620.1104 - mae: 39.9937 - val_loss: 265.4509 - val_mae: 13.2005\n",
      "Epoch 5/1000\n",
      "41/41 [==============================] - 0s 3ms/step - loss: 1803.9648 - mae: 32.8721 - val_loss: 248.3635 - val_mae: 12.5073\n",
      "Epoch 6/1000\n",
      "41/41 [==============================] - 0s 3ms/step - loss: 1498.7078 - mae: 29.2361 - val_loss: 236.4114 - val_mae: 12.2928\n",
      "Epoch 7/1000\n",
      "41/41 [==============================] - 0s 3ms/step - loss: 1348.3959 - mae: 28.5264 - val_loss: 238.1547 - val_mae: 12.3550\n",
      "Epoch 8/1000\n",
      "41/41 [==============================] - 0s 3ms/step - loss: 1012.9477 - mae: 24.1264 - val_loss: 225.2822 - val_mae: 12.0522\n",
      "Epoch 9/1000\n",
      "41/41 [==============================] - 0s 3ms/step - loss: 1050.4564 - mae: 24.3356 - val_loss: 222.9751 - val_mae: 12.0004\n",
      "Epoch 10/1000\n",
      "41/41 [==============================] - 0s 3ms/step - loss: 847.4849 - mae: 22.0570 - val_loss: 218.8559 - val_mae: 11.8746\n",
      "Epoch 11/1000\n",
      "41/41 [==============================] - 0s 3ms/step - loss: 676.6752 - mae: 19.8312 - val_loss: 217.3191 - val_mae: 11.8635\n",
      "Epoch 12/1000\n",
      "41/41 [==============================] - 0s 3ms/step - loss: 578.6938 - mae: 18.1289 - val_loss: 204.3123 - val_mae: 11.4331\n",
      "Epoch 13/1000\n",
      "41/41 [==============================] - 0s 3ms/step - loss: 554.5549 - mae: 17.4227 - val_loss: 196.1264 - val_mae: 11.2391\n",
      "Epoch 14/1000\n",
      "41/41 [==============================] - 0s 3ms/step - loss: 435.1412 - mae: 15.2552 - val_loss: 194.6467 - val_mae: 11.2153\n",
      "Epoch 15/1000\n",
      "41/41 [==============================] - 0s 3ms/step - loss: 470.6951 - mae: 16.5607 - val_loss: 191.0204 - val_mae: 11.0775\n",
      "Epoch 16/1000\n",
      "41/41 [==============================] - 0s 3ms/step - loss: 364.0959 - mae: 14.6386 - val_loss: 183.4286 - val_mae: 10.8716\n",
      "Epoch 17/1000\n",
      "41/41 [==============================] - 0s 3ms/step - loss: 429.0075 - mae: 15.4856 - val_loss: 180.9186 - val_mae: 10.8125\n",
      "Epoch 18/1000\n",
      "41/41 [==============================] - 0s 3ms/step - loss: 384.4509 - mae: 15.1077 - val_loss: 183.3914 - val_mae: 10.8349\n",
      "Epoch 19/1000\n",
      "41/41 [==============================] - 0s 3ms/step - loss: 297.7234 - mae: 13.2435 - val_loss: 180.2186 - val_mae: 10.7431\n",
      "Epoch 20/1000\n",
      "41/41 [==============================] - 0s 3ms/step - loss: 297.9845 - mae: 12.8772 - val_loss: 181.7042 - val_mae: 10.7658\n",
      "Epoch 21/1000\n",
      "41/41 [==============================] - 0s 3ms/step - loss: 273.4383 - mae: 12.5552 - val_loss: 182.9181 - val_mae: 10.7729\n",
      "Epoch 22/1000\n",
      "41/41 [==============================] - 0s 3ms/step - loss: 307.1373 - mae: 12.9768 - val_loss: 184.2464 - val_mae: 10.7824\n"
     ]
    }
   ],
   "source": [
    "result = model.fit(x_train,\n",
    "                   y_train,\n",
    "                   epochs=1000,\n",
    "                   batch_size=10,\n",
    "                   validation_data=(x_test, y_test),\n",
    "                   callbacks=[stopCB])"
   ]
  },
  {
   "cell_type": "code",
   "execution_count": 187,
   "id": "985fb3c2",
   "metadata": {},
   "outputs": [
    {
     "data": {
      "text/plain": [
       "keras.callbacks.History"
      ]
     },
     "execution_count": 187,
     "metadata": {},
     "output_type": "execute_result"
    }
   ],
   "source": [
    "# 학습 후 학습 결과 체크 => History 객체\n",
    "type(result)"
   ]
  },
  {
   "cell_type": "code",
   "execution_count": 188,
   "id": "90798584",
   "metadata": {},
   "outputs": [
    {
     "data": {
      "text/plain": [
       "{'verbose': 1, 'epochs': 1000, 'steps': 41}"
      ]
     },
     "execution_count": 188,
     "metadata": {},
     "output_type": "execute_result"
    }
   ],
   "source": [
    "result.params"
   ]
  },
  {
   "cell_type": "code",
   "execution_count": 189,
   "id": "7703f9db",
   "metadata": {},
   "outputs": [
    {
     "data": {
      "text/plain": [
       "dict_keys(['loss', 'mae', 'val_loss', 'val_mae'])"
      ]
     },
     "execution_count": 189,
     "metadata": {},
     "output_type": "execute_result"
    }
   ],
   "source": [
    "result.history.keys()"
   ]
  },
  {
   "cell_type": "code",
   "execution_count": 190,
   "id": "3f3c42d4",
   "metadata": {},
   "outputs": [],
   "source": [
    "# result.history['loss'], result.history['mae']"
   ]
  },
  {
   "cell_type": "code",
   "execution_count": 191,
   "id": "9e0725bf",
   "metadata": {},
   "outputs": [],
   "source": [
    "### 시각화 ----------------------------------------"
   ]
  },
  {
   "cell_type": "code",
   "execution_count": 192,
   "id": "3a2532ed",
   "metadata": {},
   "outputs": [],
   "source": [
    "import matplotlib.pyplot as plt"
   ]
  },
  {
   "cell_type": "code",
   "execution_count": 193,
   "id": "6f5cfef5",
   "metadata": {},
   "outputs": [],
   "source": [
    "# result.epoch"
   ]
  },
  {
   "cell_type": "code",
   "execution_count": 194,
   "id": "78df6344",
   "metadata": {},
   "outputs": [
    {
     "data": {
      "image/png": "[encoded data removed]",
      "text/plain": [
       "<Figure size 1440x792 with 1 Axes>"
      ]
     },
     "metadata": {
      "needs_background": "light"
     },
     "output_type": "display_data"
    }
   ],
   "source": [
    "plt.figure(figsize=(20,11))\n",
    "plt.plot(result.epoch, result.history['loss'], label='loss')\n",
    "plt.plot(result.epoch, result.history['val_loss'], color='tomato', label='val_loss')\n",
    "plt.legend()\n",
    "plt.show()"
   ]
  },
  {
   "cell_type": "markdown",
   "id": "f309c29f",
   "metadata": {},
   "source": [
    "#### [2-4] 평가\n",
    "---\n",
    "- evaluate() 메서드\n",
    "    * 파라미터 : test_data, test_target\n",
    "    * 반환값 : loss, compile()의 metrics에서 설정한 항목값"
   ]
  },
  {
   "cell_type": "code",
   "execution_count": 195,
   "id": "7abfbff0",
   "metadata": {},
   "outputs": [
    {
     "name": "stdout",
     "output_type": "stream",
     "text": [
      "4/4 [==============================] - 0s 2ms/step - loss: 184.2464 - mae: 10.7824\n"
     ]
    }
   ],
   "source": [
    "eRet = model.evaluate(x_test, y_test)"
   ]
  },
  {
   "cell_type": "code",
   "execution_count": 196,
   "id": "06d71ce0",
   "metadata": {},
   "outputs": [
    {
     "data": {
      "text/plain": [
       "[184.24636840820312, 10.782401084899902]"
      ]
     },
     "execution_count": 196,
     "metadata": {},
     "output_type": "execute_result"
    }
   ],
   "source": [
    "eRet  # 낮을수록 좋음"
   ]
  },
  {
   "cell_type": "markdown",
   "id": "7876a188",
   "metadata": {},
   "source": [
    "#### [2-5] 예측\n",
    "---\n",
    "- predict()"
   ]
  },
  {
   "cell_type": "code",
   "execution_count": 197,
   "id": "b4a8d717",
   "metadata": {
    "scrolled": true
   },
   "outputs": [
    {
     "name": "stdout",
     "output_type": "stream",
     "text": [
      "WARNING:tensorflow:6 out of the last 6 calls to <function Model.make_predict_function.<locals>.predict_function at 0x0000022CE4A1DAF0> triggered tf.function retracing. Tracing is expensive and the excessive number of tracings could be due to (1) creating @tf.function repeatedly in a loop, (2) passing tensors with different shapes, (3) passing Python objects instead of tensors. For (1), please define your @tf.function outside of the loop. For (2), @tf.function has reduce_retracing=True option that can avoid unnecessary retracing. For (3), please refer to https://www.tensorflow.org/guide/function#controlling_retracing and https://www.tensorflow.org/api_docs/python/tf/function for  more details.\n",
      "1/1 [==============================] - 0s 83ms/step\n"
     ]
    },
    {
     "data": {
      "text/plain": [
       "array([[14.47551]], dtype=float32)"
      ]
     },
     "execution_count": 197,
     "metadata": {},
     "output_type": "execute_result"
    }
   ],
   "source": [
    "model.predict(x_train[:1])"
   ]
  },
  {
   "cell_type": "code",
   "execution_count": 199,
   "id": "3a574cbc",
   "metadata": {},
   "outputs": [],
   "source": [
    "model1 = Sequential([Dense(10, activation='relu', input_shape=(3,)),\n",
    "                    Dense(5, activation='relu'),\n",
    "                    Dense(1, activation='sigmoid')])"
   ]
  },
  {
   "cell_type": "code",
   "execution_count": null,
   "id": "3bef96d9",
   "metadata": {},
   "outputs": [],
   "source": [
    "model1 = Sequential()\n",
    "model1.add(Dense(10, activation='relu', input_shape=(3,)))\n",
    "model1.add(Dense(10, activation='relu'))"
   ]
  },
  {
   "cell_type": "code",
   "execution_count": 200,
   "id": "d69e78cf",
   "metadata": {},
   "outputs": [
    {
     "name": "stdout",
     "output_type": "stream",
     "text": [
      "Model: \"sequential_1\"\n",
      "_________________________________________________________________\n",
      " Layer (type)                Output Shape              Param #   \n",
      "=================================================================\n",
      " dense (Dense)               (None, 10)                40        \n",
      "                                                                 \n",
      " dense_1 (Dense)             (None, 5)                 55        \n",
      "                                                                 \n",
      " dense_2 (Dense)             (None, 1)                 6         \n",
      "                                                                 \n",
      "=================================================================\n",
      "Total params: 101\n",
      "Trainable params: 101\n",
      "Non-trainable params: 0\n",
      "_________________________________________________________________\n"
     ]
    }
   ],
   "source": [
    "model1.summary()"
   ]
  },
  {
   "cell_type": "code",
   "execution_count": null,
   "id": "30031115",
   "metadata": {},
   "outputs": [],
   "source": []
  }
 ],
 "metadata": {
  "kernelspec": {
   "display_name": "Python 3 (ipykernel)",
   "language": "python",
   "name": "python3"
  },
  "language_info": {
   "codemirror_mode": {
    "name": "ipython",
    "version": 3
   },
   "file_extension": ".py",
   "mimetype": "text/x-python",
   "name": "python",
   "nbconvert_exporter": "python",
   "pygments_lexer": "ipython3",
   "version": "3.9.12"
  }
 },
 "nbformat": 4,
 "nbformat_minor": 5
}
