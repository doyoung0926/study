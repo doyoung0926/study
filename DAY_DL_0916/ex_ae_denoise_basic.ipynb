{
 "cells": [
  {
   "cell_type": "markdown",
   "id": "21d7cda9",
   "metadata": {},
   "source": [
    "## AutoEncode 노이즈 제거\n",
    "---\n",
    "- 데이터에 노이즈 제거 활용\n",
    "- 데이터에서 주요 특징만 추출 압축하기 때문에 노이즈는 주요 특징에서 제거\n",
    "- 압축된 주요 특징으로 데이터 복원 => 노이즈 제거"
   ]
  },
  {
   "cell_type": "code",
   "execution_count": 2,
   "id": "b3dafa79",
   "metadata": {},
   "outputs": [],
   "source": [
    "from tensorflow.keras.datasets.mnist import load_data\n",
    "from tensorflow.keras.utils import set_random_seed, plot_model\n",
    "from tensorflow.keras import Sequential\n",
    "from tensorflow.keras.layers import Dense, Conv2D, MaxPool2D\n",
    "import numpy as np\n",
    "import matplotlib.pyplot as plt"
   ]
  },
  {
   "cell_type": "markdown",
   "id": "b44a15f9",
   "metadata": {},
   "source": [
    "## [1] 데이터 준비 및 로딩"
   ]
  },
  {
   "cell_type": "code",
   "execution_count": 3,
   "id": "d2dedb3d",
   "metadata": {},
   "outputs": [],
   "source": [
    "(x_train, y_train), (x_test, y_test) = load_data()"
   ]
  },
  {
   "cell_type": "code",
   "execution_count": 4,
   "id": "0bd54cc7",
   "metadata": {},
   "outputs": [
    {
     "data": {
      "text/plain": [
       "((60000, 28, 28), (10000, 28, 28))"
      ]
     },
     "execution_count": 4,
     "metadata": {},
     "output_type": "execute_result"
    }
   ],
   "source": [
    "x_train.shape, x_test.shape"
   ]
  },
  {
   "cell_type": "markdown",
   "id": "44ddd85e",
   "metadata": {},
   "source": [
    "## [2] 데이터 전처리"
   ]
  },
  {
   "cell_type": "code",
   "execution_count": 5,
   "id": "a3688a3e",
   "metadata": {},
   "outputs": [],
   "source": [
    "x_train=x_train.reshape(-1, 28*28)/255.0"
   ]
  },
  {
   "cell_type": "code",
   "execution_count": 6,
   "id": "0d1bc616",
   "metadata": {},
   "outputs": [
    {
     "data": {
      "text/plain": [
       "array([[0., 0., 0., ..., 0., 0., 0.],\n",
       "       [0., 0., 0., ..., 0., 0., 0.]])"
      ]
     },
     "execution_count": 6,
     "metadata": {},
     "output_type": "execute_result"
    }
   ],
   "source": [
    "x_train[:2]"
   ]
  },
  {
   "cell_type": "code",
   "execution_count": 7,
   "id": "f755f387",
   "metadata": {},
   "outputs": [],
   "source": [
    "x_test=x_test.reshape(-1, 28*28)/255.0"
   ]
  },
  {
   "cell_type": "code",
   "execution_count": 8,
   "id": "b2efe03a",
   "metadata": {},
   "outputs": [
    {
     "data": {
      "text/plain": [
       "array([[0., 0., 0., ..., 0., 0., 0.],\n",
       "       [0., 0., 0., ..., 0., 0., 0.]])"
      ]
     },
     "execution_count": 8,
     "metadata": {},
     "output_type": "execute_result"
    }
   ],
   "source": [
    "x_test[:2]"
   ]
  },
  {
   "cell_type": "code",
   "execution_count": 9,
   "id": "74b71b4c",
   "metadata": {},
   "outputs": [
    {
     "name": "stdout",
     "output_type": "stream",
     "text": [
      "(60000, 784) (10000, 784)\n"
     ]
    }
   ],
   "source": [
    "print(x_train.shape, x_test.shape)"
   ]
  },
  {
   "cell_type": "code",
   "execution_count": 10,
   "id": "502775e3",
   "metadata": {},
   "outputs": [],
   "source": [
    "# 데이터셋에 노이즈 추가\n",
    "# np.random.normal(평균loc=0.0, 표준편차scale=1.0, 출력size=None)\n",
    "x_train_noised = x_train + np.random.normal(0, 0.5, size=x_train.shape)\n",
    "x_test_noised = x_test + np.random.normal(0, 0.5, size=x_test.shape)\n",
    "\n",
    "# 픽셀 범위 0.0~1.0 벗어나는 픽셀값 조정 np.clip(array, min, max)\n",
    "x_train_noised = np.clip(x_train_noised, a_min=0, a_max=1)\n",
    "x_test_noised = np.clip(x_test_noised, a_min=0, a_max=1)"
   ]
  },
  {
   "cell_type": "code",
   "execution_count": 11,
   "id": "506f1486",
   "metadata": {},
   "outputs": [
    {
     "data": {
      "image/png": "[encoded data removed]",
      "text/plain": [
       "<Figure size 432x288 with 1 Axes>"
      ]
     },
     "metadata": {
      "needs_background": "light"
     },
     "output_type": "display_data"
    }
   ],
   "source": [
    "plt.imshow(x_train[0].reshape(28,28), cmap='gray')\n",
    "plt.show()"
   ]
  },
  {
   "cell_type": "code",
   "execution_count": 12,
   "id": "75d1f3c6",
   "metadata": {},
   "outputs": [
    {
     "data": {
      "image/png": "[encoded data removed]",
      "text/plain": [
       "<Figure size 432x288 with 1 Axes>"
      ]
     },
     "metadata": {
      "needs_background": "light"
     },
     "output_type": "display_data"
    }
   ],
   "source": [
    "plt.imshow(x_train_noised[0].reshape(28,28), cmap='gray')\n",
    "plt.show()"
   ]
  },
  {
   "cell_type": "markdown",
   "id": "7b17ff67",
   "metadata": {},
   "source": [
    "## [3] 모델 구성 및 생성"
   ]
  },
  {
   "cell_type": "code",
   "execution_count": 13,
   "id": "f4c9b474",
   "metadata": {},
   "outputs": [],
   "source": [
    "# W, b 초기값 고정\n",
    "set_random_seed(11)"
   ]
  },
  {
   "cell_type": "code",
   "execution_count": 14,
   "id": "a2b97c17",
   "metadata": {},
   "outputs": [],
   "source": [
    "def createAEModel(n_node):\n",
    "    model=Sequential()\n",
    "    # 입력\n",
    "    model.add(Dense(units=n_node, activation='relu', input_shape=(784,)))\n",
    "    # 은닉\n",
    "    model.add(Dense(units=n_node, activation='relu'))\n",
    "    # 출력\n",
    "    model.add(Dense(784, activation='sigmoid'))\n",
    "    model.compile(loss='mean_squared_error', optimizer='adam')\n",
    "    return model"
   ]
  },
  {
   "cell_type": "code",
   "execution_count": 15,
   "id": "d5f7589a",
   "metadata": {},
   "outputs": [],
   "source": [
    "oneModel=createAEModel(1)\n",
    "tenModel=createAEModel(10)\n",
    "thirtyModel=createAEModel(30)\n",
    "fiftyModel=createAEModel(50)"
   ]
  },
  {
   "cell_type": "code",
   "execution_count": 16,
   "id": "52636597",
   "metadata": {},
   "outputs": [
    {
     "name": "stdout",
     "output_type": "stream",
     "text": [
      "Model: \"sequential\"\n",
      "_________________________________________________________________\n",
      " Layer (type)                Output Shape              Param #   \n",
      "=================================================================\n",
      " dense (Dense)               (None, 1)                 785       \n",
      "                                                                 \n",
      " dense_1 (Dense)             (None, 1)                 2         \n",
      "                                                                 \n",
      " dense_2 (Dense)             (None, 784)               1568      \n",
      "                                                                 \n",
      "=================================================================\n",
      "Total params: 2,355\n",
      "Trainable params: 2,355\n",
      "Non-trainable params: 0\n",
      "_________________________________________________________________\n"
     ]
    }
   ],
   "source": [
    "oneModel.summary()"
   ]
  },
  {
   "cell_type": "code",
   "execution_count": 17,
   "id": "527e90c0",
   "metadata": {},
   "outputs": [
    {
     "data": {
      "image/png": "[encoded data removed]",
      "text/plain": [
       "<IPython.core.display.Image object>"
      ]
     },
     "execution_count": 17,
     "metadata": {},
     "output_type": "execute_result"
    }
   ],
   "source": [
    "plot_model(oneModel, show_shapes=True)"
   ]
  },
  {
   "cell_type": "markdown",
   "id": "922d6465",
   "metadata": {},
   "source": [
    "## [4] 모델 학습"
   ]
  },
  {
   "cell_type": "code",
   "execution_count": 18,
   "id": "222334bd",
   "metadata": {
    "scrolled": true
   },
   "outputs": [
    {
     "data": {
      "text/plain": [
       "<keras.callbacks.History at 0x2924397b4f0>"
      ]
     },
     "execution_count": 18,
     "metadata": {},
     "output_type": "execute_result"
    }
   ],
   "source": [
    "oneModel.fit(x_train_noised, x_train, epochs=10, verbose=0)\n",
    "tenModel.fit(x_train_noised, x_train, epochs=10, verbose=0)\n",
    "thirtyModel.fit(x_train_noised, x_train, epochs=10, verbose=0)\n",
    "fiftyModel.fit(x_train_noised, x_train, epochs=10, verbose=0)"
   ]
  },
  {
   "cell_type": "code",
   "execution_count": 19,
   "id": "cb09b10c",
   "metadata": {},
   "outputs": [
    {
     "data": {
      "text/plain": [
       "(60000, 784)"
      ]
     },
     "execution_count": 19,
     "metadata": {},
     "output_type": "execute_result"
    }
   ],
   "source": [
    "x_train_noised.shape"
   ]
  },
  {
   "cell_type": "code",
   "execution_count": 20,
   "id": "9ff6bbc2",
   "metadata": {},
   "outputs": [
    {
     "name": "stdout",
     "output_type": "stream",
     "text": [
      "313/313 [==============================] - 1s 3ms/step - loss: 0.0808\n",
      "313/313 [==============================] - 1s 3ms/step - loss: 0.0474\n",
      "313/313 [==============================] - 1s 3ms/step - loss: 0.0327\n",
      "313/313 [==============================] - 1s 3ms/step - loss: 0.0219\n"
     ]
    },
    {
     "data": {
      "text/plain": [
       "0.02194824628531933"
      ]
     },
     "execution_count": 20,
     "metadata": {},
     "output_type": "execute_result"
    }
   ],
   "source": [
    "oneModel.evaluate(x_test, x_test)\n",
    "tenModel.evaluate(x_test, x_test)\n",
    "thirtyModel.evaluate(x_test, x_test)\n",
    "fiftyModel.evaluate(x_test, x_test)"
   ]
  },
  {
   "cell_type": "markdown",
   "id": "83337708",
   "metadata": {},
   "source": [
    "## [5] 예측\n",
    "---\n",
    "- 새로운 데이터 사용"
   ]
  },
  {
   "cell_type": "code",
   "execution_count": 21,
   "id": "10f2cc8e",
   "metadata": {},
   "outputs": [
    {
     "name": "stdout",
     "output_type": "stream",
     "text": [
      "1/1 [==============================] - 0s 160ms/step\n",
      "1/1 [==============================] - 0s 105ms/step\n",
      "1/1 [==============================] - 0s 93ms/step\n",
      "1/1 [==============================] - 0s 127ms/step\n"
     ]
    }
   ],
   "source": [
    "pre_out1=oneModel.predict(x_test_noised[0].reshape(-1,784))\n",
    "pre_out10=tenModel.predict(x_test_noised[0].reshape(-1,784))\n",
    "pre_out30=thirtyModel.predict(x_test_noised[0].reshape(-1,784))\n",
    "pre_out50=fiftyModel.predict(x_test_noised[0].reshape(-1,784))"
   ]
  },
  {
   "cell_type": "code",
   "execution_count": 28,
   "id": "eda4b78b",
   "metadata": {},
   "outputs": [
    {
     "data": {
      "text/plain": [
       "((784,), (784,))"
      ]
     },
     "execution_count": 28,
     "metadata": {},
     "output_type": "execute_result"
    }
   ],
   "source": [
    "pre_out1[0].shape, x_test[0].shape\n"
   ]
  },
  {
   "cell_type": "markdown",
   "id": "2e7bf9a8",
   "metadata": {},
   "source": [
    "### 원본 이미지 - AE 진행된 이미지 비교"
   ]
  },
  {
   "cell_type": "code",
   "execution_count": 23,
   "id": "9107917a",
   "metadata": {},
   "outputs": [
    {
     "data": {
      "image/png": "[encoded data removed]",
      "text/plain": [
       "<Figure size 432x288 with 1 Axes>"
      ]
     },
     "metadata": {
      "needs_background": "light"
     },
     "output_type": "display_data"
    }
   ],
   "source": [
    "plt.imshow(x_test[0].reshape(28,28), cmap='gray')\n",
    "plt.show()"
   ]
  },
  {
   "cell_type": "code",
   "execution_count": 24,
   "id": "e70facbf",
   "metadata": {},
   "outputs": [
    {
     "data": {
      "image/png": "[encoded data removed]",
      "text/plain": [
       "<Figure size 432x288 with 1 Axes>"
      ]
     },
     "metadata": {
      "needs_background": "light"
     },
     "output_type": "display_data"
    }
   ],
   "source": [
    "plt.imshow(pre_out1[0].reshape(28,28), cmap='gray')\n",
    "plt.show()"
   ]
  },
  {
   "cell_type": "code",
   "execution_count": 25,
   "id": "c117ea66",
   "metadata": {
    "scrolled": true
   },
   "outputs": [
    {
     "data": {
      "image/png": "[encoded data removed]",
      "text/plain": [
       "<Figure size 432x288 with 1 Axes>"
      ]
     },
     "metadata": {
      "needs_background": "light"
     },
     "output_type": "display_data"
    }
   ],
   "source": [
    "plt.imshow(pre_out10[0].reshape(28,28), cmap='gray')\n",
    "plt.show()"
   ]
  },
  {
   "cell_type": "code",
   "execution_count": 26,
   "id": "5a24f3d2",
   "metadata": {},
   "outputs": [
    {
     "data": {
      "image/png": "[encoded data removed]",
      "text/plain": [
       "<Figure size 432x288 with 1 Axes>"
      ]
     },
     "metadata": {
      "needs_background": "light"
     },
     "output_type": "display_data"
    }
   ],
   "source": [
    "plt.imshow(pre_out30[0].reshape(28,28), cmap='gray')\n",
    "plt.show()"
   ]
  },
  {
   "cell_type": "code",
   "execution_count": 27,
   "id": "c7b5a23b",
   "metadata": {},
   "outputs": [
    {
     "data": {
      "image/png": "[encoded data removed]",
      "text/plain": [
       "<Figure size 432x288 with 1 Axes>"
      ]
     },
     "metadata": {
      "needs_background": "light"
     },
     "output_type": "display_data"
    }
   ],
   "source": [
    "plt.imshow(pre_out50[0].reshape(28,28), cmap='gray')\n",
    "plt.show()"
   ]
  }
 ],
 "metadata": {
  "kernelspec": {
   "display_name": "Python 3 (ipykernel)",
   "language": "python",
   "name": "python3"
  },
  "language_info": {
   "codemirror_mode": {
    "name": "ipython",
    "version": 3
   },
   "file_extension": ".py",
   "mimetype": "text/x-python",
   "name": "python",
   "nbconvert_exporter": "python",
   "pygments_lexer": "ipython3",
   "version": "3.9.12"
  }
 },
 "nbformat": 4,
 "nbformat_minor": 5
}
