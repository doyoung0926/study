{
 "cells": [
  {
   "cell_type": "markdown",
   "id": "1093f4f2",
   "metadata": {},
   "source": [
    "## 모델 저장과 복원\n",
    "---\n",
    "- 방법1) 모델전체 저장(모델 구조 + 가중치 + 변수)\n",
    "    * save_model()\n",
    "    * 복원시 추가 작업 필요 없이 모델 파일 로딩해서 사용 가능\n",
    "\n",
    "- 방법2) 가중치만 저장\n",
    "    * save_weights()\n",
    "    * 복원시 모델 구조(Architecture) 생성 후 가중치 적용\n",
    "    \n",
    "- 방법3) 모델 전체 또는 가중치 자동 저장\n",
    "    * fit()에서 ModelCheckPoint Event에 대한 callback 등록\n",
    "    * save_best_only=True : 모니터링 기준에 따라서 좋은 성능의 모델만 저장\n",
    "    * save_weight_only=True : 가중치만 저장\n",
    "    \n",
    "- 파일 또는 폴더\n",
    "    * 파일 확장자가 없으면 폴더로 저장\n",
    "    * 파일 확장자\n",
    "        - h5 / hdf5 : HDF5 포맷으로 모델 또는 가중치 저장\n",
    "        - ckpf : 체크파일형태로 저장\n",
    "        - pd : 모델 저장"
   ]
  },
  {
   "cell_type": "markdown",
   "id": "b988f711",
   "metadata": {},
   "source": [
    "## [1] 데이터 준비"
   ]
  },
  {
   "cell_type": "code",
   "execution_count": 575,
   "id": "65a82e81",
   "metadata": {},
   "outputs": [],
   "source": [
    "from sklearn.datasets import load_iris\n",
    "from tensorflow.keras import Sequential\n",
    "from tensorflow.keras.layers import Dense\n",
    "from tensorflow.keras.utils import set_random_seed, plot_model\n",
    "import numpy as np"
   ]
  },
  {
   "cell_type": "markdown",
   "id": "9312a285",
   "metadata": {},
   "source": [
    "## [1] 데이터 준비 및 로딩\n",
    "---"
   ]
  },
  {
   "cell_type": "code",
   "execution_count": 576,
   "id": "91e63956",
   "metadata": {},
   "outputs": [],
   "source": [
    "iris=load_iris()"
   ]
  },
  {
   "cell_type": "code",
   "execution_count": 577,
   "id": "8867caa9",
   "metadata": {},
   "outputs": [
    {
     "name": "stdout",
     "output_type": "stream",
     "text": [
      "x_train.shape : (150, 4), y_train.shape : (150,)\n"
     ]
    }
   ],
   "source": [
    "x_train=iris.data\n",
    "y_train=iris.target\n",
    "\n",
    "print(f'x_train.shape : {x_train.shape}, y_train.shape : {y_train.shape}')"
   ]
  },
  {
   "cell_type": "code",
   "execution_count": 578,
   "id": "22a5d5c2",
   "metadata": {},
   "outputs": [
    {
     "data": {
      "text/plain": [
       "(array(['setosa', 'versicolor', 'virginica'], dtype='<U10'),\n",
       " ['sepal length (cm)',\n",
       "  'sepal width (cm)',\n",
       "  'petal length (cm)',\n",
       "  'petal width (cm)'])"
      ]
     },
     "execution_count": 578,
     "metadata": {},
     "output_type": "execute_result"
    }
   ],
   "source": [
    "iris.target_names, iris.feature_names"
   ]
  },
  {
   "cell_type": "markdown",
   "id": "6a095e3d",
   "metadata": {},
   "source": [
    "## [2] 데이터 전처리\n",
    "---"
   ]
  },
  {
   "cell_type": "code",
   "execution_count": 579,
   "id": "db276d31",
   "metadata": {},
   "outputs": [
    {
     "data": {
      "text/plain": [
       "(150, 2)"
      ]
     },
     "execution_count": 579,
     "metadata": {},
     "output_type": "execute_result"
    }
   ],
   "source": [
    "# Feature => 꽃잎의 길이, 너비\n",
    "x_train=x_train[:, 2:]\n",
    "x_train.shape"
   ]
  },
  {
   "cell_type": "code",
   "execution_count": 580,
   "id": "90900920",
   "metadata": {},
   "outputs": [],
   "source": [
    "# Target => 문자 => 수치화\n",
    "from sklearn.preprocessing import LabelEncoder, OneHotEncoder"
   ]
  },
  {
   "cell_type": "code",
   "execution_count": 581,
   "id": "6e5ca890",
   "metadata": {},
   "outputs": [],
   "source": [
    "lencoder=LabelEncoder()\n",
    "y_train=lencoder.fit(y_train).transform(y_train)"
   ]
  },
  {
   "cell_type": "code",
   "execution_count": 582,
   "id": "fc049703",
   "metadata": {},
   "outputs": [],
   "source": [
    "ohencoder=OneHotEncoder()\n",
    "y_train=ohencoder.fit(y_train.reshape(-1,1)).transform(y_train.reshape(-1,1))"
   ]
  },
  {
   "cell_type": "code",
   "execution_count": 583,
   "id": "bf114bd6",
   "metadata": {},
   "outputs": [],
   "source": [
    "y_train=y_train.toarray()"
   ]
  },
  {
   "cell_type": "code",
   "execution_count": 584,
   "id": "75025639",
   "metadata": {},
   "outputs": [
    {
     "data": {
      "text/plain": [
       "((150, 2), (150, 3), array([1., 0., 0.]))"
      ]
     },
     "execution_count": 584,
     "metadata": {},
     "output_type": "execute_result"
    }
   ],
   "source": [
    "x_train.shape, y_train.shape, y_train[0]"
   ]
  },
  {
   "cell_type": "code",
   "execution_count": 585,
   "id": "aef8cb5a",
   "metadata": {},
   "outputs": [],
   "source": [
    "from sklearn.preprocessing import StandardScaler"
   ]
  },
  {
   "cell_type": "code",
   "execution_count": 586,
   "id": "ef6fa64c",
   "metadata": {},
   "outputs": [],
   "source": [
    "scaler=StandardScaler()"
   ]
  },
  {
   "cell_type": "code",
   "execution_count": 587,
   "id": "ce1675fe",
   "metadata": {},
   "outputs": [],
   "source": [
    "x_scaled_train=scaler.fit(x_train).transform(x_train)"
   ]
  },
  {
   "cell_type": "code",
   "execution_count": 588,
   "id": "05a0bfe8",
   "metadata": {},
   "outputs": [],
   "source": [
    "from sklearn.model_selection import train_test_split"
   ]
  },
  {
   "cell_type": "code",
   "execution_count": 589,
   "id": "44b50286",
   "metadata": {},
   "outputs": [],
   "source": [
    "x_train, x_test, y_train, y_test = train_test_split(x_scaled_train,\n",
    "                                                    y_train,\n",
    "                                                    stratify=y_train)"
   ]
  },
  {
   "cell_type": "code",
   "execution_count": 590,
   "id": "3f02a6b3",
   "metadata": {},
   "outputs": [],
   "source": [
    "x_train, x_val, y_train, y_val = train_test_split(x_train, y_train)"
   ]
  },
  {
   "cell_type": "code",
   "execution_count": 591,
   "id": "aceecfb3",
   "metadata": {
    "scrolled": true
   },
   "outputs": [
    {
     "name": "stdout",
     "output_type": "stream",
     "text": [
      "x_train.shape : (84, 2)\n",
      "x_test.shape : (38, 2)\n",
      "x_val.shape : (28, 2)\n"
     ]
    }
   ],
   "source": [
    "print(f'x_train.shape : {x_train.shape}')\n",
    "print(f'x_test.shape : {x_test.shape}')\n",
    "print(f'x_val.shape : {x_val.shape}')"
   ]
  },
  {
   "cell_type": "code",
   "execution_count": 592,
   "id": "76f1265f",
   "metadata": {},
   "outputs": [
    {
     "data": {
      "text/plain": [
       "array([-1.34022653, -1.3154443 ])"
      ]
     },
     "execution_count": 592,
     "metadata": {},
     "output_type": "execute_result"
    }
   ],
   "source": [
    "x_train[0]"
   ]
  },
  {
   "cell_type": "markdown",
   "id": "d76d6b21",
   "metadata": {},
   "source": [
    "## [3] 모델 구성 및 생성\n",
    "---\n",
    "- 입력 데이터 : 2개 Feature\n",
    "- 출력 데이터 : 3개 품종\n",
    "- 학습 방법 : 분류 - 다중분류"
   ]
  },
  {
   "cell_type": "code",
   "execution_count": 593,
   "id": "a2fa93aa",
   "metadata": {},
   "outputs": [],
   "source": [
    "# W,b 초기값 고정\n",
    "set_random_seed(15)"
   ]
  },
  {
   "cell_type": "code",
   "execution_count": 594,
   "id": "cf8ff256",
   "metadata": {},
   "outputs": [],
   "source": [
    "irisModel=Sequential(name='irisModel')"
   ]
  },
  {
   "cell_type": "code",
   "execution_count": 595,
   "id": "7c67bf13",
   "metadata": {},
   "outputs": [],
   "source": [
    "irisModel.add(Dense(9, activation='relu', input_shape=(2,)))\n",
    "irisModel.add(Dense(3, activation='softmax'))"
   ]
  },
  {
   "cell_type": "code",
   "execution_count": 596,
   "id": "3dfdfcbf",
   "metadata": {},
   "outputs": [
    {
     "name": "stdout",
     "output_type": "stream",
     "text": [
      "Model: \"irisModel\"\n",
      "_________________________________________________________________\n",
      " Layer (type)                Output Shape              Param #   \n",
      "=================================================================\n",
      " dense_38 (Dense)            (None, 9)                 27        \n",
      "                                                                 \n",
      " dense_39 (Dense)            (None, 3)                 30        \n",
      "                                                                 \n",
      "=================================================================\n",
      "Total params: 57\n",
      "Trainable params: 57\n",
      "Non-trainable params: 0\n",
      "_________________________________________________________________\n"
     ]
    }
   ],
   "source": [
    "irisModel.summary()"
   ]
  },
  {
   "cell_type": "code",
   "execution_count": 597,
   "id": "294491c6",
   "metadata": {},
   "outputs": [],
   "source": [
    "# plot_model(irisModel, show_shapes=True)"
   ]
  },
  {
   "cell_type": "code",
   "execution_count": 598,
   "id": "1608102e",
   "metadata": {},
   "outputs": [],
   "source": [
    "## 모델 생성\n",
    "irisModel.compile(loss='categorical_crossentropy',\n",
    "                  optimizer='adam',\n",
    "                  metrics='accuracy')"
   ]
  },
  {
   "cell_type": "markdown",
   "id": "a1d873f6",
   "metadata": {},
   "source": [
    "## [4] 모델 학습"
   ]
  },
  {
   "cell_type": "code",
   "execution_count": 599,
   "id": "86af0efa",
   "metadata": {},
   "outputs": [
    {
     "data": {
      "text/plain": [
       "<keras.callbacks.History at 0x26ade078850>"
      ]
     },
     "execution_count": 599,
     "metadata": {},
     "output_type": "execute_result"
    }
   ],
   "source": [
    "irisModel.fit(x_train, y_train, epochs=1000, verbose=False)"
   ]
  },
  {
   "cell_type": "markdown",
   "id": "5d37fd36",
   "metadata": {},
   "source": [
    "## [5] 평가"
   ]
  },
  {
   "cell_type": "code",
   "execution_count": 600,
   "id": "8d484cd4",
   "metadata": {
    "scrolled": true
   },
   "outputs": [
    {
     "name": "stdout",
     "output_type": "stream",
     "text": [
      "2/2 [==============================] - 0s 2ms/step - loss: 0.0615 - accuracy: 0.9737\n"
     ]
    }
   ],
   "source": [
    "lossv, accv=irisModel.evaluate(x_test, y_test)"
   ]
  },
  {
   "cell_type": "code",
   "execution_count": 601,
   "id": "337ce0f1",
   "metadata": {
    "scrolled": true
   },
   "outputs": [
    {
     "data": {
      "text/plain": [
       "(0.061490535736083984, 0.9736841917037964)"
      ]
     },
     "execution_count": 601,
     "metadata": {},
     "output_type": "execute_result"
    }
   ],
   "source": [
    "lossv, accv"
   ]
  },
  {
   "cell_type": "markdown",
   "id": "782a7ac5",
   "metadata": {},
   "source": [
    "## [6] 모델 저장"
   ]
  },
  {
   "cell_type": "code",
   "execution_count": 602,
   "id": "a92a2a7e",
   "metadata": {},
   "outputs": [],
   "source": [
    "from tensorflow.keras.models import save_model"
   ]
  },
  {
   "cell_type": "code",
   "execution_count": 603,
   "id": "08f60869",
   "metadata": {},
   "outputs": [],
   "source": [
    "M_FILE='irisModel.h5'\n",
    "W_FILE='irisWeight.h5'"
   ]
  },
  {
   "cell_type": "code",
   "execution_count": 604,
   "id": "e8eaf3e7",
   "metadata": {},
   "outputs": [],
   "source": [
    "if accv>=0.97:\n",
    "    save_model(irisModel, M_FILE)\n",
    "    irisModel.save_weights(W_FILE)"
   ]
  },
  {
   "cell_type": "markdown",
   "id": "3531fbfd",
   "metadata": {},
   "source": [
    "## [7] 복원\n",
    "---\n",
    "- 모델 또는 가중치 복원\n",
    "- load_model(모델 파일 또는 모델 폴더명)\n",
    "- Sequential.load_weights(가중치 파일 또는 폴더명)"
   ]
  },
  {
   "cell_type": "markdown",
   "id": "b7909b87",
   "metadata": {},
   "source": [
    "### [7-1] 모델 복원"
   ]
  },
  {
   "cell_type": "code",
   "execution_count": 605,
   "id": "d28d26ab",
   "metadata": {},
   "outputs": [],
   "source": [
    "from tensorflow.keras.models import load_model"
   ]
  },
  {
   "cell_type": "code",
   "execution_count": 606,
   "id": "16fc8178",
   "metadata": {},
   "outputs": [],
   "source": [
    "reModel=load_model(M_FILE)"
   ]
  },
  {
   "cell_type": "code",
   "execution_count": 607,
   "id": "af5f2153",
   "metadata": {
    "scrolled": true
   },
   "outputs": [
    {
     "name": "stdout",
     "output_type": "stream",
     "text": [
      "2/2 [==============================] - 0s 2ms/step - loss: 0.0615 - accuracy: 0.9737\n"
     ]
    },
    {
     "data": {
      "text/plain": [
       "[0.061490535736083984, 0.9736841917037964]"
      ]
     },
     "execution_count": 607,
     "metadata": {},
     "output_type": "execute_result"
    }
   ],
   "source": [
    "reModel.evaluate(x_test, y_test)"
   ]
  },
  {
   "cell_type": "code",
   "execution_count": 608,
   "id": "453ff113",
   "metadata": {
    "scrolled": false
   },
   "outputs": [
    {
     "name": "stdout",
     "output_type": "stream",
     "text": [
      "Model: \"irisModel\"\n",
      "_________________________________________________________________\n",
      " Layer (type)                Output Shape              Param #   \n",
      "=================================================================\n",
      " dense_38 (Dense)            (None, 9)                 27        \n",
      "                                                                 \n",
      " dense_39 (Dense)            (None, 3)                 30        \n",
      "                                                                 \n",
      "=================================================================\n",
      "Total params: 57\n",
      "Trainable params: 57\n",
      "Non-trainable params: 0\n",
      "_________________________________________________________________\n"
     ]
    }
   ],
   "source": [
    "reModel.summary()"
   ]
  },
  {
   "cell_type": "markdown",
   "id": "493d3442",
   "metadata": {},
   "source": [
    "### [7-2] 가중치 복원\n",
    "---\n",
    "- 모델 구조 생성\n",
    "- 가중치 로딩"
   ]
  },
  {
   "cell_type": "code",
   "execution_count": 609,
   "id": "ad4e21f0",
   "metadata": {},
   "outputs": [
    {
     "name": "stdout",
     "output_type": "stream",
     "text": [
      "Model: \"newirisModel\"\n",
      "_________________________________________________________________\n",
      " Layer (type)                Output Shape              Param #   \n",
      "=================================================================\n",
      " dense_40 (Dense)            (None, 9)                 27        \n",
      "                                                                 \n",
      " dense_41 (Dense)            (None, 3)                 30        \n",
      "                                                                 \n",
      "=================================================================\n",
      "Total params: 57\n",
      "Trainable params: 57\n",
      "Non-trainable params: 0\n",
      "_________________________________________________________________\n"
     ]
    }
   ],
   "source": [
    "# 모델 구조 구성\n",
    "newModel=Sequential(name='newirisModel')\n",
    "newModel.add(Dense(9, activation='relu', input_shape=(2,)))\n",
    "newModel.add(Dense(3, activation='softmax'))\n",
    "newModel.summary()"
   ]
  },
  {
   "cell_type": "code",
   "execution_count": 610,
   "id": "dcfade98",
   "metadata": {},
   "outputs": [],
   "source": [
    "# 모델 생성\n",
    "newModel.compile(loss='categorical_crossentropy',\n",
    "                 optimizer='adam',\n",
    "                 metrics='accuracy')"
   ]
  },
  {
   "cell_type": "code",
   "execution_count": 611,
   "id": "e9a2cc1a",
   "metadata": {},
   "outputs": [],
   "source": [
    "# 가중치 로딩\n",
    "newModel.load_weights(W_FILE)"
   ]
  },
  {
   "cell_type": "code",
   "execution_count": 612,
   "id": "78a9eb30",
   "metadata": {},
   "outputs": [
    {
     "name": "stdout",
     "output_type": "stream",
     "text": [
      "2/2 [==============================] - 0s 3ms/step - loss: 0.0615 - accuracy: 0.9737\n"
     ]
    },
    {
     "data": {
      "text/plain": [
       "[0.061490535736083984, 0.9736841917037964]"
      ]
     },
     "execution_count": 612,
     "metadata": {},
     "output_type": "execute_result"
    }
   ],
   "source": [
    "newModel.evaluate(x_test, y_test)"
   ]
  },
  {
   "cell_type": "code",
   "execution_count": null,
   "id": "24e12d71",
   "metadata": {},
   "outputs": [],
   "source": []
  }
 ],
 "metadata": {
  "kernelspec": {
   "display_name": "Python 3 (ipykernel)",
   "language": "python",
   "name": "python3"
  },
  "language_info": {
   "codemirror_mode": {
    "name": "ipython",
    "version": 3
   },
   "file_extension": ".py",
   "mimetype": "text/x-python",
   "name": "python",
   "nbconvert_exporter": "python",
   "pygments_lexer": "ipython3",
   "version": "3.9.12"
  }
 },
 "nbformat": 4,
 "nbformat_minor": 5
}
