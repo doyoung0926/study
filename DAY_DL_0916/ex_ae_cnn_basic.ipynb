{
 "cells": [
  {
   "cell_type": "markdown",
   "id": "acec203b",
   "metadata": {},
   "source": [
    "# CNN(Convolution Neural Network)\n",
    "---\n",
    "- 이미지, 영상 처리에 사용되는 신경망 모델\n",
    "- DNN의 한 분야\n",
    "- 텍스트 처리에도 사용되는 모델\n",
    "- 사용되는 Layer\n",
    "    * ConvXD : 이미지의 형태 그대로 입력 받아 특징을 추출하는 레이어\n",
    "    * Pooling : 특징맵에서 특징을 다시 추출, 다운샘플링하는 레이어, 크기 반으로 줄임"
   ]
  },
  {
   "cell_type": "code",
   "execution_count": 121,
   "id": "76820a95",
   "metadata": {},
   "outputs": [],
   "source": [
    "from tensorflow.keras.datasets.mnist import load_data\n",
    "from tensorflow.keras.utils import set_random_seed, plot_model\n",
    "from tensorflow.keras import Sequential\n",
    "from tensorflow.keras.layers import Conv2D\n",
    "import numpy as np\n",
    "import matplotlib.pyplot as plt"
   ]
  },
  {
   "cell_type": "code",
   "execution_count": 122,
   "id": "3eed1f61",
   "metadata": {},
   "outputs": [],
   "source": [
    "# W, b 고정하도록 seed 설정\n",
    "set_random_seed(11)"
   ]
  },
  {
   "cell_type": "markdown",
   "id": "e41c6e9e",
   "metadata": {},
   "source": [
    "## [1] 데이터 준비 및 로딩\n",
    "---"
   ]
  },
  {
   "cell_type": "code",
   "execution_count": 123,
   "id": "6a68665e",
   "metadata": {},
   "outputs": [],
   "source": [
    "(x_train, y_train), (x_test, y_test) = load_data()"
   ]
  },
  {
   "cell_type": "code",
   "execution_count": 124,
   "id": "acca6270",
   "metadata": {},
   "outputs": [
    {
     "name": "stdout",
     "output_type": "stream",
     "text": [
      "x_train.shape : (60000, 28, 28), y_train.shape : (60000,)\n",
      "x_test.shape : (10000, 28, 28), y_test.shape : (10000,)\n"
     ]
    }
   ],
   "source": [
    "print(f'x_train.shape : {x_train.shape}, y_train.shape : {y_train.shape}')\n",
    "print(f'x_test.shape : {x_test.shape}, y_test.shape : {y_test.shape}')"
   ]
  },
  {
   "cell_type": "markdown",
   "id": "c0225ce7",
   "metadata": {},
   "source": [
    "## [2] 데이터 전처리 및 학습형태로 변환"
   ]
  },
  {
   "cell_type": "code",
   "execution_count": 125,
   "id": "34dd844c",
   "metadata": {},
   "outputs": [],
   "source": [
    "# 스케일링 => 픽셀 / 255.0\n",
    "x_train = x_train/255.0\n",
    "x_test = x_test/255.0"
   ]
  },
  {
   "cell_type": "code",
   "execution_count": 126,
   "id": "a647b1db",
   "metadata": {},
   "outputs": [],
   "source": [
    "# Conv 레이어는 이미지 채널 정보까지 입력\n",
    "x_train = x_train.reshape(-1, 28, 28, 1)\n",
    "x_test = x_test.reshape(-1, 28, 28, 1)"
   ]
  },
  {
   "cell_type": "code",
   "execution_count": 127,
   "id": "0cf2da26",
   "metadata": {},
   "outputs": [
    {
     "name": "stdout",
     "output_type": "stream",
     "text": [
      "x_train.shape : (60000, 28, 28, 1), x_test.shape : (10000, 28, 28, 1)\n"
     ]
    }
   ],
   "source": [
    "print(f'x_train.shape : {x_train.shape}, x_test.shape : {x_test.shape}')"
   ]
  },
  {
   "cell_type": "code",
   "execution_count": 128,
   "id": "b869a3e0",
   "metadata": {},
   "outputs": [],
   "source": [
    "# 데이터셋에 노이즈 추가\n",
    "# np.random.normal(평균loc=0.0, 표준편차scale=1.0, 출력size=None)\n",
    "x_train_noised = x_train + np.random.normal(0, 0.5, size=x_train.shape)\n",
    "x_test_noised = x_test + np.random.normal(0, 0.5, size=x_test.shape)\n",
    "\n",
    "# 픽셀 범위 0.0~1.0 벗어나는 픽셀값 조정 np.clip(array, min, max)\n",
    "x_train_noised = np.clip(x_train_noised, a_min=0, a_max=1)\n",
    "x_test_noised = np.clip(x_test_noised, a_min=0, a_max=1)"
   ]
  },
  {
   "cell_type": "code",
   "execution_count": 129,
   "id": "71145c9f",
   "metadata": {
    "scrolled": true
   },
   "outputs": [
    {
     "data": {
      "image/png": "[encoded data removed]",
      "text/plain": [
       "<Figure size 432x288 with 1 Axes>"
      ]
     },
     "metadata": {
      "needs_background": "light"
     },
     "output_type": "display_data"
    }
   ],
   "source": [
    "plt.imshow(x_train[0].reshape(28,28), cmap='gray')\n",
    "plt.show()"
   ]
  },
  {
   "cell_type": "code",
   "execution_count": 130,
   "id": "b410f45f",
   "metadata": {},
   "outputs": [
    {
     "data": {
      "image/png": "[encoded data removed]",
      "text/plain": [
       "<Figure size 432x288 with 1 Axes>"
      ]
     },
     "metadata": {
      "needs_background": "light"
     },
     "output_type": "display_data"
    }
   ],
   "source": [
    "plt.imshow(x_train_noised[0].reshape(28,28), cmap='gray')\n",
    "plt.show()"
   ]
  },
  {
   "cell_type": "markdown",
   "id": "8d93c325",
   "metadata": {},
   "source": [
    "## [3] 모델 구성 및 생성\n",
    "---\n",
    "- 입력 형태 : 채널정보까지 포함 3차원 (28, 28, 1)\n",
    "- 출력 형태 : 0 ~ 9 정수 확률값 10개 출력\n",
    "- 학습 방식 : 분류 - 이진분류\n",
    "- 전반부\n",
    "    * 이미지 특징 추출\n",
    "        - Conv2D\n",
    "- 후반부\n",
    "    * 이미지 데이터 학습\n",
    "        - Conv2D"
   ]
  },
  {
   "cell_type": "markdown",
   "id": "fd1b102f",
   "metadata": {},
   "source": [
    "### [3-1] 모델 구상 및 생성\n",
    "---\n",
    "- compile 메서드\n",
    "    * loss 손실 함수 => binary_crossentropy\n",
    "    * optimizer 최적화 방식 => adam"
   ]
  },
  {
   "cell_type": "code",
   "execution_count": 131,
   "id": "c0847ccc",
   "metadata": {},
   "outputs": [],
   "source": [
    "def createCNNModel(kernel):\n",
    "    model=Sequential()\n",
    "    # 이미지 특징 추출 Layer => 첫번째 입력값 설정\n",
    "    model.add(Conv2D(kernel, kernel_size=3, padding='same', input_shape=(28,28,1)))\n",
    "    # 출력\n",
    "    model.add(Conv2D(1, kernel_size=3, padding='same', activation='sigmoid'))\n",
    "    model.compile(loss='binary_crossentropy',\n",
    "                  optimizer='adam')\n",
    "    return model"
   ]
  },
  {
   "cell_type": "code",
   "execution_count": 132,
   "id": "9d682fa2",
   "metadata": {},
   "outputs": [],
   "source": [
    "oneModel=createCNNModel(1)\n",
    "tenModel=createCNNModel(10)\n",
    "fiftyModel=createCNNModel(50)"
   ]
  },
  {
   "cell_type": "code",
   "execution_count": 133,
   "id": "cf785aaa",
   "metadata": {
    "scrolled": true
   },
   "outputs": [
    {
     "name": "stdout",
     "output_type": "stream",
     "text": [
      "Model: \"sequential_9\"\n",
      "_________________________________________________________________\n",
      " Layer (type)                Output Shape              Param #   \n",
      "=================================================================\n",
      " conv2d_18 (Conv2D)          (None, 28, 28, 1)         10        \n",
      "                                                                 \n",
      " conv2d_19 (Conv2D)          (None, 28, 28, 1)         10        \n",
      "                                                                 \n",
      "=================================================================\n",
      "Total params: 20\n",
      "Trainable params: 20\n",
      "Non-trainable params: 0\n",
      "_________________________________________________________________\n"
     ]
    }
   ],
   "source": [
    "oneModel.summary()"
   ]
  },
  {
   "cell_type": "code",
   "execution_count": 134,
   "id": "534911fe",
   "metadata": {},
   "outputs": [
    {
     "data": {
      "image/png": "[encoded data removed]",
      "text/plain": [
       "<IPython.core.display.Image object>"
      ]
     },
     "execution_count": 134,
     "metadata": {},
     "output_type": "execute_result"
    }
   ],
   "source": [
    "plot_model(oneModel, show_shapes=True)"
   ]
  },
  {
   "cell_type": "markdown",
   "id": "2537fcfa",
   "metadata": {},
   "source": [
    "### [3-2] 모델 학습\n",
    "---\n",
    "- fit 메서드\n",
    "    * 학습 데이터, 라벨\n",
    "    * epochs 학습횟수\n",
    "    * batch_size 학습분량\n",
    "    * validation_data (검증데이터, 검증라벨)\n",
    "    * validation_split 학습데이터의 일부 비율 설정 (예:0.2)\n",
    "    * callback\n",
    "    * verbose : 학습 진행도 화면 출력 여부 설정"
   ]
  },
  {
   "cell_type": "code",
   "execution_count": 135,
   "id": "993d289a",
   "metadata": {
    "scrolled": false
   },
   "outputs": [
    {
     "name": "stdout",
     "output_type": "stream",
     "text": [
      "Epoch 1/10\n",
      "1875/1875 [==============================] - 30s 15ms/step - loss: 0.2589\n",
      "Epoch 2/10\n",
      "1875/1875 [==============================] - 28s 15ms/step - loss: 0.1226\n",
      "Epoch 3/10\n",
      "1875/1875 [==============================] - 25s 13ms/step - loss: 0.1217\n",
      "Epoch 4/10\n",
      "1875/1875 [==============================] - 25s 13ms/step - loss: 0.1210\n",
      "Epoch 5/10\n",
      "1875/1875 [==============================] - 25s 13ms/step - loss: 0.1207\n",
      "Epoch 6/10\n",
      "1875/1875 [==============================] - 27s 14ms/step - loss: 0.1205\n",
      "Epoch 7/10\n",
      "1875/1875 [==============================] - 28s 15ms/step - loss: 0.1204\n",
      "Epoch 8/10\n",
      "1875/1875 [==============================] - 28s 15ms/step - loss: 0.1204\n",
      "Epoch 9/10\n",
      "1875/1875 [==============================] - 29s 15ms/step - loss: 0.1203\n",
      "Epoch 10/10\n",
      "1875/1875 [==============================] - 25s 13ms/step - loss: 0.1203\n",
      "Epoch 1/10\n",
      "1875/1875 [==============================] - 44s 23ms/step - loss: 0.1574\n",
      "Epoch 2/10\n",
      "1875/1875 [==============================] - 45s 24ms/step - loss: 0.1208\n",
      "Epoch 3/10\n",
      "1875/1875 [==============================] - 45s 24ms/step - loss: 0.1200\n",
      "Epoch 4/10\n",
      "1875/1875 [==============================] - 44s 23ms/step - loss: 0.1195\n",
      "Epoch 5/10\n",
      "1875/1875 [==============================] - 43s 23ms/step - loss: 0.1192\n",
      "Epoch 6/10\n",
      "1875/1875 [==============================] - 41s 22ms/step - loss: 0.1191\n",
      "Epoch 7/10\n",
      "1875/1875 [==============================] - 42s 22ms/step - loss: 0.1190\n",
      "Epoch 8/10\n",
      "1875/1875 [==============================] - 42s 22ms/step - loss: 0.1189\n",
      "Epoch 9/10\n",
      "1875/1875 [==============================] - 44s 23ms/step - loss: 0.1189\n",
      "Epoch 10/10\n",
      "1875/1875 [==============================] - 38s 20ms/step - loss: 0.1189\n",
      "Epoch 1/10\n",
      "1875/1875 [==============================] - 89s 47ms/step - loss: 0.1394\n",
      "Epoch 2/10\n",
      "1875/1875 [==============================] - 88s 47ms/step - loss: 0.1199\n",
      "Epoch 3/10\n",
      "1875/1875 [==============================] - 89s 47ms/step - loss: 0.1192\n",
      "Epoch 4/10\n",
      "1875/1875 [==============================] - 90s 48ms/step - loss: 0.1190\n",
      "Epoch 5/10\n",
      "1875/1875 [==============================] - 86s 46ms/step - loss: 0.1190\n",
      "Epoch 6/10\n",
      "1875/1875 [==============================] - 87s 46ms/step - loss: 0.1189\n",
      "Epoch 7/10\n",
      "1875/1875 [==============================] - 87s 46ms/step - loss: 0.1189\n",
      "Epoch 8/10\n",
      "1875/1875 [==============================] - 86s 46ms/step - loss: 0.1189\n",
      "Epoch 9/10\n",
      "1875/1875 [==============================] - 101s 54ms/step - loss: 0.1189\n",
      "Epoch 10/10\n",
      "1875/1875 [==============================] - 109s 58ms/step - loss: 0.1189\n"
     ]
    },
    {
     "data": {
      "text/plain": [
       "<keras.callbacks.History at 0x12235890670>"
      ]
     },
     "execution_count": 135,
     "metadata": {},
     "output_type": "execute_result"
    }
   ],
   "source": [
    "oneModel.fit(x_train_noised, x_train, epochs=10)\n",
    "tenModel.fit(x_train_noised, x_train, epochs=10)\n",
    "fiftyModel.fit(x_train_noised, x_train, epochs=10)"
   ]
  },
  {
   "cell_type": "code",
   "execution_count": 136,
   "id": "2090e6f0",
   "metadata": {},
   "outputs": [
    {
     "data": {
      "text/plain": [
       "(60000, 28, 28, 1)"
      ]
     },
     "execution_count": 136,
     "metadata": {},
     "output_type": "execute_result"
    }
   ],
   "source": [
    "x_train_noised.shape"
   ]
  },
  {
   "cell_type": "markdown",
   "id": "7cdbcfc4",
   "metadata": {},
   "source": [
    "## [4] 평가\n",
    "---\n",
    "- evaluate 메서드\n",
    "- 테스트 데이터, 테스트 라벨"
   ]
  },
  {
   "cell_type": "code",
   "execution_count": 137,
   "id": "20904d0d",
   "metadata": {},
   "outputs": [
    {
     "name": "stdout",
     "output_type": "stream",
     "text": [
      "313/313 [==============================] - 3s 9ms/step - loss: 0.0802\n",
      "313/313 [==============================] - 4s 11ms/step - loss: 0.0797\n",
      "313/313 [==============================] - 6s 17ms/step - loss: 0.0802\n"
     ]
    },
    {
     "data": {
      "text/plain": [
       "0.08023415505886078"
      ]
     },
     "execution_count": 137,
     "metadata": {},
     "output_type": "execute_result"
    }
   ],
   "source": [
    "oneModel.evaluate(x_test, x_test)\n",
    "tenModel.evaluate(x_test, x_test)\n",
    "fiftyModel.evaluate(x_test, x_test)"
   ]
  },
  {
   "cell_type": "markdown",
   "id": "2c9163c9",
   "metadata": {},
   "source": [
    "## [5] 예측 \n",
    "---\n",
    "- 새로운 데이터 사용"
   ]
  },
  {
   "cell_type": "code",
   "execution_count": 138,
   "id": "3ae2a771",
   "metadata": {},
   "outputs": [
    {
     "data": {
      "text/plain": [
       "(28, 28, 1)"
      ]
     },
     "execution_count": 138,
     "metadata": {},
     "output_type": "execute_result"
    }
   ],
   "source": [
    "x_test_noised[0].shape"
   ]
  },
  {
   "cell_type": "code",
   "execution_count": 139,
   "id": "bcc0b0f5",
   "metadata": {},
   "outputs": [
    {
     "name": "stdout",
     "output_type": "stream",
     "text": [
      "WARNING:tensorflow:Model was constructed with shape (None, 28, 28, 1) for input KerasTensor(type_spec=TensorSpec(shape=(None, 28, 28, 1), dtype=tf.float32, name='conv2d_18_input'), name='conv2d_18_input', description=\"created by layer 'conv2d_18_input'\"), but it was called on an input with incompatible shape (None, 28, 1, 1).\n",
      "1/1 [==============================] - 0s 189ms/step\n",
      "WARNING:tensorflow:Model was constructed with shape (None, 28, 28, 1) for input KerasTensor(type_spec=TensorSpec(shape=(None, 28, 28, 1), dtype=tf.float32, name='conv2d_20_input'), name='conv2d_20_input', description=\"created by layer 'conv2d_20_input'\"), but it was called on an input with incompatible shape (None, 28, 1, 1).\n",
      "WARNING:tensorflow:5 out of the last 5 calls to <function Model.make_predict_function.<locals>.predict_function at 0x0000012235B76AF0> triggered tf.function retracing. Tracing is expensive and the excessive number of tracings could be due to (1) creating @tf.function repeatedly in a loop, (2) passing tensors with different shapes, (3) passing Python objects instead of tensors. For (1), please define your @tf.function outside of the loop. For (2), @tf.function has reduce_retracing=True option that can avoid unnecessary retracing. For (3), please refer to https://www.tensorflow.org/guide/function#controlling_retracing and https://www.tensorflow.org/api_docs/python/tf/function for  more details.\n",
      "1/1 [==============================] - 0s 241ms/step\n",
      "WARNING:tensorflow:Model was constructed with shape (None, 28, 28, 1) for input KerasTensor(type_spec=TensorSpec(shape=(None, 28, 28, 1), dtype=tf.float32, name='conv2d_22_input'), name='conv2d_22_input', description=\"created by layer 'conv2d_22_input'\"), but it was called on an input with incompatible shape (None, 28, 1, 1).\n",
      "WARNING:tensorflow:6 out of the last 6 calls to <function Model.make_predict_function.<locals>.predict_function at 0x0000012235BCA550> triggered tf.function retracing. Tracing is expensive and the excessive number of tracings could be due to (1) creating @tf.function repeatedly in a loop, (2) passing tensors with different shapes, (3) passing Python objects instead of tensors. For (1), please define your @tf.function outside of the loop. For (2), @tf.function has reduce_retracing=True option that can avoid unnecessary retracing. For (3), please refer to https://www.tensorflow.org/guide/function#controlling_retracing and https://www.tensorflow.org/api_docs/python/tf/function for  more details.\n",
      "1/1 [==============================] - 0s 251ms/step\n"
     ]
    }
   ],
   "source": [
    "pre_out1=oneModel.predict(x_test_noised[0])\n",
    "pre_out10=tenModel.predict(x_test_noised[0])\n",
    "pre_out50=fiftyModel.predict(x_test_noised[0])"
   ]
  },
  {
   "cell_type": "code",
   "execution_count": 140,
   "id": "3cdf967e",
   "metadata": {},
   "outputs": [
    {
     "data": {
      "text/plain": [
       "(28, 28, 1)"
      ]
     },
     "execution_count": 140,
     "metadata": {},
     "output_type": "execute_result"
    }
   ],
   "source": [
    "x_test[0].shape"
   ]
  },
  {
   "cell_type": "markdown",
   "id": "2907a9c0",
   "metadata": {},
   "source": [
    "### 원본 이미지 - AE 진행된 이미지 비교"
   ]
  },
  {
   "cell_type": "code",
   "execution_count": 141,
   "id": "63535efd",
   "metadata": {},
   "outputs": [
    {
     "data": {
      "image/png": "[encoded data removed]",
      "text/plain": [
       "<Figure size 432x288 with 1 Axes>"
      ]
     },
     "metadata": {
      "needs_background": "light"
     },
     "output_type": "display_data"
    }
   ],
   "source": [
    "plt.imshow(x_test[0].reshape(28,28), cmap='gray')\n",
    "plt.show()\n",
    "# x_test[0].shape"
   ]
  },
  {
   "cell_type": "code",
   "execution_count": 142,
   "id": "80c0138a",
   "metadata": {},
   "outputs": [
    {
     "data": {
      "image/png": "[encoded data removed]",
      "text/plain": [
       "<Figure size 432x288 with 1 Axes>"
      ]
     },
     "metadata": {
      "needs_background": "light"
     },
     "output_type": "display_data"
    }
   ],
   "source": [
    "plt.imshow(pre_out1.reshape(28,28), cmap='gray')\n",
    "plt.show()"
   ]
  },
  {
   "cell_type": "code",
   "execution_count": 143,
   "id": "dadb9c77",
   "metadata": {},
   "outputs": [
    {
     "data": {
      "image/png": "[encoded data removed]",
      "text/plain": [
       "<Figure size 432x288 with 1 Axes>"
      ]
     },
     "metadata": {
      "needs_background": "light"
     },
     "output_type": "display_data"
    }
   ],
   "source": [
    "plt.imshow(pre_out10.reshape(28,28), cmap='gray')\n",
    "plt.show()"
   ]
  },
  {
   "cell_type": "code",
   "execution_count": 144,
   "id": "706140a5",
   "metadata": {},
   "outputs": [
    {
     "data": {
      "image/png": "[encoded data removed]",
      "text/plain": [
       "<Figure size 432x288 with 1 Axes>"
      ]
     },
     "metadata": {
      "needs_background": "light"
     },
     "output_type": "display_data"
    }
   ],
   "source": [
    "plt.imshow(pre_out50.reshape(28,28), cmap='gray')\n",
    "plt.show()"
   ]
  }
 ],
 "metadata": {
  "kernelspec": {
   "display_name": "Python 3 (ipykernel)",
   "language": "python",
   "name": "python3"
  },
  "language_info": {
   "codemirror_mode": {
    "name": "ipython",
    "version": 3
   },
   "file_extension": ".py",
   "mimetype": "text/x-python",
   "name": "python",
   "nbconvert_exporter": "python",
   "pygments_lexer": "ipython3",
   "version": "3.9.12"
  }
 },
 "nbformat": 4,
 "nbformat_minor": 5
}
