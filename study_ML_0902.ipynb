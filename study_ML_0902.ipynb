{
 "cells": [
  {
   "cell_type": "markdown",
   "id": "60c82461",
   "metadata": {},
   "source": [
    "# 머신러닝 1장\n",
    "## (생선 분류 문제)\n",
    "### 혼자 공부하는 머신러닝 + 딥러닝"
   ]
  },
  {
   "cell_type": "code",
   "execution_count": 457,
   "id": "c6aca273",
   "metadata": {},
   "outputs": [],
   "source": [
    "# 개념 정리\n",
    "# 인공지능(Artificial Intelligence)이란?\n",
    "# 사람처러 학습, 추론할 수 있는 지능을 가진 컴퓨터 시스템\n",
    "# 80년 역사(1943년 ~)\n",
    "\n",
    "# 인공지능 vs 기계학습 vs 딥러닝\n",
    "# 인공 지능 : 인간처럼 학습하고 추론\n",
    "# 기계 학습 : 자동으로 데이터에서 규칙을 학습하고 알고리즘 연구(데이터 중심 학습 및 예측)\n",
    "# 딥러닝 : 인공 신경망 학습 알고리즘"
   ]
  },
  {
   "cell_type": "code",
   "execution_count": 458,
   "id": "44ecce0b",
   "metadata": {},
   "outputs": [],
   "source": [
    "# 생선 분류 문제\n",
    "# 생선 마켓에서 도미와 빙어 분류 문제\n",
    "# 전통적인 프로그램\n",
    "# 다양한 생선 종류 (쩡해진 기준대로 분류)\n",
    "# 길이만으로 분류하기 어려움\n",
    "# if fish_length >= 30:\n",
    "#     print('도미')\n",
    "\n",
    "# 첫 번째 머신 러닝 프로그램\n",
    "# 스스로 기준을 찾고, 기준을 이용하여 생선을 분류\n",
    "# 기준 설정\n",
    "# 생선의 길이와 무게로 비교\n",
    "# 도미(bream) , 빙어(smelt)"
   ]
  },
  {
   "cell_type": "code",
   "execution_count": 459,
   "id": "12379ee6",
   "metadata": {},
   "outputs": [],
   "source": [
    "# 도미 데이터 준비\n",
    "# 도미(bream) 데이터 활용:\n",
    "# 총 35마리의 데이터\n",
    "# 길이와 무게를 이용한 산점도(scatter plot) 그리기\n",
    "bream_length = [25.4, 26.3, 26.5, 29.0, 29.0, 29.7, 29.7, 30.0, 30.0, \n",
    "                30.7, 31.0, 31.0, 31.5, 32.0, 32.0, 32.0, 33.0, 33.0, \n",
    "                33.5, 33.5, 34.0, 34.0, 34.5, 35.0, 35.0, 35.0, 35.0, \n",
    "                36.0, 36.0, 37.0, 38.5, 38.5, 39.5, 41.0, 41.0]\n",
    "\n",
    "bream_weight = [242.0, 290.0, 340.0, 363.0, 430.0, 450.0, 500.0, 390.0, \n",
    "                450.0, 500.0, 475.0, 500.0, 500.0, 340.0, 600.0, 600.0, \n",
    "                700.0, 700.0, 610.0, 650.0, 575.0, 685.0, 620.0, 680.0,\n",
    "                700.0, 725.0, 720.0, 714.0, 850.0, 1000.0, 920.0, 955.0, \n",
    "                925.0, 975.0, 950.0]\n"
   ]
  },
  {
   "cell_type": "code",
   "execution_count": 460,
   "id": "4a866d55",
   "metadata": {},
   "outputs": [
    {
     "data": {
      "image/png": "[encoded data removed]",
      "text/plain": [
       "<Figure size 432x288 with 1 Axes>"
      ]
     },
     "metadata": {
      "needs_background": "light"
     },
     "output_type": "display_data"
    }
   ],
   "source": [
    "import matplotlib.pyplot as plt\n",
    "\n",
    "plt.scatter(bream_length, bream_weight)\n",
    "plt.xlabel('bream length')  # x축은 길이\n",
    "plt.ylabel('bream weight')  # y축은 무게\n",
    "plt.show()\n",
    "# 산점도 그래프\n",
    "# 일직선에 가까운 선형 (linear) 그래프"
   ]
  },
  {
   "cell_type": "code",
   "execution_count": 461,
   "id": "15af4d86",
   "metadata": {},
   "outputs": [],
   "source": [
    "# 빙어 데이터와 도미 데이터 비교\n",
    "# 빙어(smelt) 데이터\n",
    "# 총 14마리의 빙어 데이터\n",
    "smelt_length = [9.8, 10.5, 10.6, 11.0, 11.2, 11.3, 11.8, 11.8, 12.0, \n",
    "                12.2, 12.4, 13.0, 14.3, 15.0]\n",
    "\n",
    "smelt_weight = [6.7, 7.5, 7.0, 9.7, 9.8, 8.7, 10.0, 9.9, 9.8, 12.2, \n",
    "                13.4, 12.2, 19.7, 19.9]\n"
   ]
  },
  {
   "cell_type": "code",
   "execution_count": 462,
   "id": "2d45dcb1",
   "metadata": {},
   "outputs": [
    {
     "data": {
      "image/png": "[encoded data removed]",
      "text/plain": [
       "<Figure size 432x288 with 1 Axes>"
      ]
     },
     "metadata": {
      "needs_background": "light"
     },
     "output_type": "display_data"
    }
   ],
   "source": [
    "# 도미 데이터와 빙어 데이터 비교(산점도)\n",
    "plt.scatter(bream_length, bream_weight, label = 'bream')\n",
    "plt.scatter(smelt_length, smelt_weight, label='smelt')\n",
    "plt.xlabel('length')\n",
    "plt.ylabel('weight')\n",
    "plt.legend()\n",
    "plt.show()\n",
    "# 빙어의 크기와 무게가 도미와 많은 차이를 보임"
   ]
  },
  {
   "cell_type": "code",
   "execution_count": 463,
   "id": "8f689408",
   "metadata": {},
   "outputs": [],
   "source": [
    "# 2차원 리스트로 데이터 변형\n",
    "# 도미 데이터와 빙어 데이터 합치기\n",
    "length = bream_length + smelt_length\n",
    "weight = bream_weight + smelt_weight"
   ]
  },
  {
   "cell_type": "code",
   "execution_count": 464,
   "id": "f805ce4f",
   "metadata": {},
   "outputs": [
    {
     "name": "stdout",
     "output_type": "stream",
     "text": [
      "[[25.4, 242.0], [26.3, 290.0], [26.5, 340.0], [29.0, 363.0], [29.0, 430.0], [29.7, 450.0], [29.7, 500.0], [30.0, 390.0], [30.0, 450.0], [30.7, 500.0], [31.0, 475.0], [31.0, 500.0], [31.5, 500.0], [32.0, 340.0], [32.0, 600.0], [32.0, 600.0], [33.0, 700.0], [33.0, 700.0], [33.5, 610.0], [33.5, 650.0], [34.0, 575.0], [34.0, 685.0], [34.5, 620.0], [35.0, 680.0], [35.0, 700.0], [35.0, 725.0], [35.0, 720.0], [36.0, 714.0], [36.0, 850.0], [37.0, 1000.0], [38.5, 920.0], [38.5, 955.0], [39.5, 925.0], [41.0, 975.0], [41.0, 950.0], [9.8, 6.7], [10.5, 7.5], [10.6, 7.0], [11.0, 9.7], [11.2, 9.8], [11.3, 8.7], [11.8, 10.0], [11.8, 9.9], [12.0, 9.8], [12.2, 12.2], [12.4, 13.4], [13.0, 12.2], [14.3, 19.7], [15.0, 19.9]]\n"
     ]
    }
   ],
   "source": [
    "# 데이터 변형\n",
    "# 1차원 리스트 2개를 2차원 리스트로 변경\n",
    "# zip(length, weight) 함수를 이용\n",
    "# 길이와 무게를 하나의 쌍으로 묶음\n",
    "fish_data = [[l, w] for l, w in zip(length, weight)]\n",
    "print(fish_data)  # 사이킷런이 기댈하는 데이터 형태?"
   ]
  },
  {
   "cell_type": "code",
   "execution_count": 465,
   "id": "2338d987",
   "metadata": {},
   "outputs": [
    {
     "name": "stdout",
     "output_type": "stream",
     "text": [
      "[1, 1, 1, 1, 1, 1, 1, 1, 1, 1, 1, 1, 1, 1, 1, 1, 1, 1, 1, 1, 1, 1, 1, 1, 1, 1, 1, 1, 1, 1, 1, 1, 1, 1, 1, 0, 0, 0, 0, 0, 0, 0, 0, 0, 0, 0, 0, 0, 0]\n"
     ]
    }
   ],
   "source": [
    "# 정답 데이터 준비\n",
    "# 정답 데이터(fish_target) 준비\n",
    "# 생선의 길이와 무게를 이용하여 도미(1)와 빙어(0)를 구분\n",
    "# 찾고자 하는 데이터(도미)를 1로 설정\n",
    "\n",
    "# 원본 데이터\n",
    "# 도미 데이터: 35마리의 데이터를 1로 설정\n",
    "# 빙어 데이터: 14마리의 데이터를 0으로 설정\n",
    "\n",
    "fish_target = [1] * 35 + [0] * 14\n",
    "print(fish_target)  # 도미(1) 빙어(0)"
   ]
  },
  {
   "cell_type": "code",
   "execution_count": 466,
   "id": "781dd29c",
   "metadata": {},
   "outputs": [],
   "source": [
    "# k-최근접 알고리즘 개요\n",
    "# k-최근접 알고리즘(k-Nearest Neighbor, kNN)\n",
    "# 가장 간단한 분류 알고리즘 (classification)\n",
    "# '비슷한 특성을 가진 데이터는 비슷한 범주에 속한다'는 가정\n",
    "# 주변의 가장 가까운 k개의 데이터를 보고, 데이터가 속할 그룹을 판단\n",
    "\n",
    "# 단점\n",
    "# 모든 데이터를 가지고 있어야 됨\n",
    "# 많은 메오리 소모, 거리 계산에 많은 시간이 소요"
   ]
  },
  {
   "cell_type": "code",
   "execution_count": 467,
   "id": "d2d6062d",
   "metadata": {},
   "outputs": [],
   "source": [
    "# k-최근접 알고리즘 적용 과정\n",
    "# 모델 생성 -> 모델 훈련(fit) -> 모델 평가(score) -> 새로운 데이터 결과 예측(predict)\n",
    "# kNN 모델 생성\n",
    "# KNEighborClassifier(n_neighbors, ...) 객체 생성\n",
    "# 기본 이웃의 개수: n_neighbors=5\n",
    "from sklearn.neighbors import KNeighborsClassifier\n",
    "kn = KNeighborsClassifier()"
   ]
  },
  {
   "cell_type": "code",
   "execution_count": 468,
   "id": "7ab98c93",
   "metadata": {},
   "outputs": [
    {
     "data": {
      "text/plain": [
       "KNeighborsClassifier()"
      ]
     },
     "execution_count": 468,
     "metadata": {},
     "output_type": "execute_result"
    }
   ],
   "source": [
    "# 모델 훈련(학습)\n",
    "# fit(Training data, Target values) 함수\n",
    "# fish_data와 fish_target을 이용하여 모델 훈련\n",
    "kn.fit(fish_data, fish_target)"
   ]
  },
  {
   "cell_type": "code",
   "execution_count": 469,
   "id": "86591a56",
   "metadata": {},
   "outputs": [
    {
     "data": {
      "text/plain": [
       "1.0"
      ]
     },
     "execution_count": 469,
     "metadata": {},
     "output_type": "execute_result"
    }
   ],
   "source": [
    "# 모델 평가: score() 함수\n",
    "# score(Test samples, Target values): 정확도의 평균값 리턴\n",
    "kn.score(fish_data, fish_target)"
   ]
  },
  {
   "cell_type": "code",
   "execution_count": 470,
   "id": "d63a2a7a",
   "metadata": {},
   "outputs": [
    {
     "data": {
      "text/plain": [
       "array([1])"
      ]
     },
     "execution_count": 470,
     "metadata": {},
     "output_type": "execute_result"
    }
   ],
   "source": [
    "# 새로운 데이터를 활용한 결과 예측: predict(X)\n",
    "# predict(X)\n",
    "# X: 2차원 리스트 형태\n",
    "kn.predict([[30, 600]])  # class label 리턴(0, 1)"
   ]
  },
  {
   "cell_type": "code",
   "execution_count": 471,
   "id": "77313fb7",
   "metadata": {},
   "outputs": [
    {
     "name": "stdout",
     "output_type": "stream",
     "text": [
      "[[  25.4  242. ]\n",
      " [  26.3  290. ]\n",
      " [  26.5  340. ]\n",
      " [  29.   363. ]\n",
      " [  29.   430. ]\n",
      " [  29.7  450. ]\n",
      " [  29.7  500. ]\n",
      " [  30.   390. ]\n",
      " [  30.   450. ]\n",
      " [  30.7  500. ]\n",
      " [  31.   475. ]\n",
      " [  31.   500. ]\n",
      " [  31.5  500. ]\n",
      " [  32.   340. ]\n",
      " [  32.   600. ]\n",
      " [  32.   600. ]\n",
      " [  33.   700. ]\n",
      " [  33.   700. ]\n",
      " [  33.5  610. ]\n",
      " [  33.5  650. ]\n",
      " [  34.   575. ]\n",
      " [  34.   685. ]\n",
      " [  34.5  620. ]\n",
      " [  35.   680. ]\n",
      " [  35.   700. ]\n",
      " [  35.   725. ]\n",
      " [  35.   720. ]\n",
      " [  36.   714. ]\n",
      " [  36.   850. ]\n",
      " [  37.  1000. ]\n",
      " [  38.5  920. ]\n",
      " [  38.5  955. ]\n",
      " [  39.5  925. ]\n",
      " [  41.   975. ]\n",
      " [  41.   950. ]\n",
      " [   9.8    6.7]\n",
      " [  10.5    7.5]\n",
      " [  10.6    7. ]\n",
      " [  11.     9.7]\n",
      " [  11.2    9.8]\n",
      " [  11.3    8.7]\n",
      " [  11.8   10. ]\n",
      " [  11.8    9.9]\n",
      " [  12.     9.8]\n",
      " [  12.2   12.2]\n",
      " [  12.4   13.4]\n",
      " [  13.    12.2]\n",
      " [  14.3   19.7]\n",
      " [  15.    19.9]]\n"
     ]
    }
   ],
   "source": [
    "# k-최근접 알고리즘 속성\n",
    "# _fit_X 속성\n",
    "# 훈련 데이터를 모두 가짐(fish_data)\n",
    "print(kn._fit_X)"
   ]
  },
  {
   "cell_type": "code",
   "execution_count": 472,
   "id": "099ec184",
   "metadata": {},
   "outputs": [
    {
     "name": "stdout",
     "output_type": "stream",
     "text": [
      "[1 1 1 1 1 1 1 1 1 1 1 1 1 1 1 1 1 1 1 1 1 1 1 1 1 1 1 1 1 1 1 1 1 1 1 0 0\n",
      " 0 0 0 0 0 0 0 0 0 0 0 0]\n"
     ]
    }
   ],
   "source": [
    "# _y 속성\n",
    "# fish_target을 가짐\n",
    "print(kn._y)"
   ]
  },
  {
   "cell_type": "code",
   "execution_count": 473,
   "id": "5b1a4363",
   "metadata": {},
   "outputs": [],
   "source": [
    "# k-최근접 알고리즘 속성\n",
    "# n_neighbors 값 변경(49)\n",
    "kn49 = KNeighborsClassifier(n_neighbors=49)"
   ]
  },
  {
   "cell_type": "code",
   "execution_count": 474,
   "id": "36d9c239",
   "metadata": {},
   "outputs": [
    {
     "data": {
      "text/plain": [
       "0.7142857142857143"
      ]
     },
     "execution_count": 474,
     "metadata": {},
     "output_type": "execute_result"
    }
   ],
   "source": [
    "kn49.fit(fish_data, fish_target)\n",
    "kn49.score(fish_data, fish_target)\n",
    "# fish_data의 49개 중에 도미 35개를 차지함"
   ]
  },
  {
   "cell_type": "code",
   "execution_count": 475,
   "id": "c4658b0b",
   "metadata": {},
   "outputs": [
    {
     "name": "stdout",
     "output_type": "stream",
     "text": [
      "0.7142857142857143\n"
     ]
    }
   ],
   "source": [
    "# 35/49의 결과와 동일\n",
    "print(35/49)"
   ]
  },
  {
   "cell_type": "code",
   "execution_count": 476,
   "id": "9819ab35",
   "metadata": {},
   "outputs": [],
   "source": [
    "# 마무리 정리\n",
    "# 정확도 \n",
    "# 정확한 답을 맞춘 백분율 (0 ~ 1 사이의 값)\n",
    "# 정확도 = 정확히 맞힌 개수 / 전체 데이터 개수\n",
    "\n",
    "# KNeighborClassifier()\n",
    "# k-최근접 이웃 분류 모델\n",
    "# n_neighbors 변수에 이웃의 개수를 지정 (default값 = 5)\n",
    "\n",
    "# fit(특성데이터, 정답 데이터)\n",
    "# 모델 훈련\n",
    "\n",
    "# score(특성데이터, 정답데이터)\n",
    "# 모델의 성능 측정\n",
    "\n",
    "# predict(특성데이터)\n",
    "# 모델 결과 예측"
   ]
  },
  {
   "cell_type": "code",
   "execution_count": 477,
   "id": "d64aea5b",
   "metadata": {},
   "outputs": [],
   "source": [
    "# Python 참고 자료"
   ]
  },
  {
   "cell_type": "code",
   "execution_count": 478,
   "id": "e3c4d4ea",
   "metadata": {},
   "outputs": [
    {
     "name": "stdout",
     "output_type": "stream",
     "text": [
      "(1, 'A')\n",
      "(2, 'B')\n",
      "(3, 'C')\n",
      "(4, 'D')\n",
      "[(1, 'A'), (2, 'B'), (3, 'C'), (4, 'D')]\n",
      "(1, 2, 3, 4) ('A', 'B', 'C', 'D')\n"
     ]
    }
   ],
   "source": [
    "# zip() 함수\n",
    "# 2개 이상의 리스트를 받아서 하나로 묶음 (튜플 형태로 묶음)\n",
    "\n",
    "numbers =[1,2,3,4]\n",
    "letters=['A','B','C','D']\n",
    "for pair in zip(numbers, letters):  # 하나로 묶어서 출력\n",
    "    print(pair)\n",
    "    \n",
    "pair = list(zip(numbers, letters))\n",
    "print(pair)\n",
    "\n",
    "n1, l1 = zip(*pair)  # zip 해제: *사용\n",
    "print(n1, l1)"
   ]
  },
  {
   "cell_type": "markdown",
   "id": "636d1caf",
   "metadata": {},
   "source": [
    "# 머신러닝 2장\n",
    "## (데이터 다루기)\n",
    "### 혼자 공부하는 머신러닝 + 딥러닝"
   ]
  },
  {
   "cell_type": "code",
   "execution_count": 479,
   "id": "5c8aa3ec",
   "metadata": {},
   "outputs": [],
   "source": [
    "# 지도 학습과 비지도 학습\n",
    "# 지도 학습 (Supervised Learning)\n",
    "# 훈련을 위한 데이터(training data)와 정답이 필요\n",
    "# 훈련 데이터 = 입력(input) + 정답(target)\n",
    "# 알고리즘이 정답을 맞추는지 학습\n",
    "# 분류, 회귀\n",
    "\n",
    "# 비지도 학습\n",
    "# 정답(target)이 없고, 입력 데이터만 사용\n",
    "# 비슷한 특징끼리 군집화\n",
    "# 새로운 데이터에 대한 결과 예측\n",
    "# 클러스터링(Clustering)\n",
    "\n",
    "# 강화 학습\n",
    "# 현재 상태에서 어떤 행동을 취하는 것이 최선인지를 학습\n",
    "# {입력값-출력값}의 쌍이 정해지지 않음\n",
    "# 보상(reward)을 최대화하는 방법으로 학습\n",
    "# 바둑에서 승리, 주식 거래의 비용, 최종적으로 벌어들인 돈 등"
   ]
  },
  {
   "cell_type": "code",
   "execution_count": 480,
   "id": "6c689fbb",
   "metadata": {},
   "outputs": [],
   "source": [
    "# 훈련 세트와 테스트 세트\n",
    "# 1장 모델의 문제점\n",
    "# 모든 데이터를 가지고 있음: 정답을 알고 있음\n",
    "# 정확도: 100%\n",
    "\n",
    "# 훈련 세트와 테스트 세트 분리\n",
    "# 알고리즘의 정확한 평가\n",
    "# 훈련 데이터와 평가할 데이터가 달라야 됨\n",
    "\n",
    "# 정확한 평가를 위한 데이터 세트 준비 방법\n",
    "# 새로운 데이터를 준비\n",
    "# 이미 준비된 데이터의 일부분을 사용\n",
    "\n",
    "# 훈련 세트(train set)\n",
    "# 훈련에 사용되는 데이터\n",
    "\n",
    "# 테스트 세트 (test set)\n",
    "# 평가에 사용되는 데이터"
   ]
  },
  {
   "cell_type": "code",
   "execution_count": 481,
   "id": "c3a90235",
   "metadata": {},
   "outputs": [],
   "source": [
    "# 훈련 세트와 테스트 세트 만들기 #1\n",
    "# 도미와 빙어 데이터를 2차원 리스트로 변경\n",
    "# 총 49마리의 데이터: 도미 35마리, 빙어 14마리\n",
    "# zip() 함수 사용\n",
    "\n",
    "# 데이터 생성\n",
    "# 길이와 무게를 합친 2차원 리스트 생성: fish_data\n",
    "# 결과 확인을 위한 리스트 생성: fish_target\n",
    "fish_length = [25.4, 26.3, 26.5, 29.0, 29.0, 29.7, 29.7, 30.0, 30.0, \n",
    "              30.7, 31.0, 31.0, 31.5, 32.0, 32.0, 32.0, 33.0, 33.0, \n",
    "              33.5, 33.5, 34.0, 34.0, 34.5, 35.0, 35.0, 35.0, 35.0,\n",
    "              36.0, 36.0, 37.0, 38.5, 38.5, 39.5, 41.0, 41.0, 9.8,  \n",
    "              10.5, 10.6, 11.0, 11.2, 11.3, 11.8, 11.8, 12.0, 12.2, \n",
    "              12.4, 13.0, 14.3, 15.0]\n",
    "fish_weight = [242.0, 290.0, 340.0, 363.0, 430.0, 450.0, 500.0, 390.0, \n",
    "               450.0, 500.0, 475.0, 500.0, 500.0, 340.0, 600.0, 600.0, \n",
    "               700.0, 700.0, 610.0, 650.0, 575.0, 685.0, 620.0, 680.0, \n",
    "               700.0, 725.0, 720.0, 714.0, 850.0, 1000.0, 920.0, 955.0, \n",
    "               925.0, 975.0, 950.0, 6.7,  7.5, 7.0, 9.7, 9.8, 8.7, \n",
    "               10.0, 9.9, 9.8, 12.2, 13.4, 12.2, 19.7, 19.9]\n"
   ]
  },
  {
   "cell_type": "code",
   "execution_count": 482,
   "id": "fe5340ed",
   "metadata": {
    "scrolled": true
   },
   "outputs": [
    {
     "data": {
      "text/plain": [
       "([[25.4, 242.0],\n",
       "  [26.3, 290.0],\n",
       "  [26.5, 340.0],\n",
       "  [29.0, 363.0],\n",
       "  [29.0, 430.0],\n",
       "  [29.7, 450.0],\n",
       "  [29.7, 500.0],\n",
       "  [30.0, 390.0],\n",
       "  [30.0, 450.0],\n",
       "  [30.7, 500.0],\n",
       "  [31.0, 475.0],\n",
       "  [31.0, 500.0],\n",
       "  [31.5, 500.0],\n",
       "  [32.0, 340.0],\n",
       "  [32.0, 600.0],\n",
       "  [32.0, 600.0],\n",
       "  [33.0, 700.0],\n",
       "  [33.0, 700.0],\n",
       "  [33.5, 610.0],\n",
       "  [33.5, 650.0],\n",
       "  [34.0, 575.0],\n",
       "  [34.0, 685.0],\n",
       "  [34.5, 620.0],\n",
       "  [35.0, 680.0],\n",
       "  [35.0, 700.0],\n",
       "  [35.0, 725.0],\n",
       "  [35.0, 720.0],\n",
       "  [36.0, 714.0],\n",
       "  [36.0, 850.0],\n",
       "  [37.0, 1000.0],\n",
       "  [38.5, 920.0],\n",
       "  [38.5, 955.0],\n",
       "  [39.5, 925.0],\n",
       "  [41.0, 975.0],\n",
       "  [41.0, 950.0],\n",
       "  [9.8, 6.7],\n",
       "  [10.5, 7.5],\n",
       "  [10.6, 7.0],\n",
       "  [11.0, 9.7],\n",
       "  [11.2, 9.8],\n",
       "  [11.3, 8.7],\n",
       "  [11.8, 10.0],\n",
       "  [11.8, 9.9],\n",
       "  [12.0, 9.8],\n",
       "  [12.2, 12.2],\n",
       "  [12.4, 13.4],\n",
       "  [13.0, 12.2],\n",
       "  [14.3, 19.7],\n",
       "  [15.0, 19.9]],\n",
       " [1,\n",
       "  1,\n",
       "  1,\n",
       "  1,\n",
       "  1,\n",
       "  1,\n",
       "  1,\n",
       "  1,\n",
       "  1,\n",
       "  1,\n",
       "  1,\n",
       "  1,\n",
       "  1,\n",
       "  1,\n",
       "  1,\n",
       "  1,\n",
       "  1,\n",
       "  1,\n",
       "  1,\n",
       "  1,\n",
       "  1,\n",
       "  1,\n",
       "  1,\n",
       "  1,\n",
       "  1,\n",
       "  1,\n",
       "  1,\n",
       "  1,\n",
       "  1,\n",
       "  1,\n",
       "  1,\n",
       "  1,\n",
       "  1,\n",
       "  1,\n",
       "  1,\n",
       "  0,\n",
       "  0,\n",
       "  0,\n",
       "  0,\n",
       "  0,\n",
       "  0,\n",
       "  0,\n",
       "  0,\n",
       "  0,\n",
       "  0,\n",
       "  0,\n",
       "  0,\n",
       "  0,\n",
       "  0])"
      ]
     },
     "execution_count": 482,
     "metadata": {},
     "output_type": "execute_result"
    }
   ],
   "source": [
    "fish_data = [[l, w] for l, w in zip(fish_length, fish_weight)]  # 2차원 리스트[길이, 무게]\n",
    "fish_target = [1] * 35 + [0] * 14  # target 값 생성\n",
    "fish_data, fish_target"
   ]
  },
  {
   "cell_type": "code",
   "execution_count": 483,
   "id": "c29d21d0",
   "metadata": {
    "scrolled": true
   },
   "outputs": [],
   "source": [
    "# 훈련 세트와 테스트 세트 만들기 #2\n",
    "# 훈련 세트와 테스트 세트 만들기\n",
    "# fish_data, fish_target 리스트를 훈련 세트와 테스트 세트로 분리\n",
    "# 훈련 세트: 35개, 테스트 세트: 14개로 분리\n",
    "\n",
    "# 훈련 세트 구성\n",
    "# train_input: 훈련용 입력 데이터\n",
    "# train_target: 훈련용 정답 데이터\n",
    "\n",
    "# 테스트 세트 구성\n",
    "# test_input: 테스트 입력 데이터\n",
    "# test_target: 테스트 정답 데이터"
   ]
  },
  {
   "cell_type": "code",
   "execution_count": 484,
   "id": "39e596af",
   "metadata": {},
   "outputs": [],
   "source": [
    "# 훈련 세트 생성(35개)\n",
    "train_input = fish_data[:35]\n",
    "train_target = fish_target[:35]\n",
    "\n",
    "# 테스트 세트 생성(14개)\n",
    "test_input = fish_data[35:]\n",
    "test_target = fish_target[35:]"
   ]
  },
  {
   "cell_type": "code",
   "execution_count": 485,
   "id": "3635cbcc",
   "metadata": {},
   "outputs": [
    {
     "data": {
      "text/plain": [
       "0.0"
      ]
     },
     "execution_count": 485,
     "metadata": {},
     "output_type": "execute_result"
    }
   ],
   "source": [
    "# 테스트 세트로 평가하기\n",
    "# k-최근접 알고리즘 모델 생성 및 평가하기\n",
    "# 훈련 세트로 모델을 훈련\n",
    "# 테스트 세트로 정확도 평가\n",
    "from sklearn.neighbors import KNeighborsClassifier\n",
    "\n",
    "kn = KNeighborsClassifier()  # 객체 생성\n",
    "kn = kn.fit(train_input, train_target)  # 모델 훈련\n",
    "kn.score(test_input, test_target)  # 테스트 세트로 평가 (정확도 출력)\n",
    "# 잘못된 훈련 데이터 사용 결과\n",
    "# 정확도 0.0\n",
    "# 훈련 세트(도미), 테스트 세트(빙어)\n",
    "# 잘못된 훈련 데이터(샘플링 편향)"
   ]
  },
  {
   "cell_type": "code",
   "execution_count": 486,
   "id": "2c709638",
   "metadata": {},
   "outputs": [
    {
     "name": "stdout",
     "output_type": "stream",
     "text": [
      "[[  25.4  242. ]\n",
      " [  26.3  290. ]\n",
      " [  26.5  340. ]\n",
      " [  29.   363. ]\n",
      " [  29.   430. ]\n",
      " [  29.7  450. ]\n",
      " [  29.7  500. ]\n",
      " [  30.   390. ]\n",
      " [  30.   450. ]\n",
      " [  30.7  500. ]\n",
      " [  31.   475. ]\n",
      " [  31.   500. ]\n",
      " [  31.5  500. ]\n",
      " [  32.   340. ]\n",
      " [  32.   600. ]\n",
      " [  32.   600. ]\n",
      " [  33.   700. ]\n",
      " [  33.   700. ]\n",
      " [  33.5  610. ]\n",
      " [  33.5  650. ]\n",
      " [  34.   575. ]\n",
      " [  34.   685. ]\n",
      " [  34.5  620. ]\n",
      " [  35.   680. ]\n",
      " [  35.   700. ]\n",
      " [  35.   725. ]\n",
      " [  35.   720. ]\n",
      " [  36.   714. ]\n",
      " [  36.   850. ]\n",
      " [  37.  1000. ]\n",
      " [  38.5  920. ]\n",
      " [  38.5  955. ]\n",
      " [  39.5  925. ]\n",
      " [  41.   975. ]\n",
      " [  41.   950. ]\n",
      " [   9.8    6.7]\n",
      " [  10.5    7.5]\n",
      " [  10.6    7. ]\n",
      " [  11.     9.7]\n",
      " [  11.2    9.8]\n",
      " [  11.3    8.7]\n",
      " [  11.8   10. ]\n",
      " [  11.8    9.9]\n",
      " [  12.     9.8]\n",
      " [  12.2   12.2]\n",
      " [  12.4   13.4]\n",
      " [  13.    12.2]\n",
      " [  14.3   19.7]\n",
      " [  15.    19.9]]\n",
      "(49, 2)\n"
     ]
    }
   ],
   "source": [
    "# Numpy를 활용한 배열 생성\n",
    "# Numpy 사용\n",
    "# 다차원 배열을 쉽게 조작할 수 있음\n",
    "\n",
    "# 기존 fish_data와 fish_target를 Numpy 배열로 변경\n",
    "# Numpy.array(list): 파이썬의 list를 Numpy의 array로 변경\n",
    "import numpy as np\n",
    "\n",
    "input_arr = np.array(fish_data)\n",
    "target_arr = np.array(fish_target)\n",
    "\n",
    "print(input_arr)\n",
    "print(input_arr.shape)  # shape: 배열의 크기 리턴"
   ]
  },
  {
   "cell_type": "code",
   "execution_count": 487,
   "id": "36031ac0",
   "metadata": {},
   "outputs": [
    {
     "name": "stdout",
     "output_type": "stream",
     "text": [
      "[ 0  1  2  3  4  5  6  7  8  9 10 11 12 13 14 15 16 17 18 19 20 21 22 23\n",
      " 24 25 26 27 28 29 30 31 32 33 34 35 36 37 38 39 40 41 42 43 44 45 46 47\n",
      " 48]\n"
     ]
    },
    {
     "data": {
      "text/plain": [
       "numpy.ndarray"
      ]
     },
     "execution_count": 487,
     "metadata": {},
     "output_type": "execute_result"
    }
   ],
   "source": [
    "# Numpy를 이용하여 데이터 섞기\n",
    "# Numpy 사용\n",
    "# random.seed(seed) : 랜덤값 생성을 위한 초기값 지정\n",
    "# 초기값(seed)값이 같으면 동일한 랜덤값을 뽑을 수 있음\n",
    "# Numpy.arange(stop): stop-1까지 1의 간격으로 배열 생성\n",
    "# arange: array range\n",
    "# random.shuffle(x): 배열x(ndarray 타입)를 무작위로 섞음\n",
    "import numpy as np\n",
    "\n",
    "np.random.seed(42)\n",
    "index_list = np.arange(49)  # 0~48까지 값을 가지는 배열 생성\n",
    "print(index_list)\n",
    "type(index_list)"
   ]
  },
  {
   "cell_type": "code",
   "execution_count": 488,
   "id": "60c14326",
   "metadata": {},
   "outputs": [
    {
     "name": "stdout",
     "output_type": "stream",
     "text": [
      "[13 45 47 44 17 27 26 25 31 19 12  4 34  8  3  6 40 41 46 15  9 16 24 33\n",
      " 30  0 43 32  5 29 11 36  1 21  2 37 35 23 39 10 22 18 48 20  7 42 14 28\n",
      " 38]\n"
     ]
    }
   ],
   "source": [
    "np.random.shuffle(index_list)  # 배열 내용을 무작위로 섞음\n",
    "print(index_list)"
   ]
  },
  {
   "cell_type": "code",
   "execution_count": 489,
   "id": "b3d2178f",
   "metadata": {},
   "outputs": [],
   "source": [
    "# 랜덤 배열로 훈련 세트와 테스트 세트 만들기\n",
    "# Numpy의 배열 인덱싱 이용\n",
    "# 여러 개의 인덱스로 한 번에 여러 개의 배열 원소를 선택할 수 있음\n",
    "# 훈련 세트 생성\n",
    "train_input = input_arr[index_list[:35]]\n",
    "train_target = target_arr[index_list[:35]]\n",
    "\n",
    "# 테스트 세트 생성\n",
    "test_input = input_arr[index_list[35:]]\n",
    "test_target = target_arr[index_list[35:]]\n",
    "\n",
    "# 올바른 훈련 데이터"
   ]
  },
  {
   "cell_type": "code",
   "execution_count": 490,
   "id": "92ccafe3",
   "metadata": {},
   "outputs": [
    {
     "data": {
      "image/png": "[encoded data removed]",
      "text/plain": [
       "<Figure size 432x288 with 1 Axes>"
      ]
     },
     "metadata": {
      "needs_background": "light"
     },
     "output_type": "display_data"
    }
   ],
   "source": [
    "# 무작위로 섞인 데이터 확인하기\n",
    "# 훈련 데이터와 테스트 데이터 다시 화긴\n",
    "import matplotlib.pyplot as plt\n",
    "# [:, 0]: length, [:, 1]: weight\n",
    "plt.scatter(train_input[:, 0], train_input[:, 1], label='train set')\n",
    "plt.scatter(test_input[:, 0], test_input[:, 1], label='test set')\n",
    "\n",
    "plt.xlabel('length')\n",
    "plt.ylabel('weight')\n",
    "plt.legend()\n",
    "plt.show()"
   ]
  },
  {
   "cell_type": "code",
   "execution_count": 491,
   "id": "466fcec0",
   "metadata": {},
   "outputs": [
    {
     "name": "stdout",
     "output_type": "stream",
     "text": [
      "score:  1.0\n",
      "predict:  [0 0 1 0 1 1 1 0 1 1 0 1 1 0]\n",
      "test_target:  [0 0 1 0 1 1 1 0 1 1 0 1 1 0]\n"
     ]
    }
   ],
   "source": [
    "# 두 번째 머신러닝 프로그램\n",
    "# 무작위로 섞인 훈련 세트와 테스트 세트를 이용한 k-최근접 이웃 모델 생성 및 훈련\n",
    "# fit() -> score() -> predict() 호출\n",
    "kn = kn.fit(train_input, train_target)\n",
    "print('score: ', kn.score(test_input, test_target))\n",
    "\n",
    "print('predict: ', kn.predict(test_input))\n",
    "print('test_target: ', test_target)  # predict 결과값과 비교를 위해 출력\n",
    "# [0, ..0]: Numpy 배열\n",
    "# scikit-learn 모델의 입출력 값은 모두 Numpy의 배열\n",
    "# 100% 정확도"
   ]
  },
  {
   "cell_type": "code",
   "execution_count": 492,
   "id": "d70495c3",
   "metadata": {},
   "outputs": [
    {
     "name": "stdout",
     "output_type": "stream",
     "text": [
      "predict(길이 25cm, 무게 150g):  [0]\n"
     ]
    }
   ],
   "source": [
    "# 문제점 발생\n",
    "# 2-1 머신러닝 프로그램의 문제점 발생\n",
    "# 길이 25cm, 무게 150g인 도미를 빙어로 판단\n",
    "print('predict(길이 25cm, 무게 150g): ', kn.predict([[25, 150.0]]))"
   ]
  },
  {
   "cell_type": "code",
   "execution_count": 493,
   "id": "9f8775c0",
   "metadata": {},
   "outputs": [],
   "source": [
    "# 샘플 데이터의 두 특성(길이, 무게)의 스케일이 다르기 때문\n",
    "# 스케일을 조정해야 됨: 표준점수로 반환해야 됨\n",
    "# 표준 점수: 평균과의 거리"
   ]
  },
  {
   "cell_type": "code",
   "execution_count": 494,
   "id": "ed6db5b6",
   "metadata": {},
   "outputs": [
    {
     "name": "stdout",
     "output_type": "stream",
     "text": [
      "[[25.4, 242.0], [26.3, 290.0], [26.5, 340.0], [29.0, 363.0], [29.0, 430.0]]\n"
     ]
    }
   ],
   "source": [
    "# Numpy를 활용한 데이터 전처리 #1\n",
    "# column_stack()\n",
    "# Numpy 제공 함수: 리스트를 일렬로 세운 다음 차례대로 연결\n",
    "# Python에서 제공하는 zip()함수와 동일한 기능\n",
    "# column_stack((list1, list2)): 튜플 형태로 전달\n",
    "fish_dat = np.column_stack((fish_length, fish_weight))\n",
    "print(fish_data[:5])"
   ]
  },
  {
   "cell_type": "code",
   "execution_count": 495,
   "id": "840582c8",
   "metadata": {},
   "outputs": [
    {
     "name": "stdout",
     "output_type": "stream",
     "text": [
      "[1. 1. 1. 1. 1. 1. 1. 1. 1. 1. 1. 1. 1. 1. 1. 1. 1. 1. 1. 1. 1. 1. 1. 1.\n",
      " 1. 1. 1. 1. 1. 1. 1. 1. 1. 1. 1.]\n"
     ]
    }
   ],
   "source": [
    "# ones(n), zeros(n)\n",
    "# 개수(n)만큼 각각 1과 0으로 채운 배열을 생성함\n",
    "print(np.ones(35))"
   ]
  },
  {
   "cell_type": "code",
   "execution_count": 496,
   "id": "305b533e",
   "metadata": {},
   "outputs": [
    {
     "name": "stdout",
     "output_type": "stream",
     "text": [
      "[0. 0. 0. 0. 0. 0. 0. 0. 0. 0. 0. 0. 0. 0.]\n"
     ]
    }
   ],
   "source": [
    "print(np.zeros(14))"
   ]
  },
  {
   "cell_type": "code",
   "execution_count": 497,
   "id": "5b14932b",
   "metadata": {},
   "outputs": [
    {
     "name": "stdout",
     "output_type": "stream",
     "text": [
      "[1. 1. 1. 1. 1. 1. 1. 1. 1. 1. 1. 1. 1. 1. 1. 1. 1. 1. 1. 1. 1. 1. 1. 1.\n",
      " 1. 1. 1. 1. 1. 1. 1. 1. 1. 1. 1. 0. 0. 0. 0. 0. 0. 0. 0. 0. 0. 0. 0. 0.\n",
      " 0.]\n"
     ]
    }
   ],
   "source": [
    "# Numpy를 활용한 데이터 전처리 #2\n",
    "# concatenate(a1, a2, ...)\n",
    "# a1, a2 배열을 서로 연결함 (a1 배열 다음에 a2 배열 연결)\n",
    "# 연결할 배열을 튜플로 전달\n",
    "fish_target = np.concatenate((np.ones(35), np.zeros(14)))\n",
    "print(fish_target)"
   ]
  },
  {
   "cell_type": "code",
   "execution_count": 498,
   "id": "55b27583",
   "metadata": {},
   "outputs": [],
   "source": [
    "# 사이킷런으로 훈련 세트와 테스트 세트 나누기 #1\n",
    "# 사이킷런으로 훈련 세트와 테스트 세트 나누기\n",
    "# train_test_split() 함수 원형\n",
    "# sklearn.model_selection.train_test_split(*arrays, test_size=None,\n",
    "# train_size=None, random_state=None, shuffle=True, stratify=None)\n",
    "# 전달되는 리스트나 배열을 비율에 맞게 훈련 세트와 테스트 세트로 나눔\n",
    "# 총 4개의 배열이 반환됨\n",
    "\n",
    "# 함수 파라미터 내용\n",
    "# test_size: 0.0 ~ 1.0 사이\n",
    "# None: 자동으로 25% 비율로 테스트 세트 생성\n",
    "# train_size: 0.0 ~ 1.0 사이\n",
    "# None: 자동으로 75% 비율로 훈련 세트 생성\n",
    "# random_state: 랜덤 시드 설정\n",
    "# stratify: target 데이터를 전달하면, 클래스 비율(0, 1)에 맞게 데이터를 나눔\n",
    "# fish_data , fish_target \n",
    "# train_test_split()\n",
    "# train_input, test_input // train_target, test_target"
   ]
  },
  {
   "cell_type": "code",
   "execution_count": 499,
   "id": "d4c0200c",
   "metadata": {},
   "outputs": [
    {
     "name": "stdout",
     "output_type": "stream",
     "text": [
      "train_input.shape:  (36, 2) test_input.shape:  (13, 2)\n"
     ]
    }
   ],
   "source": [
    "# 사이킷런으로 훈련 세트와 테스트 세트 나누기 #1\n",
    "# 4개의 데이터 셋을 리턴\n",
    "from sklearn.model_selection import train_test_split\n",
    "\n",
    "train_input, test_input, train_target, test_target = train_test_split(\n",
    "fish_data, fish_target, stratify=fish_target, random_state=42)\n",
    "\n",
    "train_input = np.array(train_input)\n",
    "test_input = np.array(test_input)\n",
    "\n",
    "print('train_input.shape: ', train_input.shape,\n",
    "     'test_input.shape: ', test_input.shape)"
   ]
  },
  {
   "cell_type": "code",
   "execution_count": 500,
   "id": "9a850061",
   "metadata": {},
   "outputs": [
    {
     "name": "stdout",
     "output_type": "stream",
     "text": [
      "train_target:  [1. 0. 1. 0. 1. 1. 1. 1. 1. 1. 1. 0. 1. 0. 1. 1. 1. 1. 1. 0. 1. 1. 0. 1.\n",
      " 0. 1. 0. 1. 1. 1. 0. 1. 1. 0. 1. 1.]\n"
     ]
    }
   ],
   "source": [
    "print('train_target: ', train_target)"
   ]
  },
  {
   "cell_type": "code",
   "execution_count": 501,
   "id": "0538f180",
   "metadata": {},
   "outputs": [
    {
     "name": "stdout",
     "output_type": "stream",
     "text": [
      "test_target:  [0. 0. 1. 0. 1. 0. 1. 1. 1. 1. 1. 1. 1.]\n"
     ]
    }
   ],
   "source": [
    "print('test_target: ', test_target)"
   ]
  },
  {
   "cell_type": "code",
   "execution_count": 502,
   "id": "194e3b09",
   "metadata": {},
   "outputs": [
    {
     "name": "stdout",
     "output_type": "stream",
     "text": [
      "score:  1.0\n"
     ]
    }
   ],
   "source": [
    "# 가장 가까운 이웃 찾기 #1\n",
    "# k-최근접 이웃 모델 적용\n",
    "# train_test_split() 함수로 나눈 데이터 사용\n",
    "from sklearn.neighbors import KNeighborsClassifier\n",
    "\n",
    "kn = KNeighborsClassifier()\n",
    "kn.fit(train_input, train_target)\n",
    "\n",
    "print('score: ', kn.score(test_input, test_target))"
   ]
  },
  {
   "cell_type": "code",
   "execution_count": 503,
   "id": "c320289a",
   "metadata": {},
   "outputs": [
    {
     "name": "stdout",
     "output_type": "stream",
     "text": [
      "[0.]\n"
     ]
    }
   ],
   "source": [
    "# 25cm, 150g의 생선 분류 (수상한 도미)\n",
    "print(kn.predict([[25, 150]]))\n",
    "# 빙어로 분류"
   ]
  },
  {
   "cell_type": "code",
   "execution_count": 504,
   "id": "7dfaee40",
   "metadata": {},
   "outputs": [
    {
     "data": {
      "image/png": "[encoded data removed]",
      "text/plain": [
       "<Figure size 432x288 with 1 Axes>"
      ]
     },
     "metadata": {
      "needs_background": "light"
     },
     "output_type": "display_data"
    }
   ],
   "source": [
    "# 가장 가까운 이웃 찾기 #2\n",
    "# 길이 25cm, 무게 150g의 생선을 산점도로 표시\n",
    "import matplotlib.pyplot as plt\n",
    "\n",
    "plt.scatter(train_input[:, 0], train_input[:, 1])\n",
    "plt.scatter(25, 150, marker='^')\n",
    "plt.xlabel('length')\n",
    "plt.ylabel('weight')\n",
    "plt.show()"
   ]
  },
  {
   "cell_type": "code",
   "execution_count": 505,
   "id": "d1394543",
   "metadata": {},
   "outputs": [
    {
     "name": "stdout",
     "output_type": "stream",
     "text": [
      "[[ 92.00086956 130.48375378 130.73859415 138.32150953 138.39320793]]\n",
      "[[21 33 19 30  1]]\n"
     ]
    }
   ],
   "source": [
    "# 가장 가까운 이웃과의 거리 계산\n",
    "# kneighbors(): n_neighbors(default값 5)개의 이웃을 찾음\n",
    "distances, indexes = kn.kneighbors([[25, 150]])\n",
    "print(distances)\n",
    "print(indexes)"
   ]
  },
  {
   "cell_type": "code",
   "execution_count": 506,
   "id": "80a0eb23",
   "metadata": {},
   "outputs": [
    {
     "data": {
      "image/png": "[encoded data removed]",
      "text/plain": [
       "<Figure size 432x288 with 1 Axes>"
      ]
     },
     "metadata": {
      "needs_background": "light"
     },
     "output_type": "display_data"
    }
   ],
   "source": [
    "# 가장 가까운 이웃 찾기 #2\n",
    "# 가장 가까운 이웃 5개를 산점도로 표시\n",
    "import matplotlib.pyplot as plt\n",
    "plt.scatter(train_input[:, 0], train_input[:, 1], label='train_data',\n",
    "           color='b')\n",
    "plt.scatter(25, 150, marker='^', color='orange', label='unknown')\n",
    "plt.scatter(train_input[indexes, 0], train_input[indexes, 1],\n",
    "           marker='D', label='neighbors', color='r')\n",
    "plt.xlabel('length')\n",
    "plt.ylabel('weight')\n",
    "plt.legend()\n",
    "plt.show()"
   ]
  },
  {
   "cell_type": "code",
   "execution_count": 507,
   "id": "32de1d06",
   "metadata": {},
   "outputs": [
    {
     "name": "stdout",
     "output_type": "stream",
     "text": [
      "neighbors:  [[[ 25.4 242. ]\n",
      "  [ 15.   19.9]\n",
      "  [ 14.3  19.7]\n",
      "  [ 13.   12.2]\n",
      "  [ 12.2  12.2]]]\n",
      "target:  [[1. 0. 0. 0. 0.]]\n"
     ]
    }
   ],
   "source": [
    "print('neighbors: ', train_input[indexes])\n",
    "print('target: ', train_target[indexes])  # (25cm, 150g) 생선의 이웃 4개는 빙어"
   ]
  },
  {
   "cell_type": "code",
   "execution_count": 508,
   "id": "dddd6795",
   "metadata": {},
   "outputs": [
    {
     "name": "stdout",
     "output_type": "stream",
     "text": [
      "[[ 92.00086956 130.48375378 130.73859415 138.32150953 138.39320793]]\n"
     ]
    }
   ],
   "source": [
    "print(distances)"
   ]
  },
  {
   "cell_type": "code",
   "execution_count": 509,
   "id": "9732b065",
   "metadata": {},
   "outputs": [
    {
     "data": {
      "image/png": "[encoded data removed]",
      "text/plain": [
       "<Figure size 432x288 with 1 Axes>"
      ]
     },
     "metadata": {
      "needs_background": "light"
     },
     "output_type": "display_data"
    }
   ],
   "source": [
    "# Scale을 동일하게 수정\n",
    "# x축과 y축의 범위를 동일하게 수정\n",
    "# 두 특성(길이, 무게)의 scale이 다름\n",
    "# xlim(), ylim()함수: x, y축의 범위를 지정\n",
    "plt.scatter(train_input[:, 0], train_input[:, 1], label='train_data',\n",
    "           color='b')\n",
    "plt.scatter(25, 150, marker='^', color='orange', label='unknown')\n",
    "plt.scatter(train_input[indexes, 0], train_input[indexes, 1],\n",
    "           marker='D', label='neighbors', color='r')\n",
    "\n",
    "plt.xlim((0, 1000))  # x축의 눈금 간격을 y축과 동일하게 변경\n",
    "plt.xlabel('length')\n",
    "plt.ylabel('weight')\n",
    "plt.legend()\n",
    "plt.show()\n",
    "# 생선의 무게에 따라 분류에 큰 영향을 미침"
   ]
  },
  {
   "cell_type": "code",
   "execution_count": 510,
   "id": "f6d25ad0",
   "metadata": {},
   "outputs": [
    {
     "name": "stdout",
     "output_type": "stream",
     "text": [
      "[ 27.29722222 454.09722222] [  9.98244253 323.29893931]\n"
     ]
    }
   ],
   "source": [
    "# 데이터 전처리 (Data Preprocessing) #1\n",
    "# 데이터 전처리\n",
    "# 특성값을 일정한 기준으로 맞춤\n",
    "# 표준 점수 (Standard Score, Z 점수)\n",
    "# 각 특성(길이, 무게)의 값이 0에서 표준편차의 몇 배만큼 떨어져 있는지를 나타냄\n",
    "# Z = x - m / 시그마 (x: 특성값, m: 평균, 시그마: 표준편차)\n",
    "\n",
    "# 평균 및 표준편차 계산\n",
    "# 브로드 캐스팅\n",
    "# 행(row)이나 열(column)의 모든 데이터에 대해 한 번에 연산을 수행\n",
    "mean = np.mean(train_input, axis=0)  # axis=0: 각 컬럼의 평균 계산\n",
    "std = np.std(train_input, axis=0)\n",
    "print(mean, std)\n",
    "# length평균, weight평균, length표준편차, weight표준편차"
   ]
  },
  {
   "cell_type": "code",
   "execution_count": 511,
   "id": "9df61e54",
   "metadata": {},
   "outputs": [
    {
     "name": "stdout",
     "output_type": "stream",
     "text": [
      "[[ 0.24070039  0.14198246]\n",
      " [-1.51237757 -1.36683783]\n",
      " [ 0.5712808   0.76060496]]\n"
     ]
    }
   ],
   "source": [
    "# 데이터 전처리 (Data Preprocessing) #2\n",
    "# 표준 점수(Z값 계산)\n",
    "# z = 특성값 - 평균 / 표준편차\n",
    "train_scaled = (train_input - mean) / std  # 표준 점수로 변환한 데이터\n",
    "print(train_scaled[:3])"
   ]
  },
  {
   "cell_type": "code",
   "execution_count": 512,
   "id": "14dd43ca",
   "metadata": {},
   "outputs": [
    {
     "data": {
      "image/png": "[encoded data removed]",
      "text/plain": [
       "<Figure size 432x288 with 1 Axes>"
      ]
     },
     "metadata": {
      "needs_background": "light"
     },
     "output_type": "display_data"
    }
   ],
   "source": [
    "# 전처리 데이터로 모델 훈련 #1\n",
    "# 표준 점수로 변환한 훈련 데이터 분포 확인\n",
    "# train_scaled 데이터와 샘플 데이터(25, 150) 비교\n",
    "plt.scatter(train_scaled[:, 0], train_scaled[:, 1], label='train_scaled')\n",
    "plt.scatter(25, 150, marker='^', label='unknown')\n",
    "plt.xlabel('length')\n",
    "plt.ylabel('weight')\n",
    "plt.legend()\n",
    "plt.show()\n",
    "# 샘플 데이터(25, 150)은 표준 점수가 아님"
   ]
  },
  {
   "cell_type": "code",
   "execution_count": 513,
   "id": "4391f2fb",
   "metadata": {},
   "outputs": [
    {
     "name": "stdout",
     "output_type": "stream",
     "text": [
      "표준 점수 sample [-0.23012627 -0.94060693]\n"
     ]
    },
    {
     "data": {
      "image/png": "[encoded data removed]",
      "text/plain": [
       "<Figure size 432x288 with 1 Axes>"
      ]
     },
     "metadata": {
      "needs_background": "light"
     },
     "output_type": "display_data"
    }
   ],
   "source": [
    "# 전처리 데이터로 모델 훈련 #2\n",
    "# 샘플 데이터를 표준 점수로 변환\n",
    "new = ([25, 150] - mean) / std\n",
    "print('표준 점수 sample', new)\n",
    "\n",
    "plt.scatter(train_scaled[:, 0], train_scaled[:, 1], label='train_scaled')\n",
    "plt.scatter(new[0], new[1], marker='^', label='unknown')\n",
    "plt.xlabel('length')\n",
    "plt.ylabel('weight')\n",
    "plt.legend()\n",
    "plt.show()"
   ]
  },
  {
   "cell_type": "code",
   "execution_count": 514,
   "id": "9ecf9e48",
   "metadata": {},
   "outputs": [
    {
     "name": "stdout",
     "output_type": "stream",
     "text": [
      "1.0\n",
      "[1.]\n"
     ]
    }
   ],
   "source": [
    "# 전처리 데이터로 모델 훈련 #3\n",
    "# 표준 점수로 변환한 훈련 데이터로 k-최근접 이웃 모델 훈련\n",
    "# 표준점수로 변환한 훈련 데이터로 k-NN 훈련\n",
    "kn.fit(train_scaled, train_target)\n",
    "\n",
    "# 테스트 세트를 표준 점수로 변환\n",
    "test_scaled = (test_input - mean) / std\n",
    "print(kn.score(test_scaled, test_target))\n",
    "\n",
    "# 표준 점수로 변환된 샘플 데이터를 가지고 예측\n",
    "print(kn.predict([new]))\n",
    "# 결과\n",
    "# 길이가 25cm, 무게가 150g인 생선을 도미로 인식함"
   ]
  },
  {
   "cell_type": "code",
   "execution_count": 515,
   "id": "3777d58a",
   "metadata": {},
   "outputs": [
    {
     "name": "stdout",
     "output_type": "stream",
     "text": [
      "[[0.2873737  0.7711188  0.89552179 0.91493515 0.95427626]]\n"
     ]
    },
    {
     "data": {
      "image/png": "[encoded data removed]",
      "text/plain": [
       "<Figure size 432x288 with 1 Axes>"
      ]
     },
     "metadata": {
      "needs_background": "light"
     },
     "output_type": "display_data"
    }
   ],
   "source": [
    "# 최종 이웃 찾기 및 산점도\n",
    "# 표준 점수로 변경된 샘플 데이터의 이웃 찾기 및 산점도\n",
    "distances, indexes = kn.kneighbors([new])\n",
    "print(distances)\n",
    "\n",
    "plt.scatter(train_scaled[:, 0], train_scaled[:, 1], label='train_scaled')\n",
    "plt.scatter(new[0], new[1], marker='^', label='sample')\n",
    "plt.scatter(train_scaled[indexes, 0], train_scaled[indexes, 1],\n",
    "           marker='D', label='neighbors')\n",
    "\n",
    "plt.xlabel('length')\n",
    "plt.ylabel('weight')\n",
    "plt.legend()\n",
    "plt.show()\n",
    "# 샘플 데이터(25cm, 150g)에 가장 가까운 이웃들은 도미"
   ]
  },
  {
   "cell_type": "code",
   "execution_count": 516,
   "id": "b1acfe74",
   "metadata": {},
   "outputs": [],
   "source": [
    "# 마무리 정리\n",
    "# 특성의 스케일이 다른 경우\n",
    "# 길이보다 무게에 따라 예측값이 변경되었음\n",
    "\n",
    "# 스케일이 다른 특성 처리\n",
    "# 훈련 세트 및 테스트 세트를 표준 점수로 변환\n",
    "\n",
    "# 데이터 전처리\n",
    "# 머신러닝 모델에 훈련 데이터를 입력하기 전에 가공하는 단계\n",
    "\n",
    "# scikit-learn 함수 정리\n",
    "# train_test_split()\n",
    "# 입력 데이터를 훈련 세트와 테스트 세트로 자동으로 나눔\n",
    "# 테스트 세트의 기본 크기: 25%\n",
    "# kneighbors()\n",
    "# k-최근접 이웃 모델에서 입력한 샘플 데이터와 가장 가까운 이웃을 찾음\n",
    "# 거리와 인덱스 반환"
   ]
  },
  {
   "cell_type": "markdown",
   "id": "f12e8b04",
   "metadata": {},
   "source": [
    "# 머신러닝 3장\n",
    "## (회귀 알고리즘과 모델 규제)\n",
    "### 혼자 공부하는 머신러닝 + 딥러닝"
   ]
  },
  {
   "cell_type": "markdown",
   "id": "fccc5314",
   "metadata": {},
   "source": [
    "## k-최근접 이웃 회귀"
   ]
  },
  {
   "cell_type": "code",
   "execution_count": 517,
   "id": "4eb00ed3",
   "metadata": {},
   "outputs": [],
   "source": [
    "# 회귀 (Regression)\n",
    "# 지도 학습(Supervised Learning)\n",
    "# 훈련을 위한 데이터(training data)와 정답이 필요\n",
    "# 훈련 데이터 = 입력(input) + 정답(target)\n",
    "# 알고리즘이 정답을 맞추는지 학습\n",
    "\n",
    "# 분류(Classification): 2장\n",
    "# 테스트 세트의 샘플을 정확하게 분류한 개수의 비율: 정확도\n",
    "# 정답을 맞힌 개수의 비율 (정확도)\n",
    "\n",
    "# 회귀 (Regression)\n",
    "# 두 변수 사이의 상관 관계를 분석하는 방법\n",
    "# 기존 데이터를 이용해서 임의의 숫자를 예측하는 문제: 결정계수(R^2)\n",
    "# 정확한 숫자를 맞춘다는 것은 불가능\n",
    "# example\n",
    "# 내년 경제 성장률 예측\n",
    "# 배달 도착 시간 예측\n",
    "# 농어의 무게 예측"
   ]
  },
  {
   "cell_type": "code",
   "execution_count": 518,
   "id": "0e5aebcc",
   "metadata": {},
   "outputs": [],
   "source": [
    "# k-최근접 이웃 회귀\n",
    "# k-최근접 이웃 분류 (2장)\n",
    "# 예측하려는 샘플에 가장 가까운 이웃을 k개를 선택\n",
    "# 이웃들의 클래스를 확인\n",
    "# 샘플 주변의 다수의 클래스를 샘플의 클래스로 예측\n",
    "\n",
    "# k-최근접 이웃 회귀\n",
    "# 예측하려는 샘플에 가장 가까운 이웃 k개를 선택\n",
    "# 이웃의 평균을 구함"
   ]
  },
  {
   "cell_type": "code",
   "execution_count": 519,
   "id": "fa0a59ab",
   "metadata": {},
   "outputs": [],
   "source": [
    "# 데이터 준비\n",
    "# 농어(perch)의 길이로 무게를 잘 예측할 수 있을까?\n",
    "import numpy as np\n",
    "import matplotlib.pyplot as plt\n",
    "\n",
    "perch_length = np.array([8.4, 13.7, 15.0, 16.2, 17.4, 18.0, 18.7, 19.0, \n",
    "                        19.6, 20.0, 21.0, 21.0, 21.0, 21.3, 22.0, 22.0, \n",
    "                        22.0, 22.0, 22.0, 22.5, 22.5, 22.7, 23.0, 23.5, \n",
    "                        24.0, 24.0, 24.6, 25.0, 25.6, 26.5,\t27.3, 27.5, \n",
    "                        27.5, 27.5, 28.0, 28.7, 30.0, 32.8, 34.5, 35.0,\n",
    "                        36.5, 36.0, 37.0, 37.0, 39.0, 39.0, 39.0, 40.0, \n",
    "                        40.0, 40.0,\t40.0, 42.0, 43.0, 43.0, 43.5, 44.0])\n",
    "\n",
    "perch_weight = np.array([5.9, 32.0, 40.0, 51.5, 70.0, 100.0, 78.0, 80.0, \n",
    "                         85.0, 85.0, 110.0, 115.0, 125.0, 130.0, 120.0, \n",
    "                         120.0, 130.0, 135.0, 110.0, 130.0,150.0, 145.0,\n",
    "                         150.0, 170.0, 225.0, 145.0, 188.0, 180.0,197.0,\n",
    "                         218.0,300.0, 260.0, 265.0, 250.0, 250.0, 300.0,\n",
    "                         320.0, 514.0, 556.0, 840.0,685.0, 700.0, 700.0,\n",
    "                         690.0, 900.0, 650.0, 820.0, 850.0, 900.0,\n",
    "                         1015.0, 820.0, 1100.0, 1000.0, 1100.0, \n",
    "                         1000.0, 1000.0])\n"
   ]
  },
  {
   "cell_type": "code",
   "execution_count": 520,
   "id": "368072da",
   "metadata": {},
   "outputs": [
    {
     "data": {
      "image/png": "[encoded data removed]",
      "text/plain": [
       "<Figure size 432x288 with 1 Axes>"
      ]
     },
     "metadata": {
      "needs_background": "light"
     },
     "output_type": "display_data"
    }
   ],
   "source": [
    "# 산점도 확인\n",
    "plt.scatter(perch_length, perch_weight)\n",
    "plt.xlabel('length')\n",
    "plt.ylabel('weight')\n",
    "plt.show()"
   ]
  },
  {
   "cell_type": "code",
   "execution_count": 521,
   "id": "48e10568",
   "metadata": {},
   "outputs": [
    {
     "name": "stdout",
     "output_type": "stream",
     "text": [
      "(42,) (14,)\n",
      "(42, 1) (14, 1)\n"
     ]
    }
   ],
   "source": [
    "# 훈련 세트와 테스트 세트 준비\n",
    "# train_test_split() 함수 사용\n",
    "# 1개의 데이터 세트(perch_lenght)만 사용\n",
    "\n",
    "# scikit_learn의 훈련 세트는 2차원 배열을 사용\n",
    "# 입력 데이터 세트를 2차원 배열 형태로 변경이 필요\n",
    "# reshape(row, col) 함수 사용\n",
    "# (42, ) -> (42, 1) 형태로 변경\n",
    "from sklearn.model_selection import train_test_split\n",
    "\n",
    "train_input, test_input, train_target, test_target = train_test_split(\n",
    "perch_length, perch_weight, random_state=42)\n",
    "\n",
    "print(train_input.shape, test_input.shape)\n",
    "# reshape(-1, 1): -1: 행의 크기를 자동 지정\n",
    "train_input = train_input.reshape(-1, 1)  # 2차원 배열로 변경\n",
    "test_input = test_input.reshape(-1, 1)  # 2차원 배열로 변경\n",
    "\n",
    "print(train_input.shape, test_input.shape)"
   ]
  },
  {
   "cell_type": "code",
   "execution_count": 522,
   "id": "420a559a",
   "metadata": {},
   "outputs": [
    {
     "name": "stdout",
     "output_type": "stream",
     "text": [
      "0.992809406101064\n"
     ]
    }
   ],
   "source": [
    "# k-최근접 이웃 회귀 알고리즘 정확도 계산\n",
    "# k-최근접 이웃 회귀 알고리즘\n",
    "# KNeighborsRegressor 클래스 사용\n",
    "# n_neighboers: 기본 값 = 5\n",
    "from sklearn.neighbors import KNeighborsRegressor\n",
    "\n",
    "knr = KNeighborsRegressor()\n",
    "# 모델 훈련\n",
    "knr.fit(train_input, train_target)\n",
    "\n",
    "# score(): 훈련 모델 점수 확인, 결정 계수(R^2)를 리턴\n",
    "print(knr.score(test_input, test_target))\n",
    "# 결정계수\n",
    "\n",
    "# score()\n",
    "# 결정 계수(R^2)를 리턴함\n",
    "# 출력하는 값이 높을 수록 정확도가 높음"
   ]
  },
  {
   "cell_type": "code",
   "execution_count": 523,
   "id": "0cc1ecb1",
   "metadata": {},
   "outputs": [],
   "source": [
    "# 결정 계수(R^2)\n",
    "# 결정 계수 (R^2) 값\n",
    "# 회귀식이 얼마나 정확한지를 나타내는 숫자 (0 <= R^2 <= 1)\n",
    "# 0에 가까울수록, 회귀식의 정확도는 낮음\n",
    "# 1에 가까울수록, 회귀식의 정확도는 높음\n",
    "# R^2 = 1 - (target-예측)^2 의 합 / (target-target평균)^2 의 합\n",
    "\n",
    "# R^2 = 0\n",
    "# 평균값과 예측값이 비슷 (분모, 분자가 비슷)\n",
    "\n",
    "# R^2 = 1\n",
    "# (target-예측)^2의 값이 작아져야 됨 (분자가 0에 가까워짐)"
   ]
  },
  {
   "cell_type": "code",
   "execution_count": 524,
   "id": "158a1854",
   "metadata": {},
   "outputs": [
    {
     "name": "stdout",
     "output_type": "stream",
     "text": [
      "19.157142857142862\n"
     ]
    }
   ],
   "source": [
    "# mean_absolute_error\n",
    "# mean_absolute_error (MAE): 평균 절대 오차\n",
    "# 타킷(실제 값)과 예측 값의 절대값 오차 평균\n",
    "# MAE = 1/n 수열합|target_i-예측값_i|\n",
    "# 절대값을 사용: 에러의 크기를 반영\n",
    "# sklearn.merics 패키지 포함\n",
    "from sklearn.metrics import mean_absolute_error\n",
    "\n",
    "# 테스트 세트에 대한 예측값 계산\n",
    "test_prediction = knr.predict(test_input)\n",
    "\n",
    "# 테스트 세트에 대한 평균 절대 오차 계산\n",
    "mae = mean_absolute_error(test_target, test_prediction)\n",
    "print(mae)\n",
    "\n",
    "# 19g 정도의 오차 발생"
   ]
  },
  {
   "cell_type": "code",
   "execution_count": 525,
   "id": "3d3f6145",
   "metadata": {},
   "outputs": [
    {
     "data": {
      "text/plain": [
       "array([  60. ,   79.6,  248. ,  122. ,  136. ,  847. ,  311.4,  183.4,\n",
       "        847. ,  113. , 1010. ,   60. ,  248. ,  248. ])"
      ]
     },
     "execution_count": 525,
     "metadata": {},
     "output_type": "execute_result"
    }
   ],
   "source": [
    "test_prediction"
   ]
  },
  {
   "cell_type": "code",
   "execution_count": 526,
   "id": "f876f39c",
   "metadata": {},
   "outputs": [],
   "source": [
    "# 과대적합 vs 과소적합\n",
    "# 과대적합(overfitting)\n",
    "# 훈련 세트에만 잘 맞는 모델\n",
    "# 테스트 세트에서는 점수가 굉장히 나쁨\n",
    "# 일반성이 떨어짐\n",
    "\n",
    "# 과소적합(Underfitting)\n",
    "# 훈련 세트보다 테스트 세트의 점수가 높거나,\n",
    "# 훈련 세트와 테스트 세트의 두 점수가 모두 낮음\n",
    "# 모델이 너무 단순해서 훈련 세트로 훈련이 되지 않은 경우\n",
    "\n",
    "# 앞 예제에서 훈련 세트와 테스트 세트의 score() 비교\n",
    "# 테스트 세트의 점수가 더 높음: 과소 적합(underfitting)"
   ]
  },
  {
   "cell_type": "code",
   "execution_count": 527,
   "id": "5b97d757",
   "metadata": {},
   "outputs": [
    {
     "name": "stdout",
     "output_type": "stream",
     "text": [
      "0.992809406101064\n",
      "0.9698823289099254\n"
     ]
    }
   ],
   "source": [
    "# 테스트 세트를 사용하여 R^2 값 계산\n",
    "print(knr.score(test_input, test_target))\n",
    "\n",
    "# 훈련 세트 R^2값 계산\n",
    "print(knr.score(train_input, train_target))\n",
    "\n",
    "# 테스트 세트의 값 > 훈련 세트의 값"
   ]
  },
  {
   "cell_type": "code",
   "execution_count": 528,
   "id": "cd0d4d65",
   "metadata": {},
   "outputs": [],
   "source": [
    "# 과대적합 (Overfit)\n",
    "# OPtimal\n",
    "# 과소적합 (underfit)"
   ]
  },
  {
   "cell_type": "code",
   "execution_count": 529,
   "id": "ca5f8932",
   "metadata": {},
   "outputs": [
    {
     "name": "stdout",
     "output_type": "stream",
     "text": [
      "훈련 데이터로 모델의 정확도 점수 계산:  0.9804899950518966\n",
      "테스트 데이터로 모델의 정확도 점수 계산:  0.9746459963987609\n"
     ]
    }
   ],
   "source": [
    "# 모델 개선: 이웃 개수 줄이기\n",
    "# 과소 적합 해결 방안: 이웃의 개수 줄임\n",
    "# 기본 값 5에서 n_neighbors = 3으로 변경\n",
    "# 모델이 더 복잡해짐\n",
    "# 훈련 세트의 국지적 패턴에 더 민감해짐\n",
    "knr.n_neighbors = 3\n",
    "\n",
    "# 모델을 다시 훈련\n",
    "knr.fit(train_input, train_target)\n",
    "\n",
    "print('훈련 데이터로 모델의 정확도 점수 계산: ',\n",
    "     knr.score(train_input, train_target))\n",
    "\n",
    "print('테스트 데이터로 모델의 정확도 점수 계산: ',\n",
    "     knr.score(test_input, test_target))\n",
    "# 훈련 데이터의 점수가 높아짐 (기존: : 0.9698823289099254)"
   ]
  },
  {
   "cell_type": "code",
   "execution_count": 530,
   "id": "9e234fe1",
   "metadata": {},
   "outputs": [
    {
     "data": {
      "image/png": "[encoded data removed]",
      "text/plain": [
       "<Figure size 432x288 with 1 Axes>"
      ]
     },
     "metadata": {
      "needs_background": "light"
     },
     "output_type": "display_data"
    },
    {
     "data": {
      "image/png": "[encoded data removed]",
      "text/plain": [
       "<Figure size 432x288 with 1 Axes>"
      ]
     },
     "metadata": {
      "needs_background": "light"
     },
     "output_type": "display_data"
    },
    {
     "data": {
      "image/png": "[encoded data removed]",
      "text/plain": [
       "<Figure size 432x288 with 1 Axes>"
      ]
     },
     "metadata": {
      "needs_background": "light"
     },
     "output_type": "display_data"
    }
   ],
   "source": [
    "# 이웃의 수에 따른 그래프 비교\n",
    "# k-최근접 회귀 알고리즘에서 이웃의 수 변경: 1, 5, 10\n",
    "# 농어의 길이를 5~45까지 변경하면서 무게 예측\n",
    "# k-최근접 이웃 회귀 객체 생성\n",
    "knr = KNeighborsRegressor()\n",
    "\n",
    "# x: 농어의 길이(5 ~ 45까지 범위 설정)\n",
    "x = np.arange(5, 45).reshape(-1, 1)\n",
    "# n = 1, 5, 10일 때 예측 결과 그래프\n",
    "for n in [1, 5, 10]:\n",
    "    # 모델 훈련\n",
    "    knr.n_neightbors = n\n",
    "    knr.fit(train_input, train_target)\n",
    "    # n_neighbors의 값을 1, 5, 10으로 증가시키면서 모델 훈련\n",
    "    \n",
    "    # 지정한 범위 x(농어의 길이)에 대한 농어 무게 예측하기\n",
    "    prediction = knr.predict(x)\n",
    "    \n",
    "    # 훈련 세트와 예측 결과 그래프 그리기\n",
    "    plt.scatter(train_input, train_target, label='train set')\n",
    "    plt.plot(x, prediction, label='prediction', color='orange')\n",
    "    \n",
    "    plt.title('n_neighbors = {}'.format(n)) \n",
    "    plt.xlabel('length')\n",
    "    plt.ylabel('weight')\n",
    "    plt.show()\n",
    "# n의 값이 커질수록 모델이 단순(과소적합)"
   ]
  },
  {
   "cell_type": "code",
   "execution_count": 531,
   "id": "2133cab0",
   "metadata": {},
   "outputs": [],
   "source": [
    "# 마무리 정리\n",
    "# 회귀(Regression)\n",
    "# 임의의 수치를 예측하는 문제\n",
    "# k-최근접 이웃 회귀\n",
    "# 가장 가까운 이웃 샘플을 찾고 타깃값을 평균하여 예측\n",
    "\n",
    "# 과대 적합(Overfitting)\n",
    "# 훈련 세트에만 잘 맞음(일반성이 떨어짐)\n",
    "# 훈련 세트의 성능 > 테스트 세트 성능\n",
    "\n",
    "# 과소 적합(Underfitting)\n",
    "# 모델이 단순하여 훈련 세트의 패턴을 모두 잡아내지 못함\n",
    "# 훈련 세트와 테스트 세트의 성능이 모두 낮거나\n",
    "# 훈련 세트의 성능 < 테스트 세트의 성능"
   ]
  },
  {
   "cell_type": "markdown",
   "id": "73685f61",
   "metadata": {},
   "source": [
    "## 선형 회귀"
   ]
  },
  {
   "cell_type": "code",
   "execution_count": 532,
   "id": "6629b860",
   "metadata": {},
   "outputs": [],
   "source": [
    "# k-최근접 이웃 알고리즘의 문제점 #1\n",
    "# k-최근접 이웃 회귀 알고리즘의 문제점\n",
    "# 가장 가까운 샘플을 찾아 평균값 계산\n",
    "# 새로운 샘플이 훈련 세트의 범위를 벗어나면 잘못된 예측을 함\n",
    "import numpy as np\n",
    "\n",
    "perch_length = np.array([8.4, 13.7, 15.0, 16.2, 17.4, 18.0, 18.7, 19.0, \n",
    "                        19.6, 20.0, 21.0, 21.0, 21.0, 21.3, 22.0, 22.0, \n",
    "                        22.0, 22.0, 22.0, 22.5, 22.5, 22.7, 23.0, 23.5, \n",
    "                        24.0, 24.0, 24.6, 25.0, 25.6, 26.5,\t27.3, 27.5, \n",
    "                        27.5, 27.5, 28.0, 28.7, 30.0, 32.8, 34.5, 35.0,\n",
    "                        36.5, 36.0, 37.0, 37.0, 39.0, 39.0, 39.0, 40.0, \n",
    "                        40.0, 40.0,\t40.0, 42.0, 43.0, 43.0, 43.5, 44.0])\n",
    "\n",
    "perch_weight = np.array([5.9, 32.0, 40.0, 51.5, 70.0, 100.0, 78.0, 80.0, \n",
    "                         85.0, 85.0, 110.0, 115.0, 125.0, 130.0, 120.0, \n",
    "                         120.0, 130.0, 135.0, 110.0, 130.0,150.0, 145.0,\n",
    "                         150.0, 170.0, 225.0, 145.0, 188.0, 180.0,197.0,\n",
    "                         218.0,300.0, 260.0, 265.0, 250.0, 250.0, 300.0,\n",
    "                         320.0, 514.0, 556.0, 840.0,685.0, 700.0, 700.0,\n",
    "                         690.0, 900.0, 650.0, 820.0, 850.0, 900.0,\n",
    "                         1015.0, 820.0, 1100.0, 1000.0, 1100.0, \n",
    "                         1000.0, 1000.0])\n"
   ]
  },
  {
   "cell_type": "code",
   "execution_count": 533,
   "id": "63b3823b",
   "metadata": {},
   "outputs": [
    {
     "name": "stdout",
     "output_type": "stream",
     "text": [
      "50cm:  [1033.33333333]\n",
      "100cm:  [1033.33333333]\n"
     ]
    }
   ],
   "source": [
    "# k-최근접 이웃 알고리즘의 문제점 #2\n",
    "# 훈련 세트 밖의 샘플 예측\n",
    "# 50cm, 100cm 길이의 농어 무게 예측: 동일한 예측값\n",
    "from sklearn.model_selection import train_test_split\n",
    "\n",
    "# 훈련 세트와 테스트 세트로 나눔\n",
    "train_input, test_input, train_target, test_target = train_test_split(\n",
    "perch_length, perch_weight ,random_state=42)\n",
    "\n",
    "# 훈련 세트와 테스트 세트를 2차원 배열로 변경\n",
    "train_input = train_input.reshape(-1, 1)\n",
    "test_input = test_input.reshape(-1, 1)\n",
    "\n",
    "from sklearn.neighbors import KNeighborsRegressor\n",
    "\n",
    "knr = KNeighborsRegressor(n_neighbors=3)\n",
    "# k-최근접 이웃 회귀 모델을 훈련\n",
    "knr.fit(train_input, train_target)\n",
    "\n",
    "print('50cm: ', knr.predict([[50]]))\n",
    "print('100cm: ', knr.predict([[100]]))\n",
    "# 100cm 농어의 예측값은 50cm 농어의 예측값과 동일: 1033g"
   ]
  },
  {
   "cell_type": "code",
   "execution_count": 534,
   "id": "742de0bc",
   "metadata": {},
   "outputs": [
    {
     "data": {
      "image/png": "[encoded data removed]",
      "text/plain": [
       "<Figure size 432x288 with 1 Axes>"
      ]
     },
     "metadata": {
      "needs_background": "light"
     },
     "output_type": "display_data"
    }
   ],
   "source": [
    "# k-최근접 이웃 알고리즘의 문제점 #3\n",
    "# 50cm, 100cm 길이의 농어의 이웃 및 산점도 비교\n",
    "# 50cm 농어의 이웃을 구함\n",
    "distances_50, indexes_50 = knr.kneighbors([[50]])\n",
    "# 100cm 농어의 이웃을 구함\n",
    "distances_100, indexes_100 = knr.kneighbors([[100]])\n",
    "\n",
    "# 훈련 세트의 산점도\n",
    "plt.scatter(train_input, train_target, label='train set')\n",
    "\n",
    "# 훈련 세트 중에서 50cm 농어의 이웃 데이터만 다시 그림\n",
    "plt.scatter(train_input[indexes_50], train_target[indexes_50],\n",
    "           marker='D', label='50cm neighbors')\n",
    "# 50cm 농어 데이터\n",
    "plt.scatter(50, 1033, marker='^', label='50cm')\n",
    "\n",
    "# 훈련 세트 중에서 100cm 농어의 이웃 데이터만 다시 그림\n",
    "plt.scatter(train_input[indexes_100], train_target[indexes_100],\n",
    "           marker='P', label='100cm neighbors')\n",
    "# 100cm 농어 데이터\n",
    "plt.scatter(100, 1033, marker='s', label='100cm')\n",
    "\n",
    "plt.xlim(0, 110)\n",
    "plt.legend(loc=5)\n",
    "plt.show()"
   ]
  },
  {
   "cell_type": "code",
   "execution_count": 535,
   "id": "412bf196",
   "metadata": {},
   "outputs": [
    {
     "name": "stdout",
     "output_type": "stream",
     "text": [
      "50cm neighbor indexes:  [[34  8 14]]\n",
      "100cm neighbor indexes:  [[34  8 14]]\n",
      "1033.3333333333333\n",
      "1033.3333333333333\n"
     ]
    }
   ],
   "source": [
    "# k-최근접 이웃 회귀 알고리즘의 문제점 #4\n",
    "# 50cm 농어와 100cm 농어의 이웃 비교\n",
    "\n",
    "# 훈련데이터에서 이웃 데이터의 인덱스 확인\n",
    "print('50cm neighbor indexes: ', indexes_50)\n",
    "print('100cm neighbor indexes: ', indexes_100)\n",
    "\n",
    "# 이웃 데이터의 무게 평균 계산\n",
    "print(np.mean(train_target[indexes_50]))\n",
    "print(np.mean(train_target[indexes_100]))\n",
    "\n",
    "# k-최근점 이웃 회귀: 이웃의 평균을 구함\n",
    "# 50cm 농어의 이웃과 100cm 농어의 이웃이 동일함\n",
    "# 서로 다른 길이의 무게 예측: 이웃의 평균값을 사용\n",
    "# 50cm 농어와 100cm 농어의 무게 예측값(1033g)이 동일한 문제점 발생\n",
    "# 해결 방안?"
   ]
  },
  {
   "cell_type": "code",
   "execution_count": 536,
   "id": "4ae56fc2",
   "metadata": {},
   "outputs": [],
   "source": [
    "# 선형 회귀(Linear Regression)\n",
    "# 선형 회귀\n",
    "# 데이터를 가장 잘 표현할 수 있는 직선 방정식을 찾는 알고리즘\n",
    "# 특성과 타킷 사이의 관계를 가장 잘 나타내는 선형 방정식을 찾음\n",
    "# 특성과 타킷 사이의 관계: 선형 방정식의 계수(기울기) 와 절편에 저장\n",
    "\n",
    "# LinearRegression 클래스 사용\n",
    "# sklearn.linear_model 패키지\n",
    "# fit(), score(), predict() 메소드\n",
    "# 머신러닝 알고리즘이 해당 직선을 찾음"
   ]
  },
  {
   "cell_type": "code",
   "execution_count": 537,
   "id": "2bf69255",
   "metadata": {},
   "outputs": [
    {
     "name": "stdout",
     "output_type": "stream",
     "text": [
      "50cm:  [1241.83860323]\n",
      "[39.01714496] -709.0186449535477\n"
     ]
    }
   ],
   "source": [
    "# 훈련 데이터를 이용한 직선 방정식 구하기\n",
    "from sklearn.linear_model import LinearRegression\n",
    "\n",
    "lr = LinearRegression()\n",
    "# 선형 회귀 모델 훈련\n",
    "lr.fit(train_input, train_target)\n",
    "# 50cm 농어에 대한 예측\n",
    "print('50cm: ', lr.predict([[50]]))\n",
    "\n",
    "# 기울기(a): coef_, 절편(bias): intercept_\n",
    "print(lr.coef_, lr.intercept_)\n",
    "# 하나의 특성(농어의 길이)만 사용했기 때문에 배열의 원소는 1개\n",
    "# 농어 무게 = a*농어 길이 + b"
   ]
  },
  {
   "cell_type": "code",
   "execution_count": 538,
   "id": "45a99829",
   "metadata": {},
   "outputs": [
    {
     "data": {
      "image/png": "[encoded data removed]",
      "text/plain": [
       "<Figure size 432x288 with 1 Axes>"
      ]
     },
     "metadata": {
      "needs_background": "light"
     },
     "output_type": "display_data"
    }
   ],
   "source": [
    "# 산점도 및 직선 그래프 그리기\n",
    "# 기울기와 절편을 이용한 1차 방정식 그래프\n",
    "import matplotlib.pyplot as plt\n",
    "\n",
    "plt.scatter(train_input, train_target)\n",
    "\n",
    "# 15에서 50까지 1차 방정식 그래프 그리기\n",
    "# plot([x축 데이터:시작, 끝], [축 데이터:시작, 끝])\n",
    "plt.plot([15, 50], [15*lr.coef_ + lr.intercept_, 50*lr.coef_ + lr.intercept_],\n",
    "        color='red', linestyle='--')\n",
    "\n",
    "# 50cm 농어 데이터\n",
    "plt.scatter(50, 1241.8, marker='^', color='orangered')\n",
    "plt.show()\n",
    "# 농어 무게가 0이하로 내려갈 수 있는 문제점"
   ]
  },
  {
   "cell_type": "code",
   "execution_count": 539,
   "id": "7b264c9b",
   "metadata": {},
   "outputs": [
    {
     "name": "stdout",
     "output_type": "stream",
     "text": [
      "train data score:  0.939846333997604\n",
      "test data score:  0.8247503123313558\n"
     ]
    }
   ],
   "source": [
    "print('train data score: ',\n",
    "     lr.score(train_input, train_target))\n",
    "print('test data score: ',\n",
    "     lr.score(test_input, test_target))\n",
    "# 전체적으로 과소 적합(훈련 세트와 테스트 세트의 점수가 모두 낮음)"
   ]
  },
  {
   "cell_type": "code",
   "execution_count": 540,
   "id": "4c828d5e",
   "metadata": {},
   "outputs": [],
   "source": [
    "# 다항 회귀(Polynomial Regression)\n",
    "# 농어의 길이와 무게에 대한 산점도\n",
    "# 일직선(1차 방정식)으로 표현하기 어려움\n",
    "# 무게가 0 이하일 가능성 발생\n",
    "# 모델이 더 복잡할 필요성이 있음\n",
    "\n",
    "# 최적의 곡선(2차 방정식)을 구함\n",
    "# 길이를 제곱한 항을 훈련 세트에 추가해야 됨\n",
    "# 농어 무게 = a*길이^2 + b*길이 + c"
   ]
  },
  {
   "cell_type": "code",
   "execution_count": 541,
   "id": "046f4d5d",
   "metadata": {},
   "outputs": [
    {
     "name": "stdout",
     "output_type": "stream",
     "text": [
      "[[ 384.16   19.6 ]\n",
      " [ 484.     22.  ]\n",
      " [ 349.69   18.7 ]\n",
      " [ 302.76   17.4 ]\n",
      " [1296.     36.  ]]\n",
      "(42, 2) (14, 2)\n"
     ]
    }
   ],
   "source": [
    "# 훈련 세트에 데이터 추가\n",
    "# 길이를 제곱한 데이터를 훈련 세트에 추가\n",
    "# column_stack() 사용\n",
    "# broadcasting 적용\n",
    "train_poly = np.column_stack((train_input**2, train_input))\n",
    "test_poly = np.column_stack((test_input**2, test_input))\n",
    "\n",
    "print(train_poly[0:5])\n",
    "print(train_poly.shape, test_poly.shape)"
   ]
  },
  {
   "cell_type": "code",
   "execution_count": 542,
   "id": "1d50a216",
   "metadata": {},
   "outputs": [
    {
     "name": "stdout",
     "output_type": "stream",
     "text": [
      "[1573.98423528]\n",
      "[  1.01433211 -21.55792498] 116.05021078278259\n"
     ]
    }
   ],
   "source": [
    "# 다항 회귀식 구하기\n",
    "# 선형 회귀 모델 재훈련\n",
    "# 제곱한 데이터를 이용하여 선형 회귀 모델을 다시 훈련\n",
    "# 타깃값은 그대로 사용함\n",
    "lr = LinearRegression()\n",
    "lr.fit(train_poly, train_target)\n",
    "\n",
    "print(lr.predict([[50**2, 50]]))  # 50cm 농어의 무게 예측\n",
    "print(lr.coef_, lr.intercept_)  # 순서대로 a, b, c로 사용\n",
    "# 농어 무게 = a*길이^2 + b*길이 + c <- 다항 회귀식(Polynomial Regression)"
   ]
  },
  {
   "cell_type": "code",
   "execution_count": 543,
   "id": "f960c6c0",
   "metadata": {},
   "outputs": [
    {
     "data": {
      "image/png": "[encoded data removed]",
      "text/plain": [
       "<Figure size 432x288 with 1 Axes>"
      ]
     },
     "metadata": {
      "needs_background": "light"
     },
     "output_type": "display_data"
    }
   ],
   "source": [
    "# 다항 회귀식을 이용한 그래프 그리기\n",
    "# 훈련 세트의 산점도와 2차 방정식 그래프\n",
    "# 구간별 직선을 그리기 위해 15에서 49까지 정수 배열을 만듦\n",
    "point = np.arange(15, 50)\n",
    "# 훈련 세트의 산점도 그리기\n",
    "plt.scatter(train_input, train_target)\n",
    "\n",
    "# 15에서 49까지 2차 방정식 그래프 그리기\n",
    "plt.plot(point, 1.01*point**2 - 21.6*point + 116.05,\n",
    "        color='red', linestyle='--')\n",
    "\n",
    "# 50cm 농어 데이터(무게:1574g)\n",
    "plt.scatter([50], [1574], marker='^')\n",
    "plt.xlabel('length')\n",
    "plt.ylabel('weight')\n",
    "plt.show()"
   ]
  },
  {
   "cell_type": "code",
   "execution_count": 544,
   "id": "b226235f",
   "metadata": {},
   "outputs": [
    {
     "name": "stdout",
     "output_type": "stream",
     "text": [
      "0.9706807451768623\n",
      "0.9775935108325121\n"
     ]
    }
   ],
   "source": [
    "print(lr.score(train_poly, train_target))\n",
    "print(lr.score(test_poly, test_target))\n",
    "# 테스트 세트의 점수가 높음(과소 적합이 남아 있음)"
   ]
  },
  {
   "cell_type": "code",
   "execution_count": 545,
   "id": "7e0e4960",
   "metadata": {},
   "outputs": [],
   "source": [
    "# 내용 정리\n",
    "# k-최근접 이웃 회귀\n",
    "# 거리에 상관 없이 가장 가까운 이웃의 값을 평균하여 예측\n",
    "# 50cm, 100cm 길이의 농어 무게를 동일하게 예측\n",
    "# 훈련 세트 범위 밖의 샘플을 예측할 수 없음\n",
    "\n",
    "# 선형 회귀\n",
    "# 훈련 세트에 잘 맞는 직선 방정식을 구함\n",
    "# 기울기(coef_)와 절편(intercept_)을 계산\n",
    "# 훈련 세트를 벗어난 범위의 데이터를 예측할 수 있음\n",
    "# 모델이 단순: 농어의 무게가 음수일 가능성 발생\n",
    "\n",
    "# 다항 회귀\n",
    "# 선형 회귀의 문제점을 해결하기 위해 다항 회귀 사용\n",
    "# 2차 방정식의 그래프 형태\n",
    "# 여전히 과소 적합이 존재"
   ]
  },
  {
   "cell_type": "markdown",
   "id": "dec74882",
   "metadata": {},
   "source": [
    "## 특성 공학과 규제"
   ]
  },
  {
   "cell_type": "code",
   "execution_count": 546,
   "id": "c04a53f7",
   "metadata": {},
   "outputs": [],
   "source": [
    "# 다중 회귀 (Multiplt Regression)\n",
    "# 다중 회귀\n",
    "# 여러 특성을 사용한 선형 회귀\n",
    "# 길이, 높이, 두께 사용\n",
    "# 다양한 특성의 조합을 생성\n",
    "\n",
    "# PolynomialFeatures 클래스 사용\n",
    "\n",
    "# 특성 공학 (Feature engineering)\n",
    "# 기존의 특성을 사용하여 새로운 특성을 뽑아내는 작업\n",
    "# 특성이 2개인 경우, 평면을 학습"
   ]
  },
  {
   "cell_type": "code",
   "execution_count": 547,
   "id": "9a8c32bd",
   "metadata": {},
   "outputs": [
    {
     "name": "stdout",
     "output_type": "stream",
     "text": [
      "[[ 8.4   2.11  1.41]\n",
      " [13.7   3.53  2.  ]\n",
      " [15.    3.82  2.43]\n",
      " [16.2   4.59  2.63]\n",
      " [17.4   4.59  2.94]]\n",
      "(56, 3)\n"
     ]
    }
   ],
   "source": [
    "# Pandas로 데이터 준비\n",
    "# 데이터 준비\n",
    "# csv 파일 => Pandas 데이터프레임 => Numpy 배열\n",
    "#              pd.read_csv()       to_numpy()\n",
    "import pandas as pd\n",
    "\n",
    "df = pd.read_csv('https://bit.ly/perch_csv')\n",
    "perch_full = df.to_numpy()  # DataFrame을 Numpy의 array로 변환\n",
    "print(perch_full[:5])\n",
    "print(perch_full.shape)"
   ]
  },
  {
   "cell_type": "code",
   "execution_count": 548,
   "id": "6f4e2e38",
   "metadata": {},
   "outputs": [],
   "source": [
    "# 훈련 세트와 테스트 세트로 분리\n",
    "# target 데이터(perch_weight)는 기존과 동일\n",
    "# perch_full, perch_weight를 훈련 세트와 테스트 세트로 분리\n",
    "import numpy as np\n",
    "\n",
    "perch_weight = np.array([5.9, 32.0, 40.0, 51.5, 70.0, 100.0, 78.0, 80.0, \n",
    "                         85.0, 85.0, 110.0, 115.0, 125.0, 130.0, 120.0, \n",
    "                         120.0, 130.0, 135.0, 110.0, 130.0,150.0, 145.0,\n",
    "                         150.0, 170.0, 225.0, 145.0, 188.0, 180.0,197.0,\n",
    "                         218.0,300.0, 260.0, 265.0, 250.0, 250.0, 300.0,\n",
    "                         320.0, 514.0, 556.0, 840.0,685.0, 700.0, 700.0,\n",
    "                         690.0, 900.0, 650.0, 820.0, 850.0, 900.0,\n",
    "                         1015.0, 820.0, 1100.0, 1000.0, 1100.0, \n",
    "                         1000.0, 1000.0])\n",
    "\n",
    "    "
   ]
  },
  {
   "cell_type": "code",
   "execution_count": 549,
   "id": "e4e3b16e",
   "metadata": {},
   "outputs": [],
   "source": [
    "from sklearn.model_selection import train_test_split\n",
    "\n",
    "train_input, test_input, train_target, test_target = train_test_split(\n",
    "perch_full, perch_weight, random_state=42)"
   ]
  },
  {
   "cell_type": "code",
   "execution_count": 550,
   "id": "93338070",
   "metadata": {},
   "outputs": [],
   "source": [
    "# 사이킷런의 변환기 (Transformer)\n",
    "# 다항 특성 만들기\n",
    "# PolynomialFeatures 클래스 사용\n",
    "# 각 특성을 제곱한 항을 추가하고, 특성끼리 서로 곱한 항을 추가\n",
    "\n",
    "# PolynomialFeatures(include_bias=True)\n",
    "# include_bias=True: bias(절편, 0차항) 추가\n",
    "# include_bias=False: bias 삭제\n",
    "\n",
    "# fit([a, b]) : 특성 조합을 찾음\n",
    "# [1, a, b, a*b, a^2, b^2] 추가\n",
    "\n",
    "# transform([[a, b]]): 특성 조합을 실제 데이터로 변환\n",
    "# [1, a, b, a*b, a^2, b^2] 로 변환"
   ]
  },
  {
   "cell_type": "code",
   "execution_count": 551,
   "id": "d06db796",
   "metadata": {},
   "outputs": [
    {
     "name": "stdout",
     "output_type": "stream",
     "text": [
      "[[1. 2. 3. 4. 6. 9.]]\n"
     ]
    }
   ],
   "source": [
    "# PolynomialFeatures 간단 예제\n",
    "# PolynomialFeatures(include_bias=True)\n",
    "from sklearn.preprocessing import PolynomialFeatures\n",
    "\n",
    "poly = PolynomialFeatures()  # include_bias=True (기본값)\n",
    "poly.fit([[2, 3]])  # 2, 3의 조합을 찾음(2^2, 3^2, 2*3)\n",
    "print(poly.transform([[2, 3]]))  # 특성 조합을 데이터로 변환"
   ]
  },
  {
   "cell_type": "code",
   "execution_count": 552,
   "id": "6f6089dd",
   "metadata": {},
   "outputs": [
    {
     "name": "stdout",
     "output_type": "stream",
     "text": [
      "[[2. 3. 4. 6. 9.]]\n"
     ]
    }
   ],
   "source": [
    "# PolynomialFeatures(include_bias=False)\n",
    "poly = PolynomialFeatures(include_bias=False)  # include_bias=False: 1 제거\n",
    "poly.fit([[2, 3]])\n",
    "print(poly.transform([[2, 3]]))"
   ]
  },
  {
   "cell_type": "code",
   "execution_count": 553,
   "id": "7ece2b4a",
   "metadata": {},
   "outputs": [
    {
     "name": "stdout",
     "output_type": "stream",
     "text": [
      "[[ 19.6      5.14     3.04   384.16   100.744   59.584   26.4196  15.6256\n",
      "    9.2416]\n",
      " [ 22.       5.88     3.52   484.     129.36    77.44    34.5744  20.6976\n",
      "   12.3904]\n",
      " [ 18.7      5.2      3.12   349.69    97.24    58.344   27.04    16.224\n",
      "    9.7344]]\n",
      "(42, 9)\n"
     ]
    }
   ],
   "source": [
    "# 다항 특성 만들기\n",
    "# 훈련 세트(train_input)을 사용하여 다항 특성 만들기\n",
    "from sklearn.preprocessing import PolynomialFeatures\n",
    "\n",
    "poly = PolynomialFeatures(include_bias=False)\n",
    "poly.fit(train_input)\n",
    "train_poly = poly.transform(train_input)  # train_input 데이터를 이용하여 총 9개의 특성이 만들어짐\n",
    "\n",
    "print(train_poly[0:3])\n",
    "print(train_poly.shape)\n",
    "test_poly = poly.transform(test_input)  # 테스트 세트 변환: fit()호출 안함\n",
    "# 훈련 세트를 기준으로 만들어진 특성을 이용하여 테스트 세트를 변환하기 위함"
   ]
  },
  {
   "cell_type": "code",
   "execution_count": 554,
   "id": "c857c9ef",
   "metadata": {
    "scrolled": true
   },
   "outputs": [
    {
     "name": "stdout",
     "output_type": "stream",
     "text": [
      "['x0' 'x1' 'x2' 'x0^2' 'x0 x1' 'x0 x2' 'x1^2' 'x1 x2' 'x2^2']\n"
     ]
    }
   ],
   "source": [
    "# get_feature_names_out()\n",
    "# 각 특성의 조합을 알려줌\n",
    "print(poly.get_feature_names_out())"
   ]
  },
  {
   "cell_type": "code",
   "execution_count": 555,
   "id": "eb168d0a",
   "metadata": {},
   "outputs": [
    {
     "name": "stdout",
     "output_type": "stream",
     "text": [
      "0.9903183436982125\n"
     ]
    }
   ],
   "source": [
    "# 다중 회귀 모델 훈련 #1\n",
    "# 다중 회귀 모델 훈련\n",
    "# 선형 회귀 모델 훈련과 동일 (여러 개의 특성을 사용할 뿐임)\n",
    "# 특성이 늘어나면 선형 회귀의 정확도 증가\n",
    "from sklearn.linear_model import LinearRegression\n",
    "\n",
    "lr = LinearRegression()\n",
    "lr.fit(train_poly, train_target)\n",
    "print(lr.score(train_poly, train_target))"
   ]
  },
  {
   "cell_type": "code",
   "execution_count": 556,
   "id": "a640ee0f",
   "metadata": {},
   "outputs": [
    {
     "name": "stdout",
     "output_type": "stream",
     "text": [
      "0.9714559911594155\n"
     ]
    }
   ],
   "source": [
    "print(lr.score(test_poly, test_target))"
   ]
  },
  {
   "cell_type": "code",
   "execution_count": 557,
   "id": "21f4d6fb",
   "metadata": {},
   "outputs": [
    {
     "name": "stdout",
     "output_type": "stream",
     "text": [
      "(42, 55)\n"
     ]
    }
   ],
   "source": [
    "# 다중 회귀 모델 훈련 #2\n",
    "# degree 증가\n",
    "# 고차항의 최대 차수 지정\n",
    "# 3제곱, 4제곱 5제곱 항 추가\n",
    "# 고차항의 최대 차수 증가 (5차)\n",
    "poly = PolynomialFeatures(degree=5, include_bias=False)\n",
    "\n",
    "poly.fit(train_input)\n",
    "train_poly = poly.transform(train_input)\n",
    "test_poly = poly.transform(test_input)\n",
    "print(train_poly.shape)"
   ]
  },
  {
   "cell_type": "code",
   "execution_count": 558,
   "id": "4a069701",
   "metadata": {},
   "outputs": [
    {
     "name": "stdout",
     "output_type": "stream",
     "text": [
      "0.9999999999938143\n",
      "-144.40744532797535\n"
     ]
    }
   ],
   "source": [
    "# 선형 회귀 모델 훈련 및 점수 계산\n",
    "# 선형 회귀 모델 훈련 및 훈련 세트 점수 계산\n",
    "lr.fit(train_poly, train_target)\n",
    "print(lr.score(train_poly, train_target))\n",
    "\n",
    "# 테스트 세트 점수 계산\n",
    "print(lr.score(test_poly, test_target))\n",
    "# 훈련 세트에 과대 적합"
   ]
  },
  {
   "cell_type": "code",
   "execution_count": 559,
   "id": "37544065",
   "metadata": {},
   "outputs": [],
   "source": [
    "# 규제 (Regularization)\n",
    "# 규제\n",
    "# 모델이 훈련 세트에 과대 적합되는 것을 방지\n",
    "# 선형 회귀 모델: 특성에 곱해지는 계수의 크기를 작게 줄임\n",
    "\n",
    "# L1 규제 (L1 Regularization)\n",
    "# 계수(가중치)의 합을 더한 값에 규제 강도를 곱하여 오차에 더함\n",
    "# 어떤 가중치는 0이 됨\n",
    "\n",
    "# L2 규제 (L2 Regularization)\n",
    "# 각 계수(가중치) 제곱의 합에 규제 강도를 곱함\n",
    "# 규제 강도를 크게 하면 가중치가 더 감소(규제 강화),\n",
    "# 규제 강도를 작게 하면 가중치가 증가\n",
    "\n",
    "# 규제 전에 표준화 과정이 필요\n",
    "# 각 특성의 크기(스케일)가 다르기 때문에 표준화 과정이 필요\n",
    "# StandardScaler 클래스 사용"
   ]
  },
  {
   "cell_type": "code",
   "execution_count": 560,
   "id": "3fd3d856",
   "metadata": {},
   "outputs": [],
   "source": [
    "# 표준화\n",
    "# StandardScaler 클래스를 사용한 표준화\n",
    "# 평균과 표준 편차 사용\n",
    "# fit(), transform() 사용\n",
    "from sklearn.preprocessing import StandardScaler\n",
    "\n",
    "ss = StandardScaler()\n",
    "ss.fit(train_poly)\n",
    "train_scaled = ss.transform(train_poly)\n",
    "test_scaled = ss.transform(test_poly)"
   ]
  },
  {
   "cell_type": "code",
   "execution_count": 561,
   "id": "2e477ecd",
   "metadata": {},
   "outputs": [],
   "source": [
    "# 규제 모델\n",
    "# 릿지(Ridge) 모델: L2 regularization\n",
    "# 계수를 제곱한 값을 기준으로 규제\n",
    "# 특성의 중요도가 전체적으로 비슷한 경우 사용\n",
    "\n",
    "# 라쏘(Lasso) 모델: L1 regularization\n",
    "# 계수(가중치)의 절대값을 기준으로 규제\n",
    "# 여러 특성 중 일부분만 중요한 경우 사용"
   ]
  },
  {
   "cell_type": "code",
   "execution_count": 562,
   "id": "fc58f33e",
   "metadata": {},
   "outputs": [
    {
     "name": "stdout",
     "output_type": "stream",
     "text": [
      "0.9896101671037343\n"
     ]
    }
   ],
   "source": [
    "# 릿지 회귀\n",
    "# 릿지 회귀\n",
    "# sklearn.linear_model 패키지\n",
    "# fit()로 훈련, score() 메소드로 평가\n",
    "# Ridge(alpha=1.0)\n",
    "# alpha값이 크면 규제 강도가 세짐(계수 값을 더 줄임)\n",
    "from sklearn.linear_model import Ridge\n",
    "\n",
    "ridge = Ridge()  # alpha=1.0\n",
    "ridge.fit(train_scaled, train_target)\n",
    "print(ridge.score(train_scaled, train_target))  # 훈련 세트 점수 확인"
   ]
  },
  {
   "cell_type": "code",
   "execution_count": 563,
   "id": "ba0d149e",
   "metadata": {},
   "outputs": [
    {
     "name": "stdout",
     "output_type": "stream",
     "text": [
      "0.9790693977615386\n"
     ]
    }
   ],
   "source": [
    "# 테스트 세트의 점수가 정상으로 돌아옴\n",
    "print(ridge.score(test_scaled, test_target))"
   ]
  },
  {
   "cell_type": "code",
   "execution_count": 564,
   "id": "90cba76a",
   "metadata": {},
   "outputs": [
    {
     "data": {
      "image/png": "[encoded data removed]",
      "text/plain": [
       "<Figure size 432x288 with 1 Axes>"
      ]
     },
     "metadata": {
      "needs_background": "light"
     },
     "output_type": "display_data"
    }
   ],
   "source": [
    "# 릿지 회귀: 적절한 규제 강도 찾기\n",
    "# 적절한 alpha 값 찾기\n",
    "# alpha 값을 변경하면서 결정 계수(R^2)의 값을 비교\n",
    "# alpha=0.1 (-1은 log 적용 10^-1)일 때, 두 그래프가 가장 가까움\n",
    "# 적절한 alpha값 찾기\n",
    "import matplotlib.pyplot as plt\n",
    "train_score = []\n",
    "test_score = []\n",
    "\n",
    "alpha_list = [0.001, 0.01, 0.1, 1, 10, 100]\n",
    "for alpha in alpha_list:\n",
    "    ridge = Ridge(alpha=alpha)\n",
    "    ridge.fit(train_scaled, train_target)\n",
    "    # 훈련 세트와 테스트 세트 점수를 저장\n",
    "    train_score.append(ridge.score(train_scaled, train_target))\n",
    "    test_score.append(ridge.score(test_scaled, test_target))\n",
    "    \n",
    "plt.plot(np.log10(alpha_list), train_score,\n",
    "        label='train_set score', marker='o', markersize=3)\n",
    "plt.plot(np.log10(alpha_list), test_score,\n",
    "        label='test_set score', marker='s', markersize=3)\n",
    "plt.xlabel('alpha')\n",
    "plt.ylabel('R^2')\n",
    "plt.legend()\n",
    "plt.show()   # 10^-3: 과대 적합, 10^-1: 적합"
   ]
  },
  {
   "cell_type": "code",
   "execution_count": 565,
   "id": "ab65c43c",
   "metadata": {},
   "outputs": [
    {
     "name": "stdout",
     "output_type": "stream",
     "text": [
      "0.9903815817570368\n",
      "0.9827976465386896\n"
     ]
    }
   ],
   "source": [
    "# 릿지 회귀: 최적의 alpha 적용\n",
    "# alpha=0.1 적용시 점수 확인\n",
    "# alpha=0.1 적용\n",
    "ridge = Ridge(alpha=0.1)\n",
    "ridge.fit(train_scaled, train_target)\n",
    "\n",
    "print(ridge.score(train_scaled, train_target))\n",
    "print(ridge.score(test_scaled, test_target))"
   ]
  },
  {
   "cell_type": "code",
   "execution_count": 566,
   "id": "e5d99e53",
   "metadata": {},
   "outputs": [
    {
     "name": "stdout",
     "output_type": "stream",
     "text": [
      "0.989789897208096\n"
     ]
    }
   ],
   "source": [
    "# 라쏘(Lasso) 회귀\n",
    "# 라쏘 회귀\n",
    "# 불필요한 계수를 급격히 감소, 0으로 만들어 제거\n",
    "# sklearn.linear_model 패키지\n",
    "# fit()로 훈련, score()메소드로 평가\n",
    "# Lasso(alpha=1.0)\n",
    "# alpha값이 크면 규제 강도가 세짐 (계수 값을 더 줄임)\n",
    "# alpha=0.0: 기존 선형 회귀와 동일\n",
    "from sklearn.linear_model import Lasso\n",
    "\n",
    "lasso = Lasso()\n",
    "lasso.fit(train_scaled, train_target)\n",
    "print(lasso.score(train_scaled, train_target))"
   ]
  },
  {
   "cell_type": "code",
   "execution_count": 567,
   "id": "514cad78",
   "metadata": {},
   "outputs": [
    {
     "name": "stdout",
     "output_type": "stream",
     "text": [
      "0.9800593698421884\n"
     ]
    }
   ],
   "source": [
    "print(lasso.score(test_scaled, test_target))"
   ]
  },
  {
   "cell_type": "code",
   "execution_count": 572,
   "id": "2d6b782e",
   "metadata": {},
   "outputs": [
    {
     "data": {
      "image/png": "[encoded data removed]",
      "text/plain": [
       "<Figure size 432x288 with 1 Axes>"
      ]
     },
     "metadata": {
      "needs_background": "light"
     },
     "output_type": "display_data"
    }
   ],
   "source": [
    "# 라쏘 회귀: 적절한 규제 강도 찾기\n",
    "# 적절한 alpha 값 찾기\n",
    "# alpha 값을 변경하면서 결정 계수(R^2)의 값을 비교\n",
    "# alpha=10일 때, 최적 (10^1=10)\n",
    "train_score = []\n",
    "test_score = []\n",
    "\n",
    "alpha_list = [0.001, 0.01, 0.1, 1, 10, 100]\n",
    "for alpha in alpha_list:\n",
    "    # 라쏘 모델을 만듭니다\n",
    "    lasso = Lasso(alpha=alpha, max_iter=100000000)  # 경고뜨면 max_iter(학습 횟수?) 값을 올리면 됨\n",
    "    # 라쏘 모델을 훈련합니다\n",
    "    lasso.fit(train_scaled, train_target)\n",
    "    # 훈련 점수와 테스트 점수를 저장합니다.\n",
    "    train_score.append(lasso.score(train_scaled, train_target))\n",
    "    test_score.append(lasso.score(test_scaled, test_target))\n",
    "    \n",
    "plt.plot(np.log10(alpha_list), train_score,\n",
    "        label='train_set score', marker='o', markersize=3)\n",
    "plt.plot(np.log10(alpha_list), test_score,\n",
    "        label='test_set score', marker='s', markersize=3)\n",
    "plt.xlabel('alpha')\n",
    "plt.ylabel('R^2')\n",
    "plt.legend()\n",
    "plt.show()\n",
    "# 10^1: 최적"
   ]
  },
  {
   "cell_type": "code",
   "execution_count": 573,
   "id": "fe078b2c",
   "metadata": {},
   "outputs": [
    {
     "name": "stdout",
     "output_type": "stream",
     "text": [
      "0.9888067471131867\n",
      "0.9824470598706695\n"
     ]
    }
   ],
   "source": [
    "# 라쏘 회귀: 최적의 alpha적용\n",
    "# alpha=10\n",
    "lasso = Lasso(alpha=10)\n",
    "lasso.fit(train_scaled, train_target)\n",
    "\n",
    "print(lasso.score(train_scaled, train_target))\n",
    "print(lasso.score(test_scaled, test_target))"
   ]
  },
  {
   "cell_type": "markdown",
   "id": "cddaa3cb",
   "metadata": {},
   "source": [
    "## 참고자료"
   ]
  },
  {
   "cell_type": "code",
   "execution_count": 574,
   "id": "2eefc02b",
   "metadata": {},
   "outputs": [],
   "source": [
    "# 표준화, 정규화 차이\n",
    "# 피처 스케일링\n",
    "# 서로 다른 변수의 값 범위를 일정한 수준으로 맞추는 작업\n",
    "\n",
    "# 표준화(Standardization)\n",
    "# Z-score: 평균(뮤)이 0이고, 표준편차(시그마) 1인 정규분포 생성\n",
    "# 이상치(outlier)를 파악\n",
    "# 선형 회귀는 데이터가 정규 분포를 가진다는 가정하에 구현되어 있음\n",
    "# StandardScaler 클래스 사용\n",
    "# Z = 특성값 - 평균 / 표준편차\n",
    "\n",
    "# 정규화(Normalization)\n",
    "# 모든 값을 0~1 사이의 값으로 바꿈\n",
    "# 특성들의 크기가 다를 때 크기를 통일하기 위해 사용\n",
    "# MinMaxScaler 클래스 사용\n",
    "# x' = x - x_min / x_max - x_min (x_max:최대값, x_min:최소값)"
   ]
  }
 ],
 "metadata": {
  "kernelspec": {
   "display_name": "Python 3 (ipykernel)",
   "language": "python",
   "name": "python3"
  },
  "language_info": {
   "codemirror_mode": {
    "name": "ipython",
    "version": 3
   },
   "file_extension": ".py",
   "mimetype": "text/x-python",
   "name": "python",
   "nbconvert_exporter": "python",
   "pygments_lexer": "ipython3",
   "version": "3.9.12"
  }
 },
 "nbformat": 4,
 "nbformat_minor": 5
}
