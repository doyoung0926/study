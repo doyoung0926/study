{
 "cells": [
  {
   "cell_type": "markdown",
   "id": "845dd2d2",
   "metadata": {},
   "source": [
    "# 모델 저장과 복원\n",
    "---\n",
    "- 방법1) 모델 전체 저장(모델구조 + 가중치 + 변수)\n",
    "    * save_model()\n",
    "    * 복원시 추가 작업 필요 없이 모델 파일 로딩해서 사용 가능\n",
    "- 방법2) 가중치만 저장\n",
    "    * save_weights()\n",
    "    * 복원시 모델 구조(Architecture) 생성 후 가중치 적용\n",
    "- 방법3) 모델 전체 또는 가중치 자동 저장\n",
    "    * fit()에서 ModelCheckPoint Event에 대한 callback 등록\n",
    "    * save_best_only=True : 모니터링 기준에 따라서 좋은 성능의 모델만 저장\n",
    "    * save_weights_only=True : 가중치만 저장\n",
    "- 파일 또는 폴더\n",
    "    * 파일 확장자가 없으면 폴더로 저장\n",
    "    * 파일 확장자\n",
    "        - h5 / hdf5 : HDF5 포맷으로 모델 또는 가중치 저장\n",
    "        - ckpf : 체크파일형태로 저장\n",
    "        - pd : 모델 저장"
   ]
  },
  {
   "cell_type": "markdown",
   "id": "8a4b7040",
   "metadata": {},
   "source": [
    "## [1] 데이터 준비"
   ]
  },
  {
   "cell_type": "code",
   "execution_count": 69,
   "id": "e682b29e",
   "metadata": {},
   "outputs": [],
   "source": [
    "from sklearn.datasets import load_iris\n",
    "from tensorflow.keras import Sequential\n",
    "from tensorflow.keras.layers import Dense\n",
    "from tensorflow.keras.utils import set_random_seed, plot_model\n",
    "import numpy as np"
   ]
  },
  {
   "cell_type": "markdown",
   "id": "c88a0604",
   "metadata": {},
   "source": [
    "## [1] 데이터 준비 및 로딩\n",
    "---"
   ]
  },
  {
   "cell_type": "code",
   "execution_count": 70,
   "id": "ff2cf119",
   "metadata": {},
   "outputs": [],
   "source": [
    "iris=load_iris()"
   ]
  },
  {
   "cell_type": "code",
   "execution_count": 71,
   "id": "39dea163",
   "metadata": {},
   "outputs": [
    {
     "name": "stdout",
     "output_type": "stream",
     "text": [
      "x_train.shape : (150, 4), y_train.shape : (150,)\n"
     ]
    }
   ],
   "source": [
    "x_train=iris.data\n",
    "y_train=iris.target\n",
    "\n",
    "print(f'x_train.shape : {x_train.shape}, y_train.shape : {y_train.shape}')"
   ]
  },
  {
   "cell_type": "code",
   "execution_count": 72,
   "id": "530c7a0c",
   "metadata": {},
   "outputs": [
    {
     "data": {
      "text/plain": [
       "(array(['setosa', 'versicolor', 'virginica'], dtype='<U10'),\n",
       " ['sepal length (cm)',\n",
       "  'sepal width (cm)',\n",
       "  'petal length (cm)',\n",
       "  'petal width (cm)'])"
      ]
     },
     "execution_count": 72,
     "metadata": {},
     "output_type": "execute_result"
    }
   ],
   "source": [
    "iris.target_names, iris.feature_names"
   ]
  },
  {
   "cell_type": "code",
   "execution_count": 73,
   "id": "8bd36e25",
   "metadata": {},
   "outputs": [
    {
     "data": {
      "text/plain": [
       "(150, 2)"
      ]
     },
     "execution_count": 73,
     "metadata": {},
     "output_type": "execute_result"
    }
   ],
   "source": [
    "# Feature => 꽃잎의 길이, 너비\n",
    "x_train=x_train[:, 2:]\n",
    "x_train.shape"
   ]
  },
  {
   "cell_type": "code",
   "execution_count": 74,
   "id": "8c0e1eea",
   "metadata": {},
   "outputs": [],
   "source": [
    "# Target => 문자 => 수치화\n",
    "from sklearn.preprocessing import LabelEncoder, OneHotEncoder"
   ]
  },
  {
   "cell_type": "code",
   "execution_count": 75,
   "id": "c6c25a76",
   "metadata": {},
   "outputs": [],
   "source": [
    "lencoder = LabelEncoder()\n",
    "y_train=lencoder.fit(y_train).transform(y_train)"
   ]
  },
  {
   "cell_type": "code",
   "execution_count": 76,
   "id": "b5b55ffa",
   "metadata": {},
   "outputs": [],
   "source": [
    "ohencoder=OneHotEncoder()\n",
    "y_train=ohencoder.fit(y_train.reshape(-1,1)).transform(y_train.reshape(-1,1))"
   ]
  },
  {
   "cell_type": "code",
   "execution_count": 77,
   "id": "249238e1",
   "metadata": {},
   "outputs": [],
   "source": [
    "y_train=y_train.toarray()"
   ]
  },
  {
   "cell_type": "code",
   "execution_count": 78,
   "id": "124379a7",
   "metadata": {},
   "outputs": [
    {
     "data": {
      "text/plain": [
       "((150, 2), (150, 3), array([1., 0., 0.]))"
      ]
     },
     "execution_count": 78,
     "metadata": {},
     "output_type": "execute_result"
    }
   ],
   "source": [
    "x_train.shape, y_train.shape, y_train[0]"
   ]
  },
  {
   "cell_type": "code",
   "execution_count": 79,
   "id": "64b150d6",
   "metadata": {},
   "outputs": [],
   "source": [
    "from sklearn.preprocessing import StandardScaler"
   ]
  },
  {
   "cell_type": "code",
   "execution_count": 80,
   "id": "e5a9c065",
   "metadata": {},
   "outputs": [],
   "source": [
    "scaler=StandardScaler()"
   ]
  },
  {
   "cell_type": "code",
   "execution_count": 81,
   "id": "3e0b0fa3",
   "metadata": {},
   "outputs": [],
   "source": [
    "x_scaled_train=scaler.fit(x_train).transform(x_train)"
   ]
  },
  {
   "cell_type": "code",
   "execution_count": 82,
   "id": "448ded84",
   "metadata": {},
   "outputs": [],
   "source": [
    "from sklearn.model_selection import train_test_split"
   ]
  },
  {
   "cell_type": "code",
   "execution_count": 83,
   "id": "eeafd283",
   "metadata": {},
   "outputs": [],
   "source": [
    "x_train, x_test, y_train, y_test = train_test_split(x_scaled_train,\n",
    "                                                    y_train,\n",
    "                                                    stratify=y_train)"
   ]
  },
  {
   "cell_type": "code",
   "execution_count": 84,
   "id": "0b29aedf",
   "metadata": {},
   "outputs": [],
   "source": [
    "x_train, x_val, y_train, y_val = train_test_split(x_train, y_train)"
   ]
  },
  {
   "cell_type": "code",
   "execution_count": 85,
   "id": "47ecbd59",
   "metadata": {},
   "outputs": [
    {
     "name": "stdout",
     "output_type": "stream",
     "text": [
      "x_train.shape : (84, 2)\n",
      "x_test.shape : (38, 2)\n",
      "x_val.shape : (28, 2)\n"
     ]
    }
   ],
   "source": [
    "print(f'x_train.shape : {x_train.shape}')\n",
    "print(f'x_test.shape : {x_test.shape}')\n",
    "print(f'x_val.shape : {x_val.shape}')"
   ]
  },
  {
   "cell_type": "markdown",
   "id": "dd37b81c",
   "metadata": {},
   "source": [
    "## [3] 모델 구성 및 생성\n",
    "---\n",
    "- 입력 데이터 : 2개 Feature\n",
    "- 출력 데이터 : 3개 품종\n",
    "- 학습 방법 : 분류 - 다중분류"
   ]
  },
  {
   "cell_type": "code",
   "execution_count": 86,
   "id": "26a24ce9",
   "metadata": {},
   "outputs": [],
   "source": [
    "# W,b 초기값 고정\n",
    "set_random_seed(15)"
   ]
  },
  {
   "cell_type": "code",
   "execution_count": 87,
   "id": "e659d5eb",
   "metadata": {},
   "outputs": [],
   "source": [
    "irisModel=Sequential(name='irisModel')"
   ]
  },
  {
   "cell_type": "code",
   "execution_count": 88,
   "id": "ba2c20b8",
   "metadata": {},
   "outputs": [],
   "source": [
    "irisModel.add(Dense(9, activation='relu', input_shape=(2,)))"
   ]
  },
  {
   "cell_type": "code",
   "execution_count": 89,
   "id": "9df67a7d",
   "metadata": {},
   "outputs": [],
   "source": [
    "irisModel.add(Dense(3, activation='softmax'))"
   ]
  },
  {
   "cell_type": "code",
   "execution_count": 90,
   "id": "31a63593",
   "metadata": {},
   "outputs": [
    {
     "name": "stdout",
     "output_type": "stream",
     "text": [
      "Model: \"irisModel\"\n",
      "_________________________________________________________________\n",
      " Layer (type)                Output Shape              Param #   \n",
      "=================================================================\n",
      " dense (Dense)               (None, 9)                 27        \n",
      "                                                                 \n",
      " dense_1 (Dense)             (None, 3)                 30        \n",
      "                                                                 \n",
      "=================================================================\n",
      "Total params: 57\n",
      "Trainable params: 57\n",
      "Non-trainable params: 0\n",
      "_________________________________________________________________\n"
     ]
    }
   ],
   "source": [
    "irisModel.summary()"
   ]
  },
  {
   "cell_type": "code",
   "execution_count": 91,
   "id": "63d30a95",
   "metadata": {},
   "outputs": [
    {
     "data": {
      "image/png": "[encoded data removed]",
      "text/plain": [
       "<IPython.core.display.Image object>"
      ]
     },
     "execution_count": 91,
     "metadata": {},
     "output_type": "execute_result"
    }
   ],
   "source": [
    "plot_model(irisModel, show_shapes=True)"
   ]
  },
  {
   "cell_type": "code",
   "execution_count": 92,
   "id": "be2b57d3",
   "metadata": {},
   "outputs": [],
   "source": [
    "## 모델 생성\n",
    "irisModel.compile(loss='categorical_crossentropy',\n",
    "                  optimizer='adam',\n",
    "                  metrics='accuracy')"
   ]
  },
  {
   "cell_type": "markdown",
   "id": "fbe150a0",
   "metadata": {},
   "source": [
    "## [4] 모델 학습"
   ]
  },
  {
   "cell_type": "code",
   "execution_count": 93,
   "id": "eaf049ca",
   "metadata": {},
   "outputs": [
    {
     "data": {
      "text/plain": [
       "<keras.callbacks.History at 0x19d9855db50>"
      ]
     },
     "execution_count": 93,
     "metadata": {},
     "output_type": "execute_result"
    }
   ],
   "source": [
    "irisModel.fit(x_train, y_train, epochs=1000, verbose=False)"
   ]
  },
  {
   "cell_type": "code",
   "execution_count": 94,
   "id": "f0be0357",
   "metadata": {},
   "outputs": [
    {
     "name": "stdout",
     "output_type": "stream",
     "text": [
      "2/2 [==============================] - 1s 17ms/step - loss: 0.1284 - accuracy: 0.9211\n"
     ]
    }
   ],
   "source": [
    "## [5] 평가\n",
    "lossv, accv=irisModel.evaluate(x_test, y_test)"
   ]
  },
  {
   "cell_type": "markdown",
   "id": "e729195a",
   "metadata": {},
   "source": [
    "## [6] 모델 저장"
   ]
  },
  {
   "cell_type": "code",
   "execution_count": 95,
   "id": "020658aa",
   "metadata": {},
   "outputs": [],
   "source": [
    "from tensorflow.keras.models import save_model"
   ]
  },
  {
   "cell_type": "code",
   "execution_count": 96,
   "id": "f4c5e2c8",
   "metadata": {},
   "outputs": [],
   "source": [
    "M_FILE='irisModel.h5'\n",
    "W_FILE='irisWeight.h5'"
   ]
  },
  {
   "cell_type": "code",
   "execution_count": 97,
   "id": "36489b39",
   "metadata": {},
   "outputs": [],
   "source": [
    "if accv>=0.97:\n",
    "    save_model(irisModel, M_FILE)\n",
    "    irisModel.save_weights(W_FILE)"
   ]
  },
  {
   "cell_type": "markdown",
   "id": "f2f68120",
   "metadata": {},
   "source": [
    "## [7] 복원\n",
    "---\n",
    "- 모델 또는 가중치 복원\n",
    "- load_model(모델 파일 또는 모델 폴더명)\n",
    "- Sequential.load_weights(가중치 파일 또는 폴더명)"
   ]
  },
  {
   "cell_type": "markdown",
   "id": "3fef814b",
   "metadata": {},
   "source": [
    "### [7-1] 모델 복원"
   ]
  },
  {
   "cell_type": "code",
   "execution_count": 98,
   "id": "be3ae8fb",
   "metadata": {},
   "outputs": [],
   "source": [
    "from tensorflow.keras.models import load_model"
   ]
  },
  {
   "cell_type": "code",
   "execution_count": 99,
   "id": "f6d806c7",
   "metadata": {},
   "outputs": [],
   "source": [
    "reModel=load_model(M_FILE)"
   ]
  },
  {
   "cell_type": "code",
   "execution_count": 100,
   "id": "1bc88098",
   "metadata": {},
   "outputs": [
    {
     "name": "stdout",
     "output_type": "stream",
     "text": [
      "2/2 [==============================] - 1s 5ms/step - loss: 0.1189 - accuracy: 0.9211\n"
     ]
    },
    {
     "data": {
      "text/plain": [
       "[0.11889485269784927, 0.9210526347160339]"
      ]
     },
     "execution_count": 100,
     "metadata": {},
     "output_type": "execute_result"
    }
   ],
   "source": [
    "reModel.evaluate(x_test, y_test)"
   ]
  },
  {
   "cell_type": "code",
   "execution_count": 101,
   "id": "e03a4c41",
   "metadata": {},
   "outputs": [
    {
     "name": "stdout",
     "output_type": "stream",
     "text": [
      "Model: \"irisModel\"\n",
      "_________________________________________________________________\n",
      " Layer (type)                Output Shape              Param #   \n",
      "=================================================================\n",
      " dense_24 (Dense)            (None, 9)                 27        \n",
      "                                                                 \n",
      " dense_25 (Dense)            (None, 3)                 30        \n",
      "                                                                 \n",
      "=================================================================\n",
      "Total params: 57\n",
      "Trainable params: 57\n",
      "Non-trainable params: 0\n",
      "_________________________________________________________________\n"
     ]
    }
   ],
   "source": [
    "reModel.summary()"
   ]
  },
  {
   "cell_type": "markdown",
   "id": "c17c515d",
   "metadata": {},
   "source": [
    "### [7-2] 가중치 복원\n",
    "---\n",
    "- 모델 구조 생성\n",
    "- 가중치 로딩"
   ]
  },
  {
   "cell_type": "code",
   "execution_count": 102,
   "id": "e851ac3b",
   "metadata": {},
   "outputs": [
    {
     "name": "stdout",
     "output_type": "stream",
     "text": [
      "Model: \"newirisModel\"\n",
      "_________________________________________________________________\n",
      " Layer (type)                Output Shape              Param #   \n",
      "=================================================================\n",
      " dense_2 (Dense)             (None, 9)                 27        \n",
      "                                                                 \n",
      " dense_3 (Dense)             (None, 3)                 30        \n",
      "                                                                 \n",
      "=================================================================\n",
      "Total params: 57\n",
      "Trainable params: 57\n",
      "Non-trainable params: 0\n",
      "_________________________________________________________________\n"
     ]
    }
   ],
   "source": [
    "# 모델 구조 구성\n",
    "newModel=Sequential(name='newirisModel')\n",
    "newModel.add(Dense(9, activation='relu', input_shape=(2,)))\n",
    "newModel.add(Dense(3, activation='softmax'))\n",
    "newModel.summary()"
   ]
  },
  {
   "cell_type": "code",
   "execution_count": 103,
   "id": "7266bb66",
   "metadata": {},
   "outputs": [],
   "source": [
    "# 모델 생성\n",
    "newModel.compile(loss='categorical_crossentropy',\n",
    "                 optimizer='adam',\n",
    "                 metrics='accuracy')"
   ]
  },
  {
   "cell_type": "code",
   "execution_count": 104,
   "id": "a218d8dc",
   "metadata": {},
   "outputs": [],
   "source": [
    "# 가중치 로딩\n",
    "newModel.load_weights(W_FILE)"
   ]
  },
  {
   "cell_type": "code",
   "execution_count": 105,
   "id": "92643180",
   "metadata": {
    "scrolled": true
   },
   "outputs": [
    {
     "name": "stdout",
     "output_type": "stream",
     "text": [
      "2/2 [==============================] - 1s 6ms/step - loss: 0.1189 - accuracy: 0.9211\n"
     ]
    },
    {
     "data": {
      "text/plain": [
       "[0.11889485269784927, 0.9210526347160339]"
      ]
     },
     "execution_count": 105,
     "metadata": {},
     "output_type": "execute_result"
    }
   ],
   "source": [
    "newModel.evaluate(x_test, y_test)"
   ]
  },
  {
   "cell_type": "markdown",
   "id": "1e243e40",
   "metadata": {},
   "source": [
    "# AutoEncode 노이즈 제거\n",
    "---\n",
    "- 데이터에 노이즈 제거 활용\n",
    "- 데이터에서 주요 특징만 추출 압축하기 때문에 노이즈는 주요 특징에서 제거\n",
    "- 압축된 주요 특징으로 데이터 복원 => 노이즈 제거"
   ]
  },
  {
   "cell_type": "code",
   "execution_count": 106,
   "id": "0806c7ed",
   "metadata": {},
   "outputs": [],
   "source": [
    "from tensorflow.keras.datasets.mnist import load_data\n",
    "from tensorflow.keras.utils import set_random_seed, plot_model\n",
    "from tensorflow.keras import Sequential\n",
    "from tensorflow.keras.layers import Dense, Conv2D, MaxPool2D\n",
    "import numpy as np\n",
    "import matplotlib.pyplot as plt"
   ]
  },
  {
   "cell_type": "markdown",
   "id": "d1a81117",
   "metadata": {},
   "source": [
    "## [1] 데이터 준비 및 로딩"
   ]
  },
  {
   "cell_type": "code",
   "execution_count": 107,
   "id": "da26228a",
   "metadata": {},
   "outputs": [],
   "source": [
    "(x_train, y_train), (x_test, y_test) = load_data()"
   ]
  },
  {
   "cell_type": "code",
   "execution_count": 108,
   "id": "8061d640",
   "metadata": {},
   "outputs": [
    {
     "data": {
      "text/plain": [
       "((60000, 28, 28), (60000,))"
      ]
     },
     "execution_count": 108,
     "metadata": {},
     "output_type": "execute_result"
    }
   ],
   "source": [
    "x_train.shape, y_train.shape"
   ]
  },
  {
   "cell_type": "markdown",
   "id": "3492261a",
   "metadata": {},
   "source": [
    "## [2] 데이터 전처리"
   ]
  },
  {
   "cell_type": "code",
   "execution_count": 109,
   "id": "dd1a8a31",
   "metadata": {},
   "outputs": [],
   "source": [
    "x_train=x_train.reshape(-1, 28*28)/255.0"
   ]
  },
  {
   "cell_type": "code",
   "execution_count": 110,
   "id": "53f7f1f1",
   "metadata": {},
   "outputs": [
    {
     "data": {
      "text/plain": [
       "array([[0., 0., 0., ..., 0., 0., 0.],\n",
       "       [0., 0., 0., ..., 0., 0., 0.]])"
      ]
     },
     "execution_count": 110,
     "metadata": {},
     "output_type": "execute_result"
    }
   ],
   "source": [
    "x_train[:2]"
   ]
  },
  {
   "cell_type": "code",
   "execution_count": 111,
   "id": "393f80da",
   "metadata": {},
   "outputs": [],
   "source": [
    "x_test=x_test.reshape(-1, 28*28)/255.0"
   ]
  },
  {
   "cell_type": "code",
   "execution_count": 112,
   "id": "fec9590b",
   "metadata": {},
   "outputs": [
    {
     "data": {
      "text/plain": [
       "array([[0., 0., 0., ..., 0., 0., 0.],\n",
       "       [0., 0., 0., ..., 0., 0., 0.]])"
      ]
     },
     "execution_count": 112,
     "metadata": {},
     "output_type": "execute_result"
    }
   ],
   "source": [
    "x_test[:2]"
   ]
  },
  {
   "cell_type": "code",
   "execution_count": 113,
   "id": "6c999193",
   "metadata": {},
   "outputs": [
    {
     "name": "stdout",
     "output_type": "stream",
     "text": [
      "(60000, 784) (10000, 784)\n"
     ]
    }
   ],
   "source": [
    "print(x_train.shape, x_test.shape)"
   ]
  },
  {
   "cell_type": "code",
   "execution_count": 114,
   "id": "f0daa5ae",
   "metadata": {},
   "outputs": [],
   "source": [
    "# 데이터셋에서 노이즈 추가\n",
    "# np.random.normal(평균loc=0.0, 표준편차scale=1.0, 출력size=None)\n",
    "x_train_noised = x_train + np.random.normal(0, 0.5, size=x_train.shape)\n",
    "x_test_noised = x_test + np.random.normal(0, 0.5, size=x_test.shape)\n",
    "\n",
    "# 픽셀 범위 0.0~1.0 벗어나는 픽셀값 조정 np.clip(array, min, max)\n",
    "x_train_noised = np.clip(x_train_noised, a_min=0, a_max=1)\n",
    "x_test_noised = np.clip(x_test_noised, a_min=0, a_max=1)"
   ]
  },
  {
   "cell_type": "code",
   "execution_count": 115,
   "id": "ec52cf93",
   "metadata": {},
   "outputs": [
    {
     "data": {
      "image/png": "[encoded data removed]",
      "text/plain": [
       "<Figure size 432x288 with 1 Axes>"
      ]
     },
     "metadata": {
      "needs_background": "light"
     },
     "output_type": "display_data"
    }
   ],
   "source": [
    "plt.imshow(x_train[0].reshape(28, 28), cmap='gray')\n",
    "plt.show()"
   ]
  },
  {
   "cell_type": "code",
   "execution_count": 116,
   "id": "1c8b7634",
   "metadata": {},
   "outputs": [
    {
     "data": {
      "image/png": "[encoded data removed]",
      "text/plain": [
       "<Figure size 432x288 with 1 Axes>"
      ]
     },
     "metadata": {
      "needs_background": "light"
     },
     "output_type": "display_data"
    }
   ],
   "source": [
    "plt.imshow(x_train_noised[0].reshape(28,28), cmap='gray')\n",
    "plt.show()"
   ]
  },
  {
   "cell_type": "markdown",
   "id": "6f635e00",
   "metadata": {},
   "source": [
    "## [3] 모델 구성 및 생성"
   ]
  },
  {
   "cell_type": "code",
   "execution_count": 117,
   "id": "864313d1",
   "metadata": {},
   "outputs": [],
   "source": [
    "# W,b 초기값 고정\n",
    "set_random_seed(11)"
   ]
  },
  {
   "cell_type": "code",
   "execution_count": 118,
   "id": "92f7ab24",
   "metadata": {},
   "outputs": [],
   "source": [
    "def createAEModel(n_node):\n",
    "    model=Sequential()\n",
    "    # 입력\n",
    "    model.add(Dense(units=n_node, activation='relu', input_shape=(784,)))\n",
    "    # 출력\n",
    "    model.add(Dense(784, activation='sigmoid'))\n",
    "    model.compile(loss='mean_squared_error', optimizer='adam')\n",
    "    return model"
   ]
  },
  {
   "cell_type": "code",
   "execution_count": 119,
   "id": "346451db",
   "metadata": {},
   "outputs": [],
   "source": [
    "oneModel=createAEModel(1)\n",
    "tenModel=createAEModel(10)\n",
    "thirtyModel=createAEModel(30)\n",
    "fiftyModel=createAEModel(50)"
   ]
  },
  {
   "cell_type": "code",
   "execution_count": 120,
   "id": "90bcf374",
   "metadata": {},
   "outputs": [
    {
     "name": "stdout",
     "output_type": "stream",
     "text": [
      "Model: \"sequential_10\"\n",
      "_________________________________________________________________\n",
      " Layer (type)                Output Shape              Param #   \n",
      "=================================================================\n",
      " dense_4 (Dense)             (None, 1)                 785       \n",
      "                                                                 \n",
      " dense_5 (Dense)             (None, 784)               1568      \n",
      "                                                                 \n",
      "=================================================================\n",
      "Total params: 2,353\n",
      "Trainable params: 2,353\n",
      "Non-trainable params: 0\n",
      "_________________________________________________________________\n"
     ]
    }
   ],
   "source": [
    "oneModel.summary()"
   ]
  },
  {
   "cell_type": "code",
   "execution_count": 121,
   "id": "f4ed4e96",
   "metadata": {},
   "outputs": [
    {
     "data": {
      "image/png": "[encoded data removed]",
      "text/plain": [
       "<IPython.core.display.Image object>"
      ]
     },
     "execution_count": 121,
     "metadata": {},
     "output_type": "execute_result"
    }
   ],
   "source": [
    "plot_model(oneModel, show_shapes=True)"
   ]
  },
  {
   "cell_type": "markdown",
   "id": "86a19ce7",
   "metadata": {},
   "source": [
    "## [4] 모델 학습"
   ]
  },
  {
   "cell_type": "code",
   "execution_count": 122,
   "id": "cfde5630",
   "metadata": {},
   "outputs": [
    {
     "data": {
      "text/plain": [
       "<keras.callbacks.History at 0x19d9d7330a0>"
      ]
     },
     "execution_count": 122,
     "metadata": {},
     "output_type": "execute_result"
    }
   ],
   "source": [
    "oneModel.fit(x_train_noised, x_train, epochs=30, verbose=0)\n",
    "tenModel.fit(x_train_noised, x_train, epochs=30, verbose=0)\n",
    "thirtyModel.fit(x_train_noised, x_train, epochs=30, verbose=0)\n",
    "fiftyModel.fit(x_train_noised, x_train, epochs=30, verbose=0)"
   ]
  },
  {
   "cell_type": "code",
   "execution_count": 123,
   "id": "eea61c3a",
   "metadata": {},
   "outputs": [
    {
     "data": {
      "text/plain": [
       "(60000, 784)"
      ]
     },
     "execution_count": 123,
     "metadata": {},
     "output_type": "execute_result"
    }
   ],
   "source": [
    "x_train_noised.shape"
   ]
  },
  {
   "cell_type": "code",
   "execution_count": 124,
   "id": "a83f33c7",
   "metadata": {},
   "outputs": [
    {
     "name": "stdout",
     "output_type": "stream",
     "text": [
      "WARNING:tensorflow:5 out of the last 320 calls to <function Model.make_test_function.<locals>.test_function at 0x0000019D9AF96550> triggered tf.function retracing. Tracing is expensive and the excessive number of tracings could be due to (1) creating @tf.function repeatedly in a loop, (2) passing tensors with different shapes, (3) passing Python objects instead of tensors. For (1), please define your @tf.function outside of the loop. For (2), @tf.function has reduce_retracing=True option that can avoid unnecessary retracing. For (3), please refer to https://www.tensorflow.org/guide/function#controlling_retracing and https://www.tensorflow.org/api_docs/python/tf/function for  more details.\n",
      "313/313 [==============================] - 1s 3ms/step - loss: 27.1216\n"
     ]
    },
    {
     "data": {
      "text/plain": [
       "27.12156867980957"
      ]
     },
     "execution_count": 124,
     "metadata": {},
     "output_type": "execute_result"
    }
   ],
   "source": [
    "oneModel.evaluate(x_test, y_test)"
   ]
  },
  {
   "cell_type": "markdown",
   "id": "f403aa83",
   "metadata": {},
   "source": [
    "## [5] 예측\n",
    "---\n",
    "- 새로운 데이터 사용"
   ]
  },
  {
   "cell_type": "code",
   "execution_count": 125,
   "id": "5b1523af",
   "metadata": {},
   "outputs": [
    {
     "name": "stdout",
     "output_type": "stream",
     "text": [
      "WARNING:tensorflow:6 out of the last 8 calls to <function Model.make_predict_function.<locals>.predict_function at 0x0000019D9AF96040> triggered tf.function retracing. Tracing is expensive and the excessive number of tracings could be due to (1) creating @tf.function repeatedly in a loop, (2) passing tensors with different shapes, (3) passing Python objects instead of tensors. For (1), please define your @tf.function outside of the loop. For (2), @tf.function has reduce_retracing=True option that can avoid unnecessary retracing. For (3), please refer to https://www.tensorflow.org/guide/function#controlling_retracing and https://www.tensorflow.org/api_docs/python/tf/function for  more details.\n",
      "1/1 [==============================] - 0s 98ms/step\n",
      "1/1 [==============================] - 0s 97ms/step\n",
      "1/1 [==============================] - 0s 91ms/step\n",
      "1/1 [==============================] - 0s 101ms/step\n"
     ]
    }
   ],
   "source": [
    "pre_out1=oneModel.predict(x_test_noised[0].reshape(-1,784))\n",
    "pre_out10=tenModel.predict(x_test_noised[0].reshape(-1,784))\n",
    "pre_out30=thirtyModel.predict(x_test_noised[0].reshape(-1,784))\n",
    "pre_out50=fiftyModel.predict(x_test_noised[0].reshape(-1,784))"
   ]
  },
  {
   "cell_type": "code",
   "execution_count": 126,
   "id": "befea2ea",
   "metadata": {},
   "outputs": [
    {
     "data": {
      "text/plain": [
       "((784,), (784,))"
      ]
     },
     "execution_count": 126,
     "metadata": {},
     "output_type": "execute_result"
    }
   ],
   "source": [
    " x_test[0].shape, pre_out1[0].shape"
   ]
  },
  {
   "cell_type": "markdown",
   "id": "618082f2",
   "metadata": {},
   "source": [
    "### 원본 이미지 - AE 진행된 이미지 비교"
   ]
  },
  {
   "cell_type": "code",
   "execution_count": 127,
   "id": "9aef3666",
   "metadata": {},
   "outputs": [
    {
     "data": {
      "image/png": "[encoded data removed]",
      "text/plain": [
       "<Figure size 432x288 with 1 Axes>"
      ]
     },
     "metadata": {
      "needs_background": "light"
     },
     "output_type": "display_data"
    }
   ],
   "source": [
    "plt.imshow(x_test[0].reshape(28,28), cmap='gray')\n",
    "plt.show()"
   ]
  },
  {
   "cell_type": "code",
   "execution_count": 128,
   "id": "4969e5d6",
   "metadata": {},
   "outputs": [
    {
     "data": {
      "image/png": "[encoded data removed]",
      "text/plain": [
       "<Figure size 432x288 with 1 Axes>"
      ]
     },
     "metadata": {
      "needs_background": "light"
     },
     "output_type": "display_data"
    }
   ],
   "source": [
    "plt.imshow(pre_out1[0].reshape(28,28), cmap='gray')\n",
    "plt.show()"
   ]
  },
  {
   "cell_type": "code",
   "execution_count": 129,
   "id": "fdde2eca",
   "metadata": {},
   "outputs": [
    {
     "data": {
      "image/png": "[encoded data removed]",
      "text/plain": [
       "<Figure size 432x288 with 1 Axes>"
      ]
     },
     "metadata": {
      "needs_background": "light"
     },
     "output_type": "display_data"
    }
   ],
   "source": [
    "plt.imshow(pre_out10[0].reshape(28,28), cmap='gray')\n",
    "plt.show()"
   ]
  },
  {
   "cell_type": "code",
   "execution_count": 130,
   "id": "908aec73",
   "metadata": {},
   "outputs": [
    {
     "data": {
      "image/png": "[encoded data removed]",
      "text/plain": [
       "<Figure size 432x288 with 1 Axes>"
      ]
     },
     "metadata": {
      "needs_background": "light"
     },
     "output_type": "display_data"
    }
   ],
   "source": [
    "plt.imshow(pre_out30[0].reshape(28,28), cmap='gray')\n",
    "plt.show()"
   ]
  },
  {
   "cell_type": "code",
   "execution_count": 131,
   "id": "286d1c3b",
   "metadata": {},
   "outputs": [
    {
     "data": {
      "image/png": "[encoded data removed]",
      "text/plain": [
       "<Figure size 432x288 with 1 Axes>"
      ]
     },
     "metadata": {
      "needs_background": "light"
     },
     "output_type": "display_data"
    }
   ],
   "source": [
    "plt.imshow(pre_out50[0].reshape(28,28), cmap='gray')\n",
    "plt.show()"
   ]
  },
  {
   "cell_type": "markdown",
   "id": "c0eeb89b",
   "metadata": {},
   "source": [
    "# AutoEncode\n",
    "---\n",
    "- 표현(특징) 학습\n",
    "    * 데이터에서 주요 특징을 찾아 압축 후 복원하는 학습 모델\n",
    "- 구성\n",
    "    * 인코더(Encoder) : 입력 데이터에서 주요 특징 추출 / 압축\n",
    "    * 디코더(Decoder) : 주요 특징에서 원 데이터로 복원"
   ]
  },
  {
   "cell_type": "code",
   "execution_count": 132,
   "id": "ecd81f17",
   "metadata": {},
   "outputs": [],
   "source": [
    "from tensorflow.keras.datasets.mnist import load_data\n",
    "from tensorflow.keras.utils import set_random_seed, plot_model\n",
    "from tensorflow.keras import Sequential\n",
    "from tensorflow.keras.layers import Dense\n",
    "from sklearn.model_selection import train_test_split\n",
    "import numpy as np\n",
    "import matplotlib.pyplot as plt"
   ]
  },
  {
   "cell_type": "markdown",
   "id": "636bf295",
   "metadata": {},
   "source": [
    "## [1] 데이터 준비 및 로딩"
   ]
  },
  {
   "cell_type": "code",
   "execution_count": 133,
   "id": "212231d4",
   "metadata": {},
   "outputs": [],
   "source": [
    "(x_train, y_train), (x_test, y_test) = load_data()"
   ]
  },
  {
   "cell_type": "code",
   "execution_count": 134,
   "id": "6ba51428",
   "metadata": {},
   "outputs": [
    {
     "data": {
      "text/plain": [
       "((60000, 28, 28), (10000, 28, 28))"
      ]
     },
     "execution_count": 134,
     "metadata": {},
     "output_type": "execute_result"
    }
   ],
   "source": [
    "x_train.shape, x_test.shape"
   ]
  },
  {
   "cell_type": "markdown",
   "id": "c5692610",
   "metadata": {},
   "source": [
    "## [2] 데이터 전처리"
   ]
  },
  {
   "cell_type": "code",
   "execution_count": 135,
   "id": "c55f66ea",
   "metadata": {},
   "outputs": [],
   "source": [
    "x_train=x_train.reshape(-1, 28*28)/255.0"
   ]
  },
  {
   "cell_type": "code",
   "execution_count": 136,
   "id": "735bfb79",
   "metadata": {},
   "outputs": [
    {
     "data": {
      "text/plain": [
       "array([[0., 0., 0., ..., 0., 0., 0.],\n",
       "       [0., 0., 0., ..., 0., 0., 0.]])"
      ]
     },
     "execution_count": 136,
     "metadata": {},
     "output_type": "execute_result"
    }
   ],
   "source": [
    "x_train[:2]"
   ]
  },
  {
   "cell_type": "code",
   "execution_count": 137,
   "id": "48031de5",
   "metadata": {},
   "outputs": [],
   "source": [
    "x_test=x_test.reshape(-1, 28*28)/255.0"
   ]
  },
  {
   "cell_type": "code",
   "execution_count": 138,
   "id": "58242591",
   "metadata": {},
   "outputs": [
    {
     "data": {
      "text/plain": [
       "array([[0., 0., 0., ..., 0., 0., 0.],\n",
       "       [0., 0., 0., ..., 0., 0., 0.]])"
      ]
     },
     "execution_count": 138,
     "metadata": {},
     "output_type": "execute_result"
    }
   ],
   "source": [
    "x_test[:2]"
   ]
  },
  {
   "cell_type": "code",
   "execution_count": 139,
   "id": "45f3309f",
   "metadata": {},
   "outputs": [
    {
     "name": "stdout",
     "output_type": "stream",
     "text": [
      "(60000, 784) (10000, 784)\n"
     ]
    }
   ],
   "source": [
    "print(x_train.shape, x_test.shape)"
   ]
  },
  {
   "cell_type": "code",
   "execution_count": 140,
   "id": "5c35bfaf",
   "metadata": {},
   "outputs": [],
   "source": [
    "x_train, x_test, y_train, y_test = train_test_split(x_train, y_train,\n",
    "                                                    random_state=12,\n",
    "                                                    stratify=y_train)"
   ]
  },
  {
   "cell_type": "code",
   "execution_count": 141,
   "id": "de1e658c",
   "metadata": {},
   "outputs": [],
   "source": [
    "x_train, x_val, y_train, y_val = train_test_split(x_train, y_train,\n",
    "                                                  random_state=12,\n",
    "                                                  stratify=y_train)"
   ]
  },
  {
   "cell_type": "code",
   "execution_count": 142,
   "id": "3a8f48fe",
   "metadata": {},
   "outputs": [
    {
     "name": "stdout",
     "output_type": "stream",
     "text": [
      "(33750, 784) (15000, 784) (11250, 784)\n"
     ]
    }
   ],
   "source": [
    "print(x_train.shape, x_test.shape, x_val.shape)"
   ]
  },
  {
   "cell_type": "markdown",
   "id": "57331d47",
   "metadata": {},
   "source": [
    "## [3] 모델 구성 및 생성\n",
    "- 퍼셉트론 개수 조절 노드수 조절할 수 있도록 모델 생성 함수 만들기"
   ]
  },
  {
   "cell_type": "code",
   "execution_count": 143,
   "id": "cbe0a0ed",
   "metadata": {},
   "outputs": [],
   "source": [
    "# W, b 초기값 고정\n",
    "set_random_seed(11)"
   ]
  },
  {
   "cell_type": "code",
   "execution_count": 144,
   "id": "8b6b4a36",
   "metadata": {},
   "outputs": [],
   "source": [
    "def createAEModel(n_node):\n",
    "    model=Sequential()\n",
    "    # 입력\n",
    "    model.add(Dense(units=n_node, activation='relu', input_shape=(784,)))\n",
    "    # 출력\n",
    "    model.add(Dense(784, activation='sigmoid'))\n",
    "    model.compile(loss='mean_squared_error', optimizer='adam')\n",
    "    return model"
   ]
  },
  {
   "cell_type": "code",
   "execution_count": 145,
   "id": "d86f4c36",
   "metadata": {},
   "outputs": [],
   "source": [
    "oneModel=createAEModel(1)\n",
    "fiveModel=createAEModel(5)\n",
    "tenFiveModel=createAEModel(15)\n",
    "hundModel=createAEModel(100)"
   ]
  },
  {
   "cell_type": "code",
   "execution_count": 146,
   "id": "e2557f26",
   "metadata": {},
   "outputs": [
    {
     "name": "stdout",
     "output_type": "stream",
     "text": [
      "Model: \"sequential_14\"\n",
      "_________________________________________________________________\n",
      " Layer (type)                Output Shape              Param #   \n",
      "=================================================================\n",
      " dense_12 (Dense)            (None, 1)                 785       \n",
      "                                                                 \n",
      " dense_13 (Dense)            (None, 784)               1568      \n",
      "                                                                 \n",
      "=================================================================\n",
      "Total params: 2,353\n",
      "Trainable params: 2,353\n",
      "Non-trainable params: 0\n",
      "_________________________________________________________________\n"
     ]
    }
   ],
   "source": [
    "oneModel.summary()"
   ]
  },
  {
   "cell_type": "code",
   "execution_count": 147,
   "id": "019c14b3",
   "metadata": {},
   "outputs": [
    {
     "data": {
      "image/png": "[encoded data removed]",
      "text/plain": [
       "<IPython.core.display.Image object>"
      ]
     },
     "execution_count": 147,
     "metadata": {},
     "output_type": "execute_result"
    }
   ],
   "source": [
    "plot_model(oneModel, show_shapes=True)"
   ]
  },
  {
   "cell_type": "markdown",
   "id": "99e3ecca",
   "metadata": {},
   "source": [
    "## [4] 모델 학습"
   ]
  },
  {
   "cell_type": "code",
   "execution_count": 148,
   "id": "86578e3c",
   "metadata": {},
   "outputs": [
    {
     "data": {
      "text/plain": [
       "<keras.callbacks.History at 0x19d9af51d30>"
      ]
     },
     "execution_count": 148,
     "metadata": {},
     "output_type": "execute_result"
    }
   ],
   "source": [
    "# x 값 모두 입력 데이터\n",
    "oneModel.fit(x_train, x_train, epochs=10, verbose=0)\n",
    "fiveModel.fit(x_train, x_train, epochs=10, verbose=0)\n",
    "tenFiveModel.fit(x_train, x_train, epochs=10, verbose=0)\n",
    "hundModel.fit(x_train, x_train, epochs=10, verbose=0)"
   ]
  },
  {
   "cell_type": "code",
   "execution_count": 149,
   "id": "a0d2df3a",
   "metadata": {},
   "outputs": [
    {
     "name": "stdout",
     "output_type": "stream",
     "text": [
      "469/469 [==============================] - 1s 3ms/step - loss: 0.0629\n"
     ]
    },
    {
     "data": {
      "text/plain": [
       "0.0628964975476265"
      ]
     },
     "execution_count": 149,
     "metadata": {},
     "output_type": "execute_result"
    }
   ],
   "source": [
    "oneModel.evaluate(x_test, x_test)"
   ]
  },
  {
   "cell_type": "markdown",
   "id": "5beaac12",
   "metadata": {},
   "source": [
    "## [5] 예측\n",
    "---\n",
    "- 새로운 데이터 사용"
   ]
  },
  {
   "cell_type": "code",
   "execution_count": 150,
   "id": "183f0574",
   "metadata": {},
   "outputs": [
    {
     "name": "stdout",
     "output_type": "stream",
     "text": [
      "1/1 [==============================] - 0s 108ms/step\n",
      "1/1 [==============================] - 0s 103ms/step\n",
      "1/1 [==============================] - 0s 104ms/step\n",
      "1/1 [==============================] - 0s 106ms/step\n"
     ]
    }
   ],
   "source": [
    "pre_out1=oneModel.predict(x_val[0].reshape(-1,784))\n",
    "pre_out5=fiveModel.predict(x_val[0].reshape(-1,784))\n",
    "pre_out15=tenFiveModel.predict(x_val[0].reshape(-1,784))\n",
    "pre_out100=hundModel.predict(x_val[0].reshape(-1,784))"
   ]
  },
  {
   "cell_type": "code",
   "execution_count": 151,
   "id": "586aef65",
   "metadata": {},
   "outputs": [
    {
     "data": {
      "text/plain": [
       "((784,), (1, 784))"
      ]
     },
     "execution_count": 151,
     "metadata": {},
     "output_type": "execute_result"
    }
   ],
   "source": [
    "x_val[0].shape, pre_out1.shape"
   ]
  },
  {
   "cell_type": "markdown",
   "id": "29fa4ff1",
   "metadata": {},
   "source": [
    "### 원본 이미지 - AE 진행된 이미지 비교\n",
    "- auto encoder"
   ]
  },
  {
   "cell_type": "code",
   "execution_count": 152,
   "id": "950aaf02",
   "metadata": {},
   "outputs": [
    {
     "data": {
      "image/png": "[encoded data removed]",
      "text/plain": [
       "<Figure size 432x288 with 1 Axes>"
      ]
     },
     "metadata": {
      "needs_background": "light"
     },
     "output_type": "display_data"
    }
   ],
   "source": [
    "plt.imshow(x_val[0].reshape(28,28), cmap='gray')\n",
    "plt.show()"
   ]
  },
  {
   "cell_type": "code",
   "execution_count": 153,
   "id": "8a0fb60a",
   "metadata": {
    "scrolled": true
   },
   "outputs": [
    {
     "data": {
      "image/png": "[encoded data removed]",
      "text/plain": [
       "<Figure size 432x288 with 1 Axes>"
      ]
     },
     "metadata": {
      "needs_background": "light"
     },
     "output_type": "display_data"
    }
   ],
   "source": [
    "plt.imshow(pre_out1.reshape(28,28), cmap='gray')\n",
    "plt.show()"
   ]
  },
  {
   "cell_type": "code",
   "execution_count": 154,
   "id": "bb977eb7",
   "metadata": {},
   "outputs": [
    {
     "data": {
      "image/png": "[encoded data removed]",
      "text/plain": [
       "<Figure size 432x288 with 1 Axes>"
      ]
     },
     "metadata": {
      "needs_background": "light"
     },
     "output_type": "display_data"
    }
   ],
   "source": [
    "plt.imshow(pre_out5.reshape(28,28), cmap='gray')\n",
    "plt.show()"
   ]
  },
  {
   "cell_type": "code",
   "execution_count": 155,
   "id": "b567568e",
   "metadata": {},
   "outputs": [
    {
     "data": {
      "image/png": "[encoded data removed]",
      "text/plain": [
       "<Figure size 432x288 with 1 Axes>"
      ]
     },
     "metadata": {
      "needs_background": "light"
     },
     "output_type": "display_data"
    }
   ],
   "source": [
    "plt.imshow(pre_out15.reshape(28,28), cmap='gray')\n",
    "plt.show()"
   ]
  },
  {
   "cell_type": "code",
   "execution_count": 156,
   "id": "35b4b8cf",
   "metadata": {},
   "outputs": [
    {
     "data": {
      "image/png": "[encoded data removed]",
      "text/plain": [
       "<Figure size 432x288 with 1 Axes>"
      ]
     },
     "metadata": {
      "needs_background": "light"
     },
     "output_type": "display_data"
    }
   ],
   "source": [
    "plt.imshow(pre_out100.reshape(28,28), cmap='gray')\n",
    "plt.show()"
   ]
  },
  {
   "cell_type": "markdown",
   "id": "9ee44fb5",
   "metadata": {},
   "source": [
    "# CNN(Convolution Neural Network)\n",
    "---\n",
    "- 이미지, 영상 처리에 사용되는 신경망 모델\n",
    "- DNN의 한 분야\n",
    "- 텍스트 처리에도 사용되는 모델\n",
    "- 사용되는 Layer\n",
    "    * ConvXD : 이미지의 형태 그대로 입력 받아 특징을 추출하는 레이어\n",
    "    * Pooling : 특징맵에서 특징을 다시 추출, 다운샘플링하는 레이어, 크기 반으로 줄임"
   ]
  },
  {
   "cell_type": "code",
   "execution_count": 157,
   "id": "e1b3b138",
   "metadata": {},
   "outputs": [],
   "source": [
    "from tensorflow.keras.datasets.mnist import load_data\n",
    "from tensorflow.keras.utils import set_random_seed, plot_model\n",
    "from tensorflow.keras import Sequential\n",
    "from tensorflow.keras.layers import Conv2D\n",
    "import numpy as np\n",
    "import matplotlib.pyplot as plt"
   ]
  },
  {
   "cell_type": "code",
   "execution_count": 158,
   "id": "5da55629",
   "metadata": {},
   "outputs": [],
   "source": [
    "# W,b 고정하도록 seed 설정\n",
    "set_random_seed(11)"
   ]
  },
  {
   "cell_type": "markdown",
   "id": "6c8476da",
   "metadata": {},
   "source": [
    "## [1] 데이터 준비 및 로딩\n",
    "---"
   ]
  },
  {
   "cell_type": "code",
   "execution_count": 159,
   "id": "65bbdf49",
   "metadata": {},
   "outputs": [],
   "source": [
    "(x_train, y_train), (x_test, y_test) = load_data()"
   ]
  },
  {
   "cell_type": "code",
   "execution_count": 160,
   "id": "a5bfd3ef",
   "metadata": {},
   "outputs": [
    {
     "name": "stdout",
     "output_type": "stream",
     "text": [
      "x_train.shape : (60000, 28, 28), y_train.shape : (60000,)\n",
      "x_test.shape : (10000, 28, 28), y_test.shape : (10000,)\n"
     ]
    }
   ],
   "source": [
    "print(f'x_train.shape : {x_train.shape}, y_train.shape : {y_train.shape}')\n",
    "print(f'x_test.shape : {x_test.shape}, y_test.shape : {y_test.shape}')"
   ]
  },
  {
   "cell_type": "markdown",
   "id": "ec9f8176",
   "metadata": {},
   "source": [
    "## [2] 데이터 전처리 및 학습형태로 변환"
   ]
  },
  {
   "cell_type": "code",
   "execution_count": 161,
   "id": "305b1497",
   "metadata": {},
   "outputs": [],
   "source": [
    "# 스케일링 => 픽셀 / 255.0\n",
    "x_train=x_train/255.0\n",
    "x_test=x_test/255.0"
   ]
  },
  {
   "cell_type": "code",
   "execution_count": 162,
   "id": "c422962a",
   "metadata": {},
   "outputs": [],
   "source": [
    "# Conv 레이어는 이미지 채널 정보까지 입력\n",
    "x_train=x_train.reshape(-1, 28, 28, 1)\n",
    "x_test=x_test.reshape(-1, 28, 28, 1)"
   ]
  },
  {
   "cell_type": "code",
   "execution_count": 163,
   "id": "a6bcfbd0",
   "metadata": {},
   "outputs": [
    {
     "name": "stdout",
     "output_type": "stream",
     "text": [
      "x_train.shape : (60000, 28, 28, 1), x_test.shape : (10000, 28, 28, 1)\n"
     ]
    }
   ],
   "source": [
    "print(f'x_train.shape : {x_train.shape}, x_test.shape : {x_test.shape}')"
   ]
  },
  {
   "cell_type": "code",
   "execution_count": 164,
   "id": "4fd2e8a2",
   "metadata": {},
   "outputs": [],
   "source": [
    "# 테이터셋에 노이즈 추가\n",
    "# np.random.normal(평균loc=0.0, 표준편차scale=1.0, 출력size=None)\n",
    "x_train_noised = x_train + np.random.normal(0, 0.5, size=x_train.shape)\n",
    "x_test_noised = x_test + np.random.normal(0, 0.5, size=x_test.shape)\n",
    "\n",
    "# 픽셀 범위 0.0~1.0 벗어나는 픽셀값 조정 np.clip(array, min, max)\n",
    "x_train_noised = np.clip(x_train_noised, a_min=0, a_max=1)\n",
    "x_test_noised = np.clip(x_test_noised, a_min=0, a_max=1)"
   ]
  },
  {
   "cell_type": "code",
   "execution_count": 165,
   "id": "00b71518",
   "metadata": {},
   "outputs": [
    {
     "data": {
      "image/png": "[encoded data removed]",
      "text/plain": [
       "<Figure size 432x288 with 1 Axes>"
      ]
     },
     "metadata": {
      "needs_background": "light"
     },
     "output_type": "display_data"
    }
   ],
   "source": [
    "plt.imshow(x_train[0].reshape(28,28), cmap='gray')\n",
    "plt.show()"
   ]
  },
  {
   "cell_type": "code",
   "execution_count": 166,
   "id": "d869c0d2",
   "metadata": {},
   "outputs": [
    {
     "data": {
      "image/png": "[encoded data removed]",
      "text/plain": [
       "<Figure size 432x288 with 1 Axes>"
      ]
     },
     "metadata": {
      "needs_background": "light"
     },
     "output_type": "display_data"
    }
   ],
   "source": [
    "plt.imshow(x_train_noised[0].reshape(28,28), cmap='gray')\n",
    "plt.show()"
   ]
  },
  {
   "cell_type": "markdown",
   "id": "911f6a9a",
   "metadata": {},
   "source": [
    "## [3] 모델 구성 및 생성\n",
    "---\n",
    "- 입력 형태 : 채널정보까지 포함 3차원 (28, 28, 1)\n",
    "- 출력 형태 : 0 ~ 9 정수 확률값 10개 출력\n",
    "- 학습 방식  분류 - 이진분류\n",
    "- 전반부\n",
    "    * 이미지 특징 추출\n",
    "        - Conv2D\n",
    "- 후반부\n",
    "    * 이미지 데이터 학습\n",
    "        - Conv2D"
   ]
  },
  {
   "cell_type": "markdown",
   "id": "32e91da8",
   "metadata": {},
   "source": [
    "### [3-1] 모델 구상 및 생성\n",
    "---\n",
    "- compile 메서드\n",
    "    * loss 손실 함수 => binary_crossentropy\n",
    "    * optimizer 최적화 방식 => adam"
   ]
  },
  {
   "cell_type": "code",
   "execution_count": 167,
   "id": "be49ceb3",
   "metadata": {},
   "outputs": [],
   "source": [
    "def createCNNModel(n_kernel):\n",
    "    model=Sequential()\n",
    "    # 이미지 특징 추출 Layer => 첫번째 입력값 설정\n",
    "    model.add(Conv2D(n_kernel, kernel_size=3, padding='same', input_shape=(28,28,1)))\n",
    "    # 출력\n",
    "    model.add(Conv2D(1, kernel_size=3, padding='same', activation='sigmoid'))\n",
    "    model.compile(loss='binary_crossentropy',\n",
    "                 optimizer='adam')\n",
    "    return model"
   ]
  },
  {
   "cell_type": "code",
   "execution_count": 168,
   "id": "3c88d35c",
   "metadata": {},
   "outputs": [],
   "source": [
    "oneModel=createCNNModel(1)\n",
    "fiveModel=createCNNModel(5)\n",
    "tenFiveModel=createCNNModel(15)"
   ]
  },
  {
   "cell_type": "code",
   "execution_count": 169,
   "id": "5410a9ad",
   "metadata": {},
   "outputs": [
    {
     "name": "stdout",
     "output_type": "stream",
     "text": [
      "Model: \"sequential_18\"\n",
      "_________________________________________________________________\n",
      " Layer (type)                Output Shape              Param #   \n",
      "=================================================================\n",
      " conv2d_20 (Conv2D)          (None, 28, 28, 1)         10        \n",
      "                                                                 \n",
      " conv2d_21 (Conv2D)          (None, 28, 28, 1)         10        \n",
      "                                                                 \n",
      "=================================================================\n",
      "Total params: 20\n",
      "Trainable params: 20\n",
      "Non-trainable params: 0\n",
      "_________________________________________________________________\n"
     ]
    }
   ],
   "source": [
    "oneModel.summary()"
   ]
  },
  {
   "cell_type": "code",
   "execution_count": 170,
   "id": "58de183b",
   "metadata": {},
   "outputs": [
    {
     "data": {
      "image/png": "[encoded data removed]",
      "text/plain": [
       "<IPython.core.display.Image object>"
      ]
     },
     "execution_count": 170,
     "metadata": {},
     "output_type": "execute_result"
    }
   ],
   "source": [
    "plot_model(oneModel, show_shapes=True)"
   ]
  },
  {
   "cell_type": "markdown",
   "id": "2b8fe5ea",
   "metadata": {},
   "source": [
    "### [3-2] 모델 학습\n",
    "---\n",
    "- fit 메서드\n",
    "    * 학습 데이터, 라벨\n",
    "    * epochs 학습횟수\n",
    "    * batch_size 학습분량\n",
    "    * validation_data (검증데이터, 검증라벨)\n",
    "    * validation_split 학습데이터의 일부 비율 설정 (예:0.2)\n",
    "    * callback\n",
    "    * verbose : 학습 진행도 화면 출력 여부 설정"
   ]
  },
  {
   "cell_type": "code",
   "execution_count": 171,
   "id": "f365de44",
   "metadata": {},
   "outputs": [
    {
     "name": "stdout",
     "output_type": "stream",
     "text": [
      "Epoch 1/10\n",
      "1875/1875 [==============================] - 27s 13ms/step - loss: 0.2589\n",
      "Epoch 2/10\n",
      "1875/1875 [==============================] - 25s 13ms/step - loss: 0.1226\n",
      "Epoch 3/10\n",
      "1875/1875 [==============================] - 26s 14ms/step - loss: 0.1217\n",
      "Epoch 4/10\n",
      "1875/1875 [==============================] - 26s 14ms/step - loss: 0.1210\n",
      "Epoch 5/10\n",
      "1875/1875 [==============================] - 26s 14ms/step - loss: 0.1207\n",
      "Epoch 6/10\n",
      "1875/1875 [==============================] - 26s 14ms/step - loss: 0.1205\n",
      "Epoch 7/10\n",
      "1875/1875 [==============================] - 26s 14ms/step - loss: 0.1204\n",
      "Epoch 8/10\n",
      "1875/1875 [==============================] - 25s 13ms/step - loss: 0.1204\n",
      "Epoch 9/10\n",
      "1875/1875 [==============================] - 26s 14ms/step - loss: 0.1203\n",
      "Epoch 10/10\n",
      "1875/1875 [==============================] - 26s 14ms/step - loss: 0.1203\n",
      "Epoch 1/10\n",
      "1875/1875 [==============================] - 33s 17ms/step - loss: 0.1680\n",
      "Epoch 2/10\n",
      "1875/1875 [==============================] - 32s 17ms/step - loss: 0.1212\n",
      "Epoch 3/10\n",
      "1875/1875 [==============================] - 31s 16ms/step - loss: 0.1203\n",
      "Epoch 4/10\n",
      "1875/1875 [==============================] - 33s 17ms/step - loss: 0.1197\n",
      "Epoch 5/10\n",
      "1875/1875 [==============================] - 34s 18ms/step - loss: 0.1193\n",
      "Epoch 6/10\n",
      "1875/1875 [==============================] - 34s 18ms/step - loss: 0.1191\n",
      "Epoch 7/10\n",
      "1875/1875 [==============================] - 34s 18ms/step - loss: 0.1190\n",
      "Epoch 8/10\n",
      "1875/1875 [==============================] - 34s 18ms/step - loss: 0.1190\n",
      "Epoch 9/10\n",
      "1875/1875 [==============================] - 34s 18ms/step - loss: 0.1189\n",
      "Epoch 10/10\n",
      "1875/1875 [==============================] - 34s 18ms/step - loss: 0.1189\n",
      "Epoch 1/10\n",
      "1875/1875 [==============================] - 56s 29ms/step - loss: 0.1529\n",
      "Epoch 2/10\n",
      "1875/1875 [==============================] - 52s 28ms/step - loss: 0.1204\n",
      "Epoch 3/10\n",
      "1875/1875 [==============================] - 50s 27ms/step - loss: 0.1197\n",
      "Epoch 4/10\n",
      "1875/1875 [==============================] - 47s 25ms/step - loss: 0.1193\n",
      "Epoch 5/10\n",
      "1875/1875 [==============================] - 49s 26ms/step - loss: 0.1191\n",
      "Epoch 6/10\n",
      "1875/1875 [==============================] - 46s 25ms/step - loss: 0.1190\n",
      "Epoch 7/10\n",
      "1875/1875 [==============================] - 47s 25ms/step - loss: 0.1189\n",
      "Epoch 8/10\n",
      "1875/1875 [==============================] - 48s 26ms/step - loss: 0.1189\n",
      "Epoch 9/10\n",
      "1875/1875 [==============================] - 48s 26ms/step - loss: 0.1189\n",
      "Epoch 10/10\n",
      "1875/1875 [==============================] - 48s 26ms/step - loss: 0.1189\n"
     ]
    },
    {
     "data": {
      "text/plain": [
       "<keras.callbacks.History at 0x19d996dabe0>"
      ]
     },
     "execution_count": 171,
     "metadata": {},
     "output_type": "execute_result"
    }
   ],
   "source": [
    "oneModel.fit(x_train_noised, x_train, epochs=10)\n",
    "fiveModel.fit(x_train_noised, x_train, epochs=10)\n",
    "tenFiveModel.fit(x_train_noised, x_train, epochs=10)"
   ]
  },
  {
   "cell_type": "code",
   "execution_count": 172,
   "id": "b3064028",
   "metadata": {},
   "outputs": [
    {
     "data": {
      "text/plain": [
       "(60000, 28, 28, 1)"
      ]
     },
     "execution_count": 172,
     "metadata": {},
     "output_type": "execute_result"
    }
   ],
   "source": [
    "x_train_noised.shape"
   ]
  },
  {
   "cell_type": "markdown",
   "id": "fcc311fa",
   "metadata": {},
   "source": [
    "## [4] 평가\n",
    "---\n",
    "- evaluate 메서드\n",
    "- 테스트 데이터, 테스트 라벨"
   ]
  },
  {
   "cell_type": "code",
   "execution_count": 173,
   "id": "f75a54ba",
   "metadata": {},
   "outputs": [
    {
     "name": "stdout",
     "output_type": "stream",
     "text": [
      "313/313 [==============================] - 3s 8ms/step - loss: 0.0802\n"
     ]
    },
    {
     "data": {
      "text/plain": [
       "0.08023250102996826"
      ]
     },
     "execution_count": 173,
     "metadata": {},
     "output_type": "execute_result"
    }
   ],
   "source": [
    "oneModel.evaluate(x_test, x_test)"
   ]
  },
  {
   "cell_type": "markdown",
   "id": "15b3e2d5",
   "metadata": {},
   "source": [
    "## [5] 예측\n",
    "---\n",
    "- 새로운 데이터 사용"
   ]
  },
  {
   "cell_type": "code",
   "execution_count": 174,
   "id": "636aa20e",
   "metadata": {},
   "outputs": [
    {
     "data": {
      "text/plain": [
       "(28, 28, 1)"
      ]
     },
     "execution_count": 174,
     "metadata": {},
     "output_type": "execute_result"
    }
   ],
   "source": [
    "x_test_noised[0].shape"
   ]
  },
  {
   "cell_type": "code",
   "execution_count": 175,
   "id": "9e7cd042",
   "metadata": {},
   "outputs": [
    {
     "name": "stdout",
     "output_type": "stream",
     "text": [
      "WARNING:tensorflow:Model was constructed with shape (None, 28, 28, 1) for input KerasTensor(type_spec=TensorSpec(shape=(None, 28, 28, 1), dtype=tf.float32, name='conv2d_20_input'), name='conv2d_20_input', description=\"created by layer 'conv2d_20_input'\"), but it was called on an input with incompatible shape (None, 28, 1, 1).\n",
      "1/1 [==============================] - 0s 142ms/step\n",
      "WARNING:tensorflow:Model was constructed with shape (None, 28, 28, 1) for input KerasTensor(type_spec=TensorSpec(shape=(None, 28, 28, 1), dtype=tf.float32, name='conv2d_22_input'), name='conv2d_22_input', description=\"created by layer 'conv2d_22_input'\"), but it was called on an input with incompatible shape (None, 28, 1, 1).\n",
      "1/1 [==============================] - 0s 107ms/step\n",
      "WARNING:tensorflow:Model was constructed with shape (None, 28, 28, 1) for input KerasTensor(type_spec=TensorSpec(shape=(None, 28, 28, 1), dtype=tf.float32, name='conv2d_24_input'), name='conv2d_24_input', description=\"created by layer 'conv2d_24_input'\"), but it was called on an input with incompatible shape (None, 28, 1, 1).\n",
      "1/1 [==============================] - 0s 115ms/step\n"
     ]
    }
   ],
   "source": [
    "pre_out1=oneModel.predict(x_test_noised[0])\n",
    "pre_out5=fiveModel.predict(x_test_noised[0])\n",
    "pre_out15=tenFiveModel.predict(x_test_noised[0])"
   ]
  },
  {
   "cell_type": "code",
   "execution_count": 176,
   "id": "996991ca",
   "metadata": {},
   "outputs": [
    {
     "data": {
      "text/plain": [
       "(28, 28, 1)"
      ]
     },
     "execution_count": 176,
     "metadata": {},
     "output_type": "execute_result"
    }
   ],
   "source": [
    "x_test[0].shape"
   ]
  },
  {
   "cell_type": "markdown",
   "id": "27034771",
   "metadata": {},
   "source": [
    "### 원본 이미지 - AE 진행된 이미지 비교"
   ]
  },
  {
   "cell_type": "code",
   "execution_count": 177,
   "id": "8816a31a",
   "metadata": {},
   "outputs": [
    {
     "data": {
      "image/png": "[encoded data removed]",
      "text/plain": [
       "<Figure size 432x288 with 1 Axes>"
      ]
     },
     "metadata": {
      "needs_background": "light"
     },
     "output_type": "display_data"
    }
   ],
   "source": [
    "plt.imshow(x_test[0].reshape(28,28), cmap='gray')\n",
    "plt.show()"
   ]
  },
  {
   "cell_type": "code",
   "execution_count": 178,
   "id": "850ffd80",
   "metadata": {},
   "outputs": [
    {
     "data": {
      "image/png": "[encoded data removed]",
      "text/plain": [
       "<Figure size 432x288 with 1 Axes>"
      ]
     },
     "metadata": {
      "needs_background": "light"
     },
     "output_type": "display_data"
    }
   ],
   "source": [
    "plt.imshow(pre_out1.reshape(28,28), cmap='gray')\n",
    "plt.show()"
   ]
  },
  {
   "cell_type": "code",
   "execution_count": 179,
   "id": "111c541e",
   "metadata": {},
   "outputs": [
    {
     "data": {
      "image/png": "[encoded data removed]",
      "text/plain": [
       "<Figure size 432x288 with 1 Axes>"
      ]
     },
     "metadata": {
      "needs_background": "light"
     },
     "output_type": "display_data"
    }
   ],
   "source": [
    "plt.imshow(pre_out5.reshape(28,28), cmap='gray')\n",
    "plt.show()"
   ]
  },
  {
   "cell_type": "code",
   "execution_count": 180,
   "id": "1c4b93d3",
   "metadata": {},
   "outputs": [
    {
     "data": {
      "image/png": "[encoded data removed]",
      "text/plain": [
       "<Figure size 432x288 with 1 Axes>"
      ]
     },
     "metadata": {
      "needs_background": "light"
     },
     "output_type": "display_data"
    }
   ],
   "source": [
    "plt.imshow(pre_out15.reshape(28,28), cmap='gray')\n",
    "plt.show()"
   ]
  },
  {
   "cell_type": "code",
   "execution_count": null,
   "id": "c2c995c1",
   "metadata": {},
   "outputs": [],
   "source": []
  }
 ],
 "metadata": {
  "kernelspec": {
   "display_name": "Python 3 (ipykernel)",
   "language": "python",
   "name": "python3"
  },
  "language_info": {
   "codemirror_mode": {
    "name": "ipython",
    "version": 3
   },
   "file_extension": ".py",
   "mimetype": "text/x-python",
   "name": "python",
   "nbconvert_exporter": "python",
   "pygments_lexer": "ipython3",
   "version": "3.9.12"
  }
 },
 "nbformat": 4,
 "nbformat_minor": 5
}
