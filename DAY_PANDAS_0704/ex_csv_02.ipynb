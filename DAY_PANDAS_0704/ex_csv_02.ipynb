{
 "cells": [
  {
   "cell_type": "markdown",
   "id": "26d9eb94",
   "metadata": {},
   "source": [
    "# [실습] --------------------------------------------------------\n",
    "\n",
    "- CSV 파일 읽고 컬럼별 최고값과 값의 개수 출력"
   ]
  },
  {
   "cell_type": "code",
   "execution_count": 2,
   "id": "f0d6ad18",
   "metadata": {},
   "outputs": [
    {
     "data": {
      "text/plain": [
       "'../Data/iris2.csv'"
      ]
     },
     "execution_count": 2,
     "metadata": {},
     "output_type": "execute_result"
    }
   ],
   "source": [
    "# 모듈 로딩 -----------------------------------------------------------\n",
    "import pandas as pd\n",
    "\n",
    "# 파일 관련 변수들 ---------------------------------------------------\n",
    "DIR_PATH='../Data/'\n",
    "FILE_NAME=DIR_PATH+'iris2.csv'\n",
    "\n",
    "FILE_NAME"
   ]
  },
  {
   "cell_type": "code",
   "execution_count": 3,
   "id": "7d740113",
   "metadata": {},
   "outputs": [
    {
     "name": "stdout",
     "output_type": "stream",
     "text": [
      "<class 'pandas.core.frame.DataFrame'>\n",
      "RangeIndex: 150 entries, 0 to 149\n",
      "Data columns (total 5 columns):\n",
      " #   Column  Non-Null Count  Dtype  \n",
      "---  ------  --------------  -----  \n",
      " 0   0       147 non-null    float64\n",
      " 1   1       150 non-null    float64\n",
      " 2   2       150 non-null    float64\n",
      " 3   3       150 non-null    float64\n",
      " 4   4       150 non-null    object \n",
      "dtypes: float64(4), object(1)\n",
      "memory usage: 6.0+ KB\n"
     ]
    }
   ],
   "source": [
    "# (1) CSV => DataFrame으로 가져오기\n",
    "irisDF=pd.read_csv(FILE_NAME, header=None )   # 자료 구분에 따라 sep=',' 으로 적으면 됨, 열 적으면 됨 names=???\n",
    "\n",
    "irisDF.info()"
   ]
  },
  {
   "cell_type": "code",
   "execution_count": 4,
   "id": "6342c44d",
   "metadata": {},
   "outputs": [
    {
     "data": {
      "text/html": [
       "<div>\n",
       "<style scoped>\n",
       "    .dataframe tbody tr th:only-of-type {\n",
       "        vertical-align: middle;\n",
       "    }\n",
       "\n",
       "    .dataframe tbody tr th {\n",
       "        vertical-align: top;\n",
       "    }\n",
       "\n",
       "    .dataframe thead th {\n",
       "        text-align: right;\n",
       "    }\n",
       "</style>\n",
       "<table border=\"1\" class=\"dataframe\">\n",
       "  <thead>\n",
       "    <tr style=\"text-align: right;\">\n",
       "      <th></th>\n",
       "      <th>꽃받침 길이</th>\n",
       "      <th>꽃받침 폭</th>\n",
       "      <th>꽃잎 길이</th>\n",
       "      <th>꽃잎 폭</th>\n",
       "      <th>이름</th>\n",
       "    </tr>\n",
       "  </thead>\n",
       "  <tbody>\n",
       "    <tr>\n",
       "      <th>0</th>\n",
       "      <td>5.1</td>\n",
       "      <td>3.5</td>\n",
       "      <td>1.4</td>\n",
       "      <td>0.2</td>\n",
       "      <td>Iris-setosa</td>\n",
       "    </tr>\n",
       "    <tr>\n",
       "      <th>1</th>\n",
       "      <td>4.9</td>\n",
       "      <td>3.0</td>\n",
       "      <td>1.4</td>\n",
       "      <td>0.2</td>\n",
       "      <td>Iris-setosa</td>\n",
       "    </tr>\n",
       "    <tr>\n",
       "      <th>2</th>\n",
       "      <td>4.7</td>\n",
       "      <td>3.2</td>\n",
       "      <td>1.3</td>\n",
       "      <td>0.2</td>\n",
       "      <td>Iris-setosa</td>\n",
       "    </tr>\n",
       "    <tr>\n",
       "      <th>3</th>\n",
       "      <td>4.6</td>\n",
       "      <td>3.1</td>\n",
       "      <td>1.5</td>\n",
       "      <td>0.2</td>\n",
       "      <td>Iris-setosa</td>\n",
       "    </tr>\n",
       "    <tr>\n",
       "      <th>4</th>\n",
       "      <td>5.0</td>\n",
       "      <td>3.6</td>\n",
       "      <td>1.4</td>\n",
       "      <td>0.2</td>\n",
       "      <td>Iris-setosa</td>\n",
       "    </tr>\n",
       "    <tr>\n",
       "      <th>...</th>\n",
       "      <td>...</td>\n",
       "      <td>...</td>\n",
       "      <td>...</td>\n",
       "      <td>...</td>\n",
       "      <td>...</td>\n",
       "    </tr>\n",
       "    <tr>\n",
       "      <th>145</th>\n",
       "      <td>6.7</td>\n",
       "      <td>3.0</td>\n",
       "      <td>5.2</td>\n",
       "      <td>2.3</td>\n",
       "      <td>Iris-virginica</td>\n",
       "    </tr>\n",
       "    <tr>\n",
       "      <th>146</th>\n",
       "      <td>6.3</td>\n",
       "      <td>2.5</td>\n",
       "      <td>5.0</td>\n",
       "      <td>1.9</td>\n",
       "      <td>Iris-virginica</td>\n",
       "    </tr>\n",
       "    <tr>\n",
       "      <th>147</th>\n",
       "      <td>6.5</td>\n",
       "      <td>3.0</td>\n",
       "      <td>5.2</td>\n",
       "      <td>2.0</td>\n",
       "      <td>Iris-virginica</td>\n",
       "    </tr>\n",
       "    <tr>\n",
       "      <th>148</th>\n",
       "      <td>6.2</td>\n",
       "      <td>3.4</td>\n",
       "      <td>5.4</td>\n",
       "      <td>2.3</td>\n",
       "      <td>Iris-virginica</td>\n",
       "    </tr>\n",
       "    <tr>\n",
       "      <th>149</th>\n",
       "      <td>5.9</td>\n",
       "      <td>3.0</td>\n",
       "      <td>5.1</td>\n",
       "      <td>1.8</td>\n",
       "      <td>Iris-virginica</td>\n",
       "    </tr>\n",
       "  </tbody>\n",
       "</table>\n",
       "<p>150 rows × 5 columns</p>\n",
       "</div>"
      ],
      "text/plain": [
       "     꽃받침 길이  꽃받침 폭  꽃잎 길이  꽃잎 폭              이름\n",
       "0       5.1    3.5    1.4   0.2     Iris-setosa\n",
       "1       4.9    3.0    1.4   0.2     Iris-setosa\n",
       "2       4.7    3.2    1.3   0.2     Iris-setosa\n",
       "3       4.6    3.1    1.5   0.2     Iris-setosa\n",
       "4       5.0    3.6    1.4   0.2     Iris-setosa\n",
       "..      ...    ...    ...   ...             ...\n",
       "145     6.7    3.0    5.2   2.3  Iris-virginica\n",
       "146     6.3    2.5    5.0   1.9  Iris-virginica\n",
       "147     6.5    3.0    5.2   2.0  Iris-virginica\n",
       "148     6.2    3.4    5.4   2.3  Iris-virginica\n",
       "149     5.9    3.0    5.1   1.8  Iris-virginica\n",
       "\n",
       "[150 rows x 5 columns]"
      ]
     },
     "execution_count": 4,
     "metadata": {},
     "output_type": "execute_result"
    }
   ],
   "source": [
    "irisDF.columns=['꽃받침 길이','꽃받침 폭','꽃잎 길이','꽃잎 폭','이름']\n",
    "irisDF"
   ]
  },
  {
   "cell_type": "markdown",
   "id": "b491a286",
   "metadata": {},
   "source": [
    "## 컬럼별 최고값과 값의 개수 출력"
   ]
  },
  {
   "cell_type": "code",
   "execution_count": 5,
   "id": "b26ee053",
   "metadata": {},
   "outputs": [
    {
     "data": {
      "text/plain": [
       "꽃받침 길이    7.9\n",
       "꽃받침 폭     4.4\n",
       "꽃잎 길이     6.9\n",
       "꽃잎 폭      2.5\n",
       "dtype: float64"
      ]
     },
     "execution_count": 5,
     "metadata": {},
     "output_type": "execute_result"
    }
   ],
   "source": [
    "# 컬럼별 최고값\n",
    "iris2DF=irisDF.drop('이름',axis=1)\n",
    "iris2DF.max()"
   ]
  },
  {
   "cell_type": "code",
   "execution_count": 6,
   "id": "4ab9f743",
   "metadata": {},
   "outputs": [
    {
     "name": "stdout",
     "output_type": "stream",
     "text": [
      "6.3    9\n",
      "5.0    9\n",
      "5.1    8\n",
      "5.7    8\n",
      "6.7    8\n",
      "5.8    7\n",
      "5.5    7\n",
      "6.4    7\n",
      "4.9    6\n",
      "5.4    6\n",
      "6.1    6\n",
      "6.0    6\n",
      "5.6    6\n",
      "4.8    5\n",
      "6.5    5\n",
      "6.2    4\n",
      "7.7    4\n",
      "6.9    4\n",
      "5.2    4\n",
      "4.6    3\n",
      "5.9    3\n",
      "4.4    3\n",
      "7.2    3\n",
      "6.8    3\n",
      "6.6    2\n",
      "4.7    2\n",
      "7.6    1\n",
      "7.4    1\n",
      "7.3    1\n",
      "7.0    1\n",
      "7.1    1\n",
      "5.3    1\n",
      "4.3    1\n",
      "4.5    1\n",
      "7.9    1\n",
      "Name: 꽃받침 길이, dtype: int64\n",
      "3.0    26\n",
      "2.8    14\n",
      "3.2    13\n",
      "3.1    12\n",
      "3.4    12\n",
      "2.9    10\n",
      "2.7     9\n",
      "2.5     8\n",
      "3.5     6\n",
      "3.3     6\n",
      "3.8     6\n",
      "2.6     5\n",
      "2.3     4\n",
      "3.7     3\n",
      "2.4     3\n",
      "2.2     3\n",
      "3.6     3\n",
      "3.9     2\n",
      "4.4     1\n",
      "4.0     1\n",
      "4.1     1\n",
      "4.2     1\n",
      "2.0     1\n",
      "Name: 꽃받침 폭, dtype: int64\n",
      "1.5    14\n",
      "1.4    12\n",
      "5.1     8\n",
      "4.5     8\n",
      "1.6     7\n",
      "1.3     7\n",
      "5.6     6\n",
      "4.7     5\n",
      "4.9     5\n",
      "4.0     5\n",
      "4.2     4\n",
      "5.0     4\n",
      "4.4     4\n",
      "4.8     4\n",
      "1.7     4\n",
      "3.9     3\n",
      "4.6     3\n",
      "5.7     3\n",
      "4.1     3\n",
      "5.5     3\n",
      "6.1     3\n",
      "5.8     3\n",
      "3.3     2\n",
      "5.4     2\n",
      "6.7     2\n",
      "5.3     2\n",
      "5.9     2\n",
      "6.0     2\n",
      "1.2     2\n",
      "4.3     2\n",
      "1.9     2\n",
      "3.5     2\n",
      "5.2     2\n",
      "3.0     1\n",
      "1.1     1\n",
      "3.7     1\n",
      "3.8     1\n",
      "6.6     1\n",
      "6.3     1\n",
      "1.0     1\n",
      "6.9     1\n",
      "3.6     1\n",
      "6.4     1\n",
      "Name: 꽃잎 길이, dtype: int64\n",
      "0.2    28\n",
      "1.3    13\n",
      "1.8    12\n",
      "1.5    12\n",
      "1.4     8\n",
      "2.3     8\n",
      "1.0     7\n",
      "0.4     7\n",
      "0.3     7\n",
      "0.1     6\n",
      "2.1     6\n",
      "2.0     6\n",
      "1.2     5\n",
      "1.9     5\n",
      "1.6     4\n",
      "2.5     3\n",
      "2.2     3\n",
      "2.4     3\n",
      "1.1     3\n",
      "1.7     2\n",
      "0.6     1\n",
      "0.5     1\n",
      "Name: 꽃잎 폭, dtype: int64\n",
      "Iris-setosa        50\n",
      "Iris-versicolor    50\n",
      "Iris-virginica     50\n",
      "Name: 이름, dtype: int64\n"
     ]
    }
   ],
   "source": [
    "# 컬럼별 값의 개수\n",
    "print(irisDF['꽃받침 길이'].value_counts(),\n",
    "irisDF['꽃받침 폭'].value_counts(),\n",
    "irisDF['꽃잎 길이'].value_counts(),\n",
    "irisDF['꽃잎 폭'].value_counts(),\n",
    "irisDF['이름'].value_counts(), sep='\\n')"
   ]
  },
  {
   "cell_type": "code",
   "execution_count": 7,
   "id": "e17a8174",
   "metadata": {},
   "outputs": [
    {
     "name": "stdout",
     "output_type": "stream",
     "text": [
      "7.9\n",
      "4.4\n",
      "6.9\n",
      "2.5\n"
     ]
    }
   ],
   "source": [
    "print(irisDF['꽃받침 길이'].max(),\n",
    "irisDF['꽃받침 폭'].max(),\n",
    "irisDF['꽃잎 길이'].max(),\n",
    "irisDF['꽃잎 폭'].max(), sep='\\n')"
   ]
  },
  {
   "cell_type": "code",
   "execution_count": 8,
   "id": "7d3e4a34",
   "metadata": {},
   "outputs": [
    {
     "data": {
      "text/html": [
       "<div>\n",
       "<style scoped>\n",
       "    .dataframe tbody tr th:only-of-type {\n",
       "        vertical-align: middle;\n",
       "    }\n",
       "\n",
       "    .dataframe tbody tr th {\n",
       "        vertical-align: top;\n",
       "    }\n",
       "\n",
       "    .dataframe thead th {\n",
       "        text-align: right;\n",
       "    }\n",
       "</style>\n",
       "<table border=\"1\" class=\"dataframe\">\n",
       "  <thead>\n",
       "    <tr style=\"text-align: right;\">\n",
       "      <th></th>\n",
       "      <th>꽃받침 길이</th>\n",
       "      <th>꽃받침 폭</th>\n",
       "      <th>꽃잎 길이</th>\n",
       "      <th>꽃잎 폭</th>\n",
       "    </tr>\n",
       "  </thead>\n",
       "  <tbody>\n",
       "    <tr>\n",
       "      <th>count</th>\n",
       "      <td>147.000000</td>\n",
       "      <td>150.000000</td>\n",
       "      <td>150.000000</td>\n",
       "      <td>150.000000</td>\n",
       "    </tr>\n",
       "    <tr>\n",
       "      <th>mean</th>\n",
       "      <td>5.862585</td>\n",
       "      <td>3.054000</td>\n",
       "      <td>3.758667</td>\n",
       "      <td>1.198667</td>\n",
       "    </tr>\n",
       "    <tr>\n",
       "      <th>std</th>\n",
       "      <td>0.824722</td>\n",
       "      <td>0.433594</td>\n",
       "      <td>1.764420</td>\n",
       "      <td>0.763161</td>\n",
       "    </tr>\n",
       "    <tr>\n",
       "      <th>min</th>\n",
       "      <td>4.300000</td>\n",
       "      <td>2.000000</td>\n",
       "      <td>1.000000</td>\n",
       "      <td>0.100000</td>\n",
       "    </tr>\n",
       "    <tr>\n",
       "      <th>25%</th>\n",
       "      <td>5.100000</td>\n",
       "      <td>2.800000</td>\n",
       "      <td>1.600000</td>\n",
       "      <td>0.300000</td>\n",
       "    </tr>\n",
       "    <tr>\n",
       "      <th>50%</th>\n",
       "      <td>5.800000</td>\n",
       "      <td>3.000000</td>\n",
       "      <td>4.350000</td>\n",
       "      <td>1.300000</td>\n",
       "    </tr>\n",
       "    <tr>\n",
       "      <th>75%</th>\n",
       "      <td>6.400000</td>\n",
       "      <td>3.300000</td>\n",
       "      <td>5.100000</td>\n",
       "      <td>1.800000</td>\n",
       "    </tr>\n",
       "    <tr>\n",
       "      <th>max</th>\n",
       "      <td>7.900000</td>\n",
       "      <td>4.400000</td>\n",
       "      <td>6.900000</td>\n",
       "      <td>2.500000</td>\n",
       "    </tr>\n",
       "  </tbody>\n",
       "</table>\n",
       "</div>"
      ],
      "text/plain": [
       "           꽃받침 길이       꽃받침 폭       꽃잎 길이        꽃잎 폭\n",
       "count  147.000000  150.000000  150.000000  150.000000\n",
       "mean     5.862585    3.054000    3.758667    1.198667\n",
       "std      0.824722    0.433594    1.764420    0.763161\n",
       "min      4.300000    2.000000    1.000000    0.100000\n",
       "25%      5.100000    2.800000    1.600000    0.300000\n",
       "50%      5.800000    3.000000    4.350000    1.300000\n",
       "75%      6.400000    3.300000    5.100000    1.800000\n",
       "max      7.900000    4.400000    6.900000    2.500000"
      ]
     },
     "execution_count": 8,
     "metadata": {},
     "output_type": "execute_result"
    }
   ],
   "source": [
    "irisDF.describe()"
   ]
  },
  {
   "cell_type": "code",
   "execution_count": 14,
   "id": "53e3e1f6",
   "metadata": {},
   "outputs": [
    {
     "data": {
      "text/plain": [
       "array([5.1, 4.9, 4.7, 4.6, 5. , 5.4, 4.4, 4.8, 4.3, 5.8, 5.7, 5.2, 5.5,\n",
       "       nan, 4.5, 5.3, 7. , 6.4, 6.9, 6.5, 6.3, 6.6, 5.9, 6. , 6.1, 5.6,\n",
       "       6.7, 6.2, 6.8, 7.1, 7.6, 7.3, 7.2, 7.7, 7.4, 7.9])"
      ]
     },
     "execution_count": 14,
     "metadata": {},
     "output_type": "execute_result"
    }
   ],
   "source": [
    "irisDF['꽃받침 길이'].unique()"
   ]
  },
  {
   "cell_type": "code",
   "execution_count": 15,
   "id": "9fedd084",
   "metadata": {
    "collapsed": true
   },
   "outputs": [
    {
     "data": {
      "text/plain": [
       "6.3    9\n",
       "5.0    9\n",
       "5.1    8\n",
       "5.7    8\n",
       "6.7    8\n",
       "5.8    7\n",
       "5.5    7\n",
       "6.4    7\n",
       "4.9    6\n",
       "5.4    6\n",
       "6.1    6\n",
       "6.0    6\n",
       "5.6    6\n",
       "4.8    5\n",
       "6.5    5\n",
       "6.2    4\n",
       "7.7    4\n",
       "6.9    4\n",
       "5.2    4\n",
       "4.6    3\n",
       "5.9    3\n",
       "4.4    3\n",
       "7.2    3\n",
       "6.8    3\n",
       "6.6    2\n",
       "4.7    2\n",
       "7.6    1\n",
       "7.4    1\n",
       "7.3    1\n",
       "7.0    1\n",
       "7.1    1\n",
       "5.3    1\n",
       "4.3    1\n",
       "4.5    1\n",
       "7.9    1\n",
       "Name: 꽃받침 길이, dtype: int64"
      ]
     },
     "execution_count": 15,
     "metadata": {},
     "output_type": "execute_result"
    }
   ],
   "source": [
    "irisDF['꽃받침 길이'].value_counts()"
   ]
  },
  {
   "cell_type": "code",
   "execution_count": 17,
   "id": "4612617c",
   "metadata": {
    "collapsed": true
   },
   "outputs": [
    {
     "data": {
      "text/plain": [
       "6.3    9\n",
       "5.0    9\n",
       "5.1    8\n",
       "5.7    8\n",
       "6.7    8\n",
       "5.5    7\n",
       "6.4    7\n",
       "5.8    7\n",
       "6.0    6\n",
       "6.1    6\n",
       "5.6    6\n",
       "5.4    6\n",
       "4.9    6\n",
       "4.8    5\n",
       "6.5    5\n",
       "6.2    4\n",
       "7.7    4\n",
       "6.9    4\n",
       "5.2    4\n",
       "4.6    3\n",
       "5.9    3\n",
       "NaN    3\n",
       "4.4    3\n",
       "7.2    3\n",
       "6.8    3\n",
       "6.6    2\n",
       "4.7    2\n",
       "7.6    1\n",
       "7.4    1\n",
       "7.3    1\n",
       "7.0    1\n",
       "7.1    1\n",
       "5.3    1\n",
       "4.3    1\n",
       "4.5    1\n",
       "7.9    1\n",
       "Name: 꽃받침 길이, dtype: int64"
      ]
     },
     "execution_count": 17,
     "metadata": {},
     "output_type": "execute_result"
    }
   ],
   "source": [
    "# 컬럼 값이 NaN, Na인 것도 카운팅하고 싶음 => dropna 파라미터 값 False\n",
    "irisDF['꽃받침 길이'].value_counts(dropna=False)"
   ]
  },
  {
   "cell_type": "code",
   "execution_count": null,
   "id": "3e4f8303",
   "metadata": {},
   "outputs": [],
   "source": []
  }
 ],
 "metadata": {
  "kernelspec": {
   "display_name": "Python 3 (ipykernel)",
   "language": "python",
   "name": "python3"
  },
  "language_info": {
   "codemirror_mode": {
    "name": "ipython",
    "version": 3
   },
   "file_extension": ".py",
   "mimetype": "text/x-python",
   "name": "python",
   "nbconvert_exporter": "python",
   "pygments_lexer": "ipython3",
   "version": "3.9.12"
  }
 },
 "nbformat": 4,
 "nbformat_minor": 5
}
