{
 "cells": [
  {
   "cell_type": "markdown",
   "id": "bf5e0a48",
   "metadata": {},
   "source": [
    "# 데이터 갯수와 고유값 --------------------------------------------------------\n",
    "\n",
    "- 컬럼별 개  수 ==> count() 메서드\n",
    "\n",
    "- 컬럼별 고유값 ==> unique() 메서드\n",
    "\n",
    "- 컬럼별 값별 개수 ==> value_counts() 메서드"
   ]
  },
  {
   "cell_type": "code",
   "execution_count": 7,
   "id": "3f245894",
   "metadata": {},
   "outputs": [
    {
     "data": {
      "text/plain": [
       "'../Data/iris.csv'"
      ]
     },
     "execution_count": 7,
     "metadata": {},
     "output_type": "execute_result"
    }
   ],
   "source": [
    "# 모듈 로딩 ---------------------------------------------------------------------\n",
    "import pandas as pd\n",
    "\n",
    "# 파일 관련 변수 선언 --------------------------------------------------------------\n",
    "DIR_PATH='../Data/'\n",
    "FILE_NAME=DIR_PATH+'iris.csv'\n",
    "\n",
    "FILE_NAME"
   ]
  },
  {
   "cell_type": "code",
   "execution_count": 8,
   "id": "a17d0686",
   "metadata": {},
   "outputs": [],
   "source": [
    "# (1) File ---> DataFrame으로 가져오기 ------------------------------------------------------------------------\n",
    "irisDF=pd.read_csv(FILE_NAME)       # (파일경로?, 첫 줄이 콤마로 구분 되었는지?, 첫 줄이 컬럼명인지?)"
   ]
  },
  {
   "cell_type": "code",
   "execution_count": 9,
   "id": "6b4e9d43",
   "metadata": {},
   "outputs": [
    {
     "name": "stdout",
     "output_type": "stream",
     "text": [
      "<class 'pandas.core.frame.DataFrame'>\n",
      "RangeIndex: 150 entries, 0 to 149\n",
      "Data columns (total 5 columns):\n",
      " #   Column       Non-Null Count  Dtype  \n",
      "---  ------       --------------  -----  \n",
      " 0   SepalLength  150 non-null    float64\n",
      " 1   SepalWidth   150 non-null    float64\n",
      " 2   PetalLength  150 non-null    float64\n",
      " 3   PetalWidth   150 non-null    float64\n",
      " 4   Name         150 non-null    object \n",
      "dtypes: float64(4), object(1)\n",
      "memory usage: 6.0+ KB\n"
     ]
    }
   ],
   "source": [
    "# (1) 데이터 확인하기 -------------------------------------------------------------------------\n",
    "# DF 요약 정보 ==> info()메서드\n",
    "irisDF.info()"
   ]
  },
  {
   "cell_type": "code",
   "execution_count": 10,
   "id": "27324d89",
   "metadata": {},
   "outputs": [
    {
     "data": {
      "text/plain": [
       "Index(['SepalLength', 'SepalWidth', 'PetalLength', 'PetalWidth', 'Name'], dtype='object')"
      ]
     },
     "execution_count": 10,
     "metadata": {},
     "output_type": "execute_result"
    }
   ],
   "source": [
    "# DF columns 정보 확인\n",
    "irisDF.columns"
   ]
  },
  {
   "cell_type": "code",
   "execution_count": 11,
   "id": "38bec37c",
   "metadata": {},
   "outputs": [
    {
     "data": {
      "text/plain": [
       "((150, 5), 2)"
      ]
     },
     "execution_count": 11,
     "metadata": {},
     "output_type": "execute_result"
    }
   ],
   "source": [
    "# DF shape, ndim 정보 확인\n",
    "irisDF.shape, irisDF.ndim"
   ]
  },
  {
   "cell_type": "code",
   "execution_count": 12,
   "id": "03f0144f",
   "metadata": {},
   "outputs": [
    {
     "data": {
      "text/plain": [
       "pandas.core.series.Series"
      ]
     },
     "execution_count": 12,
     "metadata": {},
     "output_type": "execute_result"
    }
   ],
   "source": [
    "# (2)  원하는 작업 수행 ----------------------------------------------------------\n",
    "# 'Name' 컬럼 추출 => DF객체변수명[ 컬럼명 ]\n",
    "irisName=irisDF['Name']\n",
    "type(irisName)"
   ]
  },
  {
   "cell_type": "code",
   "execution_count": 13,
   "id": "79a02ad8",
   "metadata": {},
   "outputs": [
    {
     "data": {
      "text/plain": [
       "150"
      ]
     },
     "execution_count": 13,
     "metadata": {},
     "output_type": "execute_result"
    }
   ],
   "source": [
    "# 'Name'컬럼의 데이터 갯수\n",
    "irisDF['Name'].count()"
   ]
  },
  {
   "cell_type": "code",
   "execution_count": 14,
   "id": "e3d480c1",
   "metadata": {},
   "outputs": [
    {
     "data": {
      "text/plain": [
       "array(['Iris-setosa', 'Iris-versicolor', 'Iris-virginica'], dtype=object)"
      ]
     },
     "execution_count": 14,
     "metadata": {},
     "output_type": "execute_result"
    }
   ],
   "source": [
    "# 'Name'컬럼의 고유값 -> 값의 종류\n",
    "irisDF['Name'].unique()"
   ]
  },
  {
   "cell_type": "code",
   "execution_count": 15,
   "id": "82d54b6b",
   "metadata": {},
   "outputs": [
    {
     "data": {
      "text/plain": [
       "Iris-setosa        50\n",
       "Iris-versicolor    50\n",
       "Iris-virginica     50\n",
       "Name: Name, dtype: int64"
      ]
     },
     "execution_count": 15,
     "metadata": {},
     "output_type": "execute_result"
    }
   ],
   "source": [
    "# 'Name'컬럼의 값의 개수\n",
    "irisDF['Name'].value_counts()"
   ]
  },
  {
   "cell_type": "code",
   "execution_count": 16,
   "id": "9d3b740e",
   "metadata": {},
   "outputs": [
    {
     "data": {
      "text/plain": [
       "array([5.1, 4.9, 4.7, 4.6, 5. , 5.4, 4.4, 4.8, 4.3, 5.8, 5.7, 5.2, 5.5,\n",
       "       4.5, 5.3, 7. , 6.4, 6.9, 6.5, 6.3, 6.6, 5.9, 6. , 6.1, 5.6, 6.7,\n",
       "       6.2, 6.8, 7.1, 7.6, 7.3, 7.2, 7.7, 7.4, 7.9])"
      ]
     },
     "execution_count": 16,
     "metadata": {},
     "output_type": "execute_result"
    }
   ],
   "source": [
    "# 'SepalLength' 컬럼의 데이터 갯수, 값의 종류, 값의 개수\n",
    "irisDF['SepalLength'].unique()"
   ]
  },
  {
   "cell_type": "code",
   "execution_count": 17,
   "id": "0fab64d7",
   "metadata": {},
   "outputs": [],
   "source": [
    "# irisDF['SepalLength'].value_counts()\n"
   ]
  },
  {
   "cell_type": "code",
   "execution_count": 18,
   "id": "ea79754c",
   "metadata": {},
   "outputs": [
    {
     "data": {
      "text/plain": [
       "10"
      ]
     },
     "execution_count": 18,
     "metadata": {},
     "output_type": "execute_result"
    }
   ],
   "source": [
    "irisDF['SepalLength'].value_counts().max()"
   ]
  },
  {
   "cell_type": "code",
   "execution_count": 19,
   "id": "fcd17927",
   "metadata": {},
   "outputs": [
    {
     "data": {
      "text/plain": [
       "0"
      ]
     },
     "execution_count": 19,
     "metadata": {},
     "output_type": "execute_result"
    }
   ],
   "source": [
    "irisDF['SepalLength'].value_counts().argmax()    # 결과는 가장 많이 나오는 값(최빈값)의 인덱스로 나옴?"
   ]
  },
  {
   "cell_type": "code",
   "execution_count": 20,
   "id": "80478b70",
   "metadata": {},
   "outputs": [
    {
     "data": {
      "text/plain": [
       "26"
      ]
     },
     "execution_count": 20,
     "metadata": {},
     "output_type": "execute_result"
    }
   ],
   "source": [
    "irisDF['SepalLength'].value_counts().argmin()"
   ]
  },
  {
   "cell_type": "code",
   "execution_count": 29,
   "id": "94a3d9c4",
   "metadata": {},
   "outputs": [
    {
     "data": {
      "text/plain": [
       "5.0    10\n",
       "5.1     9\n",
       "6.3     9\n",
       "5.7     8\n",
       "6.7     8\n",
       "5.8     7\n",
       "5.5     7\n",
       "6.4     7\n",
       "4.9     6\n",
       "5.4     6\n",
       "6.1     6\n",
       "6.0     6\n",
       "5.6     6\n",
       "4.8     5\n",
       "6.5     5\n",
       "6.2     4\n",
       "7.7     4\n",
       "6.9     4\n",
       "4.6     4\n",
       "5.2     4\n",
       "5.9     3\n",
       "4.4     3\n",
       "7.2     3\n",
       "6.8     3\n",
       "6.6     2\n",
       "4.7     2\n",
       "7.6     1\n",
       "7.4     1\n",
       "7.3     1\n",
       "7.0     1\n",
       "7.1     1\n",
       "5.3     1\n",
       "4.3     1\n",
       "4.5     1\n",
       "7.9     1\n",
       "Name: SepalLength, dtype: int64"
      ]
     },
     "execution_count": 29,
     "metadata": {},
     "output_type": "execute_result"
    }
   ],
   "source": [
    "valueSR=irisDF['SepalLength'].value_counts()\n",
    "\n",
    "valueSR"
   ]
  },
  {
   "cell_type": "code",
   "execution_count": 22,
   "id": "e028c2d5",
   "metadata": {},
   "outputs": [
    {
     "data": {
      "text/plain": [
       "pandas.core.series.Series"
      ]
     },
     "execution_count": 22,
     "metadata": {},
     "output_type": "execute_result"
    }
   ],
   "source": [
    "type(valueSR)"
   ]
  },
  {
   "cell_type": "code",
   "execution_count": 23,
   "id": "b9a35f19",
   "metadata": {},
   "outputs": [
    {
     "data": {
      "text/plain": [
       "Float64Index([5.0, 5.1, 6.3, 5.7, 6.7, 5.8, 5.5, 6.4, 4.9, 5.4, 6.1, 6.0, 5.6,\n",
       "              4.8, 6.5, 6.2, 7.7, 6.9, 4.6, 5.2, 5.9, 4.4, 7.2, 6.8, 6.6, 4.7,\n",
       "              7.6, 7.4, 7.3, 7.0, 7.1, 5.3, 4.3, 4.5, 7.9],\n",
       "             dtype='float64')"
      ]
     },
     "execution_count": 23,
     "metadata": {},
     "output_type": "execute_result"
    }
   ],
   "source": [
    "valueSR.index"
   ]
  },
  {
   "cell_type": "code",
   "execution_count": 24,
   "id": "08d571fa",
   "metadata": {},
   "outputs": [
    {
     "data": {
      "text/plain": [
       "10"
      ]
     },
     "execution_count": 24,
     "metadata": {},
     "output_type": "execute_result"
    }
   ],
   "source": [
    "# SR객체 안에서 최대 큰 값\n",
    "valueSR.max()"
   ]
  },
  {
   "cell_type": "code",
   "execution_count": 25,
   "id": "b73a5d01",
   "metadata": {},
   "outputs": [
    {
     "data": {
      "text/plain": [
       "1"
      ]
     },
     "execution_count": 25,
     "metadata": {},
     "output_type": "execute_result"
    }
   ],
   "source": [
    "# SR객체 안에서 최대 작은 값\n",
    "valueSR.min()"
   ]
  },
  {
   "cell_type": "code",
   "execution_count": 26,
   "id": "40fe5b0d",
   "metadata": {},
   "outputs": [
    {
     "data": {
      "text/plain": [
       "0"
      ]
     },
     "execution_count": 26,
     "metadata": {},
     "output_type": "execute_result"
    }
   ],
   "source": [
    "# SR객체 안에서 최대값이 존재하는 인덱스 => argmax()\n",
    "valueSR.argmax()"
   ]
  },
  {
   "cell_type": "code",
   "execution_count": 27,
   "id": "b3576383",
   "metadata": {},
   "outputs": [
    {
     "data": {
      "text/plain": [
       "(5.0, 7.6)"
      ]
     },
     "execution_count": 27,
     "metadata": {},
     "output_type": "execute_result"
    }
   ],
   "source": [
    "# SR객체 안에서 최대값이 존재하는 인덱스 라벨\n",
    "valueSR.index[valueSR.argmax()], valueSR.index[valueSR.argmin()]"
   ]
  },
  {
   "cell_type": "code",
   "execution_count": 28,
   "id": "ec2ddc90",
   "metadata": {},
   "outputs": [
    {
     "data": {
      "text/plain": [
       "5.0"
      ]
     },
     "execution_count": 28,
     "metadata": {},
     "output_type": "execute_result"
    }
   ],
   "source": [
    "irisDF['SepalLength'].value_counts().index[0]"
   ]
  },
  {
   "cell_type": "code",
   "execution_count": null,
   "id": "00d6885e",
   "metadata": {},
   "outputs": [],
   "source": []
  }
 ],
 "metadata": {
  "kernelspec": {
   "display_name": "Python 3 (ipykernel)",
   "language": "python",
   "name": "python3"
  },
  "language_info": {
   "codemirror_mode": {
    "name": "ipython",
    "version": 3
   },
   "file_extension": ".py",
   "mimetype": "text/x-python",
   "name": "python",
   "nbconvert_exporter": "python",
   "pygments_lexer": "ipython3",
   "version": "3.9.12"
  }
 },
 "nbformat": 4,
 "nbformat_minor": 5
}
