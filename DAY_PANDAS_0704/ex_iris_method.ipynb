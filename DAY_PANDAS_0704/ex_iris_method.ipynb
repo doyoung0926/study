{
 "cells": [
  {
   "cell_type": "markdown",
   "id": "3eee8c31",
   "metadata": {},
   "source": [
    "# 통계 관련 메서드 실습 -------------------------------------------------------------\n",
    "\n",
    "- 데이터에 대한 평균, 표준편차, 중앙값, 최빈값, 상관계수값 관련 메서드 활용\n",
    "- 데이터와 데이터의 관계, 데이터의 분포 등을 파악"
   ]
  },
  {
   "cell_type": "code",
   "execution_count": 17,
   "id": "1e097a8d",
   "metadata": {},
   "outputs": [
    {
     "data": {
      "text/plain": [
       "'../Data/iris.csv'"
      ]
     },
     "execution_count": 17,
     "metadata": {},
     "output_type": "execute_result"
    }
   ],
   "source": [
    "# 모듈 로딩 -----------------------------------------------------------------------\n",
    "import pandas as pd\n",
    "\n",
    "# 파일 관련 변수들 ----------------------------------------------------------------\n",
    "DIR_PATH='../Data/'\n",
    "FILE_NAME=DIR_PATH+'iris.csv'\n",
    "\n",
    "FILE_NAME"
   ]
  },
  {
   "cell_type": "code",
   "execution_count": 18,
   "id": "7ba21f10",
   "metadata": {},
   "outputs": [
    {
     "name": "stdout",
     "output_type": "stream",
     "text": [
      "<class 'pandas.core.frame.DataFrame'>\n",
      "RangeIndex: 150 entries, 0 to 149\n",
      "Data columns (total 5 columns):\n",
      " #   Column       Non-Null Count  Dtype  \n",
      "---  ------       --------------  -----  \n",
      " 0   SepalLength  150 non-null    float64\n",
      " 1   SepalWidth   150 non-null    float64\n",
      " 2   PetalLength  150 non-null    float64\n",
      " 3   PetalWidth   150 non-null    float64\n",
      " 4   Name         150 non-null    object \n",
      "dtypes: float64(4), object(1)\n",
      "memory usage: 6.0+ KB\n"
     ]
    }
   ],
   "source": [
    "# (1) CSV File ==> DataFrame으로 로딩 -------------------------------------------------\n",
    "irisDF=pd.read_csv(FILE_NAME)\n",
    "irisDF.info()"
   ]
  },
  {
   "cell_type": "code",
   "execution_count": 19,
   "id": "4c166d93",
   "metadata": {},
   "outputs": [
    {
     "name": "stderr",
     "output_type": "stream",
     "text": [
      "C:\\Users\\User\\AppData\\Local\\Temp\\ipykernel_13848\\1293569636.py:2: FutureWarning: Dropping of nuisance columns in DataFrame reductions (with 'numeric_only=None') is deprecated; in a future version this will raise TypeError.  Select only valid columns before calling the reduction.\n",
      "  irisDF.mean()\n"
     ]
    },
    {
     "data": {
      "text/plain": [
       "SepalLength    5.843333\n",
       "SepalWidth     3.054000\n",
       "PetalLength    3.758667\n",
       "PetalWidth     1.198667\n",
       "dtype: float64"
      ]
     },
     "execution_count": 19,
     "metadata": {},
     "output_type": "execute_result"
    }
   ],
   "source": [
    "# (2) DF 객체에서 대한 통계 관련 메서드 적용 --------------------------------------------------------\n",
    "irisDF.mean()"
   ]
  },
  {
   "cell_type": "code",
   "execution_count": 20,
   "id": "947b08cf",
   "metadata": {},
   "outputs": [
    {
     "name": "stderr",
     "output_type": "stream",
     "text": [
      "C:\\Users\\User\\AppData\\Local\\Temp\\ipykernel_13848\\3571167801.py:1: FutureWarning: Dropping of nuisance columns in DataFrame reductions (with 'numeric_only=None') is deprecated; in a future version this will raise TypeError.  Select only valid columns before calling the reduction.\n",
      "  irisDF.std()\n"
     ]
    },
    {
     "data": {
      "text/plain": [
       "SepalLength    0.828066\n",
       "SepalWidth     0.433594\n",
       "PetalLength    1.764420\n",
       "PetalWidth     0.763161\n",
       "dtype: float64"
      ]
     },
     "execution_count": 20,
     "metadata": {},
     "output_type": "execute_result"
    }
   ],
   "source": [
    "irisDF.std()"
   ]
  },
  {
   "cell_type": "code",
   "execution_count": 21,
   "id": "792c1577",
   "metadata": {},
   "outputs": [
    {
     "name": "stderr",
     "output_type": "stream",
     "text": [
      "C:\\Users\\User\\AppData\\Local\\Temp\\ipykernel_13848\\1330024277.py:1: FutureWarning: Dropping of nuisance columns in DataFrame reductions (with 'numeric_only=None') is deprecated; in a future version this will raise TypeError.  Select only valid columns before calling the reduction.\n",
      "  irisDF.median()\n"
     ]
    },
    {
     "data": {
      "text/plain": [
       "SepalLength    5.80\n",
       "SepalWidth     3.00\n",
       "PetalLength    4.35\n",
       "PetalWidth     1.30\n",
       "dtype: float64"
      ]
     },
     "execution_count": 21,
     "metadata": {},
     "output_type": "execute_result"
    }
   ],
   "source": [
    "irisDF.median()"
   ]
  },
  {
   "cell_type": "code",
   "execution_count": 22,
   "id": "af8b6666",
   "metadata": {},
   "outputs": [
    {
     "data": {
      "text/html": [
       "<div>\n",
       "<style scoped>\n",
       "    .dataframe tbody tr th:only-of-type {\n",
       "        vertical-align: middle;\n",
       "    }\n",
       "\n",
       "    .dataframe tbody tr th {\n",
       "        vertical-align: top;\n",
       "    }\n",
       "\n",
       "    .dataframe thead th {\n",
       "        text-align: right;\n",
       "    }\n",
       "</style>\n",
       "<table border=\"1\" class=\"dataframe\">\n",
       "  <thead>\n",
       "    <tr style=\"text-align: right;\">\n",
       "      <th></th>\n",
       "      <th>SepalLength</th>\n",
       "      <th>SepalWidth</th>\n",
       "      <th>PetalLength</th>\n",
       "      <th>PetalWidth</th>\n",
       "    </tr>\n",
       "  </thead>\n",
       "  <tbody>\n",
       "    <tr>\n",
       "      <th>SepalLength</th>\n",
       "      <td>1.000000</td>\n",
       "      <td>-0.109369</td>\n",
       "      <td>0.871754</td>\n",
       "      <td>0.817954</td>\n",
       "    </tr>\n",
       "    <tr>\n",
       "      <th>SepalWidth</th>\n",
       "      <td>-0.109369</td>\n",
       "      <td>1.000000</td>\n",
       "      <td>-0.420516</td>\n",
       "      <td>-0.356544</td>\n",
       "    </tr>\n",
       "    <tr>\n",
       "      <th>PetalLength</th>\n",
       "      <td>0.871754</td>\n",
       "      <td>-0.420516</td>\n",
       "      <td>1.000000</td>\n",
       "      <td>0.962757</td>\n",
       "    </tr>\n",
       "    <tr>\n",
       "      <th>PetalWidth</th>\n",
       "      <td>0.817954</td>\n",
       "      <td>-0.356544</td>\n",
       "      <td>0.962757</td>\n",
       "      <td>1.000000</td>\n",
       "    </tr>\n",
       "  </tbody>\n",
       "</table>\n",
       "</div>"
      ],
      "text/plain": [
       "             SepalLength  SepalWidth  PetalLength  PetalWidth\n",
       "SepalLength     1.000000   -0.109369     0.871754    0.817954\n",
       "SepalWidth     -0.109369    1.000000    -0.420516   -0.356544\n",
       "PetalLength     0.871754   -0.420516     1.000000    0.962757\n",
       "PetalWidth      0.817954   -0.356544     0.962757    1.000000"
      ]
     },
     "execution_count": 22,
     "metadata": {},
     "output_type": "execute_result"
    }
   ],
   "source": [
    "irisDF.corr()"
   ]
  },
  {
   "cell_type": "code",
   "execution_count": 23,
   "id": "8efde777",
   "metadata": {
    "scrolled": true
   },
   "outputs": [
    {
     "name": "stdout",
     "output_type": "stream",
     "text": [
      "----------SepalLength----------\n",
      "평    균 : 5.843333333333335\n",
      "표준편차 : 0.8280661279778629\n",
      "최 빈 값 : 5.0\n",
      "상관계수\n",
      "SepalWidth : -0.10936924995064937\n",
      "PetalLength : 0.8717541573048718\n",
      "PetalWidth : 0.8179536333691636\n",
      "\n",
      "----------SepalWidth----------\n",
      "평    균 : 3.0540000000000007\n",
      "표준편차 : 0.4335943113621737\n",
      "최 빈 값 : 3.0\n",
      "상관계수\n",
      "SepalLength : -0.10936924995064937\n",
      "PetalLength : -0.42051609640115445\n",
      "PetalWidth : -0.35654408961380535\n",
      "\n",
      "----------PetalLength----------\n",
      "평    균 : 3.7586666666666693\n",
      "표준편차 : 1.7644204199522617\n",
      "최 빈 값 : 1.5\n",
      "상관계수\n",
      "SepalLength : 0.8717541573048718\n",
      "SepalWidth : -0.42051609640115445\n",
      "PetalWidth : 0.9627570970509663\n",
      "\n",
      "----------PetalWidth----------\n",
      "평    균 : 1.1986666666666672\n",
      "표준편차 : 0.7631607417008414\n",
      "최 빈 값 : 0.2\n",
      "상관계수\n",
      "SepalLength : 0.8179536333691637\n",
      "SepalWidth : -0.35654408961380535\n",
      "PetalLength : 0.9627570970509663\n",
      "\n"
     ]
    }
   ],
   "source": [
    "# (3) 컬럼별 평균, 표준편차, 상관계수 출력하기     \n",
    "for col in irisDF.columns[:4]:\n",
    "    print(f'----------{col}----------')\n",
    "    print(f'평    균 : {irisDF[col].mean()}')\n",
    "    print(f'표준편차 : {irisDF[col].std()}')\n",
    "    print(f'최 빈 값 : {irisDF[col].mode()[0]}')\n",
    "    print(f'상관계수')\n",
    "    for icol in irisDF.columns[:4]:\n",
    "        if col == icol: continue\n",
    "        print(f'{icol} : {irisDF[col].corr(irisDF[icol])}')\n",
    "    print()"
   ]
  },
  {
   "cell_type": "code",
   "execution_count": 24,
   "id": "84b2878d",
   "metadata": {},
   "outputs": [],
   "source": [
    "# for i in iris.columns:\n",
    "#     for j in iris.columns:\n",
    "#         print(iris[i].corr(iris[j]))"
   ]
  },
  {
   "cell_type": "markdown",
   "id": "946edf42",
   "metadata": {},
   "source": [
    "# 데이터 갯수와 고유값\n",
    "\n",
    "- 컬럼별 개수 => count() 메서드\n",
    "- 컬럼별 고유값 => unique() 메서드\n",
    "- 컬럼별 값별 개수 => value_counts()"
   ]
  },
  {
   "cell_type": "code",
   "execution_count": 25,
   "id": "995cf621",
   "metadata": {},
   "outputs": [
    {
     "data": {
      "text/plain": [
       "'../Data/iris.csv'"
      ]
     },
     "execution_count": 25,
     "metadata": {},
     "output_type": "execute_result"
    }
   ],
   "source": [
    "# 모듈 로딩\n",
    "import pandas as pd\n",
    "\n",
    "# 파일 관련 변수 선언\n",
    "DIR='../Data/'\n",
    "FILE=DIR+'iris.csv'\n",
    "\n",
    "FILE"
   ]
  },
  {
   "cell_type": "code",
   "execution_count": 26,
   "id": "af5ab563",
   "metadata": {},
   "outputs": [],
   "source": [
    "# File -> DataFrame 으로 가져오기\n",
    "irisDF=pd.read_csv(FILE)"
   ]
  },
  {
   "cell_type": "code",
   "execution_count": 27,
   "id": "69d4d4e3",
   "metadata": {},
   "outputs": [
    {
     "name": "stdout",
     "output_type": "stream",
     "text": [
      "<class 'pandas.core.frame.DataFrame'>\n",
      "RangeIndex: 150 entries, 0 to 149\n",
      "Data columns (total 5 columns):\n",
      " #   Column       Non-Null Count  Dtype  \n",
      "---  ------       --------------  -----  \n",
      " 0   SepalLength  150 non-null    float64\n",
      " 1   SepalWidth   150 non-null    float64\n",
      " 2   PetalLength  150 non-null    float64\n",
      " 3   PetalWidth   150 non-null    float64\n",
      " 4   Name         150 non-null    object \n",
      "dtypes: float64(4), object(1)\n",
      "memory usage: 6.0+ KB\n"
     ]
    }
   ],
   "source": [
    "# (1) 데이터 확인하기\n",
    "# DF 요약 정보 => info() 메서드\n",
    "irisDF.info()"
   ]
  },
  {
   "cell_type": "code",
   "execution_count": 28,
   "id": "110946ad",
   "metadata": {},
   "outputs": [
    {
     "data": {
      "text/plain": [
       "Index(['SepalLength', 'SepalWidth', 'PetalLength', 'PetalWidth', 'Name'], dtype='object')"
      ]
     },
     "execution_count": 28,
     "metadata": {},
     "output_type": "execute_result"
    }
   ],
   "source": [
    "# DF columns 정보 확인\n",
    "irisDF.columns"
   ]
  },
  {
   "cell_type": "code",
   "execution_count": 29,
   "id": "fb74bc62",
   "metadata": {},
   "outputs": [
    {
     "data": {
      "text/plain": [
       "((150, 5), 2)"
      ]
     },
     "execution_count": 29,
     "metadata": {},
     "output_type": "execute_result"
    }
   ],
   "source": [
    "# DF shape, ndim 정보 확인\n",
    "irisDF.shape, irisDF.ndim"
   ]
  },
  {
   "cell_type": "code",
   "execution_count": 30,
   "id": "53bc6820",
   "metadata": {},
   "outputs": [
    {
     "data": {
      "text/plain": [
       "pandas.core.series.Series"
      ]
     },
     "execution_count": 30,
     "metadata": {},
     "output_type": "execute_result"
    }
   ],
   "source": [
    "# (2) 원하는 작업 수행\n",
    "# 'Name' 컬럼 추출 => DF객체변수명[컬럼명]\n",
    "irisName = irisDF['Name']\n",
    "type(irisName)"
   ]
  },
  {
   "cell_type": "code",
   "execution_count": 31,
   "id": "b72611ef",
   "metadata": {},
   "outputs": [
    {
     "data": {
      "text/plain": [
       "150"
      ]
     },
     "execution_count": 31,
     "metadata": {},
     "output_type": "execute_result"
    }
   ],
   "source": [
    "# Name컬럼의 데이터 갯수\n",
    "irisDF['Name'].count()"
   ]
  },
  {
   "cell_type": "code",
   "execution_count": null,
   "id": "cbac64ab",
   "metadata": {},
   "outputs": [],
   "source": []
  }
 ],
 "metadata": {
  "kernelspec": {
   "display_name": "Python 3 (ipykernel)",
   "language": "python",
   "name": "python3"
  },
  "language_info": {
   "codemirror_mode": {
    "name": "ipython",
    "version": 3
   },
   "file_extension": ".py",
   "mimetype": "text/x-python",
   "name": "python",
   "nbconvert_exporter": "python",
   "pygments_lexer": "ipython3",
   "version": "3.9.12"
  }
 },
 "nbformat": 4,
 "nbformat_minor": 5
}
