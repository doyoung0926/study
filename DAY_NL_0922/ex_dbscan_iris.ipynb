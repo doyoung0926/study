{
 "cells": [
  {
   "cell_type": "markdown",
   "id": "279a2348",
   "metadata": {},
   "source": [
    "# 비원형 데이터의 군집화 - DBSCAN\n",
    "---\n",
    "- 분할적 군집화 방식\n",
    "- 밀도(데이터의 밀집)기반 군집화 ==> 미리 군집수 지정 필요 없음\n",
    "- 다양한 형태의 데이터에서 군집화 가능\n",
    "- 이상치 데이터 제거도 가능함\n",
    "- 군집을 정하는 기준\n",
    "    * 임의의 점(Point)에서 지정된 거리만큼 영역 안에 지정된 데이터 수 존재 여부\n",
    "    * 하이퍼파라미터 => 거리, 데이터수"
   ]
  },
  {
   "cell_type": "code",
   "execution_count": 78,
   "id": "3f9ef049",
   "metadata": {},
   "outputs": [],
   "source": [
    "from sklearn.datasets import load_iris\n",
    "from sklearn.cluster import DBSCAN\n",
    "import numpy as np"
   ]
  },
  {
   "cell_type": "markdown",
   "id": "285fdba1",
   "metadata": {},
   "source": [
    "## [1] 데이터 로딩"
   ]
  },
  {
   "cell_type": "code",
   "execution_count": 79,
   "id": "62dd38a8",
   "metadata": {},
   "outputs": [],
   "source": [
    "# DataFrame 형태로 데이터 로딩 시 ==> return_X_y=True, as_frame=True 설정\n",
    "X, y=load_iris(return_X_y=True, as_frame=True)"
   ]
  },
  {
   "cell_type": "code",
   "execution_count": 80,
   "id": "7a8e5686",
   "metadata": {},
   "outputs": [
    {
     "data": {
      "text/plain": [
       "(pandas.core.frame.DataFrame, pandas.core.series.Series, (150, 4), (150,))"
      ]
     },
     "execution_count": 80,
     "metadata": {},
     "output_type": "execute_result"
    }
   ],
   "source": [
    "type(X), type(y), X.shape, y.shape"
   ]
  },
  {
   "cell_type": "markdown",
   "id": "004de4a5",
   "metadata": {},
   "source": [
    "## [2] 데이터 전처리"
   ]
  },
  {
   "cell_type": "code",
   "execution_count": 81,
   "id": "dfd7381c",
   "metadata": {},
   "outputs": [],
   "source": [
    "from sklearn.preprocessing import StandardScaler"
   ]
  },
  {
   "cell_type": "code",
   "execution_count": 82,
   "id": "71681c80",
   "metadata": {},
   "outputs": [],
   "source": [
    "scaler=StandardScaler()"
   ]
  },
  {
   "cell_type": "code",
   "execution_count": 83,
   "id": "edfde1f9",
   "metadata": {},
   "outputs": [
    {
     "data": {
      "text/plain": [
       "StandardScaler()"
      ]
     },
     "execution_count": 83,
     "metadata": {},
     "output_type": "execute_result"
    }
   ],
   "source": [
    "scaler.fit(X)"
   ]
  },
  {
   "cell_type": "code",
   "execution_count": 84,
   "id": "6aa56ab0",
   "metadata": {},
   "outputs": [],
   "source": [
    "X_scaled=scaler.transform(X)"
   ]
  },
  {
   "cell_type": "code",
   "execution_count": 85,
   "id": "36911e6e",
   "metadata": {},
   "outputs": [
    {
     "data": {
      "text/plain": [
       "array([-1.34022653, -1.34022653, -1.39706395, -1.2833891 , -1.34022653,\n",
       "       -1.16971425, -1.34022653, -1.2833891 , -1.34022653, -1.2833891 ,\n",
       "       -1.2833891 , -1.22655167, -1.34022653, -1.51073881, -1.45390138,\n",
       "       -1.2833891 , -1.39706395, -1.34022653, -1.16971425, -1.2833891 ,\n",
       "       -1.16971425, -1.2833891 , -1.56757623, -1.16971425, -1.05603939,\n",
       "       -1.22655167, -1.22655167, -1.2833891 , -1.34022653, -1.22655167,\n",
       "       -1.22655167, -1.2833891 , -1.2833891 , -1.34022653, -1.2833891 ,\n",
       "       -1.45390138, -1.39706395, -1.34022653, -1.39706395, -1.2833891 ,\n",
       "       -1.39706395, -1.39706395, -1.39706395, -1.22655167, -1.05603939,\n",
       "       -1.34022653, -1.22655167, -1.34022653, -1.2833891 , -1.34022653,\n",
       "        0.53540856,  0.42173371,  0.64908342,  0.13754657,  0.47857113,\n",
       "        0.42173371,  0.53540856, -0.26031542,  0.47857113,  0.08070915,\n",
       "       -0.14664056,  0.25122143,  0.13754657,  0.53540856, -0.08980313,\n",
       "        0.36489628,  0.42173371,  0.194384  ,  0.42173371,  0.08070915,\n",
       "        0.59224599,  0.13754657,  0.64908342,  0.53540856,  0.30805885,\n",
       "        0.36489628,  0.59224599,  0.70592084,  0.42173371, -0.14664056,\n",
       "        0.02387172, -0.03296571,  0.08070915,  0.76275827,  0.42173371,\n",
       "        0.42173371,  0.53540856,  0.36489628,  0.194384  ,  0.13754657,\n",
       "        0.36489628,  0.47857113,  0.13754657, -0.26031542,  0.25122143,\n",
       "        0.25122143,  0.25122143,  0.30805885, -0.4308277 ,  0.194384  ,\n",
       "        1.27429511,  0.76275827,  1.21745768,  1.0469454 ,  1.16062026,\n",
       "        1.61531967,  0.42173371,  1.44480739,  1.16062026,  1.33113254,\n",
       "        0.76275827,  0.87643312,  0.99010798,  0.70592084,  0.76275827,\n",
       "        0.87643312,  0.99010798,  1.6721571 ,  1.78583195,  0.70592084,\n",
       "        1.10378283,  0.64908342,  1.6721571 ,  0.64908342,  1.10378283,\n",
       "        1.27429511,  0.59224599,  0.64908342,  1.0469454 ,  1.16062026,\n",
       "        1.33113254,  1.50164482,  1.0469454 ,  0.76275827,  1.0469454 ,\n",
       "        1.33113254,  1.0469454 ,  0.99010798,  0.59224599,  0.93327055,\n",
       "        1.0469454 ,  0.76275827,  0.76275827,  1.21745768,  1.10378283,\n",
       "        0.8195957 ,  0.70592084,  0.8195957 ,  0.93327055,  0.76275827])"
      ]
     },
     "execution_count": 85,
     "metadata": {},
     "output_type": "execute_result"
    }
   ],
   "source": [
    "X_scaled[:,2]"
   ]
  },
  {
   "cell_type": "markdown",
   "id": "bcde3a2f",
   "metadata": {},
   "source": [
    "## [3] 군집화\n",
    "---"
   ]
  },
  {
   "cell_type": "code",
   "execution_count": 86,
   "id": "31d8dca3",
   "metadata": {},
   "outputs": [],
   "source": [
    "# 군집화 객체 생성\n",
    "dbscan = DBSCAN(eps=3, min_samples=10)"
   ]
  },
  {
   "cell_type": "code",
   "execution_count": 87,
   "id": "5ff610ad",
   "metadata": {},
   "outputs": [],
   "source": [
    "# iris 데이터 분류\n",
    "irisDBS=dbscan.fit(X_scaled)"
   ]
  },
  {
   "cell_type": "code",
   "execution_count": 88,
   "id": "7ef4077f",
   "metadata": {},
   "outputs": [
    {
     "data": {
      "text/plain": [
       "(array([0, 0, 0, 0, 0, 0, 0, 0, 0, 0, 0, 0, 0, 0, 0, 0, 0, 0, 0, 0, 0, 0,\n",
       "        0, 0, 0, 0, 0, 0, 0, 0, 0, 0, 0, 0, 0, 0, 0, 0, 0, 0, 0, 0, 0, 0,\n",
       "        0, 0, 0, 0, 0, 0, 0, 0, 0, 0, 0, 0, 0, 0, 0, 0, 0, 0, 0, 0, 0, 0,\n",
       "        0, 0, 0, 0, 0, 0, 0, 0, 0, 0, 0, 0, 0, 0, 0, 0, 0, 0, 0, 0, 0, 0,\n",
       "        0, 0, 0, 0, 0, 0, 0, 0, 0, 0, 0, 0, 0, 0, 0, 0, 0, 0, 0, 0, 0, 0,\n",
       "        0, 0, 0, 0, 0, 0, 0, 0, 0, 0, 0, 0, 0, 0, 0, 0, 0, 0, 0, 0, 0, 0,\n",
       "        0, 0, 0, 0, 0, 0, 0, 0, 0, 0, 0, 0, 0, 0, 0, 0, 0, 0], dtype=int64),\n",
       " (150,))"
      ]
     },
     "execution_count": 88,
     "metadata": {},
     "output_type": "execute_result"
    }
   ],
   "source": [
    "irisDBS.labels_, irisDBS.labels_.shape"
   ]
  },
  {
   "cell_type": "code",
   "execution_count": 89,
   "id": "1cdadd94",
   "metadata": {},
   "outputs": [],
   "source": [
    "dbscan_labels = irisDBS.labels_"
   ]
  },
  {
   "cell_type": "code",
   "execution_count": 90,
   "id": "43e0cf42",
   "metadata": {},
   "outputs": [
    {
     "data": {
      "text/plain": [
       "(150, 4)"
      ]
     },
     "execution_count": 90,
     "metadata": {},
     "output_type": "execute_result"
    }
   ],
   "source": [
    "irisDBS.components_.shape"
   ]
  },
  {
   "cell_type": "code",
   "execution_count": 91,
   "id": "f74f2ad2",
   "metadata": {},
   "outputs": [
    {
     "data": {
      "text/plain": [
       "array([0, 0, 0, 0, 0, 0, 0, 0, 0, 0, 0, 0, 0, 0, 0, 0, 0, 0, 0, 0, 0, 0,\n",
       "       0, 0, 0, 0, 0, 0, 0, 0, 0, 0, 0, 0, 0, 0, 0, 0, 0, 0, 0, 0, 0, 0,\n",
       "       0, 0, 0, 0, 0, 0, 0, 0, 0, 0, 0, 0, 0, 0, 0, 0, 0, 0, 0, 0, 0, 0,\n",
       "       0, 0, 0, 0, 0, 0, 0, 0, 0, 0, 0, 0, 0, 0, 0, 0, 0, 0, 0, 0, 0, 0,\n",
       "       0, 0, 0, 0, 0, 0, 0, 0, 0, 0, 0, 0, 0, 0, 0, 0, 0, 0, 0, 0, 0, 0,\n",
       "       0, 0, 0, 0, 0, 0, 0, 0, 0, 0, 0, 0, 0, 0, 0, 0, 0, 0, 0, 0, 0, 0,\n",
       "       0, 0, 0, 0, 0, 0, 0, 0, 0, 0, 0, 0, 0, 0, 0, 0, 0, 0], dtype=int64)"
      ]
     },
     "execution_count": 91,
     "metadata": {},
     "output_type": "execute_result"
    }
   ],
   "source": [
    "irisDBS.fit_predict(X_scaled)"
   ]
  },
  {
   "cell_type": "code",
   "execution_count": 92,
   "id": "7125b56e",
   "metadata": {},
   "outputs": [],
   "source": [
    "## 정답지랑 하나로 묶기\n",
    "import pandas as pd\n",
    "\n",
    "irisDF=pd.DataFrame(X_scaled)"
   ]
  },
  {
   "cell_type": "code",
   "execution_count": 93,
   "id": "452cc2ae",
   "metadata": {},
   "outputs": [],
   "source": [
    "irisDF['dbscan_cluster'] = dbscan_labels\n",
    "irisDF['target'] = y"
   ]
  },
  {
   "cell_type": "code",
   "execution_count": 94,
   "id": "96018b63",
   "metadata": {},
   "outputs": [
    {
     "name": "stdout",
     "output_type": "stream",
     "text": [
      "target  dbscan_cluster\n",
      "0       0                 50\n",
      "1       0                 50\n",
      "2       0                 50\n",
      "Name: dbscan_cluster, dtype: int64\n"
     ]
    }
   ],
   "source": [
    "iris_result = irisDF.groupby(['target'])['dbscan_cluster'].value_counts()\n",
    "print(iris_result)"
   ]
  }
 ],
 "metadata": {
  "kernelspec": {
   "display_name": "Python 3 (ipykernel)",
   "language": "python",
   "name": "python3"
  },
  "language_info": {
   "codemirror_mode": {
    "name": "ipython",
    "version": 3
   },
   "file_extension": ".py",
   "mimetype": "text/x-python",
   "name": "python",
   "nbconvert_exporter": "python",
   "pygments_lexer": "ipython3",
   "version": "3.9.12"
  }
 },
 "nbformat": 4,
 "nbformat_minor": 5
}
