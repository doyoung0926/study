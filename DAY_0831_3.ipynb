{
 "cells": [
  {
   "cell_type": "markdown",
   "id": "2017a0b7",
   "metadata": {},
   "source": [
    "# 특성 공학과 규제"
   ]
  },
  {
   "cell_type": "code",
   "execution_count": 4,
   "id": "a3d95cfe",
   "metadata": {},
   "outputs": [
    {
     "name": "stdout",
     "output_type": "stream",
     "text": [
      "[[ 8.4   2.11  1.41]\n",
      " [13.7   3.53  2.  ]\n",
      " [15.    3.82  2.43]\n",
      " [16.2   4.59  2.63]\n",
      " [17.4   4.59  2.94]]\n",
      "(56, 3)\n"
     ]
    }
   ],
   "source": [
    "# Pandas로 데이터 준비\n",
    "import pandas as pd\n",
    "\n",
    "df = pd.read_csv('https://bit.ly/perch_csv')\n",
    "perch_full = df.to_numpy()  # DataFrame을 Numpy의 array로 변환\n",
    "print(perch_full[:5])\n",
    "print(perch_full.shape)"
   ]
  },
  {
   "cell_type": "code",
   "execution_count": 5,
   "id": "6fa6020b",
   "metadata": {},
   "outputs": [],
   "source": [
    "# 훈련 세트와 테스트 세트로 분리\n",
    "import numpy as np\n",
    "\n",
    "perch_weight = np.array([5.9, 32.0, 40.0, 51.5, 70.0, 100.0, 78.0, 80.0, \n",
    "                         85.0, 85.0, 110.0, 115.0, 125.0, 130.0, 120.0, \n",
    "                         120.0, 130.0, 135.0, 110.0, 130.0,150.0, 145.0,\n",
    "                         150.0, 170.0, 225.0, 145.0, 188.0, 180.0,197.0,\n",
    "                         218.0,300.0, 260.0, 265.0, 250.0, 250.0, 300.0,\n",
    "                         320.0, 514.0, 556.0, 840.0,685.0, 700.0, 700.0,\n",
    "                         690.0, 900.0, 650.0, 820.0, 850.0, 900.0,\n",
    "                         1015.0, 820.0, 1100.0, 1000.0, 1100.0, \n",
    "                         1000.0, 1000.0])\n"
   ]
  },
  {
   "cell_type": "code",
   "execution_count": 6,
   "id": "b2a918d5",
   "metadata": {},
   "outputs": [],
   "source": [
    "from sklearn.model_selection import train_test_split\n",
    "\n",
    "train_input, test_input, train_target, test_target = train_test_split(\n",
    "perch_full, perch_weight, random_state = 42)"
   ]
  },
  {
   "cell_type": "code",
   "execution_count": 7,
   "id": "4b27fa7f",
   "metadata": {},
   "outputs": [],
   "source": [
    "# 사이킷런의 변환기 (Transformer)"
   ]
  },
  {
   "cell_type": "code",
   "execution_count": 8,
   "id": "947d31e5",
   "metadata": {},
   "outputs": [
    {
     "name": "stdout",
     "output_type": "stream",
     "text": [
      "[[ 19.6      5.14     3.04   384.16   100.744   59.584   26.4196  15.6256\n",
      "    9.2416]\n",
      " [ 22.       5.88     3.52   484.     129.36    77.44    34.5744  20.6976\n",
      "   12.3904]\n",
      " [ 18.7      5.2      3.12   349.69    97.24    58.344   27.04    16.224\n",
      "    9.7344]]\n",
      "(42, 9)\n"
     ]
    }
   ],
   "source": [
    "# 다항 특성 만들기\n",
    "from sklearn.preprocessing import PolynomialFeatures\n",
    "\n",
    "poly = PolynomialFeatures(include_bias=False)\n",
    "poly.fit(train_input)\n",
    "train_poly = poly.transform(train_input)\n",
    "\n",
    "print(train_poly[0:3])\n",
    "print(train_poly.shape)\n",
    "test_poly = poly.transform(test_input)"
   ]
  },
  {
   "cell_type": "code",
   "execution_count": 10,
   "id": "3f7b8502",
   "metadata": {},
   "outputs": [
    {
     "name": "stdout",
     "output_type": "stream",
     "text": [
      "['x0' 'x1' 'x2' 'x0^2' 'x0 x1' 'x0 x2' 'x1^2' 'x1 x2' 'x2^2']\n"
     ]
    }
   ],
   "source": [
    "print(poly.get_feature_names_out())"
   ]
  },
  {
   "cell_type": "code",
   "execution_count": 11,
   "id": "8199f53c",
   "metadata": {},
   "outputs": [
    {
     "name": "stdout",
     "output_type": "stream",
     "text": [
      "0.9903183436982125\n"
     ]
    }
   ],
   "source": [
    "from sklearn.linear_model import LinearRegression\n",
    "\n",
    "lr = LinearRegression()\n",
    "lr.fit(train_poly, train_target)\n",
    "print(lr.score(train_poly, train_target))"
   ]
  },
  {
   "cell_type": "code",
   "execution_count": 12,
   "id": "4e20205f",
   "metadata": {},
   "outputs": [
    {
     "name": "stdout",
     "output_type": "stream",
     "text": [
      "0.9714559911594155\n"
     ]
    }
   ],
   "source": [
    "print(lr.score(test_poly, test_target))"
   ]
  },
  {
   "cell_type": "code",
   "execution_count": null,
   "id": "7f822ca7",
   "metadata": {},
   "outputs": [],
   "source": []
  }
 ],
 "metadata": {
  "kernelspec": {
   "display_name": "Python 3 (ipykernel)",
   "language": "python",
   "name": "python3"
  },
  "language_info": {
   "codemirror_mode": {
    "name": "ipython",
    "version": 3
   },
   "file_extension": ".py",
   "mimetype": "text/x-python",
   "name": "python",
   "nbconvert_exporter": "python",
   "pygments_lexer": "ipython3",
   "version": "3.9.12"
  }
 },
 "nbformat": 4,
 "nbformat_minor": 5
}
