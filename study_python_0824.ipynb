{
 "cells": [
  {
   "cell_type": "code",
   "execution_count": 172,
   "id": "3b22179c",
   "metadata": {},
   "outputs": [],
   "source": [
    "# 파이썬 복습_0824"
   ]
  },
  {
   "cell_type": "code",
   "execution_count": 173,
   "id": "2a1b0ea6",
   "metadata": {},
   "outputs": [],
   "source": [
    "# 프로그래밍 살펴보기\n",
    "# 프로그래밍 방법\n",
    "# 절차적(구조적) 프로그래밍\n",
    "# 작업 순서를 표현하는 명령 집합\n",
    "# 함수들의 집합으로 프로그램 작성\n",
    "# 데이터\n",
    "# 함수\n",
    "# 순서 선택 반복"
   ]
  },
  {
   "cell_type": "code",
   "execution_count": 174,
   "id": "91cab9a0",
   "metadata": {},
   "outputs": [],
   "source": [
    "# 객체 지향 프로그래밍\n",
    "# 프로그램을 실제 세상에 가깝게 모델링\n",
    "# 컴퓨터가 수행하는 작업을 객체들간의 상호 작용으로 표현\n",
    "# 클래스 혹은 객체들의 집합으로 프로그램 작성\n",
    "# 클래스\n",
    "# 데이터 메서든"
   ]
  },
  {
   "cell_type": "code",
   "execution_count": 175,
   "id": "a279d4dc",
   "metadata": {},
   "outputs": [],
   "source": [
    "# 객체들의 상호 관련성\n",
    "# 절차지향적 프로그래밍의 실행 절차"
   ]
  },
  {
   "cell_type": "code",
   "execution_count": 176,
   "id": "8e2d694c",
   "metadata": {},
   "outputs": [],
   "source": [
    "# 객체 사용법\n",
    "# 클래스 - 데이터 메서드\n",
    "# 객체\n",
    "# 객체 인스턴스 데이터   메서드 \n",
    "# 객체  인스턴스 데이터 메서드\n",
    "\n",
    "# 객체 변수명.변수\n",
    "# 객체변수명.메서드()"
   ]
  },
  {
   "cell_type": "code",
   "execution_count": 177,
   "id": "ec01c0bf",
   "metadata": {},
   "outputs": [],
   "source": [
    "# python 살펴보기\n",
    "# 플랫폼 독립적인 인터프린터 ㅇ너어\n",
    "# 객체 지향적, 동적 타이핑 언어"
   ]
  },
  {
   "cell_type": "code",
   "execution_count": 178,
   "id": "36aed7e4",
   "metadata": {},
   "outputs": [],
   "source": [
    "# python 특징\n",
    "# 가독성\n",
    "# 간결하고 가독성이 좋음\n",
    "# 코드 블록을 들여쓰기(indentation)로 구분\n",
    "\n",
    "# 풍부한 라이브러리 / 패키지\n",
    "# 매우 광범위한 라이브러리가 기본으로 포함\n",
    "# 외부 라이브러리가 풍부하며 확장이 쉬움\n",
    "\n",
    "# 접착성\n",
    "# 쉽게 라이브러리를 추가할 수 있음\n",
    "# 파이썬에서 C로 구현된 부분을 사용할 수도 있음\n",
    "# C 에서 파이썬을 사용할 수 있음\n",
    "\n",
    "# 무료\n",
    "# 파이썬소프트웨어재단 관리\n",
    "# 무료와 다름없는 pytho software foundation license\n",
    "\n",
    "# 유니코드\n",
    "# 문자열들은 모두 유니코드\n",
    "# 한글, 한자 표현하려고 특별한 노력을 할 필요 없음\n",
    "\n",
    "# 객체 지향적 언어\n",
    "# 실행 순서가 아닌 단위 모듈(객체) 중심으로 프로그램 작성\n",
    "# 객체는 행동(method)와 데이터(attribute)로 구성\n",
    "\n",
    "# 동적 타이핑 언어\n",
    "# 프로그램이 실행하는 시점에 데이터에 대한 타입 검사"
   ]
  },
  {
   "cell_type": "code",
   "execution_count": 179,
   "id": "c062e44a",
   "metadata": {},
   "outputs": [],
   "source": [
    "# 인터프리터(동시통역사) 언어란\n",
    "# 작동방식\n",
    "# 장점 / 단점\n",
    "# 주요 언어\n",
    "\n",
    "# 컴파일러 언어\n",
    "# 소스코드를 기계어로 먼저 번역하고 해당 플랫폼에 최적화되어 프로그램을 실행\n",
    "# 실행속도가 빠름 / 한번의 많은 기억장소 필요\n",
    "# C, 자바, C++, C#\n",
    "\n",
    "# 인터프리터 언어\n",
    "# 별도의 번역과정 없이 소스코드를 한줄 한줄 분석하여 컴퓨터가 처리할 수 있도록 함\n",
    "# 간단히 작성, 메모리가 적게 필요 / 실행속도가 느림\n",
    "# 파이썬, 스칼라"
   ]
  },
  {
   "cell_type": "code",
   "execution_count": 180,
   "id": "04239983",
   "metadata": {},
   "outputs": [],
   "source": [
    "# 인터프리터 언어 역할\n"
   ]
  },
  {
   "cell_type": "code",
   "execution_count": 181,
   "id": "af4f5816",
   "metadata": {},
   "outputs": [],
   "source": [
    "# python 사용 분야\n",
    "# data analysis\n",
    "# web crawling\n",
    "# deep learning\n",
    "# web service\n",
    "# machine learning"
   ]
  },
  {
   "cell_type": "code",
   "execution_count": 182,
   "id": "c650dd2b",
   "metadata": {},
   "outputs": [],
   "source": [
    "# python 프로그래밍\n",
    "# 기본 규칙\n",
    "# 주석 : 코드에 대한 설명, 해석 및 실행 안 되는 부분\n",
    "# #  :  한줄 주석\n",
    "# '''~''' , \"\"\"~\"\"\" : 여러 줄 주석\n",
    "# 객체: python의 모든 데이터\n",
    "# 함수: 기능의 코드 묶음 -> 함수명(재료)  \n",
    "# 내장 함수: python 에서 제공하는 함수\n",
    "# 사용자 함수: 개발자가 생성한 함수"
   ]
  },
  {
   "cell_type": "code",
   "execution_count": 183,
   "id": "be38952a",
   "metadata": {},
   "outputs": [],
   "source": [
    "# 메모리와 프로그램\n",
    "# 프로그램 실행시 코드가 저장되는 곳\n",
    "# 효율적인 사용 필요\n",
    "# 메모리 누수 또는 메모리 부족 문제 발생\n",
    "# 스마트폰\n",
    "# 제조사\n",
    "# cpu(뇌)\n",
    "# 메모리 용량\n",
    "# 카메라 해상도"
   ]
  },
  {
   "cell_type": "code",
   "execution_count": 184,
   "id": "7ae8c89d",
   "metadata": {},
   "outputs": [],
   "source": [
    "# 메모리와 프로그램\n",
    "\n",
    "# 코드영역(텍스트) : 프로그램 코드 저장, cpu에서 읽어서 실행\n",
    "# 데이터영역 : 파이썬 기본모듈, import 모듈, 전역변수, 정적변수\n",
    "# 힙 영역 : 객체, python memory manager 관리\n",
    "# 스택 영역 : 함수/ 지역/ 매개변수"
   ]
  },
  {
   "cell_type": "code",
   "execution_count": 185,
   "id": "466c65db",
   "metadata": {},
   "outputs": [],
   "source": [
    "# 메모리와 프로그램\n",
    "# 정적 메모리 할당\n",
    "# 프로그램 컴파일시 메모리가 할당\n",
    "# 스택 영역 사용\n",
    "\n",
    "# 동적 메모리 할당\n",
    "# 런타임에 메모리 할당\n",
    "# 힙 영역 사용"
   ]
  },
  {
   "cell_type": "code",
   "execution_count": 186,
   "id": "fe10ab86",
   "metadata": {},
   "outputs": [],
   "source": [
    "# 메모리와 프로그램\n",
    "# python memory manager\n",
    "# 힙 영역 동적 메모리 관리\n",
    "# 객체 생성 및 관리\n",
    "# 사용되지 않는 메모리 처리\n",
    "# 가비지 컬렉션(Automatic garbage collection)\n",
    "# 레퍼런스 카운트(reference counts)"
   ]
  },
  {
   "cell_type": "code",
   "execution_count": 187,
   "id": "170725e5",
   "metadata": {},
   "outputs": [],
   "source": [
    "# 변수(variable)\n",
    "# 값(데이터) 기억해두기 위한 저장소\n",
    "# 값(데이터)에 이름표를 붙이는 것\n",
    "# 담는 값(데이터)은 언제나 변경 가능\n",
    "# 형식 -> 변수명 = 데이터"
   ]
  },
  {
   "cell_type": "code",
   "execution_count": 188,
   "id": "2bbbf745",
   "metadata": {},
   "outputs": [],
   "source": [
    "# 변수(Variable)\n",
    "# 명명법\n",
    "# 어던 데이터가 저장되어 있는지 알 수 있도록 명명\n",
    "# 문자, 숫자 ,밑줄(_)만으로 변수 이름 구성\n",
    "# 첫 문자로 숫자 사용 불가\n",
    "# 대소문자 구분\n",
    "# 예약어 사용 불가"
   ]
  },
  {
   "cell_type": "code",
   "execution_count": 189,
   "id": "af50f737",
   "metadata": {},
   "outputs": [
    {
     "name": "stdout",
     "output_type": "stream",
     "text": [
      "keyword \n",
      " ['False', 'None', 'True', '__peg_parser__', 'and', 'as', 'assert', 'async', 'await', 'break', 'class', 'continue', 'def', 'del', 'elif', 'else', 'except', 'finally', 'for', 'from', 'global', 'if', 'import', 'in', 'is', 'lambda', 'nonlocal', 'not', 'or', 'pass', 'raise', 'return', 'try', 'while', 'with', 'yield']\n"
     ]
    }
   ],
   "source": [
    "# 변수(Variable)\n",
    "# 예약어 확인\n",
    "# 파이썬에서 이미 사용하고 있는 단어\n",
    "# 변수명 사용 불가\n",
    "import keyword\n",
    "print('keyword \\n', keyword.kwlist)"
   ]
  },
  {
   "cell_type": "code",
   "execution_count": 190,
   "id": "b2f725e9",
   "metadata": {},
   "outputs": [],
   "source": [
    "# 변수(variable)\n",
    "# 생성\n",
    "# 다양한 변수 생성\n",
    "# 형식 => 변수명 = 데이터\n",
    "\n",
    "# 어던 데이터가 저장되어 있는지 알 수 있는 변수명\n",
    "age = 12\n",
    "name = 'hong'\n",
    "famale = 'f'\n",
    "average = 87.9\n",
    "ok = False"
   ]
  },
  {
   "cell_type": "code",
   "execution_count": 191,
   "id": "eb700373",
   "metadata": {},
   "outputs": [],
   "source": [
    "# 변수(variable)\n",
    "# 변수 저장     데이터 저장"
   ]
  },
  {
   "cell_type": "code",
   "execution_count": 192,
   "id": "42f572d0",
   "metadata": {},
   "outputs": [],
   "source": [
    "# 변수(variable)\n",
    "# id(): 객체의 유니크(메모리 주소) 값 보여줌\n",
    "# age > id(age) = 123562712\n",
    "# -5와 256 사이 정수 => integer object 배열에 미리 저장"
   ]
  },
  {
   "cell_type": "code",
   "execution_count": 193,
   "id": "67111488",
   "metadata": {},
   "outputs": [],
   "source": [
    "# 함수 (function)\n",
    "# 특정 기능을 하기 위한 코드 묶음\n",
    "# 함수 이름을 보고 기능 파악\n",
    "# 종류 \n",
    "# 내장 함수: 파이썬 제공 함수\n",
    "# 사용자 정의 함수: 개발자가 만드는 함수\n",
    "# 형태\n",
    "# 함수명()\n",
    "# 함수명(재료1)\n",
    "# 함수명(재료1, 재료2)\n",
    "# ...\n",
    "# 함수명(재료1, ..., 재료n)"
   ]
  },
  {
   "cell_type": "code",
   "execution_count": 194,
   "id": "842356f4",
   "metadata": {},
   "outputs": [
    {
     "name": "stdout",
     "output_type": "stream",
     "text": [
      "godd luck~^^ 2017\n"
     ]
    }
   ],
   "source": [
    "# 콘솔창 입출력 함수\n",
    "# print()\n",
    "# 콘솔창에 데이터 출력하는 함수\n",
    "# 각각 값 사이에 공백과 마지막에 줄 바꿈 문자(\\n) 추가\n",
    "x=2017;\n",
    "print('godd luck~^^',x)"
   ]
  },
  {
   "cell_type": "code",
   "execution_count": 195,
   "id": "1d1d850c",
   "metadata": {},
   "outputs": [],
   "source": [
    "# print() 서식지정자(format string)\n",
    "# 원하는 형태의 데이터 출력\n",
    "# 형태: %문자\n",
    "# 대표적인 서식지정자\n",
    "# %d : decimal fixed point\n",
    "# %f: floating point\n",
    "# %c : character\n",
    "# %s : string"
   ]
  },
  {
   "cell_type": "code",
   "execution_count": 196,
   "id": "afbe46df",
   "metadata": {},
   "outputs": [
    {
     "name": "stdout",
     "output_type": "stream",
     "text": [
      "a+b = 22\n"
     ]
    }
   ],
   "source": [
    "# print() 서식지정자(format string)\n",
    "a=10\n",
    "b=12\n",
    "\n",
    "print('a+b = %d' %(a+b))"
   ]
  },
  {
   "cell_type": "code",
   "execution_count": 197,
   "id": "7c600751",
   "metadata": {},
   "outputs": [
    {
     "name": "stdout",
     "output_type": "stream",
     "text": [
      "a+b=22\n"
     ]
    }
   ],
   "source": [
    "# print() 포맷(format) 문자열 리터러\n",
    "print(f'a+b={a+b}')"
   ]
  },
  {
   "cell_type": "code",
   "execution_count": 198,
   "id": "060b1b36",
   "metadata": {},
   "outputs": [
    {
     "name": "stdout",
     "output_type": "stream",
     "text": [
      "25 세\n",
      "25세\n"
     ]
    }
   ],
   "source": [
    "# python 프로그래밍\n",
    "# 콘솔창 입출력 함수\n",
    "# print(~, end='')\n",
    "# 마지막 줄 바꿈 문자(\\n) 가 아닌 다른 값으로 변경\n",
    "# print(~, sep='')\n",
    "# 콤마(,)로 구분된 항목 간 출력 문자를 다른 값으로 변경\n",
    "print(25, '세')\n",
    "print(25, '세', sep='')"
   ]
  },
  {
   "cell_type": "code",
   "execution_count": 199,
   "id": "2c969563",
   "metadata": {},
   "outputs": [
    {
     "name": "stdout",
     "output_type": "stream",
     "text": [
      "what's your names?dy\n"
     ]
    }
   ],
   "source": [
    "# 콘솔창 입출력 함수\n",
    "# input(요청) 입력함수\n",
    "# 키보드로부터 데이터 입력 받는 함수\n",
    "# 엔터키를 누를 때까지 입력된 문자열 반환\n",
    "# '=' 치환연산자 사용하여 문자열 변수에 저장 가능\n",
    "name = input(\"what's your names?\")"
   ]
  },
  {
   "cell_type": "code",
   "execution_count": 200,
   "id": "7871c9e6",
   "metadata": {},
   "outputs": [
    {
     "name": "stdout",
     "output_type": "stream",
     "text": [
      "what's your age?5\n"
     ]
    }
   ],
   "source": [
    "age=input(\"what's your age?\")"
   ]
  },
  {
   "cell_type": "code",
   "execution_count": 201,
   "id": "28f0411c",
   "metadata": {},
   "outputs": [
    {
     "name": "stdout",
     "output_type": "stream",
     "text": [
      "dy(5세)\n"
     ]
    }
   ],
   "source": [
    "print(name, '(', age, '세)', sep ='')"
   ]
  },
  {
   "cell_type": "code",
   "execution_count": 202,
   "id": "8fd1eee6",
   "metadata": {},
   "outputs": [],
   "source": [
    "# Python 자료형\n",
    "# 자료형(data Type)\n",
    "# 데이터를 저장하기 위한 데이터 종류\n",
    "# 기본 자료형\n",
    "# 수치 자료형 \n",
    "# 정수(int) 타임 : 양수(+), 음수 (-) 저장\n",
    "# 실수 (float) 타입: 실수 저장\n",
    "# 복소수(complex) 타입: 복소수 저장\n",
    "# 문자열 자료형\n",
    "# str 타입: 문자열 저장 'aaa'  \"aaaa\"\n",
    "# 논리 자료형\n",
    "# bool 타입: True, False 저장\n",
    "# 바이트 자료형\n",
    "# bytes 타입: 0~255 사이의 코드 저장"
   ]
  },
  {
   "cell_type": "code",
   "execution_count": 203,
   "id": "cb2b5852",
   "metadata": {},
   "outputs": [],
   "source": [
    "# 자료형(data type)\n",
    "# 변환(casting)/ 형변환\n",
    "# 데이터 타입을 일시적 변환\n",
    "\n",
    "# 내장함수   변환\n",
    "# int()\n",
    "# float()\n",
    "# str()\n",
    "# complex()\n",
    "# bytes()\n",
    "# list()\n",
    "# tuple()"
   ]
  },
  {
   "cell_type": "code",
   "execution_count": 204,
   "id": "e37fa504",
   "metadata": {},
   "outputs": [
    {
     "data": {
      "text/plain": [
       "str"
      ]
     },
     "execution_count": 204,
     "metadata": {},
     "output_type": "execute_result"
    }
   ],
   "source": [
    "# Python 자료형\n",
    "# 자료형(data type)\n",
    "# 타입 확인\n",
    "# 데이터의 타입을 알려주는 type() 함수\n",
    "# 형식 -> type(변수명)    type(데이터)\n",
    "type(100)\n",
    "type('ABC')\n",
    "type(age)\n",
    "type(name)"
   ]
  },
  {
   "cell_type": "code",
   "execution_count": 205,
   "id": "14545bb5",
   "metadata": {},
   "outputs": [],
   "source": [
    "# 자료형(data type)\n",
    "# 클래스(Class)\n",
    "# 객체 만들기 위한 틀, 설계도\n",
    "# 구성 \n",
    "# 변수: 속성, 특징\n",
    "# 메서드: 기능, 동작\n",
    "# 메모리 (힙)\n",
    "# 객체(object) 인스턴스"
   ]
  },
  {
   "cell_type": "code",
   "execution_count": 206,
   "id": "663e3973",
   "metadata": {},
   "outputs": [],
   "source": [
    "# 메모리와 프로그램\n",
    "# 코드영역(텍스트) 프로그램 코드 저장, cpu에서 읽어서 실행\n",
    "# 데이터 영역 파이썬 기본 모듈, import 모듈, 전역변수, 정적변수\n",
    "# 힙 영역 객체 python memory manager 관리\n",
    "# 스택영역 함수/ 지역변수/ 매개변수"
   ]
  },
  {
   "cell_type": "code",
   "execution_count": 207,
   "id": "05d6d032",
   "metadata": {},
   "outputs": [],
   "source": [
    "# 수치(nmber) 자료형\n",
    "# 숫자 형태로 이루어진 자료형\n",
    "a=123 # 양수 integer\n",
    "a=-23 # 음수 integer\n",
    "a = 1.2 # 실수 float\n",
    "a=-3.12 # 실수 float\n",
    "a=0b1010 # 2진수\n",
    "a=0o1237 # 8진수\n",
    "a=0x8ff # 16진수\n",
    "a=1+3j # 복소수"
   ]
  },
  {
   "cell_type": "code",
   "execution_count": 208,
   "id": "b705bd51",
   "metadata": {},
   "outputs": [],
   "source": [
    "# 수치(number) 자료형\n",
    "# 숫자 형태로 이루어진 자료형\n",
    "# 복소수\n",
    "# 실수 허수\n",
    "# 유리수 무리수\n",
    "# 정수 정수아닌유리수\n",
    "# 양수(자연수) 0 음수(음의자연수)"
   ]
  },
  {
   "cell_type": "code",
   "execution_count": 209,
   "id": "b5aad28e",
   "metadata": {},
   "outputs": [],
   "source": [
    "# 수치(number) 자료형\n",
    "# 연산자(operator)\n",
    "# 10+20\n",
    "# 피연산자 연산자 피연산자\n",
    "# 피연산자 개수에 따라 단항, 이항, 삼항연산자"
   ]
  },
  {
   "cell_type": "code",
   "execution_count": 210,
   "id": "51562661",
   "metadata": {},
   "outputs": [],
   "source": [
    "# 연산자           의미\n",
    "# 할당(대입)연산자 =  변수 값 할당에 사용, 산술연산자와 함께 사용\n",
    "# 산술연산자 + - * / // % ** 사칙연산, 몫, 나머지, 제곱 연산 수행\n",
    "# 비교연산자 > < >= <= == !=  값의 비교로 True, False 결과\n",
    "# 논리연산자 and or not 왼쪽, 오른쪽의 참, 거짓 관련 체크, True, False 결과\n",
    "# 멤버연산자 in, not in  왼쪽 값이 오른쪽에 속하지는 여부 체크, True, False 결과\n",
    "# 비트연산자 & | ^ ~ << >> 비트 단위 값 연산 수행\n",
    "# 객체비교연산자 is, is not 왼쪽과 오른쪽의 객체 동일 여부 체크, True, False 결과"
   ]
  },
  {
   "cell_type": "code",
   "execution_count": 211,
   "id": "63275088",
   "metadata": {},
   "outputs": [
    {
     "name": "stdout",
     "output_type": "stream",
     "text": [
      "10+3=13\n",
      "10-3=7\n",
      "10*3=30\n",
      "10/3=3.3333333333333335\n",
      "10//3=3\n",
      "10%3=1\n",
      "10**3=1000\n"
     ]
    }
   ],
   "source": [
    "# 산술연산자\n",
    "a=10\n",
    "b=3\n",
    "print(f'{a}+{b}={a+b}') # 더하기\n",
    "print(f'{a}-{b}={a-b}') # 빼기\n",
    "print(f'{a}*{b}={a*b}') # 곱하기\n",
    "print(f'{a}/{b}={a/b}') # 나누기\n",
    "print(f'{a}//{b}={a//b}') # 몫\n",
    "print(f'{a}%{b}={a%b}') # 나머지\n",
    "print(f'{a}**{b}={a**b}') # 제곱근"
   ]
  },
  {
   "cell_type": "code",
   "execution_count": 212,
   "id": "c1f6f0bb",
   "metadata": {},
   "outputs": [
    {
     "name": "stdout",
     "output_type": "stream",
     "text": [
      "10>3=True\n",
      "10<3=False\n",
      "10>=3=True\n",
      "10<=3=False\n",
      "10==3=False\n",
      "10!=3=True\n"
     ]
    }
   ],
   "source": [
    "# 비교연산자\n",
    "a=10\n",
    "b=3\n",
    "print(f'{a}>{b}={a>b}')  # 크다\n",
    "print(f'{a}<{b}={a<b}')  # 작다\n",
    "print(f'{a}>={b}={a>=b}')  # 크거나 같다\n",
    "print(f'{a}<={b}={a<=b}')  # 작거나 같다\n",
    "\n",
    "print(f'{a}=={b}={a==b}')  # 같다\n",
    "print(f'{a}!={b}={a!=b}')  # 같지 않다"
   ]
  },
  {
   "cell_type": "code",
   "execution_count": 213,
   "id": "ee7d0563",
   "metadata": {},
   "outputs": [
    {
     "name": "stdout",
     "output_type": "stream",
     "text": [
      "10>5 and 3>5 = False\n",
      "10>5 and 3<5 = True\n",
      "10>5 or 3>5 = True\n",
      "10<5 and 3>5 = False\n",
      "not 10>5 = False\n",
      "not 10<5 = True\n"
     ]
    }
   ],
   "source": [
    "# 논리연산자\n",
    "a=10\n",
    "b=3\n",
    "print(f'{a}>5 and {b}>5 = {a>5 and b>5}')\n",
    "print(f'{a}>5 and {b}<5 = {a>5 and b<5}')\n",
    "\n",
    "print(f'{a}>5 or {b}>5 = {a>5 or b>5}')\n",
    "print(f'{a}<5 and {b}>5 = {a<5 or b>5}')\n",
    "\n",
    "print(f'not {a}>5 = {not a>5}')\n",
    "print(f'not {a}<5 = {not a<5}')"
   ]
  },
  {
   "cell_type": "code",
   "execution_count": 214,
   "id": "18be654a",
   "metadata": {},
   "outputs": [
    {
     "name": "stdout",
     "output_type": "stream",
     "text": [
      "10 is 10 => True\n",
      "10 => 2753240197712\n",
      "10 => 2753240197712\n",
      "10 is 10.0 => False\n",
      "10 is not 10.0 => True\n",
      "10 == 10.0 => True\n",
      "10 => 2753240197712\n",
      "10.0 => 2753346934480\n"
     ]
    }
   ],
   "source": [
    "# 수치 자료형\n",
    "# 객체비교연산자\n",
    "a = 10\n",
    "b = a\n",
    "print(f'{a} is {b} => {a is b}')  # a와 b가 같은 객체인지 확인\n",
    "print(f'{a} => {id(a)}')  # id() 존재 메모리 주소\n",
    "print(f'{b} => {id(b)}')  # id() 존재 메모리 주소\n",
    "\n",
    "b = 10.0\n",
    "print(f'{a} is {b} => {a is b}')  # a와 b가 같은 객체인지 확인\n",
    "print(f'{a} is not {b} => {a is not b}')  # a와 b가 같은 객체 아닌지 확인\n",
    "print(f'{a} == {b} => {a==b}')  # a와 b의 값이 같은지 확인\n",
    "\n",
    "print(f'{a} => {id(a)}')\n",
    "print(f'{b} => {id(b)}')"
   ]
  },
  {
   "cell_type": "code",
   "execution_count": 215,
   "id": "42296b08",
   "metadata": {},
   "outputs": [],
   "source": [
    "# 수치(number) 자료형\n",
    "# 내장 함수\n",
    "# int(숫자) : 정수 반환\n",
    "# int('문자열') : 정수 반환, 단 숫자형태 문자열만('10') 가능\n",
    "# abs(a): a의 절대값 반환\n",
    "# pow(a,b): a^b(거듭제곱) 반환\n",
    "# max(a,b): a,b 중 큰 값 반환\n",
    "# min(a,b): a,b 중 작은 값 반환\n",
    "# round(a):a를 반올림 한 값 반환"
   ]
  },
  {
   "cell_type": "code",
   "execution_count": 216,
   "id": "07b7d68b",
   "metadata": {},
   "outputs": [],
   "source": [
    "# 수치 자료형\n",
    "# 내장 함수 - 변환 함수\n",
    "# int(x)\n",
    "# float(x)\n",
    "# oct(x)\n",
    "# hex(x)\n",
    "# bin(x)"
   ]
  },
  {
   "cell_type": "code",
   "execution_count": 217,
   "id": "d0461612",
   "metadata": {},
   "outputs": [
    {
     "name": "stdout",
     "output_type": "stream",
     "text": [
      "hello\n",
      "'Life is too short~'\n"
     ]
    }
   ],
   "source": [
    "# 문자열(string) 자료형\n",
    "# 한 개 이상의 문자로 구성된 자료형\n",
    "# '또는' ''로 문자열 감싸기\n",
    "print('hello')\n",
    "print(\"\\'Life is too short~\\'\")"
   ]
  },
  {
   "cell_type": "code",
   "execution_count": 218,
   "id": "00a5911a",
   "metadata": {},
   "outputs": [
    {
     "name": "stdout",
     "output_type": "stream",
     "text": [
      "Life is too short\n",
      "You need python\n",
      "Python is powerful language\n",
      "\n",
      "life is too short\n",
      "you need python\n",
      "python is powerful language\n"
     ]
    }
   ],
   "source": [
    "# 여러 줄 문자열\n",
    "multiline='Life is too short\\nYou need python\\nPython is powerful language'\n",
    "print(multiline)\n",
    "\n",
    "mulitiline = '''\n",
    "life is too short\n",
    "you need python\n",
    "python is powerful language'''\n",
    "print(mulitiline)"
   ]
  },
  {
   "cell_type": "code",
   "execution_count": 219,
   "id": "9fd870c7",
   "metadata": {},
   "outputs": [],
   "source": [
    "# 문자열(string) 자료형\n",
    "# 인덱싱(indexing)\n",
    "# 각 문자는 개별 주소를 가지며 주소로 값 가져오기\n",
    "# 왼쪽부터 0~ 오른쪽부터 -1~\n",
    "# 문자열[번호]"
   ]
  },
  {
   "cell_type": "code",
   "execution_count": 220,
   "id": "ee8150a6",
   "metadata": {},
   "outputs": [],
   "source": [
    "# 문자열 자료형\n",
    "# 인덱싱(indexing)\n",
    "# 문자열, 리스트, 튜플 등등 자료형 타입에서 데이터 요소 하나하나에 번호를 부여하는 것\n",
    "# 데이터 덩어리를 하나씩 또는 일부를 사용하기 위한 방법\n"
   ]
  },
  {
   "cell_type": "code",
   "execution_count": 221,
   "id": "cf1874de",
   "metadata": {},
   "outputs": [],
   "source": [
    "# 인덱싱(indexing)\n",
    "a='Life is too short, You need Python'"
   ]
  },
  {
   "cell_type": "code",
   "execution_count": 222,
   "id": "e055a1a9",
   "metadata": {},
   "outputs": [
    {
     "data": {
      "text/plain": [
       "('L', 'o', 'y')"
      ]
     },
     "execution_count": 222,
     "metadata": {},
     "output_type": "execute_result"
    }
   ],
   "source": [
    "a[-0] , a[-2], a[-5]"
   ]
  },
  {
   "cell_type": "code",
   "execution_count": 223,
   "id": "712ef8fb",
   "metadata": {},
   "outputs": [],
   "source": [
    "# 슬라이싱(slicing)\n",
    "# 각 문자의 인덱스를 기반으로 문자 잘라내기\n",
    "# 형식 -> 문자열[시작번호:끝번호+1:간격1]\n",
    "# 주의! 끝 번호 포함 안됨"
   ]
  },
  {
   "cell_type": "code",
   "execution_count": 224,
   "id": "917122f5",
   "metadata": {},
   "outputs": [
    {
     "data": {
      "text/plain": [
       "('Life ', 'ou ne')"
      ]
     },
     "execution_count": 224,
     "metadata": {},
     "output_type": "execute_result"
    }
   ],
   "source": [
    "# 문자열 자료형\n",
    "# 슬라이싱(slicing)\n",
    "# 형식 > [시작번호:끝 번호:간격1]\n",
    "# 주의 > 끝 번호는 포함 안됨\n",
    "a[0:5], a[-14:-9]"
   ]
  },
  {
   "cell_type": "code",
   "execution_count": 225,
   "id": "e8efa772",
   "metadata": {},
   "outputs": [
    {
     "data": {
      "text/plain": [
       "('Life',\n",
       " 'Lif',\n",
       " 'You need Python',\n",
       " 'Life is too short',\n",
       " 'Life is too short, You need Python',\n",
       " 'You need')"
      ]
     },
     "execution_count": 225,
     "metadata": {},
     "output_type": "execute_result"
    }
   ],
   "source": [
    "a[0:4], a[0:3], a[19:], a[:17], a[:], a[19:-7]"
   ]
  },
  {
   "cell_type": "code",
   "execution_count": 226,
   "id": "f299b1dd",
   "metadata": {},
   "outputs": [
    {
     "ename": "TypeError",
     "evalue": "'str' object does not support item assignment",
     "output_type": "error",
     "traceback": [
      "\u001b[1;31m---------------------------------------------------------------------------\u001b[0m",
      "\u001b[1;31mTypeError\u001b[0m                                 Traceback (most recent call last)",
      "Input \u001b[1;32mIn [226]\u001b[0m, in \u001b[0;36m<cell line: 3>\u001b[1;34m()\u001b[0m\n\u001b[0;32m      1\u001b[0m \u001b[38;5;66;03m# 특정 문자 바꾸기\u001b[39;00m\n\u001b[0;32m      2\u001b[0m data \u001b[38;5;241m=\u001b[39m \u001b[38;5;124m'\u001b[39m\u001b[38;5;124mPithon\u001b[39m\u001b[38;5;124m'\u001b[39m\n\u001b[1;32m----> 3\u001b[0m data[\u001b[38;5;241m1\u001b[39m] \u001b[38;5;241m=\u001b[39m\u001b[38;5;124m'\u001b[39m\u001b[38;5;124my\u001b[39m\u001b[38;5;124m'\u001b[39m\n",
      "\u001b[1;31mTypeError\u001b[0m: 'str' object does not support item assignment"
     ]
    }
   ],
   "source": [
    "# 특정 문자 바꾸기\n",
    "data = 'Pithon'\n",
    "data[1] ='y'"
   ]
  },
  {
   "cell_type": "code",
   "execution_count": 227,
   "id": "ce2560b7",
   "metadata": {},
   "outputs": [
    {
     "data": {
      "text/plain": [
       "'Python'"
      ]
     },
     "execution_count": 227,
     "metadata": {},
     "output_type": "execute_result"
    }
   ],
   "source": [
    "data=data[:1] + 'y' + data[2:]\n",
    "data"
   ]
  },
  {
   "cell_type": "code",
   "execution_count": 228,
   "id": "bfec4c07",
   "metadata": {},
   "outputs": [
    {
     "name": "stdout",
     "output_type": "stream",
     "text": [
      "happy new year2021\n"
     ]
    }
   ],
   "source": [
    "# 덧셈 연산자\n",
    "# int 타입 + str 타입\n",
    "print('happy new year' + str(2021))"
   ]
  },
  {
   "cell_type": "code",
   "execution_count": 229,
   "id": "61f087b8",
   "metadata": {},
   "outputs": [
    {
     "name": "stdout",
     "output_type": "stream",
     "text": [
      "=====\n",
      "My Program\n",
      "=====\n"
     ]
    }
   ],
   "source": [
    "# 문자열(string) 자료형\n",
    "# 곱셈 연산자 \n",
    "# '*'의미는 숫자 곱하기의 의미와는 다르게 사용\n",
    "# '*'의미는 문자열의 반복 의미\n",
    "print('='*5)\n",
    "print('My Program')\n",
    "print('='*5)"
   ]
  },
  {
   "cell_type": "code",
   "execution_count": 230,
   "id": "44ceab8e",
   "metadata": {},
   "outputs": [
    {
     "name": "stdout",
     "output_type": "stream",
     "text": [
      "상품 가격은 10000원입니다.\n"
     ]
    }
   ],
   "source": [
    "# 문자열 자료형\n",
    "# 나머지 연산자\n",
    "# 변수값 포함\n",
    "price=10000\n",
    "print('상품 가격은 %s원입니다.' %price)"
   ]
  },
  {
   "cell_type": "code",
   "execution_count": 236,
   "id": "8f02041c",
   "metadata": {},
   "outputs": [
    {
     "name": "stdout",
     "output_type": "stream",
     "text": [
      "True\n",
      "False\n",
      "True\n",
      "False\n"
     ]
    }
   ],
   "source": [
    "# 문자열 자료형\n",
    "# in, not in 멤버 연산자\n",
    "# a in B: a 가 B안에 존재하면 True\n",
    "print('P' in 'Price is 1000')\n",
    "print('p' in 'Price is 1000')\n",
    "print('is' in 'Price is 1000')\n",
    "\n",
    "# a not in B: a가 B안에 존재하지 않으면 True\n",
    "print('is' not in 'Price is 1000')"
   ]
  },
  {
   "cell_type": "code",
   "execution_count": 237,
   "id": "2bff0a13",
   "metadata": {},
   "outputs": [
    {
     "name": "stdout",
     "output_type": "stream",
     "text": [
      "정수를 입력하세요:5\n"
     ]
    }
   ],
   "source": [
    "# 문자열 자료형\n",
    "# 문자열 -> 숫자 변환(캐스팅 Casting)\n",
    "t = input('정수를 입력하세요:')\n",
    "x = int(t)"
   ]
  },
  {
   "cell_type": "code",
   "execution_count": 238,
   "id": "5a002631",
   "metadata": {},
   "outputs": [
    {
     "name": "stdout",
     "output_type": "stream",
     "text": [
      "정수를 입력하세요:15\n",
      "20\n"
     ]
    }
   ],
   "source": [
    "t=input('정수를 입력하세요:')\n",
    "y=int(t)\n",
    "print(x+y)"
   ]
  },
  {
   "cell_type": "code",
   "execution_count": 239,
   "id": "a797af78",
   "metadata": {},
   "outputs": [
    {
     "name": "stdout",
     "output_type": "stream",
     "text": [
      "나는 현재21살이다.\n"
     ]
    }
   ],
   "source": [
    "# 문자열 자료형\n",
    "# 숫자 -> 문자열 변환(casting)\n",
    "print('나는 현재' + str(21) + '살이다.')"
   ]
  },
  {
   "cell_type": "code",
   "execution_count": 240,
   "id": "afe276ae",
   "metadata": {},
   "outputs": [
    {
     "name": "stdout",
     "output_type": "stream",
     "text": [
      "나는 현재21살이다\n",
      "원주율은3.14입니다\n"
     ]
    }
   ],
   "source": [
    "# 문자열 자료형\n",
    "# 숫자 -> 문자열 변환\n",
    "print('나는 현재' + str(21) + '살이다')\n",
    "print('원주율은' + str(3.14) + '입니다')"
   ]
  },
  {
   "cell_type": "code",
   "execution_count": 241,
   "id": "e0b742d5",
   "metadata": {},
   "outputs": [],
   "source": [
    "# 문자열(string) 자료형\n",
    "# 이스케이프 문자\n",
    "# 특수 기능 수행 문자\n",
    "# 형식\n",
    "# 이스케이프 문자     설명\n",
    "# \\n  개행(newline, 줄바꿈)\n",
    "# \\t  탭(tab)\n",
    "# \\0  null 문자\n",
    "# \\\\  문자'\\'\n",
    "# \\'  단일 인용부호(')\n",
    "# \\\"\" 이중 인용부호(\")"
   ]
  },
  {
   "cell_type": "code",
   "execution_count": 242,
   "id": "2ee45e9a",
   "metadata": {},
   "outputs": [
    {
     "name": "stdout",
     "output_type": "stream",
     "text": [
      "오늘은 '수요일' 입니다.\n",
      "오늘은 '수요일' 입니다.\n",
      "오늘은 \n",
      "날씨가 춥군요.\n",
      "\n",
      "\n",
      "오늘은 \n",
      "날씨가 춥군요.\n",
      "\n",
      "오늘은\t날씨가\t춥군요\n",
      "오늘은 \"크리스마스\" 입니다.\n"
     ]
    }
   ],
   "source": [
    "# 문자열 자료형\n",
    "# 이스케이프 문자\n",
    "print(\"오늘은 \\'수요일\\' 입니다.\")\n",
    "print('오늘은 \\'수요일\\' 입니다.')\n",
    "\n",
    "print(\"오늘은 \\n날씨가 춥군요.\\n\")\n",
    "print('\\n오늘은 \\n날씨가 춥군요.\\n')\n",
    "\n",
    "print('오늘은\\t날씨가\\t춥군요')\n",
    "\n",
    "print('오늘은 \\\"크리스마스\\\" 입니다.')"
   ]
  },
  {
   "cell_type": "code",
   "execution_count": 243,
   "id": "d2bf35d9",
   "metadata": {},
   "outputs": [
    {
     "name": "stdout",
     "output_type": "stream",
     "text": [
      "오늘은 날씨가 너무\n",
      " 좋군요\\\n",
      "오늘은 날씨가 너무\\n 좋군요\\\\\n"
     ]
    }
   ],
   "source": [
    "# 문자열(string) 자료형\n",
    "# Raw string\n",
    "# 문자열 내 이스케이프문자 무시\n",
    "# 형식 ==> ㄱ'문자열'   R'문자열'\n",
    "# 경로, URL 문자열 처리에 자주 사용됨\n",
    "print('오늘은 날씨가 너무\\n 좋군요\\\\')\n",
    "print(r'오늘은 날씨가 너무\\n 좋군요\\\\')"
   ]
  },
  {
   "cell_type": "code",
   "execution_count": 244,
   "id": "35e14f45",
   "metadata": {},
   "outputs": [],
   "source": [
    "# 문자열 자료형\n",
    "# 객체와 메섣\n",
    "# 클래스 데이터 메서드\n",
    "# 객체 인스턴스 데이터 메서드\n",
    "# 객체 인스턴스 데이터 메서드\n",
    "# 객체변수명.변수\n",
    "# 객체변수명.메서드()"
   ]
  },
  {
   "cell_type": "code",
   "execution_count": 245,
   "id": "cdd7a95b",
   "metadata": {},
   "outputs": [],
   "source": [
    "# 문자열 자료형\n",
    "# str클래스 메서드\n",
    "# 함수            기능\n",
    "# count(문자)  문자열내문자개수세기\n",
    "# find(문자)  문자가처음나오는이치알려주기-1:존재하지않은문자\n",
    "# index(문자)/index(문자열)  문자또는문자열의위치알려줌,없을경우error발생\n",
    "# join(문자열)  문자열합치기\n",
    "# lstrip()  왼쪽공백지우기\n",
    "# rstrio()  오른쪽공백지우기\n",
    "# strip()  양쪽공백지우기\n",
    "# replace(이전문자열,바꿀문자열)  문자열내특정문자열치환\n",
    "# split(구분자)  문자열을구분자기준으로문자열나누어리스트에담기"
   ]
  },
  {
   "cell_type": "code",
   "execution_count": 246,
   "id": "31c9f8bd",
   "metadata": {},
   "outputs": [
    {
     "name": "stdout",
     "output_type": "stream",
     "text": [
      "msg=> ab-c-d-efgh\n",
      "msg.replace('-','')=> abcdefgh\n",
      "msg.replace('-','',2)=> abcd-efgh\n",
      "msg=> ab-c-d-efgh\n"
     ]
    }
   ],
   "source": [
    "# 문자열 자료형\n",
    "# str 클래스 메서드\n",
    "# replace() => 원본 문자열을 새로운 문자열로 변환\n",
    "# replace(old,new,[count])\n",
    "msg = 'ab-c-d-efgh'\n",
    "print('msg=>',msg)\n",
    "print(\"msg.replace('-','')=>\", msg.replace('-',''))\n",
    "print(\"msg.replace('-','',2)=>\", msg.replace('-','',2))\n",
    "print('msg=>',msg)"
   ]
  },
  {
   "cell_type": "code",
   "execution_count": 247,
   "id": "713d05ef",
   "metadata": {},
   "outputs": [
    {
     "name": "stdout",
     "output_type": "stream",
     "text": [
      "msg=>              1234  56   \n",
      "msg.strip()=> 1234  56\n",
      "msg.lstrip()=> 1234  56   \n",
      "msg.rstrip()=>              1234  56\n",
      "msg =>              1234  56   \n"
     ]
    }
   ],
   "source": [
    "# str 클래스 메서드\n",
    "# strip() => 양쪽 공백 모두 제거\n",
    "# lstrip() => 왼쪽 공백만 제거\n",
    "# rstrip() => 오른쪽 공백만 제거\n",
    "msg = '             1234  56   '\n",
    "print(\"msg=>\",msg)\n",
    "print('msg.strip()=>', msg.strip())\n",
    "print('msg.lstrip()=>', msg.lstrip())\n",
    "print('msg.rstrip()=>', msg.rstrip())\n",
    "print('msg =>', msg)"
   ]
  },
  {
   "cell_type": "code",
   "execution_count": 248,
   "id": "9fb54c98",
   "metadata": {},
   "outputs": [
    {
     "name": "stdout",
     "output_type": "stream",
     "text": [
      "msg => 1/2/3/4/5/6\n",
      "data => ['1', '2', '3', '4', '5', '6'] <class 'list'>\n",
      "1-2-3-4-5-6\n"
     ]
    }
   ],
   "source": [
    "# 문자열 자료형\n",
    "# str 클래스 메서드\n",
    "# split() => 구분자를 기준으로 문자열 나누기\n",
    "msg = '1/2/3/4/5/6'\n",
    "data = msg.split('/')  # 나누어진 문자열 리스트에 담아 반환\n",
    "print('msg =>', msg)\n",
    "print('data =>', data, type(data))\n",
    "\n",
    "# join() => 구분자 통해 각각의 리스트 요소들 순서대로 연결\n",
    "sep ='-'\n",
    "print(sep.join(data))"
   ]
  },
  {
   "cell_type": "code",
   "execution_count": 249,
   "id": "b99bc510",
   "metadata": {},
   "outputs": [
    {
     "name": "stdout",
     "output_type": "stream",
     "text": [
      "data => ['15', 'kim', 'daegu', '010-222-1111'] <class 'list'>\n",
      "15,kim,daegu,010-222-1111\n"
     ]
    }
   ],
   "source": [
    "# 문자열(string) 자료형\n",
    "# str 클래스 메서드\n",
    "msg = '15 kim daegu 010-222-1111'\n",
    "data=msg.split(' ')\n",
    "print('data =>', data, type(data))\n",
    "\n",
    "sep=','\n",
    "print(sep.join(data))"
   ]
  },
  {
   "cell_type": "code",
   "execution_count": 250,
   "id": "0a43429f",
   "metadata": {},
   "outputs": [
    {
     "name": "stdout",
     "output_type": "stream",
     "text": [
      "\n",
      "msg => It's always such a pleasure\n",
      "msg.find('way') => 7\n",
      "msg.find('such')=> 12\n",
      "msg.find('such', 13)=> -1\n"
     ]
    }
   ],
   "source": [
    "# find() => 문자열 내에서 문자열 찾아서 인덱스 반환\n",
    "#           없으면 -1\n",
    "msg = \"It's always such a pleasure\"\n",
    "print('\\nmsg =>', msg)\n",
    "print(\"msg.find('way') =>\", msg.find('way'))\n",
    "print(\"msg.find('such')=>\", msg.find('such'))\n",
    "\n",
    "print(\"msg.find('such', 13)=>\", msg.find('such',13))"
   ]
  },
  {
   "cell_type": "code",
   "execution_count": 251,
   "id": "3e463209",
   "metadata": {},
   "outputs": [
    {
     "name": "stdout",
     "output_type": "stream",
     "text": [
      "msg.index('way')=> 7\n"
     ]
    },
    {
     "ename": "ValueError",
     "evalue": "substring not found",
     "output_type": "error",
     "traceback": [
      "\u001b[1;31m---------------------------------------------------------------------------\u001b[0m",
      "\u001b[1;31mValueError\u001b[0m                                Traceback (most recent call last)",
      "Input \u001b[1;32mIn [251]\u001b[0m, in \u001b[0;36m<cell line: 4>\u001b[1;34m()\u001b[0m\n\u001b[0;32m      1\u001b[0m \u001b[38;5;66;03m# index() => 문자열 내에서 문자열 찾아서 인덱스 반환\u001b[39;00m\n\u001b[0;32m      2\u001b[0m \u001b[38;5;66;03m#            없으면 Error 발생\u001b[39;00m\n\u001b[0;32m      3\u001b[0m \u001b[38;5;28mprint\u001b[39m(\u001b[38;5;124m\"\u001b[39m\u001b[38;5;124mmsg.index(\u001b[39m\u001b[38;5;124m'\u001b[39m\u001b[38;5;124mway\u001b[39m\u001b[38;5;124m'\u001b[39m\u001b[38;5;124m)=>\u001b[39m\u001b[38;5;124m\"\u001b[39m, msg\u001b[38;5;241m.\u001b[39mindex(\u001b[38;5;124m'\u001b[39m\u001b[38;5;124mway\u001b[39m\u001b[38;5;124m'\u001b[39m))\n\u001b[1;32m----> 4\u001b[0m \u001b[38;5;28mprint\u001b[39m(\u001b[38;5;124m\"\u001b[39m\u001b[38;5;124mmsg.index(\u001b[39m\u001b[38;5;124m'\u001b[39m\u001b[38;5;124msuch\u001b[39m\u001b[38;5;124m'\u001b[39m\u001b[38;5;124m, 13)=>\u001b[39m\u001b[38;5;124m\"\u001b[39m, \u001b[43mmsg\u001b[49m\u001b[38;5;241;43m.\u001b[39;49m\u001b[43mindex\u001b[49m\u001b[43m(\u001b[49m\u001b[38;5;124;43m'\u001b[39;49m\u001b[38;5;124;43msuch\u001b[39;49m\u001b[38;5;124;43m'\u001b[39;49m\u001b[43m,\u001b[49m\u001b[38;5;241;43m13\u001b[39;49m\u001b[43m)\u001b[49m)\n",
      "\u001b[1;31mValueError\u001b[0m: substring not found"
     ]
    }
   ],
   "source": [
    "# index() => 문자열 내에서 문자열 찾아서 인덱스 반환\n",
    "#            없으면 Error 발생\n",
    "print(\"msg.index('way')=>\", msg.index('way'))\n",
    "print(\"msg.index('such', 13)=>\", msg.index('such',13))"
   ]
  },
  {
   "cell_type": "code",
   "execution_count": 252,
   "id": "dd7f264b",
   "metadata": {},
   "outputs": [
    {
     "name": "stdout",
     "output_type": "stream",
     "text": [
      "msg=> 오늘은 2020년 11월 6일 입니다.\n",
      "msg=> 오늘은 2020년 11월 6일 입니다.\n"
     ]
    }
   ],
   "source": [
    "# 문자열(string) 자료형\n",
    "# 포맷팅\n",
    "# 원하는 형식의 문자열 생성하는 format() 메서드\n",
    "# index=value 형식 => '문자열 {index}'.format(value, ...)\n",
    "year=2020\n",
    "month=11\n",
    "day=6\n",
    "\n",
    "msg = '오늘은 {0}년 {1}월 {2}일 입니다.'.format(year,month,day)\n",
    "print('msg=>',msg)\n",
    "\n",
    "msg='오늘은 {}년 {}월 {}일 입니다.'.format(year,month,day)\n",
    "print('msg=>',msg)"
   ]
  },
  {
   "cell_type": "code",
   "execution_count": 253,
   "id": "68101566",
   "metadata": {},
   "outputs": [
    {
     "name": "stdout",
     "output_type": "stream",
     "text": [
      "msg=> 2020년 12월 25일 입니다.\n"
     ]
    }
   ],
   "source": [
    "# 포맷팅\n",
    "# 원하는 형식의 문자열 생성하는 format()메서드\n",
    "# name=value 형식 =>\n",
    "# '문자열{name}'.format(name=value, ...)\n",
    "msg='{y}년 {m}월 {d}일 입니다.'.format(d=25,y=2020,m=12)\n",
    "print('msg=>', msg)"
   ]
  },
  {
   "cell_type": "code",
   "execution_count": 254,
   "id": "2929f537",
   "metadata": {},
   "outputs": [],
   "source": [
    "# 문자열(string) 자료형\n",
    "# 포맷팅\n",
    "# 분류                  형태                    설명\n",
    "# 정렬  :<n     총자릿수n, <왼쪽정렬\n",
    "# 정렬  :>n     총자릿수n, >오른쪽정렬\n",
    "# 정렬  :^n     총자리수n, ^가운데정렬\n",
    "# 공백채우기  :문자^n  총자릿수n, 공백대신채울문자\n",
    "# 소수점  :n.xf  총자릿수n, 소수점표현자릿수x\n",
    "# '{','}' 표현  {{}}   중괄호({})그대로표현"
   ]
  },
  {
   "cell_type": "code",
   "execution_count": 255,
   "id": "706fadf1",
   "metadata": {},
   "outputs": [
    {
     "name": "stdout",
     "output_type": "stream",
     "text": [
      "Happy      님! 좋은 하루되세요.\n",
      "     Happy 님! 좋은 하루되세요.\n",
      "  Happy    님! 좋은 하루되세요.\n",
      "==Happy=== 님! 좋은 하루되세요.\n",
      "--12.12346 님! 좋은 하루되세요.\n",
      "그림_001.jpg, 그림_123.jpg 저장!\n"
     ]
    }
   ],
   "source": [
    "# 문자열(string) 자료형\n",
    "# 포맷팅\n",
    "print(\"{0:<10} 님! 좋은 하루되세요.\".format(\"Happy\"))\n",
    "print(\"{0:>10} 님! 좋은 하루되세요.\".format(\"Happy\"))\n",
    "print(\"{0:^10} 님! 좋은 하루되세요.\".format(\"Happy\"))\n",
    "print(\"{0:=^10} 님! 좋은 하루되세요.\".format(\"Happy\"))\n",
    "print(\"{:->10.5f} 님! 좋은 하루되세요.\".format(12.12345678))\n",
    "print(\"그림_{:0>3}.jpg, 그림_{:0>3}.jpg 저장!\".format(1, 123))"
   ]
  },
  {
   "cell_type": "code",
   "execution_count": 256,
   "id": "ec1fa023",
   "metadata": {},
   "outputs": [],
   "source": [
    "# 컨테이너 자료형\n",
    "# 순서가 있는 자료형\n",
    "# 수정 가능한 자료형         수정 불가능한 자료형\n",
    "# list 자료형                str 자료형 tuple 자료형\n",
    "# 맵핑 자료형\n",
    "# 수정 가능한 자료형\n",
    "# dict 자료형\n",
    "# 집합 자료형\n",
    "# 수정 가능한 자료형 \n",
    "# set 자료형"
   ]
  },
  {
   "cell_type": "code",
   "execution_count": null,
   "id": "47ee35ff",
   "metadata": {},
   "outputs": [],
   "source": []
  }
 ],
 "metadata": {
  "kernelspec": {
   "display_name": "Python 3 (ipykernel)",
   "language": "python",
   "name": "python3"
  },
  "language_info": {
   "codemirror_mode": {
    "name": "ipython",
    "version": 3
   },
   "file_extension": ".py",
   "mimetype": "text/x-python",
   "name": "python",
   "nbconvert_exporter": "python",
   "pygments_lexer": "ipython3",
   "version": "3.9.12"
  }
 },
 "nbformat": 4,
 "nbformat_minor": 5
}
