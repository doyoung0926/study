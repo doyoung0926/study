{
 "cells": [
  {
   "cell_type": "markdown",
   "id": "afc4d36b",
   "metadata": {},
   "source": [
    "## 머신러닝 3장\n",
    "### (회귀 알고리즘과 모델 규제)\n",
    "\n",
    "- 혼자 공부하는 머신러닝+딥러닝"
   ]
  },
  {
   "cell_type": "markdown",
   "id": "9a90496b",
   "metadata": {},
   "source": [
    "## k-최근접 이웃 회귀"
   ]
  },
  {
   "cell_type": "code",
   "execution_count": 108,
   "id": "448d174b",
   "metadata": {},
   "outputs": [],
   "source": [
    "# 회귀(Regression)\n",
    "# 지도 학습 (Supervised Learning)\n",
    "# 훈련을 위한 데이터(training data)와 정답이 필요\n",
    "# 훈련 데이터 = 입력(input) + 정답(target)\n",
    "# 알고리즘이 정답을 맞추는지 학습\n",
    "\n",
    "# 분류(Classification: 2장)\n",
    "# 테스트 세트의 샘플을 정확하게 분류한 개수의 비율: 정확도\n",
    "# 정답을 맞힌 개수의 비율 (정확도)\n",
    "\n",
    "# 회귀(Regression)\n",
    "# 두 변수 사이의 상관 관계를 분석하는 방법\n",
    "# 기존 데이터를 이용해서 임의의 숫자를 예측하는 문제: 결정계수(R^2)\n",
    "# 정확한 숫자를 맞춘다는 것은 불가능\n",
    "# Example\n",
    "# 내년 경제 성장률 예측\n",
    "# 배달 도착 시간 예측\n",
    "# 농어의 무게 예측"
   ]
  },
  {
   "cell_type": "code",
   "execution_count": 109,
   "id": "bc7b0d43",
   "metadata": {},
   "outputs": [],
   "source": [
    "# k-최근접 이웃 회귀\n",
    "# k-최근접 이웃 분류 (2장)\n",
    "# 예측하려는 샘플에 가장 가까운 이웃을 k개를 선택\n",
    "# 이웃들의 클래스를 확인\n",
    "# 샘플 주변의 다수의 클래스를 샘플의 클래스로 예측\n",
    "\n",
    "# k-최근접 이웃 회귀\n",
    "# 예측하려는 샘플에 가장 가까운 이웃 k개를 선택\n",
    "# 이웃의 평균을 구함"
   ]
  },
  {
   "cell_type": "code",
   "execution_count": 110,
   "id": "d6dd25b8",
   "metadata": {},
   "outputs": [],
   "source": [
    "# 데이터 준비\n",
    "# 농어(perch)의 길이로 무게를 잘 예측할 수 있을까?\n",
    "import numpy as np\n",
    "import matplotlib.pyplot as plt\n",
    "\n",
    "perch_length = np.array([8.4, 13.7, 15.0, 16.2, 17.4, 18.0, 18.7, 19.0, \n",
    "                        19.6, 20.0, 21.0, 21.0, 21.0, 21.3, 22.0, 22.0, \n",
    "                        22.0, 22.0, 22.0, 22.5, 22.5, 22.7, 23.0, 23.5, \n",
    "                        24.0, 24.0, 24.6, 25.0, 25.6, 26.5,\t27.3, 27.5, \n",
    "                        27.5, 27.5, 28.0, 28.7, 30.0, 32.8, 34.5, 35.0,\n",
    "                     \t36.5, 36.0, 37.0, 37.0, 39.0, 39.0, 39.0, 40.0, \n",
    "                        40.0, 40.0,\t40.0, 42.0, 43.0, 43.0, 43.5, 44.0])\n",
    "\n",
    "perch_weight = np.array([5.9, 32.0, 40.0, 51.5, 70.0, 100.0, 78.0, 80.0, \n",
    "                         85.0, 85.0, 110.0, 115.0, 125.0, 130.0, 120.0, \n",
    "                         120.0, 130.0, 135.0, 110.0, 130.0,150.0, 145.0,\n",
    "                         150.0, 170.0, 225.0, 145.0, 188.0, 180.0,197.0,\n",
    "                         218.0,300.0, 260.0, 265.0, 250.0, 250.0, 300.0,\n",
    "                         320.0, 514.0, 556.0, 840.0,685.0, 700.0, 700.0,\n",
    "                         690.0, 900.0, 650.0, 820.0, 850.0, 900.0,\n",
    "                         1015.0, 820.0, 1100.0, 1000.0, 1100.0, \n",
    "                         1000.0, 1000.0])"
   ]
  },
  {
   "cell_type": "code",
   "execution_count": 111,
   "id": "64e3415c",
   "metadata": {},
   "outputs": [
    {
     "data": {
      "image/png": "[encoded data removed]",
      "text/plain": [
       "<Figure size 432x288 with 1 Axes>"
      ]
     },
     "metadata": {
      "needs_background": "light"
     },
     "output_type": "display_data"
    }
   ],
   "source": [
    "# 산점도 확인\n",
    "plt.scatter(perch_length, perch_weight)\n",
    "plt.xlabel('length')\n",
    "plt.ylabel('weight')\n",
    "plt.show()"
   ]
  },
  {
   "cell_type": "code",
   "execution_count": 112,
   "id": "19894675",
   "metadata": {},
   "outputs": [],
   "source": [
    "# 훈련 세트와 테스트 세트 준비\n",
    "# train_test_split() 함수 사용\n",
    "# 1개의 데이터 세트(perch_length)만 사용\n",
    "\n",
    "# scikit-learn의 훈련 세트는 2차원 배열을 사용\n",
    "# 입력 데이터 세트를 2차원 배열 형태로 변경이 필요\n",
    "# reshape(row, col) 함수 사용\n",
    "# (42,) -> (42, 1)형태로 변경"
   ]
  },
  {
   "cell_type": "code",
   "execution_count": 113,
   "id": "83d751a3",
   "metadata": {},
   "outputs": [
    {
     "name": "stdout",
     "output_type": "stream",
     "text": [
      "(42,) (14,)\n",
      "(42, 1) (14, 1)\n"
     ]
    }
   ],
   "source": [
    "from sklearn.model_selection import train_test_split\n",
    "\n",
    "train_input, test_input, train_target, test_target = train_test_split(\n",
    "perch_length, perch_weight, random_state=42)\n",
    "\n",
    "print(train_input.shape, test_input.shape)\n",
    "# reshape(-1, 1): -1: 행의 크기를 자동 지정\n",
    "train_input = train_input.reshape(-1, 1)  # 2차원 배열로 변경\n",
    "test_input = test_input.reshape(-1, 1)  # 2차원 배열로 변경\n",
    "\n",
    "print(train_input.shape, test_input.shape)"
   ]
  },
  {
   "cell_type": "code",
   "execution_count": 114,
   "id": "729aacc7",
   "metadata": {},
   "outputs": [
    {
     "name": "stdout",
     "output_type": "stream",
     "text": [
      "0.992809406101064\n"
     ]
    }
   ],
   "source": [
    "# k-최근접 이웃 회귀 알고리즘 정확도 계산\n",
    "# k-최근접 이웃 회귀 알고리즘\n",
    "# KNeighborsRegressor 클래스 사용\n",
    "# n_neighbors: 기본값=5\n",
    "from sklearn.neighbors import KNeighborsRegressor\n",
    "\n",
    "knr = KNeighborsRegressor()\n",
    "# 모델 훈련\n",
    "knr.fit(train_input, train_target)\n",
    "\n",
    "# score(): 훈련 모델 점수 확인, 결정 계수(R^2)를 리턴\n",
    "print(knr.score(test_input, test_target))  # 결정 계수\n",
    "# score()\n",
    "# 결정 계수(R^2)를 리턴함\n",
    "# 출력하는 값이 높을수록 정확도가 높음"
   ]
  },
  {
   "cell_type": "code",
   "execution_count": 115,
   "id": "0c0294ec",
   "metadata": {},
   "outputs": [],
   "source": [
    "# 결정 계수(R^2)\n",
    "# 결정 계수 (R^2) 값\n",
    "# 회귀식이 얼마나 정확한지를 나타내는 숫자 (0<=R^2<=1)\n",
    "# 0에 가까울수록, 회귀식의 정확도는 낮음\n",
    "# 1에 가까울수록, 회귀식의 정확도는 높음\n",
    "\n",
    "# R^2 = 1 - (target-예측)^2 의 합 / (target-target평균)^2 의 합\n",
    "\n",
    "# R^2 = 0 : 평균값과 예측값(회귀선?)이 비슷(분모, 분자가 비슷)\n",
    "# R^2 = 0.5\n",
    "# R^2 = 1 : (target-예측)^2의 값이 작아져야 됨(분자가 0에 가까워짐)"
   ]
  },
  {
   "cell_type": "code",
   "execution_count": 116,
   "id": "5007b846",
   "metadata": {},
   "outputs": [
    {
     "name": "stdout",
     "output_type": "stream",
     "text": [
      "19.157142857142862\n"
     ]
    }
   ],
   "source": [
    "# mean_absolute_error\n",
    "# mean_absolute_error (MAE): 평균 절대 오차\n",
    "# 타킷(실제 값)과 예측 값의 절대값 오차 평균\n",
    "\n",
    "# 절대값을 사용: 에러의 크기를 반영\n",
    "# sklearn.merics 패키지 포함\n",
    "from sklearn.metrics import mean_absolute_error\n",
    "\n",
    "# 테스트 세트에 대한 예측값 계산\n",
    "test_prediction = knr.predict(test_input)\n",
    "\n",
    "# 테스트 세트에 대한 평균 절대 오차 계산\n",
    "mae = mean_absolute_error(test_target, test_prediction)\n",
    "print(mae)  # 19g 정도의 오차 발생"
   ]
  },
  {
   "cell_type": "code",
   "execution_count": 117,
   "id": "89115c73",
   "metadata": {},
   "outputs": [],
   "source": [
    "# 과대적합 vs 과소적합\n",
    "# 과대적합(Overfitting)\n",
    "# 훈련 세트에만 잘 맞는 모델\n",
    "# 테스트 세트에서는 점수가 굉장히 나쁨\n",
    "# 일반성이 떨어짐\n",
    "\n",
    "# 과소적합(Underfitting)\n",
    "# 훈련 세트보다 테스트 세트의 점수가 높거나,\n",
    "# 훈련 세트와 테스트 세트의 두 점수가 모두 낮음\n",
    "# 모델이 너무 단순해서 훈련 세트로 훈련이 되지 않은 경우\n",
    "\n",
    "# 앞 예제에서 훈련 세트와 테스트 세트의 score() 비교\n",
    "# 테스트 세트의 점수가 더 높음: 과소 적합(underfitting)"
   ]
  },
  {
   "cell_type": "code",
   "execution_count": 118,
   "id": "3d2a00ba",
   "metadata": {},
   "outputs": [
    {
     "name": "stdout",
     "output_type": "stream",
     "text": [
      "0.992809406101064\n",
      "0.9698823289099254\n"
     ]
    }
   ],
   "source": [
    "# 테스트 세트를 사용하여 R^2값 계산\n",
    "print(knr.score(test_input, test_target))  # 테스트 세트의 값\n",
    "\n",
    "# 훈련 세트 R^2값 계산\n",
    "print(knr.score(train_input, train_target))  # 훈련 세트의 값"
   ]
  },
  {
   "cell_type": "code",
   "execution_count": 119,
   "id": "9dd5ddef",
   "metadata": {},
   "outputs": [],
   "source": [
    "# 과대적합, 과소적합\n",
    "# Underfit, Optimal, Overfit"
   ]
  },
  {
   "cell_type": "code",
   "execution_count": 120,
   "id": "dc3a67ad",
   "metadata": {},
   "outputs": [
    {
     "name": "stdout",
     "output_type": "stream",
     "text": [
      "훈련 데이터로 모델의 정확도 점수 계산:  0.9804899950518966\n",
      "테스트 데이터로 모델의 정확도 점수 계산:  0.9746459963987609\n"
     ]
    }
   ],
   "source": [
    "# 모델 개선: 이웃 개수 줄이기\n",
    "# 과소 적합 해결 방안: 이웃의 개수 줄임\n",
    "# 기본 값 5에서 n_neighbors = 3으로 변경\n",
    "# 모델이 더 복잡해짐\n",
    "# 훈련 세트의 국지적 패턴에 더 민감해짐\n",
    "knr.n_neighbors = 3\n",
    "\n",
    "# 모델을 다시 훈련\n",
    "knr.fit(train_input, train_target)\n",
    "\n",
    "print('훈련 데이터로 모델의 정확도 점수 계산: ',\n",
    "     knr.score(train_input, train_target))\n",
    "\n",
    "print('테스트 데이터로 모델의 정확도 점수 계산: ',\n",
    "     knr.score(test_input, test_target))\n",
    "# 훈련 데이터의 점수가 높아짐\n",
    "# 기존: 0.9698823289099254"
   ]
  },
  {
   "cell_type": "code",
   "execution_count": 121,
   "id": "383d3b81",
   "metadata": {},
   "outputs": [
    {
     "data": {
      "image/png": "[encoded data removed]",
      "text/plain": [
       "<Figure size 432x288 with 1 Axes>"
      ]
     },
     "metadata": {
      "needs_background": "light"
     },
     "output_type": "display_data"
    },
    {
     "data": {
      "image/png": "[encoded data removed]",
      "text/plain": [
       "<Figure size 432x288 with 1 Axes>"
      ]
     },
     "metadata": {
      "needs_background": "light"
     },
     "output_type": "display_data"
    },
    {
     "data": {
      "image/png": "[encoded data removed]",
      "text/plain": [
       "<Figure size 432x288 with 1 Axes>"
      ]
     },
     "metadata": {
      "needs_background": "light"
     },
     "output_type": "display_data"
    }
   ],
   "source": [
    "# 이웃의 수에 따른 그래프 비교\n",
    "# k-최근접 회귀 알고리즘에서 이웃의 수 변경: 1, 5, 10\n",
    "# 농어의 길이를 5~45까지 변경하면서 무게 예측\n",
    "\n",
    "# k-최근접 이웃 회귀 객체 생성\n",
    "knr = KNeighborsRegressor()\n",
    "\n",
    "# x: 농어의 길이(5~45까지 범위 설정)\n",
    "x=np.arange(5, 45).reshape(-1, 1)\n",
    "# n=1, 5, 10일때 예측 결과 그래프\n",
    "for n in [1, 5, 10]:\n",
    "    # 모델 훈련\n",
    "    knr.n_neighbors = n\n",
    "    knr.fit(train_input, train_target) # n_neighbors의 값을 1,5,10으로 증가시키면서 모델 훈련\n",
    "    \n",
    "    # 지정한 범위 x(농어의 길이)에 대한 농어 무게 예측하기\n",
    "    prediction = knr.predict(x)\n",
    "    \n",
    "    # 훈련 세트와 예측 결과 그래프 그리기\n",
    "    plt.scatter(train_input, train_target, label='train set')\n",
    "    plt.plot(x, prediction, label='prediction', color='orange')\n",
    "    \n",
    "    plt.title('n_neighbors = {}'.format(n))\n",
    "    plt.xlabel('length')\n",
    "    plt.ylabel('weight')\n",
    "    plt.show()\n",
    "    # n의 값이 커질수록 모델이 단순(과소적합)"
   ]
  },
  {
   "cell_type": "code",
   "execution_count": 122,
   "id": "f92a5f1f",
   "metadata": {},
   "outputs": [],
   "source": [
    "# 마무리 정리\n",
    "# 회귀(Regression)\n",
    "# 임의의 수치를 예측하는 문제\n",
    "# k-최근접 이웃 회귀\n",
    "# 가장 가까운 이웃 샘플을 찾고 타깃값을 평균하여 예측\n",
    "\n",
    "# 과대 적합(Overfitting)\n",
    "# 훈련 세트에만 잘 맞음(일반성이 떨어짐)\n",
    "# 훈련 세트의 성능 > 테스트 세트 성능\n",
    "\n",
    "# 과소 적합(Underfitting)\n",
    "# 모델이 단순하여 훈련 세트의 패턴을 모두 잡아내지 못함\n",
    "# 훈련 세트와 테스트 세트의 성능이 모두 낮거나\n",
    "# 훈련 세트의 성능 < 테스트 세트의 성능"
   ]
  },
  {
   "cell_type": "markdown",
   "id": "d9988ad4",
   "metadata": {},
   "source": [
    "## 선형 회귀"
   ]
  },
  {
   "cell_type": "code",
   "execution_count": 123,
   "id": "ddba412a",
   "metadata": {},
   "outputs": [],
   "source": [
    "# k-최근접 이웃 알고리즘의 문제점 #1\n",
    "# k-최근접 이웃 회귀 알고리즘의 문제점\n",
    "# 가장 가까운 샘플을 찾아 평균값 계산\n",
    "# 새로운 샘플이 훈련 세트의 범위를 벗어나면 잘못된 예측을 함\n",
    "import numpy as np\n",
    "\n",
    "perch_length = np.array([8.4, 13.7, 15.0, 16.2, 17.4, 18.0, 18.7, 19.0, \n",
    "                        19.6, 20.0, 21.0, 21.0, 21.0, 21.3, 22.0, 22.0, \n",
    "                        22.0, 22.0, 22.0, 22.5, 22.5, 22.7, 23.0, 23.5, \n",
    "                        24.0, 24.0, 24.6, 25.0, 25.6, 26.5,\t27.3, 27.5, \n",
    "                        27.5, 27.5, 28.0, 28.7, 30.0, 32.8, 34.5, 35.0,\n",
    "                        36.5, 36.0, 37.0, 37.0, 39.0, 39.0, 39.0, 40.0, \n",
    "                        40.0, 40.0,\t40.0, 42.0, 43.0, 43.0, 43.5, 44.0])\n",
    "\n",
    "perch_weight = np.array([5.9, 32.0, 40.0, 51.5, 70.0, 100.0, 78.0, 80.0, \n",
    "                         85.0, 85.0, 110.0, 115.0, 125.0, 130.0, 120.0, \n",
    "                         120.0, 130.0, 135.0, 110.0, 130.0,150.0, 145.0,\n",
    "                         150.0, 170.0, 225.0, 145.0, 188.0, 180.0,197.0,\n",
    "                         218.0,300.0, 260.0, 265.0, 250.0, 250.0, 300.0,\n",
    "                         320.0, 514.0, 556.0, 840.0,685.0, 700.0, 700.0,\n",
    "                         690.0, 900.0, 650.0, 820.0, 850.0, 900.0,\n",
    "                         1015.0, 820.0, 1100.0, 1000.0, 1100.0, \n",
    "                         1000.0, 1000.0])"
   ]
  },
  {
   "cell_type": "code",
   "execution_count": 124,
   "id": "f45cc561",
   "metadata": {},
   "outputs": [
    {
     "name": "stdout",
     "output_type": "stream",
     "text": [
      "50cm:  [1033.33333333]\n",
      "100cm:  [1033.33333333]\n"
     ]
    }
   ],
   "source": [
    "# k-최근접 이웃 알고리즘의 문제점 #2\n",
    "# 훈련 세트 밖의 샘플 예측\n",
    "# 50cm, 100cm 길이의 농어 무게 예측: 동일한 예측값\n",
    "from sklearn.model_selection import train_test_split\n",
    "\n",
    "# 훈련 세트와 테스트 세트로 나눔\n",
    "train_input, test_input, train_target, test_target = train_test_split(\n",
    "perch_length, perch_weight, random_state=42)\n",
    "\n",
    "# 훈련 세트와 테스트 세트를 2차원 배열로 변경\n",
    "train_input = train_input.reshape(-1, 1)\n",
    "test_input = test_input.reshape(-1, 1)\n",
    "\n",
    "from sklearn.neighbors import KNeighborsRegressor\n",
    "\n",
    "knr = KNeighborsRegressor(n_neighbors=3)\n",
    "# k-최근접 이웃 회귀 모델을 훈련\n",
    "knr.fit(train_input, train_target)\n",
    "\n",
    "print('50cm: ', knr.predict([[50]]))\n",
    "print('100cm: ', knr.predict([[100]]))\n",
    "# 100cm 농어의 예측값은 50cm 농어의 예측값과 동일: 103g"
   ]
  },
  {
   "cell_type": "code",
   "execution_count": 125,
   "id": "021c7602",
   "metadata": {},
   "outputs": [
    {
     "data": {
      "image/png": "[encoded data removed]",
      "text/plain": [
       "<Figure size 432x288 with 1 Axes>"
      ]
     },
     "metadata": {
      "needs_background": "light"
     },
     "output_type": "display_data"
    }
   ],
   "source": [
    "# k-최근접 이웃 알고리즘의 문제점 #3\n",
    "# 50cm, 100cm 길이의 농어의 이웃 및 산점도 비교\n",
    "# 50cm 농어의 이웃을 구함\n",
    "distances_50, indexes_50 = knr.kneighbors([[50]])\n",
    "# 100cm 농어의 이웃을 구함\n",
    "distances_100, indexes_100 = knr.kneighbors([[100]])\n",
    "\n",
    "# 훈련 세트의 산점도\n",
    "plt.scatter(train_input, train_target, label='train set')\n",
    "\n",
    "# 훈련 세트 중에서 50cm 농어의 이웃 데이터만 다시 그림\n",
    "plt.scatter(train_input[indexes_50], train_target[indexes_50],\n",
    "           marker='D', label='50cm neighbors')\n",
    "# 50cm 농어 데이터\n",
    "plt.scatter(50, 1033, marker='^', label='50cm')\n",
    "\n",
    "# 훈련 세트 중에서 100cm 농어의 이웃 데이터만 다시 그림\n",
    "plt.scatter(train_input[indexes_100], train_target[indexes_100],\n",
    "           marker='P', label='100cm neighbors')\n",
    "# 100cm 농어 데이터\n",
    "plt.scatter(100, 1033, marker='s', label='100cm')\n",
    "\n",
    "plt.xlim(0, 110)\n",
    "plt.legend(loc=5)\n",
    "plt.show()"
   ]
  },
  {
   "cell_type": "code",
   "execution_count": 126,
   "id": "69e49418",
   "metadata": {},
   "outputs": [
    {
     "name": "stdout",
     "output_type": "stream",
     "text": [
      "50cm neighbor indexes: [[34  8 14]]\n",
      "100cm neighbor indexes: [[34  8 14]]\n",
      "1033.3333333333333\n",
      "1033.3333333333333\n"
     ]
    }
   ],
   "source": [
    "# k-최근접 이웃 회귀 알고리즘의 문제점 #4\n",
    "# 50cm 농어와 100cm 농어의 이웃 비교\n",
    "\n",
    "# 훈련데이터에서 이웃 데이터의 인덱스 확인\n",
    "print('50cm neighbor indexes:', indexes_50)\n",
    "print('100cm neighbor indexes:', indexes_100)\n",
    "\n",
    "# 이웃 데이터의 무게 평균 계산\n",
    "print(np.mean(train_target[indexes_50]))\n",
    "print(np.mean(train_target[indexes_100]))\n",
    "\n",
    "# k-최근접 이웃 회귀: 이웃의 평균을 구함\n",
    "# 50cm 농어의 이웃과 100cm 농어의 이웃이 동일함\n",
    "# 서로 다른 길이의 무게 예측: 이웃의 평균값을 사용\n",
    "# 50cm 농어와 100cm 농어의 무게 예측값(1033g)이 동일한 문제점 발생"
   ]
  },
  {
   "cell_type": "code",
   "execution_count": 127,
   "id": "cac03513",
   "metadata": {},
   "outputs": [],
   "source": [
    "# 선형 회귀(Linear Regression)\n",
    "# 선형 회귀\n",
    "# 데이터를 가장 잘 표현할 수 있는 직선 방정식을 찾는 알고리즘\n",
    "# 특성과 타킷 사이의 관계를 가장 잘 나타내는 선형 방정식을 찾음\n",
    "# 특성과 타킷 사이의 관계: 선형 방정식의 계수(기울기)와 절편에 저장\n",
    "\n",
    "# LinearRegression 클래스 사용\n",
    "# sklearn.linear_model 패키지\n",
    "# fit(), score(), predict() 메소드\n",
    "\n",
    "# 머신 러닝 알고리즘이 해당 직선을 찾음"
   ]
  },
  {
   "cell_type": "code",
   "execution_count": 128,
   "id": "3eaa3532",
   "metadata": {},
   "outputs": [
    {
     "name": "stdout",
     "output_type": "stream",
     "text": [
      "50cm:  [1241.83860323]\n",
      "[39.01714496] -709.0186449535477\n"
     ]
    }
   ],
   "source": [
    "# 훈련 데이터를 이용한 직선 방정식 구하기\n",
    "from sklearn.linear_model import LinearRegression\n",
    "\n",
    "lr = LinearRegression()\n",
    "# 선형 회귀 모델 훈련\n",
    "lr.fit(train_input, train_target)\n",
    "# 50cm 농어에 대한 예측\n",
    "print('50cm: ', lr.predict([[50]]))\n",
    "\n",
    "# 기울기(a): coef_, 절편(bias): intercept_\n",
    "print(lr.coef_, lr.intercept_)  # 하나의 특성(농어의 길이)만 사용했기 때문에 배열의 원소는 1개\n",
    "# 농어 무게=a*농어 길이 + b"
   ]
  },
  {
   "cell_type": "code",
   "execution_count": 129,
   "id": "3adcbffb",
   "metadata": {},
   "outputs": [
    {
     "data": {
      "image/png": "[encoded data removed]",
      "text/plain": [
       "<Figure size 432x288 with 1 Axes>"
      ]
     },
     "metadata": {
      "needs_background": "light"
     },
     "output_type": "display_data"
    }
   ],
   "source": [
    "# 산점도 및 직선 그래프 그리기\n",
    "# 기울기와 절편을 이용한 1차 방정식 그래프\n",
    "import matplotlib.pyplot as plt\n",
    "\n",
    "plt.scatter(train_input, train_target)\n",
    "\n",
    "# 15에서 50까지 1차 방정식 그래프 그리기\n",
    "# plot([x축 데이터:시작, 끝], [y축 데이터:시작, 끝])\n",
    "plt.plot([15, 50], [15*lr.coef_ + lr.intercept_, 50*lr.coef_ + lr.intercept_],\n",
    "        color='red', linestyle='--')\n",
    "\n",
    "# 50cm 농어 데이터\n",
    "plt.scatter(50, 1241.8, marker='^', color='orangered')\n",
    "plt.show()\n",
    "# 농어 무게가 0이하로 내려갈 수 있는 문제점"
   ]
  },
  {
   "cell_type": "code",
   "execution_count": 130,
   "id": "1b1f4736",
   "metadata": {},
   "outputs": [
    {
     "name": "stdout",
     "output_type": "stream",
     "text": [
      "train data score:  0.939846333997604\n",
      "test data score:  0.8247503123313558\n"
     ]
    }
   ],
   "source": [
    "print('train data score: ',\n",
    "       lr.score(train_input, train_target))\n",
    "print('test data score: ',\n",
    "     lr.score(test_input, test_target))\n",
    "# 전체적으로 과소 적합(훈련 세트와 테스트 세트의 점수가 모두 낮음)"
   ]
  },
  {
   "cell_type": "code",
   "execution_count": 131,
   "id": "2cabc5e0",
   "metadata": {},
   "outputs": [],
   "source": [
    "# 다항 회귀(Polynomial Regression)\n",
    "# 농어의 길이와 무게에 대한 산점도\n",
    "# 일직선(1차 방정식)으로 표현하기 어려움\n",
    "# 무게가 0 이하일 가능성 발생\n",
    "# 모델이 더 복잡할 필요성이 있음\n",
    "\n",
    "# 최적의 곡선(2차 방정식)을 구함\n",
    "# 길이를 제곱한 항을 훈련 세트에 추가해야 됨\n",
    "# 농어 무게 = a*길이^2+b*길이+c"
   ]
  },
  {
   "cell_type": "code",
   "execution_count": 132,
   "id": "56d63b62",
   "metadata": {},
   "outputs": [
    {
     "name": "stdout",
     "output_type": "stream",
     "text": [
      "[[ 384.16   19.6 ]\n",
      " [ 484.     22.  ]\n",
      " [ 349.69   18.7 ]\n",
      " [ 302.76   17.4 ]\n",
      " [1296.     36.  ]]\n",
      "(42, 2) (14, 2)\n"
     ]
    }
   ],
   "source": [
    "# 훈련 세트에 데이터 추가\n",
    "# 길이를 제곱한 데이터를 훈련 세트에 추가\n",
    "# column_stack()사용\n",
    "# broadcasting 적용\n",
    "train_poly = np.column_stack((train_input**2, train_input))\n",
    "test_poly = np.column_stack((test_input**2, test_input))\n",
    "\n",
    "print(train_poly[0:5])\n",
    "print(train_poly.shape, test_poly.shape)"
   ]
  },
  {
   "cell_type": "code",
   "execution_count": 133,
   "id": "81a88888",
   "metadata": {},
   "outputs": [
    {
     "name": "stdout",
     "output_type": "stream",
     "text": [
      "[1573.98423528]\n",
      "[  1.01433211 -21.55792498] 116.05021078278259\n"
     ]
    }
   ],
   "source": [
    "# 다항 회귀식 구하기\n",
    "# 선형 회귀 모델 재훈련\n",
    "# 제곱한 데이터를 이용하여 선형 회귀 모델을 다시 훈련\n",
    "# 타깃값은 그대로 사용함\n",
    "lr = LinearRegression()\n",
    "lr.fit(train_poly, train_target)\n",
    "\n",
    "print(lr.predict([[50**2, 50]]))  # 50cm 농어의 무게 예측\n",
    "print(lr.coef_, lr.intercept_)  # 순서대로 a, b, c로 사용\n",
    "# 농어 무게=a*길이^2+b*길이+c  <- 다항 회귀식(Polynomial Regression)"
   ]
  },
  {
   "cell_type": "code",
   "execution_count": 134,
   "id": "d81b2ba4",
   "metadata": {},
   "outputs": [
    {
     "data": {
      "image/png": "[encoded data removed]",
      "text/plain": [
       "<Figure size 432x288 with 1 Axes>"
      ]
     },
     "metadata": {
      "needs_background": "light"
     },
     "output_type": "display_data"
    }
   ],
   "source": [
    "# 다항 회귀식을 이용한 그래프 그리기\n",
    "# 훈련 세트의 산점도와 2차 방정식 그래프\n",
    "# 구간별 직선을 그리기 위해 15에서 49까지 정수 배열을 만듦\n",
    "point = np.arange(15, 50)\n",
    "# 훈련 세트의 산점도 그리기\n",
    "plt.scatter(train_input, train_target)\n",
    "\n",
    "# 15에서 49까지 2차 방정식 그래프 그리기\n",
    "plt.plot(point, 1.01*point**2 - 21.6*point + 116.05,\n",
    "        color='red', linestyle='--')\n",
    "\n",
    "# 50cm 농어 데이터(무게:1574g)\n",
    "plt.scatter([50], [1574], marker='^')\n",
    "plt.xlabel('length')\n",
    "plt.ylabel('weight')\n",
    "plt.show()"
   ]
  },
  {
   "cell_type": "code",
   "execution_count": 135,
   "id": "9a8eb431",
   "metadata": {},
   "outputs": [
    {
     "name": "stdout",
     "output_type": "stream",
     "text": [
      "0.9706807451768623\n",
      "0.9775935108325121\n"
     ]
    }
   ],
   "source": [
    "print(lr.score(train_poly, train_target))\n",
    "print(lr.score(test_poly, test_target))\n",
    "# 테스트 세트의 점수가 높음(과소 적합이 남아 있음)"
   ]
  },
  {
   "cell_type": "code",
   "execution_count": 136,
   "id": "6ba4cc18",
   "metadata": {},
   "outputs": [],
   "source": [
    "# 내용 정리\n",
    "# k-최근접 이웃 회귀\n",
    "# 거리에 상관 없이 가장 가까운 이웃의 값을 평균하여 예측\n",
    "# 50cm와 100cm 길이의 농어 무게를 동일하게 예측\n",
    "# 훈련 세트 범위 밖의 샘플을 예측할 수 없음\n",
    "\n",
    "# 선형 회귀\n",
    "# 훈련 세트에 잘 맞는 직선 방정식을 구함\n",
    "# 기울기(coef_)와 절편(intercept_)을 계산\n",
    "# 훈련 세트를 벗어난 범위의 데이터를 예측할 수 있음\n",
    "# 모델이 단순: 농어의 무게가 으수일 가능성 발생\n",
    "\n",
    "# 다항 회귀\n",
    "# 선형 회귀의 문제점을 해결하기 위해 다항 회귀 사용\n",
    "# 2차 방정식의 그래프 형태\n",
    "# 여전히 과소 적합이 존재"
   ]
  },
  {
   "cell_type": "markdown",
   "id": "2fd60f1a",
   "metadata": {},
   "source": [
    "## 특성 공학과 규제"
   ]
  },
  {
   "cell_type": "code",
   "execution_count": 137,
   "id": "03ee231f",
   "metadata": {},
   "outputs": [],
   "source": [
    "# 다중 회귀 (Multiple Regression)\n",
    "# 다중 회귀\n",
    "# 여러 특성을 사용한 선형 회귀\n",
    "# 길이, 높이, 두께 사용\n",
    "# 다양한 특성의 조합을 생성\n",
    "\n",
    "# PolynomialFeatures 클래스 사용\n",
    "\n",
    "# 특성 공학 (Feature engineering)\n",
    "# 기존의 특성을 사용하여 새로운 특성을 뽑아내는 직업\n",
    "\n",
    "# 특성이 2개인 경우, 평면을 학습"
   ]
  },
  {
   "cell_type": "code",
   "execution_count": 138,
   "id": "8a1bcb42",
   "metadata": {},
   "outputs": [],
   "source": [
    "# Pandas로 데이터 준비\n",
    "# 데이터 준비\n",
    "# https://bit.ly/perch_csv\n",
    "# csv파일 => Pandas 데이터프레임 => Numpy 배열\n",
    "#          =>  pd.read_csv()  =>  to_numpy()"
   ]
  },
  {
   "cell_type": "code",
   "execution_count": 139,
   "id": "b61982ae",
   "metadata": {},
   "outputs": [
    {
     "name": "stdout",
     "output_type": "stream",
     "text": [
      "[[ 8.4   2.11  1.41]\n",
      " [13.7   3.53  2.  ]\n",
      " [15.    3.82  2.43]\n",
      " [16.2   4.59  2.63]\n",
      " [17.4   4.59  2.94]]\n",
      "(56, 3)\n"
     ]
    }
   ],
   "source": [
    "import pandas as pd\n",
    "\n",
    "df = pd.read_csv('https://bit.ly/perch_csv')\n",
    "perch_full = df.to_numpy()  # DatFrame을 Numpy의 array로 변환\n",
    "print(perch_full[:5])\n",
    "print(perch_full.shape)"
   ]
  },
  {
   "cell_type": "code",
   "execution_count": 140,
   "id": "94a3b456",
   "metadata": {},
   "outputs": [],
   "source": [
    "# 훈련 세트와 테스트 세트로 분리\n",
    "# target 데이터(perch_weight)는 기존과 동일\n",
    "# perch_full, perch_weight를 훈련 세트와 테스트 세트로 분리\n",
    "import numpy as np\n",
    "\n",
    "perch_weight = np.array([5.9, 32.0, 40.0, 51.5, 70.0, 100.0, 78.0, 80.0, \n",
    "                         85.0, 85.0, 110.0, 115.0, 125.0, 130.0, 120.0, \n",
    "                         120.0, 130.0, 135.0, 110.0, 130.0,150.0, 145.0,\n",
    "                         150.0, 170.0, 225.0, 145.0, 188.0, 180.0,197.0,\n",
    "                         218.0,300.0, 260.0, 265.0, 250.0, 250.0, 300.0,\n",
    "                         320.0, 514.0, 556.0, 840.0,685.0, 700.0, 700.0,\n",
    "                         690.0, 900.0, 650.0, 820.0, 850.0, 900.0,\n",
    "                         1015.0, 820.0, 1100.0, 1000.0, 1100.0, \n",
    "                         1000.0, 1000.0])"
   ]
  },
  {
   "cell_type": "code",
   "execution_count": 141,
   "id": "80f1d221",
   "metadata": {},
   "outputs": [],
   "source": [
    "from sklearn.model_selection import train_test_split\n",
    "\n",
    "train_input, test_input, train_target, test_target = train_test_split(\n",
    "perch_full, perch_weight, random_state=42)"
   ]
  },
  {
   "cell_type": "code",
   "execution_count": 142,
   "id": "d4d3ffad",
   "metadata": {},
   "outputs": [],
   "source": [
    "# 사이킷런의 변환기 (Transformer)\n",
    "# 다항 특성 만들기\n",
    "# PolynomialFeatures 클래스 사용\n",
    "# 각 특성을 제곱한 항을 추가하고, 특성끼리 서로 곱한 항을 추가\n",
    "\n",
    "# PloynomialFeatures(include_bias=True)\n",
    "# include_bias=True: bias(절편, 0차항) 추가\n",
    "# include_bias=False: bias 삭제\n",
    "\n",
    "# fit([a, b]): 특성 조합을 찾음\n",
    "# [1, a, b, a*b, a^2, b^2] 추가\n",
    "\n",
    "# transform([[a, b]]): 특성 조합을 실제 데이터로 변환\n",
    "# [1, a, b, a*b, a^2, b^2] 로 변환"
   ]
  },
  {
   "cell_type": "code",
   "execution_count": 143,
   "id": "220388e5",
   "metadata": {},
   "outputs": [
    {
     "name": "stdout",
     "output_type": "stream",
     "text": [
      "[[1. 2. 3. 4. 6. 9.]]\n"
     ]
    }
   ],
   "source": [
    "# PolynomialFeatures 간단 예제\n",
    "# PolynomialFeatures(include_bias=True)\n",
    "from sklearn.preprocessing import PolynomialFeatures\n",
    "\n",
    "poly = PolynomialFeatures()  # include_bias=True (기본값)\n",
    "poly.fit([[2, 3]])  # 2, 3의 조합을 찾음(2^2, 3^2, 2*3)\n",
    "print(poly.transform([[2, 3]]))  # 특성 조합을 데이터로 변환\n",
    "# 2**2, 2*3, 3**2"
   ]
  },
  {
   "cell_type": "code",
   "execution_count": 144,
   "id": "818f56c7",
   "metadata": {},
   "outputs": [
    {
     "name": "stdout",
     "output_type": "stream",
     "text": [
      "[[2. 3. 4. 6. 9.]]\n"
     ]
    }
   ],
   "source": [
    "# PolynomialFeatures(include_bias=False)\n",
    "poly = PolynomialFeatures(include_bias=False)  # include_bias=False: 1 제거\n",
    "poly.fit([[2 ,3]])\n",
    "print(poly.transform([[2, 3]]))"
   ]
  },
  {
   "cell_type": "code",
   "execution_count": 145,
   "id": "416d877e",
   "metadata": {},
   "outputs": [
    {
     "name": "stdout",
     "output_type": "stream",
     "text": [
      "[[ 19.6      5.14     3.04   384.16   100.744   59.584   26.4196  15.6256\n",
      "    9.2416]\n",
      " [ 22.       5.88     3.52   484.     129.36    77.44    34.5744  20.6976\n",
      "   12.3904]\n",
      " [ 18.7      5.2      3.12   349.69    97.24    58.344   27.04    16.224\n",
      "    9.7344]]\n",
      "(42, 9)\n"
     ]
    }
   ],
   "source": [
    "# 다항 특성 만들기\n",
    "# 훈련 세트(train_input)을 사용하여 다항 특성 만들기\n",
    "from sklearn.preprocessing import PolynomialFeatures\n",
    "\n",
    "poly = PolynomialFeatures(include_bias=False)\n",
    "poly.fit(train_input)\n",
    "train_poly = poly.transform(train_input) # train_input 데이터를 이용하여\n",
    "                                         # 총 9개의 특성이 만들어짐\n",
    "print(train_poly[0:3])\n",
    "print(train_poly.shape)\n",
    "test_poly = poly.transform(test_input)  # 테스트 세트 변환: fit() 호출 안함\n",
    "# 훈련 세트를 기준으로 만들어진 특성을 이용하여 테스트 세트를 변환하기 위함"
   ]
  },
  {
   "cell_type": "code",
   "execution_count": 146,
   "id": "646fa9fd",
   "metadata": {},
   "outputs": [
    {
     "name": "stdout",
     "output_type": "stream",
     "text": [
      "['x0' 'x1' 'x2' 'x0^2' 'x0 x1' 'x0 x2' 'x1^2' 'x1 x2' 'x2^2']\n"
     ]
    }
   ],
   "source": [
    "# get_feature_names_out()\n",
    "# 각 특성의 조합을 알려줌\n",
    "print(poly.get_feature_names_out())\n",
    "# 'x0' : lenght, 'x1' : width"
   ]
  },
  {
   "cell_type": "code",
   "execution_count": 147,
   "id": "f82795e2",
   "metadata": {},
   "outputs": [
    {
     "name": "stdout",
     "output_type": "stream",
     "text": [
      "0.9903183436982125\n"
     ]
    }
   ],
   "source": [
    "# 다중 회귀 모델 훈련 #1\n",
    "# 다중 회귀 모델 훈련\n",
    "# 선형 회귀 모델 훈련과 동일 (여러 개의 특성을 사용할 뿐임)\n",
    "# 특성이 늘어나면 선형 회귀의 정확도 증가\n",
    "from sklearn.linear_model import LinearRegression\n",
    "\n",
    "lr = LinearRegression()\n",
    "lr.fit(train_poly, train_target)\n",
    "print(lr.score(train_poly, train_target))"
   ]
  },
  {
   "cell_type": "code",
   "execution_count": 148,
   "id": "5fd6b11d",
   "metadata": {},
   "outputs": [
    {
     "name": "stdout",
     "output_type": "stream",
     "text": [
      "0.9714559911594155\n"
     ]
    }
   ],
   "source": [
    "print(lr.score(test_poly, test_target))"
   ]
  },
  {
   "cell_type": "code",
   "execution_count": 149,
   "id": "7611f3b8",
   "metadata": {},
   "outputs": [
    {
     "name": "stdout",
     "output_type": "stream",
     "text": [
      "(42, 55)\n"
     ]
    }
   ],
   "source": [
    "# 다중 회귀 모델 훈련 #2\n",
    "# degree 증가\n",
    "# 고차항의 최대 차수 지정\n",
    "# 3제곱, 4제곱, 5제곱 항 추가\n",
    "# 고차항의 최대 차수 증가 (5차)\n",
    "poly = PolynomialFeatures(degree=5, include_bias=False)\n",
    "\n",
    "poly.fit(train_input)\n",
    "train_poly = poly.transform(train_input)\n",
    "test_poly = poly.transform(test_input)\n",
    "print(train_poly.shape)"
   ]
  },
  {
   "cell_type": "code",
   "execution_count": 150,
   "id": "a71493f5",
   "metadata": {},
   "outputs": [
    {
     "name": "stdout",
     "output_type": "stream",
     "text": [
      "0.9999999999938143\n",
      "-144.40744532797535\n"
     ]
    }
   ],
   "source": [
    "# 선형 회귀 모델 훈련 및 점수 계산\n",
    "lr.fit(train_poly, train_target)\n",
    "print(lr.score(train_poly, train_target))\n",
    "\n",
    "# 테스트 세트 점수 계산\n",
    "print(lr.score(test_poly, test_target))  # 훈련 세트에 과대 적합"
   ]
  },
  {
   "cell_type": "code",
   "execution_count": 151,
   "id": "73f7789c",
   "metadata": {},
   "outputs": [],
   "source": [
    "# 규제 (Regularization)\n",
    "# 규제\n",
    "# 모델이 훈련 세트에 과대 적합되는 것을 방지\n",
    "# 선형 회귀 모델: 특성에 곱해지는 계수의 크기를 작게 줄임\n",
    "# L1 규제 (L1 Regularization)\n",
    "# 계수(가중치)의 합을 더한 값에 규제 강도(람다?)를 곱하여 오차에 더함\n",
    "# 어떤 가중치는 0이 됨\n",
    "# L2 규제 (L2 Regularization)\n",
    "# 각 계수(가중치) 제곱의 합에 규제 강도(람다?)를 곱합\n",
    "# 람다?를 크게 하면 가중치가 더 감소(규제 강화), 람다?를 작게 하면 가중치가 증가\n",
    "\n",
    "# 규제 전에 표준화 과정이 필요\n",
    "# 각 특성의 크기(스케일)가 다르기 때문에 표준화 과정이 필요\n",
    "# StandardScaler 클래스 사용"
   ]
  },
  {
   "cell_type": "code",
   "execution_count": 152,
   "id": "793a26cd",
   "metadata": {},
   "outputs": [],
   "source": [
    "# 표준화\n",
    "# StandardScaler 클래스를 사용한 표준화\n",
    "# 평균과 표준 편차 사용\n",
    "# fit(), transform() 사용\n",
    "from sklearn.preprocessing import StandardScaler\n",
    "\n",
    "ss = StandardScaler()\n",
    "ss.fit(train_poly)\n",
    "train_scaled = ss.transform(train_poly)\n",
    "test_scaled = ss.transform(test_poly)"
   ]
  },
  {
   "cell_type": "code",
   "execution_count": 153,
   "id": "87ad65ab",
   "metadata": {},
   "outputs": [],
   "source": [
    "# 규제 모델\n",
    "# 릿지(Ridge) 모델: L2 regularization\n",
    "# 계수를 제곱한 값을 기준으로 규제\n",
    "# 특성의 중요도가 전체적으로 비슷한 경우 사용\n",
    "\n",
    "# 라쏘(Lasso) 모델: L1 regularization\n",
    "# 계수(가중치)의 절대값을 기준으로 규제\n",
    "# 여러 특성 중 일부분만 중요한 경우 사용"
   ]
  },
  {
   "cell_type": "code",
   "execution_count": 163,
   "id": "b526b5f6",
   "metadata": {},
   "outputs": [
    {
     "name": "stdout",
     "output_type": "stream",
     "text": [
      "0.9896101671037343\n"
     ]
    }
   ],
   "source": [
    "# 릿지 회귀\n",
    "# 릿지 회귀\n",
    "# sklearn.linear_model 패키지\n",
    "# fit()로 훈련, score()메소드로 평가\n",
    "# Ridge(alpha=1.0)\n",
    "# alpha값이 크면 규제 강도가 세짐 (계수 값을 더 줄임)\n",
    "from sklearn.linear_model import Ridge\n",
    "\n",
    "ridge = Ridge()  # alpha=1.0\n",
    "ridge.fit(train_scaled, train_target)\n",
    "print(ridge.score(train_scaled, train_target))  # 훈련 세트 점수 확인"
   ]
  },
  {
   "cell_type": "code",
   "execution_count": 164,
   "id": "d4be4978",
   "metadata": {},
   "outputs": [
    {
     "name": "stdout",
     "output_type": "stream",
     "text": [
      "0.9790693977615386\n"
     ]
    }
   ],
   "source": [
    "# 테스트 세트의 점수가 정상으로 돌아옴\n",
    "print(ridge.score(test_scaled, test_target))"
   ]
  },
  {
   "cell_type": "code",
   "execution_count": 167,
   "id": "65c4faff",
   "metadata": {},
   "outputs": [
    {
     "data": {
      "image/png": "[encoded data removed]",
      "text/plain": [
       "<Figure size 432x288 with 1 Axes>"
      ]
     },
     "metadata": {
      "needs_background": "light"
     },
     "output_type": "display_data"
    }
   ],
   "source": [
    "# 릿지 회귀: 적절한 규제 강도 찾기\n",
    "# 적절한 alpha 값 찾기\n",
    "# alpha값을 변경하면서 결정 계수(R^2)의 값을 비교\n",
    "# alpha=0.1 (-1은 log 10^-1)일 때, 두 그래프가 가장 가까움\n",
    "# 적절한 alpha값 찾기\n",
    "import matplotlib.pyplot as plt\n",
    "train_score = []\n",
    "test_score = []\n",
    "\n",
    "alpha_list = [0.001, 0.01, 0.1, 1, 10, 100]\n",
    "for alpha in alpha_list:\n",
    "    ridge = Ridge(alpha=alpha)\n",
    "    ridge.fit(train_scaled, train_target)\n",
    "    # 훈련 세트와 테스트 세트 점수를 저장\n",
    "    train_score.append(ridge.score(train_scaled, train_target))\n",
    "    test_score.append(ridge.score(test_scaled, test_target))\n",
    "    \n",
    "plt.plot(np.log10(alpha_list), train_score,\n",
    "        label='train_set score', marker='o', markersize=3)\n",
    "plt.plot(np.log10(alpha_list), test_score,\n",
    "        label='test_set score', marker='s', markersize=3)\n",
    "plt.xlabel('alpha')\n",
    "plt.ylabel('R^2')\n",
    "plt.legend()\n",
    "plt.show()"
   ]
  },
  {
   "cell_type": "code",
   "execution_count": 168,
   "id": "ac73de57",
   "metadata": {},
   "outputs": [
    {
     "name": "stdout",
     "output_type": "stream",
     "text": [
      "0.9903815817570368\n",
      "0.9827976465386896\n"
     ]
    }
   ],
   "source": [
    "# 릿지 회귀: 최적의 alpha 적용\n",
    "# alpha=0.1적용시 점수 확인\n",
    "# alpha=0.1 적용\n",
    "ridge = Ridge(alpha=0.1)\n",
    "ridge.fit(train_scaled, train_target)\n",
    "\n",
    "print(ridge.score(train_scaled, train_target))\n",
    "print(ridge.score(test_scaled, test_target))"
   ]
  },
  {
   "cell_type": "code",
   "execution_count": 169,
   "id": "4be52c1a",
   "metadata": {},
   "outputs": [
    {
     "name": "stdout",
     "output_type": "stream",
     "text": [
      "0.989789897208096\n"
     ]
    }
   ],
   "source": [
    "# 라쏘(Lasso) 회귀\n",
    "# 라쏘 회귀\n",
    "# 불필요한 계수를 급격히 감소, 0으로 만들어 제거\n",
    "# sklearn.linear_model 패키지\n",
    "# fit()로 훈련, score()메소드로 평가\n",
    "# Lasso(alpha=1.0)\n",
    "# alpha값이 크면 규제 강도가 세짐 (계수 값을 더 줄임)\n",
    "# alpha=0.0: 기존 선형 회귀와 동일\n",
    "from sklearn.linear_model import Lasso\n",
    "\n",
    "lasso = Lasso()\n",
    "lasso.fit(train_scaled, train_target)\n",
    "print(lasso.score(train_scaled, train_target))"
   ]
  },
  {
   "cell_type": "code",
   "execution_count": 170,
   "id": "9b9afb91",
   "metadata": {},
   "outputs": [
    {
     "name": "stdout",
     "output_type": "stream",
     "text": [
      "0.9800593698421884\n"
     ]
    }
   ],
   "source": [
    "print(lasso.score(test_scaled, test_target))"
   ]
  },
  {
   "cell_type": "code",
   "execution_count": 176,
   "id": "052e582d",
   "metadata": {},
   "outputs": [
    {
     "data": {
      "image/png": "[encoded data removed]",
      "text/plain": [
       "<Figure size 432x288 with 1 Axes>"
      ]
     },
     "metadata": {
      "needs_background": "light"
     },
     "output_type": "display_data"
    }
   ],
   "source": [
    "# 라쏘 회귀: 적절한 규제 강도 찾기\n",
    "# 적절한 alpha 값 찾기\n",
    "# alpha값을 변경하면서 결정 계수(R^2)의 값을 비교\n",
    "# alpha=10일 때, 최적 (10^1=10)\n",
    "train_score = []\n",
    "test_score = []\n",
    "\n",
    "alpha_list = [0.001, 0.01, 0.1, 1, 10, 100]\n",
    "for alpha in alpha_list:\n",
    "    # 라쏘 모델을 만듭니다\n",
    "    lasso = Lasso(alpha=alpha, max_iter=100000000)\n",
    "    # 라쏘 모델을 훈련합니다\n",
    "    lasso.fit(train_scaled, train_target)\n",
    "    # 훈련 점수와 테스트 점수를 저장합니다\n",
    "    train_score.append(lasso.score(train_scaled, train_target))\n",
    "    test_score.append(lasso.score(test_scaled, test_target))\n",
    "    \n",
    "plt.plot(np.log10(alpha_list), train_score,\n",
    "        label='train_set score', marker='o', markersize=3)\n",
    "plt.plot(np.log10(alpha_list), test_score,\n",
    "        label='test_set score', marker='s', markersize=3)\n",
    "plt.xlabel('alpha')\n",
    "plt.ylabel('R^2')\n",
    "plt.legend()\n",
    "plt.show()"
   ]
  },
  {
   "cell_type": "code",
   "execution_count": 177,
   "id": "9635402f",
   "metadata": {},
   "outputs": [
    {
     "name": "stdout",
     "output_type": "stream",
     "text": [
      "0.9888067471131867\n",
      "0.9824470598706695\n"
     ]
    }
   ],
   "source": [
    "# 라쏘 회귀: 최적의 alpha 적용\n",
    "# alpha=10\n",
    "lasso = Lasso(alpha=10)\n",
    "lasso.fit(train_scaled, train_target)\n",
    "\n",
    "print(lasso.score(train_scaled, train_target))\n",
    "print(lasso.score(test_scaled, test_target))"
   ]
  },
  {
   "cell_type": "code",
   "execution_count": 178,
   "id": "4d7a55f0",
   "metadata": {},
   "outputs": [],
   "source": [
    "# 참고자료"
   ]
  },
  {
   "cell_type": "code",
   "execution_count": 179,
   "id": "fa6c46bb",
   "metadata": {},
   "outputs": [],
   "source": [
    "# 표준화, 정규화 차이\n",
    "# 피처 스케일링\n",
    "# 서로 다른 변수의 값 범위를 일정한 수준으로 맞추는 작업\n",
    "\n",
    "# 표준화(Standardization)\n",
    "# Z-score: 평균(뮤)이 0이고, 표준편차(시그마) 1인 정규분포 생성\n",
    "# 이상치(outlier)를 파악\n",
    "# 선형 회귀는 데이터가 정규 분포를 가진다는 가정하에 구현되어 있음\n",
    "# StandardScaler 클래스 사용\n",
    "# Z = x - (뮤 / 시그마) (x:특성값, 뮤:평균, 시그마:표준편차)\n",
    "\n",
    "# 정규화(Normalization)\n",
    "# 모든 값을 0~1 사이의 값으로 바꿈\n",
    "# 특성들의 크기가 다를 때 크기를 통일하기 위해 사용\n",
    "# MinMaxScaler 클래스 사용\n",
    "# x' = (x - x_min) / (x_max - x_min) (x_max:최대값, x_min:최소값)"
   ]
  },
  {
   "cell_type": "code",
   "execution_count": null,
   "id": "1ea12565",
   "metadata": {},
   "outputs": [],
   "source": []
  }
 ],
 "metadata": {
  "kernelspec": {
   "display_name": "Python 3 (ipykernel)",
   "language": "python",
   "name": "python3"
  },
  "language_info": {
   "codemirror_mode": {
    "name": "ipython",
    "version": 3
   },
   "file_extension": ".py",
   "mimetype": "text/x-python",
   "name": "python",
   "nbconvert_exporter": "python",
   "pygments_lexer": "ipython3",
   "version": "3.9.12"
  }
 },
 "nbformat": 4,
 "nbformat_minor": 5
}
