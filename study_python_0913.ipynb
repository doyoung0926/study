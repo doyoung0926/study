{
 "cells": [
  {
   "cell_type": "markdown",
   "id": "b05f8081",
   "metadata": {},
   "source": [
    "# 데이터 분석을 위한 python"
   ]
  },
  {
   "cell_type": "markdown",
   "id": "f149c868",
   "metadata": {},
   "source": [
    "## python 모듈 & 패키지"
   ]
  },
  {
   "cell_type": "code",
   "execution_count": 1,
   "id": "05907262",
   "metadata": {},
   "outputs": [],
   "source": [
    "# 모듈(Module)\n",
    "# 기능 수행 위해 변수, 함수, 클래스를 모아둔 파일\n",
    "# python에 다양한 기능을 확장시켜 줄 수 있는 것\n",
    "# 다른 python 프로그램에서 불러서 사용가능하게 만든 것\n",
    "\n",
    "# 분류    /    설명\n",
    "# 표준 모듈 / 파이썬에서 기본 제공 모듈\n",
    "# 사용자 생성 모듈 / 개발자가 만든 모듈\n",
    "# 써드 파티션 모듈 / 다른 사람들이 만들어서 공개하는 모듈"
   ]
  },
  {
   "cell_type": "code",
   "execution_count": 2,
   "id": "64d97a44",
   "metadata": {},
   "outputs": [
    {
     "name": "stdout",
     "output_type": "stream",
     "text": [
      "원주율 = 3.141592653589793\n",
      "2의 3거듭제곱 = 8.0\n",
      "3! =  6\n",
      "원주율 = 3.141592653589793\n",
      "2의 3거듭제곱 = 8.0\n",
      "3! =  6\n"
     ]
    }
   ],
   "source": [
    "# 모듈(Module) 사용\n",
    "# 전체 사용\n",
    "# import 모듈명 <= 모듈 내의 변수, 함수 호출 사용\n",
    "# import 모듈명 as 별칭 <= 모듈 내의 변수, 함수 호출 사용\n",
    "import math\n",
    "\n",
    "print('원주율 =', math.pi)\n",
    "print('2의 3거듭제곱 =', math.pow(2,3))\n",
    "print('3! = ', math.factorial(3))\n",
    "\n",
    "import math as m\n",
    "\n",
    "print('원주율 =', m.pi)\n",
    "print('2의 3거듭제곱 =', m.pow(2,3))\n",
    "print('3! = ', m.factorial(3))"
   ]
  },
  {
   "cell_type": "code",
   "execution_count": 3,
   "id": "3a7190ce",
   "metadata": {},
   "outputs": [
    {
     "name": "stdout",
     "output_type": "stream",
     "text": [
      "제곱 = 8.0\n",
      "원주율 = 3.141592653589793\n",
      "원주율 = 8.0\n",
      "제곱 = 8.0\n",
      "원주율 = 3.141592653589793\n"
     ]
    }
   ],
   "source": [
    "# 모듈(Module) 사용\n",
    "# 모듈 일부만 사용\n",
    "# from 모듈명 import 함수명1, 함수명2  <= 특정 함수만 사용\n",
    "from math import pow, pi\n",
    "print('제곱 =', pow(2,3))\n",
    "print('원주율 =', pi)\n",
    "\n",
    "from math import pow as p\n",
    "print('원주율 =', p(2,3))\n",
    "\n",
    "from math import *\n",
    "print('제곱 =', pow(2,3))\n",
    "print('원주율 =', pi)"
   ]
  },
  {
   "cell_type": "code",
   "execution_count": 4,
   "id": "dd369838",
   "metadata": {},
   "outputs": [],
   "source": [
    "# 모듈(Module) & 스크립트(Script)\n",
    "# 2가지 동작 모드 제어\n",
    "# __name__  <= 현재 실행 모듈 이름 저장하고 있는 내장 변수\n",
    "\n",
    "# 현재 실행 중일 경우  변수 저장 값: __main__\n",
    "# 다른 파일에 포함된 경우 변수 저장 값: 파일명\n",
    "\n",
    "# __name__.py  <= 패키지의 경우 동일 효과"
   ]
  },
  {
   "cell_type": "code",
   "execution_count": 7,
   "id": "0dbdb0ac",
   "metadata": {},
   "outputs": [
    {
     "name": "stdout",
     "output_type": "stream",
     "text": [
      "__main__\n",
      "나는 현재 실행 중입니다.\n"
     ]
    }
   ],
   "source": [
    "# 모듈(Module) & 스크립트(Script)\n",
    "# 2가지 동작 모드 제어\n",
    "print(__name__)\n",
    "\n",
    "if __name__=='__main__':\n",
    "    print('나는 현재 실행 중입니다.')\n",
    "else:\n",
    "    print('나의 이름은 {0}입니다.'.format(__name__))"
   ]
  },
  {
   "cell_type": "code",
   "execution_count": 12,
   "id": "9a3406c2",
   "metadata": {},
   "outputs": [
    {
     "name": "stdout",
     "output_type": "stream",
     "text": [
      "sum= 20\n"
     ]
    }
   ],
   "source": [
    "# 모듈(Module) & 스크립트(Script)\n",
    "# 2가지 동작 모드 제어\n",
    "def get_sum(a, b):\n",
    "    return a+b\n",
    "\n",
    "def main():\n",
    "    data_list=[[1,1], [2,2], [3,3], [4,4]]\n",
    "    sum = 0\n",
    "    for i in range(0, len(data_list)):\n",
    "        sum += get_sum(data_list[i][0], data_list[i][1])\n",
    "        \n",
    "    print('sum = %d' %sum)\n",
    "    \n",
    "main()"
   ]
  },
  {
   "cell_type": "code",
   "execution_count": 13,
   "id": "24d94bce",
   "metadata": {},
   "outputs": [
    {
     "name": "stdout",
     "output_type": "stream",
     "text": [
      "나는 현재 실행 중입니다.\n",
      "aaa.py 시작합니다.\n",
      "sum= 20\n"
     ]
    }
   ],
   "source": [
    "# 모듈(Module) & 스크립트(Script)\n",
    "# 2가지 동작 모드 제어\n",
    "if __name__ == '__main__':\n",
    "    print('나는 현재 실행 중입니다.')\n",
    "    print('aaa.py 시작합니다.')\n",
    "    main()\n",
    "else:\n",
    "    print('나는 {0}입니다.'.format(__name__))"
   ]
  },
  {
   "cell_type": "code",
   "execution_count": 14,
   "id": "415da5ad",
   "metadata": {},
   "outputs": [],
   "source": [
    "# 패키지(Package)\n",
    "# 특정 기능과 관련된 여러 모듈을 묶은 것\n",
    "# python에 다양한 기능을 화장시켜 줄 수 있는 것\n",
    "# 다른 Python 프로그램에서 불러서 사용가능하게 만든 것\n",
    "# 설치 작업이 추가로 필요한 경우도 있음\n",
    "# 파이썬 패키지 인덱스(python package index, pypi)\n",
    "# www.pypi.org"
   ]
  },
  {
   "cell_type": "code",
   "execution_count": 15,
   "id": "03a66cff",
   "metadata": {},
   "outputs": [],
   "source": [
    "# 패키지(package)\n",
    "# 전체 사용\n",
    "# import 패키지명.모듈명\n",
    "# import 패키지명.모듈명1, 모듈명2\n",
    "# import 패키지명.모듈명 as 별칭\n",
    "\n",
    "# import urllib.request\n",
    "# import urllib.request as r"
   ]
  },
  {
   "cell_type": "code",
   "execution_count": 20,
   "id": "df6d3d3a",
   "metadata": {},
   "outputs": [],
   "source": [
    "# 패키지(package)\n",
    "# 전체 사용\n",
    "import urllib  # urllib 전체 패키지\n",
    "\n",
    "req = urllib.request.Request('http://www.google.co.kr')\n",
    "response = urllib.request.urlopen(req)\n",
    "\n",
    "import urllib.request as request  # urllib패키지 request 모듈\n",
    "\n",
    "req = request.Request('http://www.google.co.kr')\n",
    "response = request.urlopen(req)"
   ]
  },
  {
   "cell_type": "code",
   "execution_count": 21,
   "id": "21f4c84a",
   "metadata": {},
   "outputs": [],
   "source": [
    "# 패키지(package)\n",
    "# 일부만 사용\n",
    "# from 패키지명.모듈명 import 변수명\n",
    "# from 패키지명.모듈명 import 함수명\n",
    "# from 패키지명.모듈명 import 클래스명\n",
    "\n",
    "# 클래스, 함수만 사용\n",
    "from urllib.request import Request, urlopen"
   ]
  },
  {
   "cell_type": "code",
   "execution_count": 24,
   "id": "4c274618",
   "metadata": {},
   "outputs": [],
   "source": [
    "# 패키지(package)\n",
    "# 일부만 사용\n",
    "from urllib.request import Request, urlopen  # urlopen 함수, Request 클래스 가져옴\n",
    "\n",
    "req = Request('http://www.google.co.kr')  # Request 클래스 사용하여 req 생성\n",
    "response = urlopen(req)  # urlopen 함수 사용\n",
    "\n",
    "from urllib.request import *  # urllib의 request 모듈의 모든 변수, 함수, 클래스\n",
    "\n",
    "req = Request('http://www.google.co.kr')\n",
    "response = urlopen(req)"
   ]
  },
  {
   "cell_type": "code",
   "execution_count": 25,
   "id": "2c0ace0c",
   "metadata": {},
   "outputs": [],
   "source": [
    "# 패키지(package)\n",
    "# 설치 명령어\n",
    "# pip install 패키지명\n",
    "\n",
    "# 버전 2가지 존재\n",
    "# pip --version"
   ]
  },
  {
   "cell_type": "code",
   "execution_count": 26,
   "id": "56ce8a66",
   "metadata": {},
   "outputs": [],
   "source": [
    "# 패키지(package)\n",
    "# 명령어 사용법 확인\n",
    "# pip --help"
   ]
  },
  {
   "cell_type": "code",
   "execution_count": 27,
   "id": "49d1c36d",
   "metadata": {},
   "outputs": [],
   "source": [
    "# 패키지(package)\n",
    "# pip 명령어 옵션\n",
    "# pip search 패키지  ->  패키지 검색\n",
    "# pip install 패키지==버전  -> 특정 버전 패키지 설치\n",
    "#                            (예: pip install requests==2.9.0)\n",
    "# pip list  ->  패키지 목록 출력\n",
    "# pip freeze  ->  패키지 목록 출력\n",
    "# pip unistall 패키지  ->  패키지 삭제"
   ]
  },
  {
   "cell_type": "markdown",
   "id": "bffec46b",
   "metadata": {},
   "source": [
    "## python 예외처리"
   ]
  },
  {
   "cell_type": "code",
   "execution_count": 28,
   "id": "b3859e7d",
   "metadata": {},
   "outputs": [
    {
     "ename": "ZeroDivisionError",
     "evalue": "division by zero",
     "output_type": "error",
     "traceback": [
      "\u001b[1;31m---------------------------------------------------------------------------\u001b[0m",
      "\u001b[1;31mZeroDivisionError\u001b[0m                         Traceback (most recent call last)",
      "Input \u001b[1;32mIn [28]\u001b[0m, in \u001b[0;36m<cell line: 6>\u001b[1;34m()\u001b[0m\n\u001b[0;32m      3\u001b[0m num1\u001b[38;5;241m=\u001b[39m\u001b[38;5;241m10\u001b[39m\n\u001b[0;32m      4\u001b[0m num2\u001b[38;5;241m=\u001b[39m\u001b[38;5;241m0\u001b[39m\n\u001b[1;32m----> 6\u001b[0m \u001b[38;5;28mprint\u001b[39m(\u001b[38;5;124mf\u001b[39m\u001b[38;5;124m'\u001b[39m\u001b[38;5;132;01m{\u001b[39;00mnum1\u001b[38;5;132;01m}\u001b[39;00m\u001b[38;5;124m/\u001b[39m\u001b[38;5;132;01m{\u001b[39;00mnum2\u001b[38;5;132;01m}\u001b[39;00m\u001b[38;5;124m = \u001b[39m\u001b[38;5;132;01m{\u001b[39;00mnum1\u001b[38;5;241m/\u001b[39mnum2\u001b[38;5;132;01m}\u001b[39;00m\u001b[38;5;124m'\u001b[39m)\n",
      "\u001b[1;31mZeroDivisionError\u001b[0m: division by zero"
     ]
    }
   ],
   "source": [
    "# 예외처리란?\n",
    "# 프로그램 오류 발생 시 중단을 막기위해 처리해주는 방법\n",
    "num1=10\n",
    "num2=0\n",
    "\n",
    "print(f'{num1}/{num2} = {num1/num2}')"
   ]
  },
  {
   "cell_type": "code",
   "execution_count": 29,
   "id": "05d23b9d",
   "metadata": {},
   "outputs": [
    {
     "ename": "FileNotFoundError",
     "evalue": "[Errno 2] No such file or directory: '../Data/address.txt'",
     "output_type": "error",
     "traceback": [
      "\u001b[1;31m---------------------------------------------------------------------------\u001b[0m",
      "\u001b[1;31mFileNotFoundError\u001b[0m                         Traceback (most recent call last)",
      "Input \u001b[1;32mIn [29]\u001b[0m, in \u001b[0;36m<cell line: 3>\u001b[1;34m()\u001b[0m\n\u001b[0;32m      1\u001b[0m \u001b[38;5;66;03m# 예외처리\u001b[39;00m\n\u001b[0;32m      2\u001b[0m \u001b[38;5;66;03m# 예시\u001b[39;00m\n\u001b[1;32m----> 3\u001b[0m file \u001b[38;5;241m=\u001b[39m \u001b[38;5;28;43mopen\u001b[39;49m\u001b[43m(\u001b[49m\u001b[38;5;124;43m'\u001b[39;49m\u001b[38;5;124;43m../Data/address.txt\u001b[39;49m\u001b[38;5;124;43m'\u001b[39;49m\u001b[43m,\u001b[49m\u001b[43m \u001b[49m\u001b[38;5;124;43m'\u001b[39;49m\u001b[38;5;124;43mr\u001b[39;49m\u001b[38;5;124;43m'\u001b[39;49m\u001b[43m)\u001b[49m\n\u001b[0;32m      4\u001b[0m \u001b[38;5;28mprint\u001b[39m(file\u001b[38;5;241m.\u001b[39mread())\n\u001b[0;32m      5\u001b[0m file\u001b[38;5;241m.\u001b[39mclose()\n",
      "\u001b[1;31mFileNotFoundError\u001b[0m: [Errno 2] No such file or directory: '../Data/address.txt'"
     ]
    }
   ],
   "source": [
    "# 예외처리\n",
    "# 예시\n",
    "file = open('../Data/address.txt', 'r')\n",
    "print(file.read())\n",
    "file.close()"
   ]
  },
  {
   "cell_type": "code",
   "execution_count": 30,
   "id": "415e4b1c",
   "metadata": {},
   "outputs": [],
   "source": [
    "# 예외처리 분류\n",
    "# BaseException 클래스 하위 클래스로 존재"
   ]
  },
  {
   "cell_type": "code",
   "execution_count": 31,
   "id": "49947b0f",
   "metadata": {},
   "outputs": [],
   "source": [
    "# 예외처리 구문\n",
    "# try ~ except 문\n",
    "\n",
    "# try:\n",
    "#     예외발생가능 코드\n",
    "# except 오류:\n",
    "#     예외발생 처리코드\n",
    "\n",
    "# try:\n",
    "#     예외발생가능 코드\n",
    "# except 오류:\n",
    "#     예외발생 처리코드\n",
    "# else:\n",
    "#     예외발생하지 않은 경우\n",
    "\n",
    "\n",
    "# try:\n",
    "#     예외발생가능 코드\n",
    "# except 오류:\n",
    "#     예외발생 처리코드\n",
    "# else:\n",
    "#     예외 발생하지 않은 경우\n",
    "# finally:\n",
    "#     무조건 실행코드"
   ]
  },
  {
   "cell_type": "code",
   "execution_count": 33,
   "id": "91d4c8db",
   "metadata": {},
   "outputs": [
    {
     "name": "stdout",
     "output_type": "stream",
     "text": [
      "나눌 숫자를 입력하세요: 0\n",
      "숫자를 0으로 나눌 수 없습니다.\n",
      "--끝--\n"
     ]
    }
   ],
   "source": [
    "# 예외처리 예\n",
    "try:\n",
    "    x = int(input('나눌 숫자를 입력하세요: '))\n",
    "    y = 10/x\n",
    "except ZeroDivisionError:  # 0으로 나눠서 에러 발생 때 실행\n",
    "    print('숫자를 0으로 나눌 수 없습니다.')\n",
    "else:\n",
    "    print(y)\n",
    "finally:\n",
    "    print('--끝--')"
   ]
  },
  {
   "cell_type": "code",
   "execution_count": 36,
   "id": "8e72258b",
   "metadata": {},
   "outputs": [
    {
     "name": "stdout",
     "output_type": "stream",
     "text": [
      "나눌 숫자를 입력하세요:0\n",
      "숫자를 0으로 나눌 수 없습니다. division by zero\n",
      "--끝--\n"
     ]
    }
   ],
   "source": [
    "# 예외처리 예\n",
    "try:\n",
    "    x = int(input('나눌 숫자를 입력하세요:'))\n",
    "    y= 10 / x\n",
    "except ZeroDivisionError as ze:   # 0으로 나눠서 에러 발생 때 실행\n",
    "    print('숫자를 0으로 나눌 수 없습니다.', ze)\n",
    "else:\n",
    "    print(y)\n",
    "finally:\n",
    "    print('--끝--')"
   ]
  },
  {
   "cell_type": "code",
   "execution_count": null,
   "id": "003476d7",
   "metadata": {},
   "outputs": [],
   "source": [
    "# 예외처리 예\n",
    "y = [10, 20, 30]\n",
    "\n",
    "try:\n",
    "    index, x = map(int, input('인덱스와 나눌 숫자를 입력하세요:').split())"
   ]
  }
 ],
 "metadata": {
  "kernelspec": {
   "display_name": "Python 3 (ipykernel)",
   "language": "python",
   "name": "python3"
  },
  "language_info": {
   "codemirror_mode": {
    "name": "ipython",
    "version": 3
   },
   "file_extension": ".py",
   "mimetype": "text/x-python",
   "name": "python",
   "nbconvert_exporter": "python",
   "pygments_lexer": "ipython3",
   "version": "3.9.12"
  }
 },
 "nbformat": 4,
 "nbformat_minor": 5
}
