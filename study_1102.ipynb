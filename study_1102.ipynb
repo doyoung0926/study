{
 "cells": [
  {
   "cell_type": "code",
   "execution_count": 1,
   "metadata": {},
   "outputs": [],
   "source": [
    "# 파이썬 OpenCV 얼굴, 눈 인식 함수(CascadeClassifier) 예제\n",
    "# https://scribblinganything.tistory.com/554\n",
    "\n",
    "\n",
    "# 컴퓨터 카메라 구동\n",
    "import cv2\n",
    "\n",
    "cap = cv2.VideoCapture(0)\n",
    "\n",
    "# cap.set(cv2.CAP_PROP_FRAME_WIDTH, 320)  # 영상 가로 프레임\n",
    "# cap.set(cv2.CAP_PROP_FRAME_HEIGHT, 240)  # 영상 세로 프레임\n",
    "if not cap.isOpened():\n",
    "    print('cap open failed')\n",
    "    exit()\n",
    "\n",
    "# 얼굴 인식, 눈 인식 관련 CML 불러오기\n",
    "face_xml = cv2.CascadeClassifier(cv2.data.haarcascades + 'haarcascade_frontalface_default.xml')\n",
    "eye_xml = cv2.CascadeClassifier(cv2.data.haarcascades + 'haarcascade_eye.xml')\n",
    "\n",
    "\n",
    "while True:\n",
    "    # 한 장의 이미지(frame)를 가져오기\n",
    "    # 영상 : 이미지(프레임)의 연속\n",
    "    # 정상적으로 읽어왔는지 -> ret\n",
    "    # 읽어온 프레임 -> img\n",
    "    ret, img = cap.read()\n",
    "    if not ret:  # 프레임 정보를 정상적으로 읽지 못하면\n",
    "        print(\"Can't read cap\")\n",
    "        break  # while 문을 빠져나가기\n",
    "    \n",
    "    img_gray = cv2.cvtColor(img, cv2.COLOR_BGR2GRAY)   # 이미지를 회색으로 변경. Haar의 Face recognition 시 얼굴을 인식하기에 흑백의 명도를 이용하는 것이 유리하기 때문\n",
    "\n",
    "    faces = face_xml.detectMultiScale(img_gray, 1.3, 5)   # detectMultiScale 함수 입력값으로 이미지와 scale값 minNeighbors 값을 입력. scale은 확대해서 검출하는 것이고 minNeighbors는 간단하게 높은 값을 쓸수록 검출은 어렵지만 높은 출력으로 구분됨. return 값으로 인식된 face 좌표(Coordinate)를 넘겨 줍니다.\n",
    "    # 얼굴이 인식된 좌표를 사각형으로 표기하고 각 얼굴 안에 눈이 있으면 사각형으로 표기 합니다.\n",
    "    for (x,y,w,h) in faces:\n",
    "        cv2.rectangle(img, (x,y), (x+w, y+h), (255, 0, 0), 2)\n",
    "\n",
    "        roi_color = img[y:y+h, x:x+w]\n",
    "        roi_gray = img_gray[y:y+h, x:x+w]\n",
    "\n",
    "        eyes = eye_xml.detectMultiScale(roi_gray)\n",
    "        for (ex, ey, ew, eh) in eyes:\n",
    "            cv2.rectangle(roi_color, (ex, ey), (ex+ew, ey+eh), (0, 255, 0), 2)\n",
    "\n",
    "    cv2.imshow('Face Recognition', img)   # 프레임 보여주기\n",
    "\n",
    "    if cv2.waitKey(1) == ord('q'):  # frameRate msec동안 한 프레임을 보여준다\n",
    "        break\n",
    "\n",
    "cv2.destroyAllWindows()"
   ]
  },
  {
   "cell_type": "code",
   "execution_count": null,
   "metadata": {},
   "outputs": [],
   "source": []
  }
 ],
 "metadata": {
  "kernelspec": {
   "display_name": "Python 3.9.13 ('base')",
   "language": "python",
   "name": "python3"
  },
  "language_info": {
   "codemirror_mode": {
    "name": "ipython",
    "version": 3
   },
   "file_extension": ".py",
   "mimetype": "text/x-python",
   "name": "python",
   "nbconvert_exporter": "python",
   "pygments_lexer": "ipython3",
   "version": "3.9.13"
  },
  "orig_nbformat": 4,
  "vscode": {
   "interpreter": {
    "hash": "263930470851f494f0ed2879c35b57985588df20f9e529b86e97dd5eb9ddc466"
   }
  }
 },
 "nbformat": 4,
 "nbformat_minor": 2
}
