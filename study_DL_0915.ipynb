{
 "cells": [
  {
   "cell_type": "code",
   "execution_count": 245,
   "id": "866d625b",
   "metadata": {},
   "outputs": [],
   "source": [
    "# 모듈 로딩\n",
    "import tensorflow as tf\n",
    "from tensorflow.keras import Sequential, Input   # 모델 객체\n",
    "from tensorflow.keras.layers import Dense, Dropout    # 레이어 객체\n",
    "from tensorflow.keras.datasets.boston_housing import load_data\n",
    "import numpy as np"
   ]
  },
  {
   "cell_type": "markdown",
   "id": "297e687c",
   "metadata": {},
   "source": [
    "## [1] 데이터 로딩\n",
    "---"
   ]
  },
  {
   "cell_type": "code",
   "execution_count": 246,
   "id": "bbfd83a7",
   "metadata": {},
   "outputs": [],
   "source": [
    "# 학습용, 테스트용 = 8:2\n",
    "(x_train, y_train), (x_test, y_test) = load_data()"
   ]
  },
  {
   "cell_type": "code",
   "execution_count": 247,
   "id": "c036dd47",
   "metadata": {},
   "outputs": [
    {
     "data": {
      "text/plain": [
       "((404, 13), (102, 13))"
      ]
     },
     "execution_count": 247,
     "metadata": {},
     "output_type": "execute_result"
    }
   ],
   "source": [
    "x_train.shape, x_test.shape"
   ]
  },
  {
   "cell_type": "code",
   "execution_count": 248,
   "id": "8da5fde8",
   "metadata": {},
   "outputs": [
    {
     "data": {
      "text/plain": [
       "(array([[  1.23247,   0.     ,   8.14   ,   0.     ,   0.538  ,   6.142  ,\n",
       "          91.7    ,   3.9769 ,   4.     , 307.     ,  21.     , 396.9    ,\n",
       "          18.72   ]]),\n",
       " 15.2)"
      ]
     },
     "execution_count": 248,
     "metadata": {},
     "output_type": "execute_result"
    }
   ],
   "source": [
    "x_train[:1], y_train[0]"
   ]
  },
  {
   "cell_type": "markdown",
   "id": "adc7b23d",
   "metadata": {},
   "source": [
    "### [1-1] 전처리\n",
    "---\n",
    "- 특성(Feature) 전처리\n",
    "    * 수치 데이터 : 값의 범위\n",
    "    * 문자 데이터 : 수치화"
   ]
  },
  {
   "cell_type": "code",
   "execution_count": 249,
   "id": "87725404",
   "metadata": {},
   "outputs": [],
   "source": [
    "from sklearn.preprocessing import StandardScaler, MinMaxScaler, RobustScaler"
   ]
  },
  {
   "cell_type": "code",
   "execution_count": 250,
   "id": "ad759103",
   "metadata": {},
   "outputs": [],
   "source": [
    "scaler=StandardScaler()"
   ]
  },
  {
   "cell_type": "code",
   "execution_count": 251,
   "id": "19e3361c",
   "metadata": {},
   "outputs": [
    {
     "data": {
      "text/plain": [
       "StandardScaler()"
      ]
     },
     "execution_count": 251,
     "metadata": {},
     "output_type": "execute_result"
    }
   ],
   "source": [
    "scaler.fit(x_train)"
   ]
  },
  {
   "cell_type": "code",
   "execution_count": 252,
   "id": "a1b8012e",
   "metadata": {},
   "outputs": [
    {
     "data": {
      "text/plain": [
       "(array([3.74511057e+00, 1.14801980e+01, 1.11044307e+01, 6.18811881e-02,\n",
       "        5.57355941e-01, 6.26708168e+00, 6.90106436e+01, 3.74027079e+00,\n",
       "        9.44059406e+00, 4.05898515e+02, 1.84759901e+01, 3.54783168e+02,\n",
       "        1.27408168e+01]),\n",
       " array([9.22929073e+00, 2.37382770e+01, 6.80287253e+00, 2.40939633e-01,\n",
       "        1.17147847e-01, 7.08908627e-01, 2.79060634e+01, 2.02770050e+00,\n",
       "        8.68758849e+00, 1.66168506e+02, 2.19765689e+00, 9.39946015e+01,\n",
       "        7.24556085e+00]))"
      ]
     },
     "execution_count": 252,
     "metadata": {},
     "output_type": "execute_result"
    }
   ],
   "source": [
    "scaler.mean_, scaler.scale_"
   ]
  },
  {
   "cell_type": "code",
   "execution_count": 253,
   "id": "d3724007",
   "metadata": {},
   "outputs": [],
   "source": [
    "x_train_scaled = scaler.transform(x_train)"
   ]
  },
  {
   "cell_type": "markdown",
   "id": "458bea75",
   "metadata": {},
   "source": [
    "### [2] NN Model 실습\n",
    "---\n",
    "- (1) 모델 구상\n",
    "- (2) 모델 생성\n",
    "- (3) 학습\n",
    "- (4) 평가\n",
    "- (5) 테스트"
   ]
  },
  {
   "cell_type": "markdown",
   "id": "49e7d389",
   "metadata": {},
   "source": [
    "### [2-1] 모델 구상\n",
    "- 입력 데이터 => 13 특성\n",
    "- 출력 데이터 => 1 집값"
   ]
  },
  {
   "cell_type": "code",
   "execution_count": 254,
   "id": "88bd8510",
   "metadata": {},
   "outputs": [],
   "source": [
    "# NN Model의 Layer를 층층이 담아서 관리하는 객체\n",
    "model = Sequential(name='BostonNNM')"
   ]
  },
  {
   "cell_type": "code",
   "execution_count": 255,
   "id": "18189184",
   "metadata": {},
   "outputs": [],
   "source": [
    "# Layer 추가하기\n",
    "model.add( Input(shape=(13,), name='input'))\n",
    "model.add( Dense(30, activation='relu', name='hidden-1'))\n",
    "\n",
    "# 과적합을 해결하기 위해서 Dropout() 사용, 지정된 비율만큼 node를 비활성화\n",
    "model.add( Dropout(0.5))\n",
    "model.add( Dense(10, activation='relu', name='hidden-2'))\n",
    "# 회귀 => 출력층\n",
    "model.add( Dense(1, activation='linear', name='output'))"
   ]
  },
  {
   "cell_type": "code",
   "execution_count": 256,
   "id": "a7a49156",
   "metadata": {},
   "outputs": [
    {
     "name": "stdout",
     "output_type": "stream",
     "text": [
      "Model: \"BostonNNM\"\n",
      "_________________________________________________________________\n",
      " Layer (type)                Output Shape              Param #   \n",
      "=================================================================\n",
      " hidden-1 (Dense)            (None, 30)                420       \n",
      "                                                                 \n",
      " dropout_5 (Dropout)         (None, 30)                0         \n",
      "                                                                 \n",
      " hidden-2 (Dense)            (None, 10)                310       \n",
      "                                                                 \n",
      " output (Dense)              (None, 1)                 11        \n",
      "                                                                 \n",
      "=================================================================\n",
      "Total params: 741\n",
      "Trainable params: 741\n",
      "Non-trainable params: 0\n",
      "_________________________________________________________________\n"
     ]
    }
   ],
   "source": [
    "# 모델 구성 확인 => summary()\n",
    "model.summary()"
   ]
  },
  {
   "cell_type": "markdown",
   "id": "0d5f2e33",
   "metadata": {},
   "source": [
    "### [2-2] 모델 생성\n",
    "---\n",
    "- Sequential 클래스의 compile 메서드\n",
    "- 모델이 동작하기 위해서 필요한 설정\n",
    "    * 오차 계산 함수 설정 => loss\n",
    "    * W, B 최적화 방식 설정 => optimizer\n",
    "    * 모델의 성능 측정 항목 설정 => metrics\n",
    "- 파라미터 값들\n",
    "    * str 타입으로 입력 가능\n",
    "    * 객체 타입으로 입력 가능"
   ]
  },
  {
   "cell_type": "code",
   "execution_count": 257,
   "id": "ffbc45f1",
   "metadata": {},
   "outputs": [],
   "source": [
    "model.compile(loss='mse', optimizer='adam', metrics='mae')"
   ]
  },
  {
   "cell_type": "markdown",
   "id": "030fa599",
   "metadata": {},
   "source": [
    "### [2-3] 학습\n",
    "---\n",
    "- fit() 메서드\n",
    "    * 파라미터\n",
    "    * 반환값 => History 객체"
   ]
  },
  {
   "cell_type": "code",
   "execution_count": 258,
   "id": "131f109d",
   "metadata": {},
   "outputs": [],
   "source": [
    "from tensorflow.keras.callbacks import EarlyStopping\n",
    "\n",
    "# 검증 데이터에 대한 loss값 3번 연속 개선되지 않으면 학습 중지\n",
    "stopCB = EarlyStopping(monitor='val_loss', patience=3)"
   ]
  },
  {
   "cell_type": "code",
   "execution_count": 259,
   "id": "4481c1a1",
   "metadata": {},
   "outputs": [
    {
     "name": "stdout",
     "output_type": "stream",
     "text": [
      "Epoch 1/1000\n",
      "41/41 [==============================] - 1s 6ms/step - loss: 2667.2422 - mae: 39.7245 - val_loss: 227.1863 - val_mae: 12.2973\n",
      "Epoch 2/1000\n",
      "41/41 [==============================] - 0s 3ms/step - loss: 1270.8652 - mae: 26.7465 - val_loss: 191.5039 - val_mae: 10.7918\n",
      "Epoch 3/1000\n",
      "41/41 [==============================] - 0s 2ms/step - loss: 800.3931 - mae: 21.6393 - val_loss: 177.9624 - val_mae: 10.7611\n",
      "Epoch 4/1000\n",
      "41/41 [==============================] - 0s 3ms/step - loss: 587.6990 - mae: 18.8474 - val_loss: 149.5511 - val_mae: 9.6424\n",
      "Epoch 5/1000\n",
      "41/41 [==============================] - 0s 3ms/step - loss: 438.1953 - mae: 16.4555 - val_loss: 177.6435 - val_mae: 11.0161\n",
      "Epoch 6/1000\n",
      "41/41 [==============================] - 0s 4ms/step - loss: 380.7665 - mae: 14.6812 - val_loss: 134.4679 - val_mae: 9.1144\n",
      "Epoch 7/1000\n",
      "41/41 [==============================] - 0s 3ms/step - loss: 344.5245 - mae: 14.2662 - val_loss: 144.7672 - val_mae: 9.5987\n",
      "Epoch 8/1000\n",
      "41/41 [==============================] - 0s 4ms/step - loss: 297.2639 - mae: 13.1690 - val_loss: 142.6619 - val_mae: 9.5331\n",
      "Epoch 9/1000\n",
      "41/41 [==============================] - 0s 6ms/step - loss: 305.2913 - mae: 13.2996 - val_loss: 144.5266 - val_mae: 9.6036\n"
     ]
    }
   ],
   "source": [
    "result = model.fit(x_train,\n",
    "                  y_train,\n",
    "                  epochs=1000,\n",
    "                  batch_size=10,\n",
    "                  validation_data=(x_test, y_test),\n",
    "                  callbacks=[stopCB])"
   ]
  },
  {
   "cell_type": "code",
   "execution_count": 260,
   "id": "71a28867",
   "metadata": {},
   "outputs": [
    {
     "data": {
      "text/plain": [
       "keras.callbacks.History"
      ]
     },
     "execution_count": 260,
     "metadata": {},
     "output_type": "execute_result"
    }
   ],
   "source": [
    "# 학습 후 학습 결과 체크 => History 객체\n",
    "type(result)"
   ]
  },
  {
   "cell_type": "code",
   "execution_count": 261,
   "id": "fc7ace32",
   "metadata": {},
   "outputs": [
    {
     "data": {
      "text/plain": [
       "{'verbose': 1, 'epochs': 1000, 'steps': 41}"
      ]
     },
     "execution_count": 261,
     "metadata": {},
     "output_type": "execute_result"
    }
   ],
   "source": [
    "result.params"
   ]
  },
  {
   "cell_type": "code",
   "execution_count": 262,
   "id": "aeba9fe3",
   "metadata": {},
   "outputs": [
    {
     "data": {
      "text/plain": [
       "dict_keys(['loss', 'mae', 'val_loss', 'val_mae'])"
      ]
     },
     "execution_count": 262,
     "metadata": {},
     "output_type": "execute_result"
    }
   ],
   "source": [
    "result.history.keys()"
   ]
  },
  {
   "cell_type": "code",
   "execution_count": 263,
   "id": "87a32a4c",
   "metadata": {},
   "outputs": [
    {
     "data": {
      "text/plain": [
       "([2667.2421875,\n",
       "  1270.865234375,\n",
       "  800.3931274414062,\n",
       "  587.6990356445312,\n",
       "  438.1952819824219,\n",
       "  380.76654052734375,\n",
       "  344.52447509765625,\n",
       "  297.2638854980469,\n",
       "  305.291259765625],\n",
       " [39.72450637817383,\n",
       "  26.74649429321289,\n",
       "  21.63926887512207,\n",
       "  18.847396850585938,\n",
       "  16.455474853515625,\n",
       "  14.681153297424316,\n",
       "  14.266154289245605,\n",
       "  13.168994903564453,\n",
       "  13.299627304077148])"
      ]
     },
     "execution_count": 263,
     "metadata": {},
     "output_type": "execute_result"
    }
   ],
   "source": [
    "result.history['loss'], result.history['mae']"
   ]
  },
  {
   "cell_type": "code",
   "execution_count": 264,
   "id": "867113d0",
   "metadata": {},
   "outputs": [],
   "source": [
    "## 시각화 --------------------------------------------"
   ]
  },
  {
   "cell_type": "code",
   "execution_count": 265,
   "id": "e7823ad5",
   "metadata": {},
   "outputs": [],
   "source": [
    "import matplotlib.pyplot as plt"
   ]
  },
  {
   "cell_type": "code",
   "execution_count": 266,
   "id": "ebd25d33",
   "metadata": {},
   "outputs": [
    {
     "data": {
      "text/plain": [
       "[0, 1, 2, 3, 4, 5, 6, 7, 8]"
      ]
     },
     "execution_count": 266,
     "metadata": {},
     "output_type": "execute_result"
    }
   ],
   "source": [
    "result.epoch"
   ]
  },
  {
   "cell_type": "code",
   "execution_count": 267,
   "id": "28356050",
   "metadata": {},
   "outputs": [
    {
     "data": {
      "image/png": "[encoded data removed]",
      "text/plain": [
       "<Figure size 1440x792 with 1 Axes>"
      ]
     },
     "metadata": {
      "needs_background": "light"
     },
     "output_type": "display_data"
    }
   ],
   "source": [
    "plt.figure(figsize=(20,11))\n",
    "plt.plot(result.epoch, result.history['loss'], label='loss')\n",
    "plt.plot(result.epoch, result.history['val_loss'], label='val_loss')\n",
    "plt.legend()\n",
    "plt.show()\n"
   ]
  },
  {
   "cell_type": "markdown",
   "id": "8ecf6993",
   "metadata": {},
   "source": [
    "### [2-4] 평가\n",
    "---\n",
    "- evaluate() 메서드\n",
    "    * 파라미터 : test_data, test_target\n",
    "    * 반환값 : loss, compile()의 metrics 에서 설정한 항목값"
   ]
  },
  {
   "cell_type": "code",
   "execution_count": 268,
   "id": "878699ed",
   "metadata": {},
   "outputs": [
    {
     "name": "stdout",
     "output_type": "stream",
     "text": [
      "4/4 [==============================] - 0s 2ms/step - loss: 144.5266 - mae: 9.6036\n"
     ]
    }
   ],
   "source": [
    "eRet = model.evaluate(x_test, y_test)"
   ]
  },
  {
   "cell_type": "code",
   "execution_count": 269,
   "id": "3a37304b",
   "metadata": {},
   "outputs": [
    {
     "data": {
      "text/plain": [
       "[144.5265655517578, 9.603621482849121]"
      ]
     },
     "execution_count": 269,
     "metadata": {},
     "output_type": "execute_result"
    }
   ],
   "source": [
    "eRet  # 낮을수록 좋음"
   ]
  },
  {
   "cell_type": "markdown",
   "id": "5136bb61",
   "metadata": {},
   "source": [
    "### [2-5] 예측\n",
    "---\n",
    "- predict()"
   ]
  },
  {
   "cell_type": "code",
   "execution_count": 270,
   "id": "e4133519",
   "metadata": {},
   "outputs": [
    {
     "name": "stdout",
     "output_type": "stream",
     "text": [
      "WARNING:tensorflow:6 out of the last 7 calls to <function Model.make_predict_function.<locals>.predict_function at 0x000002631E4C69D0> triggered tf.function retracing. Tracing is expensive and the excessive number of tracings could be due to (1) creating @tf.function repeatedly in a loop, (2) passing tensors with different shapes, (3) passing Python objects instead of tensors. For (1), please define your @tf.function outside of the loop. For (2), @tf.function has reduce_retracing=True option that can avoid unnecessary retracing. For (3), please refer to https://www.tensorflow.org/guide/function#controlling_retracing and https://www.tensorflow.org/api_docs/python/tf/function for  more details.\n",
      "1/1 [==============================] - 0s 98ms/step\n"
     ]
    },
    {
     "data": {
      "text/plain": [
       "array([[14.675402]], dtype=float32)"
      ]
     },
     "execution_count": 270,
     "metadata": {},
     "output_type": "execute_result"
    }
   ],
   "source": [
    "model.predict(x_train[:1])"
   ]
  },
  {
   "cell_type": "code",
   "execution_count": 271,
   "id": "a9126075",
   "metadata": {},
   "outputs": [],
   "source": [
    "model1 = Sequential([Dense(10, activation='relu', input_shape=(3,)),\n",
    "                    Dense(5, activation='relu'),\n",
    "                    Dense(1, activation='sigmoid')])"
   ]
  },
  {
   "cell_type": "code",
   "execution_count": 272,
   "id": "5010c473",
   "metadata": {},
   "outputs": [],
   "source": [
    "model1 = Sequential()\n",
    "model1.add(Dense(10, activation='relu', input_shape=(3,)))\n",
    "model1.add(Dense(10, activation='relu'))"
   ]
  },
  {
   "cell_type": "code",
   "execution_count": 273,
   "id": "631f0808",
   "metadata": {},
   "outputs": [
    {
     "name": "stdout",
     "output_type": "stream",
     "text": [
      "Model: \"sequential_8\"\n",
      "_________________________________________________________________\n",
      " Layer (type)                Output Shape              Param #   \n",
      "=================================================================\n",
      " dense_28 (Dense)            (None, 10)                40        \n",
      "                                                                 \n",
      " dense_29 (Dense)            (None, 10)                110       \n",
      "                                                                 \n",
      "=================================================================\n",
      "Total params: 150\n",
      "Trainable params: 150\n",
      "Non-trainable params: 0\n",
      "_________________________________________________________________\n"
     ]
    }
   ],
   "source": [
    "model1.summary()"
   ]
  },
  {
   "cell_type": "markdown",
   "id": "84cb5ddb",
   "metadata": {},
   "source": [
    "# 손글씨 숫자 식별 모델 \n",
    "---\n",
    "- 데이터 : MNIST 데이터 사용\n",
    "- 학습모델 : 신경망 모델\n",
    "- 동작 : 0 ~ 9 사이 숫자 판별"
   ]
  },
  {
   "cell_type": "code",
   "execution_count": 274,
   "id": "7c5f864d",
   "metadata": {},
   "outputs": [],
   "source": [
    "from tensorflow.keras import Sequential\n",
    "from tensorflow.keras.layers import Dense, Dropout\n",
    "from tensorflow.keras.datasets.mnist import load_data\n",
    "from sklearn.model_selection import train_test_split"
   ]
  },
  {
   "cell_type": "markdown",
   "id": "07954f65",
   "metadata": {},
   "source": [
    "## [1] 데이터 로딩 및 준비"
   ]
  },
  {
   "cell_type": "code",
   "execution_count": 275,
   "id": "5d241507",
   "metadata": {},
   "outputs": [],
   "source": [
    "(x_train, y_train), (x_test, y_test) = load_data()"
   ]
  },
  {
   "cell_type": "code",
   "execution_count": 276,
   "id": "b8f1a974",
   "metadata": {},
   "outputs": [
    {
     "name": "stdout",
     "output_type": "stream",
     "text": [
      "x_train.shape : (60000, 28, 28), x_test.shape : (10000, 28, 28)\n",
      "y_train.shape : (60000,), y_test.shape : (10000,)\n"
     ]
    }
   ],
   "source": [
    "print(f'x_train.shape : {x_train.shape}, x_test.shape : {x_test.shape}')\n",
    "print(f'y_train.shape : {y_train.shape}, y_test.shape : {y_test.shape}')"
   ]
  },
  {
   "cell_type": "code",
   "execution_count": 277,
   "id": "3b5e8687",
   "metadata": {},
   "outputs": [],
   "source": [
    "# 검증용 데이터 셋 준비\n",
    "x_train, x_val, y_train, y_val = train_test_split(x_train,\n",
    "                                                 y_train,\n",
    "                                                 stratify=y_train)"
   ]
  },
  {
   "cell_type": "code",
   "execution_count": 278,
   "id": "890be646",
   "metadata": {},
   "outputs": [
    {
     "name": "stdout",
     "output_type": "stream",
     "text": [
      "x_train.shape : (45000, 28, 28), x_val.shape : (15000, 28, 28)\n",
      "x_train.shape : (45000,), y_val.shape : (15000,)\n"
     ]
    }
   ],
   "source": [
    "print(f'x_train.shape : {x_train.shape}, x_val.shape : {x_val.shape}')\n",
    "print(f'x_train.shape : {y_train.shape}, y_val.shape : {y_val.shape}')      "
   ]
  },
  {
   "cell_type": "markdown",
   "id": "63b24aaf",
   "metadata": {},
   "source": [
    "## [2] 데이터 전처리\n",
    "---\n",
    "- 수치 데이터 => 스케일링\n",
    "- 범주형 데이터 => 원핫인코딩"
   ]
  },
  {
   "cell_type": "code",
   "execution_count": 279,
   "id": "9387ce28",
   "metadata": {},
   "outputs": [
    {
     "data": {
      "text/plain": [
       "(array([[  0,   0,   0,   0,   0,   0,   0,   0,   0,   0,   0,   0,   0,\n",
       "           0,   0,   0,   0,   0,   0,   0,   0,   0,   0,   0,   0,   0,\n",
       "           0,   0],\n",
       "        [  0,   0,   0,   0,   0,   0,   0,   0,   0,   0,   0,   0,   0,\n",
       "           0,   0,   0,   0,   0,   0,   0,   0,   0,   0,   0,   0,   0,\n",
       "           0,   0],\n",
       "        [  0,   0,   0,   0,   0,   0,   0,   0,   0,   0,   0,   0,   0,\n",
       "           0,   0,   0,   0,   0,   0,   0,   0,   0,   0,   0,   0,   0,\n",
       "           0,   0],\n",
       "        [  0,   0,   0,   0,   0,   0,   0,   0,   0,   0,   0,   0,   0,\n",
       "           0,   0,   0,   0,   0,   0,   0,   0,   0,   0,   0,   0,   0,\n",
       "           0,   0],\n",
       "        [  0,   0,   0,   0,   0,   1,  13,  48, 255, 254, 254, 173,  13,\n",
       "          13,   7,   0,   0,   0,   0,   0,   0,   0,   0,   0,   0,   0,\n",
       "           0,   0],\n",
       "        [  0,   0,   0,   0,   0,  36, 252, 252, 252, 252, 252, 252, 252,\n",
       "         252, 142,  25,  25,  10,   0,   0,   0,   0,   0,   0,   0,   0,\n",
       "           0,   0],\n",
       "        [  0,   0,   0,   0,   0, 254, 252, 252, 252, 252, 252, 252, 252,\n",
       "         252, 252, 252, 252, 118,  37,  11,   0,   0,   0,   0,   0,   0,\n",
       "           0,   0],\n",
       "        [  0,   0,   0,   0,   0, 255, 252, 252, 252, 252, 252, 252, 252,\n",
       "         252, 252, 252, 252, 252, 252, 106,  49,   9,   0,   0,   0,   0,\n",
       "           0,   0],\n",
       "        [  0,   0,   0,   0,   0, 193, 197, 252, 240, 191, 191, 191, 215,\n",
       "         252, 252, 252, 252, 252, 252, 252, 252,  47,   0,   0,   0,   0,\n",
       "           0,   0],\n",
       "        [  0,   0,   0,   0,   0,   0,  18, 179, 145,   0,   0,   0,  70,\n",
       "         179, 214, 252, 252, 252, 252, 252, 252, 106,  10,   0,   0,   0,\n",
       "           0,   0],\n",
       "        [  0,   0,   0,   0,   0,   0,   0,   0,   0,   0,   0,   0,   0,\n",
       "          37, 165, 252, 252, 252, 252, 252, 252, 252,  34,   0,   0,   0,\n",
       "           0,   0],\n",
       "        [  0,   0,   0,   0,   0,   0,   0,   0,   0,   0,   0,   0,  38,\n",
       "         164, 252, 252, 252, 252, 252, 252, 252, 252,  34,   0,   0,   0,\n",
       "           0,   0],\n",
       "        [  0,   0,   0,   0,   0,   0,   0,   0,   0,   0,   0,   0,  98,\n",
       "         252, 252, 252, 252, 252, 252, 252, 252, 252, 128,  10,   0,   0,\n",
       "           0,   0],\n",
       "        [  0,   0,   0,   0,   0,   0,   0,   0,   0,   0,   0,   0,  51,\n",
       "         183, 252, 252, 252, 252, 252, 252, 252, 252, 252, 132,   5,   0,\n",
       "           0,   0],\n",
       "        [  0,   0,   0,   0,   0,   0,   0,   0,   0,   0,   0,   0,   0,\n",
       "          52, 119, 119, 119, 119, 208, 252, 252, 252, 252, 252,  10,   0,\n",
       "           0,   0],\n",
       "        [  0,   0,   0,   0,   0,   0,  15, 145, 118,   0,   0,   0,   0,\n",
       "           0,   0,   0,   0,   0,  72, 211, 252, 252, 252, 252,  10,   0,\n",
       "           0,   0],\n",
       "        [  0,   0,   0,   0,   0,   8, 166, 252, 203,   0,   0,   0,   0,\n",
       "           0,   0,   0,   0,   0, 107, 226, 252, 252, 252, 252,  10,   0,\n",
       "           0,   0],\n",
       "        [  0,   0,   0,   0,   0,  13, 252, 252, 236, 129,   0,   0,   0,\n",
       "           0,   0,   0,   0, 107, 225, 252, 252, 252, 252, 252,  10,   0,\n",
       "           0,   0],\n",
       "        [  0,   0,   0,   0,   0,  13, 252, 252, 252, 191,   0,   0,  71,\n",
       "         182, 182, 182, 182, 226, 252, 252, 252, 252, 252, 252,  10,   0,\n",
       "           0,   0],\n",
       "        [  0,   0,   0,   0,   0,  13, 252, 252, 252, 238, 194, 194, 216,\n",
       "         252, 252, 252, 252, 252, 252, 252, 252, 252, 252,  76,   3,   0,\n",
       "           0,   0],\n",
       "        [  0,   0,   0,   0,   0,   3,  66, 252, 252, 252, 252, 252, 252,\n",
       "         252, 252, 252, 252, 252, 252, 252, 252,  84,  47,   4,   0,   0,\n",
       "           0,   0],\n",
       "        [  0,   0,   0,   0,   0,   0,  25, 252, 252, 252, 252, 252, 252,\n",
       "         252, 252, 252, 252, 252, 252, 252,  85,   7,   0,   0,   0,   0,\n",
       "           0,   0],\n",
       "        [  0,   0,   0,   0,   0,   0,   3,  56, 252, 252, 252, 252, 252,\n",
       "         252, 252, 252, 252, 109,  22,  22,   6,   0,   0,   0,   0,   0,\n",
       "           0,   0],\n",
       "        [  0,   0,   0,   0,   0,   0,   0,   2,  10,  10,  10,  10, 104,\n",
       "         252, 135,  10,  10,   4,   0,   0,   0,   0,   0,   0,   0,   0,\n",
       "           0,   0],\n",
       "        [  0,   0,   0,   0,   0,   0,   0,   0,   0,   0,   0,   0,   0,\n",
       "           0,   0,   0,   0,   0,   0,   0,   0,   0,   0,   0,   0,   0,\n",
       "           0,   0],\n",
       "        [  0,   0,   0,   0,   0,   0,   0,   0,   0,   0,   0,   0,   0,\n",
       "           0,   0,   0,   0,   0,   0,   0,   0,   0,   0,   0,   0,   0,\n",
       "           0,   0],\n",
       "        [  0,   0,   0,   0,   0,   0,   0,   0,   0,   0,   0,   0,   0,\n",
       "           0,   0,   0,   0,   0,   0,   0,   0,   0,   0,   0,   0,   0,\n",
       "           0,   0],\n",
       "        [  0,   0,   0,   0,   0,   0,   0,   0,   0,   0,   0,   0,   0,\n",
       "           0,   0,   0,   0,   0,   0,   0,   0,   0,   0,   0,   0,   0,\n",
       "           0,   0]], dtype=uint8),\n",
       " 3)"
      ]
     },
     "execution_count": 279,
     "metadata": {},
     "output_type": "execute_result"
    }
   ],
   "source": [
    "# 저장된 값 확인\n",
    "x_train[0], y_train[0]"
   ]
  },
  {
   "cell_type": "code",
   "execution_count": 280,
   "id": "d6fdef7c",
   "metadata": {},
   "outputs": [],
   "source": [
    "# 이미지 데이터의 픽셀값 즉 특성(Feature) 0.0~1.0으로 스케일링\n",
    "x_train = x_train/255.0  # 실수로 나오게 하려고 .0 함\n",
    "x_val = x_val/255.0\n",
    "x_test = x_test/255.0"
   ]
  },
  {
   "cell_type": "code",
   "execution_count": 281,
   "id": "a613fd1e",
   "metadata": {},
   "outputs": [],
   "source": [
    "# 타겟 라벨 => OneHotEncoding으로 변환\n",
    "from sklearn.preprocessing import OneHotEncoder"
   ]
  },
  {
   "cell_type": "code",
   "execution_count": 282,
   "id": "fa5ce660",
   "metadata": {},
   "outputs": [],
   "source": [
    "encoder = OneHotEncoder()\n",
    "encoder.fit(y_train.reshape(-1,1))\n",
    "y_train =encoder.transform(y_train.reshape(-1,1))"
   ]
  },
  {
   "cell_type": "code",
   "execution_count": 283,
   "id": "a33ee846",
   "metadata": {},
   "outputs": [
    {
     "data": {
      "text/plain": [
       "scipy.sparse.csr.csr_matrix"
      ]
     },
     "execution_count": 283,
     "metadata": {},
     "output_type": "execute_result"
    }
   ],
   "source": [
    "type(y_train)  # 희소 행렬"
   ]
  },
  {
   "cell_type": "code",
   "execution_count": 284,
   "id": "7e720b14",
   "metadata": {},
   "outputs": [],
   "source": [
    "y_train = y_train.toarray()"
   ]
  },
  {
   "cell_type": "code",
   "execution_count": 285,
   "id": "be3b00eb",
   "metadata": {},
   "outputs": [
    {
     "name": "stdout",
     "output_type": "stream",
     "text": [
      "y_train : <class 'numpy.ndarray'>\n",
      "y_train[0] : [0. 0. 0. 1. 0. 0. 0. 0. 0. 0.]\n"
     ]
    }
   ],
   "source": [
    "print(f'y_train : {type(y_train)}\\ny_train[0] : {y_train[0]}')"
   ]
  },
  {
   "cell_type": "code",
   "execution_count": 286,
   "id": "6e309272",
   "metadata": {},
   "outputs": [],
   "source": [
    "y_test=encoder.transform(y_test.reshape(-1,1))\n",
    "y_val=encoder.transform(y_val.reshape(-1,1))"
   ]
  },
  {
   "cell_type": "code",
   "execution_count": 287,
   "id": "361f576b",
   "metadata": {},
   "outputs": [],
   "source": [
    "y_test = y_test.toarray()\n",
    "y_val = y_val.toarray()"
   ]
  },
  {
   "cell_type": "code",
   "execution_count": 288,
   "id": "2956b7f5",
   "metadata": {},
   "outputs": [
    {
     "data": {
      "text/plain": [
       "(45000, 28, 28)"
      ]
     },
     "execution_count": 288,
     "metadata": {},
     "output_type": "execute_result"
    }
   ],
   "source": [
    "# Dense Layer 입력 형태로 변환\n",
    "x_train.shape"
   ]
  },
  {
   "cell_type": "code",
   "execution_count": 289,
   "id": "65840f03",
   "metadata": {},
   "outputs": [
    {
     "data": {
      "text/plain": [
       "((45000, 784), (45000, 10))"
      ]
     },
     "execution_count": 289,
     "metadata": {},
     "output_type": "execute_result"
    }
   ],
   "source": [
    "x_train = x_train.reshape(-1, 28*28)\n",
    "x_train.shape, y_train.shape"
   ]
  },
  {
   "cell_type": "code",
   "execution_count": 290,
   "id": "9ff23787",
   "metadata": {},
   "outputs": [],
   "source": [
    "x_val = x_val.reshape(-1, 28*28)\n",
    "x_test = x_test.reshape(-1, 28*28)"
   ]
  },
  {
   "cell_type": "code",
   "execution_count": 291,
   "id": "8ce9eefe",
   "metadata": {},
   "outputs": [
    {
     "data": {
      "text/plain": [
       "((15000, 784), (10000, 784))"
      ]
     },
     "execution_count": 291,
     "metadata": {},
     "output_type": "execute_result"
    }
   ],
   "source": [
    "x_val.shape, x_test.shape"
   ]
  },
  {
   "cell_type": "markdown",
   "id": "78e93f43",
   "metadata": {},
   "source": [
    "## [3] 모델 생성\n",
    "---\n",
    "- (1) 모델 구성\n",
    "- (2) 모델 생성"
   ]
  },
  {
   "cell_type": "markdown",
   "id": "76f8f98e",
   "metadata": {},
   "source": [
    "### [3-1] 모델 구성\n",
    "---\n",
    "- 입력 데이터 : 784 => 28 * 28 이미지 데이터\n",
    "- 출력 데이터 : 10 => 0 ~ 9 숫자 라벨\n",
    "- 학습 방법 : 분류 - 다중분류"
   ]
  },
  {
   "cell_type": "code",
   "execution_count": 292,
   "id": "582a8105",
   "metadata": {},
   "outputs": [],
   "source": [
    "model = Sequential(name='MNIST_NNModel')"
   ]
  },
  {
   "cell_type": "code",
   "execution_count": 293,
   "id": "39ab041e",
   "metadata": {},
   "outputs": [],
   "source": [
    "# Layer 생성 => Node(퍼셉트론, 뉴런) 개수, 활성화함수, [옵]inpurt_shape param\n",
    "model.add( Dense(250, activation='relu', input_shape=(784,)))"
   ]
  },
  {
   "cell_type": "code",
   "execution_count": 294,
   "id": "ffebd48f",
   "metadata": {},
   "outputs": [],
   "source": [
    "model.add( Dropout(0.3))"
   ]
  },
  {
   "cell_type": "code",
   "execution_count": 295,
   "id": "593b3d9e",
   "metadata": {},
   "outputs": [],
   "source": [
    "model.add( Dense(100, activation='relu'))"
   ]
  },
  {
   "cell_type": "code",
   "execution_count": 296,
   "id": "8e214c5c",
   "metadata": {},
   "outputs": [],
   "source": [
    "model.add( Dropout(0.3))"
   ]
  },
  {
   "cell_type": "code",
   "execution_count": 297,
   "id": "69088e9b",
   "metadata": {},
   "outputs": [],
   "source": [
    "# 출력 Layer 생성 => Node(퍼셉트론, 뉴런) 개수, 활성화함수\n",
    "model.add( Dense(10, activation='softmax'))"
   ]
  },
  {
   "cell_type": "code",
   "execution_count": 298,
   "id": "abcd783b",
   "metadata": {},
   "outputs": [
    {
     "name": "stdout",
     "output_type": "stream",
     "text": [
      "Model: \"MNIST_NNModel\"\n",
      "_________________________________________________________________\n",
      " Layer (type)                Output Shape              Param #   \n",
      "=================================================================\n",
      " dense_30 (Dense)            (None, 250)               196250    \n",
      "                                                                 \n",
      " dropout_6 (Dropout)         (None, 250)               0         \n",
      "                                                                 \n",
      " dense_31 (Dense)            (None, 100)               25100     \n",
      "                                                                 \n",
      " dropout_7 (Dropout)         (None, 100)               0         \n",
      "                                                                 \n",
      " dense_32 (Dense)            (None, 10)                1010      \n",
      "                                                                 \n",
      "=================================================================\n",
      "Total params: 222,360\n",
      "Trainable params: 222,360\n",
      "Non-trainable params: 0\n",
      "_________________________________________________________________\n"
     ]
    }
   ],
   "source": [
    "model.summary()"
   ]
  },
  {
   "cell_type": "markdown",
   "id": "1d2dfa2b",
   "metadata": {},
   "source": [
    "### [3-2] 모델 생성\n",
    "---\n",
    "- loss 함수 => crossentropy\n",
    "    * 이진분류 : binary_crossentropy\n",
    "    * 다중분류 : sparse_categorical_crossentropy, categorical_crossentropy\n",
    "- optimizer 기법 => 'rmsprop'\n",
    "- metrics 평가항목 => 'loss'"
   ]
  },
  {
   "cell_type": "code",
   "execution_count": 299,
   "id": "f425b6fa",
   "metadata": {},
   "outputs": [],
   "source": [
    "model.compile(loss='categorical_crossentropy',\n",
    "             optimizer='adam',\n",
    "             metrics='accuracy')"
   ]
  },
  {
   "cell_type": "markdown",
   "id": "45836bc2",
   "metadata": {},
   "source": [
    "## [4] 학습"
   ]
  },
  {
   "cell_type": "code",
   "execution_count": 300,
   "id": "b6a335e0",
   "metadata": {},
   "outputs": [],
   "source": [
    "from tensorflow.keras.callbacks import EarlyStopping, ModelCheckpoint"
   ]
  },
  {
   "cell_type": "code",
   "execution_count": 301,
   "id": "726c482a",
   "metadata": {},
   "outputs": [],
   "source": [
    "stopCB = EarlyStopping(monitor='val_loss', patience=2)"
   ]
  },
  {
   "cell_type": "code",
   "execution_count": 302,
   "id": "96aeca35",
   "metadata": {},
   "outputs": [],
   "source": [
    "MODEL_PATH = 'model.{epoch:02d}-{val_loss:.2f}.h5'\n",
    "modelCB = ModelCheckpoint(filepath=MODEL_PATH)  # 데이터가 많을 때 저장 해놓으려고 씀"
   ]
  },
  {
   "cell_type": "code",
   "execution_count": 303,
   "id": "04f2e08f",
   "metadata": {},
   "outputs": [
    {
     "name": "stdout",
     "output_type": "stream",
     "text": [
      "Epoch 1/10\n",
      "1407/1407 [==============================] - 6s 4ms/step - loss: 0.3442 - accuracy: 0.8965 - val_loss: 0.1561 - val_accuracy: 0.9515\n",
      "Epoch 2/10\n",
      "1407/1407 [==============================] - 5s 4ms/step - loss: 0.1668 - accuracy: 0.9498 - val_loss: 0.1181 - val_accuracy: 0.9637\n",
      "Epoch 3/10\n",
      "1407/1407 [==============================] - 5s 4ms/step - loss: 0.1262 - accuracy: 0.9617 - val_loss: 0.1030 - val_accuracy: 0.9684\n",
      "Epoch 4/10\n",
      "1407/1407 [==============================] - 5s 4ms/step - loss: 0.1047 - accuracy: 0.9678 - val_loss: 0.1043 - val_accuracy: 0.9691\n",
      "Epoch 5/10\n",
      "1407/1407 [==============================] - 5s 4ms/step - loss: 0.0933 - accuracy: 0.9718 - val_loss: 0.0981 - val_accuracy: 0.9718\n",
      "Epoch 6/10\n",
      "1407/1407 [==============================] - 5s 4ms/step - loss: 0.0819 - accuracy: 0.9745 - val_loss: 0.0858 - val_accuracy: 0.9758\n",
      "Epoch 7/10\n",
      "1407/1407 [==============================] - 5s 4ms/step - loss: 0.0764 - accuracy: 0.9756 - val_loss: 0.0907 - val_accuracy: 0.9753\n",
      "Epoch 8/10\n",
      "1407/1407 [==============================] - 5s 4ms/step - loss: 0.0731 - accuracy: 0.9766 - val_loss: 0.0915 - val_accuracy: 0.9743\n"
     ]
    }
   ],
   "source": [
    "his = model.fit(x_train, y_train,\n",
    "               epochs=10,\n",
    "               validation_data=(x_val, y_val),\n",
    "               callbacks=[stopCB, modelCB])  # 많이 씀"
   ]
  },
  {
   "cell_type": "code",
   "execution_count": 304,
   "id": "e45b7fb2",
   "metadata": {},
   "outputs": [],
   "source": [
    "# 학습 진행 결과 시각화\n",
    "import matplotlib.pyplot as plt"
   ]
  },
  {
   "cell_type": "code",
   "execution_count": 305,
   "id": "7eb7ba84",
   "metadata": {},
   "outputs": [
    {
     "data": {
      "image/png": "[encoded data removed]",
      "text/plain": [
       "<Figure size 864x504 with 1 Axes>"
      ]
     },
     "metadata": {
      "needs_background": "light"
     },
     "output_type": "display_data"
    }
   ],
   "source": [
    "plt.figure(figsize=(12,7))\n",
    "plt.plot(his.epoch, his.history['loss'], label='Train loss', linewidth=3)\n",
    "plt.plot(his.epoch, his.history['val_loss'], label='Validation loss', linewidth=3)\n",
    "plt.xlabel('epochs', fontsize=20)\n",
    "plt.ylabel('loss', fontsize=20)\n",
    "plt.legend()\n",
    "plt.show()"
   ]
  },
  {
   "cell_type": "code",
   "execution_count": 306,
   "id": "44bc27cf",
   "metadata": {},
   "outputs": [
    {
     "data": {
      "image/png": "[encoded data removed]",
      "text/plain": [
       "<Figure size 864x504 with 1 Axes>"
      ]
     },
     "metadata": {
      "needs_background": "light"
     },
     "output_type": "display_data"
    }
   ],
   "source": [
    "plt.figure(figsize=(12,7))\n",
    "plt.plot(his.epoch, his.history['accuracy'], label='Train accuracy', linewidth=3)\n",
    "plt.plot(his.epoch, his.history['val_accuracy'], label='Validation accuracy', linewidth=3)\n",
    "plt.xlabel('epochs', fontsize=20)\n",
    "plt.ylabel('accuracy', fontsize=20)\n",
    "plt.legend()\n",
    "plt.show()"
   ]
  },
  {
   "cell_type": "markdown",
   "id": "b69dc84e",
   "metadata": {},
   "source": [
    "## [5] 평가\n",
    "---\n",
    "- evaluate() 메서드\n",
    "    * test data, target\n",
    "    * 반환값 : loss, metrics에서 지정한 성능평가 항목"
   ]
  },
  {
   "cell_type": "code",
   "execution_count": 307,
   "id": "f6a77dc4",
   "metadata": {},
   "outputs": [
    {
     "name": "stdout",
     "output_type": "stream",
     "text": [
      "313/313 [==============================] - 1s 2ms/step - loss: 0.0824 - accuracy: 0.9760\n"
     ]
    }
   ],
   "source": [
    "test_result = model.evaluate(x_test, y_test)"
   ]
  },
  {
   "cell_type": "code",
   "execution_count": 308,
   "id": "89c59612",
   "metadata": {},
   "outputs": [
    {
     "data": {
      "text/plain": [
       "((784,),\n",
       " numpy.ndarray,\n",
       " array([[0.        , 0.        , 0.        , 0.        , 0.        ,\n",
       "         0.        , 0.        , 0.        , 0.        , 0.        ,\n",
       "         0.        , 0.        , 0.        , 0.        , 0.        ,\n",
       "         0.        , 0.        , 0.        , 0.        , 0.        ,\n",
       "         0.        , 0.        , 0.        , 0.        , 0.        ,\n",
       "         0.        , 0.        , 0.        , 0.        , 0.        ,\n",
       "         0.        , 0.        , 0.        , 0.        , 0.        ,\n",
       "         0.        , 0.        , 0.        , 0.        , 0.        ,\n",
       "         0.        , 0.        , 0.        , 0.        , 0.        ,\n",
       "         0.        , 0.        , 0.        , 0.        , 0.        ,\n",
       "         0.        , 0.        , 0.        , 0.        , 0.        ,\n",
       "         0.        , 0.        , 0.        , 0.        , 0.        ,\n",
       "         0.        , 0.        , 0.        , 0.        , 0.        ,\n",
       "         0.        , 0.        , 0.        , 0.        , 0.        ,\n",
       "         0.        , 0.        , 0.        , 0.        , 0.        ,\n",
       "         0.        , 0.        , 0.        , 0.        , 0.        ,\n",
       "         0.        , 0.        , 0.        , 0.        , 0.        ,\n",
       "         0.        , 0.        , 0.        , 0.        , 0.        ,\n",
       "         0.        , 0.        , 0.        , 0.        , 0.        ,\n",
       "         0.        , 0.        , 0.        , 0.        , 0.        ,\n",
       "         0.        , 0.        , 0.        , 0.        , 0.        ,\n",
       "         0.        , 0.        , 0.        , 0.        , 0.        ,\n",
       "         0.        , 0.        , 0.        , 0.        , 0.        ,\n",
       "         0.        , 0.        , 0.        , 0.        , 0.        ,\n",
       "         0.        , 0.        , 0.        , 0.        , 0.        ,\n",
       "         0.        , 0.        , 0.        , 0.        , 0.        ,\n",
       "         0.        , 0.        , 0.        , 0.        , 0.        ,\n",
       "         0.        , 0.        , 0.        , 0.        , 0.        ,\n",
       "         0.        , 0.        , 0.        , 0.        , 0.        ,\n",
       "         0.        , 0.        , 0.        , 0.        , 0.        ,\n",
       "         0.        , 0.        , 0.        , 0.        , 0.        ,\n",
       "         0.        , 0.        , 0.        , 0.        , 0.        ,\n",
       "         0.        , 0.        , 0.        , 0.        , 0.        ,\n",
       "         0.        , 0.        , 0.        , 0.        , 0.        ,\n",
       "         0.        , 0.        , 0.        , 0.        , 0.        ,\n",
       "         0.        , 0.        , 0.        , 0.        , 0.        ,\n",
       "         0.        , 0.        , 0.        , 0.        , 0.        ,\n",
       "         0.        , 0.        , 0.        , 0.        , 0.        ,\n",
       "         0.        , 0.        , 0.        , 0.        , 0.        ,\n",
       "         0.        , 0.        , 0.        , 0.        , 0.        ,\n",
       "         0.        , 0.        , 0.32941176, 0.7254902 , 0.62352941,\n",
       "         0.59215686, 0.23529412, 0.14117647, 0.        , 0.        ,\n",
       "         0.        , 0.        , 0.        , 0.        , 0.        ,\n",
       "         0.        , 0.        , 0.        , 0.        , 0.        ,\n",
       "         0.        , 0.        , 0.        , 0.        , 0.        ,\n",
       "         0.        , 0.        , 0.        , 0.        , 0.        ,\n",
       "         0.87058824, 0.99607843, 0.99607843, 0.99607843, 0.99607843,\n",
       "         0.94509804, 0.77647059, 0.77647059, 0.77647059, 0.77647059,\n",
       "         0.77647059, 0.77647059, 0.77647059, 0.77647059, 0.66666667,\n",
       "         0.20392157, 0.        , 0.        , 0.        , 0.        ,\n",
       "         0.        , 0.        , 0.        , 0.        , 0.        ,\n",
       "         0.        , 0.        , 0.        , 0.2627451 , 0.44705882,\n",
       "         0.28235294, 0.44705882, 0.63921569, 0.89019608, 0.99607843,\n",
       "         0.88235294, 0.99607843, 0.99607843, 0.99607843, 0.98039216,\n",
       "         0.89803922, 0.99607843, 0.99607843, 0.54901961, 0.        ,\n",
       "         0.        , 0.        , 0.        , 0.        , 0.        ,\n",
       "         0.        , 0.        , 0.        , 0.        , 0.        ,\n",
       "         0.        , 0.        , 0.        , 0.        , 0.        ,\n",
       "         0.        , 0.06666667, 0.25882353, 0.05490196, 0.2627451 ,\n",
       "         0.2627451 , 0.2627451 , 0.23137255, 0.08235294, 0.9254902 ,\n",
       "         0.99607843, 0.41568627, 0.        , 0.        , 0.        ,\n",
       "         0.        , 0.        , 0.        , 0.        , 0.        ,\n",
       "         0.        , 0.        , 0.        , 0.        , 0.        ,\n",
       "         0.        , 0.        , 0.        , 0.        , 0.        ,\n",
       "         0.        , 0.        , 0.        , 0.        , 0.        ,\n",
       "         0.        , 0.3254902 , 0.99215686, 0.81960784, 0.07058824,\n",
       "         0.        , 0.        , 0.        , 0.        , 0.        ,\n",
       "         0.        , 0.        , 0.        , 0.        , 0.        ,\n",
       "         0.        , 0.        , 0.        , 0.        , 0.        ,\n",
       "         0.        , 0.        , 0.        , 0.        , 0.        ,\n",
       "         0.        , 0.        , 0.        , 0.08627451, 0.91372549,\n",
       "         1.        , 0.3254902 , 0.        , 0.        , 0.        ,\n",
       "         0.        , 0.        , 0.        , 0.        , 0.        ,\n",
       "         0.        , 0.        , 0.        , 0.        , 0.        ,\n",
       "         0.        , 0.        , 0.        , 0.        , 0.        ,\n",
       "         0.        , 0.        , 0.        , 0.        , 0.        ,\n",
       "         0.        , 0.50588235, 0.99607843, 0.93333333, 0.17254902,\n",
       "         0.        , 0.        , 0.        , 0.        , 0.        ,\n",
       "         0.        , 0.        , 0.        , 0.        , 0.        ,\n",
       "         0.        , 0.        , 0.        , 0.        , 0.        ,\n",
       "         0.        , 0.        , 0.        , 0.        , 0.        ,\n",
       "         0.        , 0.        , 0.        , 0.23137255, 0.97647059,\n",
       "         0.99607843, 0.24313725, 0.        , 0.        , 0.        ,\n",
       "         0.        , 0.        , 0.        , 0.        , 0.        ,\n",
       "         0.        , 0.        , 0.        , 0.        , 0.        ,\n",
       "         0.        , 0.        , 0.        , 0.        , 0.        ,\n",
       "         0.        , 0.        , 0.        , 0.        , 0.        ,\n",
       "         0.        , 0.52156863, 0.99607843, 0.73333333, 0.01960784,\n",
       "         0.        , 0.        , 0.        , 0.        , 0.        ,\n",
       "         0.        , 0.        , 0.        , 0.        , 0.        ,\n",
       "         0.        , 0.        , 0.        , 0.        , 0.        ,\n",
       "         0.        , 0.        , 0.        , 0.        , 0.        ,\n",
       "         0.        , 0.        , 0.        , 0.03529412, 0.80392157,\n",
       "         0.97254902, 0.22745098, 0.        , 0.        , 0.        ,\n",
       "         0.        , 0.        , 0.        , 0.        , 0.        ,\n",
       "         0.        , 0.        , 0.        , 0.        , 0.        ,\n",
       "         0.        , 0.        , 0.        , 0.        , 0.        ,\n",
       "         0.        , 0.        , 0.        , 0.        , 0.        ,\n",
       "         0.        , 0.49411765, 0.99607843, 0.71372549, 0.        ,\n",
       "         0.        , 0.        , 0.        , 0.        , 0.        ,\n",
       "         0.        , 0.        , 0.        , 0.        , 0.        ,\n",
       "         0.        , 0.        , 0.        , 0.        , 0.        ,\n",
       "         0.        , 0.        , 0.        , 0.        , 0.        ,\n",
       "         0.        , 0.        , 0.        , 0.29411765, 0.98431373,\n",
       "         0.94117647, 0.22352941, 0.        , 0.        , 0.        ,\n",
       "         0.        , 0.        , 0.        , 0.        , 0.        ,\n",
       "         0.        , 0.        , 0.        , 0.        , 0.        ,\n",
       "         0.        , 0.        , 0.        , 0.        , 0.        ,\n",
       "         0.        , 0.        , 0.        , 0.        , 0.        ,\n",
       "         0.0745098 , 0.86666667, 0.99607843, 0.65098039, 0.        ,\n",
       "         0.        , 0.        , 0.        , 0.        , 0.        ,\n",
       "         0.        , 0.        , 0.        , 0.        , 0.        ,\n",
       "         0.        , 0.        , 0.        , 0.        , 0.        ,\n",
       "         0.        , 0.        , 0.        , 0.        , 0.        ,\n",
       "         0.        , 0.        , 0.01176471, 0.79607843, 0.99607843,\n",
       "         0.85882353, 0.1372549 , 0.        , 0.        , 0.        ,\n",
       "         0.        , 0.        , 0.        , 0.        , 0.        ,\n",
       "         0.        , 0.        , 0.        , 0.        , 0.        ,\n",
       "         0.        , 0.        , 0.        , 0.        , 0.        ,\n",
       "         0.        , 0.        , 0.        , 0.        , 0.        ,\n",
       "         0.14901961, 0.99607843, 0.99607843, 0.30196078, 0.        ,\n",
       "         0.        , 0.        , 0.        , 0.        , 0.        ,\n",
       "         0.        , 0.        , 0.        , 0.        , 0.        ,\n",
       "         0.        , 0.        , 0.        , 0.        , 0.        ,\n",
       "         0.        , 0.        , 0.        , 0.        , 0.        ,\n",
       "         0.        , 0.        , 0.12156863, 0.87843137, 0.99607843,\n",
       "         0.45098039, 0.00392157, 0.        , 0.        , 0.        ,\n",
       "         0.        , 0.        , 0.        , 0.        , 0.        ,\n",
       "         0.        , 0.        , 0.        , 0.        , 0.        ,\n",
       "         0.        , 0.        , 0.        , 0.        , 0.        ,\n",
       "         0.        , 0.        , 0.        , 0.        , 0.        ,\n",
       "         0.52156863, 0.99607843, 0.99607843, 0.20392157, 0.        ,\n",
       "         0.        , 0.        , 0.        , 0.        , 0.        ,\n",
       "         0.        , 0.        , 0.        , 0.        , 0.        ,\n",
       "         0.        , 0.        , 0.        , 0.        , 0.        ,\n",
       "         0.        , 0.        , 0.        , 0.        , 0.        ,\n",
       "         0.        , 0.        , 0.23921569, 0.94901961, 0.99607843,\n",
       "         0.99607843, 0.20392157, 0.        , 0.        , 0.        ,\n",
       "         0.        , 0.        , 0.        , 0.        , 0.        ,\n",
       "         0.        , 0.        , 0.        , 0.        , 0.        ,\n",
       "         0.        , 0.        , 0.        , 0.        , 0.        ,\n",
       "         0.        , 0.        , 0.        , 0.        , 0.        ,\n",
       "         0.4745098 , 0.99607843, 0.99607843, 0.85882353, 0.15686275,\n",
       "         0.        , 0.        , 0.        , 0.        , 0.        ,\n",
       "         0.        , 0.        , 0.        , 0.        , 0.        ,\n",
       "         0.        , 0.        , 0.        , 0.        , 0.        ,\n",
       "         0.        , 0.        , 0.        , 0.        , 0.        ,\n",
       "         0.        , 0.        , 0.        , 0.4745098 , 0.99607843,\n",
       "         0.81176471, 0.07058824, 0.        , 0.        , 0.        ,\n",
       "         0.        , 0.        , 0.        , 0.        , 0.        ,\n",
       "         0.        , 0.        , 0.        , 0.        , 0.        ,\n",
       "         0.        , 0.        , 0.        , 0.        , 0.        ,\n",
       "         0.        , 0.        , 0.        , 0.        , 0.        ,\n",
       "         0.        , 0.        , 0.        , 0.        , 0.        ,\n",
       "         0.        , 0.        , 0.        , 0.        , 0.        ,\n",
       "         0.        , 0.        , 0.        , 0.        , 0.        ,\n",
       "         0.        , 0.        , 0.        , 0.        ]]))"
      ]
     },
     "execution_count": 308,
     "metadata": {},
     "output_type": "execute_result"
    }
   ],
   "source": [
    "x_test[0].shape, type(x_test[0]), x_test[0].reshape(-1,784)"
   ]
  },
  {
   "cell_type": "markdown",
   "id": "6e0d27f4",
   "metadata": {},
   "source": [
    "## [6] 테스트/예측"
   ]
  },
  {
   "cell_type": "code",
   "execution_count": 309,
   "id": "bedecd85",
   "metadata": {},
   "outputs": [
    {
     "name": "stdout",
     "output_type": "stream",
     "text": [
      "1/1 [==============================] - 0s 62ms/step\n"
     ]
    }
   ],
   "source": [
    "pre_label = model.predict(x_test[0].reshape(-1,784))"
   ]
  },
  {
   "cell_type": "code",
   "execution_count": 310,
   "id": "be3edb8d",
   "metadata": {},
   "outputs": [
    {
     "data": {
      "text/plain": [
       "array([[0., 0., 0., 0., 0., 0., 0., 1., 0., 0.]], dtype=float32)"
      ]
     },
     "execution_count": 310,
     "metadata": {},
     "output_type": "execute_result"
    }
   ],
   "source": [
    "import numpy as np\n",
    "np.round(pre_label, 2)  # 예측"
   ]
  },
  {
   "cell_type": "code",
   "execution_count": 311,
   "id": "57b7d0e2",
   "metadata": {},
   "outputs": [
    {
     "data": {
      "text/plain": [
       "array([0., 0., 0., 0., 0., 0., 0., 1., 0., 0.])"
      ]
     },
     "execution_count": 311,
     "metadata": {},
     "output_type": "execute_result"
    }
   ],
   "source": [
    "y_test[0]  # 실제"
   ]
  },
  {
   "cell_type": "code",
   "execution_count": null,
   "id": "e44c92e0",
   "metadata": {},
   "outputs": [],
   "source": []
  }
 ],
 "metadata": {
  "kernelspec": {
   "display_name": "Python 3 (ipykernel)",
   "language": "python",
   "name": "python3"
  },
  "language_info": {
   "codemirror_mode": {
    "name": "ipython",
    "version": 3
   },
   "file_extension": ".py",
   "mimetype": "text/x-python",
   "name": "python",
   "nbconvert_exporter": "python",
   "pygments_lexer": "ipython3",
   "version": "3.9.12"
  }
 },
 "nbformat": 4,
 "nbformat_minor": 5
}
