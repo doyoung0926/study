{
 "cells": [
  {
   "cell_type": "markdown",
   "id": "31fbea0d",
   "metadata": {},
   "source": [
    "# Python 반복문"
   ]
  },
  {
   "cell_type": "code",
   "execution_count": 1,
   "id": "718d6793",
   "metadata": {},
   "outputs": [],
   "source": [
    "# 반복문 - for\n",
    "# comperhesion\n",
    "# 반복 표현식을 포함하여 변형된 다른 Sequence 생성\n",
    "# list_object=[표현식 for 요소 in 반복가능 객체 if 조건]\n",
    "#            [표현식 if 조건 else 표현식 for 요소 in 반복가능 객체]\n",
    "\n",
    "# set_object={표현식 for 요소 in 표현가능 객체 if 조건}\n",
    "#            {표현식 if 조건 else 표현식 for 요소 in 반복가능 객체}\n",
    "\n",
    "# dict_object={key:value for 요소 in 반복가능 객체 if 조건}\n",
    "#             {key:value if 조건 else 표현식 for 요소 in 반복가능 객체}"
   ]
  },
  {
   "cell_type": "code",
   "execution_count": 6,
   "id": "6d063131",
   "metadata": {},
   "outputs": [
    {
     "data": {
      "text/plain": [
       "[1, 6, 3]"
      ]
     },
     "execution_count": 6,
     "metadata": {},
     "output_type": "execute_result"
    }
   ],
   "source": [
    "# 반복문 - for\n",
    "aa=[1,2,3]\n",
    "result=[]\n",
    "for num in aa:\n",
    "    result.append(num*3)\n",
    "    \n",
    "# List Comprehension\n",
    "result=[num*3 for num in aa]\n",
    "result=[num*3 for num in aa if num==2]\n",
    "result=[num*3 if num==2 else num for num in aa]\n",
    "result"
   ]
  },
  {
   "cell_type": "code",
   "execution_count": 7,
   "id": "4d643b1e",
   "metadata": {},
   "outputs": [],
   "source": [
    "# 반복문 - enumerate 객체\n",
    "# 시퀀스 데이터의 요소 꺼낼 때 인덱스 부여 반환 객체\n",
    "# 반환 : enumerate 객체\n",
    "# 문법 : range(data) : 인덱스 0부터 데이터 구성\n",
    "#       range(data, start=number) : 인덱스 number부터 데이터 구성"
   ]
  },
  {
   "cell_type": "code",
   "execution_count": 8,
   "id": "a74e26e4",
   "metadata": {},
   "outputs": [],
   "source": [
    "# 반복문 - iterable 객체\n",
    "# 반복이 가능한 객체 의미\n",
    "# 타입: 순서형 및 컬렉션 데이터 타입\n",
    "# str, list, tuple, dict, set, bytes, range\n",
    "# 사용: for ~ in 반복문\n",
    "# 특징: iterator 객체 생성 메서드 __iter__() 존재"
   ]
  },
  {
   "cell_type": "code",
   "execution_count": 9,
   "id": "c02ad3d2",
   "metadata": {},
   "outputs": [],
   "source": [
    "# 반복문 - iterable 객체\n",
    "# 데이터를 차례대로 하나씩 꺼낼 수 있는 객체\n",
    "# iterable한 객체로 생성된 객체\n",
    "# 반복자 패턴이라고 함\n",
    "# 한 번 데이터 사용 후 폐기\n",
    "\n",
    "# 구성\n",
    "# 반복을 위한 첫 번째 요소 가리키는 메서드\n",
    "# 다음 요소 가리키는 메서드\n",
    "# 마지막 요소 가리키는 메서드\n",
    "# 현재 요소 반환하는 메서드"
   ]
  },
  {
   "cell_type": "code",
   "execution_count": 17,
   "id": "ce931e87",
   "metadata": {},
   "outputs": [
    {
     "name": "stdout",
     "output_type": "stream",
     "text": [
      "<class 'list_iterator'> <list_iterator object at 0x0000013C8F6640A0>\n",
      "1\n",
      "2\n",
      "3\n",
      "End of Iterator\n",
      "END\n"
     ]
    }
   ],
   "source": [
    "# 반복문 - iterator 객체\n",
    "# 생성 메서드 -> iter(iterable)\n",
    "# 데이터 꺼내는 메서드 -> next(iterator)\n",
    "numList=[1,2,3]\n",
    "numListiter=iter(numList)\n",
    "\n",
    "print(type(numListiter), numListiter)\n",
    "\n",
    "try:\n",
    "    # 내장함수 사용\n",
    "    print(next(numListiter))\n",
    "    print(next(numListiter))\n",
    "    print(next(numListiter))\n",
    "    print(next(numListiter))\n",
    "except StopIteration:\n",
    "    print('End of Iterator')\n",
    "finally:\n",
    "    print('END')"
   ]
  },
  {
   "cell_type": "code",
   "execution_count": 23,
   "id": "5effb978",
   "metadata": {},
   "outputs": [
    {
     "name": "stdout",
     "output_type": "stream",
     "text": [
      "<class 'list_iterator'> <list_iterator object at 0x0000013C8ED12BE0>\n",
      "1\n",
      "2\n",
      "3\n",
      "End of Iterator\n",
      "END\n"
     ]
    }
   ],
   "source": [
    "# 반복문 - iterator 객체\n",
    "# 생성 메서드 -> seqobj.__iter__()\n",
    "# 데이터 꺼내는 메서드 -> seqobj.__next__(\n",
    "numList=[1,2,3]\n",
    "numListiter=iter(numList)\n",
    "\n",
    "print(type(numListiter), numListiter)\n",
    "\n",
    "try:\n",
    "    # 메서드 사용\n",
    "    print(numListiter.__next__())\n",
    "    print(numListiter.__next__())\n",
    "    print(numListiter.__next__())\n",
    "    print(numListiter.__next__())\n",
    "except StopIteration:\n",
    "    print('End of Iterator')\n",
    "finally:\n",
    "    print('END')"
   ]
  },
  {
   "cell_type": "code",
   "execution_count": 24,
   "id": "ed9711f9",
   "metadata": {},
   "outputs": [],
   "source": [
    "# 반복문 - while\n",
    "# 반복횟수가 명확하지 않는 경우 사용\n",
    "# 초기값\n",
    "# while 조건식:\n",
    "#     실행문\n",
    "#     초기값 갱신   # 반복 중단 위해 필수!"
   ]
  },
  {
   "cell_type": "code",
   "execution_count": 25,
   "id": "df8439ef",
   "metadata": {},
   "outputs": [
    {
     "name": "stdout",
     "output_type": "stream",
     "text": [
      "num is 20\n",
      "num is 19\n",
      "num is 18\n",
      "num is 17\n",
      "num is 16\n",
      "num is 15\n",
      "num is 14\n",
      "num is 13\n",
      "num is 12\n",
      "num is 11\n",
      "num is 10\n",
      "num is 9\n",
      "num is 8\n",
      "num is 7\n",
      "num is 6\n",
      "num is 5\n",
      "num is 4\n",
      "num is 3\n",
      "num is 2\n",
      "num is 1\n"
     ]
    }
   ],
   "source": [
    "# 반복문 - while\n",
    "num=20;  # 초기값\n",
    "\n",
    "while num > 0:\n",
    "    print(f'num is {num}')  # 반복\n",
    "    num=num-1  # 초기값 갱신"
   ]
  },
  {
   "cell_type": "code",
   "execution_count": 26,
   "id": "0eb731c4",
   "metadata": {},
   "outputs": [
    {
     "name": "stdout",
     "output_type": "stream",
     "text": [
      "num is 0\n",
      "num is 5\n",
      "num is 10\n",
      "num is 15\n",
      "num is 20\n",
      "num is 25\n",
      "num is 30\n",
      "num is 35\n",
      "num is 40\n",
      "num is 45\n"
     ]
    }
   ],
   "source": [
    "sum = 0  # 초기값\n",
    "\n",
    "while sum < 50:\n",
    "    print(f'num is {sum}')\n",
    "    sum=sum+5  # 초기값 갱신"
   ]
  },
  {
   "cell_type": "code",
   "execution_count": 27,
   "id": "df1f513a",
   "metadata": {},
   "outputs": [],
   "source": [
    "# 반복 중단\n",
    "# break 문\n",
    "# for와 while에서 반복 중단을 위해 사용"
   ]
  },
  {
   "cell_type": "code",
   "execution_count": 28,
   "id": "ab508f5b",
   "metadata": {},
   "outputs": [
    {
     "name": "stdout",
     "output_type": "stream",
     "text": [
      "Item:0\n",
      "Item:1\n",
      "Item:2\n",
      "Item:3\n",
      "Item:4\n",
      "Item:5\n",
      "Item:6\n",
      "Item:7\n",
      "Item:8\n",
      "Item:9\n",
      "Item:10\n",
      "Item:11\n",
      "Item:12\n",
      "Item:13\n",
      "Item:14\n",
      "Item:15\n",
      "Item:16\n",
      "Item:17\n"
     ]
    }
   ],
   "source": [
    "# 반복 중단\n",
    "# break 문\n",
    "for item in range(50):\n",
    "    if item > 17:\n",
    "        break\n",
    "    print(f'Item:{item}')"
   ]
  },
  {
   "cell_type": "code",
   "execution_count": 32,
   "id": "005c7d03",
   "metadata": {},
   "outputs": [
    {
     "name": "stdout",
     "output_type": "stream",
     "text": [
      "0 0\n",
      "===\n",
      "END WHILE\n"
     ]
    }
   ],
   "source": [
    "num=sum=0\n",
    "print(num, sum)\n",
    "while True:\n",
    "    if sum >= 33:\n",
    "        print('===')\n",
    "        break\n",
    "    sum=sum+num\n",
    "    num=num+1\n",
    "print('END WHILE')"
   ]
  },
  {
   "cell_type": "code",
   "execution_count": 33,
   "id": "dbac5837",
   "metadata": {},
   "outputs": [],
   "source": [
    "# 반복 스킵\n",
    "# continue 문\n",
    "# 반복문에서 일부 코드\n",
    "# 실행하지 않고 \n",
    "# 다음으로 진행"
   ]
  },
  {
   "cell_type": "code",
   "execution_count": 35,
   "id": "2a6261e4",
   "metadata": {},
   "outputs": [
    {
     "name": "stdout",
     "output_type": "stream",
     "text": [
      "value : 1\n",
      "value : 3\n",
      "value : 5\n",
      "value : 7\n",
      "value : 9\n",
      "value : 11\n",
      "value : 13\n",
      "value : 15\n",
      "value : 17\n",
      "value : 19\n",
      "value : 21\n",
      "value : 23\n",
      "value : 25\n",
      "value : 27\n",
      "value : 29\n",
      "value : 31\n",
      "value : 33\n",
      "value : 35\n",
      "value : 37\n",
      "value : 39\n",
      "value : 41\n",
      "value : 43\n",
      "value : 45\n",
      "value : 47\n",
      "value : 49\n"
     ]
    }
   ],
   "source": [
    "# 반복 스킵\n",
    "# continue 문\n",
    "for value in range(50):\n",
    "    if value%2 == 0:\n",
    "        continue\n",
    "    print(f'value : {value}')"
   ]
  },
  {
   "cell_type": "code",
   "execution_count": 36,
   "id": "2cdab0f4",
   "metadata": {},
   "outputs": [
    {
     "name": "stdout",
     "output_type": "stream",
     "text": [
      "1\n",
      "3\n",
      "5\n",
      "7\n",
      "9\n"
     ]
    }
   ],
   "source": [
    "# 조건 무시\n",
    "# pass 문\n",
    "i = 0\n",
    "while i < 10:\n",
    "    i += 1\n",
    "    \n",
    "    if i % 2 == 0:\n",
    "        continue\n",
    "        \n",
    "    print(i)"
   ]
  },
  {
   "cell_type": "code",
   "execution_count": 37,
   "id": "4553af61",
   "metadata": {},
   "outputs": [
    {
     "name": "stdout",
     "output_type": "stream",
     "text": [
      "1\n",
      "2\n",
      "3\n",
      "4\n",
      "5\n",
      "6\n",
      "7\n",
      "8\n",
      "9\n",
      "10\n"
     ]
    }
   ],
   "source": [
    "i = 0\n",
    "while i < 10:\n",
    "    i += 1\n",
    "    \n",
    "    if i % 2 == 0:\n",
    "        pass\n",
    "    \n",
    "    print(i)"
   ]
  },
  {
   "cell_type": "markdown",
   "id": "3a72a0ad",
   "metadata": {},
   "source": [
    "# PYTHON 함수 "
   ]
  },
  {
   "cell_type": "code",
   "execution_count": 38,
   "id": "90f17e23",
   "metadata": {},
   "outputs": [],
   "source": [
    "# 함수(Function)란?\n",
    "# 반복되는 기능 코드를 하나로 묶어 이름을 붙인 것을 함수라 함\n",
    "# 해당 기능 필요 시 함수 이름을 불러서 사용 가능 <- 함수 호출\n",
    "\n",
    "# 함수 호출이 되지 않으면\n",
    "# 함수 코드는 실행(동작)하지 않음"
   ]
  },
  {
   "cell_type": "code",
   "execution_count": 39,
   "id": "4618c829",
   "metadata": {},
   "outputs": [],
   "source": [
    "# 함수(Function) 선어\n",
    "# def 함수명(매개변수1, 매개변수2, ..., 매개변수N):\n",
    "#     실행문\n",
    "#     실행문\n",
    "#     return 반환값\n",
    "\n",
    "# 함수명 => 코드의 기능을 알 수 있도록 작성\n",
    "# 매개변수 => 기능 구현에 필요한 재료로 파라미터라 함\n",
    "# 반환값 => 기능 구현 후 결과물, 존재하지 않을 수도 있음"
   ]
  },
  {
   "cell_type": "code",
   "execution_count": 41,
   "id": "de0287f2",
   "metadata": {},
   "outputs": [
    {
     "name": "stdout",
     "output_type": "stream",
     "text": [
      "add(10, 20) = 30\n"
     ]
    }
   ],
   "source": [
    "# 함수(Function) 사용 => 함수 호출\n",
    "# 함수명(매개변수1, 매개변수2)\n",
    "# 결과 저장 변수 = 함수명(매개변수1, 매개변수2)\n",
    "\n",
    "# 함수 선언\n",
    "def add(a, b):\n",
    "    value=a+b\n",
    "    return value\n",
    "\n",
    "# 함수 호출(사용)\n",
    "result=add(10, 20)\n",
    "print('add(10, 20) =', result)"
   ]
  },
  {
   "cell_type": "code",
   "execution_count": 42,
   "id": "1fb79ad2",
   "metadata": {},
   "outputs": [],
   "source": [
    "# return 반환\n",
    "# 함수 종료 및 호출한 곳으로 돌아감\n",
    "# 어떤 종류의 객체도 반환 가능\n",
    "# return 사용하지 않거나 return만 적어도 함수 종료\n",
    "# 함수 중간에 빠져나가기\n",
    "# 여러 개 값 반환 가능"
   ]
  },
  {
   "cell_type": "code",
   "execution_count": 46,
   "id": "6e4e772c",
   "metadata": {},
   "outputs": [
    {
     "name": "stdout",
     "output_type": "stream",
     "text": [
      "50\n",
      "hello Tom\n"
     ]
    }
   ],
   "source": [
    "# 함수 형태\n",
    "# 인자와 반환값 존재하는 경우\n",
    "def sum(x, y):\n",
    "    return x + y;\n",
    "print(sum(30,20))\n",
    "print('hello','Tom')"
   ]
  },
  {
   "cell_type": "code",
   "execution_count": 49,
   "id": "c74bf400",
   "metadata": {},
   "outputs": [
    {
     "name": "stdout",
     "output_type": "stream",
     "text": [
      "서울 특별시 종로구 1번지\n",
      "파이썬 빌딩 7층\n",
      "홍길동\n"
     ]
    }
   ],
   "source": [
    "# 함수 형태\n",
    "# 인자만 존재하는 경우\n",
    "def print_address(name):\n",
    "    print('서울 특별시 종로구 1번지')\n",
    "    print('파이썬 빌딩 7층')\n",
    "    print(name)\n",
    "    \n",
    "print_address('홍길동')"
   ]
  },
  {
   "cell_type": "code",
   "execution_count": 50,
   "id": "2304e756",
   "metadata": {},
   "outputs": [
    {
     "name": "stdout",
     "output_type": "stream",
     "text": [
      "서울특별시 종로구 1번지\n",
      "파이썬 빌딩 7층\n",
      "홍길동\n"
     ]
    }
   ],
   "source": [
    "# 함수 형태\n",
    "# 인자, 반환값 없는 경우\n",
    "def print_address():\n",
    "    print('서울특별시 종로구 1번지')\n",
    "    print('파이썬 빌딩 7층')\n",
    "    print('홍길동')\n",
    "    \n",
    "print_address()  # 함수 호출"
   ]
  },
  {
   "cell_type": "code",
   "execution_count": 54,
   "id": "9a2f4b85",
   "metadata": {},
   "outputs": [
    {
     "name": "stdout",
     "output_type": "stream",
     "text": [
      "78.5\n"
     ]
    }
   ],
   "source": [
    "# 함수 형태\n",
    "# 인자, 반환값 모두 존재하는 경우\n",
    "def calculate_area(radius):\n",
    "    area = 3.14 * radius**2\n",
    "    return area\n",
    "\n",
    "print(calculate_area(5.0))"
   ]
  },
  {
   "cell_type": "code",
   "execution_count": 55,
   "id": "e78e3c33",
   "metadata": {},
   "outputs": [],
   "source": [
    "# 함수 형태\n",
    "# 인자 개수 미정인 경우\n",
    "# def 함수명(*매개변수):   # 가변인자\n",
    "#     실행문\n",
    "#     실행문\n",
    "#     return 반환값"
   ]
  },
  {
   "cell_type": "code",
   "execution_count": 58,
   "id": "e134c0c6",
   "metadata": {},
   "outputs": [
    {
     "name": "stdout",
     "output_type": "stream",
     "text": [
      "result 15\n",
      "result 495\n"
     ]
    }
   ],
   "source": [
    "# 함수 형태\n",
    "# 인자 개수 미정인 경우\n",
    "def getSum(*args):\n",
    "    sum=0            # 가변인자 마지막에 위치\n",
    "    for i in args:\n",
    "        sum+=i\n",
    "    return sum\n",
    "\n",
    "result=getSum(1,2,3,4,5)\n",
    "print('result %d' %result)\n",
    "\n",
    "result=getSum(11,22,33,44,55,66,77,88,99)\n",
    "print('result %d' %result)"
   ]
  },
  {
   "cell_type": "code",
   "execution_count": 61,
   "id": "9ae18d36",
   "metadata": {},
   "outputs": [
    {
     "name": "stdout",
     "output_type": "stream",
     "text": [
      "get_sum_mul() result:  (12, 20)\n",
      "get_sum_mul() result - sum 12, mul 20\n"
     ]
    }
   ],
   "source": [
    "# 함수 형태\n",
    "# 반환 값이 여러 개 인 경우\n",
    "def get_sum_mul(a, b):\n",
    "    return a+b, a*b    # 튜플 타입 리언 언팩킹\n",
    "\n",
    "result=get_sum_mul(2, 10)\n",
    "print('get_sum_mul() result: ', result)\n",
    "\n",
    "sum, mul = get_sum_mul(2, 10)\n",
    "print('get_sum_mul() result - sum %d, mul %d' %(sum, mul))"
   ]
  },
  {
   "cell_type": "code",
   "execution_count": 62,
   "id": "d9c118f6",
   "metadata": {},
   "outputs": [],
   "source": [
    "# 함수 형태\n",
    "# 키워드 파라미터 형태\n",
    "# def 함수명(**매개변수):    # key=value 형태 매개변수\n",
    "#     실행문\n",
    "#     실행문\n",
    "#     return 반환값   # 딕셔너리 형태 반환"
   ]
  },
  {
   "cell_type": "code",
   "execution_count": 63,
   "id": "daecfe3e",
   "metadata": {},
   "outputs": [
    {
     "name": "stdout",
     "output_type": "stream",
     "text": [
      "{'name': 'kim', 'age': 30, 'gender': 'F'}\n"
     ]
    }
   ],
   "source": [
    "# 함수 형태\n",
    "# 키워드 파라미터 형태\n",
    "def print_kwargs(**kwargs):\n",
    "    print(kwargs)\n",
    "    \n",
    "# 함수 호출\n",
    "print_kwargs(name='kim', age=30, gender='F')"
   ]
  },
  {
   "cell_type": "code",
   "execution_count": 64,
   "id": "2351e776",
   "metadata": {},
   "outputs": [],
   "source": [
    "# 함수 형태\n",
    "# 매개변수 초기값 설정\n",
    "# def 함수명(매개변수1, 매개변수2, 매개변수3=초기값):   # 맨 마지막 위치\n",
    "#     실행문\n",
    "#     실행문\n",
    "#     return 반환값"
   ]
  },
  {
   "cell_type": "code",
   "execution_count": 66,
   "id": "cae17ee5",
   "metadata": {},
   "outputs": [
    {
     "name": "stdout",
     "output_type": "stream",
     "text": [
      "Name is Kim\n",
      "Old is 10\n",
      "Man\n",
      "Name is Tom Lee\n",
      "Old is 15\n",
      "Woman\n"
     ]
    }
   ],
   "source": [
    "# 함수 형태\n",
    "# 매개변수 초기값 설정\n",
    "def set_info(name, old, man=True):\n",
    "    print('Name is %s' %name)\n",
    "    print('Old is %d' %old)\n",
    "    \n",
    "    if man:\n",
    "        print('Man')\n",
    "    else:\n",
    "        print('Woman')\n",
    "        \n",
    "    return\n",
    "\n",
    "set_info('Kim', 10)\n",
    "set_info('Tom Lee', 15, False)"
   ]
  },
  {
   "cell_type": "code",
   "execution_count": 67,
   "id": "1b745ca1",
   "metadata": {},
   "outputs": [],
   "source": [
    "# 변수에 함수 담기\n",
    "# 메모리에 객체 생성\n",
    "# 레퍼런스 생성"
   ]
  },
  {
   "cell_type": "code",
   "execution_count": 71,
   "id": "dbcb9c21",
   "metadata": {},
   "outputs": [
    {
     "name": "stdout",
     "output_type": "stream",
     "text": [
      "\n",
      "type(p)= <class 'function'>\n",
      "123\n",
      "Good Happy\n"
     ]
    }
   ],
   "source": [
    "# 변수에 함수 담기\n",
    "# 함수도 class 'function' 타입으로 변수에 대입 가능\n",
    "def something(a):\n",
    "    print(a)\n",
    "    \n",
    "p=something\n",
    "print('\\ntype(p)=', type(p))\n",
    "\n",
    "p(123)\n",
    "p('Good Happy')"
   ]
  },
  {
   "cell_type": "code",
   "execution_count": 73,
   "id": "5646c34d",
   "metadata": {},
   "outputs": [
    {
     "name": "stdout",
     "output_type": "stream",
     "text": [
      "\n",
      "type(first)= <class 'list'>\n",
      "first[0](1,2)= 2\n",
      "first[0](1,2)= -1\n"
     ]
    }
   ],
   "source": [
    "# 변수에 함수 담기\n",
    "def plus(a, b):\n",
    "    return a*b\n",
    "    \n",
    "def minus(a, b):\n",
    "    return a-b\n",
    "\n",
    "first=[plus, minus]\n",
    "print('\\ntype(first)=', type(first))\n",
    "\n",
    "print('first[0](1,2)=', first[0](1,2))\n",
    "print('first[0](1,2)=', first[1](1,2))"
   ]
  },
  {
   "cell_type": "code",
   "execution_count": 74,
   "id": "7b1ece29",
   "metadata": {},
   "outputs": [],
   "source": [
    "# 함수와 변수 관계\n",
    "# 변수 위치에 따른 분류\n",
    "# 지역변수 (Local Variable)\n",
    "# 함수 안에 존재하는 변수\n",
    "# 함수에서만 사용 가능\n",
    "# 함수 실행 후 메모리에서 사라짐\n",
    "\n",
    "# 전역변수 (Global Variable)\n",
    "# 함수 밖에 존재하는 변수\n",
    "# 프로그램 어디서나 사용 가능\n",
    "# 프로그램 종료 시 메모리에서 사라짐"
   ]
  },
  {
   "cell_type": "code",
   "execution_count": 76,
   "id": "0b2a10c4",
   "metadata": {},
   "outputs": [
    {
     "name": "stdout",
     "output_type": "stream",
     "text": [
      "a =>  21\n",
      "a is 10\n"
     ]
    }
   ],
   "source": [
    "# 함수와 변수 관계\n",
    "a = 10   # 전역 변수\n",
    "\n",
    "def test(a):\n",
    "    a += 1  # 지역변수\n",
    "    print('a => ', a)\n",
    "    \n",
    "# 함수 호출(사용)\n",
    "test(20)\n",
    "print('a is %d' %a)"
   ]
  },
  {
   "cell_type": "code",
   "execution_count": 83,
   "id": "9def442c",
   "metadata": {},
   "outputs": [
    {
     "name": "stdout",
     "output_type": "stream",
     "text": [
      "a => 11\n",
      "a is 11\n"
     ]
    }
   ],
   "source": [
    "# 함수와 변수 관계\n",
    "a = 10   # 전역변수\n",
    "\n",
    "def test():\n",
    "    global a    # 전역변수 사용 알림\n",
    "    a += 1    # 전역변수\n",
    "    print('a =>', a)\n",
    "    \n",
    "# 함수 호출(사용)\n",
    "test()\n",
    "print('a is %d' %a)"
   ]
  },
  {
   "cell_type": "code",
   "execution_count": 85,
   "id": "e928010d",
   "metadata": {},
   "outputs": [
    {
     "name": "stdout",
     "output_type": "stream",
     "text": [
      "Hello, world!\n"
     ]
    }
   ],
   "source": [
    "# 함수 안에 함수\n",
    "# 함수 선언 -----------------------\n",
    "def print_hello():\n",
    "    hello = 'Hello, world!'\n",
    "    def print_message():\n",
    "        print(hello)\n",
    "    print_message()\n",
    "    \n",
    "# 함수 호출 --------------------------\n",
    "print_hello()\n"
   ]
  },
  {
   "cell_type": "code",
   "execution_count": 87,
   "id": "f11378a9",
   "metadata": {},
   "outputs": [
    {
     "name": "stdout",
     "output_type": "stream",
     "text": [
      "3\n",
      "3\n",
      "-1\n",
      "0.5\n"
     ]
    }
   ],
   "source": [
    "# Lambda(람다)\n",
    "# 이름 없는 한 줄 함수 즉, 익명 함수\n",
    "# 변수명 = lambda 인수1, 인수2, ... : 실행코드 (리턴 값)\n",
    "add=lambda x,y: x+y\n",
    "print(add(1,2))\n",
    "\n",
    "cal=[lambda x,y:x+y, lambda x,y:x-y, lambda x,y:x/y]\n",
    "print(cal[0](1,2))\n",
    "print(cal[1](1,2))\n",
    "print(cal[2](1,2))"
   ]
  },
  {
   "cell_type": "code",
   "execution_count": null,
   "id": "101eb242",
   "metadata": {},
   "outputs": [],
   "source": []
  }
 ],
 "metadata": {
  "kernelspec": {
   "display_name": "Python 3 (ipykernel)",
   "language": "python",
   "name": "python3"
  },
  "language_info": {
   "codemirror_mode": {
    "name": "ipython",
    "version": 3
   },
   "file_extension": ".py",
   "mimetype": "text/x-python",
   "name": "python",
   "nbconvert_exporter": "python",
   "pygments_lexer": "ipython3",
   "version": "3.9.12"
  }
 },
 "nbformat": 4,
 "nbformat_minor": 5
}
