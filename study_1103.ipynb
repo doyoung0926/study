{
 "cells": [
  {
   "cell_type": "code",
   "execution_count": null,
   "metadata": {},
   "outputs": [],
   "source": [
    "# [cv] 얼굴인식하여 얼굴부분만 모자이크하기\n",
    "# https://gwoolab.tistory.com/56"
   ]
  },
  {
   "cell_type": "code",
   "execution_count": 2,
   "metadata": {},
   "outputs": [],
   "source": [
    "import cv2  # OpenCV 영상처리\n",
    "import dlib   # https://updaun.tistory.com/entry/python-python-37-dlib-install-error\n",
    "import numpy as np  # 배열 계산 용이\n",
    "from imutils import face_utils, resize"
   ]
  },
  {
   "cell_type": "code",
   "execution_count": 5,
   "metadata": {},
   "outputs": [],
   "source": [
    "# cap = cv2.VideoCapture('remove.avi')\n",
    "cap = cv2.VideoCapture(0)  # 카메라 번호는 0부터 시작. 내장카메라는 0, 외장은 1부터. 컴퓨터에 내장 카메라가 아예 없는 경우, 연결된 외장 카메라는 0.\n",
    "if not cap.isOpened():\n",
    "    exit()\n",
    "\n",
    "detector = dlib.get_frontal_face_detector()\n",
    "predictor = dlib.shape_predictor('shape_predictor_68_face_landmarks.dat')\n",
    "\n",
    "fourcc = cv2.VideoWriter_fourcc(*'DIVX')\n",
    "width = round(cap.get(cv2.CAP_PROP_FRAME_WIDTH))\n",
    "height = round(cap.get(cv2.CAP_PROP_FRAME_HEIGHT))\n",
    "fps = cap.get(cv2.CAP_PROP_FPS)\n",
    "\n",
    "# 저장 파일명, 코덱, FPS, 크기 (width, height)\n",
    "out = cv2.VideoWriter('mosaic_chim.avi', fourcc, fps, (width, height))\n",
    "\n",
    "while True:\n",
    "    ret, frame = cap.read()  # 카메라 상태 및 프레임\n",
    "\n",
    "    if not ret:\n",
    "        break\n",
    "\n",
    "    img_gray = cv2.cvtColor(frame, cv2.COLOR_BGR2GRAY)  # 흑백으로\n",
    "    faces = detector(img_gray)\n",
    "    for face in faces:\n",
    "        landmarks = predictor(img_gray, face)\n",
    "        points = face_utils.shape_to_np(landmarks)\n",
    "        rect = cv2.boundingRect(points)\n",
    "        x,y,w,h = rect\n",
    "\n",
    "        # 얼굴 인식\n",
    "        # cv2.rectangle(frame, (x,y), (x+w,y+h), (0,0,255), 1)\n",
    "\n",
    "        # 모자이크\n",
    "        mosaic = frame[y:y+h, x:x+w].copy()\n",
    "        mosaic = cv2.resize(mosaic, dsize=None, fx=0.1, fy=0.1, interpolation=cv2.INTER_NEAREST)\n",
    "        mosaic = cv2.resize(mosaic, dsize=(w,h), interpolation=cv2.INTER_NEAREST)\n",
    "        frame[y:y+h, x:x+w] = mosaic\n",
    "\n",
    "    out.write(frame)\n",
    "    cv2.imshow('camera', frame)\n",
    "    if cv2.waitKey(1) == ord('q'):  # 사용자가 q를 입력하면\n",
    "        break\n",
    "\n",
    "out.release()\n",
    "cap.release()\n",
    "cv2.destroyAllWindows()"
   ]
  }
 ],
 "metadata": {
  "kernelspec": {
   "display_name": "Python 3.8.13 ('pytorch38')",
   "language": "python",
   "name": "python3"
  },
  "language_info": {
   "codemirror_mode": {
    "name": "ipython",
    "version": 3
   },
   "file_extension": ".py",
   "mimetype": "text/x-python",
   "name": "python",
   "nbconvert_exporter": "python",
   "pygments_lexer": "ipython3",
   "version": "3.8.13"
  },
  "orig_nbformat": 4,
  "vscode": {
   "interpreter": {
    "hash": "e713db361fd0c0a151521921a307db5316dc01e9b741659f15d8bea985d071ea"
   }
  }
 },
 "nbformat": 4,
 "nbformat_minor": 2
}
