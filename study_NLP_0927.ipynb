{
 "cells": [
  {
   "cell_type": "markdown",
   "id": "58a3b2d6",
   "metadata": {},
   "source": [
    "# 텍스트 전처리\n",
    "---\n",
    "- 패키지 설치\n",
    "    * NLTK : pip install nltk\n",
    "    * KoNLPy : pip install Konlpy"
   ]
  },
  {
   "cell_type": "markdown",
   "id": "df5a04a7",
   "metadata": {},
   "source": [
    "## [1] 토큰화(Tokenization)\n",
    "---\n",
    "- 문장/문서 의미를 지닌 작은 단위로 나누는 것\n",
    "- 나누어진 단어를 토큰(Token)이라 함\n",
    "- 종류\n",
    "    * 문장 토큰화\n",
    "    * 단어 토큰화"
   ]
  },
  {
   "cell_type": "code",
   "execution_count": 3,
   "id": "d0068d70",
   "metadata": {},
   "outputs": [],
   "source": [
    "from nltk.tokenize import sent_tokenize, word_tokenize"
   ]
  },
  {
   "cell_type": "code",
   "execution_count": 4,
   "id": "f986a82c",
   "metadata": {},
   "outputs": [],
   "source": [
    "import nltk"
   ]
  },
  {
   "cell_type": "code",
   "execution_count": 5,
   "id": "daf88d0b",
   "metadata": {},
   "outputs": [],
   "source": [
    "# NLTK Corpus 말뭉치 데이터셋 다운로드 받기\n",
    "# nltk.download('all', quiet=True)"
   ]
  },
  {
   "cell_type": "code",
   "execution_count": 6,
   "id": "58c9a160",
   "metadata": {},
   "outputs": [],
   "source": [
    "raw_text1=\"when tokenizing a Unicode string.\\\n",
    "           NLTK tokenizers can produce token-spans.\\\n",
    "           when tokenizing a Unicode string.\"\n",
    "raw_text2=\"This particular tokenizer requires the Punkt sentence tokenization.\\\n",
    "           We can also operate at the level of sentences.\\\n",
    "           There are numerous ways to tokenize text.\""
   ]
  },
  {
   "cell_type": "code",
   "execution_count": 7,
   "id": "fe4e8cef",
   "metadata": {},
   "outputs": [],
   "source": [
    "# 단어 단위 토큰화\n",
    "result1=word_tokenize(raw_text1)"
   ]
  },
  {
   "cell_type": "code",
   "execution_count": 8,
   "id": "1d4e3b50",
   "metadata": {},
   "outputs": [
    {
     "name": "stdout",
     "output_type": "stream",
     "text": [
      "['when', 'tokenizing', 'a', 'Unicode', 'string', '.', 'NLTK', 'tokenizers', 'can', 'produce', 'token-spans', '.', 'when', 'tokenizing', 'a', 'Unicode', 'string', '.']\n"
     ]
    }
   ],
   "source": [
    "print(result1)"
   ]
  },
  {
   "cell_type": "code",
   "execution_count": 9,
   "id": "a5b613fc",
   "metadata": {},
   "outputs": [],
   "source": [
    "# 문장 단위 토큰화\n",
    "raw_text=[raw_text1, raw_text2]"
   ]
  },
  {
   "cell_type": "code",
   "execution_count": 10,
   "id": "9b0a4cbc",
   "metadata": {},
   "outputs": [
    {
     "data": {
      "text/plain": [
       "['when tokenizing a Unicode string.           NLTK tokenizers can produce token-spans.           when tokenizing a Unicode string.',\n",
       " 'This particular tokenizer requires the Punkt sentence tokenization.           We can also operate at the level of sentences.           There are numerous ways to tokenize text.']"
      ]
     },
     "execution_count": 10,
     "metadata": {},
     "output_type": "execute_result"
    }
   ],
   "source": [
    "raw_text"
   ]
  },
  {
   "cell_type": "code",
   "execution_count": 11,
   "id": "488fbf93",
   "metadata": {},
   "outputs": [],
   "source": [
    "result=sent_tokenize(raw_text1)"
   ]
  },
  {
   "cell_type": "code",
   "execution_count": 12,
   "id": "d34c9a59",
   "metadata": {},
   "outputs": [
    {
     "name": "stdout",
     "output_type": "stream",
     "text": [
      "['when tokenizing a Unicode string.', 'NLTK tokenizers can produce token-spans.', 'when tokenizing a Unicode string.'] 3\n"
     ]
    }
   ],
   "source": [
    "print(result, len(result))"
   ]
  },
  {
   "cell_type": "markdown",
   "id": "2950ff05",
   "metadata": {},
   "source": [
    "### 여러 문장에 토큰 추출\n",
    "---"
   ]
  },
  {
   "cell_type": "code",
   "execution_count": 13,
   "id": "a210c285",
   "metadata": {},
   "outputs": [
    {
     "name": "stdout",
     "output_type": "stream",
     "text": [
      "sent => ['when tokenizing a Unicode string.', 'NLTK tokenizers can produce token-spans.', 'when tokenizing a Unicode string.']\n",
      "ele => when tokenizing a Unicode string.\n",
      "wordResult => ['when', 'tokenizing', 'a', 'Unicode', 'string', '.']\n",
      "ele => NLTK tokenizers can produce token-spans.\n",
      "wordResult => ['NLTK', 'tokenizers', 'can', 'produce', 'token-spans', '.']\n",
      "ele => when tokenizing a Unicode string.\n",
      "wordResult => ['when', 'tokenizing', 'a', 'Unicode', 'string', '.']\n",
      "sent => ['This particular tokenizer requires the Punkt sentence tokenization.', 'We can also operate at the level of sentences.', 'There are numerous ways to tokenize text.']\n",
      "ele => This particular tokenizer requires the Punkt sentence tokenization.\n",
      "wordResult => ['This', 'particular', 'tokenizer', 'requires', 'the', 'Punkt', 'sentence', 'tokenization', '.']\n",
      "ele => We can also operate at the level of sentences.\n",
      "wordResult => ['We', 'can', 'also', 'operate', 'at', 'the', 'level', 'of', 'sentences', '.']\n",
      "ele => There are numerous ways to tokenize text.\n",
      "wordResult => ['There', 'are', 'numerous', 'ways', 'to', 'tokenize', 'text', '.']\n"
     ]
    }
   ],
   "source": [
    "# 문장 단위로 추출\n",
    "for sent in raw_text:\n",
    "    total_token=[]\n",
    "    # 문장 추출\n",
    "    sentResult=sent_tokenize(sent)\n",
    "    \n",
    "    # 문장에서 추출한 토큰\n",
    "    print(f'sent => {sentResult}')\n",
    "    \n",
    "    for ele in sentResult:\n",
    "        print(f'ele => {ele}')\n",
    "        wordResult=word_tokenize(ele)\n",
    "        print(f'wordResult => {wordResult}')\n",
    "        total_token.append(wordResult)"
   ]
  },
  {
   "cell_type": "markdown",
   "id": "28239298",
   "metadata": {},
   "source": [
    "### 한글\n",
    "---"
   ]
  },
  {
   "cell_type": "code",
   "execution_count": 14,
   "id": "d7758996",
   "metadata": {},
   "outputs": [],
   "source": [
    "from konlpy.tag import Okt\n",
    "\n",
    "# 형태소 분리 객체\n",
    "okt=Okt()"
   ]
  },
  {
   "cell_type": "code",
   "execution_count": 15,
   "id": "2a09526f",
   "metadata": {},
   "outputs": [
    {
     "name": "stdout",
     "output_type": "stream",
     "text": [
      "['오늘', '은', '월요일', '입니다', '.']\n"
     ]
    }
   ],
   "source": [
    "# 형태소 분리\n",
    "result=okt.morphs('오늘은 월요일입니다.')\n",
    "print(result)"
   ]
  },
  {
   "cell_type": "code",
   "execution_count": 16,
   "id": "57ae816c",
   "metadata": {},
   "outputs": [
    {
     "name": "stdout",
     "output_type": "stream",
     "text": [
      "[('오늘', 'Noun'), ('은', 'Josa'), ('월요일', 'Noun'), ('입니다', 'Adjective'), ('.', 'Punctuation')]\n"
     ]
    }
   ],
   "source": [
    "# 형태소 분리 후 태깅(Tagging) => 품사\n",
    "result2=okt.pos('오늘은 월요일입니다.')\n",
    "print(result2)"
   ]
  },
  {
   "cell_type": "code",
   "execution_count": 17,
   "id": "3043d648",
   "metadata": {},
   "outputs": [],
   "source": [
    "result2=okt.pos('오늘은 월요일입니다.', stem=True)  # stem 어간"
   ]
  },
  {
   "cell_type": "code",
   "execution_count": 18,
   "id": "143bc654",
   "metadata": {},
   "outputs": [
    {
     "name": "stdout",
     "output_type": "stream",
     "text": [
      "[('오늘', 'Noun'), ('은', 'Josa'), ('월요일', 'Noun'), ('이다', 'Adjective'), ('.', 'Punctuation')]\n"
     ]
    }
   ],
   "source": [
    "print(result2)"
   ]
  },
  {
   "cell_type": "markdown",
   "id": "99154708",
   "metadata": {},
   "source": [
    "## [2] 정제 & 정규화\n",
    "---\n",
    "- 불용어 제거 => 노이즈 제거\n",
    "- 텍스트의 동일화\n",
    "    * 대문자 또는 소문자로 통일\n",
    "    * 문장의 길이"
   ]
  },
  {
   "cell_type": "markdown",
   "id": "2bb322d8",
   "metadata": {},
   "source": [
    "### [2-1] 불용어 (Stopword)"
   ]
  },
  {
   "cell_type": "code",
   "execution_count": 19,
   "id": "dd789fc9",
   "metadata": {},
   "outputs": [],
   "source": [
    "en_stopwords=nltk.corpus.stopwords.words('english')"
   ]
  },
  {
   "cell_type": "code",
   "execution_count": 20,
   "id": "c79f4991",
   "metadata": {},
   "outputs": [
    {
     "data": {
      "text/plain": [
       "179"
      ]
     },
     "execution_count": 20,
     "metadata": {},
     "output_type": "execute_result"
    }
   ],
   "source": [
    "len(en_stopwords)"
   ]
  },
  {
   "cell_type": "code",
   "execution_count": 21,
   "id": "b33abdca",
   "metadata": {},
   "outputs": [
    {
     "data": {
      "text/plain": [
       "['i', 'me', 'my', 'myself', 'we', 'our', 'ours', 'ourselves', 'you', \"you're\"]"
      ]
     },
     "execution_count": 21,
     "metadata": {},
     "output_type": "execute_result"
    }
   ],
   "source": [
    "en_stopwords[:10]"
   ]
  },
  {
   "cell_type": "markdown",
   "id": "06345646",
   "metadata": {},
   "source": [
    "### [2-2] 어간 및 표제어 처리\n",
    "---"
   ]
  },
  {
   "cell_type": "code",
   "execution_count": 22,
   "id": "8f030dac",
   "metadata": {},
   "outputs": [],
   "source": [
    "from nltk.stem import LancasterStemmer"
   ]
  },
  {
   "cell_type": "code",
   "execution_count": 23,
   "id": "f37c7304",
   "metadata": {},
   "outputs": [],
   "source": [
    "# 어간 추출\n",
    "lstem=LancasterStemmer()"
   ]
  },
  {
   "cell_type": "code",
   "execution_count": 24,
   "id": "1a61a309",
   "metadata": {},
   "outputs": [
    {
     "data": {
      "text/plain": [
       "('work', 'work', 'work')"
      ]
     },
     "execution_count": 24,
     "metadata": {},
     "output_type": "execute_result"
    }
   ],
   "source": [
    "lstem.stem('working'), lstem.stem('worked'), lstem.stem('worken')"
   ]
  },
  {
   "cell_type": "code",
   "execution_count": 25,
   "id": "fabd7c8e",
   "metadata": {},
   "outputs": [
    {
     "data": {
      "text/plain": [
       "('happy', 'happy')"
      ]
     },
     "execution_count": 25,
     "metadata": {},
     "output_type": "execute_result"
    }
   ],
   "source": [
    "lstem.stem('happy'), lstem.stem('happiness')"
   ]
  },
  {
   "cell_type": "code",
   "execution_count": 26,
   "id": "bee4a926",
   "metadata": {},
   "outputs": [
    {
     "data": {
      "text/plain": [
       "('amus', 'amus')"
      ]
     },
     "execution_count": 26,
     "metadata": {},
     "output_type": "execute_result"
    }
   ],
   "source": [
    "lstem.stem('amuse'), lstem.stem('amused')"
   ]
  },
  {
   "cell_type": "code",
   "execution_count": 27,
   "id": "f686cc04",
   "metadata": {},
   "outputs": [],
   "source": [
    "# 표제어(사전에 등록된 단어 추출)\n",
    "from nltk.stem import WordNetLemmatizer"
   ]
  },
  {
   "cell_type": "code",
   "execution_count": 28,
   "id": "a7386225",
   "metadata": {},
   "outputs": [],
   "source": [
    "wlemma=WordNetLemmatizer()"
   ]
  },
  {
   "cell_type": "code",
   "execution_count": 29,
   "id": "20839e50",
   "metadata": {},
   "outputs": [
    {
     "data": {
      "text/plain": [
       "('work', 'work')"
      ]
     },
     "execution_count": 29,
     "metadata": {},
     "output_type": "execute_result"
    }
   ],
   "source": [
    "wlemma.lemmatize('working','v'), wlemma.lemmatize('worked','v')"
   ]
  },
  {
   "cell_type": "code",
   "execution_count": 30,
   "id": "2cc4e8d8",
   "metadata": {},
   "outputs": [
    {
     "data": {
      "text/plain": [
       "('amuse', 'amuse')"
      ]
     },
     "execution_count": 30,
     "metadata": {},
     "output_type": "execute_result"
    }
   ],
   "source": [
    "wlemma.lemmatize('amusing','v'), wlemma.lemmatize('amused','v')"
   ]
  },
  {
   "cell_type": "markdown",
   "id": "ebbde9ff",
   "metadata": {},
   "source": [
    "## [3] 텍스트 벡터화\n",
    "---\n",
    "- 텍스트 => 수치화\n",
    "- 희소벡터(OHE) : BOW 방식 --> Count기반, TF-IDF 기반\n",
    "- 밀집벡터 : Embedding 방식, Word2Vect"
   ]
  },
  {
   "cell_type": "code",
   "execution_count": 31,
   "id": "88a37caf",
   "metadata": {},
   "outputs": [],
   "source": [
    "from sklearn.feature_extraction.text import CountVectorizer, TfidfVectorizer"
   ]
  },
  {
   "cell_type": "code",
   "execution_count": 32,
   "id": "c5e9edcb",
   "metadata": {},
   "outputs": [],
   "source": [
    "corpus=[raw_text1, raw_text2]"
   ]
  },
  {
   "cell_type": "code",
   "execution_count": 33,
   "id": "e2ef73c3",
   "metadata": {},
   "outputs": [],
   "source": [
    "ohe=CountVectorizer()"
   ]
  },
  {
   "cell_type": "code",
   "execution_count": 34,
   "id": "4f615511",
   "metadata": {},
   "outputs": [
    {
     "data": {
      "text/plain": [
       "CountVectorizer()"
      ]
     },
     "execution_count": 34,
     "metadata": {},
     "output_type": "execute_result"
    }
   ],
   "source": [
    "ohe.fit(corpus)"
   ]
  },
  {
   "cell_type": "code",
   "execution_count": 35,
   "id": "148db93c",
   "metadata": {},
   "outputs": [],
   "source": [
    "ret=ohe.transform(corpus)"
   ]
  },
  {
   "cell_type": "code",
   "execution_count": 36,
   "id": "e49240e2",
   "metadata": {},
   "outputs": [
    {
     "name": "stdout",
     "output_type": "stream",
     "text": [
      "<class 'scipy.sparse.csr.csr_matrix'>\n",
      "  (0, 3)\t1\n",
      "  (0, 5)\t1\n",
      "  (0, 10)\t1\n",
      "  (0, 15)\t1\n",
      "  (0, 16)\t2\n",
      "  (0, 22)\t1\n",
      "  (0, 26)\t1\n",
      "  (0, 27)\t2\n",
      "  (0, 28)\t2\n",
      "  (0, 31)\t2\n",
      "  (1, 0)\t1\n",
      "  (1, 1)\t1\n",
      "  (1, 2)\t1\n",
      "  (1, 3)\t1\n",
      "  (1, 4)\t1\n",
      "  (1, 6)\t1\n",
      "  (1, 7)\t1\n",
      "  (1, 8)\t1\n",
      "  (1, 9)\t1\n",
      "  (1, 11)\t1\n",
      "  (1, 12)\t1\n",
      "  (1, 13)\t1\n",
      "  (1, 14)\t1\n",
      "  (1, 17)\t1\n",
      "  (1, 18)\t2\n",
      "  (1, 19)\t1\n",
      "  (1, 20)\t1\n",
      "  (1, 21)\t1\n",
      "  (1, 23)\t1\n",
      "  (1, 24)\t1\n",
      "  (1, 25)\t1\n",
      "  (1, 29)\t1\n",
      "  (1, 30)\t1\n"
     ]
    }
   ],
   "source": [
    "print(type(ret), ret, sep='\\n')"
   ]
  },
  {
   "cell_type": "code",
   "execution_count": 37,
   "id": "d86cce7b",
   "metadata": {},
   "outputs": [],
   "source": [
    "ret=ret.toarray()"
   ]
  },
  {
   "cell_type": "code",
   "execution_count": 38,
   "id": "05240244",
   "metadata": {},
   "outputs": [
    {
     "name": "stdout",
     "output_type": "stream",
     "text": [
      "(2, 32)\n",
      "[[0 0 0 1 0 1 0 0 0 0 1 0 0 0 0 1 2 0 0 0 0 0 1 0 0 0 1 2 2 0 0 2]\n",
      " [1 1 1 1 1 0 1 1 1 1 0 1 1 1 1 0 0 1 2 1 1 1 0 1 1 1 0 0 0 1 1 0]]\n"
     ]
    }
   ],
   "source": [
    "print(ret.shape, ret, sep='\\n')"
   ]
  },
  {
   "cell_type": "code",
   "execution_count": 39,
   "id": "817e264f",
   "metadata": {},
   "outputs": [],
   "source": [
    "## TF-IDF 기반\n",
    "tfIdf=TfidfVectorizer()"
   ]
  },
  {
   "cell_type": "code",
   "execution_count": 40,
   "id": "2305786a",
   "metadata": {},
   "outputs": [],
   "source": [
    "tf_corpus=tfIdf.fit_transform(corpus)"
   ]
  },
  {
   "cell_type": "code",
   "execution_count": 41,
   "id": "b3fe7f5e",
   "metadata": {},
   "outputs": [
    {
     "data": {
      "text/plain": [
       "scipy.sparse.csr.csr_matrix"
      ]
     },
     "execution_count": 41,
     "metadata": {},
     "output_type": "execute_result"
    }
   ],
   "source": [
    "type(tf_corpus)"
   ]
  },
  {
   "cell_type": "code",
   "execution_count": 42,
   "id": "270a747f",
   "metadata": {},
   "outputs": [],
   "source": [
    "tf_corpus=tf_corpus.toarray()"
   ]
  },
  {
   "cell_type": "code",
   "execution_count": 43,
   "id": "8e65fb9f",
   "metadata": {},
   "outputs": [
    {
     "name": "stdout",
     "output_type": "stream",
     "text": [
      "[[0.         0.         0.         0.15342554 0.         0.21563424\n",
      "  0.         0.         0.         0.         0.21563424 0.\n",
      "  0.         0.         0.         0.21563424 0.43126847 0.\n",
      "  0.         0.         0.         0.         0.21563424 0.\n",
      "  0.         0.         0.21563424 0.43126847 0.43126847 0.\n",
      "  0.         0.43126847]\n",
      " [0.19800527 0.19800527 0.19800527 0.14088238 0.19800527 0.\n",
      "  0.19800527 0.19800527 0.19800527 0.19800527 0.         0.19800527\n",
      "  0.19800527 0.19800527 0.19800527 0.         0.         0.19800527\n",
      "  0.39601054 0.19800527 0.19800527 0.19800527 0.         0.19800527\n",
      "  0.19800527 0.19800527 0.         0.         0.         0.19800527\n",
      "  0.19800527 0.        ]]\n"
     ]
    }
   ],
   "source": [
    "print(tf_corpus)"
   ]
  },
  {
   "cell_type": "markdown",
   "id": "a81f0762",
   "metadata": {},
   "source": [
    "## 실습 --------------------------\n",
    "---\n",
    "- 단어 단위 토큰화\n",
    "- 불용어 제거"
   ]
  },
  {
   "cell_type": "code",
   "execution_count": 44,
   "id": "43425889",
   "metadata": {},
   "outputs": [],
   "source": [
    "# 불용어 추출\n",
    "from nltk import corpus"
   ]
  },
  {
   "cell_type": "code",
   "execution_count": 45,
   "id": "429cfe20",
   "metadata": {},
   "outputs": [],
   "source": [
    "en_stopwords=corpus.stopwords.words('english')"
   ]
  },
  {
   "cell_type": "code",
   "execution_count": 46,
   "id": "cce66ca1",
   "metadata": {},
   "outputs": [],
   "source": [
    "texts='Wiki is in Ward is original description: The simplest online database that could possibly work.\\\n",
    "Wiki is a piece of server software that allows users to freely create and edit Web page content using any Web browser. Wiki supports hyperlinks and has a simple text syntax for creating new pages and crosslinks between internal pages on the fly.\\\n",
    "Wiki is unusual among group communication mechanisms in that it allows the organization of contributions to be edited in addition to the content itself.Like many simple concepts, \"open editing\" has some profound and subtle effects on Wiki usage. Allowing everyday users to create and edit any page in a Web site is exciting in that it encourages democratic use of the Web and promotes content composition by nontechnical users.'"
   ]
  },
  {
   "cell_type": "code",
   "execution_count": 47,
   "id": "1e0c00f0",
   "metadata": {},
   "outputs": [],
   "source": [
    "wordTokens=word_tokenize(texts)"
   ]
  },
  {
   "cell_type": "code",
   "execution_count": 48,
   "id": "181eaa1f",
   "metadata": {},
   "outputs": [
    {
     "data": {
      "text/plain": [
       "(132, list)"
      ]
     },
     "execution_count": 48,
     "metadata": {},
     "output_type": "execute_result"
    }
   ],
   "source": [
    "len(wordTokens), type(wordTokens)"
   ]
  },
  {
   "cell_type": "code",
   "execution_count": 49,
   "id": "553aa0c4",
   "metadata": {},
   "outputs": [
    {
     "name": "stdout",
     "output_type": "stream",
     "text": [
      "wordTokens2 : 85\n"
     ]
    }
   ],
   "source": [
    "# 불용어 제거\n",
    "wordTokens2=[]\n",
    "for word in wordTokens:\n",
    "    if word not in en_stopwords:\n",
    "        wordTokens2.append(word)\n",
    "        \n",
    "print(f'wordTokens2 : {len(wordTokens2)}')"
   ]
  },
  {
   "cell_type": "code",
   "execution_count": 50,
   "id": "bd9e3727",
   "metadata": {},
   "outputs": [
    {
     "name": "stdout",
     "output_type": "stream",
     "text": [
      "wordTokens3 : 85\n"
     ]
    }
   ],
   "source": [
    "workTokens3 = [ word for word in wordTokens if word not in en_stopwords ]\n",
    "\n",
    "print(f'wordTokens3 : {len(wordTokens2)}')"
   ]
  },
  {
   "cell_type": "markdown",
   "id": "7d1694ad",
   "metadata": {},
   "source": [
    "### Tokenizer 객체 생성\n",
    "---"
   ]
  },
  {
   "cell_type": "code",
   "execution_count": 51,
   "id": "87c2df2e",
   "metadata": {},
   "outputs": [],
   "source": [
    "from tensorflow.keras.preprocessing.text import text_to_word_sequence, Tokenizer"
   ]
  },
  {
   "cell_type": "code",
   "execution_count": 52,
   "id": "fea613a9",
   "metadata": {},
   "outputs": [],
   "source": [
    "raw_text='Wiki is in Ward is original description: The simplest online database that could possibly work.\\\n",
    "Wiki is a piece of server software that allows users to freely create and edit Web page content using any Web browser. Wiki supports hyperlinks and has a simple text syntax for creating new pages and crosslinks between internal pages on the fly.\\\n",
    "Wiki is unusual among group communication mechanisms in that it allows the organization of contributions to be edited in addition to the content itself.Like many simple concepts, \"open editing\" has some profound and subtle effects on Wiki usage. Allowing everyday users to create and edit any page in a Web site is exciting in that it encourages democratic use of the Web and promotes content composition by nontechnical users.'"
   ]
  },
  {
   "cell_type": "code",
   "execution_count": 53,
   "id": "2ca65d32",
   "metadata": {},
   "outputs": [],
   "source": [
    "# 토큰으로 나누기\n",
    "tokens=text_to_word_sequence(raw_text)"
   ]
  },
  {
   "cell_type": "code",
   "execution_count": 54,
   "id": "8a6b277a",
   "metadata": {},
   "outputs": [
    {
     "name": "stdout",
     "output_type": "stream",
     "text": [
      "128 ['wiki', 'is', 'in', 'ward', 'is', 'original', 'description', 'the', 'simplest', 'online', 'database', 'that', 'could', 'possibly', 'work', 'wiki', 'is', 'a', 'piece', 'of', 'server', 'software', 'that', 'allows', 'users', 'to', 'freely', 'create', 'and', 'edit', 'web', 'page', 'content', 'using', 'any', 'web', 'browser', 'wiki', 'supports', 'hyperlinks', 'and', 'has', 'a', 'simple', 'text', 'syntax', 'for', 'creating', 'new', 'pages', 'and', 'crosslinks', 'between', 'internal', 'pages', 'on', 'the', 'fly', 'wiki', 'is', 'unusual', 'among', 'group', 'communication', 'mechanisms', 'in', 'that', 'it', 'allows', 'the', 'organization', 'of', 'contributions', 'to', 'be', 'edited', 'in', 'addition', 'to', 'the', 'content', 'itself', 'like', 'many', 'simple', 'concepts', 'open', 'editing', 'has', 'some', 'profound', 'and', 'subtle', 'effects', 'on', 'wiki', 'usage', 'allowing', 'everyday', 'users', 'to', 'create', 'and', 'edit', 'any', 'page', 'in', 'a', 'web', 'site', 'is', 'exciting', 'in', 'that', 'it', 'encourages', 'democratic', 'use', 'of', 'the', 'web', 'and', 'promotes', 'content', 'composition', 'by', 'nontechnical', 'users']\n"
     ]
    }
   ],
   "source": [
    "print(len(tokens), tokens)"
   ]
  },
  {
   "cell_type": "code",
   "execution_count": 55,
   "id": "ff498408",
   "metadata": {},
   "outputs": [
    {
     "name": "stdout",
     "output_type": "stream",
     "text": [
      "['wiki', 'is', 'in', 'ward', 'is', 'original', 'description', 'the', 'simplest', 'online', 'database', 'that', 'could', 'possibly', 'work', 'wiki', 'is', 'a', 'piece', 'of', 'server', 'software', 'that', 'allows', 'users', 'to', 'freely', 'create', 'and', 'edit', 'web', 'page', 'content', 'using', 'any', 'web', 'browser', 'wiki', 'supports', 'hyperlinks', 'and', 'has', 'a', 'simple', 'text', 'syntax', 'for', 'creating', 'new', 'pages', 'and', 'crosslinks', 'between', 'internal', 'pages', 'on', 'the', 'fly', 'wiki', 'is', 'unusual', 'among', 'group', 'communication', 'mechanisms', 'in', 'that', 'it', 'allows', 'the', 'organization', 'of', 'contributions', 'to', 'be', 'edited', 'in', 'addition', 'to', 'the', 'content', 'itself', 'like', 'many', 'simple', 'concepts', 'open', 'editing', 'has', 'some', 'profound', 'and', 'subtle', 'effects', 'on', 'wiki', 'usage', 'allowing', 'everyday', 'users', 'to', 'create', 'and', 'edit', 'any', 'page', 'in', 'a', 'web', 'site', 'is', 'exciting', 'in', 'that', 'it', 'encourages', 'democratic', 'use', 'of', 'the', 'web', 'and', 'promotes', 'content', 'composition', 'by', 'nontechnical', 'users']\n"
     ]
    }
   ],
   "source": [
    "print(tokens)"
   ]
  },
  {
   "cell_type": "markdown",
   "id": "39b8281e",
   "metadata": {},
   "source": [
    "### Tokenizer 객체 -------------------------------------------\n",
    "- 제공한 문서/문장에 대한 단어사전(voca)\n",
    "- 단어사전(voca)에 존재하지 않는 단어 => Out Of Voca : oov"
   ]
  },
  {
   "cell_type": "code",
   "execution_count": 56,
   "id": "b9a0bbfa",
   "metadata": {},
   "outputs": [],
   "source": [
    "sentences = [\n",
    "  'I love my dog',\n",
    "  'I love my cat',\n",
    "  'You love my dog!',\n",
    "  'Do you think my dog is amazing?'\n",
    "]\n",
    "# {'my': 1, 'love': 2, 'dog': 3, 'i': 4, 'you': 5, 'cat': 6, '\n",
    "#  do': 7, 'think': 8, 'is': 9, 'amazing': 10} "
   ]
  },
  {
   "cell_type": "code",
   "execution_count": 74,
   "id": "e35368ff",
   "metadata": {},
   "outputs": [],
   "source": [
    "tokenizer = Tokenizer(oov_token='oov', num_words=5)\n",
    "\n",
    "# 단어 빈도수가 높은 순으로 낮은 정수 인덱스 부여\n",
    "tokenizer.fit_on_texts(sentences)"
   ]
  },
  {
   "cell_type": "code",
   "execution_count": 75,
   "id": "79551376",
   "metadata": {},
   "outputs": [
    {
     "name": "stdout",
     "output_type": "stream",
     "text": [
      "{'oov': 1, 'my': 2, 'love': 3, 'dog': 4, 'i': 5, 'you': 6, 'cat': 7, 'do': 8, 'think': 9, 'is': 10, 'amazing': 11}\n"
     ]
    }
   ],
   "source": [
    "# 단어 인덱스 : 단어 인덱스\n",
    "print(tokenizer.word_index)"
   ]
  },
  {
   "cell_type": "code",
   "execution_count": 76,
   "id": "cca78c6b",
   "metadata": {},
   "outputs": [
    {
     "name": "stdout",
     "output_type": "stream",
     "text": [
      "OrderedDict([('i', 2), ('love', 3), ('my', 4), ('dog', 3), ('cat', 1), ('you', 2), ('do', 1), ('think', 1), ('is', 1), ('amazing', 1)])\n"
     ]
    }
   ],
   "source": [
    "# 단어 출력 개수\n",
    "print(tokenizer.word_counts)"
   ]
  },
  {
   "cell_type": "code",
   "execution_count": 77,
   "id": "086e548a",
   "metadata": {},
   "outputs": [
    {
     "name": "stdout",
     "output_type": "stream",
     "text": [
      "[[1, 1, 2, 4, 1, 1]]\n"
     ]
    }
   ],
   "source": [
    "# 문장을 생성된 사전(voca)를 기반으로 수치화\n",
    "print(tokenizer.texts_to_sequences(['We think my dog is amazing?']))"
   ]
  },
  {
   "cell_type": "markdown",
   "id": "d5ba3998",
   "metadata": {},
   "source": [
    "### 패딩(Padding)\n",
    "---\n",
    "- 길이가 모두 다른 문장들을 동일 길이로 맞추기 위한 과정\n",
    "- 길이 기준 설정\n",
    "- 긴 경우 => 앞/뒤 중 선택\n",
    "- 짧은 경우 => 앞/뒤 중 선택\n",
    "- 값 => 패딩에 들어갈 값"
   ]
  },
  {
   "cell_type": "code",
   "execution_count": 78,
   "id": "597f6e9d",
   "metadata": {},
   "outputs": [],
   "source": [
    "from tensorflow.keras.utils import pad_sequences"
   ]
  },
  {
   "cell_type": "code",
   "execution_count": 81,
   "id": "5408500c",
   "metadata": {},
   "outputs": [],
   "source": [
    "result=tokenizer.texts_to_sequences(sentences)"
   ]
  },
  {
   "cell_type": "code",
   "execution_count": 82,
   "id": "3f083013",
   "metadata": {},
   "outputs": [
    {
     "data": {
      "text/plain": [
       "[[1, 3, 2, 4], [1, 3, 2, 1], [1, 3, 2, 4], [1, 1, 1, 2, 4, 1, 1]]"
      ]
     },
     "execution_count": 82,
     "metadata": {},
     "output_type": "execute_result"
    }
   ],
   "source": [
    "result"
   ]
  },
  {
   "cell_type": "code",
   "execution_count": 84,
   "id": "128efb20",
   "metadata": {},
   "outputs": [
    {
     "data": {
      "text/plain": [
       "array([[0, 0, 0, 1, 3, 2, 4],\n",
       "       [0, 0, 0, 1, 3, 2, 1],\n",
       "       [0, 0, 0, 1, 3, 2, 4],\n",
       "       [1, 1, 1, 2, 4, 1, 1]])"
      ]
     },
     "execution_count": 84,
     "metadata": {},
     "output_type": "execute_result"
    }
   ],
   "source": [
    "encoding=pad_sequences(result)\n",
    "encoding"
   ]
  },
  {
   "cell_type": "markdown",
   "id": "1bff54c1",
   "metadata": {},
   "source": [
    "### One-Hot_encoding 변환\n",
    "---\n",
    "- sklearn OneHotEncoder 객체 생성\n",
    "- Keras 함수"
   ]
  },
  {
   "cell_type": "code",
   "execution_count": 85,
   "id": "93b194a9",
   "metadata": {},
   "outputs": [],
   "source": [
    "from tensorflow.keras.utils import to_categorical"
   ]
  },
  {
   "cell_type": "code",
   "execution_count": 87,
   "id": "9ca6a8dd",
   "metadata": {},
   "outputs": [
    {
     "name": "stdout",
     "output_type": "stream",
     "text": [
      "seq_voca : 4\n",
      "[[1, 3, 2, 4], [1, 3, 2, 1], [1, 3, 2, 4], [1, 1, 1, 2, 4, 1, 1]]\n"
     ]
    }
   ],
   "source": [
    "# 문장을 생성된 사전(voca)를 기반으로 수치화\n",
    "seq_voca=tokenizer.texts_to_sequences(sentences)\n",
    "print(f'seq_voca : {len(seq_voca)}')\n",
    "print(seq_voca)"
   ]
  },
  {
   "cell_type": "code",
   "execution_count": 88,
   "id": "ef834fc1",
   "metadata": {},
   "outputs": [
    {
     "data": {
      "text/plain": [
       "array([[0., 1., 0., 0.],\n",
       "       [0., 0., 0., 1.],\n",
       "       [0., 0., 1., 0.],\n",
       "       [0., 1., 0., 0.]], dtype=float32)"
      ]
     },
     "execution_count": 88,
     "metadata": {},
     "output_type": "execute_result"
    }
   ],
   "source": [
    "to_categorical(seq_voca[1])"
   ]
  },
  {
   "cell_type": "code",
   "execution_count": 89,
   "id": "07bf30cc",
   "metadata": {},
   "outputs": [
    {
     "data": {
      "text/plain": [
       "array([[0., 1., 1., 1., 1.],\n",
       "       [0., 1., 1., 1., 0.],\n",
       "       [0., 1., 1., 1., 1.],\n",
       "       [0., 1., 1., 0., 1.]])"
      ]
     },
     "execution_count": 89,
     "metadata": {},
     "output_type": "execute_result"
    }
   ],
   "source": [
    "tokenizer.texts_to_matrix(sentences)"
   ]
  },
  {
   "cell_type": "code",
   "execution_count": 90,
   "id": "d9ea535c",
   "metadata": {},
   "outputs": [
    {
     "data": {
      "text/plain": [
       "[[1, 3, 2, 4], [1, 3, 2, 1], [1, 3, 2, 4], [1, 1, 1, 2, 4, 1, 1]]"
      ]
     },
     "execution_count": 90,
     "metadata": {},
     "output_type": "execute_result"
    }
   ],
   "source": [
    "tokenizer.texts_to_sequences(sentences)"
   ]
  },
  {
   "cell_type": "code",
   "execution_count": 91,
   "id": "306ec22d",
   "metadata": {},
   "outputs": [],
   "source": [
    "from tensorflow.keras.preprocessing.sequence import pad_sequences"
   ]
  },
  {
   "cell_type": "code",
   "execution_count": 92,
   "id": "dc2854a8",
   "metadata": {},
   "outputs": [
    {
     "name": "stdout",
     "output_type": "stream",
     "text": [
      "[[1, 3, 2, 4], [1, 3, 2, 1], [1, 3, 2, 4], [1, 1, 1, 2, 4, 1, 1]]\n"
     ]
    }
   ],
   "source": [
    "encoded = tokenizer.texts_to_sequences(sentences)\n",
    "print(encoded)"
   ]
  },
  {
   "cell_type": "code",
   "execution_count": 93,
   "id": "d4e61828",
   "metadata": {},
   "outputs": [
    {
     "data": {
      "text/plain": [
       "array([[0, 0, 0, 1, 3, 2, 4],\n",
       "       [0, 0, 0, 1, 3, 2, 1],\n",
       "       [0, 0, 0, 1, 3, 2, 4],\n",
       "       [1, 1, 1, 2, 4, 1, 1]])"
      ]
     },
     "execution_count": 93,
     "metadata": {},
     "output_type": "execute_result"
    }
   ],
   "source": [
    "padded = pad_sequences(encoded)\n",
    "padded"
   ]
  },
  {
   "cell_type": "code",
   "execution_count": 95,
   "id": "b3dcc796",
   "metadata": {},
   "outputs": [
    {
     "data": {
      "text/plain": [
       "array([[1, 3, 2, 4, 0, 0, 0],\n",
       "       [1, 3, 2, 1, 0, 0, 0],\n",
       "       [1, 3, 2, 4, 0, 0, 0],\n",
       "       [1, 1, 1, 2, 4, 1, 1]])"
      ]
     },
     "execution_count": 95,
     "metadata": {},
     "output_type": "execute_result"
    }
   ],
   "source": [
    "padded = pad_sequences(encoded, padding='post')\n",
    "padded"
   ]
  },
  {
   "cell_type": "code",
   "execution_count": 97,
   "id": "270fbea7",
   "metadata": {},
   "outputs": [
    {
     "data": {
      "text/plain": [
       "array([[1, 3, 2, 4, 0],\n",
       "       [1, 3, 2, 1, 0],\n",
       "       [1, 3, 2, 4, 0],\n",
       "       [1, 2, 4, 1, 1]])"
      ]
     },
     "execution_count": 97,
     "metadata": {},
     "output_type": "execute_result"
    }
   ],
   "source": [
    "padded = pad_sequences(encoded, padding='post', maxlen=5)\n",
    "padded"
   ]
  },
  {
   "cell_type": "markdown",
   "id": "869d6ca0",
   "metadata": {},
   "source": [
    "### FILE 읽고 벡터화\n",
    "---"
   ]
  },
  {
   "cell_type": "markdown",
   "id": "6263e34a",
   "metadata": {},
   "source": [
    "### [1] 데이터 준비"
   ]
  },
  {
   "cell_type": "code",
   "execution_count": 100,
   "id": "ab977d1c",
   "metadata": {},
   "outputs": [],
   "source": [
    "FILE='../EXAM_NLP/DAY_NLP_0926/data/example.txt'"
   ]
  },
  {
   "cell_type": "code",
   "execution_count": 101,
   "id": "901b679d",
   "metadata": {},
   "outputs": [],
   "source": [
    "with open(FILE, mode='r') as f:\n",
    "    fileData=f.read()"
   ]
  },
  {
   "cell_type": "code",
   "execution_count": 102,
   "id": "2204d66b",
   "metadata": {},
   "outputs": [
    {
     "name": "stdout",
     "output_type": "stream",
     "text": [
      "1534 <class 'str'>\n"
     ]
    }
   ],
   "source": [
    "print(len(fileData), type(fileData))"
   ]
  },
  {
   "cell_type": "code",
   "execution_count": 103,
   "id": "05595547",
   "metadata": {},
   "outputs": [
    {
     "data": {
      "text/plain": [
       "'The main Henry Ford Museum building houses some of the classrooms for the Henry Ford Academy\\n\\n\\nHenry Ford Academy is the first charter school in the United States to be developed jointly by a global corporation, public education, and a major nonprofit cultural institution. The school is sponsored by the Ford Motor Company, Wayne County Regional Educational Service Agency and The Henry Ford Museum and admits high school students. It is located in Dearborn, Michigan on the campus of the Henry Ford museum. Enrollment is taken from a lottery in the area and totaled 467 in 2010.[1]\\nFreshman meet inside the main museum building in glass walled classrooms, while older students use a converted carousel building and Pullman cars on a siding of the Greenfield Village railroad. Classes are expected to include use of the museum artifacts, a tradition of the original Village Schools. When the Museum was established in 1929, it included a school which served grades kindergarten to college/trade school ages. The last part of the original school closed in 1969.\\nThe Henry Ford Learning Institute is using the Henry Ford Academy model for further charter schools including the Power House High in Chicago and Alameda School for Art + Design in San Antonio.\\nThe building received the international annual design award of the Council of Educational Facilities Planners International for 2001, the James D. MacConnell Award for outstanding new educational facilities. Notable attendees include Chris Stroud and Isaac Sudut.\\nSee also[edit]'"
      ]
     },
     "execution_count": 103,
     "metadata": {},
     "output_type": "execute_result"
    }
   ],
   "source": [
    "fileData"
   ]
  },
  {
   "cell_type": "code",
   "execution_count": 104,
   "id": "40ef30e7",
   "metadata": {},
   "outputs": [],
   "source": [
    "# 문자열 => 문자열 리스트\n",
    "from nltk import sent_tokenize\n",
    "\n",
    "data_list=sent_tokenize(fileData)"
   ]
  },
  {
   "cell_type": "code",
   "execution_count": 105,
   "id": "33613e38",
   "metadata": {},
   "outputs": [
    {
     "name": "stdout",
     "output_type": "stream",
     "text": [
      "data_list => 12\n"
     ]
    }
   ],
   "source": [
    "print(f'data_list => {len(data_list)}')"
   ]
  },
  {
   "cell_type": "code",
   "execution_count": 106,
   "id": "81a1dc86",
   "metadata": {},
   "outputs": [
    {
     "data": {
      "text/plain": [
       "['The main Henry Ford Museum building houses some of the classrooms for the Henry Ford Academy\\n\\n\\nHenry Ford Academy is the first charter school in the United States to be developed jointly by a global corporation, public education, and a major nonprofit cultural institution.',\n",
       " 'The school is sponsored by the Ford Motor Company, Wayne County Regional Educational Service Agency and The Henry Ford Museum and admits high school students.',\n",
       " 'It is located in Dearborn, Michigan on the campus of the Henry Ford museum.',\n",
       " 'Enrollment is taken from a lottery in the area and totaled 467 in 2010.',\n",
       " '[1]\\nFreshman meet inside the main museum building in glass walled classrooms, while older students use a converted carousel building and Pullman cars on a siding of the Greenfield Village railroad.',\n",
       " 'Classes are expected to include use of the museum artifacts, a tradition of the original Village Schools.',\n",
       " 'When the Museum was established in 1929, it included a school which served grades kindergarten to college/trade school ages.',\n",
       " 'The last part of the original school closed in 1969.',\n",
       " 'The Henry Ford Learning Institute is using the Henry Ford Academy model for further charter schools including the Power House High in Chicago and Alameda School for Art + Design in San Antonio.',\n",
       " 'The building received the international annual design award of the Council of Educational Facilities Planners International for 2001, the James D. MacConnell Award for outstanding new educational facilities.',\n",
       " 'Notable attendees include Chris Stroud and Isaac Sudut.',\n",
       " 'See also[edit]']"
      ]
     },
     "execution_count": 106,
     "metadata": {},
     "output_type": "execute_result"
    }
   ],
   "source": [
    "data_list"
   ]
  },
  {
   "cell_type": "markdown",
   "id": "77591ac0",
   "metadata": {},
   "source": [
    "### [2] 토큰화 객체 생성"
   ]
  },
  {
   "cell_type": "code",
   "execution_count": 107,
   "id": "3418df31",
   "metadata": {},
   "outputs": [],
   "source": [
    "fileToken=Tokenizer()\n",
    "# raw_data용 단어사전 생성\n",
    "fileToken.fit_on_texts(data_list)"
   ]
  },
  {
   "cell_type": "code",
   "execution_count": 108,
   "id": "94076390",
   "metadata": {},
   "outputs": [
    {
     "name": "stdout",
     "output_type": "stream",
     "text": [
      "word_index : 137개\n",
      "{'the': 1, 'in': 2, 'ford': 3, 'of': 4, 'henry': 5, 'school': 6, 'a': 7, 'and': 8, 'museum': 9, 'for': 10, 'is': 11, 'building': 12, 'academy': 13, 'to': 14, 'educational': 15, 'main': 16, 'classrooms': 17, 'charter': 18, 'by': 19, 'high': 20, 'students': 21, 'it': 22, 'on': 23, 'use': 24, 'village': 25, 'include': 26, 'original': 27, 'schools': 28, 'design': 29, 'international': 30, 'award': 31, 'facilities': 32, 'houses': 33, 'some': 34, 'first': 35, 'united': 36, 'states': 37, 'be': 38, 'developed': 39, 'jointly': 40, 'global': 41, 'corporation': 42, 'public': 43, 'education': 44, 'major': 45, 'nonprofit': 46, 'cultural': 47, 'institution': 48, 'sponsored': 49, 'motor': 50, 'company': 51, 'wayne': 52, 'county': 53, 'regional': 54, 'service': 55, 'agency': 56, 'admits': 57, 'located': 58, 'dearborn': 59, 'michigan': 60, 'campus': 61, 'enrollment': 62, 'taken': 63, 'from': 64, 'lottery': 65, 'area': 66, 'totaled': 67, '467': 68, '2010': 69, '1': 70, 'freshman': 71, 'meet': 72, 'inside': 73, 'glass': 74, 'walled': 75, 'while': 76, 'older': 77, 'converted': 78, 'carousel': 79, 'pullman': 80, 'cars': 81, 'siding': 82, 'greenfield': 83, 'railroad': 84, 'classes': 85, 'are': 86, 'expected': 87, 'artifacts': 88, 'tradition': 89, 'when': 90, 'was': 91, 'established': 92, '1929': 93, 'included': 94, 'which': 95, 'served': 96, 'grades': 97, 'kindergarten': 98, 'college': 99, 'trade': 100, 'ages': 101, 'last': 102, 'part': 103, 'closed': 104, '1969': 105, 'learning': 106, 'institute': 107, 'using': 108, 'model': 109, 'further': 110, 'including': 111, 'power': 112, 'house': 113, 'chicago': 114, 'alameda': 115, 'art': 116, 'san': 117, 'antonio': 118, 'received': 119, 'annual': 120, 'council': 121, 'planners': 122, '2001': 123, 'james': 124, 'd': 125, 'macconnell': 126, 'outstanding': 127, 'new': 128, 'notable': 129, 'attendees': 130, 'chris': 131, 'stroud': 132, 'isaac': 133, 'sudut': 134, 'see': 135, 'also': 136, 'edit': 137}\n"
     ]
    }
   ],
   "source": [
    "print(f'word_index : {len(fileToken.word_index)}개\\n{fileToken.word_index}')"
   ]
  },
  {
   "cell_type": "markdown",
   "id": "dcfdb899",
   "metadata": {},
   "source": [
    "### [3] 문장 수치화 & 벡터화"
   ]
  },
  {
   "cell_type": "code",
   "execution_count": 109,
   "id": "de363125",
   "metadata": {},
   "outputs": [],
   "source": [
    "seqData=fileToken.texts_to_sequences(data_list)"
   ]
  },
  {
   "cell_type": "code",
   "execution_count": 110,
   "id": "eb8ce021",
   "metadata": {},
   "outputs": [
    {
     "name": "stdout",
     "output_type": "stream",
     "text": [
      "[1, 16, 5, 3, 9, 12, 33, 34, 4, 1, 17, 10, 1, 5, 3, 13, 5, 3, 13, 11, 1, 35, 18, 6, 2, 1, 36, 37, 14, 38, 39, 40, 19, 7, 41, 42, 43, 44, 8, 7, 45, 46, 47, 48]\n"
     ]
    }
   ],
   "source": [
    "print(seqData[0])"
   ]
  },
  {
   "cell_type": "code",
   "execution_count": 111,
   "id": "34cb8b1a",
   "metadata": {},
   "outputs": [
    {
     "name": "stdout",
     "output_type": "stream",
     "text": [
      "The main Henry Ford Museum building houses some of the classrooms for the Henry Ford Academy\n",
      "\n",
      "\n",
      "Henry Ford Academy is the first charter school in the United States to be developed jointly by a global corporation, public education, and a major nonprofit cultural institution.\n"
     ]
    }
   ],
   "source": [
    "print(data_list[0])"
   ]
  },
  {
   "cell_type": "markdown",
   "id": "a92cf9b8",
   "metadata": {},
   "source": [
    "# 영화리뷰 분석\n",
    "---\n",
    "- IMDB 데이터 활용"
   ]
  },
  {
   "cell_type": "code",
   "execution_count": 112,
   "id": "18f7fc7f",
   "metadata": {},
   "outputs": [],
   "source": [
    "from tensorflow.keras.datasets.imdb import load_data\n",
    "import numpy as np"
   ]
  },
  {
   "cell_type": "markdown",
   "id": "f1fa597c",
   "metadata": {},
   "source": [
    "## [1] 데이터 준비"
   ]
  },
  {
   "cell_type": "code",
   "execution_count": 113,
   "id": "cdf108c6",
   "metadata": {},
   "outputs": [],
   "source": [
    "# 단어사전(voca)에서 빈도가 높은 500개까지만 사용하도록 설정\n",
    "(x_train, y_train), (x_test, y_test)=load_data(num_words=500)"
   ]
  },
  {
   "cell_type": "code",
   "execution_count": 114,
   "id": "344d93d3",
   "metadata": {},
   "outputs": [
    {
     "name": "stdout",
     "output_type": "stream",
     "text": [
      "imDB 정보 \n",
      "x_train : (25000,) y_train : (25000,)\n",
      "x_test : (25000,) y_test : (25000,)\n"
     ]
    }
   ],
   "source": [
    "print(f'imDB 정보 \\nx_train : {x_train.shape} y_train : {y_train.shape}')\n",
    "print(f'x_test : {x_test.shape} y_test : {y_test.shape}')"
   ]
  },
  {
   "cell_type": "code",
   "execution_count": 116,
   "id": "db76bf1e",
   "metadata": {},
   "outputs": [
    {
     "name": "stdout",
     "output_type": "stream",
     "text": [
      "[0 - 1 : 218]\n",
      "[1, 14, 22, 16, 43, 2, 2, 2, 2, 65, 458, 2, 66, 2, 4, 173, 36, 256, 5, 25, 100, 43, 2, 112, 50, 2, 2, 9, 35, 480, 284, 5, 150, 4, 172, 112, 167, 2, 336, 385, 39, 4, 172, 2, 2, 17, 2, 38, 13, 447, 4, 192, 50, 16, 6, 147, 2, 19, 14, 22, 4, 2, 2, 469, 4, 22, 71, 87, 12, 16, 43, 2, 38, 76, 15, 13, 2, 4, 22, 17, 2, 17, 12, 16, 2, 18, 2, 5, 62, 386, 12, 8, 316, 8, 106, 5, 4, 2, 2, 16, 480, 66, 2, 33, 4, 130, 12, 16, 38, 2, 5, 25, 124, 51, 36, 135, 48, 25, 2, 33, 6, 22, 12, 215, 28, 77, 52, 5, 14, 407, 16, 82, 2, 8, 4, 107, 117, 2, 15, 256, 4, 2, 7, 2, 5, 2, 36, 71, 43, 2, 476, 26, 400, 317, 46, 7, 4, 2, 2, 13, 104, 88, 4, 381, 15, 297, 98, 32, 2, 56, 26, 141, 6, 194, 2, 18, 4, 226, 22, 21, 134, 476, 26, 480, 5, 144, 30, 2, 18, 51, 36, 28, 224, 92, 25, 104, 4, 226, 65, 16, 38, 2, 88, 12, 16, 283, 5, 16, 2, 113, 103, 32, 15, 16, 2, 19, 178, 32]\n",
      "===========================================================\n",
      "[1 - 0 : 189]\n",
      "[1, 194, 2, 194, 2, 78, 228, 5, 6, 2, 2, 2, 134, 26, 4, 2, 8, 118, 2, 14, 394, 20, 13, 119, 2, 189, 102, 5, 207, 110, 2, 21, 14, 69, 188, 8, 30, 23, 7, 4, 249, 126, 93, 4, 114, 9, 2, 2, 5, 2, 4, 116, 9, 35, 2, 4, 229, 9, 340, 2, 4, 118, 9, 4, 130, 2, 19, 4, 2, 5, 89, 29, 2, 46, 37, 4, 455, 9, 45, 43, 38, 2, 2, 398, 4, 2, 26, 2, 5, 163, 11, 2, 2, 4, 2, 9, 194, 2, 7, 2, 2, 349, 2, 148, 2, 2, 2, 15, 123, 125, 68, 2, 2, 15, 349, 165, 2, 98, 5, 4, 228, 9, 43, 2, 2, 15, 299, 120, 5, 120, 174, 11, 220, 175, 136, 50, 9, 2, 228, 2, 5, 2, 2, 245, 2, 5, 4, 2, 131, 152, 491, 18, 2, 32, 2, 2, 14, 9, 6, 371, 78, 22, 2, 64, 2, 9, 8, 168, 145, 23, 4, 2, 15, 16, 4, 2, 5, 28, 6, 52, 154, 462, 33, 89, 78, 285, 16, 145, 95]\n",
      "===========================================================\n",
      "[2 - 0 : 141]\n",
      "[1, 14, 47, 8, 30, 31, 7, 4, 249, 108, 7, 4, 2, 54, 61, 369, 13, 71, 149, 14, 22, 112, 4, 2, 311, 12, 16, 2, 33, 75, 43, 2, 296, 4, 86, 320, 35, 2, 19, 263, 2, 2, 4, 2, 33, 89, 78, 12, 66, 16, 4, 360, 7, 4, 58, 316, 334, 11, 4, 2, 43, 2, 2, 8, 257, 85, 2, 42, 2, 2, 83, 68, 2, 15, 36, 165, 2, 278, 36, 69, 2, 2, 8, 106, 14, 2, 2, 18, 6, 22, 12, 215, 28, 2, 40, 6, 87, 326, 23, 2, 21, 23, 22, 12, 272, 40, 57, 31, 11, 4, 22, 47, 6, 2, 51, 9, 170, 23, 2, 116, 2, 2, 13, 191, 79, 2, 89, 2, 14, 9, 8, 106, 2, 2, 35, 2, 6, 227, 7, 129, 113]\n",
      "===========================================================\n"
     ]
    }
   ],
   "source": [
    "for idx in range(3):\n",
    "    print(f'[{idx} - {y_train[idx]} : {len(x_train[idx])}]\\n{x_train[idx]}')\n",
    "    print('===========================================================')"
   ]
  },
  {
   "cell_type": "markdown",
   "id": "6b27e86e",
   "metadata": {},
   "source": [
    "## [2] 학습용 데이터 변환\n",
    "---\n",
    "- keras에서 이미 대부분의 전처리 끝난 데이터\n",
    "- 길이 조정 => 패딩(Padding)"
   ]
  },
  {
   "cell_type": "markdown",
   "id": "d3620673",
   "metadata": {},
   "source": [
    "### [2-1] 데이터별 길이 결정"
   ]
  },
  {
   "cell_type": "code",
   "execution_count": 119,
   "id": "aaa80b82",
   "metadata": {},
   "outputs": [],
   "source": [
    "from tensorflow.keras.utils import pad_sequences"
   ]
  },
  {
   "cell_type": "code",
   "execution_count": 123,
   "id": "7e7024c4",
   "metadata": {},
   "outputs": [
    {
     "name": "stdout",
     "output_type": "stream",
     "text": [
      "all_length : 238.71364, 178.0\n"
     ]
    },
    {
     "data": {
      "text/plain": [
       "(array([  11,   12,   13, ..., 1851, 1854, 2494]),\n",
       " array([2, 1, 2, ..., 1, 1, 1], dtype=int64))"
      ]
     },
     "execution_count": 123,
     "metadata": {},
     "output_type": "execute_result"
    }
   ],
   "source": [
    "# (1) 전체 리뷰의 길이 측정\n",
    "all_length=np.array([ len(x) for x in x_train ])\n",
    "\n",
    "print(f'all_length : {np.mean(all_length)}, {np.median(all_length)}')\n",
    "\n",
    "import pandas as pd\n",
    "\n",
    "np.unique(all_length)\n",
    "np.unique(all_length, return_counts=True)"
   ]
  },
  {
   "cell_type": "code",
   "execution_count": 124,
   "id": "b61e4d69",
   "metadata": {},
   "outputs": [],
   "source": [
    "import pandas as pd"
   ]
  },
  {
   "cell_type": "code",
   "execution_count": 126,
   "id": "50385f94",
   "metadata": {},
   "outputs": [],
   "source": [
    "uniqueDF=pd.DataFrame(np.unique(all_length, return_counts=True))\n",
    "uniqueDF=uniqueDF.T"
   ]
  },
  {
   "cell_type": "code",
   "execution_count": 128,
   "id": "62f19c30",
   "metadata": {},
   "outputs": [
    {
     "data": {
      "text/html": [
       "<div>\n",
       "<style scoped>\n",
       "    .dataframe tbody tr th:only-of-type {\n",
       "        vertical-align: middle;\n",
       "    }\n",
       "\n",
       "    .dataframe tbody tr th {\n",
       "        vertical-align: top;\n",
       "    }\n",
       "\n",
       "    .dataframe thead th {\n",
       "        text-align: right;\n",
       "    }\n",
       "</style>\n",
       "<table border=\"1\" class=\"dataframe\">\n",
       "  <thead>\n",
       "    <tr style=\"text-align: right;\">\n",
       "      <th></th>\n",
       "      <th>0</th>\n",
       "      <th>1</th>\n",
       "    </tr>\n",
       "  </thead>\n",
       "  <tbody>\n",
       "    <tr>\n",
       "      <th>118</th>\n",
       "      <td>132</td>\n",
       "      <td>196</td>\n",
       "    </tr>\n",
       "    <tr>\n",
       "      <th>111</th>\n",
       "      <td>125</td>\n",
       "      <td>194</td>\n",
       "    </tr>\n",
       "    <tr>\n",
       "      <th>116</th>\n",
       "      <td>130</td>\n",
       "      <td>191</td>\n",
       "    </tr>\n",
       "    <tr>\n",
       "      <th>108</th>\n",
       "      <td>122</td>\n",
       "      <td>181</td>\n",
       "    </tr>\n",
       "    <tr>\n",
       "      <th>110</th>\n",
       "      <td>124</td>\n",
       "      <td>180</td>\n",
       "    </tr>\n",
       "    <tr>\n",
       "      <th>...</th>\n",
       "      <td>...</td>\n",
       "      <td>...</td>\n",
       "    </tr>\n",
       "    <tr>\n",
       "      <th>921</th>\n",
       "      <td>974</td>\n",
       "      <td>1</td>\n",
       "    </tr>\n",
       "    <tr>\n",
       "      <th>743</th>\n",
       "      <td>761</td>\n",
       "      <td>1</td>\n",
       "    </tr>\n",
       "    <tr>\n",
       "      <th>919</th>\n",
       "      <td>972</td>\n",
       "      <td>1</td>\n",
       "    </tr>\n",
       "    <tr>\n",
       "      <th>744</th>\n",
       "      <td>762</td>\n",
       "      <td>1</td>\n",
       "    </tr>\n",
       "    <tr>\n",
       "      <th>1007</th>\n",
       "      <td>2494</td>\n",
       "      <td>1</td>\n",
       "    </tr>\n",
       "  </tbody>\n",
       "</table>\n",
       "<p>1008 rows × 2 columns</p>\n",
       "</div>"
      ],
      "text/plain": [
       "         0    1\n",
       "118    132  196\n",
       "111    125  194\n",
       "116    130  191\n",
       "108    122  181\n",
       "110    124  180\n",
       "...    ...  ...\n",
       "921    974    1\n",
       "743    761    1\n",
       "919    972    1\n",
       "744    762    1\n",
       "1007  2494    1\n",
       "\n",
       "[1008 rows x 2 columns]"
      ]
     },
     "execution_count": 128,
     "metadata": {},
     "output_type": "execute_result"
    }
   ],
   "source": [
    "uniqueDF.sort_values(by=1, ascending=False)"
   ]
  },
  {
   "cell_type": "code",
   "execution_count": 129,
   "id": "5f8235c5",
   "metadata": {},
   "outputs": [
    {
     "data": {
      "image/png": "[encoded data removed]",
      "text/plain": [
       "<Figure size 432x288 with 1 Axes>"
      ]
     },
     "metadata": {
      "needs_background": "light"
     },
     "output_type": "display_data"
    }
   ],
   "source": [
    "import matplotlib.pyplot as plt\n",
    "\n",
    "plt.hist(all_length)\n",
    "plt.grid()\n",
    "plt.show()"
   ]
  },
  {
   "cell_type": "markdown",
   "id": "f50d9d31",
   "metadata": {},
   "source": [
    "### [2-2] 데이터별 길이 변경"
   ]
  },
  {
   "cell_type": "code",
   "execution_count": 132,
   "id": "f06e748c",
   "metadata": {},
   "outputs": [
    {
     "data": {
      "text/plain": [
       "((25000, 100),\n",
       " array([  2,   4,   2,  33,  89,  78,  12,  66,  16,   4, 360,   7,   4,\n",
       "         58, 316, 334,  11,   4,   2,  43,   2,   2,   8, 257,  85,   2,\n",
       "         42,   2,   2,  83,  68,   2,  15,  36, 165,   2, 278,  36,  69,\n",
       "          2,   2,   8, 106,  14,   2,   2,  18,   6,  22,  12, 215,  28,\n",
       "          2,  40,   6,  87, 326,  23,   2,  21,  23,  22,  12, 272,  40,\n",
       "         57,  31,  11,   4,  22,  47,   6,   2,  51,   9, 170,  23,   2,\n",
       "        116,   2,   2,  13, 191,  79,   2,  89,   2,  14,   9,   8, 106,\n",
       "          2,   2,  35,   2,   6, 227,   7, 129, 113]),\n",
       " (100,),\n",
       " 100)"
      ]
     },
     "execution_count": 132,
     "metadata": {},
     "output_type": "execute_result"
    }
   ],
   "source": [
    "from tensorflow.keras.utils import pad_sequences, to_categorical\n",
    "\n",
    "train_seq=pad_sequences(x_train, maxlen=100)\n",
    "train_seq.shape, train_seq[2], train_seq[2].shape, train_seq[2].size"
   ]
  },
  {
   "cell_type": "code",
   "execution_count": 133,
   "id": "24301a5b",
   "metadata": {},
   "outputs": [
    {
     "data": {
      "text/plain": [
       "array([[  0,   0,   0, ...,  14,   6,   2],\n",
       "       [  6,   2,   2, ..., 125,   4,   2],\n",
       "       [  4,   2,   7, ...,   9,  57,   2],\n",
       "       ...,\n",
       "       [  0,   0,   0, ...,  21,   2,   2],\n",
       "       [  0,   1,  11, ...,   2,   7, 470],\n",
       "       [ 56,  96, 346, ...,  34,   2,   2]])"
      ]
     },
     "execution_count": 133,
     "metadata": {},
     "output_type": "execute_result"
    }
   ],
   "source": [
    "test_seq=pad_sequences(x_test, maxlen=100)\n",
    "test_seq"
   ]
  },
  {
   "cell_type": "code",
   "execution_count": 134,
   "id": "32e41583",
   "metadata": {},
   "outputs": [
    {
     "name": "stdout",
     "output_type": "stream",
     "text": [
      "x_train[2] : 141길이 [1, 14, 47, 8, 30, 31, 7, 4, 249, 108]\n",
      "train_seq[2] : 100길이 [ 2  4  2 33 89 78 12 66 16  4]\n"
     ]
    }
   ],
   "source": [
    "## 패딩 확인\n",
    "print(f'x_train[2] : {len(x_train[2])}길이 {x_train[2][:10]}')\n",
    "print(f'train_seq[2] : {len(train_seq[2])}길이 {train_seq[2][:10]}')"
   ]
  },
  {
   "cell_type": "markdown",
   "id": "4c70f167",
   "metadata": {},
   "source": [
    "### [2-2] 타겟 데이터 인코딩"
   ]
  },
  {
   "cell_type": "code",
   "execution_count": 135,
   "id": "21b60612",
   "metadata": {},
   "outputs": [],
   "source": [
    "from tensorflow.keras.utils import to_categorical"
   ]
  },
  {
   "cell_type": "code",
   "execution_count": 136,
   "id": "4132c674",
   "metadata": {},
   "outputs": [],
   "source": [
    "train_oh=to_categorical(train_seq)\n",
    "test_oh=to_categorical(test_seq)"
   ]
  },
  {
   "cell_type": "code",
   "execution_count": 137,
   "id": "e9a39d31",
   "metadata": {},
   "outputs": [
    {
     "data": {
      "text/plain": [
       "((25000, 100, 500),\n",
       " array([[0., 0., 1., ..., 0., 0., 0.],\n",
       "        [0., 0., 0., ..., 0., 0., 0.],\n",
       "        [0., 0., 0., ..., 0., 0., 0.],\n",
       "        ...,\n",
       "        [0., 0., 0., ..., 0., 0., 0.],\n",
       "        [0., 0., 0., ..., 0., 0., 0.],\n",
       "        [0., 0., 0., ..., 0., 0., 0.]], dtype=float32))"
      ]
     },
     "execution_count": 137,
     "metadata": {},
     "output_type": "execute_result"
    }
   ],
   "source": [
    "train_oh.shape, train_oh[0]"
   ]
  },
  {
   "cell_type": "markdown",
   "id": "9ee21f1e",
   "metadata": {},
   "source": [
    "### [2-3] 훈련/테스트 데이터 준비"
   ]
  },
  {
   "cell_type": "code",
   "execution_count": 138,
   "id": "1207a132",
   "metadata": {},
   "outputs": [],
   "source": [
    "from sklearn.model_selection import train_test_split"
   ]
  },
  {
   "cell_type": "code",
   "execution_count": 139,
   "id": "57dc48fe",
   "metadata": {},
   "outputs": [],
   "source": [
    "x_train, x_val, y_train, y_val=train_test_split(train_oh,\n",
    "                                               y_train, test_size=0.2, random_state=42)"
   ]
  },
  {
   "cell_type": "code",
   "execution_count": 140,
   "id": "0a57d646",
   "metadata": {},
   "outputs": [
    {
     "name": "stdout",
     "output_type": "stream",
     "text": [
      "x_train : (20000, 100, 500) test_seq : (25000, 100) x_val : (5000, 100, 500)\n",
      "y_train : (20000,) y_test : (25000,) x_val : (5000,)\n"
     ]
    }
   ],
   "source": [
    "print(f'x_train : {x_train.shape} test_seq : {test_seq.shape} x_val : {x_val.shape}')\n",
    "print(f'y_train : {y_train.shape} y_test : {y_test.shape} x_val : {y_val.shape}')"
   ]
  },
  {
   "cell_type": "markdown",
   "id": "0bc910c0",
   "metadata": {},
   "source": [
    "## [3] 모델\n",
    "---\n",
    "- 목표 : 영화리뷰 데이터 학습 후 사용자가 입력하는 리뷰가 긍정/부정 분류\n",
    "- 학습 : RNN 순환신경망\n",
    "- 입력 : 500\n",
    "- 출력 : 1 => 분류 => 2진분류"
   ]
  },
  {
   "cell_type": "code",
   "execution_count": 141,
   "id": "fbd3a416",
   "metadata": {},
   "outputs": [],
   "source": [
    "from tensorflow.keras.models import Sequential\n",
    "from tensorflow.keras.layers import SimpleRNN, Dense"
   ]
  },
  {
   "cell_type": "markdown",
   "id": "925232f9",
   "metadata": {},
   "source": [
    "### [3-1] 모델 구성\n",
    "---\n",
    "- 입력층 : 노드 n개 타임스템수, 피쳐수 => SimpleRNN\n",
    "- 출력층 : 노드 1개 sigmoid => Dense"
   ]
  },
  {
   "cell_type": "code",
   "execution_count": null,
   "id": "5c7017f9",
   "metadata": {},
   "outputs": [],
   "source": [
    "model = Sequential()\n",
    "# input_shape=(타임스템프, 토큰크기)\n",
    "model.add(SimpleRNN(9, input_shape=(100, 500), return_sequences=True))\n",
    "model.add(SimpleRNN(9))"
   ]
  }
 ],
 "metadata": {
  "kernelspec": {
   "display_name": "Python 3 (ipykernel)",
   "language": "python",
   "name": "python3"
  },
  "language_info": {
   "codemirror_mode": {
    "name": "ipython",
    "version": 3
   },
   "file_extension": ".py",
   "mimetype": "text/x-python",
   "name": "python",
   "nbconvert_exporter": "python",
   "pygments_lexer": "ipython3",
   "version": "3.9.12"
  }
 },
 "nbformat": 4,
 "nbformat_minor": 5
}
