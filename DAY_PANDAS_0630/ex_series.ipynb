{
 "cells": [
  {
   "cell_type": "markdown",
   "id": "556f9fc7",
   "metadata": {},
   "source": [
    "# 시리즈(Series) 타입 실습----------------------------------------------\n",
    "\n",
    "- Pandas의 1종류(1차원 배열/ 세로 벡터) 데이터를 저장하는 데이터 타입 (Type)\n",
    "\n",
    "- 생성 : Series 객체 생성"
   ]
  },
  {
   "cell_type": "code",
   "execution_count": 91,
   "id": "ceb2fff3",
   "metadata": {},
   "outputs": [],
   "source": [
    "# 모듈 로딩 ------------------------------------------------------------------------------------\n",
    "import pandas as pd\n",
    "\n",
    "# Series 객체 생성\n",
    "sr=pd.Series([1,2,3,4])"
   ]
  },
  {
   "cell_type": "code",
   "execution_count": 92,
   "id": "edef1ba5",
   "metadata": {},
   "outputs": [
    {
     "data": {
      "text/plain": [
       "0    1\n",
       "1    2\n",
       "2    3\n",
       "3    4\n",
       "dtype: int64"
      ]
     },
     "execution_count": 92,
     "metadata": {},
     "output_type": "execute_result"
    }
   ],
   "source": [
    "# 생성된 Series 객체 데이터 확인하기\n",
    "sr"
   ]
  },
  {
   "cell_type": "code",
   "execution_count": 93,
   "id": "abed2d7c",
   "metadata": {},
   "outputs": [
    {
     "data": {
      "text/plain": [
       "RangeIndex(start=0, stop=4, step=1)"
      ]
     },
     "execution_count": 93,
     "metadata": {},
     "output_type": "execute_result"
    }
   ],
   "source": [
    "# Series 객체의 속성 Attribute 확인 => 객체변수명.속성명\n",
    "# index 속성\n",
    "sr.index"
   ]
  },
  {
   "cell_type": "code",
   "execution_count": 94,
   "id": "115ab9f0",
   "metadata": {},
   "outputs": [
    {
     "data": {
      "text/plain": [
       "array([1, 2, 3, 4], dtype=int64)"
      ]
     },
     "execution_count": 94,
     "metadata": {},
     "output_type": "execute_result"
    }
   ],
   "source": [
    "# 값 속성\n",
    "sr.values"
   ]
  },
  {
   "cell_type": "code",
   "execution_count": 95,
   "id": "1a5a9ed2",
   "metadata": {},
   "outputs": [
    {
     "data": {
      "text/plain": [
       "1"
      ]
     },
     "execution_count": 95,
     "metadata": {},
     "output_type": "execute_result"
    }
   ],
   "source": [
    "# 차원(dimention) 속성\n",
    "sr.ndim"
   ]
  },
  {
   "cell_type": "code",
   "execution_count": 96,
   "id": "bd646335",
   "metadata": {},
   "outputs": [
    {
     "data": {
      "text/plain": [
       "(4,)"
      ]
     },
     "execution_count": 96,
     "metadata": {},
     "output_type": "execute_result"
    }
   ],
   "source": [
    "# 형(shape) 속성\n",
    "sr.shape"
   ]
  },
  {
   "cell_type": "code",
   "execution_count": 97,
   "id": "a266fdfd",
   "metadata": {},
   "outputs": [
    {
     "data": {
      "text/plain": [
       "(32, 4)"
      ]
     },
     "execution_count": 97,
     "metadata": {},
     "output_type": "execute_result"
    }
   ],
   "source": [
    "# 실제 사용 메모리 byte, 데이터 개수\n",
    "sr.nbytes, sr.size"
   ]
  },
  {
   "cell_type": "code",
   "execution_count": 98,
   "id": "9900ee37",
   "metadata": {},
   "outputs": [
    {
     "data": {
      "text/plain": [
       "0      1\n",
       "1      4\n",
       "2      A\n",
       "3    4.5\n",
       "dtype: object"
      ]
     },
     "execution_count": 98,
     "metadata": {},
     "output_type": "execute_result"
    }
   ],
   "source": [
    "# 여러 타입의 데이터로 Series 객체 생성\n",
    "sr2=pd.Series([1,4,'A',4.5])\n",
    "sr2"
   ]
  },
  {
   "cell_type": "code",
   "execution_count": 99,
   "id": "eceef578",
   "metadata": {},
   "outputs": [
    {
     "name": "stdout",
     "output_type": "stream",
     "text": [
      "index    => RangeIndex(start=0, stop=4, step=1)\n",
      "values   => [1 4 'A' 4.5] | values type => <class 'numpy.ndarray'>\n",
      "array    => <PandasArray>\n",
      "[1, 4, 'A', 4.5]\n",
      "Length: 4, dtype: object\n",
      "0      1\n",
      "1      4\n",
      "2      A\n",
      "3    4.5\n",
      "dtype: object\n"
     ]
    }
   ],
   "source": [
    "# Series 객체 속성 읽기\n",
    "print(f'index    => {sr2.index}')\n",
    "print(f'values   => {sr2.values} | values type => {type(sr2.values)}')\n",
    "print(f'array    => {sr2.array}')\n",
    "print(sr2)"
   ]
  },
  {
   "cell_type": "code",
   "execution_count": 100,
   "id": "669f70c8",
   "metadata": {},
   "outputs": [
    {
     "data": {
      "text/plain": [
       "name     HONG\n",
       "age        12\n",
       "loc     Daegu\n",
       "dtype: object"
      ]
     },
     "execution_count": 100,
     "metadata": {},
     "output_type": "execute_result"
    }
   ],
   "source": [
    "# Dict 데이터로 Series 객체 생성\n",
    "sr3=pd.Series({'name':'HONG', 'age':12, 'loc':'Daegu'})\n",
    "sr3"
   ]
  },
  {
   "cell_type": "code",
   "execution_count": 101,
   "id": "10783844",
   "metadata": {},
   "outputs": [
    {
     "data": {
      "text/plain": [
       "하나    a\n",
       "둘     b\n",
       "셋     c\n",
       "dtype: object"
      ]
     },
     "execution_count": 101,
     "metadata": {},
     "output_type": "execute_result"
    }
   ],
   "source": [
    "# Series 객체 생성\n",
    "sr=pd.Series(['a','b','c'], index=['하나','둘','셋'])\n",
    "sr"
   ]
  },
  {
   "cell_type": "code",
   "execution_count": 102,
   "id": "3e304a3d",
   "metadata": {},
   "outputs": [
    {
     "data": {
      "text/plain": [
       "0    a\n",
       "1    b\n",
       "2    c\n",
       "dtype: object"
      ]
     },
     "execution_count": 102,
     "metadata": {},
     "output_type": "execute_result"
    }
   ],
   "source": [
    "sr2=pd.Series(['a','b','c'])\n",
    "sr2"
   ]
  },
  {
   "cell_type": "code",
   "execution_count": 103,
   "id": "788c64bd",
   "metadata": {},
   "outputs": [
    {
     "data": {
      "text/plain": [
       "11    a\n",
       "22    b\n",
       "33    c\n",
       "dtype: object"
      ]
     },
     "execution_count": 103,
     "metadata": {},
     "output_type": "execute_result"
    }
   ],
   "source": [
    "# 인덱스 새로운 값으로 설정 => 객체변수명.속성명= 새로운 값\n",
    "sr2.index=[11,22,33]\n",
    "sr2"
   ]
  },
  {
   "cell_type": "markdown",
   "id": "c683d16e",
   "metadata": {},
   "source": [
    "# 시리즈(Series) 객체의 원소/요소 다루기\n",
    "\n",
    "- 방법\n",
    "    - 시리즈 객체[인덱스 번호]\n",
    "    - 시리즈 객체[인덱스 라벨]"
   ]
  },
  {
   "cell_type": "code",
   "execution_count": 104,
   "id": "bb1ec688",
   "metadata": {},
   "outputs": [
    {
     "data": {
      "text/plain": [
       "Int64Index([11, 22, 33], dtype='int64')"
      ]
     },
     "execution_count": 104,
     "metadata": {},
     "output_type": "execute_result"
    }
   ],
   "source": [
    "# 1번 원소 읽기\n",
    "sr2.index    # 현재 sr2의 인덱스 확인"
   ]
  },
  {
   "cell_type": "code",
   "execution_count": 105,
   "id": "830697d8",
   "metadata": {},
   "outputs": [
    {
     "data": {
      "text/plain": [
       "'b'"
      ]
     },
     "execution_count": 105,
     "metadata": {},
     "output_type": "execute_result"
    }
   ],
   "source": [
    "sr2[22]"
   ]
  },
  {
   "cell_type": "code",
   "execution_count": 106,
   "id": "2e992c0e",
   "metadata": {},
   "outputs": [
    {
     "data": {
      "text/plain": [
       "Index(['one', 'two', 'three'], dtype='object')"
      ]
     },
     "execution_count": 106,
     "metadata": {},
     "output_type": "execute_result"
    }
   ],
   "source": [
    "# 문자형 인덱스로 새롭게 설정\n",
    "sr2.index=['one','two','three']\n",
    "sr2.index"
   ]
  },
  {
   "cell_type": "code",
   "execution_count": 107,
   "id": "11d75e12",
   "metadata": {},
   "outputs": [
    {
     "data": {
      "text/plain": [
       "('b', 'b', 'c', 'c')"
      ]
     },
     "execution_count": 107,
     "metadata": {},
     "output_type": "execute_result"
    }
   ],
   "source": [
    "sr2['two'], sr2[1], sr2['three'], sr2[2]"
   ]
  },
  {
   "cell_type": "code",
   "execution_count": 108,
   "id": "c4fb8acd",
   "metadata": {},
   "outputs": [
    {
     "data": {
      "text/plain": [
       "name    Hong\n",
       "age       12\n",
       "dtype: object"
      ]
     },
     "execution_count": 108,
     "metadata": {},
     "output_type": "execute_result"
    }
   ],
   "source": [
    "sr3=pd.Series({'name':'Hong','age':12})\n",
    "sr3"
   ]
  },
  {
   "cell_type": "code",
   "execution_count": 109,
   "id": "c62d4edc",
   "metadata": {},
   "outputs": [
    {
     "data": {
      "text/plain": [
       "Index(['name', 'age'], dtype='object')"
      ]
     },
     "execution_count": 109,
     "metadata": {},
     "output_type": "execute_result"
    }
   ],
   "source": [
    "sr3.index"
   ]
  },
  {
   "cell_type": "code",
   "execution_count": 110,
   "id": "9e78ce38",
   "metadata": {},
   "outputs": [
    {
     "data": {
      "text/plain": [
       "(12, 'Hong')"
      ]
     },
     "execution_count": 110,
     "metadata": {},
     "output_type": "execute_result"
    }
   ],
   "source": [
    "sr3['age'],sr3['name']"
   ]
  },
  {
   "cell_type": "code",
   "execution_count": 111,
   "id": "069108e2",
   "metadata": {},
   "outputs": [
    {
     "data": {
      "text/plain": [
       "('Hong', 12)"
      ]
     },
     "execution_count": 111,
     "metadata": {},
     "output_type": "execute_result"
    }
   ],
   "source": [
    "sr3[0], sr3[1]"
   ]
  },
  {
   "cell_type": "code",
   "execution_count": 112,
   "id": "9c3155da",
   "metadata": {},
   "outputs": [
    {
     "data": {
      "text/plain": [
       "0    2022-06-30\n",
       "1        Pandas\n",
       "2          True\n",
       "3          4.55\n",
       "4       No Work\n",
       "5           김도영\n",
       "dtype: object"
      ]
     },
     "execution_count": 112,
     "metadata": {},
     "output_type": "execute_result"
    }
   ],
   "source": [
    "sr4=pd.Series(('2022-06-30','Pandas',True,4.55,'No Work','김도영'))\n",
    "sr4"
   ]
  },
  {
   "cell_type": "code",
   "execution_count": 113,
   "id": "cac26d8e",
   "metadata": {},
   "outputs": [
    {
     "data": {
      "text/plain": [
       "날짜      2022-06-30\n",
       "과목          Pandas\n",
       "불린            True\n",
       "실수            4.55\n",
       "희망사항       No Work\n",
       "이름             김도영\n",
       "dtype: object"
      ]
     },
     "execution_count": 113,
     "metadata": {},
     "output_type": "execute_result"
    }
   ],
   "source": [
    "sr4.index=['날짜','과목','불린','실수','희망사항','이름']\n",
    "sr4"
   ]
  },
  {
   "cell_type": "code",
   "execution_count": 114,
   "id": "0a1de648",
   "metadata": {},
   "outputs": [
    {
     "name": "stdout",
     "output_type": "stream",
     "text": [
      "2022-06-30 4.55 No Work\n",
      "2022-06-30 4.55 No Work\n",
      "<class 'str'> <class 'float'> <class 'str'>\n",
      "날짜      2022-06-30\n",
      "실수            4.55\n",
      "희망사항       No Work\n",
      "dtype: object <class 'pandas.core.series.Series'>\n"
     ]
    }
   ],
   "source": [
    "# (1) 0번요소, 3번요소, 4번요소 읽어서 출력\n",
    "print(sr4[0], sr4[3], sr4[4])\n",
    "print(sr4['날짜'], sr4['실수'], sr4['희망사항'])\n",
    "\n",
    "print(type(sr4[0]), type(sr4[3]), type(sr4[4]))\n",
    "print(sr4[ [0,3,4] ], type(sr4[ [0,3,4] ]))"
   ]
  },
  {
   "cell_type": "code",
   "execution_count": 115,
   "id": "c1051ab9",
   "metadata": {},
   "outputs": [
    {
     "name": "stdout",
     "output_type": "stream",
     "text": [
      "과목       Pandas\n",
      "불린         True\n",
      "실수         4.55\n",
      "희망사항    No Work\n",
      "이름          김도영\n",
      "dtype: object\n",
      "과목       Pandas\n",
      "불린         True\n",
      "실수         4.55\n",
      "희망사항    No Work\n",
      "이름          김도영\n",
      "dtype: object\n"
     ]
    }
   ],
   "source": [
    "# (2) 1번요소부터 끝까지 요소값 출력\n",
    "print(sr4[1:])\n",
    "print(sr4['과목':])"
   ]
  },
  {
   "cell_type": "code",
   "execution_count": 116,
   "id": "1c89fd53",
   "metadata": {},
   "outputs": [
    {
     "name": "stdout",
     "output_type": "stream",
     "text": [
      "과목    Pandas\n",
      "불린      True\n",
      "실수      4.55\n",
      "dtype: object\n",
      "과목       Pandas\n",
      "불린         True\n",
      "실수         4.55\n",
      "희망사항    No Work\n",
      "dtype: object\n"
     ]
    }
   ],
   "source": [
    "# (2) 1번요소부터 3번요소까지 요소값 출력\n",
    "print(sr4[1:4])\n",
    "print(sr4['과목':'희망사항'])    # 인덱스라벨은 끝원소로 포함"
   ]
  },
  {
   "cell_type": "code",
   "execution_count": null,
   "id": "a2717eeb",
   "metadata": {},
   "outputs": [],
   "source": []
  }
 ],
 "metadata": {
  "kernelspec": {
   "display_name": "Python 3 (ipykernel)",
   "language": "python",
   "name": "python3"
  },
  "language_info": {
   "codemirror_mode": {
    "name": "ipython",
    "version": 3
   },
   "file_extension": ".py",
   "mimetype": "text/x-python",
   "name": "python",
   "nbconvert_exporter": "python",
   "pygments_lexer": "ipython3",
   "version": "3.9.12"
  }
 },
 "nbformat": 4,
 "nbformat_minor": 5
}
