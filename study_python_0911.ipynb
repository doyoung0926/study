{
 "cells": [
  {
   "cell_type": "markdown",
   "id": "c7846a1f",
   "metadata": {},
   "source": [
    "#  PYTHON 자료형"
   ]
  },
  {
   "cell_type": "code",
   "execution_count": 1,
   "id": "ce7eb4a5",
   "metadata": {},
   "outputs": [],
   "source": [
    "# Tuple 자료형 <- Read Only List\n",
    "# 요소들이 연속적으로 이루어진 자료형\n",
    "# 소괄호()로 감싸고 쉼포(,)로 구분\n",
    "# 한 개의 요소를 가질 경우 반드시 요소 뒤에 콤마(,)\n",
    "# 소괄호() 생략 가능\n",
    "# 여러 종류 타입의 데이터 저장 가능\n",
    "\n",
    "# 변수명=(값1, 값2, 값3)\n",
    "# 변수명=값1, 값2, 값3\n",
    "# 변수명 = (값1,)\n",
    "# 변수명 = 값1,\n",
    "# 변수명 = ()"
   ]
  },
  {
   "cell_type": "code",
   "execution_count": 2,
   "id": "78547be1",
   "metadata": {},
   "outputs": [],
   "source": [
    "# Tuple 자료형\n",
    "# 생성\n",
    "stuple=()  # 빈 튜플\n",
    "number=(1,2,3,4)  # 정수 튜플\n",
    "names=('Jane','Tom','Lee')  # 문자열 튜플\n",
    "exist=(False, False, True, False)  # 논리형 튜플\n",
    "data=('Kim',30,23.23)  # 다양한 튜플\n",
    "alone='A',  # 문자열 튜플"
   ]
  },
  {
   "cell_type": "code",
   "execution_count": 4,
   "id": "dd4c7c9d",
   "metadata": {},
   "outputs": [
    {
     "name": "stdout",
     "output_type": "stream",
     "text": [
      "data1 = >  (1, 2, 3, 4)\n",
      "[1, 2, 3, 4] <class 'list'>\n",
      "data1 =>  (1, 222, 3, 4)\n"
     ]
    }
   ],
   "source": [
    "# Tuple 자료형\n",
    "# 강제 요소 변환\n",
    "data1=(1,2,3,4)\n",
    "print('data1 = > ', data1)\n",
    "\n",
    "tlist=list(data1)  # list 타입으로 변환\n",
    "print(tlist, type(tlist))\n",
    "\n",
    "tlist[1] = 222  # 값 변경\n",
    "\n",
    "data1 = tuple(tlist)  # tuple로 변환\n",
    "print('data1 => ', data1)"
   ]
  },
  {
   "cell_type": "code",
   "execution_count": 5,
   "id": "5330c5b6",
   "metadata": {},
   "outputs": [],
   "source": [
    "# 맵핑 자료형\n",
    "# Dictionary  dic타입  class'dic'   다양한 데이터"
   ]
  },
  {
   "cell_type": "code",
   "execution_count": 6,
   "id": "bc0481b0",
   "metadata": {},
   "outputs": [],
   "source": [
    "# Dict 자료형\n",
    "# key와 Value를 쌍으로 구성\n",
    "# key를 통해서 Value을 얻는 방식\n",
    "# 연관 배열 또는 해시(Hash)라고 함\n",
    "# 중괄호{}로 묶고 key:value를 콤마(,)로 구분\n",
    "# 순서가 의미 없음\n",
    "# 주의!! key 중복, 중복 시 하나의 키 제외한 나머지 무시\n",
    "\n",
    "# 변수명={key1:value1, key2:value2, key3:value3}"
   ]
  },
  {
   "cell_type": "code",
   "execution_count": 15,
   "id": "5d518f6a",
   "metadata": {},
   "outputs": [],
   "source": [
    "# Dict 자료형\n",
    "# 생성\n",
    "dic ={}\n",
    "dic1 = {'name':'Tom', 'age':10, 'birth':'1224'}\n",
    "dic2={1:'Hi',2:'Appeld','Num':1}\n",
    "dic3={'a':[1,2,3],'b':123}\n",
    "dic4={1:('A','B',123),2:'Happy'}"
   ]
  },
  {
   "cell_type": "code",
   "execution_count": 17,
   "id": "0fc6710b",
   "metadata": {},
   "outputs": [
    {
     "name": "stdout",
     "output_type": "stream",
     "text": [
      "\n",
      "===Dic객체 요소 값 읽기===\n",
      "dic1[1] => Tom\n",
      "dic3[1] => [1, 2, 3]\n",
      "dic4[2] => Happy\n"
     ]
    }
   ],
   "source": [
    "# Dict 자료형\n",
    "# 값 읽기 => 객체변수명[Key]\n",
    "print('\\n===Dic객체 요소 값 읽기===')\n",
    "print(f\"dic1[1] => {dic1['name']}\")\n",
    "print(f\"dic3[1] => {dic3['a']}\")\n",
    "print(f\"dic4[2] => {dic4[2]}\")"
   ]
  },
  {
   "cell_type": "markdown",
   "id": "ef126034",
   "metadata": {},
   "source": [
    "# PYTHON 조건문"
   ]
  },
  {
   "cell_type": "code",
   "execution_count": 18,
   "id": "ef3d1724",
   "metadata": {},
   "outputs": [],
   "source": [
    "# 조건문\n",
    "# 프로그램 실행이 특정 조건에 따라 실행 방향 변경\n",
    "# 조건이 참인 경우와 거짓인 경우에 따라서 실행\n",
    "\n",
    "# 주의!!\n",
    "# 조건문에 속하는 모든 문장은 들여쓰기"
   ]
  },
  {
   "cell_type": "code",
   "execution_count": 19,
   "id": "86755f3e",
   "metadata": {},
   "outputs": [],
   "source": [
    "# 조건문\n",
    "# 자료형에 따른 조건 결과\n",
    "# 자료형   /   참      /   거짓\n",
    "# 숫자형 타입 / 0이 아닌 모든 숫자 / 0\n",
    "# 문자형 타입 / 'abc' / ''\n",
    "# 리스트 타입 / [1,2,3,4,5] / []\n",
    "# 튜플 타입 / (1,2,3,4,5) / ()\n",
    "# 딕셔너리 타입 / {'A':90} / {}"
   ]
  },
  {
   "cell_type": "code",
   "execution_count": 20,
   "id": "282967bc",
   "metadata": {},
   "outputs": [],
   "source": [
    "# 조건문\n",
    "# 단순 조건문\n",
    "# [조건문]\n",
    "# 참\n",
    "# 구문\n",
    "# if 조건식:\n",
    "#     구문\n",
    "#     구문\n",
    "#     구문"
   ]
  },
  {
   "cell_type": "code",
   "execution_count": 21,
   "id": "8f08918f",
   "metadata": {},
   "outputs": [],
   "source": [
    "# 조건문\n",
    "# 단순 조건문\n",
    "# if 조건식:\n",
    "#     구문\n",
    "#     구문\n",
    "# else:\n",
    "#     구문\n",
    "#     구문"
   ]
  },
  {
   "cell_type": "code",
   "execution_count": 22,
   "id": "01d26e0c",
   "metadata": {},
   "outputs": [],
   "source": [
    "# 조건문\n",
    "# 예제\n",
    "# if score >= 60:\n",
    "#     print('합격입니다.')\n",
    "# else:\n",
    "#     print('불합격입니다.')"
   ]
  },
  {
   "cell_type": "code",
   "execution_count": 23,
   "id": "2d4874d6",
   "metadata": {},
   "outputs": [],
   "source": [
    "# 조건문\n",
    "# 다중 조건문\n",
    "# if 조건식1:\n",
    "#     구문\n",
    "#     구문\n",
    "# elif 조건식2:\n",
    "#     구문\n",
    "#     구문\n",
    "# else:\n",
    "#     구문"
   ]
  },
  {
   "cell_type": "code",
   "execution_count": 24,
   "id": "ec233adb",
   "metadata": {},
   "outputs": [],
   "source": [
    "# 조건문\n",
    "# 중첩 조건문\n",
    "# if 조건식1:\n",
    "#     if 조건식2:\n",
    "#         구문 2-1\n",
    "#     else:\n",
    "#         구문 2-2\n",
    "# else:\n",
    "#     구문1"
   ]
  },
  {
   "cell_type": "code",
   "execution_count": 25,
   "id": "441e1166",
   "metadata": {},
   "outputs": [
    {
     "data": {
      "text/plain": [
       "(True, False, True, True)"
      ]
     },
     "execution_count": 25,
     "metadata": {},
     "output_type": "execute_result"
    }
   ],
   "source": [
    "# 조건문\n",
    "# 특이한 조건문\n",
    "# in                /      not in \n",
    "# X in 리스트  /  X not in 리스트\n",
    "# X in 튜플  /  X not in 튜플\n",
    "# X in 문자열  / X not in 문자열\n",
    "1 in [1,2,3], 1 not in [1,2,3], 'a' in ['a','b','c'], 'i' not in 'python'"
   ]
  },
  {
   "cell_type": "code",
   "execution_count": 31,
   "id": "95f0f403",
   "metadata": {},
   "outputs": [],
   "source": [
    "# 조건문\n",
    "# 조건부 표현식\n",
    "# 참인 경우 if 조건문 else 거짓인 경우\n",
    "# print('odd number') if value%2 else print('even number')\n",
    "# kind='Odd Number' if value%2 else 'Even Number'"
   ]
  },
  {
   "cell_type": "code",
   "execution_count": 30,
   "id": "acf6c823",
   "metadata": {},
   "outputs": [
    {
     "name": "stdout",
     "output_type": "stream",
     "text": [
      "홀수\n",
      "홀수\n"
     ]
    },
    {
     "data": {
      "text/plain": [
       "'홀수'"
      ]
     },
     "execution_count": 30,
     "metadata": {},
     "output_type": "execute_result"
    }
   ],
   "source": [
    "# 조건부 표현식\n",
    "value = 3 \n",
    "print('홀수') if value%2 else print('짝수')\n",
    "print('짝수') if value%2==0 else print('홀수')\n",
    "msg='홀수' if value%2 else '짝수'\n",
    "msg='짝수' if value%2==0 else '홀수'"
   ]
  },
  {
   "cell_type": "markdown",
   "id": "07f255db",
   "metadata": {},
   "source": [
    "# 반복문"
   ]
  },
  {
   "cell_type": "code",
   "execution_count": 32,
   "id": "b652cbfc",
   "metadata": {},
   "outputs": [],
   "source": [
    "# 반복문\n",
    "# 동일한 코드 반복해야 할 경우 사용되는 제어문\n",
    "# 종류 : for문, while문"
   ]
  },
  {
   "cell_type": "code",
   "execution_count": 33,
   "id": "38bbbbe8",
   "metadata": {},
   "outputs": [],
   "source": [
    "# 반복문 - for\n",
    "# for 요소 in 시퀀스 객체:\n",
    "#     반복문\n",
    "# 시퀀스객체에서 하나씩 원소(요소) 가져오기"
   ]
  },
  {
   "cell_type": "code",
   "execution_count": 34,
   "id": "56ed6fd5",
   "metadata": {},
   "outputs": [
    {
     "name": "stdout",
     "output_type": "stream",
     "text": [
      "10\n",
      "3.25\n",
      "A\n",
      "<class 'int'> 11\n",
      "<class 'int'> 22\n",
      "<class 'int'> 33\n",
      "<class 'int'> 44\n",
      "<class 'int'> 55\n",
      "G\to\to\td\t \tL\tu\tc\tk\t"
     ]
    }
   ],
   "source": [
    "# 반복문 - for\n",
    "data=[10,3.25,'A']\n",
    "for item in data:\n",
    "    print(item)\n",
    "    \n",
    "data = [11,22,33,44,55]\n",
    "for item in data:\n",
    "    print(type(item), item)\n",
    "    \n",
    "data = 'Good Luck'\n",
    "for item in data:\n",
    "    print(item, end='\\t')"
   ]
  },
  {
   "cell_type": "code",
   "execution_count": 35,
   "id": "83bb2cde",
   "metadata": {},
   "outputs": [
    {
     "name": "stdout",
     "output_type": "stream",
     "text": [
      "item => name,Hong\n",
      "item => age,10\n",
      "item => 3,10.23\n"
     ]
    }
   ],
   "source": [
    "# 반복문 - for\n",
    "data={'name':'Hong', 'age':10, 3:10.23}\n",
    "\n",
    "for (k,v) in data.items():\n",
    "    print('item => {},{}'.format(k,v))"
   ]
  },
  {
   "cell_type": "code",
   "execution_count": 36,
   "id": "3e83ad49",
   "metadata": {},
   "outputs": [
    {
     "name": "stdout",
     "output_type": "stream",
     "text": [
      "1 + 2 = 3\n",
      "3 + 4 = 7\n",
      "5 + 6 = 11\n"
     ]
    }
   ],
   "source": [
    "a=[(1,2),(3,4),(5,6)]\n",
    "\n",
    "for (first, last) in a:\n",
    "    print('{0} + {1} = {2}'.format(first, last, first + last))"
   ]
  },
  {
   "cell_type": "code",
   "execution_count": 37,
   "id": "fc17094e",
   "metadata": {},
   "outputs": [],
   "source": [
    "# 반복문 - for\n",
    "# for 요소 in range(종료값):\n",
    "#     반복문\n",
    "\n",
    "# for 요소 in range(시작, 종료, 증가):\n",
    "#     반복문"
   ]
  },
  {
   "cell_type": "code",
   "execution_count": 38,
   "id": "1a14fbe8",
   "metadata": {},
   "outputs": [
    {
     "name": "stdout",
     "output_type": "stream",
     "text": [
      "item => 0\titem => 1\titem => 2\titem => 3\titem => 4\titem => 5\titem => 6\titem => 7\titem => 8\titem => 9\t\n"
     ]
    }
   ],
   "source": [
    "# 반복문 - for\n",
    "for i in range(10):\n",
    "    print('item => {}'.format(i), end='\\t')\n",
    "print()"
   ]
  },
  {
   "cell_type": "code",
   "execution_count": 39,
   "id": "f56ff34a",
   "metadata": {},
   "outputs": [
    {
     "name": "stdout",
     "output_type": "stream",
     "text": [
      "item => 2\titem => 4\titem => 6\titem => 8\titem => 10\t\n"
     ]
    }
   ],
   "source": [
    "for i in range(2,11,2):\n",
    "    print('item => {}'.format(i), end='\\t')\n",
    "print('')"
   ]
  },
  {
   "cell_type": "code",
   "execution_count": 40,
   "id": "a1514229",
   "metadata": {},
   "outputs": [],
   "source": [
    "# 반복문 - for\n",
    "# 중첩 for\n",
    "# for 요소 in 시퀀스 객체:\n",
    "#     for 요소 in 시퀀스 객체:\n",
    "#         반복문"
   ]
  },
  {
   "cell_type": "code",
   "execution_count": 41,
   "id": "474137c5",
   "metadata": {},
   "outputs": [
    {
     "name": "stdout",
     "output_type": "stream",
     "text": [
      "=====2단=====\n",
      "2*1=2\n",
      "2*2=4\n",
      "2*3=6\n",
      "2*4=8\n",
      "2*5=10\n",
      "2*6=12\n",
      "2*7=14\n",
      "2*8=16\n",
      "2*9=18\n",
      "=====3단=====\n",
      "3*1=3\n",
      "3*2=6\n",
      "3*3=9\n",
      "3*4=12\n",
      "3*5=15\n",
      "3*6=18\n",
      "3*7=21\n",
      "3*8=24\n",
      "3*9=27\n",
      "=====4단=====\n",
      "4*1=4\n",
      "4*2=8\n",
      "4*3=12\n",
      "4*4=16\n",
      "4*5=20\n",
      "4*6=24\n",
      "4*7=28\n",
      "4*8=32\n",
      "4*9=36\n",
      "=====5단=====\n",
      "5*1=5\n",
      "5*2=10\n",
      "5*3=15\n",
      "5*4=20\n",
      "5*5=25\n",
      "5*6=30\n",
      "5*7=35\n",
      "5*8=40\n",
      "5*9=45\n",
      "=====6단=====\n",
      "6*1=6\n",
      "6*2=12\n",
      "6*3=18\n",
      "6*4=24\n",
      "6*5=30\n",
      "6*6=36\n",
      "6*7=42\n",
      "6*8=48\n",
      "6*9=54\n",
      "=====7단=====\n",
      "7*1=7\n",
      "7*2=14\n",
      "7*3=21\n",
      "7*4=28\n",
      "7*5=35\n",
      "7*6=42\n",
      "7*7=49\n",
      "7*8=56\n",
      "7*9=63\n",
      "=====8단=====\n",
      "8*1=8\n",
      "8*2=16\n",
      "8*3=24\n",
      "8*4=32\n",
      "8*5=40\n",
      "8*6=48\n",
      "8*7=56\n",
      "8*8=64\n",
      "8*9=72\n",
      "=====9단=====\n",
      "9*1=9\n",
      "9*2=18\n",
      "9*3=27\n",
      "9*4=36\n",
      "9*5=45\n",
      "9*6=54\n",
      "9*7=63\n",
      "9*8=72\n",
      "9*9=81\n"
     ]
    }
   ],
   "source": [
    "# 반복문 - for\n",
    "# 중첩 for\n",
    "for dan in range(2,10):\n",
    "    print(f'====={dan}단=====')\n",
    "    \n",
    "    for num in range(1,10):\n",
    "        print(f'{dan}*{num}={dan*num}')"
   ]
  },
  {
   "cell_type": "code",
   "execution_count": null,
   "id": "5d4be754",
   "metadata": {},
   "outputs": [],
   "source": [
    "# 반복문 - for\n",
    "# Comperhesion\n",
    "# 반복 표현식을 포함하여 변형된 다른 Sequence 생성\n",
    "# list_object = [표현식 for 요소 in 반복가능 객체 if 조건]\n",
    "            #   [표현식 if 조건 else 표현식 for 요소 in 반복가능 객체]\n",
    "# set_object = {표현식 for 요소 in 반복가능 객체 if 조건}\n",
    "            #  {표현식 if 조건 else 표현식 for 요소 in 반복가능 객체}\n",
    "# dict_object = {key:value for 요소 in 반복가능 객체 if 조건}\n",
    "            #   {key:value if 조건 else 표현식 for 요소 in 반복가능 개게}"
   ]
  }
 ],
 "metadata": {
  "kernelspec": {
   "display_name": "Python 3 (ipykernel)",
   "language": "python",
   "name": "python3"
  },
  "language_info": {
   "codemirror_mode": {
    "name": "ipython",
    "version": 3
   },
   "file_extension": ".py",
   "mimetype": "text/x-python",
   "name": "python",
   "nbconvert_exporter": "python",
   "pygments_lexer": "ipython3",
   "version": "3.9.12"
  }
 },
 "nbformat": 4,
 "nbformat_minor": 5
}
