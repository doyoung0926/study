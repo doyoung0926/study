{
 "cells": [
  {
   "cell_type": "markdown",
   "metadata": {},
   "source": [
    "# 프로젝트 방법론\n",
    "---\n",
    "- 프로젝트 및 개발 프로세스 개요"
   ]
  },
  {
   "cell_type": "markdown",
   "metadata": {},
   "source": [
    "### 목차\n",
    "---\n",
    "- 프로젝트의 정의 및 특징\n",
    "\n",
    "- 소프트웨어 공학의 정의\n",
    "\n",
    "- 소프트웨어 개발 프로세스 모델"
   ]
  },
  {
   "cell_type": "code",
   "execution_count": 1,
   "metadata": {},
   "outputs": [],
   "source": [
    "# 프로젝트의 정의와 특성\n",
    "# 프로젝트의 정의\n",
    "# 고유한 제품, 서비스 또는 결과물을 창출하기 위해 한시적으로 투입하는 노력\n",
    "# PMBOK (A Guide to the Project Management Body of Knowledge)\n",
    "\n",
    "# 프로젝트의 특성\n",
    "# 명확한 목적과 목표를 가짐\n",
    "# 목표는 성과로 나타나고 평과됨\n",
    "# 명확한 결과물을 가짐\n",
    "\n",
    "# 한시적(Temporary)\n",
    "# 시작과 끝이 정해져 있음\n",
    "\n",
    "# 유일함(Uiqued)\n",
    "# 결과가 같은 프로젝트는 가능하지만\n",
    "# 프로젝트 결과를 위해 투입되는 노력, 환경 등 고유한 특성을 지님\n",
    "\n",
    "# 점진적으로 상세화(Progressive Elaboration)\n",
    "# 초기의 개략적인 정의에서 시작하여 점차 구체화하여 구현\n",
    "# 고개의 초기 요구 사항 파악이 어렵고, 변경이 많음"
   ]
  },
  {
   "cell_type": "code",
   "execution_count": 2,
   "metadata": {},
   "outputs": [],
   "source": [
    "# 프로젝트 관리의 3대 제약\n",
    "# 프로젝트 관리\n",
    "# 프로젝트의 요구 사항을 만족시키기 위해 지식, 기술, 도구, 기법들을 프로젝트 활동에 사용하는 것\n",
    "# 프로젝트의 요구사항을 정확히 파악\n",
    "# 가용한 자원을 효율적으로 사용\n",
    "# 예상치 못한 상황에 능동적으로 대응\n",
    "\n",
    "# 프로젝트 관리의 필요성\n",
    "# IT 프로젝트의 74%가 실패 (Standish Group 조사 결과)\n",
    "\n",
    "# 프로젝트 실패 요인\n",
    "# 부정확한 요구 사항\n",
    "# 사용자 환경에 대한 이해 부족\n",
    "# 불충분한 자원\n",
    "# 비현실적 사용자의 기대치\n",
    "# 관리 자원의 부족\n",
    "# 변경 관리의 부족\n",
    "# 불충분한 프로젝트 계획"
   ]
  },
  {
   "cell_type": "code",
   "execution_count": null,
   "metadata": {},
   "outputs": [],
   "source": []
  }
 ],
 "metadata": {
  "kernelspec": {
   "display_name": "Python 3.9.13 64-bit",
   "language": "python",
   "name": "python3"
  },
  "language_info": {
   "codemirror_mode": {
    "name": "ipython",
    "version": 3
   },
   "file_extension": ".py",
   "mimetype": "text/x-python",
   "name": "python",
   "nbconvert_exporter": "python",
   "pygments_lexer": "ipython3",
   "version": "3.9.13"
  },
  "orig_nbformat": 4,
  "vscode": {
   "interpreter": {
    "hash": "1d5c1156327dacead463cc502c55ebae8ce9c8c01979cf154173ff808e75bf55"
   }
  }
 },
 "nbformat": 4,
 "nbformat_minor": 2
}
