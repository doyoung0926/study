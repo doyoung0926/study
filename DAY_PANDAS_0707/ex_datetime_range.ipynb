{
 "cells": [
  {
   "cell_type": "markdown",
   "id": "7ceebcae",
   "metadata": {},
   "source": [
    "# Pandas의 DateTime 관련 범위지정 생성 -----------------------------------\n",
    "\n",
    "- pandas.date_range() : 파라미터 설정으로 원하는 날짜시간 범위 생성"
   ]
  },
  {
   "cell_type": "code",
   "execution_count": 31,
   "id": "d6be51fc",
   "metadata": {},
   "outputs": [
    {
     "data": {
      "text/plain": [
       "DatetimeIndex(['2022-07-01', '2022-07-02', '2022-07-03', '2022-07-04',\n",
       "               '2022-07-05'],\n",
       "              dtype='datetime64[ns]', freq='D')"
      ]
     },
     "execution_count": 31,
     "metadata": {},
     "output_type": "execute_result"
    }
   ],
   "source": [
    "# 모듈 로딩 --------------------------------------------------------------------------\n",
    "import pandas as pd\n",
    "\n",
    "# 날짜시간 범위 객체 생성 ---------------------------------\n",
    "dtRange=pd.date_range('2022-07-01', periods=5)     # period 갯수?\n",
    "dtRange"
   ]
  },
  {
   "cell_type": "code",
   "execution_count": 32,
   "id": "bc4b0d0c",
   "metadata": {},
   "outputs": [
    {
     "data": {
      "text/plain": [
       "DatetimeIndex(['2022-07-01', '2022-07-02', '2022-07-03', '2022-07-04',\n",
       "               '2022-07-05', '2022-07-06', '2022-07-07', '2022-07-08',\n",
       "               '2022-07-09', '2022-07-10',\n",
       "               ...\n",
       "               '2022-11-22', '2022-11-23', '2022-11-24', '2022-11-25',\n",
       "               '2022-11-26', '2022-11-27', '2022-11-28', '2022-11-29',\n",
       "               '2022-11-30', '2022-12-01'],\n",
       "              dtype='datetime64[ns]', length=154, freq='D')"
      ]
     },
     "execution_count": 32,
     "metadata": {},
     "output_type": "execute_result"
    }
   ],
   "source": [
    "dtRange=pd.date_range('2022-07-01', '2022-12-01')\n",
    "dtRange"
   ]
  },
  {
   "cell_type": "code",
   "execution_count": 33,
   "id": "38c979a3",
   "metadata": {},
   "outputs": [
    {
     "data": {
      "text/plain": [
       "DatetimeIndex(['2022-07-31', '2022-08-31', '2022-09-30', '2022-10-31',\n",
       "               '2022-11-30'],\n",
       "              dtype='datetime64[ns]', freq='M')"
      ]
     },
     "execution_count": 33,
     "metadata": {},
     "output_type": "execute_result"
    }
   ],
   "source": [
    "dtRange=pd.date_range('2022-07-01', '2022-12-01', freq='M')     # freq 단위\n",
    "dtRange"
   ]
  },
  {
   "cell_type": "code",
   "execution_count": 34,
   "id": "4887198e",
   "metadata": {},
   "outputs": [
    {
     "data": {
      "text/plain": [
       "DatetimeIndex(['2022-07-01', '2022-08-01', '2022-09-01', '2022-10-01',\n",
       "               '2022-11-01', '2022-12-01'],\n",
       "              dtype='datetime64[ns]', freq='MS')"
      ]
     },
     "execution_count": 34,
     "metadata": {},
     "output_type": "execute_result"
    }
   ],
   "source": [
    "dtRange=pd.date_range('2022-07-01', '2022-12-01', freq='MS')\n",
    "dtRange"
   ]
  },
  {
   "cell_type": "code",
   "execution_count": 35,
   "id": "3e4df075",
   "metadata": {},
   "outputs": [
    {
     "data": {
      "text/plain": [
       "(range(0, 6), [0, 1, 2, 3, 4, 5])"
      ]
     },
     "execution_count": 35,
     "metadata": {},
     "output_type": "execute_result"
    }
   ],
   "source": [
    "range(len(dtRange)), list(range(len(dtRange)))"
   ]
  },
  {
   "cell_type": "code",
   "execution_count": 36,
   "id": "fa6e36cf",
   "metadata": {},
   "outputs": [],
   "source": [
    "# 인덱스를 DatetimeIndex 설정해서 Series 객체 생성\n",
    "sr=pd.Series( list(range(len(dtRange))) , index=dtRange )"
   ]
  },
  {
   "cell_type": "code",
   "execution_count": 37,
   "id": "3646a213",
   "metadata": {},
   "outputs": [
    {
     "data": {
      "text/plain": [
       "2022-07-01    0\n",
       "2022-08-01    1\n",
       "2022-09-01    2\n",
       "2022-10-01    3\n",
       "2022-11-01    4\n",
       "2022-12-01    5\n",
       "Freq: MS, dtype: int64"
      ]
     },
     "execution_count": 37,
     "metadata": {},
     "output_type": "execute_result"
    }
   ],
   "source": [
    "sr"
   ]
  },
  {
   "cell_type": "code",
   "execution_count": null,
   "id": "14c9a672",
   "metadata": {},
   "outputs": [],
   "source": []
  }
 ],
 "metadata": {
  "kernelspec": {
   "display_name": "Python 3 (ipykernel)",
   "language": "python",
   "name": "python3"
  },
  "language_info": {
   "codemirror_mode": {
    "name": "ipython",
    "version": 3
   },
   "file_extension": ".py",
   "mimetype": "text/x-python",
   "name": "python",
   "nbconvert_exporter": "python",
   "pygments_lexer": "ipython3",
   "version": "3.9.12"
  }
 },
 "nbformat": 4,
 "nbformat_minor": 5
}
