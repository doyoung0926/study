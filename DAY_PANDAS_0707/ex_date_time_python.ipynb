{
 "cells": [
  {
   "cell_type": "markdown",
   "id": "7ea802df",
   "metadata": {},
   "source": [
    "# 날짜시간관련 패키지 다루기 ------------------------------------------------------\n",
    "\n",
    "- 파이썬 => date, time,  datetime 관련 클래스"
   ]
  },
  {
   "cell_type": "code",
   "execution_count": 1,
   "id": "d8d7eb33",
   "metadata": {},
   "outputs": [
    {
     "data": {
      "text/plain": [
       "'3.5.1'"
      ]
     },
     "execution_count": 1,
     "metadata": {},
     "output_type": "execute_result"
    }
   ],
   "source": [
    "# 모듈 로딩 --------------------------------------------------------------------\n",
    "import time as tm\n",
    "import matplotlib as mp\n",
    "\n",
    "mp.__version__    # __version__ 버전확인 할 수 있다"
   ]
  },
  {
   "cell_type": "markdown",
   "id": "17cda24d",
   "metadata": {},
   "source": [
    "# 시간 관련 클래스 -------------> time"
   ]
  },
  {
   "cell_type": "code",
   "execution_count": 15,
   "id": "3a53bdeb",
   "metadata": {},
   "outputs": [
    {
     "name": "stdout",
     "output_type": "stream",
     "text": [
      "현재시간 : Thu Jul  7 16:31:36 2022\n"
     ]
    }
   ],
   "source": [
    "# 현재 시간 출력 ------------------------------------------------------\n",
    "# (1) 보기 쉽게 변환되어서 가져오기\n",
    "currentTm=tm.ctime(tm.time())\n",
    "\n",
    "print(f'현재시간 : {currentTm}')"
   ]
  },
  {
   "cell_type": "code",
   "execution_count": 16,
   "id": "d8346e8b",
   "metadata": {},
   "outputs": [
    {
     "name": "stdout",
     "output_type": "stream",
     "text": [
      "현재시간구조체클래스 : time.struct_time(tm_year=2022, tm_mon=7, tm_mday=7, tm_hour=9, tm_min=39, tm_sec=44, tm_wday=3, tm_yday=188, tm_isdst=0)\n"
     ]
    }
   ],
   "source": [
    "# (2) 원하는 대로 변환할 수 있도록 구조체 객체\n",
    "localStrct=tm.localtime(tm.time())\n",
    "\n",
    "print(f'현재시간구조체클래스 : {localStrct}')"
   ]
  },
  {
   "cell_type": "markdown",
   "id": "df5441cd",
   "metadata": {},
   "source": [
    "# 날짜 관련 클래스 ---------> datetime.date 클래스"
   ]
  },
  {
   "cell_type": "code",
   "execution_count": 16,
   "id": "de3ccee9",
   "metadata": {},
   "outputs": [
    {
     "name": "stdout",
     "output_type": "stream",
     "text": [
      "<class 'datetime.date'> 2022-07-07\n"
     ]
    }
   ],
   "source": [
    "from datetime import date\n",
    "\n",
    "currentDT=date.today()         # 함수 괄호 안에서 shift+tab 함수 설명 보여줌\n",
    "\n",
    "print(type(currentDT), currentDT)"
   ]
  },
  {
   "cell_type": "code",
   "execution_count": 17,
   "id": "8583d964",
   "metadata": {},
   "outputs": [
    {
     "name": "stdout",
     "output_type": "stream",
     "text": [
      "<class 'datetime.date'> 2022-12-24\n"
     ]
    }
   ],
   "source": [
    "d_day=date(2022, 12, 24)\n",
    "\n",
    "print(type(d_day), d_day)"
   ]
  },
  {
   "cell_type": "code",
   "execution_count": 18,
   "id": "e4542661",
   "metadata": {},
   "outputs": [
    {
     "data": {
      "text/plain": [
       "(24, 12, 2022)"
      ]
     },
     "execution_count": 18,
     "metadata": {},
     "output_type": "execute_result"
    }
   ],
   "source": [
    "d_day.day, d_day.month, d_day.year"
   ]
  },
  {
   "cell_type": "markdown",
   "id": "234b1c91",
   "metadata": {},
   "source": [
    "# 날짜 시간 관련 클래스 ===> datetime.datetime"
   ]
  },
  {
   "cell_type": "code",
   "execution_count": 19,
   "id": "df0a3207",
   "metadata": {},
   "outputs": [
    {
     "data": {
      "text/plain": [
       "datetime.datetime(2022, 7, 7, 16, 34, 59, 611039)"
      ]
     },
     "execution_count": 19,
     "metadata": {},
     "output_type": "execute_result"
    }
   ],
   "source": [
    "from datetime import datetime as dt\n",
    "\n",
    "# 현재 날짜, 시간\n",
    "dt.today()"
   ]
  },
  {
   "cell_type": "code",
   "execution_count": 20,
   "id": "1f06fd90",
   "metadata": {},
   "outputs": [
    {
     "data": {
      "text/plain": [
       "datetime.datetime(2022, 7, 7, 16, 35, 0, 7325)"
      ]
     },
     "execution_count": 20,
     "metadata": {},
     "output_type": "execute_result"
    }
   ],
   "source": [
    "dt.now()"
   ]
  },
  {
   "cell_type": "code",
   "execution_count": 21,
   "id": "250f0f8c",
   "metadata": {},
   "outputs": [],
   "source": [
    "# 원하는 날짜시간 생성\n",
    "d_daytime=dt(2022, 12, 24)"
   ]
  },
  {
   "cell_type": "code",
   "execution_count": 22,
   "id": "5e01144a",
   "metadata": {},
   "outputs": [
    {
     "data": {
      "text/plain": [
       "datetime.datetime(2022, 12, 24, 0, 0)"
      ]
     },
     "execution_count": 22,
     "metadata": {},
     "output_type": "execute_result"
    }
   ],
   "source": [
    "d_daytime    # 원하는 날짜"
   ]
  },
  {
   "cell_type": "code",
   "execution_count": 23,
   "id": "47b5afb6",
   "metadata": {},
   "outputs": [
    {
     "data": {
      "text/plain": [
       "24"
      ]
     },
     "execution_count": 23,
     "metadata": {},
     "output_type": "execute_result"
    }
   ],
   "source": [
    "d_daytime.day"
   ]
  },
  {
   "cell_type": "markdown",
   "id": "dd8885fd",
   "metadata": {},
   "source": [
    "## 날짜 시간 관련 PANDAS ------------------------------------------------\n",
    "\n",
    "- 관련 자료형 : timestamp, datetime64, period\n",
    "\n",
    "- 관련 메서드 : to_datetime(), date_range(), to_periond(), period_range()"
   ]
  },
  {
   "cell_type": "code",
   "execution_count": null,
   "id": "7d2c611f",
   "metadata": {},
   "outputs": [],
   "source": []
  }
 ],
 "metadata": {
  "kernelspec": {
   "display_name": "Python 3 (ipykernel)",
   "language": "python",
   "name": "python3"
  },
  "language_info": {
   "codemirror_mode": {
    "name": "ipython",
    "version": 3
   },
   "file_extension": ".py",
   "mimetype": "text/x-python",
   "name": "python",
   "nbconvert_exporter": "python",
   "pygments_lexer": "ipython3",
   "version": "3.9.12"
  }
 },
 "nbformat": 4,
 "nbformat_minor": 5
}
