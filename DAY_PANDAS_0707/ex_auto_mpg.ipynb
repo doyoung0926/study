{
 "cells": [
  {
   "cell_type": "markdown",
   "id": "90ff0fbd",
   "metadata": {},
   "source": [
    "# auto_mpg 데이터 전처리 ----------------------------------------------------\n",
    "\n",
    "- 1. 단위 변환 => 컬럼 추가\n",
    "- 2. 자료형 검사 및 변환\n",
    "- 3. origin 컬럼에 대한 라벨 => (1-미국, 2-유럽, 3-일본) => 컬럼 추가"
   ]
  },
  {
   "cell_type": "code",
   "execution_count": 579,
   "id": "c01d5210",
   "metadata": {},
   "outputs": [
    {
     "data": {
      "text/plain": [
       "'../Data/auto_mpg.csv'"
      ]
     },
     "execution_count": 579,
     "metadata": {},
     "output_type": "execute_result"
    }
   ],
   "source": [
    "# 모듈 로딩 ---------------------------------------------------------\n",
    "import pandas as pd\n",
    "import numpy as np\n",
    "\n",
    "# 파일 관련 변수들 ---------------------------------------\n",
    "DIR='../Data/'\n",
    "FILE=DIR+'auto_mpg.csv'\n",
    "\n",
    "FILE"
   ]
  },
  {
   "cell_type": "markdown",
   "id": "4201ad0b",
   "metadata": {},
   "source": [
    "## (1) 데이터 로딩 ------------------------------------------------------"
   ]
  },
  {
   "cell_type": "code",
   "execution_count": 580,
   "id": "d65993f0",
   "metadata": {},
   "outputs": [
    {
     "name": "stdout",
     "output_type": "stream",
     "text": [
      "<class 'pandas.core.frame.DataFrame'>\n",
      "RangeIndex: 398 entries, 0 to 397\n",
      "Data columns (total 9 columns):\n",
      " #   Column        Non-Null Count  Dtype  \n",
      "---  ------        --------------  -----  \n",
      " 0   mpg           398 non-null    float64\n",
      " 1   cylinders     398 non-null    int64  \n",
      " 2   displacement  398 non-null    float64\n",
      " 3   horsepower    398 non-null    object \n",
      " 4   weight        398 non-null    int64  \n",
      " 5   acceleration  398 non-null    float64\n",
      " 6   model year    398 non-null    int64  \n",
      " 7   origin        398 non-null    int64  \n",
      " 8   car name      398 non-null    object \n",
      "dtypes: float64(3), int64(4), object(2)\n",
      "memory usage: 28.1+ KB\n"
     ]
    }
   ],
   "source": [
    "# CSV FILE => DataFrame 로딩\n",
    "mpgDF=pd.read_csv(FILE)\n",
    "\n",
    "# (2) Data 정보 확인\n",
    "# 요약 정보 확인\n",
    "mpgDF.info()"
   ]
  },
  {
   "cell_type": "markdown",
   "id": "6e92191f",
   "metadata": {},
   "source": [
    "## (2) 데이터 확인 ----------------------------------"
   ]
  },
  {
   "cell_type": "code",
   "execution_count": 581,
   "id": "ae556ee6",
   "metadata": {
    "scrolled": true
   },
   "outputs": [
    {
     "data": {
      "text/html": [
       "<div>\n",
       "<style scoped>\n",
       "    .dataframe tbody tr th:only-of-type {\n",
       "        vertical-align: middle;\n",
       "    }\n",
       "\n",
       "    .dataframe tbody tr th {\n",
       "        vertical-align: top;\n",
       "    }\n",
       "\n",
       "    .dataframe thead th {\n",
       "        text-align: right;\n",
       "    }\n",
       "</style>\n",
       "<table border=\"1\" class=\"dataframe\">\n",
       "  <thead>\n",
       "    <tr style=\"text-align: right;\">\n",
       "      <th></th>\n",
       "      <th>mpg</th>\n",
       "      <th>cylinders</th>\n",
       "      <th>displacement</th>\n",
       "      <th>horsepower</th>\n",
       "      <th>weight</th>\n",
       "      <th>acceleration</th>\n",
       "      <th>model year</th>\n",
       "      <th>origin</th>\n",
       "      <th>car name</th>\n",
       "    </tr>\n",
       "  </thead>\n",
       "  <tbody>\n",
       "    <tr>\n",
       "      <th>0</th>\n",
       "      <td>18.0</td>\n",
       "      <td>8</td>\n",
       "      <td>307.0</td>\n",
       "      <td>130</td>\n",
       "      <td>3504</td>\n",
       "      <td>12.0</td>\n",
       "      <td>70</td>\n",
       "      <td>1</td>\n",
       "      <td>chevrolet chevelle malibu</td>\n",
       "    </tr>\n",
       "    <tr>\n",
       "      <th>1</th>\n",
       "      <td>15.0</td>\n",
       "      <td>8</td>\n",
       "      <td>350.0</td>\n",
       "      <td>165</td>\n",
       "      <td>3693</td>\n",
       "      <td>11.5</td>\n",
       "      <td>70</td>\n",
       "      <td>1</td>\n",
       "      <td>buick skylark 320</td>\n",
       "    </tr>\n",
       "    <tr>\n",
       "      <th>2</th>\n",
       "      <td>18.0</td>\n",
       "      <td>8</td>\n",
       "      <td>318.0</td>\n",
       "      <td>150</td>\n",
       "      <td>3436</td>\n",
       "      <td>11.0</td>\n",
       "      <td>70</td>\n",
       "      <td>1</td>\n",
       "      <td>plymouth satellite</td>\n",
       "    </tr>\n",
       "    <tr>\n",
       "      <th>3</th>\n",
       "      <td>16.0</td>\n",
       "      <td>8</td>\n",
       "      <td>304.0</td>\n",
       "      <td>150</td>\n",
       "      <td>3433</td>\n",
       "      <td>12.0</td>\n",
       "      <td>70</td>\n",
       "      <td>1</td>\n",
       "      <td>amc rebel sst</td>\n",
       "    </tr>\n",
       "    <tr>\n",
       "      <th>4</th>\n",
       "      <td>17.0</td>\n",
       "      <td>8</td>\n",
       "      <td>302.0</td>\n",
       "      <td>140</td>\n",
       "      <td>3449</td>\n",
       "      <td>10.5</td>\n",
       "      <td>70</td>\n",
       "      <td>1</td>\n",
       "      <td>ford torino</td>\n",
       "    </tr>\n",
       "  </tbody>\n",
       "</table>\n",
       "</div>"
      ],
      "text/plain": [
       "    mpg  cylinders  displacement horsepower  weight  acceleration  model year  \\\n",
       "0  18.0          8         307.0        130    3504          12.0          70   \n",
       "1  15.0          8         350.0        165    3693          11.5          70   \n",
       "2  18.0          8         318.0        150    3436          11.0          70   \n",
       "3  16.0          8         304.0        150    3433          12.0          70   \n",
       "4  17.0          8         302.0        140    3449          10.5          70   \n",
       "\n",
       "   origin                   car name  \n",
       "0       1  chevrolet chevelle malibu  \n",
       "1       1          buick skylark 320  \n",
       "2       1         plymouth satellite  \n",
       "3       1              amc rebel sst  \n",
       "4       1                ford torino  "
      ]
     },
     "execution_count": 581,
     "metadata": {},
     "output_type": "execute_result"
    }
   ],
   "source": [
    "# 일부 데이터 확인\n",
    "mpgDF.head()"
   ]
  },
  {
   "cell_type": "code",
   "execution_count": 582,
   "id": "09df0214",
   "metadata": {},
   "outputs": [
    {
     "data": {
      "text/html": [
       "<div>\n",
       "<style scoped>\n",
       "    .dataframe tbody tr th:only-of-type {\n",
       "        vertical-align: middle;\n",
       "    }\n",
       "\n",
       "    .dataframe tbody tr th {\n",
       "        vertical-align: top;\n",
       "    }\n",
       "\n",
       "    .dataframe thead th {\n",
       "        text-align: right;\n",
       "    }\n",
       "</style>\n",
       "<table border=\"1\" class=\"dataframe\">\n",
       "  <thead>\n",
       "    <tr style=\"text-align: right;\">\n",
       "      <th></th>\n",
       "      <th>mpg</th>\n",
       "      <th>cylinders</th>\n",
       "      <th>displacement</th>\n",
       "      <th>horsepower</th>\n",
       "      <th>weight</th>\n",
       "      <th>acceleration</th>\n",
       "      <th>model year</th>\n",
       "      <th>origin</th>\n",
       "      <th>car name</th>\n",
       "    </tr>\n",
       "  </thead>\n",
       "  <tbody>\n",
       "    <tr>\n",
       "      <th>0</th>\n",
       "      <td>18.0</td>\n",
       "      <td>8</td>\n",
       "      <td>307.0</td>\n",
       "      <td>130</td>\n",
       "      <td>3504</td>\n",
       "      <td>12.0</td>\n",
       "      <td>70</td>\n",
       "      <td>1</td>\n",
       "      <td>chevrolet chevelle malibu</td>\n",
       "    </tr>\n",
       "    <tr>\n",
       "      <th>1</th>\n",
       "      <td>15.0</td>\n",
       "      <td>8</td>\n",
       "      <td>350.0</td>\n",
       "      <td>165</td>\n",
       "      <td>3693</td>\n",
       "      <td>11.5</td>\n",
       "      <td>70</td>\n",
       "      <td>1</td>\n",
       "      <td>buick skylark 320</td>\n",
       "    </tr>\n",
       "    <tr>\n",
       "      <th>2</th>\n",
       "      <td>18.0</td>\n",
       "      <td>8</td>\n",
       "      <td>318.0</td>\n",
       "      <td>150</td>\n",
       "      <td>3436</td>\n",
       "      <td>11.0</td>\n",
       "      <td>70</td>\n",
       "      <td>1</td>\n",
       "      <td>plymouth satellite</td>\n",
       "    </tr>\n",
       "    <tr>\n",
       "      <th>3</th>\n",
       "      <td>16.0</td>\n",
       "      <td>8</td>\n",
       "      <td>304.0</td>\n",
       "      <td>150</td>\n",
       "      <td>3433</td>\n",
       "      <td>12.0</td>\n",
       "      <td>70</td>\n",
       "      <td>1</td>\n",
       "      <td>amc rebel sst</td>\n",
       "    </tr>\n",
       "    <tr>\n",
       "      <th>4</th>\n",
       "      <td>17.0</td>\n",
       "      <td>8</td>\n",
       "      <td>302.0</td>\n",
       "      <td>140</td>\n",
       "      <td>3449</td>\n",
       "      <td>10.5</td>\n",
       "      <td>70</td>\n",
       "      <td>1</td>\n",
       "      <td>ford torino</td>\n",
       "    </tr>\n",
       "    <tr>\n",
       "      <th>...</th>\n",
       "      <td>...</td>\n",
       "      <td>...</td>\n",
       "      <td>...</td>\n",
       "      <td>...</td>\n",
       "      <td>...</td>\n",
       "      <td>...</td>\n",
       "      <td>...</td>\n",
       "      <td>...</td>\n",
       "      <td>...</td>\n",
       "    </tr>\n",
       "    <tr>\n",
       "      <th>393</th>\n",
       "      <td>27.0</td>\n",
       "      <td>4</td>\n",
       "      <td>140.0</td>\n",
       "      <td>86</td>\n",
       "      <td>2790</td>\n",
       "      <td>15.6</td>\n",
       "      <td>82</td>\n",
       "      <td>1</td>\n",
       "      <td>ford mustang gl</td>\n",
       "    </tr>\n",
       "    <tr>\n",
       "      <th>394</th>\n",
       "      <td>44.0</td>\n",
       "      <td>4</td>\n",
       "      <td>97.0</td>\n",
       "      <td>52</td>\n",
       "      <td>2130</td>\n",
       "      <td>24.6</td>\n",
       "      <td>82</td>\n",
       "      <td>2</td>\n",
       "      <td>vw pickup</td>\n",
       "    </tr>\n",
       "    <tr>\n",
       "      <th>395</th>\n",
       "      <td>32.0</td>\n",
       "      <td>4</td>\n",
       "      <td>135.0</td>\n",
       "      <td>84</td>\n",
       "      <td>2295</td>\n",
       "      <td>11.6</td>\n",
       "      <td>82</td>\n",
       "      <td>1</td>\n",
       "      <td>dodge rampage</td>\n",
       "    </tr>\n",
       "    <tr>\n",
       "      <th>396</th>\n",
       "      <td>28.0</td>\n",
       "      <td>4</td>\n",
       "      <td>120.0</td>\n",
       "      <td>79</td>\n",
       "      <td>2625</td>\n",
       "      <td>18.6</td>\n",
       "      <td>82</td>\n",
       "      <td>1</td>\n",
       "      <td>ford ranger</td>\n",
       "    </tr>\n",
       "    <tr>\n",
       "      <th>397</th>\n",
       "      <td>31.0</td>\n",
       "      <td>4</td>\n",
       "      <td>119.0</td>\n",
       "      <td>82</td>\n",
       "      <td>2720</td>\n",
       "      <td>19.4</td>\n",
       "      <td>82</td>\n",
       "      <td>1</td>\n",
       "      <td>chevy s-10</td>\n",
       "    </tr>\n",
       "  </tbody>\n",
       "</table>\n",
       "<p>398 rows × 9 columns</p>\n",
       "</div>"
      ],
      "text/plain": [
       "      mpg  cylinders  displacement horsepower  weight  acceleration  \\\n",
       "0    18.0          8         307.0        130    3504          12.0   \n",
       "1    15.0          8         350.0        165    3693          11.5   \n",
       "2    18.0          8         318.0        150    3436          11.0   \n",
       "3    16.0          8         304.0        150    3433          12.0   \n",
       "4    17.0          8         302.0        140    3449          10.5   \n",
       "..    ...        ...           ...        ...     ...           ...   \n",
       "393  27.0          4         140.0         86    2790          15.6   \n",
       "394  44.0          4          97.0         52    2130          24.6   \n",
       "395  32.0          4         135.0         84    2295          11.6   \n",
       "396  28.0          4         120.0         79    2625          18.6   \n",
       "397  31.0          4         119.0         82    2720          19.4   \n",
       "\n",
       "     model year  origin                   car name  \n",
       "0            70       1  chevrolet chevelle malibu  \n",
       "1            70       1          buick skylark 320  \n",
       "2            70       1         plymouth satellite  \n",
       "3            70       1              amc rebel sst  \n",
       "4            70       1                ford torino  \n",
       "..          ...     ...                        ...  \n",
       "393          82       1            ford mustang gl  \n",
       "394          82       2                  vw pickup  \n",
       "395          82       1              dodge rampage  \n",
       "396          82       1                ford ranger  \n",
       "397          82       1                 chevy s-10  \n",
       "\n",
       "[398 rows x 9 columns]"
      ]
     },
     "execution_count": 582,
     "metadata": {},
     "output_type": "execute_result"
    }
   ],
   "source": [
    "mpgDF"
   ]
  },
  {
   "cell_type": "markdown",
   "id": "754ebaea",
   "metadata": {},
   "source": [
    "## (3) 데이터 전처리 ------------------------------------------------------\n",
    "\n",
    "\n",
    "#### (3-1) 데이터 정제 => 결측치, 중복 처리"
   ]
  },
  {
   "cell_type": "code",
   "execution_count": 583,
   "id": "d87510c4",
   "metadata": {},
   "outputs": [
    {
     "data": {
      "text/plain": [
       "mpg             0\n",
       "cylinders       0\n",
       "displacement    0\n",
       "horsepower      0\n",
       "weight          0\n",
       "acceleration    0\n",
       "model year      0\n",
       "origin          0\n",
       "car name        0\n",
       "dtype: int64"
      ]
     },
     "execution_count": 583,
     "metadata": {},
     "output_type": "execute_result"
    }
   ],
   "source": [
    "# isnull() => sum()\n",
    "mpgDF.isnull().sum()"
   ]
  },
  {
   "cell_type": "code",
   "execution_count": 584,
   "id": "098478f3",
   "metadata": {},
   "outputs": [
    {
     "name": "stdout",
     "output_type": "stream",
     "text": [
      "mpg--------------------------\n",
      "[18.  15.  16.  17.  14.  24.  22.  21.  27.  26.  25.  10.  11.   9.\n",
      " 28.  19.  12.  13.  23.  30.  31.  35.  20.  29.  32.  33.  17.5 15.5\n",
      " 14.5 22.5 24.5 18.5 29.5 26.5 16.5 31.5 36.  25.5 33.5 20.5 30.5 21.5\n",
      " 43.1 36.1 32.8 39.4 19.9 19.4 20.2 19.2 25.1 20.6 20.8 18.6 18.1 17.7\n",
      " 27.5 27.2 30.9 21.1 23.2 23.8 23.9 20.3 21.6 16.2 19.8 22.3 17.6 18.2\n",
      " 16.9 31.9 34.1 35.7 27.4 25.4 34.2 34.5 31.8 37.3 28.4 28.8 26.8 41.5\n",
      " 38.1 32.1 37.2 26.4 24.3 19.1 34.3 29.8 31.3 37.  32.2 46.6 27.9 40.8\n",
      " 44.3 43.4 36.4 44.6 40.9 33.8 32.7 23.7 23.6 32.4 26.6 25.8 23.5 39.1\n",
      " 39.  35.1 32.3 37.7 34.7 34.4 29.9 33.7 32.9 31.6 28.1 30.7 24.2 22.4\n",
      " 34.  38.  44. ]\n",
      "\n",
      "cylinders--------------------------\n",
      "[8 4 6 3 5]\n",
      "\n",
      "displacement--------------------------\n",
      "[307.  350.  318.  304.  302.  429.  454.  440.  455.  390.  383.  340.\n",
      " 400.  113.  198.  199.  200.   97.  110.  107.  104.  121.  360.  140.\n",
      "  98.  232.  225.  250.  351.  258.  122.  116.   79.   88.   71.   72.\n",
      "  91.   97.5  70.  120.   96.  108.  155.   68.  114.  156.   76.   83.\n",
      "  90.  231.  262.  134.  119.  171.  115.  101.  305.   85.  130.  168.\n",
      " 111.  260.  151.  146.   80.   78.  105.  131.  163.   89.  267.   86.\n",
      " 183.  141.  173.  135.   81.  100.  145.  112.  181.  144. ]\n",
      "\n",
      "horsepower--------------------------\n",
      "['130' '165' '150' '140' '198' '220' '215' '225' '190' '170' '160' '95'\n",
      " '97' '85' '88' '46' '87' '90' '113' '200' '210' '193' '?' '100' '105'\n",
      " '175' '153' '180' '110' '72' '86' '70' '76' '65' '69' '60' '80' '54'\n",
      " '208' '155' '112' '92' '145' '137' '158' '167' '94' '107' '230' '49' '75'\n",
      " '91' '122' '67' '83' '78' '52' '61' '93' '148' '129' '96' '71' '98' '115'\n",
      " '53' '81' '79' '120' '152' '102' '108' '68' '58' '149' '89' '63' '48'\n",
      " '66' '139' '103' '125' '133' '138' '135' '142' '77' '62' '132' '84' '64'\n",
      " '74' '116' '82']\n",
      "\n",
      "weight--------------------------\n",
      "[3504 3693 3436 3433 3449 4341 4354 4312 4425 3850 3563 3609 3761 3086\n",
      " 2372 2833 2774 2587 2130 1835 2672 2430 2375 2234 2648 4615 4376 4382\n",
      " 4732 2264 2228 2046 2634 3439 3329 3302 3288 4209 4464 4154 4096 4955\n",
      " 4746 5140 2962 2408 3282 3139 2220 2123 2074 2065 1773 1613 1834 1955\n",
      " 2278 2126 2254 2226 4274 4385 4135 4129 3672 4633 4502 4456 4422 2330\n",
      " 3892 4098 4294 4077 2933 2511 2979 2189 2395 2288 2506 2164 2100 4100\n",
      " 3988 4042 3777 4952 4363 4237 4735 4951 3821 3121 3278 2945 3021 2904\n",
      " 1950 4997 4906 4654 4499 2789 2279 2401 2379 2124 2310 2472 2265 4082\n",
      " 4278 1867 2158 2582 2868 3399 2660 2807 3664 3102 2875 2901 3336 2451\n",
      " 1836 2542 3781 3632 3613 4141 4699 4457 4638 4257 2219 1963 2300 1649\n",
      " 2003 2125 2108 2246 2489 2391 2000 3264 3459 3432 3158 4668 4440 4498\n",
      " 4657 3907 3897 3730 3785 3039 3221 3169 2171 2639 2914 2592 2702 2223\n",
      " 2545 2984 1937 3211 2694 2957 2671 1795 2464 2572 2255 2202 4215 4190\n",
      " 3962 3233 3353 3012 3085 2035 3651 3574 3645 3193 1825 1990 2155 2565\n",
      " 3150 3940 3270 2930 3820 4380 4055 3870 3755 2045 1945 3880 4060 4140\n",
      " 4295 3520 3425 3630 3525 4220 4165 4325 4335 1940 2740 2755 2051 2075\n",
      " 1985 2190 2815 2600 2720 1800 2070 3365 3735 3570 3535 3155 2965 3430\n",
      " 3210 3380 3070 3620 3410 3445 3205 4080 2560 2230 2515 2745 2855 2405\n",
      " 2830 3140 2795 2135 3245 2990 2890 3265 3360 3840 3725 3955 3830 4360\n",
      " 4054 3605 1925 1975 1915 2670 3530 3900 3190 3420 2200 2150 2020 2595\n",
      " 2700 2556 2144 1968 2120 2019 2678 2870 3003 3381 2188 2711 2434 2110\n",
      " 2800 2085 2335 2950 3250 1850 2145 1845 2910 2420 2500 2905 2290 2490\n",
      " 2635 2620 2725 2385 1755 1875 1760 2050 2215 2380 2320 2210 2350 2615\n",
      " 3230 3160 2900 3415 3060 3465 2605 2640 2575 2525 2735 2865 3035 1980\n",
      " 2025 1970 2160 2205 2245 1965 1995 3015 2585 2835 2665 2370 2790 2295\n",
      " 2625]\n",
      "\n",
      "acceleration--------------------------\n",
      "[12.  11.5 11.  10.5 10.   9.   8.5  8.   9.5 15.  15.5 16.  14.5 20.5\n",
      " 17.5 12.5 14.  13.5 18.5 19.  13.  19.5 18.  17.  23.5 16.5 21.  16.9\n",
      " 14.9 17.7 15.3 13.9 12.8 15.4 17.6 22.2 22.1 14.2 17.4 16.2 17.8 12.2\n",
      " 16.4 13.6 15.7 13.2 21.9 16.7 12.1 14.8 18.6 16.8 13.7 11.1 11.4 18.2\n",
      " 15.8 15.9 14.1 21.5 14.4 19.4 19.2 17.2 18.7 15.1 13.4 11.2 14.7 16.6\n",
      " 17.3 15.2 14.3 20.1 24.8 11.3 12.9 18.8 18.1 17.9 21.7 23.7 19.9 21.8\n",
      " 13.8 12.6 16.1 20.7 18.3 20.4 19.6 17.1 15.6 24.6 11.6]\n",
      "\n",
      "model year--------------------------\n",
      "[70 71 72 73 74 75 76 77 78 79 80 81 82]\n",
      "\n",
      "origin--------------------------\n",
      "[1 3 2]\n",
      "\n",
      "car name--------------------------\n",
      "['chevrolet chevelle malibu' 'buick skylark 320' 'plymouth satellite'\n",
      " 'amc rebel sst' 'ford torino' 'ford galaxie 500' 'chevrolet impala'\n",
      " 'plymouth fury iii' 'pontiac catalina' 'amc ambassador dpl'\n",
      " 'dodge challenger se' \"plymouth 'cuda 340\" 'chevrolet monte carlo'\n",
      " 'buick estate wagon (sw)' 'toyota corona mark ii' 'plymouth duster'\n",
      " 'amc hornet' 'ford maverick' 'datsun pl510'\n",
      " 'volkswagen 1131 deluxe sedan' 'peugeot 504' 'audi 100 ls' 'saab 99e'\n",
      " 'bmw 2002' 'amc gremlin' 'ford f250' 'chevy c20' 'dodge d200' 'hi 1200d'\n",
      " 'chevrolet vega 2300' 'toyota corona' 'ford pinto'\n",
      " 'plymouth satellite custom' 'ford torino 500' 'amc matador'\n",
      " 'pontiac catalina brougham' 'dodge monaco (sw)'\n",
      " 'ford country squire (sw)' 'pontiac safari (sw)'\n",
      " 'amc hornet sportabout (sw)' 'chevrolet vega (sw)' 'pontiac firebird'\n",
      " 'ford mustang' 'mercury capri 2000' 'opel 1900' 'peugeot 304' 'fiat 124b'\n",
      " 'toyota corolla 1200' 'datsun 1200' 'volkswagen model 111'\n",
      " 'plymouth cricket' 'toyota corona hardtop' 'dodge colt hardtop'\n",
      " 'volkswagen type 3' 'chevrolet vega' 'ford pinto runabout'\n",
      " 'amc ambassador sst' 'mercury marquis' 'buick lesabre custom'\n",
      " 'oldsmobile delta 88 royale' 'chrysler newport royal' 'mazda rx2 coupe'\n",
      " 'amc matador (sw)' 'chevrolet chevelle concours (sw)'\n",
      " 'ford gran torino (sw)' 'plymouth satellite custom (sw)'\n",
      " 'volvo 145e (sw)' 'volkswagen 411 (sw)' 'peugeot 504 (sw)'\n",
      " 'renault 12 (sw)' 'ford pinto (sw)' 'datsun 510 (sw)'\n",
      " 'toyouta corona mark ii (sw)' 'dodge colt (sw)'\n",
      " 'toyota corolla 1600 (sw)' 'buick century 350' 'chevrolet malibu'\n",
      " 'ford gran torino' 'dodge coronet custom' 'mercury marquis brougham'\n",
      " 'chevrolet caprice classic' 'ford ltd' 'plymouth fury gran sedan'\n",
      " 'chrysler new yorker brougham' 'buick electra 225 custom'\n",
      " 'amc ambassador brougham' 'plymouth valiant' 'chevrolet nova custom'\n",
      " 'volkswagen super beetle' 'ford country' 'plymouth custom suburb'\n",
      " 'oldsmobile vista cruiser' 'toyota carina' 'datsun 610' 'maxda rx3'\n",
      " 'mercury capri v6' 'fiat 124 sport coupe' 'chevrolet monte carlo s'\n",
      " 'pontiac grand prix' 'fiat 128' 'opel manta' 'audi 100ls' 'volvo 144ea'\n",
      " 'dodge dart custom' 'saab 99le' 'toyota mark ii' 'oldsmobile omega'\n",
      " 'chevrolet nova' 'datsun b210' 'chevrolet chevelle malibu classic'\n",
      " 'plymouth satellite sebring' 'buick century luxus (sw)'\n",
      " 'dodge coronet custom (sw)' 'audi fox' 'volkswagen dasher' 'datsun 710'\n",
      " 'dodge colt' 'fiat 124 tc' 'honda civic' 'subaru' 'fiat x1.9'\n",
      " 'plymouth valiant custom' 'mercury monarch' 'chevrolet bel air'\n",
      " 'plymouth grand fury' 'buick century' 'chevroelt chevelle malibu'\n",
      " 'plymouth fury' 'buick skyhawk' 'chevrolet monza 2+2' 'ford mustang ii'\n",
      " 'toyota corolla' 'pontiac astro' 'volkswagen rabbit' 'amc pacer'\n",
      " 'volvo 244dl' 'honda civic cvcc' 'fiat 131' 'capri ii' 'renault 12tl'\n",
      " 'dodge coronet brougham' 'chevrolet chevette' 'chevrolet woody'\n",
      " 'vw rabbit' 'dodge aspen se' 'ford granada ghia' 'pontiac ventura sj'\n",
      " 'amc pacer d/l' 'datsun b-210' 'volvo 245' 'plymouth volare premier v8'\n",
      " 'mercedes-benz 280s' 'cadillac seville' 'chevy c10' 'ford f108'\n",
      " 'dodge d100' 'honda accord cvcc' 'buick opel isuzu deluxe'\n",
      " 'renault 5 gtl' 'plymouth arrow gs' 'datsun f-10 hatchback'\n",
      " 'oldsmobile cutlass supreme' 'dodge monaco brougham'\n",
      " 'mercury cougar brougham' 'chevrolet concours' 'buick skylark'\n",
      " 'plymouth volare custom' 'ford granada' 'pontiac grand prix lj'\n",
      " 'chevrolet monte carlo landau' 'chrysler cordoba' 'ford thunderbird'\n",
      " 'volkswagen rabbit custom' 'pontiac sunbird coupe'\n",
      " 'toyota corolla liftback' 'ford mustang ii 2+2' 'dodge colt m/m'\n",
      " 'subaru dl' 'datsun 810' 'bmw 320i' 'mazda rx-4'\n",
      " 'volkswagen rabbit custom diesel' 'ford fiesta' 'mazda glc deluxe'\n",
      " 'datsun b210 gx' 'oldsmobile cutlass salon brougham' 'dodge diplomat'\n",
      " 'mercury monarch ghia' 'pontiac phoenix lj' 'ford fairmont (auto)'\n",
      " 'ford fairmont (man)' 'plymouth volare' 'amc concord'\n",
      " 'buick century special' 'mercury zephyr' 'dodge aspen' 'amc concord d/l'\n",
      " 'buick regal sport coupe (turbo)' 'ford futura' 'dodge magnum xe'\n",
      " 'datsun 510' 'dodge omni' 'toyota celica gt liftback' 'plymouth sapporo'\n",
      " 'oldsmobile starfire sx' 'datsun 200-sx' 'audi 5000' 'volvo 264gl'\n",
      " 'saab 99gle' 'peugeot 604sl' 'volkswagen scirocco' 'honda accord lx'\n",
      " 'pontiac lemans v6' 'mercury zephyr 6' 'ford fairmont 4'\n",
      " 'amc concord dl 6' 'dodge aspen 6' 'ford ltd landau'\n",
      " 'mercury grand marquis' 'dodge st. regis' 'chevrolet malibu classic (sw)'\n",
      " 'chrysler lebaron town @ country (sw)' 'vw rabbit custom'\n",
      " 'maxda glc deluxe' 'dodge colt hatchback custom' 'amc spirit dl'\n",
      " 'mercedes benz 300d' 'cadillac eldorado' 'plymouth horizon'\n",
      " 'plymouth horizon tc3' 'datsun 210' 'fiat strada custom'\n",
      " 'buick skylark limited' 'chevrolet citation' 'oldsmobile omega brougham'\n",
      " 'pontiac phoenix' 'toyota corolla tercel' 'datsun 310' 'ford fairmont'\n",
      " 'audi 4000' 'toyota corona liftback' 'mazda 626' 'datsun 510 hatchback'\n",
      " 'mazda glc' 'vw rabbit c (diesel)' 'vw dasher (diesel)'\n",
      " 'audi 5000s (diesel)' 'mercedes-benz 240d' 'honda civic 1500 gl'\n",
      " 'renault lecar deluxe' 'vokswagen rabbit' 'datsun 280-zx' 'mazda rx-7 gs'\n",
      " 'triumph tr7 coupe' 'ford mustang cobra' 'honda accord'\n",
      " 'plymouth reliant' 'dodge aries wagon (sw)' 'toyota starlet'\n",
      " 'plymouth champ' 'honda civic 1300' 'datsun 210 mpg' 'toyota tercel'\n",
      " 'mazda glc 4' 'plymouth horizon 4' 'ford escort 4w' 'ford escort 2h'\n",
      " 'volkswagen jetta' 'renault 18i' 'honda prelude' 'datsun 200sx'\n",
      " 'peugeot 505s turbo diesel' 'volvo diesel' 'toyota cressida'\n",
      " 'datsun 810 maxima' 'oldsmobile cutlass ls' 'ford granada gl'\n",
      " 'chrysler lebaron salon' 'chevrolet cavalier' 'chevrolet cavalier wagon'\n",
      " 'chevrolet cavalier 2-door' 'pontiac j2000 se hatchback' 'dodge aries se'\n",
      " 'ford fairmont futura' 'amc concord dl' 'volkswagen rabbit l'\n",
      " 'mazda glc custom l' 'mazda glc custom' 'plymouth horizon miser'\n",
      " 'mercury lynx l' 'nissan stanza xe' 'honda civic (auto)' 'datsun 310 gx'\n",
      " 'buick century limited' 'oldsmobile cutlass ciera (diesel)'\n",
      " 'chrysler lebaron medallion' 'ford granada l' 'toyota celica gt'\n",
      " 'dodge charger 2.2' 'chevrolet camaro' 'ford mustang gl' 'vw pickup'\n",
      " 'dodge rampage' 'ford ranger' 'chevy s-10']\n",
      "\n"
     ]
    }
   ],
   "source": [
    "# 전체 column에 대한 unique() 고유값\n",
    "for col in mpgDF.columns:\n",
    "    print(f'{col}--------------------------\\n{mpgDF[col].unique()}\\n')"
   ]
  },
  {
   "cell_type": "code",
   "execution_count": 585,
   "id": "e65a20f5",
   "metadata": {},
   "outputs": [
    {
     "data": {
      "text/plain": [
       "dtype('O')"
      ]
     },
     "execution_count": 585,
     "metadata": {},
     "output_type": "execute_result"
    }
   ],
   "source": [
    "# horsepower 컬럼에서 타입 체크\n",
    "mpgDF['horsepower'].dtype"
   ]
  },
  {
   "cell_type": "code",
   "execution_count": 586,
   "id": "fb0cc152",
   "metadata": {},
   "outputs": [
    {
     "data": {
      "text/plain": [
       "mpg             0\n",
       "cylinders       0\n",
       "displacement    0\n",
       "horsepower      6\n",
       "weight          0\n",
       "acceleration    0\n",
       "model year      0\n",
       "origin          0\n",
       "car name        0\n",
       "dtype: int64"
      ]
     },
     "execution_count": 586,
     "metadata": {},
     "output_type": "execute_result"
    }
   ],
   "source": [
    "# horsepower 컬럼에서 다른 데이터와 다른 문자 '?' 처리\n",
    "mpgDF['horsepower'].replace('?', np.nan, inplace=True)    # '' <- 이것은 공백아님\n",
    "mpgDF.isnull().sum()"
   ]
  },
  {
   "cell_type": "code",
   "execution_count": 587,
   "id": "674f0a4e",
   "metadata": {},
   "outputs": [
    {
     "data": {
      "text/plain": [
       "mpg             0\n",
       "cylinders       0\n",
       "displacement    0\n",
       "horsepower      0\n",
       "weight          0\n",
       "acceleration    0\n",
       "model year      0\n",
       "origin          0\n",
       "car name        0\n",
       "dtype: int64"
      ]
     },
     "execution_count": 587,
     "metadata": {},
     "output_type": "execute_result"
    }
   ],
   "source": [
    "# horsepower 컬럼에서 Missing Value 처리\n",
    "# Missing Value 대체값 => 컬럼 평균 => mean()\n",
    "#mpgDF['horsepower'].fillna(mpgDF['horsepower'].mean())\n",
    "\n",
    "# Missing Value 대체값 => 컬럼 평균 => mode()\n",
    "# mpgDF['horsepower'].fillna(mpgDF['horsepower'].mode())\n",
    "\n",
    "# print(type(mpgDF['horsepower'].mode()) , mpgDF['horsepower'].mode()[0])       # 최빈값 여러개 나올 수 있어서 0번 원소 값을 뺀다?\n",
    "\n",
    "mpgDF['horsepower'].fillna(method='ffill', inplace=True)\n",
    "mpgDF.isnull().sum()"
   ]
  },
  {
   "cell_type": "markdown",
   "id": "2eb3ff00",
   "metadata": {},
   "source": [
    "#### (3-1-2) 중복 체크 및 처리"
   ]
  },
  {
   "cell_type": "code",
   "execution_count": 588,
   "id": "6e341feb",
   "metadata": {},
   "outputs": [
    {
     "data": {
      "text/plain": [
       "0"
      ]
     },
     "execution_count": 588,
     "metadata": {},
     "output_type": "execute_result"
    }
   ],
   "source": [
    "# 체크 : duplicated()                  => True/False    : 행(row)\n",
    "# 처리 : drop_duplicated()             => 파라미터 세팅\n",
    "mpgDF.duplicated().sum()"
   ]
  },
  {
   "cell_type": "code",
   "execution_count": 589,
   "id": "78e3c1bd",
   "metadata": {
    "scrolled": true
   },
   "outputs": [
    {
     "data": {
      "text/plain": [
       "mpg             0\n",
       "cylinders       0\n",
       "displacement    0\n",
       "horsepower      0\n",
       "weight          0\n",
       "acceleration    0\n",
       "model year      0\n",
       "origin          0\n",
       "car name        0\n",
       "dtype: int64"
      ]
     },
     "execution_count": 589,
     "metadata": {},
     "output_type": "execute_result"
    }
   ],
   "source": [
    "# NaN 체크\n",
    "mpgDF.isnull().sum()"
   ]
  },
  {
   "cell_type": "code",
   "execution_count": 590,
   "id": "232c5a68",
   "metadata": {},
   "outputs": [],
   "source": [
    "country=[]\n",
    "for i in mpgDF.index:\n",
    "    if mpgDF.iloc[i]['origin']==1:\n",
    "        country.append('미국')\n",
    "    elif mpgDF.iloc[i]['origin']==2:\n",
    "        country.append('유럽')\n",
    "    if mpgDF.iloc[i]['origin']==3:\n",
    "        country.append('일본') \n",
    "\n",
    "mpgDF['제조국']=country"
   ]
  },
  {
   "cell_type": "code",
   "execution_count": 591,
   "id": "9ba5146e",
   "metadata": {},
   "outputs": [],
   "source": [
    "# mpgDF.replace({'origin':{1:'미국',2:'유럽',3:'일본'}})"
   ]
  },
  {
   "cell_type": "code",
   "execution_count": 592,
   "id": "1fbea49c",
   "metadata": {},
   "outputs": [
    {
     "data": {
      "text/plain": [
       "mpg             0\n",
       "cylinders       0\n",
       "displacement    0\n",
       "horsepower      0\n",
       "weight          0\n",
       "acceleration    0\n",
       "model year      0\n",
       "origin          0\n",
       "car name        0\n",
       "제조국             0\n",
       "dtype: int64"
      ]
     },
     "execution_count": 592,
     "metadata": {},
     "output_type": "execute_result"
    }
   ],
   "source": [
    "# NaN 체크\n",
    "mpgDF.isnull().sum()"
   ]
  },
  {
   "cell_type": "code",
   "execution_count": 593,
   "id": "99f19262",
   "metadata": {},
   "outputs": [
    {
     "data": {
      "text/plain": [
       "0      130\n",
       "1      165\n",
       "2      150\n",
       "3      150\n",
       "4      140\n",
       "      ... \n",
       "393     86\n",
       "394     52\n",
       "395     84\n",
       "396     79\n",
       "397     82\n",
       "Name: horsepower, Length: 398, dtype: object"
      ]
     },
     "execution_count": 593,
     "metadata": {},
     "output_type": "execute_result"
    }
   ],
   "source": [
    "# (3) 데이터 전처리\n",
    "# 데이터 --- 데이터 타입 맞도록 설정\n",
    "mpgDF.horsepower"
   ]
  },
  {
   "cell_type": "code",
   "execution_count": 594,
   "id": "3328368c",
   "metadata": {},
   "outputs": [
    {
     "data": {
      "text/plain": [
       "array(['130', '165', '150', '140', '198', '220', '215', '225', '190',\n",
       "       '170', '160', '95', '97', '85', '88', '46', '87', '90', '113',\n",
       "       '200', '210', '193', '100', '105', '175', '153', '180', '110',\n",
       "       '72', '86', '70', '76', '65', '69', '60', '80', '54', '208', '155',\n",
       "       '112', '92', '145', '137', '158', '167', '94', '107', '230', '49',\n",
       "       '75', '91', '122', '67', '83', '78', '52', '61', '93', '148',\n",
       "       '129', '96', '71', '98', '115', '53', '81', '79', '120', '152',\n",
       "       '102', '108', '68', '58', '149', '89', '63', '48', '66', '139',\n",
       "       '103', '125', '133', '138', '135', '142', '77', '62', '132', '84',\n",
       "       '64', '74', '116', '82'], dtype=object)"
      ]
     },
     "execution_count": 594,
     "metadata": {},
     "output_type": "execute_result"
    }
   ],
   "source": [
    "# 타입 변경 => astype( 타입 )\n",
    "# (1) 데이터의 고유값 확인\n",
    "mpgDF.horsepower.unique()"
   ]
  },
  {
   "cell_type": "code",
   "execution_count": 595,
   "id": "9a5735e9",
   "metadata": {},
   "outputs": [
    {
     "data": {
      "text/plain": [
       "array(['130', '165', '150', '140', '198', '220', '215', '225', '190',\n",
       "       '170', '160', '95', '97', '85', '88', '46', '87', '90', '113',\n",
       "       '200', '210', '193', '100', '105', '175', '153', '180', '110',\n",
       "       '72', '86', '70', '76', '65', '69', '60', '80', '54', '208', '155',\n",
       "       '112', '92', '145', '137', '158', '167', '94', '107', '230', '49',\n",
       "       '75', '91', '122', '67', '83', '78', '52', '61', '93', '148',\n",
       "       '129', '96', '71', '98', '115', '53', '81', '79', '120', '152',\n",
       "       '102', '108', '68', '58', '149', '89', '63', '48', '66', '139',\n",
       "       '103', '125', '133', '138', '135', '142', '77', '62', '132', '84',\n",
       "       '64', '74', '116', '82'], dtype=object)"
      ]
     },
     "execution_count": 595,
     "metadata": {},
     "output_type": "execute_result"
    }
   ],
   "source": [
    "# (2) 문제가 되는 데이터를 NaN으로 변경하기 => replace(원래값, 새로운 값)\n",
    "# NaN 상수 사용을 위해서 Numpy 모듈 포함\n",
    "import numpy as np\n",
    "\n",
    "mpgDF.horsepower.replace('?', np.nan, inplace=True)\n",
    "mpgDF.horsepower.unique()"
   ]
  },
  {
   "cell_type": "code",
   "execution_count": 596,
   "id": "37ce5951",
   "metadata": {},
   "outputs": [
    {
     "data": {
      "text/plain": [
       "mpg             0\n",
       "cylinders       0\n",
       "displacement    0\n",
       "horsepower      0\n",
       "weight          0\n",
       "acceleration    0\n",
       "model year      0\n",
       "origin          0\n",
       "car name        0\n",
       "제조국             0\n",
       "dtype: int64"
      ]
     },
     "execution_count": 596,
     "metadata": {},
     "output_type": "execute_result"
    }
   ],
   "source": [
    "# NaN 체크\n",
    "mpgDF.isnull().sum()"
   ]
  },
  {
   "cell_type": "code",
   "execution_count": 597,
   "id": "a05d5133",
   "metadata": {},
   "outputs": [
    {
     "data": {
      "text/plain": [
       "mpg             0\n",
       "cylinders       0\n",
       "displacement    0\n",
       "horsepower      0\n",
       "weight          0\n",
       "acceleration    0\n",
       "model year      0\n",
       "origin          0\n",
       "car name        0\n",
       "제조국             0\n",
       "dtype: int64"
      ]
     },
     "execution_count": 597,
     "metadata": {},
     "output_type": "execute_result"
    }
   ],
   "source": [
    "# NaN => 0으로 채우기\n",
    "mpgDF.fillna(0, inplace=True)\n",
    "mpgDF.isnull().sum()"
   ]
  },
  {
   "cell_type": "code",
   "execution_count": 598,
   "id": "badc00c6",
   "metadata": {},
   "outputs": [],
   "source": [
    "# horsepower 컬럼을 object => int로 타입 변경 : astype()\n",
    "mpgDF.horsepower=mpgDF.horsepower.astype(int)"
   ]
  },
  {
   "cell_type": "code",
   "execution_count": 599,
   "id": "3ed8e345",
   "metadata": {},
   "outputs": [
    {
     "name": "stdout",
     "output_type": "stream",
     "text": [
      "<class 'pandas.core.frame.DataFrame'>\n",
      "RangeIndex: 398 entries, 0 to 397\n",
      "Data columns (total 10 columns):\n",
      " #   Column        Non-Null Count  Dtype  \n",
      "---  ------        --------------  -----  \n",
      " 0   mpg           398 non-null    float64\n",
      " 1   cylinders     398 non-null    int64  \n",
      " 2   displacement  398 non-null    float64\n",
      " 3   horsepower    398 non-null    int32  \n",
      " 4   weight        398 non-null    int64  \n",
      " 5   acceleration  398 non-null    float64\n",
      " 6   model year    398 non-null    int64  \n",
      " 7   origin        398 non-null    int64  \n",
      " 8   car name      398 non-null    object \n",
      " 9   제조국           398 non-null    object \n",
      "dtypes: float64(3), int32(1), int64(4), object(2)\n",
      "memory usage: 29.7+ KB\n"
     ]
    }
   ],
   "source": [
    "# 요약 정보 확인\n",
    "mpgDF.info()"
   ]
  },
  {
   "cell_type": "markdown",
   "id": "46677569",
   "metadata": {},
   "source": [
    "#### (3-2) 데이터표준화 => 단위/ 자료형\n",
    "\n",
    "- Km/L = mpg * 0.425"
   ]
  },
  {
   "cell_type": "markdown",
   "id": "300609fe",
   "metadata": {},
   "source": [
    "#### (3-2-1) mpg ==> kml 단위 변환값 컬럼 추가 - Km/L = mpg * 0.425"
   ]
  },
  {
   "cell_type": "code",
   "execution_count": 600,
   "id": "9ff3a704",
   "metadata": {},
   "outputs": [
    {
     "data": {
      "text/plain": [
       "Index(['mpg', 'kml', 'cylinders', 'displacement', 'horsepower', 'weight',\n",
       "       'acceleration', 'model year', 'origin', 'car name', '제조국', 'Kml'],\n",
       "      dtype='object')"
      ]
     },
     "execution_count": 600,
     "metadata": {},
     "output_type": "execute_result"
    }
   ],
   "source": [
    "# DF의 제일 마지막 추가\n",
    "mpgDF['Kml']=mpgDF['mpg']*0.425\n",
    "\n",
    "# DF의 원하는 위치에 추가 => insert(정수위치번호(인덱스?), 컬럼명, 데이터)\n",
    "mpgDF.insert(1, 'kml', mpgDF['mpg']*0.425)\n",
    "mpgDF.columns"
   ]
  },
  {
   "cell_type": "markdown",
   "id": "9d0b86a3",
   "metadata": {},
   "source": [
    "###### (3-2-2) origin 컬럼에 대한  origin_label 컬럼 추가 및 자료형 설정\n",
    "\n",
    "- 1: USA, 2 : EU, 3: JPA"
   ]
  },
  {
   "cell_type": "code",
   "execution_count": 601,
   "id": "38cd96ec",
   "metadata": {},
   "outputs": [
    {
     "data": {
      "text/plain": [
       "array([1, 3, 2], dtype=int64)"
      ]
     },
     "execution_count": 601,
     "metadata": {},
     "output_type": "execute_result"
    }
   ],
   "source": [
    "mpgDF['origin'].unique()"
   ]
  },
  {
   "cell_type": "code",
   "execution_count": 602,
   "id": "3eaeceb1",
   "metadata": {},
   "outputs": [
    {
     "data": {
      "text/plain": [
       "Index(['mpg', 'kml', 'cylinders', 'displacement', 'horsepower', 'weight',\n",
       "       'acceleration', 'model year', 'origin', 'origin_label', 'car name',\n",
       "       '제조국', 'Kml'],\n",
       "      dtype='object')"
      ]
     },
     "execution_count": 602,
     "metadata": {},
     "output_type": "execute_result"
    }
   ],
   "source": [
    "# origin 컬럼 라벨 데이터 생성\n",
    "originLabel=mpgDF['origin'].replace({1:'USA',2:'EU',3:'JPA'})\n",
    "\n",
    "# DF에 컬럼 추가       # 이름을 알고 값을 빼는 거 연구해보기 \n",
    "mpgDF.insert(9, 'origin_label', originLabel)\n",
    "mpgDF.columns"
   ]
  },
  {
   "cell_type": "code",
   "execution_count": 603,
   "id": "db97cdc0",
   "metadata": {},
   "outputs": [
    {
     "data": {
      "text/plain": [
       "mpg             float64\n",
       "kml             float64\n",
       "cylinders         int64\n",
       "displacement    float64\n",
       "horsepower        int32\n",
       "weight            int64\n",
       "acceleration    float64\n",
       "model year        int64\n",
       "origin            int64\n",
       "origin_label     object\n",
       "car name         object\n",
       "제조국              object\n",
       "Kml             float64\n",
       "dtype: object"
      ]
     },
     "execution_count": 603,
     "metadata": {},
     "output_type": "execute_result"
    }
   ],
   "source": [
    "mpgDF.dtypes"
   ]
  },
  {
   "cell_type": "code",
   "execution_count": 1,
   "id": "ddca92de",
   "metadata": {},
   "outputs": [
    {
     "ename": "NameError",
     "evalue": "name 'mpgDF' is not defined",
     "output_type": "error",
     "traceback": [
      "\u001b[1;31m---------------------------------------------------------------------------\u001b[0m",
      "\u001b[1;31mNameError\u001b[0m                                 Traceback (most recent call last)",
      "Input \u001b[1;32mIn [1]\u001b[0m, in \u001b[0;36m<cell line: 2>\u001b[1;34m()\u001b[0m\n\u001b[0;32m      1\u001b[0m \u001b[38;5;66;03m# origin, origin_label int64/ object 기본자료형 => 범주형 category\u001b[39;00m\n\u001b[1;32m----> 2\u001b[0m mpgDF[[\u001b[38;5;124m'\u001b[39m\u001b[38;5;124morigin\u001b[39m\u001b[38;5;124m'\u001b[39m,\u001b[38;5;124m'\u001b[39m\u001b[38;5;124morigin_label\u001b[39m\u001b[38;5;124m'\u001b[39m]]\u001b[38;5;241m=\u001b[39m\u001b[43mmpgDF\u001b[49m[[\u001b[38;5;124m'\u001b[39m\u001b[38;5;124morigin\u001b[39m\u001b[38;5;124m'\u001b[39m,\u001b[38;5;124m'\u001b[39m\u001b[38;5;124morigin_label\u001b[39m\u001b[38;5;124m'\u001b[39m]]\u001b[38;5;241m.\u001b[39mastype(\u001b[38;5;124m'\u001b[39m\u001b[38;5;124mcategory\u001b[39m\u001b[38;5;124m'\u001b[39m)\n\u001b[0;32m      3\u001b[0m mpgDF\u001b[38;5;241m.\u001b[39mdtypes\n",
      "\u001b[1;31mNameError\u001b[0m: name 'mpgDF' is not defined"
     ]
    }
   ],
   "source": [
    "# origin, origin_label int64/ object 기본자료형 => 범주형 category\n",
    "mpgDF[['origin','origin_label']]=mpgDF[['origin','origin_label']].astype('category')\n",
    "mpgDF.dtypes"
   ]
  },
  {
   "cell_type": "code",
   "execution_count": 605,
   "id": "ec944698",
   "metadata": {},
   "outputs": [],
   "source": [
    "# origin, origin_label int64/ object 기본자료형 => 범주형 category (다시 object로 바꿔줌)\n",
    "mpgDF[['origin','origin_label']]=mpgDF[['origin','origin_label']].astype('str')"
   ]
  },
  {
   "cell_type": "code",
   "execution_count": 606,
   "id": "e98201ef",
   "metadata": {},
   "outputs": [
    {
     "data": {
      "text/plain": [
       "mpg             float64\n",
       "kml             float64\n",
       "cylinders         int64\n",
       "displacement    float64\n",
       "horsepower        int32\n",
       "weight            int64\n",
       "acceleration    float64\n",
       "model year        int64\n",
       "origin           object\n",
       "origin_label     object\n",
       "car name         object\n",
       "제조국              object\n",
       "Kml             float64\n",
       "dtype: object"
      ]
     },
     "execution_count": 606,
     "metadata": {},
     "output_type": "execute_result"
    }
   ],
   "source": [
    "mpgDF.dtypes"
   ]
  },
  {
   "cell_type": "code",
   "execution_count": 607,
   "id": "a09af238",
   "metadata": {},
   "outputs": [
    {
     "data": {
      "text/plain": [
       "0      1\n",
       "1      1\n",
       "2      1\n",
       "3      1\n",
       "4      1\n",
       "      ..\n",
       "393    1\n",
       "394    2\n",
       "395    1\n",
       "396    1\n",
       "397    1\n",
       "Name: origin, Length: 398, dtype: object"
      ]
     },
     "execution_count": 607,
     "metadata": {},
     "output_type": "execute_result"
    }
   ],
   "source": [
    "mpgDF['origin']"
   ]
  },
  {
   "cell_type": "markdown",
   "id": "7305a4a1",
   "metadata": {},
   "source": [
    "###### (3-2-4) horsepower 컬럼에 대한 "
   ]
  },
  {
   "cell_type": "code",
   "execution_count": 608,
   "id": "fe22494d",
   "metadata": {},
   "outputs": [
    {
     "data": {
      "text/plain": [
       "array([130, 165, 150, 140, 198, 220, 215, 225, 190, 170, 160,  95,  97,\n",
       "        85,  88,  46,  87,  90, 113, 200, 210, 193, 100, 105, 175, 153,\n",
       "       180, 110,  72,  86,  70,  76,  65,  69,  60,  80,  54, 208, 155,\n",
       "       112,  92, 145, 137, 158, 167,  94, 107, 230,  49,  75,  91, 122,\n",
       "        67,  83,  78,  52,  61,  93, 148, 129,  96,  71,  98, 115,  53,\n",
       "        81,  79, 120, 152, 102, 108,  68,  58, 149,  89,  63,  48,  66,\n",
       "       139, 103, 125, 133, 138, 135, 142,  77,  62, 132,  84,  64,  74,\n",
       "       116,  82])"
      ]
     },
     "execution_count": 608,
     "metadata": {},
     "output_type": "execute_result"
    }
   ],
   "source": [
    "# horsepower 컬럼에 대한 데이터 값 확인\n",
    "mpgDF['horsepower'].unique()"
   ]
  },
  {
   "cell_type": "code",
   "execution_count": 609,
   "id": "e4e5038a",
   "metadata": {},
   "outputs": [],
   "source": [
    "# horsepower 컬럼 타입 변경 object => int\n",
    "mpgDF['horsepower'].astype('int')\n",
    "\n",
    "mpgDF['horsepower']=pd.to_numeric(mpgDF['horsepower'],\n",
    "                                  errors='coerce',             # 'coerce'인 경우 잘못된 구문 분석이 NaN으로 설정\n",
    "                                  downcast='integer')          # to_numeric 으로 수치 타입으로 바꿀 수 있음\n",
    "                                                                # signed,  정수 부호 있고 ???\n",
    "                                                                # unsigned , 정수 부호 없다 ???"
   ]
  },
  {
   "cell_type": "code",
   "execution_count": 610,
   "id": "789c1272",
   "metadata": {},
   "outputs": [
    {
     "data": {
      "text/plain": [
       "mpg             float64\n",
       "kml             float64\n",
       "cylinders         int64\n",
       "displacement    float64\n",
       "horsepower        int16\n",
       "weight            int64\n",
       "acceleration    float64\n",
       "model year        int64\n",
       "origin           object\n",
       "origin_label     object\n",
       "car name         object\n",
       "제조국              object\n",
       "Kml             float64\n",
       "dtype: object"
      ]
     },
     "execution_count": 610,
     "metadata": {},
     "output_type": "execute_result"
    }
   ],
   "source": [
    "mpgDF.dtypes"
   ]
  },
  {
   "cell_type": "code",
   "execution_count": 611,
   "id": "2c5f06c3",
   "metadata": {},
   "outputs": [
    {
     "data": {
      "text/plain": [
       "0      130\n",
       "1      165\n",
       "2      150\n",
       "3      150\n",
       "4      140\n",
       "      ... \n",
       "393     86\n",
       "394     52\n",
       "395     84\n",
       "396     79\n",
       "397     82\n",
       "Name: horsepower, Length: 398, dtype: int16"
      ]
     },
     "execution_count": 611,
     "metadata": {},
     "output_type": "execute_result"
    }
   ],
   "source": [
    "mpgDF.horsepower"
   ]
  },
  {
   "cell_type": "code",
   "execution_count": 612,
   "id": "2dc17dd2",
   "metadata": {},
   "outputs": [],
   "source": [
    "# horsepower 컬럼 타입 변경 int 연속형 ==> 범주형 category 변환\n",
    "# 구간 => 라벨 horsepower_low, horsepower_normal, horsepower_high\n",
    "mpgDF['horsepower_label']=pd.cut(x=mpgDF['horsepower'],\n",
    "                           bins=3,\n",
    "                           labels=['horsepower_low', 'horsepower_normal', 'horsepower_high'],\n",
    "                           include_lowest=True)"
   ]
  },
  {
   "cell_type": "code",
   "execution_count": 613,
   "id": "7525a106",
   "metadata": {},
   "outputs": [
    {
     "data": {
      "text/plain": [
       "horsepower_low       263\n",
       "horsepower_normal    103\n",
       "horsepower_high       32\n",
       "Name: horsepower_label, dtype: int64"
      ]
     },
     "execution_count": 613,
     "metadata": {},
     "output_type": "execute_result"
    }
   ],
   "source": [
    "mpgDF['horsepower_label'].value_counts()"
   ]
  },
  {
   "cell_type": "code",
   "execution_count": 614,
   "id": "2e2f267c",
   "metadata": {},
   "outputs": [
    {
     "name": "stdout",
     "output_type": "stream",
     "text": [
      "<class 'pandas.core.frame.DataFrame'>\n",
      "RangeIndex: 398 entries, 0 to 397\n",
      "Data columns (total 14 columns):\n",
      " #   Column            Non-Null Count  Dtype   \n",
      "---  ------            --------------  -----   \n",
      " 0   mpg               398 non-null    float64 \n",
      " 1   kml               398 non-null    float64 \n",
      " 2   cylinders         398 non-null    int64   \n",
      " 3   displacement      398 non-null    float64 \n",
      " 4   horsepower        398 non-null    int16   \n",
      " 5   weight            398 non-null    int64   \n",
      " 6   acceleration      398 non-null    float64 \n",
      " 7   model year        398 non-null    int64   \n",
      " 8   origin            398 non-null    object  \n",
      " 9   origin_label      398 non-null    object  \n",
      " 10  car name          398 non-null    object  \n",
      " 11  제조국               398 non-null    object  \n",
      " 12  Kml               398 non-null    float64 \n",
      " 13  horsepower_label  398 non-null    category\n",
      "dtypes: category(1), float64(5), int16(1), int64(3), object(4)\n",
      "memory usage: 38.7+ KB\n"
     ]
    }
   ],
   "source": [
    "mpgDF['horsepower_label']=mpgDF['horsepower_label'].astype('category')\n",
    "mpgDF.info()"
   ]
  },
  {
   "cell_type": "code",
   "execution_count": 615,
   "id": "a61673b2",
   "metadata": {},
   "outputs": [
    {
     "data": {
      "text/plain": [
       "395    horsepower_low\n",
       "396    horsepower_low\n",
       "397    horsepower_low\n",
       "Name: horsepower_label, dtype: category\n",
       "Categories (3, object): ['horsepower_low' < 'horsepower_normal' < 'horsepower_high']"
      ]
     },
     "execution_count": 615,
     "metadata": {},
     "output_type": "execute_result"
    }
   ],
   "source": [
    "mpgDF['horsepower_label'].tail(3)"
   ]
  },
  {
   "cell_type": "code",
   "execution_count": 616,
   "id": "b681cbd4",
   "metadata": {},
   "outputs": [],
   "source": [
    "# mpgDF.insert(5,'horsepower_label', mpgDF['horsepower_label'])\n",
    "# mpgDF['horsepower_label']"
   ]
  },
  {
   "cell_type": "code",
   "execution_count": 617,
   "id": "a45dd43a",
   "metadata": {},
   "outputs": [],
   "source": [
    "# horsepower 컬럼의 One-Hot-Encoding 변환 => pandas.get_dummies()\n",
    "oneHot=pd.get_dummies(mpgDF['horsepower_label'])"
   ]
  },
  {
   "cell_type": "code",
   "execution_count": 618,
   "id": "16ad366e",
   "metadata": {},
   "outputs": [
    {
     "data": {
      "text/html": [
       "<div>\n",
       "<style scoped>\n",
       "    .dataframe tbody tr th:only-of-type {\n",
       "        vertical-align: middle;\n",
       "    }\n",
       "\n",
       "    .dataframe tbody tr th {\n",
       "        vertical-align: top;\n",
       "    }\n",
       "\n",
       "    .dataframe thead th {\n",
       "        text-align: right;\n",
       "    }\n",
       "</style>\n",
       "<table border=\"1\" class=\"dataframe\">\n",
       "  <thead>\n",
       "    <tr style=\"text-align: right;\">\n",
       "      <th></th>\n",
       "      <th>mpg</th>\n",
       "      <th>kml</th>\n",
       "      <th>cylinders</th>\n",
       "      <th>displacement</th>\n",
       "      <th>horsepower</th>\n",
       "      <th>weight</th>\n",
       "      <th>acceleration</th>\n",
       "      <th>model year</th>\n",
       "      <th>origin</th>\n",
       "      <th>origin_label</th>\n",
       "      <th>car name</th>\n",
       "      <th>제조국</th>\n",
       "      <th>Kml</th>\n",
       "      <th>horsepower_label</th>\n",
       "      <th>horsepower_low</th>\n",
       "      <th>horsepower_normal</th>\n",
       "      <th>horsepower_high</th>\n",
       "    </tr>\n",
       "  </thead>\n",
       "  <tbody>\n",
       "    <tr>\n",
       "      <th>0</th>\n",
       "      <td>18.0</td>\n",
       "      <td>7.650</td>\n",
       "      <td>8</td>\n",
       "      <td>307.0</td>\n",
       "      <td>130</td>\n",
       "      <td>3504</td>\n",
       "      <td>12.0</td>\n",
       "      <td>70</td>\n",
       "      <td>1</td>\n",
       "      <td>USA</td>\n",
       "      <td>chevrolet chevelle malibu</td>\n",
       "      <td>미국</td>\n",
       "      <td>7.650</td>\n",
       "      <td>horsepower_normal</td>\n",
       "      <td>0</td>\n",
       "      <td>1</td>\n",
       "      <td>0</td>\n",
       "    </tr>\n",
       "    <tr>\n",
       "      <th>1</th>\n",
       "      <td>15.0</td>\n",
       "      <td>6.375</td>\n",
       "      <td>8</td>\n",
       "      <td>350.0</td>\n",
       "      <td>165</td>\n",
       "      <td>3693</td>\n",
       "      <td>11.5</td>\n",
       "      <td>70</td>\n",
       "      <td>1</td>\n",
       "      <td>USA</td>\n",
       "      <td>buick skylark 320</td>\n",
       "      <td>미국</td>\n",
       "      <td>6.375</td>\n",
       "      <td>horsepower_normal</td>\n",
       "      <td>0</td>\n",
       "      <td>1</td>\n",
       "      <td>0</td>\n",
       "    </tr>\n",
       "    <tr>\n",
       "      <th>2</th>\n",
       "      <td>18.0</td>\n",
       "      <td>7.650</td>\n",
       "      <td>8</td>\n",
       "      <td>318.0</td>\n",
       "      <td>150</td>\n",
       "      <td>3436</td>\n",
       "      <td>11.0</td>\n",
       "      <td>70</td>\n",
       "      <td>1</td>\n",
       "      <td>USA</td>\n",
       "      <td>plymouth satellite</td>\n",
       "      <td>미국</td>\n",
       "      <td>7.650</td>\n",
       "      <td>horsepower_normal</td>\n",
       "      <td>0</td>\n",
       "      <td>1</td>\n",
       "      <td>0</td>\n",
       "    </tr>\n",
       "    <tr>\n",
       "      <th>3</th>\n",
       "      <td>16.0</td>\n",
       "      <td>6.800</td>\n",
       "      <td>8</td>\n",
       "      <td>304.0</td>\n",
       "      <td>150</td>\n",
       "      <td>3433</td>\n",
       "      <td>12.0</td>\n",
       "      <td>70</td>\n",
       "      <td>1</td>\n",
       "      <td>USA</td>\n",
       "      <td>amc rebel sst</td>\n",
       "      <td>미국</td>\n",
       "      <td>6.800</td>\n",
       "      <td>horsepower_normal</td>\n",
       "      <td>0</td>\n",
       "      <td>1</td>\n",
       "      <td>0</td>\n",
       "    </tr>\n",
       "    <tr>\n",
       "      <th>4</th>\n",
       "      <td>17.0</td>\n",
       "      <td>7.225</td>\n",
       "      <td>8</td>\n",
       "      <td>302.0</td>\n",
       "      <td>140</td>\n",
       "      <td>3449</td>\n",
       "      <td>10.5</td>\n",
       "      <td>70</td>\n",
       "      <td>1</td>\n",
       "      <td>USA</td>\n",
       "      <td>ford torino</td>\n",
       "      <td>미국</td>\n",
       "      <td>7.225</td>\n",
       "      <td>horsepower_normal</td>\n",
       "      <td>0</td>\n",
       "      <td>1</td>\n",
       "      <td>0</td>\n",
       "    </tr>\n",
       "    <tr>\n",
       "      <th>...</th>\n",
       "      <td>...</td>\n",
       "      <td>...</td>\n",
       "      <td>...</td>\n",
       "      <td>...</td>\n",
       "      <td>...</td>\n",
       "      <td>...</td>\n",
       "      <td>...</td>\n",
       "      <td>...</td>\n",
       "      <td>...</td>\n",
       "      <td>...</td>\n",
       "      <td>...</td>\n",
       "      <td>...</td>\n",
       "      <td>...</td>\n",
       "      <td>...</td>\n",
       "      <td>...</td>\n",
       "      <td>...</td>\n",
       "      <td>...</td>\n",
       "    </tr>\n",
       "    <tr>\n",
       "      <th>393</th>\n",
       "      <td>27.0</td>\n",
       "      <td>11.475</td>\n",
       "      <td>4</td>\n",
       "      <td>140.0</td>\n",
       "      <td>86</td>\n",
       "      <td>2790</td>\n",
       "      <td>15.6</td>\n",
       "      <td>82</td>\n",
       "      <td>1</td>\n",
       "      <td>USA</td>\n",
       "      <td>ford mustang gl</td>\n",
       "      <td>미국</td>\n",
       "      <td>11.475</td>\n",
       "      <td>horsepower_low</td>\n",
       "      <td>1</td>\n",
       "      <td>0</td>\n",
       "      <td>0</td>\n",
       "    </tr>\n",
       "    <tr>\n",
       "      <th>394</th>\n",
       "      <td>44.0</td>\n",
       "      <td>18.700</td>\n",
       "      <td>4</td>\n",
       "      <td>97.0</td>\n",
       "      <td>52</td>\n",
       "      <td>2130</td>\n",
       "      <td>24.6</td>\n",
       "      <td>82</td>\n",
       "      <td>2</td>\n",
       "      <td>EU</td>\n",
       "      <td>vw pickup</td>\n",
       "      <td>유럽</td>\n",
       "      <td>18.700</td>\n",
       "      <td>horsepower_low</td>\n",
       "      <td>1</td>\n",
       "      <td>0</td>\n",
       "      <td>0</td>\n",
       "    </tr>\n",
       "    <tr>\n",
       "      <th>395</th>\n",
       "      <td>32.0</td>\n",
       "      <td>13.600</td>\n",
       "      <td>4</td>\n",
       "      <td>135.0</td>\n",
       "      <td>84</td>\n",
       "      <td>2295</td>\n",
       "      <td>11.6</td>\n",
       "      <td>82</td>\n",
       "      <td>1</td>\n",
       "      <td>USA</td>\n",
       "      <td>dodge rampage</td>\n",
       "      <td>미국</td>\n",
       "      <td>13.600</td>\n",
       "      <td>horsepower_low</td>\n",
       "      <td>1</td>\n",
       "      <td>0</td>\n",
       "      <td>0</td>\n",
       "    </tr>\n",
       "    <tr>\n",
       "      <th>396</th>\n",
       "      <td>28.0</td>\n",
       "      <td>11.900</td>\n",
       "      <td>4</td>\n",
       "      <td>120.0</td>\n",
       "      <td>79</td>\n",
       "      <td>2625</td>\n",
       "      <td>18.6</td>\n",
       "      <td>82</td>\n",
       "      <td>1</td>\n",
       "      <td>USA</td>\n",
       "      <td>ford ranger</td>\n",
       "      <td>미국</td>\n",
       "      <td>11.900</td>\n",
       "      <td>horsepower_low</td>\n",
       "      <td>1</td>\n",
       "      <td>0</td>\n",
       "      <td>0</td>\n",
       "    </tr>\n",
       "    <tr>\n",
       "      <th>397</th>\n",
       "      <td>31.0</td>\n",
       "      <td>13.175</td>\n",
       "      <td>4</td>\n",
       "      <td>119.0</td>\n",
       "      <td>82</td>\n",
       "      <td>2720</td>\n",
       "      <td>19.4</td>\n",
       "      <td>82</td>\n",
       "      <td>1</td>\n",
       "      <td>USA</td>\n",
       "      <td>chevy s-10</td>\n",
       "      <td>미국</td>\n",
       "      <td>13.175</td>\n",
       "      <td>horsepower_low</td>\n",
       "      <td>1</td>\n",
       "      <td>0</td>\n",
       "      <td>0</td>\n",
       "    </tr>\n",
       "  </tbody>\n",
       "</table>\n",
       "<p>398 rows × 17 columns</p>\n",
       "</div>"
      ],
      "text/plain": [
       "      mpg     kml  cylinders  displacement  horsepower  weight  acceleration  \\\n",
       "0    18.0   7.650          8         307.0         130    3504          12.0   \n",
       "1    15.0   6.375          8         350.0         165    3693          11.5   \n",
       "2    18.0   7.650          8         318.0         150    3436          11.0   \n",
       "3    16.0   6.800          8         304.0         150    3433          12.0   \n",
       "4    17.0   7.225          8         302.0         140    3449          10.5   \n",
       "..    ...     ...        ...           ...         ...     ...           ...   \n",
       "393  27.0  11.475          4         140.0          86    2790          15.6   \n",
       "394  44.0  18.700          4          97.0          52    2130          24.6   \n",
       "395  32.0  13.600          4         135.0          84    2295          11.6   \n",
       "396  28.0  11.900          4         120.0          79    2625          18.6   \n",
       "397  31.0  13.175          4         119.0          82    2720          19.4   \n",
       "\n",
       "     model year origin origin_label                   car name 제조국     Kml  \\\n",
       "0            70      1          USA  chevrolet chevelle malibu  미국   7.650   \n",
       "1            70      1          USA          buick skylark 320  미국   6.375   \n",
       "2            70      1          USA         plymouth satellite  미국   7.650   \n",
       "3            70      1          USA              amc rebel sst  미국   6.800   \n",
       "4            70      1          USA                ford torino  미국   7.225   \n",
       "..          ...    ...          ...                        ...  ..     ...   \n",
       "393          82      1          USA            ford mustang gl  미국  11.475   \n",
       "394          82      2           EU                  vw pickup  유럽  18.700   \n",
       "395          82      1          USA              dodge rampage  미국  13.600   \n",
       "396          82      1          USA                ford ranger  미국  11.900   \n",
       "397          82      1          USA                 chevy s-10  미국  13.175   \n",
       "\n",
       "      horsepower_label  horsepower_low  horsepower_normal  horsepower_high  \n",
       "0    horsepower_normal               0                  1                0  \n",
       "1    horsepower_normal               0                  1                0  \n",
       "2    horsepower_normal               0                  1                0  \n",
       "3    horsepower_normal               0                  1                0  \n",
       "4    horsepower_normal               0                  1                0  \n",
       "..                 ...             ...                ...              ...  \n",
       "393     horsepower_low               1                  0                0  \n",
       "394     horsepower_low               1                  0                0  \n",
       "395     horsepower_low               1                  0                0  \n",
       "396     horsepower_low               1                  0                0  \n",
       "397     horsepower_low               1                  0                0  \n",
       "\n",
       "[398 rows x 17 columns]"
      ]
     },
     "execution_count": 618,
     "metadata": {},
     "output_type": "execute_result"
    }
   ],
   "source": [
    "pd.concat([mpgDF,oneHot], axis=1)"
   ]
  },
  {
   "cell_type": "markdown",
   "id": "dcc3135c",
   "metadata": {},
   "source": [
    "###### (3-3) 데이터정규화"
   ]
  },
  {
   "cell_type": "code",
   "execution_count": 619,
   "id": "a40f5da3",
   "metadata": {},
   "outputs": [],
   "source": [
    "# mpg -> Km/L 로 단위 변환\n",
    "mpg=[]\n",
    "for i in mpgDF.index:\n",
    "    mpg.append(mpgDF.iloc[i]['mpg'])\n",
    "\n",
    "L=[]\n",
    "for j in mpg:\n",
    "    km=j*0.425\n",
    "    L.append(km)\n",
    "    \n",
    "mpgDF['Km/L']=L"
   ]
  },
  {
   "cell_type": "code",
   "execution_count": 620,
   "id": "5c49a17d",
   "metadata": {},
   "outputs": [
    {
     "data": {
      "text/html": [
       "<div>\n",
       "<style scoped>\n",
       "    .dataframe tbody tr th:only-of-type {\n",
       "        vertical-align: middle;\n",
       "    }\n",
       "\n",
       "    .dataframe tbody tr th {\n",
       "        vertical-align: top;\n",
       "    }\n",
       "\n",
       "    .dataframe thead th {\n",
       "        text-align: right;\n",
       "    }\n",
       "</style>\n",
       "<table border=\"1\" class=\"dataframe\">\n",
       "  <thead>\n",
       "    <tr style=\"text-align: right;\">\n",
       "      <th></th>\n",
       "      <th>mpg</th>\n",
       "      <th>kml</th>\n",
       "      <th>cylinders</th>\n",
       "      <th>displacement</th>\n",
       "      <th>horsepower</th>\n",
       "      <th>weight</th>\n",
       "      <th>acceleration</th>\n",
       "      <th>model year</th>\n",
       "      <th>origin</th>\n",
       "      <th>origin_label</th>\n",
       "      <th>car name</th>\n",
       "      <th>제조국</th>\n",
       "      <th>Kml</th>\n",
       "      <th>horsepower_label</th>\n",
       "      <th>Km/L</th>\n",
       "    </tr>\n",
       "  </thead>\n",
       "  <tbody>\n",
       "    <tr>\n",
       "      <th>0</th>\n",
       "      <td>18.0</td>\n",
       "      <td>7.650</td>\n",
       "      <td>8</td>\n",
       "      <td>307.0</td>\n",
       "      <td>130</td>\n",
       "      <td>3504</td>\n",
       "      <td>12.0</td>\n",
       "      <td>70</td>\n",
       "      <td>1</td>\n",
       "      <td>USA</td>\n",
       "      <td>chevrolet chevelle malibu</td>\n",
       "      <td>미국</td>\n",
       "      <td>7.650</td>\n",
       "      <td>horsepower_normal</td>\n",
       "      <td>7.650</td>\n",
       "    </tr>\n",
       "    <tr>\n",
       "      <th>1</th>\n",
       "      <td>15.0</td>\n",
       "      <td>6.375</td>\n",
       "      <td>8</td>\n",
       "      <td>350.0</td>\n",
       "      <td>165</td>\n",
       "      <td>3693</td>\n",
       "      <td>11.5</td>\n",
       "      <td>70</td>\n",
       "      <td>1</td>\n",
       "      <td>USA</td>\n",
       "      <td>buick skylark 320</td>\n",
       "      <td>미국</td>\n",
       "      <td>6.375</td>\n",
       "      <td>horsepower_normal</td>\n",
       "      <td>6.375</td>\n",
       "    </tr>\n",
       "    <tr>\n",
       "      <th>2</th>\n",
       "      <td>18.0</td>\n",
       "      <td>7.650</td>\n",
       "      <td>8</td>\n",
       "      <td>318.0</td>\n",
       "      <td>150</td>\n",
       "      <td>3436</td>\n",
       "      <td>11.0</td>\n",
       "      <td>70</td>\n",
       "      <td>1</td>\n",
       "      <td>USA</td>\n",
       "      <td>plymouth satellite</td>\n",
       "      <td>미국</td>\n",
       "      <td>7.650</td>\n",
       "      <td>horsepower_normal</td>\n",
       "      <td>7.650</td>\n",
       "    </tr>\n",
       "    <tr>\n",
       "      <th>3</th>\n",
       "      <td>16.0</td>\n",
       "      <td>6.800</td>\n",
       "      <td>8</td>\n",
       "      <td>304.0</td>\n",
       "      <td>150</td>\n",
       "      <td>3433</td>\n",
       "      <td>12.0</td>\n",
       "      <td>70</td>\n",
       "      <td>1</td>\n",
       "      <td>USA</td>\n",
       "      <td>amc rebel sst</td>\n",
       "      <td>미국</td>\n",
       "      <td>6.800</td>\n",
       "      <td>horsepower_normal</td>\n",
       "      <td>6.800</td>\n",
       "    </tr>\n",
       "    <tr>\n",
       "      <th>4</th>\n",
       "      <td>17.0</td>\n",
       "      <td>7.225</td>\n",
       "      <td>8</td>\n",
       "      <td>302.0</td>\n",
       "      <td>140</td>\n",
       "      <td>3449</td>\n",
       "      <td>10.5</td>\n",
       "      <td>70</td>\n",
       "      <td>1</td>\n",
       "      <td>USA</td>\n",
       "      <td>ford torino</td>\n",
       "      <td>미국</td>\n",
       "      <td>7.225</td>\n",
       "      <td>horsepower_normal</td>\n",
       "      <td>7.225</td>\n",
       "    </tr>\n",
       "    <tr>\n",
       "      <th>...</th>\n",
       "      <td>...</td>\n",
       "      <td>...</td>\n",
       "      <td>...</td>\n",
       "      <td>...</td>\n",
       "      <td>...</td>\n",
       "      <td>...</td>\n",
       "      <td>...</td>\n",
       "      <td>...</td>\n",
       "      <td>...</td>\n",
       "      <td>...</td>\n",
       "      <td>...</td>\n",
       "      <td>...</td>\n",
       "      <td>...</td>\n",
       "      <td>...</td>\n",
       "      <td>...</td>\n",
       "    </tr>\n",
       "    <tr>\n",
       "      <th>393</th>\n",
       "      <td>27.0</td>\n",
       "      <td>11.475</td>\n",
       "      <td>4</td>\n",
       "      <td>140.0</td>\n",
       "      <td>86</td>\n",
       "      <td>2790</td>\n",
       "      <td>15.6</td>\n",
       "      <td>82</td>\n",
       "      <td>1</td>\n",
       "      <td>USA</td>\n",
       "      <td>ford mustang gl</td>\n",
       "      <td>미국</td>\n",
       "      <td>11.475</td>\n",
       "      <td>horsepower_low</td>\n",
       "      <td>11.475</td>\n",
       "    </tr>\n",
       "    <tr>\n",
       "      <th>394</th>\n",
       "      <td>44.0</td>\n",
       "      <td>18.700</td>\n",
       "      <td>4</td>\n",
       "      <td>97.0</td>\n",
       "      <td>52</td>\n",
       "      <td>2130</td>\n",
       "      <td>24.6</td>\n",
       "      <td>82</td>\n",
       "      <td>2</td>\n",
       "      <td>EU</td>\n",
       "      <td>vw pickup</td>\n",
       "      <td>유럽</td>\n",
       "      <td>18.700</td>\n",
       "      <td>horsepower_low</td>\n",
       "      <td>18.700</td>\n",
       "    </tr>\n",
       "    <tr>\n",
       "      <th>395</th>\n",
       "      <td>32.0</td>\n",
       "      <td>13.600</td>\n",
       "      <td>4</td>\n",
       "      <td>135.0</td>\n",
       "      <td>84</td>\n",
       "      <td>2295</td>\n",
       "      <td>11.6</td>\n",
       "      <td>82</td>\n",
       "      <td>1</td>\n",
       "      <td>USA</td>\n",
       "      <td>dodge rampage</td>\n",
       "      <td>미국</td>\n",
       "      <td>13.600</td>\n",
       "      <td>horsepower_low</td>\n",
       "      <td>13.600</td>\n",
       "    </tr>\n",
       "    <tr>\n",
       "      <th>396</th>\n",
       "      <td>28.0</td>\n",
       "      <td>11.900</td>\n",
       "      <td>4</td>\n",
       "      <td>120.0</td>\n",
       "      <td>79</td>\n",
       "      <td>2625</td>\n",
       "      <td>18.6</td>\n",
       "      <td>82</td>\n",
       "      <td>1</td>\n",
       "      <td>USA</td>\n",
       "      <td>ford ranger</td>\n",
       "      <td>미국</td>\n",
       "      <td>11.900</td>\n",
       "      <td>horsepower_low</td>\n",
       "      <td>11.900</td>\n",
       "    </tr>\n",
       "    <tr>\n",
       "      <th>397</th>\n",
       "      <td>31.0</td>\n",
       "      <td>13.175</td>\n",
       "      <td>4</td>\n",
       "      <td>119.0</td>\n",
       "      <td>82</td>\n",
       "      <td>2720</td>\n",
       "      <td>19.4</td>\n",
       "      <td>82</td>\n",
       "      <td>1</td>\n",
       "      <td>USA</td>\n",
       "      <td>chevy s-10</td>\n",
       "      <td>미국</td>\n",
       "      <td>13.175</td>\n",
       "      <td>horsepower_low</td>\n",
       "      <td>13.175</td>\n",
       "    </tr>\n",
       "  </tbody>\n",
       "</table>\n",
       "<p>398 rows × 15 columns</p>\n",
       "</div>"
      ],
      "text/plain": [
       "      mpg     kml  cylinders  displacement  horsepower  weight  acceleration  \\\n",
       "0    18.0   7.650          8         307.0         130    3504          12.0   \n",
       "1    15.0   6.375          8         350.0         165    3693          11.5   \n",
       "2    18.0   7.650          8         318.0         150    3436          11.0   \n",
       "3    16.0   6.800          8         304.0         150    3433          12.0   \n",
       "4    17.0   7.225          8         302.0         140    3449          10.5   \n",
       "..    ...     ...        ...           ...         ...     ...           ...   \n",
       "393  27.0  11.475          4         140.0          86    2790          15.6   \n",
       "394  44.0  18.700          4          97.0          52    2130          24.6   \n",
       "395  32.0  13.600          4         135.0          84    2295          11.6   \n",
       "396  28.0  11.900          4         120.0          79    2625          18.6   \n",
       "397  31.0  13.175          4         119.0          82    2720          19.4   \n",
       "\n",
       "     model year origin origin_label                   car name 제조국     Kml  \\\n",
       "0            70      1          USA  chevrolet chevelle malibu  미국   7.650   \n",
       "1            70      1          USA          buick skylark 320  미국   6.375   \n",
       "2            70      1          USA         plymouth satellite  미국   7.650   \n",
       "3            70      1          USA              amc rebel sst  미국   6.800   \n",
       "4            70      1          USA                ford torino  미국   7.225   \n",
       "..          ...    ...          ...                        ...  ..     ...   \n",
       "393          82      1          USA            ford mustang gl  미국  11.475   \n",
       "394          82      2           EU                  vw pickup  유럽  18.700   \n",
       "395          82      1          USA              dodge rampage  미국  13.600   \n",
       "396          82      1          USA                ford ranger  미국  11.900   \n",
       "397          82      1          USA                 chevy s-10  미국  13.175   \n",
       "\n",
       "      horsepower_label    Km/L  \n",
       "0    horsepower_normal   7.650  \n",
       "1    horsepower_normal   6.375  \n",
       "2    horsepower_normal   7.650  \n",
       "3    horsepower_normal   6.800  \n",
       "4    horsepower_normal   7.225  \n",
       "..                 ...     ...  \n",
       "393     horsepower_low  11.475  \n",
       "394     horsepower_low  18.700  \n",
       "395     horsepower_low  13.600  \n",
       "396     horsepower_low  11.900  \n",
       "397     horsepower_low  13.175  \n",
       "\n",
       "[398 rows x 15 columns]"
      ]
     },
     "execution_count": 620,
     "metadata": {},
     "output_type": "execute_result"
    }
   ],
   "source": [
    "mpgDF"
   ]
  },
  {
   "cell_type": "code",
   "execution_count": 621,
   "id": "f636c14e",
   "metadata": {},
   "outputs": [],
   "source": [
    "# mpgDF['Km/L']=mpgDF['mpg']*0.425"
   ]
  },
  {
   "cell_type": "code",
   "execution_count": 622,
   "id": "2331489c",
   "metadata": {},
   "outputs": [],
   "source": [
    "# mpgDF.drop_duplicates(subset=['mpg','cylinders,'displacement','horsepower','weight','acceleration']"
   ]
  },
  {
   "cell_type": "markdown",
   "id": "9955d453",
   "metadata": {},
   "source": [
    "#### (3-3) 데이터정규화\n",
    "\n",
    "- 수치데이터 컬럼마다 값의 범위가 다름\n",
    "- 값의 범위 0 ~ 1 / -1 ~ 1 로 값을 설정"
   ]
  },
  {
   "cell_type": "markdown",
   "id": "24716779",
   "metadata": {},
   "source": [
    "###### (3-3-1) 방법 : 컬럼의 최대값의 절대값으로 전체 데이터를 나누기"
   ]
  },
  {
   "cell_type": "code",
   "execution_count": 623,
   "id": "b1c5fbea",
   "metadata": {},
   "outputs": [
    {
     "data": {
      "text/plain": [
       "(5140, 1613, 5140)"
      ]
     },
     "execution_count": 623,
     "metadata": {},
     "output_type": "execute_result"
    }
   ],
   "source": [
    "mpgDF['weight'].max(), mpgDF['weight'].min(), abs( mpgDF['weight'].max() )"
   ]
  },
  {
   "cell_type": "code",
   "execution_count": 624,
   "id": "7dba8399",
   "metadata": {},
   "outputs": [
    {
     "data": {
      "text/plain": [
       "(0.31381322957198443, 1.0)"
      ]
     },
     "execution_count": 624,
     "metadata": {},
     "output_type": "execute_result"
    }
   ],
   "source": [
    "mpgDF['weight_nor_1'] = mpgDF['weight'] / abs(mpgDF['weight'].max())\n",
    "mpgDF['weight_nor_1'].min(), mpgDF['weight_nor_1'].max()"
   ]
  },
  {
   "cell_type": "markdown",
   "id": "a3d805b2",
   "metadata": {},
   "source": [
    "###### (3-3-2) 방법 : 컬럼의 데이터 - 최소값/ 최대값-최소값\n",
    "\n",
    "- 컬럼의 최대값 => max(), 최소값 => min()"
   ]
  },
  {
   "cell_type": "code",
   "execution_count": 625,
   "id": "d6b3eb57",
   "metadata": {},
   "outputs": [
    {
     "data": {
      "text/plain": [
       "(0.0, 1.0)"
      ]
     },
     "execution_count": 625,
     "metadata": {},
     "output_type": "execute_result"
    }
   ],
   "source": [
    "numerator = mpgDF['weight'] - mpgDF['weight'].min()\n",
    "denominator = mpgDF['weight'].max() - mpgDF['weight'].min()\n",
    "\n",
    "mpgDF['weight_nor_2'] = numerator/denominator\n",
    "\n",
    "mpgDF['weight_nor_2'].min(), mpgDF['weight_nor_2'].max()"
   ]
  },
  {
   "cell_type": "markdown",
   "id": "13ea30a1",
   "metadata": {},
   "source": [
    "###### (3-3-3) 방법 : 컬럼의 데이터 - 평균 / 표준편차 ==> Z-score"
   ]
  },
  {
   "cell_type": "code",
   "execution_count": 626,
   "id": "97a70e5a",
   "metadata": {},
   "outputs": [
    {
     "data": {
      "text/plain": [
       "(-1.6029259118708488, 2.561960738109357)"
      ]
     },
     "execution_count": 626,
     "metadata": {},
     "output_type": "execute_result"
    }
   ],
   "source": [
    "numerator=mpgDF['weight'] - mpgDF['weight'].mean()\n",
    "denominator=mpgDF['weight'].std()\n",
    "\n",
    "mpgDF['weight_nor_3']=numerator/denominator\n",
    "\n",
    "mpgDF['weight_nor_3'].min(), mpgDF['weight_nor_3'].max()"
   ]
  },
  {
   "cell_type": "code",
   "execution_count": 627,
   "id": "1d184cf6",
   "metadata": {},
   "outputs": [
    {
     "data": {
      "text/html": [
       "<div>\n",
       "<style scoped>\n",
       "    .dataframe tbody tr th:only-of-type {\n",
       "        vertical-align: middle;\n",
       "    }\n",
       "\n",
       "    .dataframe tbody tr th {\n",
       "        vertical-align: top;\n",
       "    }\n",
       "\n",
       "    .dataframe thead th {\n",
       "        text-align: right;\n",
       "    }\n",
       "</style>\n",
       "<table border=\"1\" class=\"dataframe\">\n",
       "  <thead>\n",
       "    <tr style=\"text-align: right;\">\n",
       "      <th></th>\n",
       "      <th>weight</th>\n",
       "      <th>weight_nor_1</th>\n",
       "      <th>weight_nor_2</th>\n",
       "      <th>weight_nor_3</th>\n",
       "    </tr>\n",
       "  </thead>\n",
       "  <tbody>\n",
       "    <tr>\n",
       "      <th>0</th>\n",
       "      <td>3504</td>\n",
       "      <td>0.681712</td>\n",
       "      <td>0.536150</td>\n",
       "      <td>0.630077</td>\n",
       "    </tr>\n",
       "    <tr>\n",
       "      <th>1</th>\n",
       "      <td>3693</td>\n",
       "      <td>0.718482</td>\n",
       "      <td>0.589736</td>\n",
       "      <td>0.853259</td>\n",
       "    </tr>\n",
       "    <tr>\n",
       "      <th>2</th>\n",
       "      <td>3436</td>\n",
       "      <td>0.668482</td>\n",
       "      <td>0.516870</td>\n",
       "      <td>0.549778</td>\n",
       "    </tr>\n",
       "    <tr>\n",
       "      <th>3</th>\n",
       "      <td>3433</td>\n",
       "      <td>0.667899</td>\n",
       "      <td>0.516019</td>\n",
       "      <td>0.546236</td>\n",
       "    </tr>\n",
       "    <tr>\n",
       "      <th>4</th>\n",
       "      <td>3449</td>\n",
       "      <td>0.671012</td>\n",
       "      <td>0.520556</td>\n",
       "      <td>0.565130</td>\n",
       "    </tr>\n",
       "    <tr>\n",
       "      <th>...</th>\n",
       "      <td>...</td>\n",
       "      <td>...</td>\n",
       "      <td>...</td>\n",
       "      <td>...</td>\n",
       "    </tr>\n",
       "    <tr>\n",
       "      <th>393</th>\n",
       "      <td>2790</td>\n",
       "      <td>0.542802</td>\n",
       "      <td>0.333711</td>\n",
       "      <td>-0.213056</td>\n",
       "    </tr>\n",
       "    <tr>\n",
       "      <th>394</th>\n",
       "      <td>2130</td>\n",
       "      <td>0.414397</td>\n",
       "      <td>0.146583</td>\n",
       "      <td>-0.992422</td>\n",
       "    </tr>\n",
       "    <tr>\n",
       "      <th>395</th>\n",
       "      <td>2295</td>\n",
       "      <td>0.446498</td>\n",
       "      <td>0.193365</td>\n",
       "      <td>-0.797581</td>\n",
       "    </tr>\n",
       "    <tr>\n",
       "      <th>396</th>\n",
       "      <td>2625</td>\n",
       "      <td>0.510700</td>\n",
       "      <td>0.286929</td>\n",
       "      <td>-0.407897</td>\n",
       "    </tr>\n",
       "    <tr>\n",
       "      <th>397</th>\n",
       "      <td>2720</td>\n",
       "      <td>0.529183</td>\n",
       "      <td>0.313864</td>\n",
       "      <td>-0.295716</td>\n",
       "    </tr>\n",
       "  </tbody>\n",
       "</table>\n",
       "<p>398 rows × 4 columns</p>\n",
       "</div>"
      ],
      "text/plain": [
       "     weight  weight_nor_1  weight_nor_2  weight_nor_3\n",
       "0      3504      0.681712      0.536150      0.630077\n",
       "1      3693      0.718482      0.589736      0.853259\n",
       "2      3436      0.668482      0.516870      0.549778\n",
       "3      3433      0.667899      0.516019      0.546236\n",
       "4      3449      0.671012      0.520556      0.565130\n",
       "..      ...           ...           ...           ...\n",
       "393    2790      0.542802      0.333711     -0.213056\n",
       "394    2130      0.414397      0.146583     -0.992422\n",
       "395    2295      0.446498      0.193365     -0.797581\n",
       "396    2625      0.510700      0.286929     -0.407897\n",
       "397    2720      0.529183      0.313864     -0.295716\n",
       "\n",
       "[398 rows x 4 columns]"
      ]
     },
     "execution_count": 627,
     "metadata": {},
     "output_type": "execute_result"
    }
   ],
   "source": [
    "mpgDF[['weight', 'weight_nor_1', 'weight_nor_2', 'weight_nor_3']]"
   ]
  },
  {
   "cell_type": "code",
   "execution_count": 628,
   "id": "9bf1c10c",
   "metadata": {},
   "outputs": [
    {
     "data": {
      "text/plain": [
       "mpg                  float64\n",
       "kml                  float64\n",
       "cylinders              int64\n",
       "displacement         float64\n",
       "horsepower             int16\n",
       "weight                 int64\n",
       "acceleration         float64\n",
       "model year             int64\n",
       "origin                object\n",
       "origin_label          object\n",
       "car name              object\n",
       "제조국                   object\n",
       "Kml                  float64\n",
       "horsepower_label    category\n",
       "Km/L                 float64\n",
       "weight_nor_1         float64\n",
       "weight_nor_2         float64\n",
       "weight_nor_3         float64\n",
       "dtype: object"
      ]
     },
     "execution_count": 628,
     "metadata": {},
     "output_type": "execute_result"
    }
   ],
   "source": [
    "mpgDF.dtypes"
   ]
  },
  {
   "cell_type": "code",
   "execution_count": 629,
   "id": "5327a113",
   "metadata": {},
   "outputs": [
    {
     "data": {
      "text/plain": [
       "(0.0, 1.0)"
      ]
     },
     "execution_count": 629,
     "metadata": {},
     "output_type": "execute_result"
    }
   ],
   "source": [
    "numerator = mpgDF['weight'] - mpgDF['weight'].min()\n",
    "denominator = mpgDF['weight'].max() - mpgDF['weight'].min()\n",
    "\n",
    "mpgDF['weight_nor_2'] = numerator/denominator\n",
    "mpgDF['weight_nor_2'].min(), mpgDF['weight_nor_2'].max()"
   ]
  },
  {
   "cell_type": "code",
   "execution_count": 634,
   "id": "eef6605d",
   "metadata": {},
   "outputs": [
    {
     "name": "stdout",
     "output_type": "stream",
     "text": [
      "mpg\n",
      "(0.026595744680851064, 0.13770685579196218)\n",
      "horsepower\n",
      "(0.005434782608695652, 0.02717391304347826)\n"
     ]
    }
   ],
   "source": [
    "def normal(df,col):\n",
    "    numerator=df[col] / abs(df[col].min())\n",
    "    denominator=df[col].max() - df[col].min()\n",
    "    columns = numerator/denominator\n",
    "    return columns.min(), columns.max()\n",
    "\n",
    "for i in ['mpg','kml','cylinders','displacement','horsepower','weight','acceleration','model year','','']:\n",
    "    print(normal(mpgDF,i))"
   ]
  },
  {
   "cell_type": "code",
   "execution_count": 651,
   "id": "8f1b8a7c",
   "metadata": {},
   "outputs": [
    {
     "name": "stdout",
     "output_type": "stream",
     "text": [
      "      mpg     kml  cylinders  displacement  horsepower  weight  acceleration  \\\n",
      "0    18.0   7.650          8         307.0         130    3504          12.0   \n",
      "1    15.0   6.375          8         350.0         165    3693          11.5   \n",
      "2    18.0   7.650          8         318.0         150    3436          11.0   \n",
      "3    16.0   6.800          8         304.0         150    3433          12.0   \n",
      "4    17.0   7.225          8         302.0         140    3449          10.5   \n",
      "..    ...     ...        ...           ...         ...     ...           ...   \n",
      "393  27.0  11.475          4         140.0          86    2790          15.6   \n",
      "394  44.0  18.700          4          97.0          52    2130          24.6   \n",
      "395  32.0  13.600          4         135.0          84    2295          11.6   \n",
      "396  28.0  11.900          4         120.0          79    2625          18.6   \n",
      "397  31.0  13.175          4         119.0          82    2720          19.4   \n",
      "\n",
      "     model year origin origin_label                   car name 제조국     Kml  \\\n",
      "0            70      1          USA  chevrolet chevelle malibu  미국   7.650   \n",
      "1            70      1          USA          buick skylark 320  미국   6.375   \n",
      "2            70      1          USA         plymouth satellite  미국   7.650   \n",
      "3            70      1          USA              amc rebel sst  미국   6.800   \n",
      "4            70      1          USA                ford torino  미국   7.225   \n",
      "..          ...    ...          ...                        ...  ..     ...   \n",
      "393          82      1          USA            ford mustang gl  미국  11.475   \n",
      "394          82      2           EU                  vw pickup  유럽  18.700   \n",
      "395          82      1          USA              dodge rampage  미국  13.600   \n",
      "396          82      1          USA                ford ranger  미국  11.900   \n",
      "397          82      1          USA                 chevy s-10  미국  13.175   \n",
      "\n",
      "      horsepower_label    Km/L  weight_nor_1  weight_nor_2  weight_nor_3  \n",
      "0    horsepower_normal   7.650      0.681712      0.536150      0.630077  \n",
      "1    horsepower_normal   6.375      0.718482      0.589736      0.853259  \n",
      "2    horsepower_normal   7.650      0.668482      0.516870      0.549778  \n",
      "3    horsepower_normal   6.800      0.667899      0.516019      0.546236  \n",
      "4    horsepower_normal   7.225      0.671012      0.520556      0.565130  \n",
      "..                 ...     ...           ...           ...           ...  \n",
      "393     horsepower_low  11.475      0.542802      0.333711     -0.213056  \n",
      "394     horsepower_low  18.700      0.414397      0.146583     -0.992422  \n",
      "395     horsepower_low  13.600      0.446498      0.193365     -0.797581  \n",
      "396     horsepower_low  11.900      0.510700      0.286929     -0.407897  \n",
      "397     horsepower_low  13.175      0.529183      0.313864     -0.295716  \n",
      "\n",
      "[398 rows x 18 columns][mpg]=0      0.053191\n",
      "1      0.044326\n",
      "2      0.053191\n",
      "3      0.047281\n",
      "4      0.050236\n",
      "         ...   \n",
      "393    0.079787\n",
      "394    0.130024\n",
      "395    0.094563\n",
      "396    0.082742\n",
      "397    0.091608\n",
      "Name: mpg, Length: 398, dtype: float64\n",
      "      mpg     kml  cylinders  displacement  horsepower  weight  acceleration  \\\n",
      "0    18.0   7.650          8         307.0         130    3504          12.0   \n",
      "1    15.0   6.375          8         350.0         165    3693          11.5   \n",
      "2    18.0   7.650          8         318.0         150    3436          11.0   \n",
      "3    16.0   6.800          8         304.0         150    3433          12.0   \n",
      "4    17.0   7.225          8         302.0         140    3449          10.5   \n",
      "..    ...     ...        ...           ...         ...     ...           ...   \n",
      "393  27.0  11.475          4         140.0          86    2790          15.6   \n",
      "394  44.0  18.700          4          97.0          52    2130          24.6   \n",
      "395  32.0  13.600          4         135.0          84    2295          11.6   \n",
      "396  28.0  11.900          4         120.0          79    2625          18.6   \n",
      "397  31.0  13.175          4         119.0          82    2720          19.4   \n",
      "\n",
      "     model year origin origin_label                   car name 제조국     Kml  \\\n",
      "0            70      1          USA  chevrolet chevelle malibu  미국   7.650   \n",
      "1            70      1          USA          buick skylark 320  미국   6.375   \n",
      "2            70      1          USA         plymouth satellite  미국   7.650   \n",
      "3            70      1          USA              amc rebel sst  미국   6.800   \n",
      "4            70      1          USA                ford torino  미국   7.225   \n",
      "..          ...    ...          ...                        ...  ..     ...   \n",
      "393          82      1          USA            ford mustang gl  미국  11.475   \n",
      "394          82      2           EU                  vw pickup  유럽  18.700   \n",
      "395          82      1          USA              dodge rampage  미국  13.600   \n",
      "396          82      1          USA                ford ranger  미국  11.900   \n",
      "397          82      1          USA                 chevy s-10  미국  13.175   \n",
      "\n",
      "      horsepower_label    Km/L  weight_nor_1  weight_nor_2  weight_nor_3  \n",
      "0    horsepower_normal   7.650      0.681712      0.536150      0.630077  \n",
      "1    horsepower_normal   6.375      0.718482      0.589736      0.853259  \n",
      "2    horsepower_normal   7.650      0.668482      0.516870      0.549778  \n",
      "3    horsepower_normal   6.800      0.667899      0.516019      0.546236  \n",
      "4    horsepower_normal   7.225      0.671012      0.520556      0.565130  \n",
      "..                 ...     ...           ...           ...           ...  \n",
      "393     horsepower_low  11.475      0.542802      0.333711     -0.213056  \n",
      "394     horsepower_low  18.700      0.414397      0.146583     -0.992422  \n",
      "395     horsepower_low  13.600      0.446498      0.193365     -0.797581  \n",
      "396     horsepower_low  11.900      0.510700      0.286929     -0.407897  \n",
      "397     horsepower_low  13.175      0.529183      0.313864     -0.295716  \n",
      "\n",
      "[398 rows x 18 columns][horsepower]=0      0.015359\n",
      "1      0.019494\n",
      "2      0.017722\n",
      "3      0.017722\n",
      "4      0.016541\n",
      "         ...   \n",
      "393    0.010161\n",
      "394    0.006144\n",
      "395    0.009924\n",
      "396    0.009334\n",
      "397    0.009688\n",
      "Name: horsepower, Length: 398, dtype: float64\n"
     ]
    },
    {
     "data": {
      "text/html": [
       "<div>\n",
       "<style scoped>\n",
       "    .dataframe tbody tr th:only-of-type {\n",
       "        vertical-align: middle;\n",
       "    }\n",
       "\n",
       "    .dataframe tbody tr th {\n",
       "        vertical-align: top;\n",
       "    }\n",
       "\n",
       "    .dataframe thead th {\n",
       "        text-align: right;\n",
       "    }\n",
       "</style>\n",
       "<table border=\"1\" class=\"dataframe\">\n",
       "  <thead>\n",
       "    <tr style=\"text-align: right;\">\n",
       "      <th></th>\n",
       "      <th>mpg</th>\n",
       "      <th>kml</th>\n",
       "      <th>cylinders</th>\n",
       "      <th>displacement</th>\n",
       "      <th>horsepower</th>\n",
       "      <th>weight</th>\n",
       "      <th>acceleration</th>\n",
       "      <th>model year</th>\n",
       "      <th>origin</th>\n",
       "      <th>origin_label</th>\n",
       "      <th>car name</th>\n",
       "      <th>제조국</th>\n",
       "      <th>Kml</th>\n",
       "      <th>horsepower_label</th>\n",
       "      <th>Km/L</th>\n",
       "      <th>weight_nor_1</th>\n",
       "      <th>weight_nor_2</th>\n",
       "      <th>weight_nor_3</th>\n",
       "    </tr>\n",
       "  </thead>\n",
       "  <tbody>\n",
       "    <tr>\n",
       "      <th>0</th>\n",
       "      <td>18.0</td>\n",
       "      <td>7.650</td>\n",
       "      <td>8</td>\n",
       "      <td>307.0</td>\n",
       "      <td>130</td>\n",
       "      <td>3504</td>\n",
       "      <td>12.0</td>\n",
       "      <td>70</td>\n",
       "      <td>1</td>\n",
       "      <td>USA</td>\n",
       "      <td>chevrolet chevelle malibu</td>\n",
       "      <td>미국</td>\n",
       "      <td>7.650</td>\n",
       "      <td>horsepower_normal</td>\n",
       "      <td>7.650</td>\n",
       "      <td>0.681712</td>\n",
       "      <td>0.536150</td>\n",
       "      <td>0.630077</td>\n",
       "    </tr>\n",
       "    <tr>\n",
       "      <th>1</th>\n",
       "      <td>15.0</td>\n",
       "      <td>6.375</td>\n",
       "      <td>8</td>\n",
       "      <td>350.0</td>\n",
       "      <td>165</td>\n",
       "      <td>3693</td>\n",
       "      <td>11.5</td>\n",
       "      <td>70</td>\n",
       "      <td>1</td>\n",
       "      <td>USA</td>\n",
       "      <td>buick skylark 320</td>\n",
       "      <td>미국</td>\n",
       "      <td>6.375</td>\n",
       "      <td>horsepower_normal</td>\n",
       "      <td>6.375</td>\n",
       "      <td>0.718482</td>\n",
       "      <td>0.589736</td>\n",
       "      <td>0.853259</td>\n",
       "    </tr>\n",
       "    <tr>\n",
       "      <th>2</th>\n",
       "      <td>18.0</td>\n",
       "      <td>7.650</td>\n",
       "      <td>8</td>\n",
       "      <td>318.0</td>\n",
       "      <td>150</td>\n",
       "      <td>3436</td>\n",
       "      <td>11.0</td>\n",
       "      <td>70</td>\n",
       "      <td>1</td>\n",
       "      <td>USA</td>\n",
       "      <td>plymouth satellite</td>\n",
       "      <td>미국</td>\n",
       "      <td>7.650</td>\n",
       "      <td>horsepower_normal</td>\n",
       "      <td>7.650</td>\n",
       "      <td>0.668482</td>\n",
       "      <td>0.516870</td>\n",
       "      <td>0.549778</td>\n",
       "    </tr>\n",
       "    <tr>\n",
       "      <th>3</th>\n",
       "      <td>16.0</td>\n",
       "      <td>6.800</td>\n",
       "      <td>8</td>\n",
       "      <td>304.0</td>\n",
       "      <td>150</td>\n",
       "      <td>3433</td>\n",
       "      <td>12.0</td>\n",
       "      <td>70</td>\n",
       "      <td>1</td>\n",
       "      <td>USA</td>\n",
       "      <td>amc rebel sst</td>\n",
       "      <td>미국</td>\n",
       "      <td>6.800</td>\n",
       "      <td>horsepower_normal</td>\n",
       "      <td>6.800</td>\n",
       "      <td>0.667899</td>\n",
       "      <td>0.516019</td>\n",
       "      <td>0.546236</td>\n",
       "    </tr>\n",
       "    <tr>\n",
       "      <th>4</th>\n",
       "      <td>17.0</td>\n",
       "      <td>7.225</td>\n",
       "      <td>8</td>\n",
       "      <td>302.0</td>\n",
       "      <td>140</td>\n",
       "      <td>3449</td>\n",
       "      <td>10.5</td>\n",
       "      <td>70</td>\n",
       "      <td>1</td>\n",
       "      <td>USA</td>\n",
       "      <td>ford torino</td>\n",
       "      <td>미국</td>\n",
       "      <td>7.225</td>\n",
       "      <td>horsepower_normal</td>\n",
       "      <td>7.225</td>\n",
       "      <td>0.671012</td>\n",
       "      <td>0.520556</td>\n",
       "      <td>0.565130</td>\n",
       "    </tr>\n",
       "    <tr>\n",
       "      <th>...</th>\n",
       "      <td>...</td>\n",
       "      <td>...</td>\n",
       "      <td>...</td>\n",
       "      <td>...</td>\n",
       "      <td>...</td>\n",
       "      <td>...</td>\n",
       "      <td>...</td>\n",
       "      <td>...</td>\n",
       "      <td>...</td>\n",
       "      <td>...</td>\n",
       "      <td>...</td>\n",
       "      <td>...</td>\n",
       "      <td>...</td>\n",
       "      <td>...</td>\n",
       "      <td>...</td>\n",
       "      <td>...</td>\n",
       "      <td>...</td>\n",
       "      <td>...</td>\n",
       "    </tr>\n",
       "    <tr>\n",
       "      <th>393</th>\n",
       "      <td>27.0</td>\n",
       "      <td>11.475</td>\n",
       "      <td>4</td>\n",
       "      <td>140.0</td>\n",
       "      <td>86</td>\n",
       "      <td>2790</td>\n",
       "      <td>15.6</td>\n",
       "      <td>82</td>\n",
       "      <td>1</td>\n",
       "      <td>USA</td>\n",
       "      <td>ford mustang gl</td>\n",
       "      <td>미국</td>\n",
       "      <td>11.475</td>\n",
       "      <td>horsepower_low</td>\n",
       "      <td>11.475</td>\n",
       "      <td>0.542802</td>\n",
       "      <td>0.333711</td>\n",
       "      <td>-0.213056</td>\n",
       "    </tr>\n",
       "    <tr>\n",
       "      <th>394</th>\n",
       "      <td>44.0</td>\n",
       "      <td>18.700</td>\n",
       "      <td>4</td>\n",
       "      <td>97.0</td>\n",
       "      <td>52</td>\n",
       "      <td>2130</td>\n",
       "      <td>24.6</td>\n",
       "      <td>82</td>\n",
       "      <td>2</td>\n",
       "      <td>EU</td>\n",
       "      <td>vw pickup</td>\n",
       "      <td>유럽</td>\n",
       "      <td>18.700</td>\n",
       "      <td>horsepower_low</td>\n",
       "      <td>18.700</td>\n",
       "      <td>0.414397</td>\n",
       "      <td>0.146583</td>\n",
       "      <td>-0.992422</td>\n",
       "    </tr>\n",
       "    <tr>\n",
       "      <th>395</th>\n",
       "      <td>32.0</td>\n",
       "      <td>13.600</td>\n",
       "      <td>4</td>\n",
       "      <td>135.0</td>\n",
       "      <td>84</td>\n",
       "      <td>2295</td>\n",
       "      <td>11.6</td>\n",
       "      <td>82</td>\n",
       "      <td>1</td>\n",
       "      <td>USA</td>\n",
       "      <td>dodge rampage</td>\n",
       "      <td>미국</td>\n",
       "      <td>13.600</td>\n",
       "      <td>horsepower_low</td>\n",
       "      <td>13.600</td>\n",
       "      <td>0.446498</td>\n",
       "      <td>0.193365</td>\n",
       "      <td>-0.797581</td>\n",
       "    </tr>\n",
       "    <tr>\n",
       "      <th>396</th>\n",
       "      <td>28.0</td>\n",
       "      <td>11.900</td>\n",
       "      <td>4</td>\n",
       "      <td>120.0</td>\n",
       "      <td>79</td>\n",
       "      <td>2625</td>\n",
       "      <td>18.6</td>\n",
       "      <td>82</td>\n",
       "      <td>1</td>\n",
       "      <td>USA</td>\n",
       "      <td>ford ranger</td>\n",
       "      <td>미국</td>\n",
       "      <td>11.900</td>\n",
       "      <td>horsepower_low</td>\n",
       "      <td>11.900</td>\n",
       "      <td>0.510700</td>\n",
       "      <td>0.286929</td>\n",
       "      <td>-0.407897</td>\n",
       "    </tr>\n",
       "    <tr>\n",
       "      <th>397</th>\n",
       "      <td>31.0</td>\n",
       "      <td>13.175</td>\n",
       "      <td>4</td>\n",
       "      <td>119.0</td>\n",
       "      <td>82</td>\n",
       "      <td>2720</td>\n",
       "      <td>19.4</td>\n",
       "      <td>82</td>\n",
       "      <td>1</td>\n",
       "      <td>USA</td>\n",
       "      <td>chevy s-10</td>\n",
       "      <td>미국</td>\n",
       "      <td>13.175</td>\n",
       "      <td>horsepower_low</td>\n",
       "      <td>13.175</td>\n",
       "      <td>0.529183</td>\n",
       "      <td>0.313864</td>\n",
       "      <td>-0.295716</td>\n",
       "    </tr>\n",
       "  </tbody>\n",
       "</table>\n",
       "<p>398 rows × 18 columns</p>\n",
       "</div>"
      ],
      "text/plain": [
       "      mpg     kml  cylinders  displacement  horsepower  weight  acceleration  \\\n",
       "0    18.0   7.650          8         307.0         130    3504          12.0   \n",
       "1    15.0   6.375          8         350.0         165    3693          11.5   \n",
       "2    18.0   7.650          8         318.0         150    3436          11.0   \n",
       "3    16.0   6.800          8         304.0         150    3433          12.0   \n",
       "4    17.0   7.225          8         302.0         140    3449          10.5   \n",
       "..    ...     ...        ...           ...         ...     ...           ...   \n",
       "393  27.0  11.475          4         140.0          86    2790          15.6   \n",
       "394  44.0  18.700          4          97.0          52    2130          24.6   \n",
       "395  32.0  13.600          4         135.0          84    2295          11.6   \n",
       "396  28.0  11.900          4         120.0          79    2625          18.6   \n",
       "397  31.0  13.175          4         119.0          82    2720          19.4   \n",
       "\n",
       "     model year origin origin_label                   car name 제조국     Kml  \\\n",
       "0            70      1          USA  chevrolet chevelle malibu  미국   7.650   \n",
       "1            70      1          USA          buick skylark 320  미국   6.375   \n",
       "2            70      1          USA         plymouth satellite  미국   7.650   \n",
       "3            70      1          USA              amc rebel sst  미국   6.800   \n",
       "4            70      1          USA                ford torino  미국   7.225   \n",
       "..          ...    ...          ...                        ...  ..     ...   \n",
       "393          82      1          USA            ford mustang gl  미국  11.475   \n",
       "394          82      2           EU                  vw pickup  유럽  18.700   \n",
       "395          82      1          USA              dodge rampage  미국  13.600   \n",
       "396          82      1          USA                ford ranger  미국  11.900   \n",
       "397          82      1          USA                 chevy s-10  미국  13.175   \n",
       "\n",
       "      horsepower_label    Km/L  weight_nor_1  weight_nor_2  weight_nor_3  \n",
       "0    horsepower_normal   7.650      0.681712      0.536150      0.630077  \n",
       "1    horsepower_normal   6.375      0.718482      0.589736      0.853259  \n",
       "2    horsepower_normal   7.650      0.668482      0.516870      0.549778  \n",
       "3    horsepower_normal   6.800      0.667899      0.516019      0.546236  \n",
       "4    horsepower_normal   7.225      0.671012      0.520556      0.565130  \n",
       "..                 ...     ...           ...           ...           ...  \n",
       "393     horsepower_low  11.475      0.542802      0.333711     -0.213056  \n",
       "394     horsepower_low  18.700      0.414397      0.146583     -0.992422  \n",
       "395     horsepower_low  13.600      0.446498      0.193365     -0.797581  \n",
       "396     horsepower_low  11.900      0.510700      0.286929     -0.407897  \n",
       "397     horsepower_low  13.175      0.529183      0.313864     -0.295716  \n",
       "\n",
       "[398 rows x 18 columns]"
      ]
     },
     "execution_count": 651,
     "metadata": {},
     "output_type": "execute_result"
    }
   ],
   "source": [
    "def normal(df,col):\n",
    "    numerator=df[col] / abs(df[col].min())\n",
    "    denominator=df[col].max() - df[col].min()\n",
    "    columns = numerator/denominator\n",
    "    return f'{df}[{col}]={columns}'\n",
    "\n",
    "for i in ['mpg','cylinders','horsepower','kml']:\n",
    "    print(normal(mpgDF,i))\n",
    "    \n",
    "    \n",
    "mpgDF"
   ]
  },
  {
   "cell_type": "code",
   "execution_count": 659,
   "id": "d239b8ee",
   "metadata": {},
   "outputs": [
    {
     "name": "stdout",
     "output_type": "stream",
     "text": [
      "a 0\n",
      "b 1\n",
      "c 2\n",
      "d 3\n",
      "a 0\n",
      "b 1\n",
      "c 2\n",
      "d 3\n",
      "-------------------------\n",
      "a 0\n",
      "b 1\n",
      "c 2\n",
      "d 3\n"
     ]
    }
   ],
   "source": [
    "nums=['a','b','c','d']\n",
    "idx=0\n",
    "for num in nums:\n",
    "    print(num, idx)\n",
    "    idx+=1\n",
    "    \n",
    "for idx, num in enumerate(nums):       # enumerate 나열한다? 알아서 데이터랑 인덱스 가져옴 이 경우만 ???\n",
    "    print(num, idx)\n",
    "print('-------------------------')\n",
    "for idx, num in enumerate(nums):\n",
    "    print(num, idx)"
   ]
  },
  {
   "cell_type": "markdown",
   "id": "f0c14dbb",
   "metadata": {},
   "source": [
    "## (4) 데이터 추출 ------------------------------------------------------"
   ]
  },
  {
   "cell_type": "code",
   "execution_count": null,
   "id": "974bdf2f",
   "metadata": {},
   "outputs": [],
   "source": []
  },
  {
   "cell_type": "code",
   "execution_count": null,
   "id": "aa2dddd0",
   "metadata": {},
   "outputs": [],
   "source": []
  }
 ],
 "metadata": {
  "kernelspec": {
   "display_name": "Python 3 (ipykernel)",
   "language": "python",
   "name": "python3"
  },
  "language_info": {
   "codemirror_mode": {
    "name": "ipython",
    "version": 3
   },
   "file_extension": ".py",
   "mimetype": "text/x-python",
   "name": "python",
   "nbconvert_exporter": "python",
   "pygments_lexer": "ipython3",
   "version": "3.9.12"
  }
 },
 "nbformat": 4,
 "nbformat_minor": 5
}
