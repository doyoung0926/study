{
 "cells": [
  {
   "cell_type": "code",
   "execution_count": 62,
   "id": "1b296fec",
   "metadata": {
    "scrolled": true
   },
   "outputs": [
    {
     "name": "stdout",
     "output_type": "stream",
     "text": [
      "['사용월', '호선명', '역ID', '지하철역', '유임승차', '유임하차', '무임승차', '무임하차', '']\n",
      "['Jun-22', '1호선', '150', '서울역', '1150754', '1123193', '194717', '187155', '']\n",
      "['Jun-22', '1호선', '151', '시청', '537067', '543569', '80671', '78279', '']\n",
      "['Jun-22', '1호선', '152', '종각', '834173', '815704', '131987', '121717', '']\n",
      "['Jun-22', '1호선', '153', '종로3가', '450317', '404106', '299617', '278151', '']\n",
      "['Jun-22', '1호선', '154', '종로5가', '394420', '404105', '254236', '244555', '']\n",
      "['Jun-22', '1호선', '155', '동대문', '212719', '198987', '117499', '118515', '']\n",
      "['Jun-22', '1호선', '156', '신설동', '264825', '252339', '112362', '106855', '']\n"
     ]
    }
   ],
   "source": [
    "# 대중교통 데이터 읽어오기\n",
    "import csv\n",
    "f=open('subwayfee.csv',encoding='euc_kr')\n",
    "\n",
    "data=csv.reader(f)\n",
    "header=next(data)\n",
    "print(header)\n",
    "i=0\n",
    "for row in data:\n",
    "    print(row)\n",
    "    if i>5:\n",
    "        break\n",
    "    i+=1\n",
    "f.close()"
   ]
  },
  {
   "cell_type": "markdown",
   "id": "7f202e8a",
   "metadata": {},
   "source": [
    "### 유임 승차 대 무임 승차 비율이 가장 높은 역은?\n",
    "- 유임 승차 대 무임 승차 비율 (rate) 계산\n",
    "    - rate = ${유임승차인원 \\over 무임승차인원}$"
   ]
  },
  {
   "cell_type": "code",
   "execution_count": 63,
   "id": "a7499a17",
   "metadata": {},
   "outputs": [
    {
     "ename": "ZeroDivisionError",
     "evalue": "division by zero",
     "output_type": "error",
     "traceback": [
      "\u001b[1;31m---------------------------------------------------------------------------\u001b[0m",
      "\u001b[1;31mZeroDivisionError\u001b[0m                         Traceback (most recent call last)",
      "Input \u001b[1;32mIn [63]\u001b[0m, in \u001b[0;36m<cell line: 8>\u001b[1;34m()\u001b[0m\n\u001b[0;32m      9\u001b[0m \u001b[38;5;28;01mfor\u001b[39;00m i \u001b[38;5;129;01min\u001b[39;00m \u001b[38;5;28mrange\u001b[39m(\u001b[38;5;241m4\u001b[39m,\u001b[38;5;241m8\u001b[39m):\n\u001b[0;32m     10\u001b[0m     row[i]\u001b[38;5;241m=\u001b[39m\u001b[38;5;28mint\u001b[39m(row[i])  \u001b[38;5;66;03m# 4, 5, 6, 7 컬럼값을 정수로 변환\u001b[39;00m\n\u001b[1;32m---> 11\u001b[0m rate \u001b[38;5;241m=\u001b[39m \u001b[43mrow\u001b[49m\u001b[43m[\u001b[49m\u001b[38;5;241;43m4\u001b[39;49m\u001b[43m]\u001b[49m\u001b[43m \u001b[49m\u001b[38;5;241;43m/\u001b[39;49m\u001b[43m \u001b[49m\u001b[43mrow\u001b[49m\u001b[43m[\u001b[49m\u001b[38;5;241;43m6\u001b[39;49m\u001b[43m]\u001b[49m\n\u001b[0;32m     12\u001b[0m \u001b[38;5;28;01mif\u001b[39;00m rate \u001b[38;5;241m>\u001b[39m max_rate:\n\u001b[0;32m     13\u001b[0m     max_rate \u001b[38;5;241m=\u001b[39m rate\n",
      "\u001b[1;31mZeroDivisionError\u001b[0m: division by zero"
     ]
    }
   ],
   "source": [
    "import csv\n",
    "f=open('subwayfee.csv')\n",
    "data=csv.reader(f)\n",
    "next(data)\n",
    "max_rate=0\n",
    "rate=0\n",
    "\n",
    "for row in data:\n",
    "    for i in range(4,8):\n",
    "        row[i]=int(row[i])  # 4, 5, 6, 7 컬럼값을 정수로 변환\n",
    "    rate = row[4] / row[6]\n",
    "    if rate > max_rate:\n",
    "        max_rate = rate\n",
    "print(max_rate)"
   ]
  },
  {
   "cell_type": "code",
   "execution_count": 64,
   "id": "0d97de77",
   "metadata": {},
   "outputs": [
    {
     "ename": "ZeroDivisionError",
     "evalue": "division by zero",
     "output_type": "error",
     "traceback": [
      "\u001b[1;31m---------------------------------------------------------------------------\u001b[0m",
      "\u001b[1;31mZeroDivisionError\u001b[0m                         Traceback (most recent call last)",
      "Input \u001b[1;32mIn [64]\u001b[0m, in \u001b[0;36m<cell line: 8>\u001b[1;34m()\u001b[0m\n\u001b[0;32m      9\u001b[0m \u001b[38;5;28;01mfor\u001b[39;00m i \u001b[38;5;129;01min\u001b[39;00m \u001b[38;5;28mrange\u001b[39m(\u001b[38;5;241m4\u001b[39m,\u001b[38;5;241m8\u001b[39m):\n\u001b[0;32m     10\u001b[0m     row[i]\u001b[38;5;241m=\u001b[39m\u001b[38;5;28mint\u001b[39m(row[i])  \u001b[38;5;66;03m# 4, 5, 6, 7 컬럼값을 정수로 변환\u001b[39;00m\n\u001b[1;32m---> 11\u001b[0m rate \u001b[38;5;241m=\u001b[39m \u001b[43mrow\u001b[49m\u001b[43m[\u001b[49m\u001b[38;5;241;43m4\u001b[39;49m\u001b[43m]\u001b[49m\u001b[43m \u001b[49m\u001b[38;5;241;43m/\u001b[39;49m\u001b[43m \u001b[49m\u001b[43mrow\u001b[49m\u001b[43m[\u001b[49m\u001b[38;5;241;43m6\u001b[39;49m\u001b[43m]\u001b[49m\n\u001b[0;32m     12\u001b[0m \u001b[38;5;28;01mif\u001b[39;00m rate \u001b[38;5;241m>\u001b[39m max_rate:\n\u001b[0;32m     13\u001b[0m     max_rate \u001b[38;5;241m=\u001b[39m rate\n",
      "\u001b[1;31mZeroDivisionError\u001b[0m: division by zero"
     ]
    }
   ],
   "source": [
    "import csv\n",
    "f=open('subwayfee.csv')\n",
    "data=csv.reader(f)\n",
    "next(data)\n",
    "max_rate=0\n",
    "rate=0\n",
    "\n",
    "for row in data:\n",
    "    for i in range(4,8):\n",
    "        row[i]=int(row[i])  # 4, 5, 6, 7 컬럼값을 정수로 변환\n",
    "    rate = row[4] / row[6]\n",
    "    if rate > max_rate:\n",
    "        max_rate = rate\n",
    "print(max_rate)"
   ]
  },
  {
   "cell_type": "code",
   "execution_count": 65,
   "id": "84f8805e",
   "metadata": {},
   "outputs": [
    {
     "name": "stdout",
     "output_type": "stream",
     "text": [
      "['Jun-22', '일산선', '1949', '지축', 10, 0, 0, 0, '']\n",
      "['Jun-22', '경의선', '1296', '계양', 10, 0, 0, 0, '']\n",
      "['Jun-22', '경의선', '1297', '검암', 2, 0, 0, 0, '']\n",
      "['Jun-22', '6호선', '2615', '연신내', 31, 0, 0, 0, '']\n",
      "['Jun-22', '6호선', '2649', '신내', 4, 0, 0, 0, '']\n",
      "['Jun-22', '7호선', '2753', '까치울', 1, 0, 0, 0, '']\n",
      "['Jun-22', '7호선', '2758', '상동', 1, 0, 0, 0, '']\n",
      "['Jun-22', '7호선', '2761', '부평구청', 1, 0, 0, 0, '']\n"
     ]
    }
   ],
   "source": [
    "# 무임승차 인원이 0인 역 찾기\n",
    "import csv\n",
    "f=open('subwayfee.csv')\n",
    "data=csv.reader(f)\n",
    "next(data)\n",
    "max_rate=0\n",
    "rate=0\n",
    "i=0\n",
    "for row in data:\n",
    "    for i in range(4,8):\n",
    "        row[i]=int(row[i])  # 4, 5, 6, 7 컬럼값을 정수로 변환\n",
    "    rate=row[4]/(row[4]+row[6])\n",
    "    \n",
    "    if row[6] ==0:  # 무임승차 인원[6]이 없는 역 출력\n",
    "        print(row)\n",
    "        \n",
    "f.close()"
   ]
  },
  {
   "cell_type": "code",
   "execution_count": 66,
   "id": "bcea2d85",
   "metadata": {},
   "outputs": [
    {
     "name": "stdout",
     "output_type": "stream",
     "text": [
      "['Jun-22', '일산선', '1949', '지축', 10, 0, 0, 0, '']\n",
      "['Jun-22', '경의선', '1296', '계양', 10, 0, 0, 0, '']\n",
      "['Jun-22', '경의선', '1297', '검암', 2, 0, 0, 0, '']\n",
      "['Jun-22', '6호선', '2615', '연신내', 31, 0, 0, 0, '']\n",
      "['Jun-22', '6호선', '2649', '신내', 4, 0, 0, 0, '']\n",
      "['Jun-22', '7호선', '2753', '까치울', 1, 0, 0, 0, '']\n",
      "['Jun-22', '7호선', '2758', '상동', 1, 0, 0, 0, '']\n",
      "['Jun-22', '7호선', '2761', '부평구청', 1, 0, 0, 0, '']\n"
     ]
    }
   ],
   "source": [
    "# 최대 무임 승차 비율 확인\n",
    "import csv\n",
    "\n",
    "f=open('subwayfee.csv')\n",
    "data=csv.reader(f)\n",
    "next(data)\n",
    "max_rate=0\n",
    "rate=0\n",
    "\n",
    "for row in data:\n",
    "    for i in range(4, 8):\n",
    "        row[i] = int(row[i])\n",
    "    rate=row[4] / (row[4] + row[6])\n",
    "    \n",
    "    if row[6] == 0:\n",
    "        print(row)\n",
    "        \n",
    "f.close()"
   ]
  },
  {
   "cell_type": "code",
   "execution_count": 67,
   "id": "1449145c",
   "metadata": {},
   "outputs": [
    {
     "name": "stdout",
     "output_type": "stream",
     "text": [
      "['Jun-22', '1호선', '150', '서울역', 1150754, 1123193, 194717, 187155, ''] 14.47 %\n",
      "['Jun-22', '1호선', '153', '종로3가', 450317, 404106, 299617, 278151, ''] 39.95 %\n",
      "['Jun-22', '1호선', '157', '제기동', 218782, 209109, 263173, 281985, ''] 54.61 %\n",
      "['Jun-22', '경원선', '1916', '소요산', 32659, 25998, 62990, 56806, ''] 65.86 %\n",
      "['Jun-22', '7호선', '2756', '신중동', 0, 0, 1, 0, ''] 100.0 %\n"
     ]
    }
   ],
   "source": [
    "# 최대 무임 승차 비율 확인\n",
    "import csv\n",
    "\n",
    "f=open('subwayfee.csv')\n",
    "data=csv.reader(f)\n",
    "next(data)\n",
    "max_rate=0\n",
    "rate=0\n",
    "max_rate=0\n",
    "rate=0\n",
    "\n",
    "for row in data:\n",
    "    for i in range(4,8):\n",
    "        row[i]=int(row[i])\n",
    "        \n",
    "    if row[6] != 0:\n",
    "        rate= (row[6]*100) / (row[4]+row[6])\n",
    "        if rate > max_rate:\n",
    "            max_rate=rate\n",
    "            print(row, round(rate, 2), '%')"
   ]
  },
  {
   "cell_type": "code",
   "execution_count": 68,
   "id": "6106e384",
   "metadata": {},
   "outputs": [
    {
     "name": "stdout",
     "output_type": "stream",
     "text": [
      "['Jun-22', '2호선', '209', '한양대', 269240, 295829, 12481, 13227, '']\n",
      "역이름: 한양대, 전체 인원: 281,721, 유임승차인원: 269,240, 유임승차 비율: 0.96\n"
     ]
    }
   ],
   "source": [
    "# 최대 유임 승차 인원이 있는 역은?? #2\n",
    "import csv\n",
    "f=open('subwayfee.csv', encoding='euc_kr')\n",
    "data=csv.reader(f)\n",
    "next(data)\n",
    "max_rate=0\n",
    "rate=0\n",
    "max_row=[]\n",
    "total_count=0\n",
    "max_total_num=0\n",
    "\n",
    "for row in data:\n",
    "    for i in range(4,8):\n",
    "        row[i] = int(row[i])  # 문자열을 정수로 변환\n",
    "    total_count = row[4] + row[6]  # 유임승차수 + 무임승차수\n",
    "    if (row[6] != 0) and (total_count > 100000):\n",
    "        rate = row[4] / total_count\n",
    "        if rate > max_rate:\n",
    "            max_rate = rate\n",
    "            max_row = row\n",
    "            max_total_num = total_count\n",
    "            \n",
    "print(max_row)\n",
    "print('역이름: {0}, 전체 인원: {1:,}, 유임승차인원: {2:,}, 유임승차 비율: {3:,}'.format(max_row[3], max_total_num, max_row[4], round(max_rate, 2)))"
   ]
  },
  {
   "cell_type": "code",
   "execution_count": 69,
   "id": "a17249fc",
   "metadata": {},
   "outputs": [
    {
     "name": "stdout",
     "output_type": "stream",
     "text": [
      "['사용월', '호선명', '역ID', '지하철역', '유임승차', '유임하차', '무임승차', '무임하차', '']\n",
      "['Jun-22', '1호선', '157', '제기동', 218782, '209109', 263173, '281985', ''] 0.45\n",
      "['Jun-22', '1호선', '159', '동묘앞', 122460, '131299', 146455, '147539', ''] 0.46\n",
      "['Jun-22', '경원선', '1916', '소요산', 32659, '25998', 62990, '56806', ''] 0.34\n",
      "['Jun-22', '중앙선', '1218', '원덕', 5854, '5749', 6959, '6739', ''] 0.46\n",
      "['Jun-22', '중앙선', '1219', '용문', 34168, '34477', 38467, '38202', ''] 0.47\n",
      "유임 승차 비율이 가장 낮은 역: 소요산, 전체 인원:95,649, 유임승차인원:32,659, 유임승차비율:0.34\n"
     ]
    },
    {
     "data": {
      "image/png": "[encoded data removed]",
      "text/plain": [
       "<Figure size 432x288 with 1 Axes>"
      ]
     },
     "metadata": {},
     "output_type": "display_data"
    }
   ],
   "source": [
    "# 실습: 유임 승차 비율이 50% 이하인 역\n",
    "import csv\n",
    "import matplotlib.pyplot as plt\n",
    "import platform\n",
    "\n",
    "f=open('subwayfee.csv', encoding='euc_kr')\n",
    "data=csv.reader(f)\n",
    "header=next(data)\n",
    "print(header)\n",
    "min_rate=100\n",
    "rate=0\n",
    "min_row=[]\n",
    "total_count=0\n",
    "min_total_count=0\n",
    "\n",
    "for row in data:\n",
    "    for i in [4,6]:\n",
    "        row[i]=int(row[i])\n",
    "    total_count=row[4]+row[6]\n",
    "    if (row[6] != 0) and (total_count >= 10000):  # 무임승차 인원이 없고, 총 승차인원이 1만명 이상\n",
    "        rate = row[4] / total_count\n",
    "        if rate <= 0.5:\n",
    "            print(row, round(rate, 2))\n",
    "            if rate < min_rate: # 유임 승차 비율이 가장 낮은 역 찾기\n",
    "                min_rate = rate\n",
    "                min_row = row\n",
    "                min_total_count = total_count\n",
    "print('유임 승차 비율이 가장 낮은 역: {0}, 전체 인원:{1:,}, 유임승차인원:{2:,}, 유임승차비율:{3:,}'.format(min_row[3], min_total_count, min_row[4], round(min_rate, 2)))\n",
    "    \n",
    "f.close()\n",
    "if(platform.system() == 'Windows'):\n",
    "    plt.rc('font', family='Malgun Gothic')\n",
    "else:\n",
    "    plt.rc('font', family='AppleGothic')\n",
    "    \n",
    "plt.title(min_row[3] + \"유,무임 승차 비율\")\n",
    "label = ['유임승차', '무임승차']\n",
    "values= [min_row[4], min_row[6]]\n",
    "\n",
    "plt.pie(values, labels=label, autopct='%.1f%%')\n",
    "plt.show()"
   ]
  },
  {
   "cell_type": "code",
   "execution_count": 73,
   "id": "75f81463",
   "metadata": {},
   "outputs": [],
   "source": [
    "# 전체 지하철 역 파이차트 분석\n",
    "import csv\n",
    "import matplotlib.pyplot as plt\n",
    "import platform\n",
    "\n",
    "label=['유임승차','유임하차','무임승차','무임하자']\n",
    "c=['blue','red','green','yellow']  # 파이차트 컬러 값\n",
    "pic_count=0\n",
    "with open('subwayfee.csv', encoding='euc_kr') as f:\n",
    "    data=csv.reader(f)\n",
    "    next(data)\n",
    "    if(platform.system() == 'Windows'):\n",
    "        plt.rc('font', family='Malgun Gothic')\n",
    "    else:\n",
    "        plt.rc('font', family='Apple Gothic')\n",
    "        \n",
    "    for row in data:\n",
    "        for i in range(4,8):\n",
    "            row[i]=int(row[i])\n",
    "            \n",
    "        plt.figure(dpi=100)  # 저장할 그림파일의 dpi 설정\n",
    "        plt.title(row[3]+' '+row[1])\n",
    "        plt.pie(row[4:8], labels=label, colors=c, autopct='%.1f%%')    # 4개 항목에 대한 파이 차트 작성\n",
    "        plt.savefig(row[3]+ ' '+row[1]+'.png')  # 지하철역 이름 + 호선 번호.png\n",
    "        plt.close()  # 파일 닫기\n",
    "        \n",
    "        pic_count += 1\n",
    "        if pic_count >= 10:    # 10개 역의 파이차트만 저장함\n",
    "            break"
   ]
  },
  {
   "cell_type": "code",
   "execution_count": null,
   "id": "8f7faf0e",
   "metadata": {},
   "outputs": [],
   "source": []
  }
 ],
 "metadata": {
  "kernelspec": {
   "display_name": "Python 3 (ipykernel)",
   "language": "python",
   "name": "python3"
  },
  "language_info": {
   "codemirror_mode": {
    "name": "ipython",
    "version": 3
   },
   "file_extension": ".py",
   "mimetype": "text/x-python",
   "name": "python",
   "nbconvert_exporter": "python",
   "pygments_lexer": "ipython3",
   "version": "3.9.12"
  }
 },
 "nbformat": 4,
 "nbformat_minor": 5
}
