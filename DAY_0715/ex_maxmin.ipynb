{
 "cells": [
  {
   "cell_type": "markdown",
   "id": "c3a4f543",
   "metadata": {},
   "source": [
    "## 최대값, 최소값 구하는 방법"
   ]
  },
  {
   "cell_type": "code",
   "execution_count": 2,
   "id": "4336bb6d",
   "metadata": {},
   "outputs": [],
   "source": [
    "numbers = [5, 6, 4, 3, 9, 1]\n",
    "\n",
    "max_num = 0\n",
    "min_num = 100"
   ]
  },
  {
   "cell_type": "markdown",
   "id": "e61ab839",
   "metadata": {},
   "source": [
    "### 최대값 구하기\n",
    "- numbers = [5, 6, 4, 3, 9, 1], max_num = 0"
   ]
  },
  {
   "cell_type": "code",
   "execution_count": 4,
   "id": "38ec5ecd",
   "metadata": {},
   "outputs": [
    {
     "name": "stdout",
     "output_type": "stream",
     "text": [
      "num:5, max_num:0\n",
      "num:6, max_num:5\n",
      "num:4, max_num:6\n",
      "num:3, max_num:6\n",
      "num:9, max_num:6\n",
      "num:1, max_num:9\n",
      "최대값:  9\n"
     ]
    }
   ],
   "source": [
    "for num in numbers:\n",
    "    print('num:{0}, max_num:{1}'.format(num, max_num))\n",
    "    if num > max_num:\n",
    "        max_num = num # max_num(최대값) 업데이트\n",
    "\n",
    "print('최대값: ', max_num)"
   ]
  },
  {
   "cell_type": "markdown",
   "id": "709a973f",
   "metadata": {},
   "source": [
    "### 최소값 구하기\n",
    "- numbers = [5, 6, 4, 3, 9, 1], min_num = 100"
   ]
  },
  {
   "cell_type": "code",
   "execution_count": 6,
   "id": "0f40e265",
   "metadata": {},
   "outputs": [
    {
     "name": "stdout",
     "output_type": "stream",
     "text": [
      "num:5, min_num:100\n",
      "num:6, min_num:5\n",
      "num:4, min_num:5\n",
      "num:3, min_num:4\n",
      "num:9, min_num:3\n",
      "num:1, min_num:3\n",
      "최소값:  1\n"
     ]
    }
   ],
   "source": [
    "for num in numbers:\n",
    "    print('num:{0}, min_num:{1}'.format(num, min_num))\n",
    "    if num < min_num:\n",
    "        min_num = num # min_num(최소값) 업데이트\n",
    "\n",
    "print('최소값: ', min_num)"
   ]
  },
  {
   "cell_type": "code",
   "execution_count": null,
   "id": "8445ce1a",
   "metadata": {},
   "outputs": [],
   "source": []
  }
 ],
 "metadata": {
  "kernelspec": {
   "display_name": "Python 3 (ipykernel)",
   "language": "python",
   "name": "python3"
  },
  "language_info": {
   "codemirror_mode": {
    "name": "ipython",
    "version": 3
   },
   "file_extension": ".py",
   "mimetype": "text/x-python",
   "name": "python",
   "nbconvert_exporter": "python",
   "pygments_lexer": "ipython3",
   "version": "3.9.12"
  }
 },
 "nbformat": 4,
 "nbformat_minor": 5
}
