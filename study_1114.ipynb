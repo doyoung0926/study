{
 "cells": [
  {
   "cell_type": "markdown",
   "metadata": {},
   "source": [
    "# 클래스와 객체\n",
    "\n",
    "- 파이썬 프로그래밍"
   ]
  },
  {
   "cell_type": "markdown",
   "metadata": {},
   "source": [
    "### Lab: 은행 계좌\n",
    "\n",
    "---\n",
    "- 우리는 은행 계좌에 돈을 저금할 수 잇고 인출할 수도 있다. 은행 계좌를 클래스로 모델리하여 보자.\n",
    "- 은행 계좌는 현재 잔액(balance)만을 인스턴스 변수로 가진다. 생성자와 인출 메소드 withdraw()와 저축 메소드 deposit() 만을 가정하자.\n",
    "\n",
    "통장에서 100가 출금 되었음\n",
    "통장에 10가 입금되었음"
   ]
  },
  {
   "cell_type": "code",
   "execution_count": 1,
   "metadata": {},
   "outputs": [
    {
     "name": "stdout",
     "output_type": "stream",
     "text": [
      "통장에서  100 가 입금되었음\n",
      "Balance:  100\n",
      "통장에  10 가 출금되었음\n",
      "Balance: 90\n"
     ]
    },
    {
     "ename": "AttributeError",
     "evalue": "'BankAccount' object has no attribute '__balance'",
     "output_type": "error",
     "traceback": [
      "\u001b[1;31m---------------------------------------------------------------------------\u001b[0m",
      "\u001b[1;31mAttributeError\u001b[0m                            Traceback (most recent call last)",
      "\u001b[1;32mc:\\Users\\USER\\Desktop\\vs코드\\doyoung_vs\\study\\study_1114.ipynb 셀 3\u001b[0m in \u001b[0;36m<cell line: 22>\u001b[1;34m()\u001b[0m\n\u001b[0;32m     <a href='vscode-notebook-cell:/c%3A/Users/USER/Desktop/vs%EC%BD%94%EB%93%9C/doyoung_vs/study/study_1114.ipynb#W3sZmlsZQ%3D%3D?line=19'>20</a>\u001b[0m balance \u001b[39m=\u001b[39m a\u001b[39m.\u001b[39mwithdraw(\u001b[39m10\u001b[39m)\n\u001b[0;32m     <a href='vscode-notebook-cell:/c%3A/Users/USER/Desktop/vs%EC%BD%94%EB%93%9C/doyoung_vs/study/study_1114.ipynb#W3sZmlsZQ%3D%3D?line=20'>21</a>\u001b[0m \u001b[39mprint\u001b[39m(\u001b[39m'\u001b[39m\u001b[39mBalance:\u001b[39m\u001b[39m'\u001b[39m, balance)\n\u001b[1;32m---> <a href='vscode-notebook-cell:/c%3A/Users/USER/Desktop/vs%EC%BD%94%EB%93%9C/doyoung_vs/study/study_1114.ipynb#W3sZmlsZQ%3D%3D?line=21'>22</a>\u001b[0m \u001b[39mprint\u001b[39m(a\u001b[39m.\u001b[39;49m__balance)\n",
      "\u001b[1;31mAttributeError\u001b[0m: 'BankAccount' object has no attribute '__balance'"
     ]
    }
   ],
   "source": [
    "# Solution\n",
    "\n",
    "class BankAccount:     # __balance 변수: private 변수로 클래스 외부에서 접근할 수 없음\n",
    "    def __init__(self):\n",
    "        self.__balance = 0\n",
    "\n",
    "    def withdraw(self, amount):\n",
    "        self.__balance -= amount\n",
    "        print('통장에 ', amount, '가 출금되었음')\n",
    "        return self.__balance\n",
    "    \n",
    "    def deposit(self, amount):\n",
    "        self.__balance += amount\n",
    "        print('통장에서 ', amount, '가 입금되었음')\n",
    "        return self.__balance\n",
    "\n",
    "a = BankAccount()\n",
    "balance = a.deposit(100)\n",
    "print('Balance: ', balance)\n",
    "balance = a.withdraw(10)\n",
    "print('Balance:', balance)\n",
    "print(a.__balance)  # 클래스의 private 변수에 접근하게 되면 예외 발생됨"
   ]
  },
  {
   "cell_type": "markdown",
   "metadata": {},
   "source": [
    "### Lab: 고양이 클래스\n",
    "---\n",
    "- 고양이를 클래스로 정의한다. 고양이는 이름(name)과 나이(age)를 속성으로 가진다.\n",
    "\n",
    "Missy 3  \n",
    "Lucky 5"
   ]
  },
  {
   "cell_type": "code",
   "execution_count": 2,
   "metadata": {},
   "outputs": [
    {
     "name": "stdout",
     "output_type": "stream",
     "text": [
      "Missy 3\n",
      "Lucky 5\n"
     ]
    }
   ],
   "source": [
    "# Solution\n",
    "\n",
    "class Cat:\n",
    "    def __init__(self, name, age):   # __name, __age 변수: private 변수로 클래스 외부에서 접근할 수 없음. 따라서, 접근자와 설정자를 이용해서 해당 변수에 접근함\n",
    "        self.__name = name\n",
    "        self.__age = age\n",
    "\n",
    "    def setName(self, name):\n",
    "        self.__name = name\n",
    "\n",
    "    def getName(self):\n",
    "        return self.__name\n",
    "\n",
    "    def setAge(self, age):\n",
    "        self.__age = age\n",
    "\n",
    "    def getAge(self):\n",
    "        return self.__age\n",
    "\n",
    "\n",
    "missy = Cat('Missy', 3)\n",
    "lucky = Cat('Lucky', 5)\n",
    "\n",
    "print(missy.getName(), missy.getAge())\n",
    "print(lucky.getName(), lucky.getAge())"
   ]
  },
  {
   "cell_type": "markdown",
   "metadata": {},
   "source": [
    "### Lab: 객체 생성과 사용\n",
    "---\n",
    "- 상자를 나타내는 Box 클래스를 작성하여 보자. Box 클래스는 가로 길이, 세로 길이, 높이를 나타내는 인스턴스 변수를 가진다.\n",
    "\n",
    "(100, 100, 100)\n",
    "상자의 부피는 1000000"
   ]
  },
  {
   "cell_type": "code",
   "execution_count": 8,
   "metadata": {},
   "outputs": [
    {
     "name": "stdout",
     "output_type": "stream",
     "text": [
      "[100, 100, 100]\n",
      "상자의 부피는  1000000\n"
     ]
    }
   ],
   "source": [
    "# Solution\n",
    "\n",
    "class Box:\n",
    "    def __init__(self, width=0, length=0, height=0):\n",
    "        self.__width = width\n",
    "        self.__length = length\n",
    "        self.__height = height\n",
    "\n",
    "    def setWidth(self, width):\n",
    "        self.__width = width\n",
    "    \n",
    "    def setLength(self, length):\n",
    "        self.__length = length\n",
    "\n",
    "    def setHeight(self, height):\n",
    "        self.__height = height\n",
    "\n",
    "    def getVolume(self):\n",
    "        return self.__width * self.__length * self.__height\n",
    "\n",
    "    def __str__(self):   # __str__(self) 함수 : 객체 자체를 문자열 형태로 출력할 때 형식을 지정해주는 함수\n",
    "        return '[%d, %d, %d]' %(self.__width, self.__length, self.__height)\n",
    "\n",
    "box = Box(100,100,100)\n",
    "print(box) # 객체 출력: 해당 클래스의 __str__(self) 메소드가 자동 호출됨\n",
    "print('상자의 부피는 ', box.getVolume())"
   ]
  },
  {
   "cell_type": "markdown",
   "metadata": {},
   "source": [
    "### Lab: 자동차 클래스 작성\n",
    "---\n",
    "- 자동차를 나타내는 클래스를 정의하여보자.\n",
    "- 예로, 자동차 객체의 경우, 속성은 색상, 현재 속도, 현재 기어 등이다.\n",
    "- 자동차의 동작은 기아 변속하기, 가속하기, 감속하기 등을 들 수 있다.\n",
    "- 이 중에서 다음 그림과 같은 속성과 동작만을 추려서 구현해보자.\n",
    "\n",
    "(100, 3, white)"
   ]
  },
  {
   "cell_type": "code",
   "execution_count": 10,
   "metadata": {},
   "outputs": [
    {
     "name": "stdout",
     "output_type": "stream",
     "text": [
      "(100, 3, white)\n"
     ]
    }
   ],
   "source": [
    "# Solution\n",
    "\n",
    "class Car:\n",
    "    def __init__(self, speed=0, gear=1, color='white'):\n",
    "        self.speed = speed\n",
    "        self.gear = gear\n",
    "        self.color = color\n",
    "\n",
    "    def setSpeed(self, speed):\n",
    "        self.speed = speed\n",
    "\n",
    "    def setGear(self, gear):\n",
    "        self.gear = gear\n",
    "\n",
    "    def setColor(self, color):\n",
    "        self.color = color\n",
    "\n",
    "    def __str__(self):\n",
    "        return '(%d, %d, %s)' %(self.speed, self.gear, self.color)\n",
    "\n",
    "myCar = Car()\n",
    "myCar.setGear(3)\n",
    "myCar.setSpeed(100)\n",
    "print(myCar)"
   ]
  },
  {
   "cell_type": "markdown",
   "metadata": {},
   "source": [
    "### 객체를 함수로 전달할 때\n",
    "---\n",
    "- 객체가 함수로 전달되면 함수 내부에서 객체를 변경할 수 있음"
   ]
  },
  {
   "cell_type": "code",
   "execution_count": 12,
   "metadata": {},
   "outputs": [
    {
     "name": "stdout",
     "output_type": "stream",
     "text": [
      "0 \t 0\n",
      "1 \t 1\n",
      "2 \t 4\n",
      "3 \t 9\n",
      "4 \t 16\n",
      "사각형의 변= 5\n",
      "리스트 값= [2, 3, 4, 5, 6]\n",
      "반복 횟수= 5\n"
     ]
    }
   ],
   "source": [
    "# 사각형을 클래스로 정의한다.\n",
    "\n",
    "class Rectangle:\n",
    "    def __init__(self, side=0):\n",
    "        self.side = side\n",
    "\n",
    "    def getArea(self):\n",
    "        return self.side * self.side\n",
    "\n",
    "# End of Rectangle\n",
    "# 사각형 객체와 반복횟수를 받아서 변을 증가시키면서 면적을 출력한다.\n",
    "def printAreas(rect, array, n):   # myRect 객체의 side 변수가 증가함\n",
    "    while n >= 1:\n",
    "        print(rect.side, '\\t', rect.getArea())\n",
    "        rect.side = rect.side + 1\n",
    "        array[n-1] = array[n-1] + 1\n",
    "        n = n - 1\n",
    "\n",
    "# printAreas()을 호출하여 객체의 내용이 변경되는지를 확인한다.\n",
    "myRect = Rectangle()\n",
    "count = 5\n",
    "list1 = [1,2,3,4,5]\n",
    "printAreas(myRect, list1, count)   # myRect 객체의 side 변수는 변경된 값이 출력되지만, count는 변경되지 않음\n",
    "print('사각형의 변=', myRect.side)\n",
    "print('리스트 값=', list1)\n",
    "print('반복 횟수=', count)"
   ]
  },
  {
   "cell_type": "markdown",
   "metadata": {},
   "source": [
    "### 객체를 함수로 전달할 때\n",
    "---\n",
    "- 파이썬에서 객체와 리스트를 함수로 전달:\n",
    "    - 참조에 의한 호출(Call-by-Reference)\n",
    "    - 함수 내부에서 객체나 리스트를 변경시키면, 함수 밖에서도 변경된 값이 적용됨\n",
    "    - 값에 의한 호출, 참조에 의한 호출"
   ]
  },
  {
   "cell_type": "markdown",
   "metadata": {},
   "source": [
    "### 클래스 변수\n",
    "---\n",
    "- 객체 변수(인스턴스 변수)\n",
    "    - 항상 객체를 통하여 생성되고 사용됨\n",
    "    - 객체마다 독립된 값을 가짐\n",
    "\n",
    "- 클래스 변수\n",
    "    - 모든 객체를 통틀어서 하나만 생성되고 모든 객체가 이것을 공유\n",
    "    - 이러한 변수를 정적 멤버 또는 클래스 변수라고 한다.\n",
    "\n",
    "클래스 변수\n",
    "변수 <- 모든 사람이 하나의 변수를 공유한다.\n",
    "클래스 변수는 클래스당 하나만 생성되어서 모든 객체가 공유한다."
   ]
  },
  {
   "cell_type": "markdown",
   "metadata": {},
   "source": [
    "### 인스턴스 변수 vs 클래스 변수\n",
    "---\n",
    "- 인스턴스(객체) 변수\n",
    "    - 객체(인스턴스)가 생성될 때마다 생성\n",
    "    - 각 객체는 이들 변수에 별도의 기억 공간을 가지고 있음\n",
    "\n",
    "- 클래스 변수\n",
    "    - 객체(인스턴스)가 공유하는 변수\n",
    "    - 클래스명.변수명 (Televison.serial Number)"
   ]
  },
  {
   "cell_type": "code",
   "execution_count": 13,
   "metadata": {},
   "outputs": [],
   "source": [
    "# 클래스 변수\n",
    "\n",
    "class Television:\n",
    "    serialNumber = 0  # 클래스 변수:  - 생성자 이전에 선언\n",
    "\n",
    "    def __init__(self, channel, volume, on):\n",
    "        Television.serialNumber += 1\n",
    "        self.number = Television.serialNumber  # 클래스 변수 사용\n",
    "        self.channel = channel\n",
    "        self.volume = volume\n",
    "        self.on = on\n"
   ]
  },
  {
   "cell_type": "code",
   "execution_count": 16,
   "metadata": {},
   "outputs": [
    {
     "name": "stdout",
     "output_type": "stream",
     "text": [
      "7 9 True\n",
      "9 10 True\n",
      "11 5 False\n",
      "t1.serialNumber: 3, id: 140730989616960\n",
      "t2.serialNumber: 3, id: 140730989616960\n",
      "t3.serialNumber: 3, id: 140730989616960\n",
      "Televison.serialNumber: 3, id: 140730989616960\n"
     ]
    }
   ],
   "source": [
    "# 클래스 변수 예제\n",
    "\n",
    "class Television:\n",
    "    serialNumber = 0   # 클래스 변수\n",
    "\n",
    "    def __init__(self, channel, volume, on):\n",
    "        Television.serialNumber += 1  # 생성자에서 클래스 변수  serialNumber를 1씩 증가 시킴\n",
    "        self.number = Television.serialNumber\n",
    "        self.channel = channel\n",
    "        self.volume = volume\n",
    "        self.on = on\n",
    "\n",
    "    def show(self):\n",
    "        print(self.channel, self.volume, self.on)\n",
    "\n",
    "    def setChannel(self, channel):\n",
    "        self.channel = channel\n",
    "\n",
    "    def getChannel(self):\n",
    "        return self.channel\n",
    "\n",
    "t1 = Television(7, 9, True)\n",
    "t2 = Television(9, 10, True)\n",
    "t3 = Television(11, 5 ,False)\n",
    "\n",
    "t1.show()\n",
    "t2.show()\n",
    "t3.show()\n",
    "print('t1.serialNumber: {0}, id: {1}'.format(t1.serialNumber, id(t1.serialNumber)))   # 각 객체의 serialNumber 변수의 id는 동일함\n",
    "print('t2.serialNumber: {0}, id: {1}'.format(t2.serialNumber, id(t2.serialNumber)))\n",
    "print('t3.serialNumber: {0}, id: {1}'.format(t3.serialNumber, id(t3.serialNumber)))\n",
    "print('Televison.serialNumber: {0}, id: {1}'.format(Television.serialNumber, id(Television.serialNumber)))"
   ]
  },
  {
   "cell_type": "markdown",
   "metadata": {},
   "source": [
    "### 특수 메소드\n",
    "---\n",
    "- 파이썬에는 연산자(+,-,*,/)와 관련된 특스 메소드(sepcial method)가 있다. \n",
    "- 이들 메소드는 객체에 대하여 +,-,*,/ 연산을 적용하면 자동 호출됨"
   ]
  },
  {
   "cell_type": "code",
   "execution_count": 18,
   "metadata": {},
   "outputs": [
    {
     "name": "stdout",
     "output_type": "stream",
     "text": [
      "두 원의 반지름은 다릅니다.\n"
     ]
    }
   ],
   "source": [
    "class Circle:\n",
    "    def __init__(self, radius):\n",
    "        self.radius = radius\n",
    "\n",
    "    def __eq__(self, other):\n",
    "        return self.radius == other.radius\n",
    "\n",
    "c1 = Circle(10)\n",
    "c2 = Circle(20)\n",
    "\n",
    "if c1 == c2:\n",
    "    print('두 원의 반지름은 동일합니다.')\n",
    "else:\n",
    "    print('두 원의 반지름은 다릅니다.')"
   ]
  },
  {
   "cell_type": "markdown",
   "metadata": {},
   "source": [
    "### 특수 메소드\n",
    "---\n",
    "연산자          메소드          설명\n",
    "x + y   __add__(self, y)    덧셈  \n",
    "x - y   __sub__(self, y)    뺄셈   \n",
    "x * y   __mul__(self, y)    곱셈  \n",
    "x / y   __truediv__(self, y)  실수 나눗셈  \n",
    "x // y  __floordiv__(self, y)   정수 나눗셈  \n",
    "x % y   __mod__(self, y)   나머지  \n",
    "divmod(x, y)   __divmod__(self, y)  실수나눗셈과 나머지  \n",
    "x ** y   __pow__(self, y)   지수  \n",
    "x << y   __lshift__(self, y)   왼쪽 비트 이동  \n",
    "x >> y   __rshift__(self, y)   오른쪽 비트 이동  \n",
    "x <= y   __le__(self, y)    less than or equal(작거나 같다)  \n",
    "x < y   __lt__(self, y)    less than(작다)  \n",
    "x >= y   __ge__(self, y)   greater than or equal(크거나 같다)  \n",
    "x > y    __gt__(self, y)    greater than(크다)  \n",
    "x == y    __eq__(self, y)    같다  \n",
    "x != y   __neq__(self, y)   같지않다  "
   ]
  },
  {
   "cell_type": "markdown",
   "metadata": {},
   "source": [
    "### 특수 메소드 예제: 벡터\n",
    "---\n",
    "- 2차원 공간에서 벡터(vector)는 (a, b)와 같이 2개의 실수로 표현될 수 있다.\n",
    "- 벡터 간에는 덧셈이나 뺄셈이 정의된다.  \n",
    "(a, b) + (c, d) = (a+c, b+d)  \n",
    "(a, b) - (c, d) = (a-c, b-d)\n",
    "\n",
    "- 특수 메소드를 이용하여서 + 연산과 - 연산, str() 메소드를 구현해보자.\n",
    "(0,1) + (1,0) = (1,1)"
   ]
  },
  {
   "cell_type": "code",
   "execution_count": 25,
   "metadata": {},
   "outputs": [
    {
     "name": "stdout",
     "output_type": "stream",
     "text": [
      "(1, 1)\n",
      "(1, 0)\n"
     ]
    }
   ],
   "source": [
    "# 예제\n",
    "\n",
    "class Vector2D:\n",
    "    def __init__(self, x, y): \n",
    "        self.x = x\n",
    "        self.y = y\n",
    "    \n",
    "    def __add__(self, other):\n",
    "        return Vector2D(self.x + other.x, self.y + other.y)   # 새로운 Vector2D 객체 생성  - 생성자 호출\n",
    "\n",
    "    def __sub__(self, other):\n",
    "        return Vector2D(self.x - other.x, self.y - other.y)\n",
    "\n",
    "    def __eq__(self, other):\n",
    "        return self.x == other.x and self.y == other.y\n",
    "\n",
    "    def __str__(self):\n",
    "        return '(%g, %g)' %(self.x, self.y)   # %g: %f(부동소수점)와 %e(지수표기)의 단축형 표기 (자료형에 따라 바뀜)\n",
    "\n",
    "u = Vector2D(0,1)\n",
    "v = Vector2D(1,0)\n",
    "w = Vector2D(1,1)\n",
    "a = u + v\n",
    "print(a)   # __add__() 메소드가 호출됨\n",
    "print(w-u)"
   ]
  },
  {
   "cell_type": "markdown",
   "metadata": {},
   "source": [
    "### 주사위 클래스\n",
    "---\n",
    "- 주사위의 속성\n",
    "    - 주사위의 값(value)\n",
    "    - 주사위의 면의 수 (faceNum)\n",
    "\n",
    "- 주사위의 동작\n",
    "    - 주사위를 생성하는 연산: __init__(faceNum)\n",
    "    - 주사위를 던지는 연산: roll_dice()\n",
    "    - 주사위의 값을 읽는 연산: read_dice()\n",
    "    - 주사위를 화면에 출력하는 연산: print_dice()"
   ]
  },
  {
   "cell_type": "code",
   "execution_count": 29,
   "metadata": {},
   "outputs": [
    {
     "name": "stdout",
     "output_type": "stream",
     "text": [
      "주사위의 값= 3\n",
      "주사위의 값= 1\n",
      "주사위의 값= 1\n",
      "주사위의 값= 2\n",
      "주사위의 값= 6\n",
      "주사위의 값= 3\n",
      "주사위의 값= 4\n"
     ]
    }
   ],
   "source": [
    "# 주사위 클래스 예제\n",
    "\n",
    "from random import randint\n",
    "\n",
    "class Dice:\n",
    "    def __init__(self, faceNumber):\n",
    "        self.__faceNum = faceNumber  # 주사위 면의 수\n",
    "        self.__value = 1\n",
    "\n",
    "    def read_dice(self):\n",
    "        return self.__value\n",
    "\n",
    "    def print_dice(self):\n",
    "        print('주사위의 값=', self.__value)\n",
    "\n",
    "    def roll_dice(self):\n",
    "        self.__value = randint(1, self.__faceNum)\n",
    "\n",
    "faceNum = int(input('주사위의 면의 수를 입력하세요: '))\n",
    "d = Dice(faceNum)\n",
    "\n",
    "num = int(input('주사위를 던질 회수를 입력하세요: '))\n",
    "for i in range(num):\n",
    "    d.roll_dice()\n",
    "    d.print_dice()"
   ]
  },
  {
   "cell_type": "markdown",
   "metadata": {},
   "source": [
    "### 파이썬에서의 변수의 종류\n",
    "---\n",
    "- 지역 변수 - 함수 안에서 선언되는 변수\n",
    "- 전역 변수 - 함수 외부에서 선언되는 변수\n",
    "- 인스턴스 변수 - 클래스 안에 선언된 변수, 앞에 self.가 붙는다.\n",
    "    - self를 붙이지 않으면, 새로운 변수로 인식함"
   ]
  },
  {
   "cell_type": "code",
   "execution_count": null,
   "metadata": {},
   "outputs": [],
   "source": [
    "class Bag:\n",
    "    def __init__(self):\n",
    "        self.data = []\n",
    "\n",
    "    def add(self, x):\n",
    "        self.data.append(x)\n",
    "\n",
    "    def add2(self, x):\n",
    "        self.add(x)\n",
    "        self.add(x)"
   ]
  },
  {
   "cell_type": "markdown",
   "metadata": {},
   "source": [
    "### 핵심 정리 \n",
    "---\n",
    "- 클래스는 속성과 동작으로 이루어진다.\n",
    "- 속성은 인스턴스 변수로 표현되고 동작은 메소드로 표현된다.\n",
    "- 객체를 생성하려면 생성자 메소드를 호출한다.\n",
    "- 생성자 메소드는 __init__() 이름의 메소드이다.\n",
    "- 인스턴스 변수를 정의하려면 생성자 메소드 안에서 self.변수이름과 같이 생성한다."
   ]
  }
 ],
 "metadata": {
  "kernelspec": {
   "display_name": "Python 3.8.13 ('pytorch38')",
   "language": "python",
   "name": "python3"
  },
  "language_info": {
   "codemirror_mode": {
    "name": "ipython",
    "version": 3
   },
   "file_extension": ".py",
   "mimetype": "text/x-python",
   "name": "python",
   "nbconvert_exporter": "python",
   "pygments_lexer": "ipython3",
   "version": "3.8.13"
  },
  "orig_nbformat": 4,
  "vscode": {
   "interpreter": {
    "hash": "e713db361fd0c0a151521921a307db5316dc01e9b741659f15d8bea985d071ea"
   }
  }
 },
 "nbformat": 4,
 "nbformat_minor": 2
}
