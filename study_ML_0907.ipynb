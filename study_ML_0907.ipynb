{
 "cells": [
  {
   "cell_type": "code",
   "execution_count": 45,
   "id": "565274f2",
   "metadata": {},
   "outputs": [],
   "source": [
    "import pandas as pd\n",
    "import numpy as np\n",
    "from sklearn.linear_model import LinearRegression\n",
    "from sklearn.model_selection import train_test_split\n",
    "from sklearn.linear_model import Ridge, Lasso"
   ]
  },
  {
   "cell_type": "code",
   "execution_count": 46,
   "id": "c9a0ed9f",
   "metadata": {},
   "outputs": [],
   "source": [
    "# 데이터\n",
    "URL='http://lib.stat.cmu.edu/datasets/boston'"
   ]
  },
  {
   "cell_type": "code",
   "execution_count": 47,
   "id": "5e2a5c34",
   "metadata": {},
   "outputs": [],
   "source": [
    "# 데이터 로딩\n",
    "bostonDF=pd.read_csv(URL, skiprows=22, header=None, sep='\\s+')"
   ]
  },
  {
   "cell_type": "code",
   "execution_count": 48,
   "id": "10e357a3",
   "metadata": {},
   "outputs": [
    {
     "data": {
      "text/plain": [
       "(Int64Index([0, 1, 2, 3, 4, 5, 6, 7, 8, 9, 10], dtype='int64'),\n",
       " RangeIndex(start=0, stop=1012, step=1))"
      ]
     },
     "execution_count": 48,
     "metadata": {},
     "output_type": "execute_result"
    }
   ],
   "source": [
    "# 컬럼명 인덱스 확인\n",
    "bostonDF.columns, bostonDF.index"
   ]
  },
  {
   "cell_type": "code",
   "execution_count": 49,
   "id": "2e3dc7c8",
   "metadata": {},
   "outputs": [],
   "source": [
    "df1=bostonDF.iloc[::2].reset_index(drop=True)\n",
    "df2=bostonDF.iloc[1::2, :3].reset_index(drop=True)"
   ]
  },
  {
   "cell_type": "code",
   "execution_count": 50,
   "id": "8317b23b",
   "metadata": {},
   "outputs": [
    {
     "name": "stdout",
     "output_type": "stream",
     "text": [
      "<class 'pandas.core.frame.DataFrame'>\n",
      "RangeIndex: 506 entries, 0 to 505\n",
      "Data columns (total 14 columns):\n",
      " #   Column  Non-Null Count  Dtype  \n",
      "---  ------  --------------  -----  \n",
      " 0   0       506 non-null    float64\n",
      " 1   1       506 non-null    float64\n",
      " 2   2       506 non-null    float64\n",
      " 3   3       506 non-null    float64\n",
      " 4   4       506 non-null    float64\n",
      " 5   5       506 non-null    float64\n",
      " 6   6       506 non-null    float64\n",
      " 7   7       506 non-null    float64\n",
      " 8   8       506 non-null    float64\n",
      " 9   9       506 non-null    float64\n",
      " 10  10      506 non-null    float64\n",
      " 11  0       506 non-null    float64\n",
      " 12  1       506 non-null    float64\n",
      " 13  2       506 non-null    float64\n",
      "dtypes: float64(14)\n",
      "memory usage: 55.5 KB\n"
     ]
    }
   ],
   "source": [
    "bostonDF=pd.concat([df1, df2], axis=1)\n",
    "\n",
    "bostonDF.info()"
   ]
  },
  {
   "cell_type": "code",
   "execution_count": 51,
   "id": "d6f245ea",
   "metadata": {},
   "outputs": [],
   "source": [
    "bostonDF.columns=['CRIM', 'ZN', 'INDUS', 'CHAS', 'NOX', \n",
    "                  'RM', 'AGE', 'DIS', 'RAD', 'TAX', \n",
    "                  'PTRATIO', 'B', 'LSTAT', 'MEDV']"
   ]
  },
  {
   "cell_type": "code",
   "execution_count": 52,
   "id": "c8383149",
   "metadata": {},
   "outputs": [
    {
     "data": {
      "text/html": [
       "<div>\n",
       "<style scoped>\n",
       "    .dataframe tbody tr th:only-of-type {\n",
       "        vertical-align: middle;\n",
       "    }\n",
       "\n",
       "    .dataframe tbody tr th {\n",
       "        vertical-align: top;\n",
       "    }\n",
       "\n",
       "    .dataframe thead th {\n",
       "        text-align: right;\n",
       "    }\n",
       "</style>\n",
       "<table border=\"1\" class=\"dataframe\">\n",
       "  <thead>\n",
       "    <tr style=\"text-align: right;\">\n",
       "      <th></th>\n",
       "      <th>CRIM</th>\n",
       "      <th>ZN</th>\n",
       "      <th>INDUS</th>\n",
       "      <th>CHAS</th>\n",
       "      <th>NOX</th>\n",
       "      <th>RM</th>\n",
       "      <th>AGE</th>\n",
       "      <th>DIS</th>\n",
       "      <th>RAD</th>\n",
       "      <th>TAX</th>\n",
       "      <th>PTRATIO</th>\n",
       "      <th>B</th>\n",
       "      <th>LSTAT</th>\n",
       "      <th>MEDV</th>\n",
       "    </tr>\n",
       "  </thead>\n",
       "  <tbody>\n",
       "    <tr>\n",
       "      <th>0</th>\n",
       "      <td>0.00632</td>\n",
       "      <td>18.0</td>\n",
       "      <td>2.31</td>\n",
       "      <td>0.0</td>\n",
       "      <td>0.538</td>\n",
       "      <td>6.575</td>\n",
       "      <td>65.2</td>\n",
       "      <td>4.0900</td>\n",
       "      <td>1.0</td>\n",
       "      <td>296.0</td>\n",
       "      <td>15.3</td>\n",
       "      <td>396.90</td>\n",
       "      <td>4.98</td>\n",
       "      <td>24.0</td>\n",
       "    </tr>\n",
       "    <tr>\n",
       "      <th>1</th>\n",
       "      <td>0.02731</td>\n",
       "      <td>0.0</td>\n",
       "      <td>7.07</td>\n",
       "      <td>0.0</td>\n",
       "      <td>0.469</td>\n",
       "      <td>6.421</td>\n",
       "      <td>78.9</td>\n",
       "      <td>4.9671</td>\n",
       "      <td>2.0</td>\n",
       "      <td>242.0</td>\n",
       "      <td>17.8</td>\n",
       "      <td>396.90</td>\n",
       "      <td>9.14</td>\n",
       "      <td>21.6</td>\n",
       "    </tr>\n",
       "    <tr>\n",
       "      <th>2</th>\n",
       "      <td>0.02729</td>\n",
       "      <td>0.0</td>\n",
       "      <td>7.07</td>\n",
       "      <td>0.0</td>\n",
       "      <td>0.469</td>\n",
       "      <td>7.185</td>\n",
       "      <td>61.1</td>\n",
       "      <td>4.9671</td>\n",
       "      <td>2.0</td>\n",
       "      <td>242.0</td>\n",
       "      <td>17.8</td>\n",
       "      <td>392.83</td>\n",
       "      <td>4.03</td>\n",
       "      <td>34.7</td>\n",
       "    </tr>\n",
       "    <tr>\n",
       "      <th>3</th>\n",
       "      <td>0.03237</td>\n",
       "      <td>0.0</td>\n",
       "      <td>2.18</td>\n",
       "      <td>0.0</td>\n",
       "      <td>0.458</td>\n",
       "      <td>6.998</td>\n",
       "      <td>45.8</td>\n",
       "      <td>6.0622</td>\n",
       "      <td>3.0</td>\n",
       "      <td>222.0</td>\n",
       "      <td>18.7</td>\n",
       "      <td>394.63</td>\n",
       "      <td>2.94</td>\n",
       "      <td>33.4</td>\n",
       "    </tr>\n",
       "    <tr>\n",
       "      <th>4</th>\n",
       "      <td>0.06905</td>\n",
       "      <td>0.0</td>\n",
       "      <td>2.18</td>\n",
       "      <td>0.0</td>\n",
       "      <td>0.458</td>\n",
       "      <td>7.147</td>\n",
       "      <td>54.2</td>\n",
       "      <td>6.0622</td>\n",
       "      <td>3.0</td>\n",
       "      <td>222.0</td>\n",
       "      <td>18.7</td>\n",
       "      <td>396.90</td>\n",
       "      <td>5.33</td>\n",
       "      <td>36.2</td>\n",
       "    </tr>\n",
       "    <tr>\n",
       "      <th>...</th>\n",
       "      <td>...</td>\n",
       "      <td>...</td>\n",
       "      <td>...</td>\n",
       "      <td>...</td>\n",
       "      <td>...</td>\n",
       "      <td>...</td>\n",
       "      <td>...</td>\n",
       "      <td>...</td>\n",
       "      <td>...</td>\n",
       "      <td>...</td>\n",
       "      <td>...</td>\n",
       "      <td>...</td>\n",
       "      <td>...</td>\n",
       "      <td>...</td>\n",
       "    </tr>\n",
       "    <tr>\n",
       "      <th>501</th>\n",
       "      <td>0.06263</td>\n",
       "      <td>0.0</td>\n",
       "      <td>11.93</td>\n",
       "      <td>0.0</td>\n",
       "      <td>0.573</td>\n",
       "      <td>6.593</td>\n",
       "      <td>69.1</td>\n",
       "      <td>2.4786</td>\n",
       "      <td>1.0</td>\n",
       "      <td>273.0</td>\n",
       "      <td>21.0</td>\n",
       "      <td>391.99</td>\n",
       "      <td>9.67</td>\n",
       "      <td>22.4</td>\n",
       "    </tr>\n",
       "    <tr>\n",
       "      <th>502</th>\n",
       "      <td>0.04527</td>\n",
       "      <td>0.0</td>\n",
       "      <td>11.93</td>\n",
       "      <td>0.0</td>\n",
       "      <td>0.573</td>\n",
       "      <td>6.120</td>\n",
       "      <td>76.7</td>\n",
       "      <td>2.2875</td>\n",
       "      <td>1.0</td>\n",
       "      <td>273.0</td>\n",
       "      <td>21.0</td>\n",
       "      <td>396.90</td>\n",
       "      <td>9.08</td>\n",
       "      <td>20.6</td>\n",
       "    </tr>\n",
       "    <tr>\n",
       "      <th>503</th>\n",
       "      <td>0.06076</td>\n",
       "      <td>0.0</td>\n",
       "      <td>11.93</td>\n",
       "      <td>0.0</td>\n",
       "      <td>0.573</td>\n",
       "      <td>6.976</td>\n",
       "      <td>91.0</td>\n",
       "      <td>2.1675</td>\n",
       "      <td>1.0</td>\n",
       "      <td>273.0</td>\n",
       "      <td>21.0</td>\n",
       "      <td>396.90</td>\n",
       "      <td>5.64</td>\n",
       "      <td>23.9</td>\n",
       "    </tr>\n",
       "    <tr>\n",
       "      <th>504</th>\n",
       "      <td>0.10959</td>\n",
       "      <td>0.0</td>\n",
       "      <td>11.93</td>\n",
       "      <td>0.0</td>\n",
       "      <td>0.573</td>\n",
       "      <td>6.794</td>\n",
       "      <td>89.3</td>\n",
       "      <td>2.3889</td>\n",
       "      <td>1.0</td>\n",
       "      <td>273.0</td>\n",
       "      <td>21.0</td>\n",
       "      <td>393.45</td>\n",
       "      <td>6.48</td>\n",
       "      <td>22.0</td>\n",
       "    </tr>\n",
       "    <tr>\n",
       "      <th>505</th>\n",
       "      <td>0.04741</td>\n",
       "      <td>0.0</td>\n",
       "      <td>11.93</td>\n",
       "      <td>0.0</td>\n",
       "      <td>0.573</td>\n",
       "      <td>6.030</td>\n",
       "      <td>80.8</td>\n",
       "      <td>2.5050</td>\n",
       "      <td>1.0</td>\n",
       "      <td>273.0</td>\n",
       "      <td>21.0</td>\n",
       "      <td>396.90</td>\n",
       "      <td>7.88</td>\n",
       "      <td>11.9</td>\n",
       "    </tr>\n",
       "  </tbody>\n",
       "</table>\n",
       "<p>506 rows × 14 columns</p>\n",
       "</div>"
      ],
      "text/plain": [
       "        CRIM    ZN  INDUS  CHAS    NOX     RM   AGE     DIS  RAD    TAX  \\\n",
       "0    0.00632  18.0   2.31   0.0  0.538  6.575  65.2  4.0900  1.0  296.0   \n",
       "1    0.02731   0.0   7.07   0.0  0.469  6.421  78.9  4.9671  2.0  242.0   \n",
       "2    0.02729   0.0   7.07   0.0  0.469  7.185  61.1  4.9671  2.0  242.0   \n",
       "3    0.03237   0.0   2.18   0.0  0.458  6.998  45.8  6.0622  3.0  222.0   \n",
       "4    0.06905   0.0   2.18   0.0  0.458  7.147  54.2  6.0622  3.0  222.0   \n",
       "..       ...   ...    ...   ...    ...    ...   ...     ...  ...    ...   \n",
       "501  0.06263   0.0  11.93   0.0  0.573  6.593  69.1  2.4786  1.0  273.0   \n",
       "502  0.04527   0.0  11.93   0.0  0.573  6.120  76.7  2.2875  1.0  273.0   \n",
       "503  0.06076   0.0  11.93   0.0  0.573  6.976  91.0  2.1675  1.0  273.0   \n",
       "504  0.10959   0.0  11.93   0.0  0.573  6.794  89.3  2.3889  1.0  273.0   \n",
       "505  0.04741   0.0  11.93   0.0  0.573  6.030  80.8  2.5050  1.0  273.0   \n",
       "\n",
       "     PTRATIO       B  LSTAT  MEDV  \n",
       "0       15.3  396.90   4.98  24.0  \n",
       "1       17.8  396.90   9.14  21.6  \n",
       "2       17.8  392.83   4.03  34.7  \n",
       "3       18.7  394.63   2.94  33.4  \n",
       "4       18.7  396.90   5.33  36.2  \n",
       "..       ...     ...    ...   ...  \n",
       "501     21.0  391.99   9.67  22.4  \n",
       "502     21.0  396.90   9.08  20.6  \n",
       "503     21.0  396.90   5.64  23.9  \n",
       "504     21.0  393.45   6.48  22.0  \n",
       "505     21.0  396.90   7.88  11.9  \n",
       "\n",
       "[506 rows x 14 columns]"
      ]
     },
     "execution_count": 52,
     "metadata": {},
     "output_type": "execute_result"
    }
   ],
   "source": [
    "bostonDF"
   ]
  },
  {
   "cell_type": "code",
   "execution_count": 53,
   "id": "6dbd8a2b",
   "metadata": {},
   "outputs": [],
   "source": [
    "# data, target\n",
    "input_data = bostonDF.iloc[:, :-1]\n",
    "input_target = bostonDF.iloc[:, -1]"
   ]
  },
  {
   "cell_type": "code",
   "execution_count": 54,
   "id": "08025295",
   "metadata": {},
   "outputs": [
    {
     "data": {
      "text/plain": [
       "((506, 13), (506,))"
      ]
     },
     "execution_count": 54,
     "metadata": {},
     "output_type": "execute_result"
    }
   ],
   "source": [
    "input_data.shape, input_target.shape"
   ]
  },
  {
   "cell_type": "code",
   "execution_count": 55,
   "id": "dcffe62d",
   "metadata": {},
   "outputs": [],
   "source": [
    "# 학습 데이터 분리\n",
    "train_X, test_X, train_y, test_y = train_test_split(input_data,\n",
    "                                                   input_target,\n",
    "                                                   test_size=0.2,\n",
    "                                                   random_state=42)"
   ]
  },
  {
   "cell_type": "markdown",
   "id": "95da4dfe",
   "metadata": {},
   "source": [
    "### LinearRegression"
   ]
  },
  {
   "cell_type": "code",
   "execution_count": 56,
   "id": "8a2cb142",
   "metadata": {},
   "outputs": [],
   "source": [
    "# 모델 객체 생성\n",
    "lr = LinearRegression()"
   ]
  },
  {
   "cell_type": "code",
   "execution_count": 57,
   "id": "f975e798",
   "metadata": {},
   "outputs": [
    {
     "data": {
      "text/plain": [
       "LinearRegression()"
      ]
     },
     "execution_count": 57,
     "metadata": {},
     "output_type": "execute_result"
    }
   ],
   "source": [
    "# 모델 학습\n",
    "lr.fit(train_X, train_y)"
   ]
  },
  {
   "cell_type": "code",
   "execution_count": 58,
   "id": "56d361dd",
   "metadata": {},
   "outputs": [
    {
     "name": "stdout",
     "output_type": "stream",
     "text": [
      "train set score :  0.7508856358979673 \n",
      "test set score :  0.6687594935356294\n"
     ]
    }
   ],
   "source": [
    "# 모델 평가\n",
    "print('train set score : ', lr.score(train_X, train_y),\n",
    "      '\\ntest set score : ', lr.score(test_X, test_y))"
   ]
  },
  {
   "cell_type": "code",
   "execution_count": 59,
   "id": "72c59535",
   "metadata": {},
   "outputs": [
    {
     "data": {
      "text/plain": [
       "-0.9719984492158389"
      ]
     },
     "execution_count": 59,
     "metadata": {},
     "output_type": "execute_result"
    }
   ],
   "source": [
    "np.mean(lr.coef_)"
   ]
  },
  {
   "cell_type": "markdown",
   "id": "87b8ded4",
   "metadata": {},
   "source": [
    "### Ridge"
   ]
  },
  {
   "cell_type": "code",
   "execution_count": 60,
   "id": "8b0ba20d",
   "metadata": {},
   "outputs": [
    {
     "name": "stdout",
     "output_type": "stream",
     "text": [
      "<alpha = 1.0>\n",
      "훈련 세트 점수 :  0.7487825119234439 \n",
      "테스트 세트 점수 :  0.6662221670168519\n"
     ]
    },
    {
     "data": {
      "text/plain": [
       "-0.3885169968048653"
      ]
     },
     "execution_count": 60,
     "metadata": {},
     "output_type": "execute_result"
    }
   ],
   "source": [
    "ridge = Ridge()  # 기본 alpha = 1.0\n",
    "ridge.fit(train_X, train_y)\n",
    "print('<alpha = 1.0>')\n",
    "print('훈련 세트 점수 : ', ridge.score(train_X, train_y),\n",
    "     '\\n테스트 세트 점수 : ', ridge.score(test_X, test_y))\n",
    "np.mean(ridge.coef_)"
   ]
  },
  {
   "cell_type": "code",
   "execution_count": 61,
   "id": "6bd0aaa6",
   "metadata": {},
   "outputs": [
    {
     "name": "stdout",
     "output_type": "stream",
     "text": [
      "<alpha = 10>\n",
      "훈련 세트 점수 :  0.7417486732924389 \n",
      "테스트 세트 점수 :  0.6638882305470701\n"
     ]
    },
    {
     "data": {
      "text/plain": [
       "0.13062053104061497"
      ]
     },
     "execution_count": 61,
     "metadata": {},
     "output_type": "execute_result"
    }
   ],
   "source": [
    "ridge = Ridge(alpha=10)  # 기본 alpha = 1.0\n",
    "ridge.fit(train_X, train_y)\n",
    "print('<alpha = 10>')\n",
    "print('훈련 세트 점수 : ', ridge.score(train_X, train_y),\n",
    "     '\\n테스트 세트 점수 : ', ridge.score(test_X, test_y))\n",
    "np.mean(ridge.coef_)"
   ]
  },
  {
   "cell_type": "code",
   "execution_count": 62,
   "id": "2fbd6475",
   "metadata": {},
   "outputs": [
    {
     "name": "stdout",
     "output_type": "stream",
     "text": [
      "<alpha = 100>\n",
      "훈련 세트 점수 :  0.7230438194128697 \n",
      "테스트 세트 점수 :  0.6800123820451881\n"
     ]
    },
    {
     "data": {
      "text/plain": [
       "0.025557554243519243"
      ]
     },
     "execution_count": 62,
     "metadata": {},
     "output_type": "execute_result"
    }
   ],
   "source": [
    "ridge = Ridge(alpha=100)  # 기본 alpha = 1.0\n",
    "ridge.fit(train_X, train_y)\n",
    "print('<alpha = 100>')\n",
    "print('훈련 세트 점수 : ', ridge.score(train_X, train_y),\n",
    "     '\\n테스트 세트 점수 : ', ridge.score(test_X, test_y))\n",
    "np.mean(ridge.coef_)"
   ]
  },
  {
   "cell_type": "markdown",
   "id": "d7461d8d",
   "metadata": {},
   "source": [
    "### Lasso"
   ]
  },
  {
   "cell_type": "code",
   "execution_count": 63,
   "id": "03b624c1",
   "metadata": {},
   "outputs": [
    {
     "name": "stdout",
     "output_type": "stream",
     "text": [
      "<alpha = 1.0>\n",
      "훈련 세트 점수 :  0.6959153721670908 \n",
      "테스트 세트 점수 :  0.6671453631686305\n"
     ]
    },
    {
     "data": {
      "text/plain": [
       "-0.020709413895453936"
      ]
     },
     "execution_count": 63,
     "metadata": {},
     "output_type": "execute_result"
    }
   ],
   "source": [
    "lasso = Lasso()  # 기본 alpha = 1.0\n",
    "lasso.fit(train_X, train_y)\n",
    "print('<alpha = 1.0>')\n",
    "print('훈련 세트 점수 : ', lasso.score(train_X, train_y),\n",
    "     '\\n테스트 세트 점수 : ', lasso.score(test_X, test_y))\n",
    "np.mean(lasso.coef_)"
   ]
  },
  {
   "cell_type": "code",
   "execution_count": 64,
   "id": "fbf17d0d",
   "metadata": {},
   "outputs": [
    {
     "name": "stdout",
     "output_type": "stream",
     "text": [
      "<alpha=0.1>\n",
      "훈련 세트 점수 :  0.7382419735910873 \n",
      "테스트 세트 점수 :  0.6569712802223936\n"
     ]
    },
    {
     "data": {
      "text/plain": [
       "0.22472465460412247"
      ]
     },
     "execution_count": 64,
     "metadata": {},
     "output_type": "execute_result"
    }
   ],
   "source": [
    "lasso = Lasso(alpha=0.1)\n",
    "lasso.fit(train_X, train_y)\n",
    "print('<alpha=0.1>')\n",
    "print('훈련 세트 점수 : ', lasso.score(train_X, train_y),\n",
    "     '\\n테스트 세트 점수 : ', lasso.score(test_X, test_y))\n",
    "np.mean(lasso.coef_)"
   ]
  },
  {
   "cell_type": "code",
   "execution_count": 65,
   "id": "2d946dc0",
   "metadata": {},
   "outputs": [
    {
     "name": "stdout",
     "output_type": "stream",
     "text": [
      "<alpha=0.01>\n",
      "훈련 세트 점수 :  0.7504622986421127 \n",
      "테스트 세트 점수 :  0.6685929109949444\n"
     ]
    },
    {
     "data": {
      "text/plain": [
       "-0.7250427652821959"
      ]
     },
     "execution_count": 65,
     "metadata": {},
     "output_type": "execute_result"
    }
   ],
   "source": [
    "lasso = Lasso(alpha=0.01)\n",
    "lasso.fit(train_X, train_y)\n",
    "print('<alpha=0.01>')\n",
    "print('훈련 세트 점수 : ', lasso.score(train_X, train_y),\n",
    "     '\\n테스트 세트 점수 : ', lasso.score(test_X, test_y))\n",
    "np.mean(lasso.coef_)"
   ]
  },
  {
   "cell_type": "markdown",
   "id": "ab36730f",
   "metadata": {},
   "source": [
    "# "
   ]
  },
  {
   "cell_type": "markdown",
   "id": "9a8b2fc9",
   "metadata": {},
   "source": [
    "# 다양한 교차검증\n",
    "---\n",
    "- model_selection 모듈\n",
    "    - cross_val_score()\n",
    "    - cross_val_validate()\n",
    "    - cross_val_predict()"
   ]
  },
  {
   "cell_type": "code",
   "execution_count": 67,
   "id": "6f900f58",
   "metadata": {},
   "outputs": [],
   "source": [
    "# 모듈 로딩\n",
    "from sklearn.model_selection import cross_val_score, cross_validate\n",
    "from sklearn.datasets import load_iris\n",
    "from sklearn.linear_model import LogisticRegression\n",
    "import numpy as np\n",
    "import pandas as pd"
   ]
  },
  {
   "cell_type": "markdown",
   "id": "bbcd940f",
   "metadata": {},
   "source": [
    "## [1] 데이터 로딩\n",
    "---"
   ]
  },
  {
   "cell_type": "code",
   "execution_count": 68,
   "id": "cd76a3f6",
   "metadata": {},
   "outputs": [],
   "source": [
    "iris = load_iris()"
   ]
  },
  {
   "cell_type": "code",
   "execution_count": 69,
   "id": "178470ce",
   "metadata": {},
   "outputs": [],
   "source": [
    "# Bunch 타입 => dict\n",
    "data = iris['data']\n",
    "target = iris['target']\n",
    "featureName = iris['feature_names']  # 컬럼명\n",
    "className = iris['target_names']"
   ]
  },
  {
   "cell_type": "code",
   "execution_count": 70,
   "id": "40fc0742",
   "metadata": {},
   "outputs": [
    {
     "data": {
      "text/plain": [
       "(['sepal length (cm)',\n",
       "  'sepal width (cm)',\n",
       "  'petal length (cm)',\n",
       "  'petal width (cm)'],\n",
       " array(['setosa', 'versicolor', 'virginica'], dtype='<U10'))"
      ]
     },
     "execution_count": 70,
     "metadata": {},
     "output_type": "execute_result"
    }
   ],
   "source": [
    "featureName, className"
   ]
  },
  {
   "cell_type": "markdown",
   "id": "a810789c",
   "metadata": {},
   "source": [
    "## [2] 모델 생성\n",
    "---"
   ]
  },
  {
   "cell_type": "code",
   "execution_count": 71,
   "id": "ab3d8855",
   "metadata": {},
   "outputs": [],
   "source": [
    "# max_iter : 처음~끝까지 샘플 데이터 학습 => 에포크(epoch) 횟수\n",
    "lrModel = LogisticRegression(max_iter=500)"
   ]
  },
  {
   "cell_type": "code",
   "execution_count": 73,
   "id": "022add1c",
   "metadata": {},
   "outputs": [],
   "source": [
    "## 교차 검증으로 모델 학습 진행\n",
    "## => 학습 데이터 기반 5개 Fold로 학습 & 검증 진행\n",
    "result = cross_val_score(lrModel, \n",
    "                         data,\n",
    "                         target)  # cv 모델 개수?"
   ]
  },
  {
   "cell_type": "code",
   "execution_count": 74,
   "id": "0a971113",
   "metadata": {},
   "outputs": [
    {
     "data": {
      "text/plain": [
       "array([0.96666667, 1.        , 0.93333333, 0.96666667, 1.        ])"
      ]
     },
     "execution_count": 74,
     "metadata": {},
     "output_type": "execute_result"
    }
   ],
   "source": [
    "# 5개 모델에 대한 정확도(accuracy)\n",
    "result"
   ]
  },
  {
   "cell_type": "code",
   "execution_count": 76,
   "id": "4e084943",
   "metadata": {},
   "outputs": [],
   "source": [
    "allResult = cross_validate(lrModel,\n",
    "                           data, \n",
    "                           target,\n",
    "                          return_train_score=True,\n",
    "                          cv=7)"
   ]
  },
  {
   "cell_type": "code",
   "execution_count": 78,
   "id": "7cc0bad5",
   "metadata": {},
   "outputs": [
    {
     "data": {
      "text/html": [
       "<div>\n",
       "<style scoped>\n",
       "    .dataframe tbody tr th:only-of-type {\n",
       "        vertical-align: middle;\n",
       "    }\n",
       "\n",
       "    .dataframe tbody tr th {\n",
       "        vertical-align: top;\n",
       "    }\n",
       "\n",
       "    .dataframe thead th {\n",
       "        text-align: right;\n",
       "    }\n",
       "</style>\n",
       "<table border=\"1\" class=\"dataframe\">\n",
       "  <thead>\n",
       "    <tr style=\"text-align: right;\">\n",
       "      <th></th>\n",
       "      <th>fit_time</th>\n",
       "      <th>score_time</th>\n",
       "      <th>test_score</th>\n",
       "      <th>train_score</th>\n",
       "    </tr>\n",
       "  </thead>\n",
       "  <tbody>\n",
       "    <tr>\n",
       "      <th>0</th>\n",
       "      <td>0.079532</td>\n",
       "      <td>0.001438</td>\n",
       "      <td>0.954545</td>\n",
       "      <td>0.968750</td>\n",
       "    </tr>\n",
       "    <tr>\n",
       "      <th>1</th>\n",
       "      <td>0.071125</td>\n",
       "      <td>0.001001</td>\n",
       "      <td>1.000000</td>\n",
       "      <td>0.968750</td>\n",
       "    </tr>\n",
       "    <tr>\n",
       "      <th>2</th>\n",
       "      <td>0.061548</td>\n",
       "      <td>0.000000</td>\n",
       "      <td>0.909091</td>\n",
       "      <td>0.976562</td>\n",
       "    </tr>\n",
       "    <tr>\n",
       "      <th>3</th>\n",
       "      <td>0.063382</td>\n",
       "      <td>0.001067</td>\n",
       "      <td>0.952381</td>\n",
       "      <td>0.976744</td>\n",
       "    </tr>\n",
       "    <tr>\n",
       "      <th>4</th>\n",
       "      <td>0.050866</td>\n",
       "      <td>0.000000</td>\n",
       "      <td>0.952381</td>\n",
       "      <td>0.992248</td>\n",
       "    </tr>\n",
       "    <tr>\n",
       "      <th>5</th>\n",
       "      <td>0.066249</td>\n",
       "      <td>0.001714</td>\n",
       "      <td>1.000000</td>\n",
       "      <td>0.968992</td>\n",
       "    </tr>\n",
       "    <tr>\n",
       "      <th>6</th>\n",
       "      <td>0.096876</td>\n",
       "      <td>0.000999</td>\n",
       "      <td>1.000000</td>\n",
       "      <td>0.976744</td>\n",
       "    </tr>\n",
       "  </tbody>\n",
       "</table>\n",
       "</div>"
      ],
      "text/plain": [
       "   fit_time  score_time  test_score  train_score\n",
       "0  0.079532    0.001438    0.954545     0.968750\n",
       "1  0.071125    0.001001    1.000000     0.968750\n",
       "2  0.061548    0.000000    0.909091     0.976562\n",
       "3  0.063382    0.001067    0.952381     0.976744\n",
       "4  0.050866    0.000000    0.952381     0.992248\n",
       "5  0.066249    0.001714    1.000000     0.968992\n",
       "6  0.096876    0.000999    1.000000     0.976744"
      ]
     },
     "execution_count": 78,
     "metadata": {},
     "output_type": "execute_result"
    }
   ],
   "source": [
    "resultDF = pd.DataFrame(allResult)\n",
    "resultDF"
   ]
  },
  {
   "cell_type": "code",
   "execution_count": 79,
   "id": "ceb7d4f1",
   "metadata": {},
   "outputs": [],
   "source": [
    "## Splitter 객체 생성 - KFold()\n",
    "from sklearn.model_selection import KFold, StratifiedKFold"
   ]
  },
  {
   "cell_type": "code",
   "execution_count": 82,
   "id": "1c7faf20",
   "metadata": {},
   "outputs": [],
   "source": [
    "kSplitter = KFold(n_splits = 7, shuffle = True)\n",
    "sSplitter = StratifiedKFold(n_splits = 7, shuffle = True)  # 균등하게 분할?\n",
    "\n",
    "# parameter -------------------------------------------------\n",
    "# return_train_score : 학습 데이터 평가 결과 반환 여부 설정\n",
    "# return_estimator : 모델 객체 반환 여부 설정\n",
    "allResult = cross_validate(lrModel, data, target,\n",
    "                          return_train_score=True,\n",
    "                          return_estimator=True,\n",
    "                          cv=sSplitter)"
   ]
  },
  {
   "cell_type": "code",
   "execution_count": 83,
   "id": "0027e27d",
   "metadata": {},
   "outputs": [
    {
     "data": {
      "text/html": [
       "<div>\n",
       "<style scoped>\n",
       "    .dataframe tbody tr th:only-of-type {\n",
       "        vertical-align: middle;\n",
       "    }\n",
       "\n",
       "    .dataframe tbody tr th {\n",
       "        vertical-align: top;\n",
       "    }\n",
       "\n",
       "    .dataframe thead th {\n",
       "        text-align: right;\n",
       "    }\n",
       "</style>\n",
       "<table border=\"1\" class=\"dataframe\">\n",
       "  <thead>\n",
       "    <tr style=\"text-align: right;\">\n",
       "      <th></th>\n",
       "      <th>fit_time</th>\n",
       "      <th>score_time</th>\n",
       "      <th>estimator</th>\n",
       "      <th>test_score</th>\n",
       "      <th>train_score</th>\n",
       "    </tr>\n",
       "  </thead>\n",
       "  <tbody>\n",
       "    <tr>\n",
       "      <th>0</th>\n",
       "      <td>0.073069</td>\n",
       "      <td>0.000000</td>\n",
       "      <td>LogisticRegression(max_iter=500)</td>\n",
       "      <td>1.000000</td>\n",
       "      <td>0.976562</td>\n",
       "    </tr>\n",
       "    <tr>\n",
       "      <th>1</th>\n",
       "      <td>0.058125</td>\n",
       "      <td>0.002567</td>\n",
       "      <td>LogisticRegression(max_iter=500)</td>\n",
       "      <td>0.954545</td>\n",
       "      <td>0.968750</td>\n",
       "    </tr>\n",
       "    <tr>\n",
       "      <th>2</th>\n",
       "      <td>0.067316</td>\n",
       "      <td>0.002556</td>\n",
       "      <td>LogisticRegression(max_iter=500)</td>\n",
       "      <td>0.954545</td>\n",
       "      <td>0.968750</td>\n",
       "    </tr>\n",
       "    <tr>\n",
       "      <th>3</th>\n",
       "      <td>0.065158</td>\n",
       "      <td>0.000000</td>\n",
       "      <td>LogisticRegression(max_iter=500)</td>\n",
       "      <td>1.000000</td>\n",
       "      <td>0.968992</td>\n",
       "    </tr>\n",
       "    <tr>\n",
       "      <th>4</th>\n",
       "      <td>0.067973</td>\n",
       "      <td>0.000516</td>\n",
       "      <td>LogisticRegression(max_iter=500)</td>\n",
       "      <td>0.904762</td>\n",
       "      <td>0.984496</td>\n",
       "    </tr>\n",
       "    <tr>\n",
       "      <th>5</th>\n",
       "      <td>0.052991</td>\n",
       "      <td>0.000996</td>\n",
       "      <td>LogisticRegression(max_iter=500)</td>\n",
       "      <td>1.000000</td>\n",
       "      <td>0.968992</td>\n",
       "    </tr>\n",
       "    <tr>\n",
       "      <th>6</th>\n",
       "      <td>0.067340</td>\n",
       "      <td>0.000000</td>\n",
       "      <td>LogisticRegression(max_iter=500)</td>\n",
       "      <td>0.952381</td>\n",
       "      <td>0.984496</td>\n",
       "    </tr>\n",
       "  </tbody>\n",
       "</table>\n",
       "</div>"
      ],
      "text/plain": [
       "   fit_time  score_time                         estimator  test_score  \\\n",
       "0  0.073069    0.000000  LogisticRegression(max_iter=500)    1.000000   \n",
       "1  0.058125    0.002567  LogisticRegression(max_iter=500)    0.954545   \n",
       "2  0.067316    0.002556  LogisticRegression(max_iter=500)    0.954545   \n",
       "3  0.065158    0.000000  LogisticRegression(max_iter=500)    1.000000   \n",
       "4  0.067973    0.000516  LogisticRegression(max_iter=500)    0.904762   \n",
       "5  0.052991    0.000996  LogisticRegression(max_iter=500)    1.000000   \n",
       "6  0.067340    0.000000  LogisticRegression(max_iter=500)    0.952381   \n",
       "\n",
       "   train_score  \n",
       "0     0.976562  \n",
       "1     0.968750  \n",
       "2     0.968750  \n",
       "3     0.968992  \n",
       "4     0.984496  \n",
       "5     0.968992  \n",
       "6     0.984496  "
      ]
     },
     "execution_count": 83,
     "metadata": {},
     "output_type": "execute_result"
    }
   ],
   "source": [
    "resultDF = pd.DataFrame(allResult)\n",
    "resultDF"
   ]
  },
  {
   "cell_type": "code",
   "execution_count": null,
   "id": "5660d5d7",
   "metadata": {},
   "outputs": [],
   "source": []
  }
 ],
 "metadata": {
  "kernelspec": {
   "display_name": "Python 3 (ipykernel)",
   "language": "python",
   "name": "python3"
  },
  "language_info": {
   "codemirror_mode": {
    "name": "ipython",
    "version": 3
   },
   "file_extension": ".py",
   "mimetype": "text/x-python",
   "name": "python",
   "nbconvert_exporter": "python",
   "pygments_lexer": "ipython3",
   "version": "3.9.12"
  }
 },
 "nbformat": 4,
 "nbformat_minor": 5
}
