{
 "cells": [
  {
   "cell_type": "code",
   "execution_count": 115,
   "id": "9a6868a2",
   "metadata": {},
   "outputs": [],
   "source": [
    "# 모듈 로딩\n",
    "import pandas as pd\n",
    "import matplotlib.pyplot as plt\n",
    "from sklearn.linear_model import LogisticRegression\n",
    "import numpy as np"
   ]
  },
  {
   "cell_type": "code",
   "execution_count": 116,
   "id": "f8112df6",
   "metadata": {},
   "outputs": [
    {
     "name": "stdout",
     "output_type": "stream",
     "text": [
      "<class 'pandas.core.frame.DataFrame'>\n",
      "RangeIndex: 768 entries, 0 to 767\n",
      "Data columns (total 9 columns):\n",
      " #   Column                    Non-Null Count  Dtype  \n",
      "---  ------                    --------------  -----  \n",
      " 0   Pregnancies               768 non-null    int64  \n",
      " 1   Glucose                   768 non-null    int64  \n",
      " 2   BloodPressure             768 non-null    int64  \n",
      " 3   SkinThickness             768 non-null    int64  \n",
      " 4   Insulin                   768 non-null    int64  \n",
      " 5   BMI                       768 non-null    float64\n",
      " 6   DiabetesPedigreeFunction  768 non-null    float64\n",
      " 7   Age                       768 non-null    int64  \n",
      " 8   Outcome                   768 non-null    int64  \n",
      "dtypes: float64(2), int64(7)\n",
      "memory usage: 54.1 KB\n"
     ]
    }
   ],
   "source": [
    "# 파일 로딩\n",
    "FILE = '../EXAM_DL/DAY_0901/data/diabetes.csv'\n",
    "\n",
    "df = pd.read_csv(FILE)\n",
    "df.info()"
   ]
  },
  {
   "cell_type": "code",
   "execution_count": 117,
   "id": "c9f4a238",
   "metadata": {},
   "outputs": [
    {
     "data": {
      "text/plain": [
       "Pregnancies                 0\n",
       "Glucose                     0\n",
       "BloodPressure               0\n",
       "SkinThickness               0\n",
       "Insulin                     0\n",
       "BMI                         0\n",
       "DiabetesPedigreeFunction    0\n",
       "Age                         0\n",
       "Outcome                     0\n",
       "dtype: int64"
      ]
     },
     "execution_count": 117,
     "metadata": {},
     "output_type": "execute_result"
    }
   ],
   "source": [
    "# 결측치 개수 파악\n",
    "df.isnull().sum()"
   ]
  },
  {
   "cell_type": "code",
   "execution_count": 118,
   "id": "f21db1c5",
   "metadata": {},
   "outputs": [
    {
     "data": {
      "text/html": [
       "<div>\n",
       "<style scoped>\n",
       "    .dataframe tbody tr th:only-of-type {\n",
       "        vertical-align: middle;\n",
       "    }\n",
       "\n",
       "    .dataframe tbody tr th {\n",
       "        vertical-align: top;\n",
       "    }\n",
       "\n",
       "    .dataframe thead th {\n",
       "        text-align: right;\n",
       "    }\n",
       "</style>\n",
       "<table border=\"1\" class=\"dataframe\">\n",
       "  <thead>\n",
       "    <tr style=\"text-align: right;\">\n",
       "      <th></th>\n",
       "      <th>Pregnancies</th>\n",
       "      <th>Glucose</th>\n",
       "      <th>BloodPressure</th>\n",
       "      <th>SkinThickness</th>\n",
       "      <th>Insulin</th>\n",
       "      <th>BMI</th>\n",
       "      <th>DiabetesPedigreeFunction</th>\n",
       "      <th>Age</th>\n",
       "      <th>Outcome</th>\n",
       "    </tr>\n",
       "  </thead>\n",
       "  <tbody>\n",
       "    <tr>\n",
       "      <th>count</th>\n",
       "      <td>768.000000</td>\n",
       "      <td>768.000000</td>\n",
       "      <td>768.000000</td>\n",
       "      <td>768.000000</td>\n",
       "      <td>768.000000</td>\n",
       "      <td>768.000000</td>\n",
       "      <td>768.000000</td>\n",
       "      <td>768.000000</td>\n",
       "      <td>768.000000</td>\n",
       "    </tr>\n",
       "    <tr>\n",
       "      <th>mean</th>\n",
       "      <td>3.845052</td>\n",
       "      <td>120.894531</td>\n",
       "      <td>69.105469</td>\n",
       "      <td>20.536458</td>\n",
       "      <td>79.799479</td>\n",
       "      <td>31.992578</td>\n",
       "      <td>0.471876</td>\n",
       "      <td>33.240885</td>\n",
       "      <td>0.348958</td>\n",
       "    </tr>\n",
       "    <tr>\n",
       "      <th>std</th>\n",
       "      <td>3.369578</td>\n",
       "      <td>31.972618</td>\n",
       "      <td>19.355807</td>\n",
       "      <td>15.952218</td>\n",
       "      <td>115.244002</td>\n",
       "      <td>7.884160</td>\n",
       "      <td>0.331329</td>\n",
       "      <td>11.760232</td>\n",
       "      <td>0.476951</td>\n",
       "    </tr>\n",
       "    <tr>\n",
       "      <th>min</th>\n",
       "      <td>0.000000</td>\n",
       "      <td>0.000000</td>\n",
       "      <td>0.000000</td>\n",
       "      <td>0.000000</td>\n",
       "      <td>0.000000</td>\n",
       "      <td>0.000000</td>\n",
       "      <td>0.078000</td>\n",
       "      <td>21.000000</td>\n",
       "      <td>0.000000</td>\n",
       "    </tr>\n",
       "    <tr>\n",
       "      <th>25%</th>\n",
       "      <td>1.000000</td>\n",
       "      <td>99.000000</td>\n",
       "      <td>62.000000</td>\n",
       "      <td>0.000000</td>\n",
       "      <td>0.000000</td>\n",
       "      <td>27.300000</td>\n",
       "      <td>0.243750</td>\n",
       "      <td>24.000000</td>\n",
       "      <td>0.000000</td>\n",
       "    </tr>\n",
       "    <tr>\n",
       "      <th>50%</th>\n",
       "      <td>3.000000</td>\n",
       "      <td>117.000000</td>\n",
       "      <td>72.000000</td>\n",
       "      <td>23.000000</td>\n",
       "      <td>30.500000</td>\n",
       "      <td>32.000000</td>\n",
       "      <td>0.372500</td>\n",
       "      <td>29.000000</td>\n",
       "      <td>0.000000</td>\n",
       "    </tr>\n",
       "    <tr>\n",
       "      <th>75%</th>\n",
       "      <td>6.000000</td>\n",
       "      <td>140.250000</td>\n",
       "      <td>80.000000</td>\n",
       "      <td>32.000000</td>\n",
       "      <td>127.250000</td>\n",
       "      <td>36.600000</td>\n",
       "      <td>0.626250</td>\n",
       "      <td>41.000000</td>\n",
       "      <td>1.000000</td>\n",
       "    </tr>\n",
       "    <tr>\n",
       "      <th>max</th>\n",
       "      <td>17.000000</td>\n",
       "      <td>199.000000</td>\n",
       "      <td>122.000000</td>\n",
       "      <td>99.000000</td>\n",
       "      <td>846.000000</td>\n",
       "      <td>67.100000</td>\n",
       "      <td>2.420000</td>\n",
       "      <td>81.000000</td>\n",
       "      <td>1.000000</td>\n",
       "    </tr>\n",
       "  </tbody>\n",
       "</table>\n",
       "</div>"
      ],
      "text/plain": [
       "       Pregnancies     Glucose  BloodPressure  SkinThickness     Insulin  \\\n",
       "count   768.000000  768.000000     768.000000     768.000000  768.000000   \n",
       "mean      3.845052  120.894531      69.105469      20.536458   79.799479   \n",
       "std       3.369578   31.972618      19.355807      15.952218  115.244002   \n",
       "min       0.000000    0.000000       0.000000       0.000000    0.000000   \n",
       "25%       1.000000   99.000000      62.000000       0.000000    0.000000   \n",
       "50%       3.000000  117.000000      72.000000      23.000000   30.500000   \n",
       "75%       6.000000  140.250000      80.000000      32.000000  127.250000   \n",
       "max      17.000000  199.000000     122.000000      99.000000  846.000000   \n",
       "\n",
       "              BMI  DiabetesPedigreeFunction         Age     Outcome  \n",
       "count  768.000000                768.000000  768.000000  768.000000  \n",
       "mean    31.992578                  0.471876   33.240885    0.348958  \n",
       "std      7.884160                  0.331329   11.760232    0.476951  \n",
       "min      0.000000                  0.078000   21.000000    0.000000  \n",
       "25%     27.300000                  0.243750   24.000000    0.000000  \n",
       "50%     32.000000                  0.372500   29.000000    0.000000  \n",
       "75%     36.600000                  0.626250   41.000000    1.000000  \n",
       "max     67.100000                  2.420000   81.000000    1.000000  "
      ]
     },
     "execution_count": 118,
     "metadata": {},
     "output_type": "execute_result"
    }
   ],
   "source": [
    "# 기술 통계 정보 확인\n",
    "df.describe()"
   ]
  },
  {
   "cell_type": "code",
   "execution_count": 119,
   "id": "631b4c71",
   "metadata": {},
   "outputs": [],
   "source": [
    "# 각 컬럼당 0값을 제외한 컬럼의 평균 값으로 채우기\n",
    "df.Glucose[df['Glucose']==0] = df.Glucose[df['Glucose']!=0].mean()\n",
    "df.BloodPressure[df['BloodPressure']==0] = df.BloodPressure[df['BloodPressure']!=0].mean()\n",
    "df.SkinThickness[df['SkinThickness']==0] = df.SkinThickness[df['SkinThickness']!=0].mean()\n",
    "df.BMI[df['BMI']==0] = df.BMI[df['BMI']!=0].mean()"
   ]
  },
  {
   "cell_type": "markdown",
   "id": "284e7306",
   "metadata": {},
   "source": [
    "## [1] 데이터 준비"
   ]
  },
  {
   "cell_type": "code",
   "execution_count": 120,
   "id": "347ffd91",
   "metadata": {},
   "outputs": [],
   "source": [
    "X = df['Insulin']\n",
    "y = df['Outcome']"
   ]
  },
  {
   "cell_type": "code",
   "execution_count": 121,
   "id": "40257c3f",
   "metadata": {},
   "outputs": [],
   "source": [
    "# 학습에 사용할 수 있도록 형변환\n",
    "arrX = np.array(X).reshape(-1, 1)\n",
    "arrY = np.array(y).reshape(-1, 1)"
   ]
  },
  {
   "cell_type": "code",
   "execution_count": 122,
   "id": "91ea2c94",
   "metadata": {},
   "outputs": [
    {
     "name": "stdout",
     "output_type": "stream",
     "text": [
      "arrX :  (768, 1) arrY :  (768, 1)\n"
     ]
    }
   ],
   "source": [
    "# 데이터 체크\n",
    "print('arrX : ', arrX.shape, 'arrY : ', arrY.shape)"
   ]
  },
  {
   "cell_type": "markdown",
   "id": "e620f3c5",
   "metadata": {},
   "source": [
    "## [2] 데이터 확인 => 시각화"
   ]
  },
  {
   "cell_type": "code",
   "execution_count": 123,
   "id": "0ab9b169",
   "metadata": {},
   "outputs": [
    {
     "data": {
      "image/png": "[encoded data removed]",
      "text/plain": [
       "<Figure size 432x288 with 1 Axes>"
      ]
     },
     "metadata": {
      "needs_background": "light"
     },
     "output_type": "display_data"
    }
   ],
   "source": [
    "# 현재 데이터 시각화\n",
    "plt.scatter(arrX, arrY)\n",
    "plt.xlabel('')\n",
    "plt.ylabel('Outcome')\n",
    "plt.show()"
   ]
  },
  {
   "cell_type": "markdown",
   "id": "14ef30ca",
   "metadata": {},
   "source": [
    "## [3] 모델 생성 & 학습\n"
   ]
  },
  {
   "cell_type": "code",
   "execution_count": 124,
   "id": "5dd8fd24",
   "metadata": {},
   "outputs": [],
   "source": [
    "from sklearn.model_selection import train_test_split\n",
    "\n",
    "train_input, test_input, train_target, test_target = train_test_split(\n",
    "arrX, arrY, random_state=42)"
   ]
  },
  {
   "cell_type": "code",
   "execution_count": 125,
   "id": "1178f4a9",
   "metadata": {},
   "outputs": [],
   "source": [
    "model = LogisticRegression()"
   ]
  },
  {
   "cell_type": "code",
   "execution_count": 126,
   "id": "303057dc",
   "metadata": {},
   "outputs": [
    {
     "data": {
      "text/plain": [
       "LogisticRegression()"
      ]
     },
     "execution_count": 126,
     "metadata": {},
     "output_type": "execute_result"
    }
   ],
   "source": [
    "# 학습\n",
    "model.fit(train_input, train_target)"
   ]
  },
  {
   "cell_type": "code",
   "execution_count": 127,
   "id": "df964286",
   "metadata": {},
   "outputs": [
    {
     "name": "stdout",
     "output_type": "stream",
     "text": [
      "분류 종류 :  [0 1]\n",
      "가중치 값 :  [[0.00220588]]\n",
      "절 편  값 :  [-0.8233593]\n",
      "특성 갯수 :  1\n"
     ]
    }
   ],
   "source": [
    "# 학습 후 설정된 속성\n",
    "print('분류 종류 : ', model.classes_)\n",
    "print('가중치 값 : ', model.coef_)\n",
    "print('절 편  값 : ', model.intercept_)\n",
    "print('특성 갯수 : ', model.n_features_in_)"
   ]
  },
  {
   "cell_type": "markdown",
   "id": "5ede7055",
   "metadata": {},
   "source": [
    "## [4] 평가 => score() 학습용 데이터 점수, 테스트용 데티어 점수\n",
    "---\n",
    "- 2개 점수 비교해서 과대적합, 과소적합 체크"
   ]
  },
  {
   "cell_type": "code",
   "execution_count": 128,
   "id": "e17e5e86",
   "metadata": {},
   "outputs": [
    {
     "name": "stdout",
     "output_type": "stream",
     "text": [
      "train set score :  0.6597222222222222\n",
      "test set score :  0.640625\n"
     ]
    }
   ],
   "source": [
    "print('train set score : ',\n",
    "     model.score(train_input, train_target))\n",
    "print('test set score : ',\n",
    "     model.score(test_input, test_target))"
   ]
  },
  {
   "cell_type": "markdown",
   "id": "18f16d16",
   "metadata": {},
   "source": [
    "## [5] 테스트 => predict() : 새로운 데이터로 진행"
   ]
  },
  {
   "cell_type": "code",
   "execution_count": 129,
   "id": "25a1cd9a",
   "metadata": {},
   "outputs": [],
   "source": [
    "preY = model.predict(train_input)"
   ]
  },
  {
   "cell_type": "code",
   "execution_count": 130,
   "id": "6df3ae34",
   "metadata": {},
   "outputs": [
    {
     "data": {
      "text/plain": [
       "array([0, 0, 0, 0, 0, 0, 0, 0, 0, 0, 0, 0, 0, 0, 0, 0, 0, 0, 0, 0, 0, 0,\n",
       "       0, 0, 1, 0, 0, 0, 0, 0, 0, 0, 0, 0, 0, 0, 0, 0, 0, 0, 0, 0, 0, 0,\n",
       "       0, 0, 0, 0, 0, 0, 0, 0, 0, 0, 0, 0, 0, 0, 0, 0, 0, 0, 0, 0, 0, 0,\n",
       "       0, 0, 0, 0, 0, 0, 0, 0, 1, 0, 0, 0, 0, 0, 0, 0, 0, 0, 0, 0, 0, 0,\n",
       "       0, 0, 0, 0, 0, 0, 0, 0, 0, 0, 0, 0, 0, 0, 0, 0, 0, 0, 0, 0, 0, 0,\n",
       "       0, 0, 0, 0, 0, 0, 0, 0, 0, 0, 0, 0, 0, 0, 0, 0, 0, 0, 0, 0, 0, 0,\n",
       "       0, 0, 0, 0, 1, 0, 0, 0, 0, 1, 0, 0, 0, 0, 0, 0, 0, 0, 0, 0, 0, 0,\n",
       "       0, 0, 0, 0, 0, 0, 1, 0, 0, 0, 0, 0, 0, 0, 0, 0, 0, 0, 0, 0, 0, 0,\n",
       "       0, 0, 0, 0, 0, 0, 0, 0, 1, 0, 0, 0, 0, 0, 0, 0, 0, 0, 0, 0, 0, 0,\n",
       "       0, 0, 0, 0, 0, 0, 0, 0, 0, 0, 0, 0, 0, 0, 0, 0, 0, 0, 0, 0, 0, 0,\n",
       "       0, 0, 0, 1, 0, 0, 0, 0, 0, 0, 0, 0, 0, 0, 0, 0, 0, 0, 0, 0, 0, 0,\n",
       "       0, 0, 0, 0, 0, 0, 0, 0, 0, 0, 0, 0, 0, 0, 0, 0, 0, 0, 0, 0, 0, 0,\n",
       "       0, 0, 0, 0, 0, 0, 0, 0, 0, 0, 0, 0, 0, 1, 0, 0, 1, 0, 0, 0, 0, 0,\n",
       "       0, 0, 0, 0, 0, 0, 0, 0, 0, 0, 0, 0, 0, 0, 0, 0, 0, 0, 0, 0, 0, 0,\n",
       "       0, 0, 0, 0, 1, 0, 0, 0, 1, 0, 0, 0, 0, 0, 0, 0, 0, 0, 0, 0, 0, 0,\n",
       "       0, 0, 1, 0, 0, 0, 0, 0, 0, 0, 0, 0, 0, 0, 0, 0, 1, 0, 0, 0, 0, 0,\n",
       "       0, 0, 0, 0, 0, 0, 0, 0, 0, 0, 0, 0, 0, 0, 0, 0, 0, 0, 0, 1, 0, 0,\n",
       "       0, 0, 0, 0, 0, 0, 0, 0, 0, 0, 0, 1, 0, 0, 0, 0, 0, 0, 0, 0, 0, 0,\n",
       "       0, 0, 0, 0, 0, 0, 0, 0, 0, 0, 0, 0, 0, 0, 0, 0, 0, 0, 1, 0, 0, 0,\n",
       "       0, 0, 0, 0, 0, 0, 0, 1, 0, 0, 0, 0, 0, 0, 0, 0, 0, 0, 0, 0, 0, 0,\n",
       "       0, 0, 0, 0, 0, 0, 0, 0, 0, 1, 0, 0, 0, 0, 0, 0, 0, 0, 0, 0, 0, 0,\n",
       "       0, 0, 0, 0, 0, 0, 0, 0, 0, 0, 0, 0, 0, 0, 0, 0, 0, 0, 0, 0, 0, 0,\n",
       "       0, 0, 0, 0, 0, 0, 0, 0, 0, 0, 0, 0, 0, 0, 0, 0, 0, 0, 0, 0, 0, 0,\n",
       "       0, 0, 0, 0, 0, 0, 0, 0, 0, 0, 0, 0, 0, 0, 0, 0, 1, 0, 0, 0, 0, 0,\n",
       "       0, 0, 0, 0, 0, 0, 0, 0, 0, 0, 0, 0, 0, 0, 0, 0, 0, 0, 0, 0, 0, 0,\n",
       "       0, 0, 0, 0, 0, 0, 0, 0, 0, 0, 0, 0, 0, 0, 0, 0, 0, 0, 0, 0, 0, 0,\n",
       "       0, 0, 0, 0], dtype=int64)"
      ]
     },
     "execution_count": 130,
     "metadata": {},
     "output_type": "execute_result"
    }
   ],
   "source": [
    "preY"
   ]
  },
  {
   "cell_type": "code",
   "execution_count": 131,
   "id": "7196b932",
   "metadata": {},
   "outputs": [
    {
     "name": "stdout",
     "output_type": "stream",
     "text": [
      "예측결과 :  [0]\n"
     ]
    }
   ],
   "source": [
    "# 1개 데이터\n",
    "preY = model.predict([[50]])\n",
    "print('예측결과 : ', preY)"
   ]
  },
  {
   "cell_type": "code",
   "execution_count": 132,
   "id": "ca08fc8c",
   "metadata": {},
   "outputs": [
    {
     "name": "stdout",
     "output_type": "stream",
     "text": [
      "분류항목 :  [0 1]\n",
      "예측확률 :  [[0.67107813 0.32892187]]\n"
     ]
    }
   ],
   "source": [
    "probaY = model.predict_proba([[50]])\n",
    "print('분류항목 : ', model.classes_)\n",
    "print('예측확률 : ', probaY)"
   ]
  },
  {
   "cell_type": "markdown",
   "id": "2a962713",
   "metadata": {},
   "source": [
    "# "
   ]
  },
  {
   "cell_type": "markdown",
   "id": "aceb1dda",
   "metadata": {},
   "source": [
    "# Scikit-learn ML 기본 동작\n",
    "---\n",
    "- 1) 데이서 수집 & 준비\n",
    "- 2) 데이터 전처리\n",
    "    * 데이터 / 타겟 분리\n",
    "    * 데이터 표준화 / 정규화\n",
    "    * 타겟(라벨) 인코딩\n",
    "- 3) 학습위한 데이터 준비\n",
    "    - 데이터 셋\n",
    "        * 학습용 데이터셋 => 학습에 사용\n",
    "        * 검증용 데이터셋 => 모델 생성 중에 사용\n",
    "        * 테스트용 데이터셋 => 모델 완성 후 사용\n",
    "- 4) 학습 모델 생성\n",
    "    - 학습 방법 선정 및 모델 객체 생성\n",
    "    - 학습 진행\n",
    "        * 모델 파라미터 최적화 => 학습에 의해서 결정되는 파라미터\n",
    "        * 최적의 모델 파라미터를 찾기 위한 방법 => 최적화(optimizer)\n",
    "        * 예) w 가중치, b 절편\n",
    "    - 모델 평가\n",
    "        * 성능 개선 => 하이퍼파라미터 (모델마다 다름) => 모델 튜닝\n",
    "        * 예) NNN -> K, 학습 횟수, 학습크기(배치 사이즈), 규제 값들\n",
    "- 5) 모델 테스트\n",
    "    - 학습에 사용되지 않은 데이터\n",
    "    - 새로운 데이터로 테스트 진행"
   ]
  },
  {
   "cell_type": "code",
   "execution_count": 133,
   "id": "c6529978",
   "metadata": {},
   "outputs": [],
   "source": [
    "# 모듈 로딩\n",
    "from sklearn.model_selection import train_test_split\n",
    "from sklearn.linear_model import LinearRegression"
   ]
  },
  {
   "cell_type": "code",
   "execution_count": 134,
   "id": "957901ec",
   "metadata": {},
   "outputs": [],
   "source": [
    "## [1] 데이터 준비\n",
    "# 시간:점수\n",
    "X = [2,4,6,8,10,12]\n",
    "y=[40,50,60,70,80,90]"
   ]
  },
  {
   "cell_type": "markdown",
   "id": "405542a0",
   "metadata": {},
   "source": [
    "## [2] 데이터 분포 분셕 => EDA => 시각화"
   ]
  },
  {
   "cell_type": "code",
   "execution_count": 135,
   "id": "a9d3172b",
   "metadata": {},
   "outputs": [],
   "source": [
    "import matplotlib.pyplot as plt"
   ]
  },
  {
   "cell_type": "code",
   "execution_count": 136,
   "id": "9c88b92d",
   "metadata": {},
   "outputs": [
    {
     "data": {
      "image/png": "[encoded data removed]",
      "text/plain": [
       "<Figure size 432x288 with 1 Axes>"
      ]
     },
     "metadata": {
      "needs_background": "light"
     },
     "output_type": "display_data"
    }
   ],
   "source": [
    "plt.scatter(X, y)\n",
    "plt.xlabel('Hour')\n",
    "plt.ylabel('Score')\n",
    "plt.show()"
   ]
  },
  {
   "cell_type": "markdown",
   "id": "8b5e9726",
   "metadata": {},
   "source": [
    "- 시간과 점수는 비례 단계\n",
    "- 선형의 데이터 분포\n",
    "- 독립변수 => hour\n",
    "- 종속변수 => score"
   ]
  },
  {
   "cell_type": "code",
   "execution_count": 137,
   "id": "0cedd54a",
   "metadata": {},
   "outputs": [
    {
     "name": "stdout",
     "output_type": "stream",
     "text": [
      "shape: (6, 2)\n"
     ]
    }
   ],
   "source": [
    "# 학습에 사용되는 형태로 데이터 변환\n",
    "import pandas as pd\n",
    "\n",
    "df = pd.DataFrame({'Hour':X, 'Score':y})  # df = pd.DataFrame([X, y])\n",
    "print('shape:', df.shape)"
   ]
  },
  {
   "cell_type": "code",
   "execution_count": 138,
   "id": "6fa989ee",
   "metadata": {},
   "outputs": [
    {
     "name": "stdout",
     "output_type": "stream",
     "text": [
      "arrX :  (6,) arry :  (6,)\n"
     ]
    }
   ],
   "source": [
    "import numpy as np\n",
    "\n",
    "arrX = np.array(X)\n",
    "arrY = np.array(y)\n",
    "\n",
    "print('arrX : ', arrX.shape, 'arry : ', arrY.shape )"
   ]
  },
  {
   "cell_type": "code",
   "execution_count": 139,
   "id": "a33d86b2",
   "metadata": {},
   "outputs": [
    {
     "name": "stdout",
     "output_type": "stream",
     "text": [
      "arrX :  (6, 1) 2 arry :  (6,) 1\n"
     ]
    }
   ],
   "source": [
    "# 1차원 -> 2차원\n",
    "arrX = arrX.reshape(-1, 1)\n",
    "print('arrX : ', arrX.shape, arrX.ndim, 'arry : ', arrY.shape, arrY.ndim)"
   ]
  },
  {
   "cell_type": "markdown",
   "id": "d6d4b842",
   "metadata": {},
   "source": [
    "## [3] 학습 방법 선택 및 모델 생성\n",
    "---\n",
    "- 시간에 따른 점수 예측\n",
    "- 데이터 + 라벨 => 지도학습\n",
    "- 선형 데이터 분포 => 선형 모델 적용"
   ]
  },
  {
   "cell_type": "code",
   "execution_count": 140,
   "id": "8a8d97d6",
   "metadata": {},
   "outputs": [],
   "source": [
    "# 모델 객체 생성\n",
    "model = LinearRegression()"
   ]
  },
  {
   "cell_type": "code",
   "execution_count": 141,
   "id": "ba47994d",
   "metadata": {},
   "outputs": [
    {
     "data": {
      "text/plain": [
       "LinearRegression()"
      ]
     },
     "execution_count": 141,
     "metadata": {},
     "output_type": "execute_result"
    }
   ],
   "source": [
    "# 학습 => 트레이닝 데이터 사용\n",
    "# fit()메서드 => 2차원 형태 데이터\n",
    "model.fit(arrX, arrY)"
   ]
  },
  {
   "cell_type": "code",
   "execution_count": 142,
   "id": "5a475244",
   "metadata": {},
   "outputs": [
    {
     "name": "stdout",
     "output_type": "stream",
     "text": [
      "w :  [5.] b :  29.999999999999993\n"
     ]
    }
   ],
   "source": [
    "# 모델 파라미터 => w 가중치, b 절편\n",
    "print('w : ', model.coef_, 'b : ', model.intercept_)"
   ]
  },
  {
   "cell_type": "markdown",
   "id": "11d4f0b6",
   "metadata": {},
   "source": [
    "## [4] 모델 평가\n",
    "---\n",
    "- 테스트(검증) 데이터로 평가\n",
    "- score()\n",
    "    - 분류 : 정답 --- 예측답 => 맞춘 정도\n",
    "        * 정확도(accuracy)\n",
    "    - 회귀 : 정답 --- 예측답 => 차이 오차(Error)\n",
    "        * 손실함수(Loss/Cost Function) : MSE, MAE, RMSE 0 ~ 1 낮을수록 좋음\n",
    "        * R2 계수 : 0 ~ 1 높을수록 좋음    "
   ]
  },
  {
   "cell_type": "code",
   "execution_count": 143,
   "id": "8e800411",
   "metadata": {},
   "outputs": [
    {
     "data": {
      "text/plain": [
       "1.0"
      ]
     },
     "execution_count": 143,
     "metadata": {},
     "output_type": "execute_result"
    }
   ],
   "source": [
    "# 회귀 => 결정계수 R^2 반환\n",
    "model.score(arrX, arrY)"
   ]
  },
  {
   "cell_type": "code",
   "execution_count": 144,
   "id": "1a32645f",
   "metadata": {},
   "outputs": [
    {
     "name": "stdout",
     "output_type": "stream",
     "text": [
      "1.1842378929335002e-15 8.414516322357459e-30\n"
     ]
    }
   ],
   "source": [
    "# 오차 확인\n",
    "from sklearn.metrics import mean_absolute_error, mean_squared_error\n",
    "\n",
    "# 예측값 추출\n",
    "preY = model.predict(arrX)\n",
    "\n",
    "mae = mean_absolute_error(arrY, preY)\n",
    "mse = mean_squared_error(arrY, preY)\n",
    "\n",
    "print(mae, mse)"
   ]
  },
  {
   "cell_type": "markdown",
   "id": "bce62c83",
   "metadata": {},
   "source": [
    "# "
   ]
  },
  {
   "cell_type": "markdown",
   "id": "d5602aed",
   "metadata": {},
   "source": [
    "# scikit-learn Dataset 사용\n",
    "---\n",
    "- 종류\n",
    "    - load_datset() : scikit_learn 저장소에서 로딩\n",
    "    - fetch_XXX () : dataset 저장소에서 가져오기\n",
    "- 반환값 => Bunch 타입\n",
    "    - dict 유사"
   ]
  },
  {
   "cell_type": "code",
   "execution_count": 145,
   "id": "f4b13793",
   "metadata": {},
   "outputs": [],
   "source": [
    "# 모듈 로딩\n",
    "from sklearn.datasets import load_diabetes"
   ]
  },
  {
   "cell_type": "code",
   "execution_count": 146,
   "id": "9b9fd2e0",
   "metadata": {},
   "outputs": [],
   "source": [
    "# 당뇨병 유무 => 8개 특성 + 1개 라벨\n",
    "data = load_diabetes()"
   ]
  },
  {
   "cell_type": "code",
   "execution_count": 147,
   "id": "360e4348",
   "metadata": {},
   "outputs": [
    {
     "data": {
      "text/plain": [
       "sklearn.utils.Bunch"
      ]
     },
     "execution_count": 147,
     "metadata": {},
     "output_type": "execute_result"
    }
   ],
   "source": [
    "type(data)"
   ]
  },
  {
   "cell_type": "code",
   "execution_count": 148,
   "id": "b81c9266",
   "metadata": {},
   "outputs": [
    {
     "data": {
      "text/plain": [
       "'.. _diabetes_dataset:\\n\\nDiabetes dataset\\n----------------\\n\\nTen baseline variables, age, sex, body mass index, average blood\\npressure, and six blood serum measurements were obtained for each of n =\\n442 diabetes patients, as well as the response of interest, a\\nquantitative measure of disease progression one year after baseline.\\n\\n**Data Set Characteristics:**\\n\\n  :Number of Instances: 442\\n\\n  :Number of Attributes: First 10 columns are numeric predictive values\\n\\n  :Target: Column 11 is a quantitative measure of disease progression one year after baseline\\n\\n  :Attribute Information:\\n      - age     age in years\\n      - sex\\n      - bmi     body mass index\\n      - bp      average blood pressure\\n      - s1      tc, total serum cholesterol\\n      - s2      ldl, low-density lipoproteins\\n      - s3      hdl, high-density lipoproteins\\n      - s4      tch, total cholesterol / HDL\\n      - s5      ltg, possibly log of serum triglycerides level\\n      - s6      glu, blood sugar level\\n\\nNote: Each of these 10 feature variables have been mean centered and scaled by the standard deviation times `n_samples` (i.e. the sum of squares of each column totals 1).\\n\\nSource URL:\\nhttps://www4.stat.ncsu.edu/~boos/var.select/diabetes.html\\n\\nFor more information see:\\nBradley Efron, Trevor Hastie, Iain Johnstone and Robert Tibshirani (2004) \"Least Angle Regression,\" Annals of Statistics (with discussion), 407-499.\\n(https://web.stanford.edu/~hastie/Papers/LARS/LeastAngle_2002.pdf)'"
      ]
     },
     "execution_count": 148,
     "metadata": {},
     "output_type": "execute_result"
    }
   ],
   "source": [
    "# dict에서 key로 value 접근\n",
    "data['DESCR']"
   ]
  },
  {
   "cell_type": "markdown",
   "id": "f3683b0f",
   "metadata": {},
   "source": [
    "# "
   ]
  },
  {
   "cell_type": "markdown",
   "id": "e4dd6fe6",
   "metadata": {},
   "source": [
    "# IRIS Dataset 활용 분류\n",
    "---"
   ]
  },
  {
   "cell_type": "code",
   "execution_count": 149,
   "id": "12cfc682",
   "metadata": {},
   "outputs": [],
   "source": [
    "# 모듈 로딩\n",
    "from sklearn.linear_model import LogisticRegression\n",
    "from sklearn.datasets import load_iris\n",
    "import matplotlib.pyplot as plt\n",
    "import numpy as np"
   ]
  },
  {
   "cell_type": "markdown",
   "id": "6511a1ec",
   "metadata": {},
   "source": [
    "## [1] 데이터 로딩 및 확인"
   ]
  },
  {
   "cell_type": "code",
   "execution_count": 150,
   "id": "eb4bc0f2",
   "metadata": {},
   "outputs": [
    {
     "data": {
      "text/plain": [
       "(pandas.core.frame.DataFrame, pandas.core.series.Series)"
      ]
     },
     "execution_count": 150,
     "metadata": {},
     "output_type": "execute_result"
    }
   ],
   "source": [
    "# return_X_y => X => 특징들, 데이터 , y => 라벨, 타겟\n",
    "data, target = load_iris(as_frame=True, return_X_y=True)\n",
    "\n",
    "type(data), type(target)"
   ]
  },
  {
   "cell_type": "code",
   "execution_count": 151,
   "id": "e62096ae",
   "metadata": {},
   "outputs": [
    {
     "name": "stdout",
     "output_type": "stream",
     "text": [
      "<class 'pandas.core.frame.DataFrame'>\n",
      "RangeIndex: 150 entries, 0 to 149\n",
      "Data columns (total 4 columns):\n",
      " #   Column             Non-Null Count  Dtype  \n",
      "---  ------             --------------  -----  \n",
      " 0   sepal length (cm)  150 non-null    float64\n",
      " 1   sepal width (cm)   150 non-null    float64\n",
      " 2   petal length (cm)  150 non-null    float64\n",
      " 3   petal width (cm)   150 non-null    float64\n",
      "dtypes: float64(4)\n",
      "memory usage: 4.8 KB\n",
      "None\n",
      "\n",
      "   sepal length (cm)  sepal width (cm)  petal length (cm)  petal width (cm)\n",
      "0                5.1               3.5                1.4               0.2\n",
      "1                4.9               3.0                1.4               0.2\n",
      "2                4.7               3.2                1.3               0.2\n"
     ]
    }
   ],
   "source": [
    "print(data.info(), data.head(3), sep='\\n\\n')"
   ]
  },
  {
   "cell_type": "code",
   "execution_count": 152,
   "id": "cb88e671",
   "metadata": {},
   "outputs": [
    {
     "name": "stdout",
     "output_type": "stream",
     "text": [
      "0    0\n",
      "1    0\n",
      "2    0\n",
      "Name: target, dtype: int32\n",
      "\n",
      "[0 1 2]\n",
      "\n",
      "0    50\n",
      "1    50\n",
      "2    50\n",
      "Name: target, dtype: int64\n"
     ]
    }
   ],
   "source": [
    "print(target.head(3), target.unique(), target.value_counts(), sep = '\\n\\n')"
   ]
  },
  {
   "cell_type": "markdown",
   "id": "04ee2e98",
   "metadata": {},
   "source": [
    "## [2] 학습 데이터 준비"
   ]
  },
  {
   "cell_type": "code",
   "execution_count": 153,
   "id": "15d17b10",
   "metadata": {},
   "outputs": [
    {
     "name": "stdout",
     "output_type": "stream",
     "text": [
      "data =>  (150, 2)\n",
      "target =>  (150,)\n"
     ]
    }
   ],
   "source": [
    "# 데이터 => petal_length (cm), petal_width (cm)\n",
    "# 타 겟 => 0 ,2\n",
    "data = data.loc[:, data.columns[2:]]\n",
    "\n",
    "print('data => ', data.shape)\n",
    "print('target => ', target.shape)"
   ]
  },
  {
   "cell_type": "code",
   "execution_count": 154,
   "id": "8269745e",
   "metadata": {},
   "outputs": [],
   "source": [
    "data.drop(range(50, 100), inplace=True)\n",
    "target.drop(range(50, 100), inplace=True)"
   ]
  },
  {
   "cell_type": "code",
   "execution_count": 155,
   "id": "a3d751c7",
   "metadata": {},
   "outputs": [],
   "source": [
    "# 학습툥, 테스트용 데이터 분리\n",
    "from sklearn.model_selection import train_test_split"
   ]
  },
  {
   "cell_type": "code",
   "execution_count": 156,
   "id": "e11ac8f4",
   "metadata": {},
   "outputs": [],
   "source": [
    "# train:test=75%:25%\n",
    "# test_size=0.X\n",
    "# stratify => 분류 항목 비율 맞추어서 데이터셋 설정\n",
    "# random_state => 매번 동일하게 데이터 구성하는 경우 지정\n",
    "train_X, test_X, train_y, test_y = train_test_split(data,\n",
    "                                                   target,\n",
    "                                                   test_size=0.2,\n",
    "                                                   stratify=target,\n",
    "                                                   random_state=4)"
   ]
  },
  {
   "cell_type": "code",
   "execution_count": 157,
   "id": "401819c1",
   "metadata": {
    "scrolled": true
   },
   "outputs": [
    {
     "name": "stdout",
     "output_type": "stream",
     "text": [
      "(80, 2)\n",
      "(20, 2)\n",
      "0    40\n",
      "2    40\n",
      "Name: target, dtype: int64\n",
      "0    10\n",
      "2    10\n",
      "Name: target, dtype: int64\n"
     ]
    }
   ],
   "source": [
    "print(train_X.shape, test_X.shape,sep='\\n')\n",
    "print(train_y.value_counts(), test_y.value_counts(),sep='\\n')"
   ]
  },
  {
   "cell_type": "code",
   "execution_count": 158,
   "id": "c397f586",
   "metadata": {},
   "outputs": [],
   "source": [
    "# 모델 생성 학습\n",
    "model = LogisticRegression()"
   ]
  },
  {
   "cell_type": "code",
   "execution_count": 159,
   "id": "d11b0b02",
   "metadata": {},
   "outputs": [
    {
     "data": {
      "text/plain": [
       "LogisticRegression()"
      ]
     },
     "execution_count": 159,
     "metadata": {},
     "output_type": "execute_result"
    }
   ],
   "source": [
    "# 학습\n",
    "model.fit(train_X, train_y)"
   ]
  },
  {
   "cell_type": "code",
   "execution_count": 160,
   "id": "e7781645",
   "metadata": {},
   "outputs": [
    {
     "name": "stdout",
     "output_type": "stream",
     "text": [
      "분류 종류:  [0 2]\n",
      "가중치 값:  [[1.87871631 0.84564202]]\n",
      "절 편  값:  [-7.34250753]\n",
      "특성 갯수:  2\n"
     ]
    }
   ],
   "source": [
    "# 학습 후 설정된 속성\n",
    "print('분류 종류: ', model.classes_)\n",
    "print('가중치 값: ', model.coef_)\n",
    "print('절 편  값: ', model.intercept_)\n",
    "print('특성 갯수: ', model.n_features_in_)"
   ]
  },
  {
   "cell_type": "code",
   "execution_count": 161,
   "id": "7d29c2f2",
   "metadata": {},
   "outputs": [],
   "source": [
    "# 평가 => score() 학습용 데이터 점수, 테스트용 데이터 점수"
   ]
  },
  {
   "cell_type": "code",
   "execution_count": 162,
   "id": "6fb11033",
   "metadata": {},
   "outputs": [
    {
     "data": {
      "text/plain": [
       "1.0"
      ]
     },
     "execution_count": 162,
     "metadata": {},
     "output_type": "execute_result"
    }
   ],
   "source": [
    "model.score(train_X, train_y)"
   ]
  },
  {
   "cell_type": "code",
   "execution_count": 163,
   "id": "29e3a837",
   "metadata": {},
   "outputs": [
    {
     "data": {
      "text/plain": [
       "array([0, 2, 0, 0, 2, 0, 2, 2, 2, 0, 2, 2, 2, 2, 0, 2, 0, 0, 2, 2, 0, 2,\n",
       "       0, 2, 2, 2, 0, 0, 0, 0, 0, 0, 2, 0, 0, 0, 0, 0, 2, 0, 0, 2, 2, 0,\n",
       "       0, 0, 2, 2, 2, 2, 2, 2, 0, 2, 2, 2, 0, 0, 2, 2, 0, 0, 0, 0, 0, 0,\n",
       "       2, 2, 2, 2, 2, 2, 2, 2, 0, 0, 0, 0, 0, 2])"
      ]
     },
     "execution_count": 163,
     "metadata": {},
     "output_type": "execute_result"
    }
   ],
   "source": [
    "# 테스트 => predict(): 새로운 데이터로 진행\n",
    "preY = model.predict(train_X)\n",
    "\n",
    "preY"
   ]
  },
  {
   "cell_type": "code",
   "execution_count": 164,
   "id": "5db77d82",
   "metadata": {},
   "outputs": [
    {
     "name": "stdout",
     "output_type": "stream",
     "text": [
      "예측결과 :  [0]\n"
     ]
    }
   ],
   "source": [
    "# 1개 데이터\n",
    "preY = model.predict([[1, 1]])\n",
    "print('예측결과 : ', preY)"
   ]
  },
  {
   "cell_type": "code",
   "execution_count": 165,
   "id": "eed19c4f",
   "metadata": {},
   "outputs": [
    {
     "name": "stdout",
     "output_type": "stream",
     "text": [
      "분류항목 :  [0 2]\n",
      "예측확률 :  [[0.99022544 0.00977456]]\n"
     ]
    }
   ],
   "source": [
    "probaY = model.predict_proba([[1, 1]])\n",
    "print('분류항목 : ', model.classes_)\n",
    "print('예측확률 : ', probaY)"
   ]
  },
  {
   "cell_type": "code",
   "execution_count": 166,
   "id": "881bceab",
   "metadata": {},
   "outputs": [
    {
     "data": {
      "text/plain": [
       "array([-4.6181492])"
      ]
     },
     "execution_count": 166,
     "metadata": {},
     "output_type": "execute_result"
    }
   ],
   "source": [
    "# 결정함수\n",
    "model.decision_function([[1, 1]])"
   ]
  },
  {
   "cell_type": "markdown",
   "id": "5ef16bdf",
   "metadata": {},
   "source": [
    "# "
   ]
  },
  {
   "cell_type": "markdown",
   "id": "bcba0a77",
   "metadata": {},
   "source": [
    "# LogisticRegression\n",
    "---\n",
    "- 인공신경망의 기본 개념과 동일\n",
    "- Regression이지만 이진분류로 사용\n",
    "- 선형모델 기반으로 y=wx+b 그대로 사용\n",
    "- y=wx+b의 결과 => 분류 변화 => sigmoid()"
   ]
  },
  {
   "cell_type": "markdown",
   "id": "f006d4b0",
   "metadata": {},
   "source": [
    "## 성적 - 합격/불합격 분류 실습"
   ]
  },
  {
   "cell_type": "code",
   "execution_count": 167,
   "id": "2ade418f",
   "metadata": {},
   "outputs": [],
   "source": [
    "# 사용 모듈 로딩\n",
    "from sklearn.linear_model import LogisticRegression\n",
    "import matplotlib.pyplot as plt\n",
    "import numpy as np"
   ]
  },
  {
   "cell_type": "markdown",
   "id": "ea3b933d",
   "metadata": {},
   "source": [
    "### (1) 데이터 준비"
   ]
  },
  {
   "cell_type": "code",
   "execution_count": 168,
   "id": "09fc36ee",
   "metadata": {},
   "outputs": [],
   "source": [
    "X = [78,82,91,94,97]  # 점수\n",
    "y = [0,0,1,1,1]  # 합격여부 (합격-1, 불합격-0)"
   ]
  },
  {
   "cell_type": "code",
   "execution_count": 169,
   "id": "ed966934",
   "metadata": {},
   "outputs": [],
   "source": [
    "# 학습에 사용할 수 있도록 형변환\n",
    "arrX=np.array(X).reshape(-1, 1)\n",
    "arrY=np.array(y)"
   ]
  },
  {
   "cell_type": "code",
   "execution_count": 170,
   "id": "d6a047fa",
   "metadata": {},
   "outputs": [
    {
     "name": "stdout",
     "output_type": "stream",
     "text": [
      "arrX:  (5, 1) arrY:  (5,)\n"
     ]
    }
   ],
   "source": [
    "# 데이터 체크\n",
    "print('arrX: ', arrX.shape, 'arrY: ', arrY.shape)"
   ]
  },
  {
   "cell_type": "markdown",
   "id": "377aa02d",
   "metadata": {},
   "source": [
    "### (2) 데이터 확인 => 시각화"
   ]
  },
  {
   "cell_type": "code",
   "execution_count": 171,
   "id": "86d7bfeb",
   "metadata": {},
   "outputs": [
    {
     "data": {
      "image/png": "[encoded data removed]",
      "text/plain": [
       "<Figure size 432x288 with 1 Axes>"
      ]
     },
     "metadata": {
      "needs_background": "light"
     },
     "output_type": "display_data"
    }
   ],
   "source": [
    "# 현재 데이터 시각화\n",
    "plt.scatter(X, y)\n",
    "plt.xlabel('Score')\n",
    "plt.ylabel('Result')\n",
    "plt.show()"
   ]
  },
  {
   "cell_type": "markdown",
   "id": "0d2ce637",
   "metadata": {},
   "source": [
    "### (3) 모델 생성 & 학습"
   ]
  },
  {
   "cell_type": "code",
   "execution_count": 172,
   "id": "d1b44ad3",
   "metadata": {},
   "outputs": [],
   "source": [
    "model = LogisticRegression()"
   ]
  },
  {
   "cell_type": "code",
   "execution_count": 173,
   "id": "8956444c",
   "metadata": {},
   "outputs": [
    {
     "data": {
      "text/plain": [
       "LogisticRegression()"
      ]
     },
     "execution_count": 173,
     "metadata": {},
     "output_type": "execute_result"
    }
   ],
   "source": [
    "# 학습\n",
    "model.fit(arrX, arrY)"
   ]
  },
  {
   "cell_type": "code",
   "execution_count": 174,
   "id": "675d488f",
   "metadata": {},
   "outputs": [
    {
     "name": "stdout",
     "output_type": "stream",
     "text": [
      "분류 종류 :  [0 1]\n",
      "가중치 값 :  [[0.62705118]]\n",
      "절 편  값 :  [-54.1941992]\n",
      "특성 갯수 :  1\n"
     ]
    }
   ],
   "source": [
    "# 학습 후 설정된 속성\n",
    "print('분류 종류 : ', model.classes_)\n",
    "print('가중치 값 : ', model.coef_)\n",
    "print('절 편  값 : ', model.intercept_)\n",
    "print('특성 갯수 : ', model.n_features_in_)"
   ]
  },
  {
   "cell_type": "markdown",
   "id": "28cc1010",
   "metadata": {},
   "source": [
    "### (4) 평가 => score() 학습용 데이터 점수, 테스트용 데이터 점수\n",
    "---\n",
    "- 2개 점수 비교해서 과대적합, 과소적합 체크"
   ]
  },
  {
   "cell_type": "code",
   "execution_count": 175,
   "id": "f0bf5d79",
   "metadata": {},
   "outputs": [
    {
     "data": {
      "text/plain": [
       "1.0"
      ]
     },
     "execution_count": 175,
     "metadata": {},
     "output_type": "execute_result"
    }
   ],
   "source": [
    "model.score(arrX, arrY)"
   ]
  },
  {
   "cell_type": "code",
   "execution_count": 176,
   "id": "0dd58d12",
   "metadata": {},
   "outputs": [
    {
     "data": {
      "text/plain": [
       "array([0, 0, 1, 1, 1])"
      ]
     },
     "execution_count": 176,
     "metadata": {},
     "output_type": "execute_result"
    }
   ],
   "source": [
    "### (5) 테스트 => predict() : 새로운 데이터로 진행\n",
    "preY = model.predict(arrX)\n",
    "\n",
    "preY"
   ]
  },
  {
   "cell_type": "code",
   "execution_count": 177,
   "id": "e06a8171",
   "metadata": {},
   "outputs": [
    {
     "name": "stdout",
     "output_type": "stream",
     "text": [
      "예측 결과 :  [1]\n"
     ]
    }
   ],
   "source": [
    "# 1개 데이터\n",
    "preY = model.predict([[87]])\n",
    "print('예측 결과 : ', preY)"
   ]
  },
  {
   "cell_type": "code",
   "execution_count": 178,
   "id": "c84d75bb",
   "metadata": {},
   "outputs": [
    {
     "name": "stdout",
     "output_type": "stream",
     "text": [
      "분류항목 :  [0 1]\n",
      "예측확률 :  [[0.94136517 0.05863483]]\n"
     ]
    }
   ],
   "source": [
    "probaY = model.predict_proba([[82]])\n",
    "print('분류항목 : ', model.classes_)\n",
    "print('예측확률 : ', probaY)"
   ]
  },
  {
   "cell_type": "code",
   "execution_count": 179,
   "id": "fd560014",
   "metadata": {},
   "outputs": [
    {
     "data": {
      "text/plain": [
       "array([-2.77600232])"
      ]
     },
     "execution_count": 179,
     "metadata": {},
     "output_type": "execute_result"
    }
   ],
   "source": [
    "# 결정함수\n",
    "model.decision_function([[82]])"
   ]
  },
  {
   "cell_type": "code",
   "execution_count": 180,
   "id": "f4bd3777",
   "metadata": {},
   "outputs": [
    {
     "name": "stdout",
     "output_type": "stream",
     "text": [
      "result:  [[-2.77600232]]\n"
     ]
    }
   ],
   "source": [
    "# y=Wx+b : 모델 파라미터\n",
    "result = (model.coef_*82) + model.intercept_\n",
    "print('result: ', result)"
   ]
  },
  {
   "cell_type": "markdown",
   "id": "38a7275f",
   "metadata": {},
   "source": [
    "# 뉴욕시의 Taxi 데이터 활용한 예측 모델\n",
    "---\n",
    "- 데이터셋 : 케글의 NYC_taxi.csv\n",
    "- 조건 : 뉴욕시 내\n",
    "- 거리에 따른 요금 예측 ==> 회귀\n",
    "- 승차에 따른 하차지역 예측 ==> 분류 (뭐든 상관 없음, KNN, 로지스틱)"
   ]
  },
  {
   "cell_type": "markdown",
   "id": "6a6de177",
   "metadata": {},
   "source": [
    "### [1] 데이터 로딩"
   ]
  },
  {
   "cell_type": "code",
   "execution_count": 181,
   "id": "4f2ee3bf",
   "metadata": {},
   "outputs": [],
   "source": [
    "import pandas as pd\n",
    "import numpy as np\n",
    "import matplotlib.pyplot as plt"
   ]
  },
  {
   "cell_type": "code",
   "execution_count": 182,
   "id": "3278c65c",
   "metadata": {},
   "outputs": [],
   "source": [
    "FILE='../EXAM_DL/DAY_0901/data/NYC_taxi.csv'"
   ]
  },
  {
   "cell_type": "code",
   "execution_count": 183,
   "id": "a4096e54",
   "metadata": {},
   "outputs": [],
   "source": [
    "# 데이터 로딩\n",
    "# nrows=로딩 데이터 수\n",
    "df = pd.read_csv(FILE, nrows=5000, parse_dates=['pickup_datetime'])"
   ]
  },
  {
   "cell_type": "code",
   "execution_count": 184,
   "id": "dba7291a",
   "metadata": {},
   "outputs": [
    {
     "data": {
      "text/html": [
       "<div>\n",
       "<style scoped>\n",
       "    .dataframe tbody tr th:only-of-type {\n",
       "        vertical-align: middle;\n",
       "    }\n",
       "\n",
       "    .dataframe tbody tr th {\n",
       "        vertical-align: top;\n",
       "    }\n",
       "\n",
       "    .dataframe thead th {\n",
       "        text-align: right;\n",
       "    }\n",
       "</style>\n",
       "<table border=\"1\" class=\"dataframe\">\n",
       "  <thead>\n",
       "    <tr style=\"text-align: right;\">\n",
       "      <th></th>\n",
       "      <th>key</th>\n",
       "      <th>fare_amount</th>\n",
       "      <th>pickup_datetime</th>\n",
       "      <th>pickup_longitude</th>\n",
       "      <th>pickup_latitude</th>\n",
       "      <th>dropoff_longitude</th>\n",
       "      <th>dropoff_latitude</th>\n",
       "      <th>passenger_count</th>\n",
       "    </tr>\n",
       "  </thead>\n",
       "  <tbody>\n",
       "    <tr>\n",
       "      <th>0</th>\n",
       "      <td>2009-06-15 17:26:21.0000001</td>\n",
       "      <td>4.5</td>\n",
       "      <td>2009-06-15 17:26:21+00:00</td>\n",
       "      <td>-73.844311</td>\n",
       "      <td>40.721319</td>\n",
       "      <td>-73.841610</td>\n",
       "      <td>40.712278</td>\n",
       "      <td>1</td>\n",
       "    </tr>\n",
       "    <tr>\n",
       "      <th>1</th>\n",
       "      <td>2010-01-05 16:52:16.0000002</td>\n",
       "      <td>16.9</td>\n",
       "      <td>2010-01-05 16:52:16+00:00</td>\n",
       "      <td>-74.016048</td>\n",
       "      <td>40.711303</td>\n",
       "      <td>-73.979268</td>\n",
       "      <td>40.782004</td>\n",
       "      <td>1</td>\n",
       "    </tr>\n",
       "    <tr>\n",
       "      <th>2</th>\n",
       "      <td>2011-08-18 00:35:00.00000049</td>\n",
       "      <td>5.7</td>\n",
       "      <td>2011-08-18 00:35:00+00:00</td>\n",
       "      <td>-73.982738</td>\n",
       "      <td>40.761270</td>\n",
       "      <td>-73.991242</td>\n",
       "      <td>40.750562</td>\n",
       "      <td>2</td>\n",
       "    </tr>\n",
       "    <tr>\n",
       "      <th>3</th>\n",
       "      <td>2012-04-21 04:30:42.0000001</td>\n",
       "      <td>7.7</td>\n",
       "      <td>2012-04-21 04:30:42+00:00</td>\n",
       "      <td>-73.987130</td>\n",
       "      <td>40.733143</td>\n",
       "      <td>-73.991567</td>\n",
       "      <td>40.758092</td>\n",
       "      <td>1</td>\n",
       "    </tr>\n",
       "    <tr>\n",
       "      <th>4</th>\n",
       "      <td>2010-03-09 07:51:00.000000135</td>\n",
       "      <td>5.3</td>\n",
       "      <td>2010-03-09 07:51:00+00:00</td>\n",
       "      <td>-73.968095</td>\n",
       "      <td>40.768008</td>\n",
       "      <td>-73.956655</td>\n",
       "      <td>40.783762</td>\n",
       "      <td>1</td>\n",
       "    </tr>\n",
       "  </tbody>\n",
       "</table>\n",
       "</div>"
      ],
      "text/plain": [
       "                             key  fare_amount           pickup_datetime  \\\n",
       "0    2009-06-15 17:26:21.0000001          4.5 2009-06-15 17:26:21+00:00   \n",
       "1    2010-01-05 16:52:16.0000002         16.9 2010-01-05 16:52:16+00:00   \n",
       "2   2011-08-18 00:35:00.00000049          5.7 2011-08-18 00:35:00+00:00   \n",
       "3    2012-04-21 04:30:42.0000001          7.7 2012-04-21 04:30:42+00:00   \n",
       "4  2010-03-09 07:51:00.000000135          5.3 2010-03-09 07:51:00+00:00   \n",
       "\n",
       "   pickup_longitude  pickup_latitude  dropoff_longitude  dropoff_latitude  \\\n",
       "0        -73.844311        40.721319         -73.841610         40.712278   \n",
       "1        -74.016048        40.711303         -73.979268         40.782004   \n",
       "2        -73.982738        40.761270         -73.991242         40.750562   \n",
       "3        -73.987130        40.733143         -73.991567         40.758092   \n",
       "4        -73.968095        40.768008         -73.956655         40.783762   \n",
       "\n",
       "   passenger_count  \n",
       "0                1  \n",
       "1                1  \n",
       "2                2  \n",
       "3                1  \n",
       "4                1  "
      ]
     },
     "execution_count": 184,
     "metadata": {},
     "output_type": "execute_result"
    }
   ],
   "source": [
    "df.head()"
   ]
  },
  {
   "cell_type": "code",
   "execution_count": 185,
   "id": "f6e12e50",
   "metadata": {},
   "outputs": [
    {
     "name": "stdout",
     "output_type": "stream",
     "text": [
      "<class 'pandas.core.frame.DataFrame'>\n",
      "RangeIndex: 5000 entries, 0 to 4999\n",
      "Data columns (total 8 columns):\n",
      " #   Column             Non-Null Count  Dtype              \n",
      "---  ------             --------------  -----              \n",
      " 0   key                5000 non-null   object             \n",
      " 1   fare_amount        5000 non-null   float64            \n",
      " 2   pickup_datetime    5000 non-null   datetime64[ns, UTC]\n",
      " 3   pickup_longitude   5000 non-null   float64            \n",
      " 4   pickup_latitude    5000 non-null   float64            \n",
      " 5   dropoff_longitude  5000 non-null   float64            \n",
      " 6   dropoff_latitude   5000 non-null   float64            \n",
      " 7   passenger_count    5000 non-null   int64              \n",
      "dtypes: datetime64[ns, UTC](1), float64(5), int64(1), object(1)\n",
      "memory usage: 312.6+ KB\n"
     ]
    }
   ],
   "source": [
    "df.info()"
   ]
  },
  {
   "cell_type": "code",
   "execution_count": 186,
   "id": "9dc90726",
   "metadata": {},
   "outputs": [
    {
     "data": {
      "text/plain": [
       "Index(['key', 'fare_amount', 'pickup_datetime', 'pickup_longitude',\n",
       "       'pickup_latitude', 'dropoff_longitude', 'dropoff_latitude',\n",
       "       'passenger_count'],\n",
       "      dtype='object')"
      ]
     },
     "execution_count": 186,
     "metadata": {},
     "output_type": "execute_result"
    }
   ],
   "source": [
    "df.columns"
   ]
  },
  {
   "cell_type": "markdown",
   "id": "f150c10d",
   "metadata": {},
   "source": [
    "### [2] 결측치 및 이상치 체크"
   ]
  },
  {
   "cell_type": "code",
   "execution_count": 187,
   "id": "85d70d0f",
   "metadata": {},
   "outputs": [
    {
     "data": {
      "text/plain": [
       "key                  0\n",
       "fare_amount          0\n",
       "pickup_datetime      0\n",
       "pickup_longitude     0\n",
       "pickup_latitude      0\n",
       "dropoff_longitude    0\n",
       "dropoff_latitude     0\n",
       "passenger_count      0\n",
       "dtype: int64"
      ]
     },
     "execution_count": 187,
     "metadata": {},
     "output_type": "execute_result"
    }
   ],
   "source": [
    "df.isnull().sum()"
   ]
  },
  {
   "cell_type": "code",
   "execution_count": 188,
   "id": "1b8d6c64",
   "metadata": {},
   "outputs": [
    {
     "data": {
      "text/html": [
       "<div>\n",
       "<style scoped>\n",
       "    .dataframe tbody tr th:only-of-type {\n",
       "        vertical-align: middle;\n",
       "    }\n",
       "\n",
       "    .dataframe tbody tr th {\n",
       "        vertical-align: top;\n",
       "    }\n",
       "\n",
       "    .dataframe thead th {\n",
       "        text-align: right;\n",
       "    }\n",
       "</style>\n",
       "<table border=\"1\" class=\"dataframe\">\n",
       "  <thead>\n",
       "    <tr style=\"text-align: right;\">\n",
       "      <th></th>\n",
       "      <th>fare_amount</th>\n",
       "      <th>pickup_longitude</th>\n",
       "      <th>pickup_latitude</th>\n",
       "      <th>dropoff_longitude</th>\n",
       "      <th>dropoff_latitude</th>\n",
       "      <th>passenger_count</th>\n",
       "    </tr>\n",
       "  </thead>\n",
       "  <tbody>\n",
       "    <tr>\n",
       "      <th>count</th>\n",
       "      <td>5000.000000</td>\n",
       "      <td>5000.000000</td>\n",
       "      <td>5000.000000</td>\n",
       "      <td>5000.000000</td>\n",
       "      <td>5000.000000</td>\n",
       "      <td>5000.000000</td>\n",
       "    </tr>\n",
       "    <tr>\n",
       "      <th>mean</th>\n",
       "      <td>11.296238</td>\n",
       "      <td>-72.426826</td>\n",
       "      <td>39.867237</td>\n",
       "      <td>-72.426130</td>\n",
       "      <td>39.875767</td>\n",
       "      <td>1.631000</td>\n",
       "    </tr>\n",
       "    <tr>\n",
       "      <th>std</th>\n",
       "      <td>9.710106</td>\n",
       "      <td>10.722381</td>\n",
       "      <td>6.351342</td>\n",
       "      <td>10.722293</td>\n",
       "      <td>6.326084</td>\n",
       "      <td>1.257122</td>\n",
       "    </tr>\n",
       "    <tr>\n",
       "      <th>min</th>\n",
       "      <td>-2.900000</td>\n",
       "      <td>-74.438233</td>\n",
       "      <td>-73.991840</td>\n",
       "      <td>-74.429332</td>\n",
       "      <td>-73.979010</td>\n",
       "      <td>0.000000</td>\n",
       "    </tr>\n",
       "    <tr>\n",
       "      <th>25%</th>\n",
       "      <td>6.000000</td>\n",
       "      <td>-73.992449</td>\n",
       "      <td>40.734045</td>\n",
       "      <td>-73.991349</td>\n",
       "      <td>40.734379</td>\n",
       "      <td>1.000000</td>\n",
       "    </tr>\n",
       "    <tr>\n",
       "      <th>50%</th>\n",
       "      <td>8.500000</td>\n",
       "      <td>-73.982069</td>\n",
       "      <td>40.752128</td>\n",
       "      <td>-73.980196</td>\n",
       "      <td>40.753512</td>\n",
       "      <td>1.000000</td>\n",
       "    </tr>\n",
       "    <tr>\n",
       "      <th>75%</th>\n",
       "      <td>12.500000</td>\n",
       "      <td>-73.967040</td>\n",
       "      <td>40.766890</td>\n",
       "      <td>-73.963589</td>\n",
       "      <td>40.767636</td>\n",
       "      <td>2.000000</td>\n",
       "    </tr>\n",
       "    <tr>\n",
       "      <th>max</th>\n",
       "      <td>180.000000</td>\n",
       "      <td>40.751582</td>\n",
       "      <td>41.366138</td>\n",
       "      <td>40.758867</td>\n",
       "      <td>41.032598</td>\n",
       "      <td>6.000000</td>\n",
       "    </tr>\n",
       "  </tbody>\n",
       "</table>\n",
       "</div>"
      ],
      "text/plain": [
       "       fare_amount  pickup_longitude  pickup_latitude  dropoff_longitude  \\\n",
       "count  5000.000000       5000.000000      5000.000000        5000.000000   \n",
       "mean     11.296238        -72.426826        39.867237         -72.426130   \n",
       "std       9.710106         10.722381         6.351342          10.722293   \n",
       "min      -2.900000        -74.438233       -73.991840         -74.429332   \n",
       "25%       6.000000        -73.992449        40.734045         -73.991349   \n",
       "50%       8.500000        -73.982069        40.752128         -73.980196   \n",
       "75%      12.500000        -73.967040        40.766890         -73.963589   \n",
       "max     180.000000         40.751582        41.366138          40.758867   \n",
       "\n",
       "       dropoff_latitude  passenger_count  \n",
       "count       5000.000000      5000.000000  \n",
       "mean          39.875767         1.631000  \n",
       "std            6.326084         1.257122  \n",
       "min          -73.979010         0.000000  \n",
       "25%           40.734379         1.000000  \n",
       "50%           40.753512         1.000000  \n",
       "75%           40.767636         2.000000  \n",
       "max           41.032598         6.000000  "
      ]
     },
     "execution_count": 188,
     "metadata": {},
     "output_type": "execute_result"
    }
   ],
   "source": [
    "df.describe()"
   ]
  },
  {
   "cell_type": "code",
   "execution_count": 189,
   "id": "fed8cc42",
   "metadata": {},
   "outputs": [
    {
     "data": {
      "text/html": [
       "<div>\n",
       "<style scoped>\n",
       "    .dataframe tbody tr th:only-of-type {\n",
       "        vertical-align: middle;\n",
       "    }\n",
       "\n",
       "    .dataframe tbody tr th {\n",
       "        vertical-align: top;\n",
       "    }\n",
       "\n",
       "    .dataframe thead th {\n",
       "        text-align: right;\n",
       "    }\n",
       "</style>\n",
       "<table border=\"1\" class=\"dataframe\">\n",
       "  <thead>\n",
       "    <tr style=\"text-align: right;\">\n",
       "      <th></th>\n",
       "      <th>key</th>\n",
       "      <th>fare_amount</th>\n",
       "      <th>pickup_datetime</th>\n",
       "      <th>pickup_longitude</th>\n",
       "      <th>pickup_latitude</th>\n",
       "      <th>dropoff_longitude</th>\n",
       "      <th>dropoff_latitude</th>\n",
       "      <th>passenger_count</th>\n",
       "    </tr>\n",
       "  </thead>\n",
       "  <tbody>\n",
       "    <tr>\n",
       "      <th>0</th>\n",
       "      <td>2009-06-15 17:26:21.0000001</td>\n",
       "      <td>4.5</td>\n",
       "      <td>2009-06-15 17:26:21+00:00</td>\n",
       "      <td>-73.844311</td>\n",
       "      <td>40.721319</td>\n",
       "      <td>-73.841610</td>\n",
       "      <td>40.712278</td>\n",
       "      <td>1</td>\n",
       "    </tr>\n",
       "    <tr>\n",
       "      <th>1</th>\n",
       "      <td>2010-01-05 16:52:16.0000002</td>\n",
       "      <td>16.9</td>\n",
       "      <td>2010-01-05 16:52:16+00:00</td>\n",
       "      <td>-74.016048</td>\n",
       "      <td>40.711303</td>\n",
       "      <td>-73.979268</td>\n",
       "      <td>40.782004</td>\n",
       "      <td>1</td>\n",
       "    </tr>\n",
       "    <tr>\n",
       "      <th>2</th>\n",
       "      <td>2011-08-18 00:35:00.00000049</td>\n",
       "      <td>5.7</td>\n",
       "      <td>2011-08-18 00:35:00+00:00</td>\n",
       "      <td>-73.982738</td>\n",
       "      <td>40.761270</td>\n",
       "      <td>-73.991242</td>\n",
       "      <td>40.750562</td>\n",
       "      <td>2</td>\n",
       "    </tr>\n",
       "    <tr>\n",
       "      <th>3</th>\n",
       "      <td>2012-04-21 04:30:42.0000001</td>\n",
       "      <td>7.7</td>\n",
       "      <td>2012-04-21 04:30:42+00:00</td>\n",
       "      <td>-73.987130</td>\n",
       "      <td>40.733143</td>\n",
       "      <td>-73.991567</td>\n",
       "      <td>40.758092</td>\n",
       "      <td>1</td>\n",
       "    </tr>\n",
       "    <tr>\n",
       "      <th>4</th>\n",
       "      <td>2010-03-09 07:51:00.000000135</td>\n",
       "      <td>5.3</td>\n",
       "      <td>2010-03-09 07:51:00+00:00</td>\n",
       "      <td>-73.968095</td>\n",
       "      <td>40.768008</td>\n",
       "      <td>-73.956655</td>\n",
       "      <td>40.783762</td>\n",
       "      <td>1</td>\n",
       "    </tr>\n",
       "  </tbody>\n",
       "</table>\n",
       "</div>"
      ],
      "text/plain": [
       "                             key  fare_amount           pickup_datetime  \\\n",
       "0    2009-06-15 17:26:21.0000001          4.5 2009-06-15 17:26:21+00:00   \n",
       "1    2010-01-05 16:52:16.0000002         16.9 2010-01-05 16:52:16+00:00   \n",
       "2   2011-08-18 00:35:00.00000049          5.7 2011-08-18 00:35:00+00:00   \n",
       "3    2012-04-21 04:30:42.0000001          7.7 2012-04-21 04:30:42+00:00   \n",
       "4  2010-03-09 07:51:00.000000135          5.3 2010-03-09 07:51:00+00:00   \n",
       "\n",
       "   pickup_longitude  pickup_latitude  dropoff_longitude  dropoff_latitude  \\\n",
       "0        -73.844311        40.721319         -73.841610         40.712278   \n",
       "1        -74.016048        40.711303         -73.979268         40.782004   \n",
       "2        -73.982738        40.761270         -73.991242         40.750562   \n",
       "3        -73.987130        40.733143         -73.991567         40.758092   \n",
       "4        -73.968095        40.768008         -73.956655         40.783762   \n",
       "\n",
       "   passenger_count  \n",
       "0                1  \n",
       "1                1  \n",
       "2                2  \n",
       "3                1  \n",
       "4                1  "
      ]
     },
     "execution_count": 189,
     "metadata": {},
     "output_type": "execute_result"
    }
   ],
   "source": [
    "df.head()"
   ]
  },
  {
   "cell_type": "markdown",
   "id": "340988ca",
   "metadata": {},
   "source": [
    "# 특성 새롭게 생성 => 거리 Feature\n",
    "---\n",
    "- 공식 : (x2-x1)^2 + (y2-y1)^2 계산 결과의 루트"
   ]
  },
  {
   "cell_type": "code",
   "execution_count": 190,
   "id": "81d5fa80",
   "metadata": {},
   "outputs": [],
   "source": [
    "distance = np.sqrt((df.pickup_latitude - df.dropoff_latitude)**2 + (df.pickup_longitude - df.dropoff_longitude)**2)\n",
    "\n",
    "type(distance)\n",
    "\n",
    "df['distance'] = distance"
   ]
  },
  {
   "cell_type": "code",
   "execution_count": 191,
   "id": "bb340895",
   "metadata": {},
   "outputs": [],
   "source": [
    "# 뉴욕시 내에서 승차/하차의 경우\n",
    "p_long = (df['pickup_longitude'] >= -74.27) & (df['pickup_longitude'] <=-73.68)\n",
    "d_long = (df['dropoff_longitude'] >= -74.27) & (df['dropoff_longitude'] <=-73.68)\n",
    "p_lat = (df['pickup_latitude'] >= 40.49) & (df['pickup_latitude'] <= 40.92)\n",
    "d_lat = (df['dropoff_latitude'] >= 40.49) & (df['dropoff_latitude'] <= 40.92)"
   ]
  },
  {
   "cell_type": "code",
   "execution_count": 192,
   "id": "d23dc2c7",
   "metadata": {},
   "outputs": [
    {
     "name": "stdout",
     "output_type": "stream",
     "text": [
      "<class 'pandas.core.frame.DataFrame'>\n",
      "Int64Index: 4885 entries, 0 to 4999\n",
      "Data columns (total 9 columns):\n",
      " #   Column             Non-Null Count  Dtype              \n",
      "---  ------             --------------  -----              \n",
      " 0   key                4885 non-null   object             \n",
      " 1   fare_amount        4885 non-null   float64            \n",
      " 2   pickup_datetime    4885 non-null   datetime64[ns, UTC]\n",
      " 3   pickup_longitude   4885 non-null   float64            \n",
      " 4   pickup_latitude    4885 non-null   float64            \n",
      " 5   dropoff_longitude  4885 non-null   float64            \n",
      " 6   dropoff_latitude   4885 non-null   float64            \n",
      " 7   passenger_count    4885 non-null   int64              \n",
      " 8   distance           4885 non-null   float64            \n",
      "dtypes: datetime64[ns, UTC](1), float64(6), int64(1), object(1)\n",
      "memory usage: 381.6+ KB\n"
     ]
    }
   ],
   "source": [
    "df = df[p_long & d_long & p_lat & d_lat]\n",
    "df.info()"
   ]
  },
  {
   "cell_type": "code",
   "execution_count": 193,
   "id": "01ce9119",
   "metadata": {},
   "outputs": [
    {
     "data": {
      "text/html": [
       "<div>\n",
       "<style scoped>\n",
       "    .dataframe tbody tr th:only-of-type {\n",
       "        vertical-align: middle;\n",
       "    }\n",
       "\n",
       "    .dataframe tbody tr th {\n",
       "        vertical-align: top;\n",
       "    }\n",
       "\n",
       "    .dataframe thead th {\n",
       "        text-align: right;\n",
       "    }\n",
       "</style>\n",
       "<table border=\"1\" class=\"dataframe\">\n",
       "  <thead>\n",
       "    <tr style=\"text-align: right;\">\n",
       "      <th></th>\n",
       "      <th>fare_amount</th>\n",
       "      <th>pickup_longitude</th>\n",
       "      <th>pickup_latitude</th>\n",
       "      <th>dropoff_longitude</th>\n",
       "      <th>dropoff_latitude</th>\n",
       "      <th>passenger_count</th>\n",
       "      <th>distance</th>\n",
       "    </tr>\n",
       "  </thead>\n",
       "  <tbody>\n",
       "    <tr>\n",
       "      <th>count</th>\n",
       "      <td>4885.000000</td>\n",
       "      <td>4885.000000</td>\n",
       "      <td>4885.000000</td>\n",
       "      <td>4885.000000</td>\n",
       "      <td>4885.000000</td>\n",
       "      <td>4885.000000</td>\n",
       "      <td>4885.000000</td>\n",
       "    </tr>\n",
       "    <tr>\n",
       "      <th>mean</th>\n",
       "      <td>11.235038</td>\n",
       "      <td>-73.975619</td>\n",
       "      <td>40.750647</td>\n",
       "      <td>-73.974395</td>\n",
       "      <td>40.751466</td>\n",
       "      <td>1.633982</td>\n",
       "      <td>0.034077</td>\n",
       "    </tr>\n",
       "    <tr>\n",
       "      <th>std</th>\n",
       "      <td>9.122513</td>\n",
       "      <td>0.034689</td>\n",
       "      <td>0.027256</td>\n",
       "      <td>0.034174</td>\n",
       "      <td>0.030591</td>\n",
       "      <td>1.261926</td>\n",
       "      <td>0.037798</td>\n",
       "    </tr>\n",
       "    <tr>\n",
       "      <th>min</th>\n",
       "      <td>-2.900000</td>\n",
       "      <td>-74.105395</td>\n",
       "      <td>40.614803</td>\n",
       "      <td>-74.183955</td>\n",
       "      <td>40.551710</td>\n",
       "      <td>0.000000</td>\n",
       "      <td>0.000000</td>\n",
       "    </tr>\n",
       "    <tr>\n",
       "      <th>25%</th>\n",
       "      <td>6.000000</td>\n",
       "      <td>-73.992778</td>\n",
       "      <td>40.735570</td>\n",
       "      <td>-73.991520</td>\n",
       "      <td>40.735819</td>\n",
       "      <td>1.000000</td>\n",
       "      <td>0.012717</td>\n",
       "    </tr>\n",
       "    <tr>\n",
       "      <th>50%</th>\n",
       "      <td>8.500000</td>\n",
       "      <td>-73.982305</td>\n",
       "      <td>40.752693</td>\n",
       "      <td>-73.980573</td>\n",
       "      <td>40.754296</td>\n",
       "      <td>1.000000</td>\n",
       "      <td>0.022075</td>\n",
       "    </tr>\n",
       "    <tr>\n",
       "      <th>75%</th>\n",
       "      <td>12.500000</td>\n",
       "      <td>-73.968542</td>\n",
       "      <td>40.767287</td>\n",
       "      <td>-73.965570</td>\n",
       "      <td>40.768088</td>\n",
       "      <td>2.000000</td>\n",
       "      <td>0.039700</td>\n",
       "    </tr>\n",
       "    <tr>\n",
       "      <th>max</th>\n",
       "      <td>85.500000</td>\n",
       "      <td>-73.776293</td>\n",
       "      <td>40.876747</td>\n",
       "      <td>-73.719100</td>\n",
       "      <td>40.896535</td>\n",
       "      <td>6.000000</td>\n",
       "      <td>0.247462</td>\n",
       "    </tr>\n",
       "  </tbody>\n",
       "</table>\n",
       "</div>"
      ],
      "text/plain": [
       "       fare_amount  pickup_longitude  pickup_latitude  dropoff_longitude  \\\n",
       "count  4885.000000       4885.000000      4885.000000        4885.000000   \n",
       "mean     11.235038        -73.975619        40.750647         -73.974395   \n",
       "std       9.122513          0.034689         0.027256           0.034174   \n",
       "min      -2.900000        -74.105395        40.614803         -74.183955   \n",
       "25%       6.000000        -73.992778        40.735570         -73.991520   \n",
       "50%       8.500000        -73.982305        40.752693         -73.980573   \n",
       "75%      12.500000        -73.968542        40.767287         -73.965570   \n",
       "max      85.500000        -73.776293        40.876747         -73.719100   \n",
       "\n",
       "       dropoff_latitude  passenger_count     distance  \n",
       "count       4885.000000      4885.000000  4885.000000  \n",
       "mean          40.751466         1.633982     0.034077  \n",
       "std            0.030591         1.261926     0.037798  \n",
       "min           40.551710         0.000000     0.000000  \n",
       "25%           40.735819         1.000000     0.012717  \n",
       "50%           40.754296         1.000000     0.022075  \n",
       "75%           40.768088         2.000000     0.039700  \n",
       "max           40.896535         6.000000     0.247462  "
      ]
     },
     "execution_count": 193,
     "metadata": {},
     "output_type": "execute_result"
    }
   ],
   "source": [
    "df.describe()"
   ]
  },
  {
   "cell_type": "code",
   "execution_count": 194,
   "id": "507f3733",
   "metadata": {},
   "outputs": [],
   "source": [
    "# fare_amount 컬럼 음수 컬럼 제거\n",
    "# passenger_count, distance 컬럼 0 값 평균 값으로 채우기\n",
    "df = df[df['fare_amount'] >= 0]\n",
    "df.passenger_count[df['passenger_count'] == 0] = df.passenger_count.mean()\n",
    "df.distance[df['distance'] == 0] = df.distance.mean()"
   ]
  },
  {
   "cell_type": "code",
   "execution_count": 195,
   "id": "4edd5da0",
   "metadata": {},
   "outputs": [],
   "source": [
    "# 모듈 로딩\n",
    "from sklearn.model_selection import train_test_split\n",
    "from sklearn.linear_model import LinearRegression"
   ]
  },
  {
   "cell_type": "markdown",
   "id": "c82f4f82",
   "metadata": {},
   "source": [
    "### [1] 데이터 준비"
   ]
  },
  {
   "cell_type": "code",
   "execution_count": 196,
   "id": "4f0a5105",
   "metadata": {},
   "outputs": [
    {
     "data": {
      "text/html": [
       "<div>\n",
       "<style scoped>\n",
       "    .dataframe tbody tr th:only-of-type {\n",
       "        vertical-align: middle;\n",
       "    }\n",
       "\n",
       "    .dataframe tbody tr th {\n",
       "        vertical-align: top;\n",
       "    }\n",
       "\n",
       "    .dataframe thead th {\n",
       "        text-align: right;\n",
       "    }\n",
       "</style>\n",
       "<table border=\"1\" class=\"dataframe\">\n",
       "  <thead>\n",
       "    <tr style=\"text-align: right;\">\n",
       "      <th></th>\n",
       "      <th>key</th>\n",
       "      <th>fare_amount</th>\n",
       "      <th>pickup_datetime</th>\n",
       "      <th>pickup_longitude</th>\n",
       "      <th>pickup_latitude</th>\n",
       "      <th>dropoff_longitude</th>\n",
       "      <th>dropoff_latitude</th>\n",
       "      <th>passenger_count</th>\n",
       "      <th>distance</th>\n",
       "    </tr>\n",
       "  </thead>\n",
       "  <tbody>\n",
       "    <tr>\n",
       "      <th>0</th>\n",
       "      <td>2009-06-15 17:26:21.0000001</td>\n",
       "      <td>4.5</td>\n",
       "      <td>2009-06-15 17:26:21+00:00</td>\n",
       "      <td>-73.844311</td>\n",
       "      <td>40.721319</td>\n",
       "      <td>-73.841610</td>\n",
       "      <td>40.712278</td>\n",
       "      <td>1.0</td>\n",
       "      <td>0.009436</td>\n",
       "    </tr>\n",
       "    <tr>\n",
       "      <th>1</th>\n",
       "      <td>2010-01-05 16:52:16.0000002</td>\n",
       "      <td>16.9</td>\n",
       "      <td>2010-01-05 16:52:16+00:00</td>\n",
       "      <td>-74.016048</td>\n",
       "      <td>40.711303</td>\n",
       "      <td>-73.979268</td>\n",
       "      <td>40.782004</td>\n",
       "      <td>1.0</td>\n",
       "      <td>0.079696</td>\n",
       "    </tr>\n",
       "    <tr>\n",
       "      <th>2</th>\n",
       "      <td>2011-08-18 00:35:00.00000049</td>\n",
       "      <td>5.7</td>\n",
       "      <td>2011-08-18 00:35:00+00:00</td>\n",
       "      <td>-73.982738</td>\n",
       "      <td>40.761270</td>\n",
       "      <td>-73.991242</td>\n",
       "      <td>40.750562</td>\n",
       "      <td>2.0</td>\n",
       "      <td>0.013674</td>\n",
       "    </tr>\n",
       "    <tr>\n",
       "      <th>3</th>\n",
       "      <td>2012-04-21 04:30:42.0000001</td>\n",
       "      <td>7.7</td>\n",
       "      <td>2012-04-21 04:30:42+00:00</td>\n",
       "      <td>-73.987130</td>\n",
       "      <td>40.733143</td>\n",
       "      <td>-73.991567</td>\n",
       "      <td>40.758092</td>\n",
       "      <td>1.0</td>\n",
       "      <td>0.025340</td>\n",
       "    </tr>\n",
       "    <tr>\n",
       "      <th>4</th>\n",
       "      <td>2010-03-09 07:51:00.000000135</td>\n",
       "      <td>5.3</td>\n",
       "      <td>2010-03-09 07:51:00+00:00</td>\n",
       "      <td>-73.968095</td>\n",
       "      <td>40.768008</td>\n",
       "      <td>-73.956655</td>\n",
       "      <td>40.783762</td>\n",
       "      <td>1.0</td>\n",
       "      <td>0.019470</td>\n",
       "    </tr>\n",
       "    <tr>\n",
       "      <th>...</th>\n",
       "      <td>...</td>\n",
       "      <td>...</td>\n",
       "      <td>...</td>\n",
       "      <td>...</td>\n",
       "      <td>...</td>\n",
       "      <td>...</td>\n",
       "      <td>...</td>\n",
       "      <td>...</td>\n",
       "      <td>...</td>\n",
       "    </tr>\n",
       "    <tr>\n",
       "      <th>4995</th>\n",
       "      <td>2010-09-04 12:45:32.0000001</td>\n",
       "      <td>6.5</td>\n",
       "      <td>2010-09-04 12:45:32+00:00</td>\n",
       "      <td>-73.980622</td>\n",
       "      <td>40.745157</td>\n",
       "      <td>-73.975777</td>\n",
       "      <td>40.755863</td>\n",
       "      <td>1.0</td>\n",
       "      <td>0.011751</td>\n",
       "    </tr>\n",
       "    <tr>\n",
       "      <th>4996</th>\n",
       "      <td>2011-06-13 10:53:52.0000006</td>\n",
       "      <td>4.9</td>\n",
       "      <td>2011-06-13 10:53:52+00:00</td>\n",
       "      <td>-73.956664</td>\n",
       "      <td>40.766989</td>\n",
       "      <td>-73.961371</td>\n",
       "      <td>40.772639</td>\n",
       "      <td>1.0</td>\n",
       "      <td>0.007354</td>\n",
       "    </tr>\n",
       "    <tr>\n",
       "      <th>4997</th>\n",
       "      <td>2013-12-12 21:26:40.0000004</td>\n",
       "      <td>7.5</td>\n",
       "      <td>2013-12-12 21:26:40+00:00</td>\n",
       "      <td>-73.988707</td>\n",
       "      <td>40.734343</td>\n",
       "      <td>-73.991737</td>\n",
       "      <td>40.722582</td>\n",
       "      <td>1.0</td>\n",
       "      <td>0.012145</td>\n",
       "    </tr>\n",
       "    <tr>\n",
       "      <th>4998</th>\n",
       "      <td>2010-03-08 14:01:00.00000067</td>\n",
       "      <td>7.7</td>\n",
       "      <td>2010-03-08 14:01:00+00:00</td>\n",
       "      <td>-73.952795</td>\n",
       "      <td>40.776642</td>\n",
       "      <td>-73.965320</td>\n",
       "      <td>40.759412</td>\n",
       "      <td>5.0</td>\n",
       "      <td>0.021301</td>\n",
       "    </tr>\n",
       "    <tr>\n",
       "      <th>4999</th>\n",
       "      <td>2011-02-28 18:37:41.0000002</td>\n",
       "      <td>13.3</td>\n",
       "      <td>2011-02-28 18:37:41+00:00</td>\n",
       "      <td>-73.983301</td>\n",
       "      <td>40.743722</td>\n",
       "      <td>-73.964523</td>\n",
       "      <td>40.710758</td>\n",
       "      <td>1.0</td>\n",
       "      <td>0.037937</td>\n",
       "    </tr>\n",
       "  </tbody>\n",
       "</table>\n",
       "<p>4883 rows × 9 columns</p>\n",
       "</div>"
      ],
      "text/plain": [
       "                                key  fare_amount           pickup_datetime  \\\n",
       "0       2009-06-15 17:26:21.0000001          4.5 2009-06-15 17:26:21+00:00   \n",
       "1       2010-01-05 16:52:16.0000002         16.9 2010-01-05 16:52:16+00:00   \n",
       "2      2011-08-18 00:35:00.00000049          5.7 2011-08-18 00:35:00+00:00   \n",
       "3       2012-04-21 04:30:42.0000001          7.7 2012-04-21 04:30:42+00:00   \n",
       "4     2010-03-09 07:51:00.000000135          5.3 2010-03-09 07:51:00+00:00   \n",
       "...                             ...          ...                       ...   \n",
       "4995    2010-09-04 12:45:32.0000001          6.5 2010-09-04 12:45:32+00:00   \n",
       "4996    2011-06-13 10:53:52.0000006          4.9 2011-06-13 10:53:52+00:00   \n",
       "4997    2013-12-12 21:26:40.0000004          7.5 2013-12-12 21:26:40+00:00   \n",
       "4998   2010-03-08 14:01:00.00000067          7.7 2010-03-08 14:01:00+00:00   \n",
       "4999    2011-02-28 18:37:41.0000002         13.3 2011-02-28 18:37:41+00:00   \n",
       "\n",
       "      pickup_longitude  pickup_latitude  dropoff_longitude  dropoff_latitude  \\\n",
       "0           -73.844311        40.721319         -73.841610         40.712278   \n",
       "1           -74.016048        40.711303         -73.979268         40.782004   \n",
       "2           -73.982738        40.761270         -73.991242         40.750562   \n",
       "3           -73.987130        40.733143         -73.991567         40.758092   \n",
       "4           -73.968095        40.768008         -73.956655         40.783762   \n",
       "...                ...              ...                ...               ...   \n",
       "4995        -73.980622        40.745157         -73.975777         40.755863   \n",
       "4996        -73.956664        40.766989         -73.961371         40.772639   \n",
       "4997        -73.988707        40.734343         -73.991737         40.722582   \n",
       "4998        -73.952795        40.776642         -73.965320         40.759412   \n",
       "4999        -73.983301        40.743722         -73.964523         40.710758   \n",
       "\n",
       "      passenger_count  distance  \n",
       "0                 1.0  0.009436  \n",
       "1                 1.0  0.079696  \n",
       "2                 2.0  0.013674  \n",
       "3                 1.0  0.025340  \n",
       "4                 1.0  0.019470  \n",
       "...               ...       ...  \n",
       "4995              1.0  0.011751  \n",
       "4996              1.0  0.007354  \n",
       "4997              1.0  0.012145  \n",
       "4998              5.0  0.021301  \n",
       "4999              1.0  0.037937  \n",
       "\n",
       "[4883 rows x 9 columns]"
      ]
     },
     "execution_count": 196,
     "metadata": {},
     "output_type": "execute_result"
    }
   ],
   "source": [
    "df"
   ]
  },
  {
   "cell_type": "markdown",
   "id": "ffc11d24",
   "metadata": {},
   "source": [
    "### [2] 분포 분석 => EDA => 시각화"
   ]
  },
  {
   "cell_type": "code",
   "execution_count": 197,
   "id": "4b45b319",
   "metadata": {},
   "outputs": [
    {
     "data": {
      "image/png": "[encoded data removed]",
      "text/plain": [
       "<Figure size 432x288 with 1 Axes>"
      ]
     },
     "metadata": {
      "needs_background": "light"
     },
     "output_type": "display_data"
    }
   ],
   "source": [
    "plt.scatter(df.distance, df.fare_amount)\n",
    "plt.xlabel('distance')\n",
    "plt.ylabel('fare_amount')\n",
    "plt.show()"
   ]
  },
  {
   "cell_type": "code",
   "execution_count": 198,
   "id": "293d4629",
   "metadata": {},
   "outputs": [
    {
     "name": "stdout",
     "output_type": "stream",
     "text": [
      "(4883,) (4883,)\n"
     ]
    }
   ],
   "source": [
    "# 학습에 사용되는 형테로 데이터 변환\n",
    "X = df.distance\n",
    "y = df.fare_amount\n",
    "print(X.shape, y.shape)"
   ]
  },
  {
   "cell_type": "code",
   "execution_count": 199,
   "id": "7f4d37ed",
   "metadata": {},
   "outputs": [],
   "source": [
    "arrX = np.array(X)\n",
    "arrY = np.array(y)\n",
    "\n",
    "# 1차원 -> 2차원\n",
    "arrX = arrX.reshape(-1, 1)"
   ]
  },
  {
   "cell_type": "markdown",
   "id": "0c85199d",
   "metadata": {},
   "source": [
    "### [3] 학습 방법 선택 및 모델 생성\n",
    "---\n",
    "- 시간에 따른 점수 예측\n",
    "- 데이터 + 라벨 => 지도학습\n",
    "- 선형 데이터 분포 => 선형 모델 적용"
   ]
  },
  {
   "cell_type": "code",
   "execution_count": 200,
   "id": "5883dca0",
   "metadata": {},
   "outputs": [],
   "source": [
    "# 모델 객체 생성\n",
    "model = LinearRegression()"
   ]
  },
  {
   "cell_type": "code",
   "execution_count": 201,
   "id": "e9d96986",
   "metadata": {},
   "outputs": [
    {
     "data": {
      "text/plain": [
       "LinearRegression()"
      ]
     },
     "execution_count": 201,
     "metadata": {},
     "output_type": "execute_result"
    }
   ],
   "source": [
    "# 학습 => 트레이닝 데이터 사용\n",
    "# fit()메서드 => 2차원 형태 데이터\n",
    "model.fit(arrX, arrY)"
   ]
  },
  {
   "cell_type": "code",
   "execution_count": 202,
   "id": "8bc95aa8",
   "metadata": {},
   "outputs": [
    {
     "name": "stdout",
     "output_type": "stream",
     "text": [
      "w:  [211.98145808] b:  3.944627722776305\n"
     ]
    }
   ],
   "source": [
    "# 모델 파라미터 => w 가중치, b 절편\n",
    "print('w: ', model.coef_, 'b: ', model.intercept_)"
   ]
  },
  {
   "cell_type": "markdown",
   "id": "e863b0cc",
   "metadata": {},
   "source": [
    "### [4] 모델 평가\n",
    "---\n",
    "- 테스트(검증) 데이터로 평가\n",
    "- score()\n",
    "    - 분류: 정답 --- 예측답 => 맞춘 정도\n",
    "        * 정확도(accuracy)\n",
    "    - 회귀: 정답 -- 예측답 => 차이 오차(error)\n",
    "        * 손심함수(Loss/Cost Function) : MSE, MAE, RMSE 낮을수록 좋음\n",
    "        * R2 계수: 0 ~ 1 높을수록 좋음"
   ]
  },
  {
   "cell_type": "code",
   "execution_count": 203,
   "id": "ad161705",
   "metadata": {},
   "outputs": [
    {
     "data": {
      "text/plain": [
       "0.7658232527834817"
      ]
     },
     "execution_count": 203,
     "metadata": {},
     "output_type": "execute_result"
    }
   ],
   "source": [
    "# 회귀 => 결정계수 R^2 반환\n",
    "model.score(arrX, arrY)"
   ]
  },
  {
   "cell_type": "code",
   "execution_count": 204,
   "id": "f142999f",
   "metadata": {},
   "outputs": [
    {
     "name": "stdout",
     "output_type": "stream",
     "text": [
      "2.2900987049010078 19.47360103417534\n"
     ]
    }
   ],
   "source": [
    "# 오차 확인\n",
    "from sklearn.metrics import mean_absolute_error, mean_squared_error\n",
    "\n",
    "# 예측값 추출\n",
    "preY = model.predict(arrX)\n",
    "\n",
    "mae = mean_absolute_error(arrY, preY)\n",
    "mse = mean_squared_error(arrY, preY)\n",
    "\n",
    "print(mae, mse)"
   ]
  },
  {
   "cell_type": "markdown",
   "id": "ae543f23",
   "metadata": {},
   "source": [
    "# "
   ]
  },
  {
   "cell_type": "code",
   "execution_count": 205,
   "id": "d011c179",
   "metadata": {},
   "outputs": [],
   "source": [
    "from sklearn.datasets import load_iris\n",
    "from sklearn.linear_model import LogisticRegression\n",
    "from sklearn.model_selection import train_test_split\n",
    "import numpy as np"
   ]
  },
  {
   "cell_type": "code",
   "execution_count": 206,
   "id": "8265adb7",
   "metadata": {},
   "outputs": [],
   "source": [
    "iris = load_iris()"
   ]
  },
  {
   "cell_type": "code",
   "execution_count": 207,
   "id": "a25a0d1a",
   "metadata": {},
   "outputs": [],
   "source": [
    "data = iris.data"
   ]
  },
  {
   "cell_type": "code",
   "execution_count": 208,
   "id": "50f69033",
   "metadata": {},
   "outputs": [],
   "source": [
    "target = iris.target"
   ]
  },
  {
   "cell_type": "code",
   "execution_count": 209,
   "id": "69165af0",
   "metadata": {},
   "outputs": [
    {
     "data": {
      "text/plain": [
       "((150, 4), (150,), numpy.ndarray, numpy.ndarray)"
      ]
     },
     "execution_count": 209,
     "metadata": {},
     "output_type": "execute_result"
    }
   ],
   "source": [
    "data.shape, target.shape, type(data), type(target)"
   ]
  },
  {
   "cell_type": "code",
   "execution_count": 210,
   "id": "e9c82ed1",
   "metadata": {},
   "outputs": [],
   "source": [
    "model = LogisticRegression()"
   ]
  },
  {
   "cell_type": "code",
   "execution_count": 211,
   "id": "e88f7f32",
   "metadata": {},
   "outputs": [
    {
     "data": {
      "text/plain": [
       "LogisticRegression()"
      ]
     },
     "execution_count": 211,
     "metadata": {},
     "output_type": "execute_result"
    }
   ],
   "source": [
    "model.fit(data, target)"
   ]
  },
  {
   "cell_type": "code",
   "execution_count": 212,
   "id": "2b48ac8f",
   "metadata": {},
   "outputs": [
    {
     "name": "stdout",
     "output_type": "stream",
     "text": [
      "classes_:  [0 1 2]\n",
      "coef_:  [[-0.41813284  0.96633399 -2.52102777 -1.08409539]\n",
      " [ 0.53029432 -0.31442411 -0.19947604 -0.94816287]\n",
      " [-0.11216148 -0.65190988  2.72050381  2.03225827]]\n",
      "intercept_:  [  9.83776831   2.21827742 -12.05604573]\n"
     ]
    }
   ],
   "source": [
    "# 선형계수 즉 기울기w => 특성 Feature 마다 곱하기\n",
    "print('classes_: ', model.classes_)\n",
    "print('coef_: ', model.coef_)\n",
    "print('intercept_: ', model.intercept_)"
   ]
  },
  {
   "cell_type": "code",
   "execution_count": 213,
   "id": "c1e22c70",
   "metadata": {},
   "outputs": [
    {
     "data": {
      "text/plain": [
       "array([[6.7, 3. , 5.2, 2.3],\n",
       "       [6.3, 2.5, 5. , 1.9],\n",
       "       [6.5, 3. , 5.2, 2. ],\n",
       "       [6.2, 3.4, 5.4, 2.3],\n",
       "       [5.9, 3. , 5.1, 1.8]])"
      ]
     },
     "execution_count": 213,
     "metadata": {},
     "output_type": "execute_result"
    }
   ],
   "source": [
    "data[145:]"
   ]
  },
  {
   "cell_type": "code",
   "execution_count": 214,
   "id": "fca6ef8d",
   "metadata": {},
   "outputs": [
    {
     "name": "stdout",
     "output_type": "stream",
     "text": [
      "[[-5.66748353  1.60992698  4.05755655]]\n"
     ]
    }
   ],
   "source": [
    "new_data = [6.7, 3. , 5.2, 2.3]\n",
    "\n",
    "ret = model.decision_function([new_data])\n",
    "print(ret)"
   ]
  },
  {
   "cell_type": "code",
   "execution_count": 215,
   "id": "a8b81f1a",
   "metadata": {},
   "outputs": [
    {
     "name": "stdout",
     "output_type": "stream",
     "text": [
      "y=  -5.667483525664883 y=  1.6099269785436596 y=  4.057556547120633 softmax =>  1.0\n"
     ]
    }
   ],
   "source": [
    "from scipy.special import softmax\n",
    "\n",
    "# y=aw1 + bw2 + cw3 + dw4 + b\n",
    "values = []\n",
    "for i in range(3):\n",
    "    y = model.coef_[i][0]*new_data[0] +\\\n",
    "        model.coef_[i][1]*new_data[1] +\\\n",
    "        model.coef_[i][2]*new_data[2] +\\\n",
    "        model.coef_[i][3]*new_data[3] + model.intercept_[i]\n",
    "    print('y= ', y, end= ' ')\n",
    "    values.append(y)\n",
    "arrValue = np.array(values)\n",
    "print('softmax => ', np.round(softmax(y)))"
   ]
  },
  {
   "cell_type": "code",
   "execution_count": 216,
   "id": "9e65362b",
   "metadata": {},
   "outputs": [
    {
     "data": {
      "text/plain": [
       "array([[0.  , 0.08, 0.92]])"
      ]
     },
     "execution_count": 216,
     "metadata": {},
     "output_type": "execute_result"
    }
   ],
   "source": [
    "np.round(softmax(ret), 3)"
   ]
  },
  {
   "cell_type": "markdown",
   "id": "60c93377",
   "metadata": {},
   "source": [
    "# "
   ]
  },
  {
   "cell_type": "markdown",
   "id": "a41b0e05",
   "metadata": {},
   "source": [
    "# SGDClassifier\n",
    "---\n",
    "- LogisticRegression에 SGD 경사하강법을 적용한 모델\n",
    "- 필수 설정 파라미터\n",
    "    - loss pram : 이진/다중 손실함수 이름 지정"
   ]
  },
  {
   "cell_type": "markdown",
   "id": "459f5943",
   "metadata": {},
   "source": [
    "# "
   ]
  },
  {
   "cell_type": "markdown",
   "id": "02132b9d",
   "metadata": {},
   "source": [
    "# SGD Classifier\n",
    "---\n",
    "- LogisticRegression + SGE(확률적경사하강법) 적용한 분류\n",
    "- 필수 파라미터 => 손실함수 설정"
   ]
  },
  {
   "cell_type": "code",
   "execution_count": 217,
   "id": "69ca9593",
   "metadata": {},
   "outputs": [],
   "source": [
    "# 모듈 로딩\n",
    "import pandas as pd\n",
    "import numpy as np\n",
    "from sklearn.model_selection import train_test_split\n",
    "from sklearn.preprocessing import StandardScaler\n",
    "from sklearn.linear_model import SGDClassifier"
   ]
  },
  {
   "cell_type": "code",
   "execution_count": 218,
   "id": "24e781ca",
   "metadata": {},
   "outputs": [],
   "source": [
    "# 경고 무시\n",
    "# 향후 deprecated 된다는 경고 출력 막음\n",
    "import warnings\n",
    "warnings.filterwarnings(action='ignore')"
   ]
  },
  {
   "cell_type": "code",
   "execution_count": 219,
   "id": "5d33941f",
   "metadata": {},
   "outputs": [],
   "source": [
    "# 파일 관련\n",
    "FILE='../EXAM_DL/DAY_0902/data/fish.csv'"
   ]
  },
  {
   "cell_type": "markdown",
   "id": "579497af",
   "metadata": {},
   "source": [
    "### [1] 데이터 준비\n",
    "---"
   ]
  },
  {
   "cell_type": "code",
   "execution_count": 220,
   "id": "82c5d537",
   "metadata": {},
   "outputs": [],
   "source": [
    "fish = pd.read_csv(FILE)"
   ]
  },
  {
   "cell_type": "code",
   "execution_count": 221,
   "id": "16ca54e5",
   "metadata": {},
   "outputs": [
    {
     "name": "stdout",
     "output_type": "stream",
     "text": [
      "(159, 6)\n",
      "\n",
      "Index(['Species', 'Weight', 'Length', 'Diagonal', 'Height', 'Width'], dtype='object')\n"
     ]
    }
   ],
   "source": [
    "print(fish.shape, fish.columns, sep='\\n\\n')"
   ]
  },
  {
   "cell_type": "code",
   "execution_count": 222,
   "id": "d41a817b",
   "metadata": {},
   "outputs": [
    {
     "data": {
      "text/plain": [
       "Index(['Weight', 'Length', 'Diagonal', 'Height', 'Width'], dtype='object')"
      ]
     },
     "execution_count": 222,
     "metadata": {},
     "output_type": "execute_result"
    }
   ],
   "source": [
    "fish.columns[1:]"
   ]
  },
  {
   "cell_type": "code",
   "execution_count": 223,
   "id": "81d1592b",
   "metadata": {},
   "outputs": [],
   "source": [
    "# 특성 데이터 + 타겟 불리\n",
    "fish_input =  fish[fish.columns[1:]].to_numpy()\n",
    "fish_target = fish.Species.to_numpy()"
   ]
  },
  {
   "cell_type": "code",
   "execution_count": 224,
   "id": "356525f2",
   "metadata": {},
   "outputs": [],
   "source": [
    "# 학습용, 테스트용 데이터 분리 => 8 :2\n",
    "# random_state: 학습 시 랜덤한 동일 데이터로 진행 위해 사용\n",
    "train_input, test_input, train_target, test_target = train_test_split(\n",
    "fish_input, fish_target, test_size=0.2, random_state=42)"
   ]
  },
  {
   "cell_type": "code",
   "execution_count": 225,
   "id": "0b3bfc85",
   "metadata": {},
   "outputs": [],
   "source": [
    "# 표준화 평균 0, 표준편차 1\n",
    "from sklearn.preprocessing import StandardScaler\n",
    "\n",
    "ss = StandardScaler()\n",
    "ss.fit(train_input)\n",
    "train_scaled = ss.transform(train_input)\n",
    "test_scaled = ss.transform(test_input)"
   ]
  },
  {
   "cell_type": "markdown",
   "id": "f69108f6",
   "metadata": {},
   "source": [
    "### [2] 모델 생성 및 함수"
   ]
  },
  {
   "cell_type": "code",
   "execution_count": 226,
   "id": "c2c9490e",
   "metadata": {},
   "outputs": [],
   "source": [
    "from sklearn.linear_model import SGDClassifier"
   ]
  },
  {
   "cell_type": "code",
   "execution_count": 227,
   "id": "6fd3323e",
   "metadata": {},
   "outputs": [
    {
     "data": {
      "text/plain": [
       "SGDClassifier(loss='log', max_iter=10, random_state=42)"
      ]
     },
     "execution_count": 227,
     "metadata": {},
     "output_type": "execute_result"
    }
   ],
   "source": [
    "# 최적화 경사하강법 변경 => BGD => SGD\n",
    "# loss = 손실함수: 모델에 따라 다름 => 'log' 곧 deprecated\n",
    "# max_iter = 1000 기본값: 학습 횟수\n",
    "sc = SGDClassifier(loss='log',\n",
    "                  max_iter=10,\n",
    "                  random_state=42)\n",
    "# 학습 진행 fit(): 반복 횟수 즉 max_iter 만큼 학습 진행\n",
    "sc.fit(train_scaled, train_target)"
   ]
  },
  {
   "cell_type": "code",
   "execution_count": 228,
   "id": "54d9b810",
   "metadata": {},
   "outputs": [
    {
     "name": "stdout",
     "output_type": "stream",
     "text": [
      "0.7480314960629921\n",
      "0.84375\n"
     ]
    }
   ],
   "source": [
    "print(sc.score(train_scaled, train_target))\n",
    "print(sc.score(test_scaled, test_target))"
   ]
  },
  {
   "cell_type": "code",
   "execution_count": 229,
   "id": "187a54cc",
   "metadata": {},
   "outputs": [
    {
     "name": "stdout",
     "output_type": "stream",
     "text": [
      "0.7480314960629921\n",
      "0.8125\n"
     ]
    }
   ],
   "source": [
    "# partial_fit - 1 epoch만 학습 진행\n",
    "sc.partial_fit(train_scaled, train_target)\n",
    "\n",
    "print(sc.score(train_scaled, train_target))\n",
    "print(sc.score(test_scaled, test_target))"
   ]
  },
  {
   "cell_type": "markdown",
   "id": "668977b7",
   "metadata": {},
   "source": [
    "### 학습 횟수(epoch)와 과/소적합"
   ]
  },
  {
   "cell_type": "code",
   "execution_count": 230,
   "id": "0fecb7c4",
   "metadata": {},
   "outputs": [],
   "source": [
    "# 기본 max_iter = 1000\n",
    "sc = SGDClassifier(loss='log', random_state=42)\n",
    "\n",
    "train_score=[]\n",
    "test_score=[]\n",
    "\n",
    "# 분류 항목\n",
    "classes = np.unique(train_target)"
   ]
  },
  {
   "cell_type": "code",
   "execution_count": 231,
   "id": "d1df20ab",
   "metadata": {},
   "outputs": [
    {
     "name": "stdout",
     "output_type": "stream",
     "text": [
      "classes:  ['Bream' 'Parkki' 'Perch' 'Pike' 'Roach' 'Smelt' 'Whitefish']\n"
     ]
    }
   ],
   "source": [
    "print('classes: ', classes)"
   ]
  },
  {
   "cell_type": "code",
   "execution_count": 232,
   "id": "05bf0723",
   "metadata": {},
   "outputs": [],
   "source": [
    "# epoch 수 변화 시키며 모델 평가\n",
    "for _ in range(0, 300):\n",
    "    sc.partial_fit(train_scaled, train_target, classes=classes)\n",
    "    \n",
    "    train_score.append(sc.score(train_scaled, train_target))\n",
    "    test_score.append(sc.score(test_scaled, test_target))"
   ]
  },
  {
   "cell_type": "code",
   "execution_count": 233,
   "id": "ab3a3c3a",
   "metadata": {},
   "outputs": [
    {
     "data": {
      "image/png": "[encoded data removed]",
      "text/plain": [
       "<Figure size 432x288 with 1 Axes>"
      ]
     },
     "metadata": {
      "needs_background": "light"
     },
     "output_type": "display_data"
    }
   ],
   "source": [
    "import matplotlib.pyplot as plt\n",
    "\n",
    "plt.plot(train_score, color='r')\n",
    "plt.plot(test_score)\n",
    "plt.xlabel('epoch')\n",
    "plt.ylabel('accuracy')\n",
    "plt.show()"
   ]
  },
  {
   "cell_type": "code",
   "execution_count": 234,
   "id": "570123e4",
   "metadata": {},
   "outputs": [
    {
     "name": "stdout",
     "output_type": "stream",
     "text": [
      "0.9606299212598425\n",
      "0.90625\n",
      "2000\n"
     ]
    }
   ],
   "source": [
    "# 최적 epoch 수로 학습 진행\n",
    "sc = SGDClassifier(loss='log', max_iter=2000, tol=None, random_state=42)\n",
    "sc.fit(train_scaled, train_target)\n",
    "\n",
    "print(sc.score(train_scaled, train_target))\n",
    "print(sc.score(test_scaled, test_target))\n",
    "print(sc.n_iter_)"
   ]
  },
  {
   "cell_type": "code",
   "execution_count": 235,
   "id": "be011ca1",
   "metadata": {},
   "outputs": [
    {
     "name": "stdout",
     "output_type": "stream",
     "text": [
      "0.6771653543307087\n",
      "0.65625\n",
      "11\n"
     ]
    }
   ],
   "source": [
    "# early_stopping : 조기종료 여부 (기:False)\n",
    "# n_iter_no_change : n번 동안 변경되지 않은 경우 early_stopping이 True\n",
    "# tol : 성능 개선의 기준값\n",
    "sc = SGDClassifier(loss='log', tol=1.0,\n",
    "                  random_state=42,\n",
    "                  n_iter_no_change=10,\n",
    "                  early_stopping=True)\n",
    "sc.fit(train_scaled, train_target)\n",
    "\n",
    "print(sc.score(train_scaled, train_target))\n",
    "print(sc.score(test_scaled, test_target))\n",
    "print(sc.n_iter_)  # _ 붙은 것은 학습이 다 되어야지 나옴?"
   ]
  },
  {
   "cell_type": "markdown",
   "id": "3b573010",
   "metadata": {},
   "source": [
    "# "
   ]
  },
  {
   "cell_type": "markdown",
   "id": "1cc9f745",
   "metadata": {},
   "source": [
    "# LogisticRegression\n",
    "---\n",
    "- 인공신경망의 기본 개념과 동일\n",
    "- Regression이지만 이진분류로 사용\n",
    "- 선형모델 기반으로 y=wx+b 그대로 사용\n",
    "- y=wx+b의 결과 => 분류 변화 함수 => softmax()"
   ]
  },
  {
   "cell_type": "markdown",
   "id": "366d8fe8",
   "metadata": {},
   "source": [
    "### 성적 - 합격/불합격 분류 실습"
   ]
  },
  {
   "cell_type": "code",
   "execution_count": 236,
   "id": "a61d9aa5",
   "metadata": {},
   "outputs": [],
   "source": [
    "# 사용 모듈 로딩\n",
    "from sklearn.linear_model import LogisticRegression\n",
    "import matplotlib.pyplot as plt\n",
    "import numpy as np"
   ]
  },
  {
   "cell_type": "markdown",
   "id": "36efa697",
   "metadata": {},
   "source": [
    "### (1) 데이터 준비"
   ]
  },
  {
   "cell_type": "code",
   "execution_count": 237,
   "id": "c25bec95",
   "metadata": {},
   "outputs": [],
   "source": [
    "X=[78,82,91,94,97]  # 점수\n",
    "y=[0,0,1,1,1]  # 학점"
   ]
  },
  {
   "cell_type": "code",
   "execution_count": 238,
   "id": "bacd30fe",
   "metadata": {},
   "outputs": [],
   "source": [
    "# 학습에 사용할 수 있도록 형 변환\n",
    "arrX = np.array(X).reshape(-1, 1)\n",
    "arrY = np.array(y)"
   ]
  },
  {
   "cell_type": "code",
   "execution_count": 239,
   "id": "50410e7b",
   "metadata": {},
   "outputs": [
    {
     "name": "stdout",
     "output_type": "stream",
     "text": [
      "arrX :  (5, 1) arrY :  (5,)\n"
     ]
    }
   ],
   "source": [
    "# 데이터 체크\n",
    "print('arrX : ', arrX.shape, 'arrY : ', arrY.shape)"
   ]
  },
  {
   "cell_type": "markdown",
   "id": "1dd735dd",
   "metadata": {},
   "source": [
    "### (2) 데이터 확인 => 시각화"
   ]
  },
  {
   "cell_type": "code",
   "execution_count": 240,
   "id": "c44b4031",
   "metadata": {},
   "outputs": [
    {
     "data": {
      "image/png": "[encoded data removed]",
      "text/plain": [
       "<Figure size 432x288 with 1 Axes>"
      ]
     },
     "metadata": {
      "needs_background": "light"
     },
     "output_type": "display_data"
    }
   ],
   "source": [
    "# 현재 데이터 시각화\n",
    "plt.scatter(X, y)\n",
    "plt.xlabel('Score')\n",
    "plt.ylabel('Result')\n",
    "plt.show()"
   ]
  },
  {
   "cell_type": "markdown",
   "id": "1b62f187",
   "metadata": {},
   "source": [
    "### [3] 모델 생성 & 학습"
   ]
  },
  {
   "cell_type": "code",
   "execution_count": 241,
   "id": "7e144ef1",
   "metadata": {},
   "outputs": [],
   "source": [
    "model = LogisticRegression()"
   ]
  },
  {
   "cell_type": "code",
   "execution_count": 242,
   "id": "8d394441",
   "metadata": {},
   "outputs": [
    {
     "data": {
      "text/plain": [
       "LogisticRegression()"
      ]
     },
     "execution_count": 242,
     "metadata": {},
     "output_type": "execute_result"
    }
   ],
   "source": [
    "# 학습\n",
    "model.fit(arrX, arrY)"
   ]
  },
  {
   "cell_type": "code",
   "execution_count": 243,
   "id": "447be830",
   "metadata": {},
   "outputs": [
    {
     "name": "stdout",
     "output_type": "stream",
     "text": [
      "분류 종류 :  [0 1]\n",
      "가중치 값 :  [[0.62705118]]\n",
      "절 편  값 :  [-54.1941992]\n",
      "특성 갯수 :  1\n"
     ]
    }
   ],
   "source": [
    "# 학습 후 설정된 속성\n",
    "print('분류 종류 : ', model.classes_)\n",
    "print('가중치 값 : ', model.coef_)\n",
    "print('절 편  값 : ', model.intercept_)\n",
    "print('특성 갯수 : ', model.n_features_in_)"
   ]
  },
  {
   "cell_type": "markdown",
   "id": "fabefa92",
   "metadata": {},
   "source": [
    "### [4] 평가 => score() 학습용 데이터 점수, 테스트용 데이터 점수\n",
    "---\n",
    "- 2개 점수 비교해서 과대적합, 과소적합 체크"
   ]
  },
  {
   "cell_type": "code",
   "execution_count": 244,
   "id": "b3d760ba",
   "metadata": {},
   "outputs": [
    {
     "data": {
      "text/plain": [
       "1.0"
      ]
     },
     "execution_count": 244,
     "metadata": {},
     "output_type": "execute_result"
    }
   ],
   "source": [
    "model.score(arrX, arrY)"
   ]
  },
  {
   "cell_type": "markdown",
   "id": "e8d84713",
   "metadata": {},
   "source": [
    "### [5] 테스트 => predict() : 새로운 데이터로 진행"
   ]
  },
  {
   "cell_type": "code",
   "execution_count": 245,
   "id": "88f310d1",
   "metadata": {},
   "outputs": [
    {
     "data": {
      "text/plain": [
       "array([0, 0, 1, 1, 1])"
      ]
     },
     "execution_count": 245,
     "metadata": {},
     "output_type": "execute_result"
    }
   ],
   "source": [
    "preY = model.predict(arrX)\n",
    "\n",
    "preY"
   ]
  },
  {
   "cell_type": "code",
   "execution_count": 246,
   "id": "b4be4a55",
   "metadata": {},
   "outputs": [
    {
     "name": "stdout",
     "output_type": "stream",
     "text": [
      "예측결과 :  [1]\n"
     ]
    }
   ],
   "source": [
    "# 1개 데이터\n",
    "preY = model.predict([[87]])\n",
    "print('예측결과 : ', preY)"
   ]
  },
  {
   "cell_type": "code",
   "execution_count": 247,
   "id": "8176025f",
   "metadata": {},
   "outputs": [
    {
     "name": "stdout",
     "output_type": "stream",
     "text": [
      "분류항목 :  [0 1]\n",
      "예측확률 :  [[0.94136517 0.05863483]]\n"
     ]
    }
   ],
   "source": [
    "probaY = model.predict_proba([[82]])\n",
    "print('분류항목 : ', model.classes_)\n",
    "print('예측확률 : ', probaY)"
   ]
  },
  {
   "cell_type": "code",
   "execution_count": 248,
   "id": "ccd02c6f",
   "metadata": {},
   "outputs": [
    {
     "data": {
      "text/plain": [
       "array([-2.77600232])"
      ]
     },
     "execution_count": 248,
     "metadata": {},
     "output_type": "execute_result"
    }
   ],
   "source": [
    "# 결정함수\n",
    "ret=model.decision_function([[82]])\n",
    "ret"
   ]
  },
  {
   "cell_type": "code",
   "execution_count": 249,
   "id": "12b25af5",
   "metadata": {},
   "outputs": [
    {
     "name": "stdout",
     "output_type": "stream",
     "text": [
      "result :  [[-2.77600232]]\n"
     ]
    }
   ],
   "source": [
    "# y=Wx+b : 모델 파라미터\n",
    "result = (model.coef_*82) + model.intercept_\n",
    "print('result : ', result)"
   ]
  },
  {
   "cell_type": "code",
   "execution_count": 250,
   "id": "fa15527b",
   "metadata": {},
   "outputs": [
    {
     "name": "stdout",
     "output_type": "stream",
     "text": [
      "[1.]\n"
     ]
    }
   ],
   "source": [
    "# 시그모이드 함수 / 소프트맥스 후 결과 확인\n",
    "from scipy.special import softmax, expit\n",
    "sigValue2 = softmax(ret)\n",
    "print(np.round(sigValue2, 5))"
   ]
  },
  {
   "cell_type": "markdown",
   "id": "add75e15",
   "metadata": {},
   "source": [
    "# "
   ]
  },
  {
   "cell_type": "markdown",
   "id": "045e42f1",
   "metadata": {},
   "source": [
    "# LogisticRegression binary\n",
    "---\n",
    "- 인공신경망의 기본 개념과 동일\n",
    "- Regression이지만 이진분류(Binary Classification)으로 사용\n",
    "- 션형모델 기반으로 y=wx+b 그대로 사용\n",
    "- y=wx+b의 결과 => 분류 변환 함수 => scipy.special.expit()"
   ]
  },
  {
   "cell_type": "markdown",
   "id": "74683d30",
   "metadata": {},
   "source": [
    "### 성적 - 합격/불합격 분류 실습"
   ]
  },
  {
   "cell_type": "code",
   "execution_count": 251,
   "id": "f6604207",
   "metadata": {},
   "outputs": [],
   "source": [
    "# 사용 모듈 로딩\n",
    "from sklearn.linear_model import LogisticRegression\n",
    "import matplotlib.pyplot as plt\n",
    "import numpy as np"
   ]
  },
  {
   "cell_type": "markdown",
   "id": "0164951c",
   "metadata": {},
   "source": [
    "### (1) 데이터 준비"
   ]
  },
  {
   "cell_type": "code",
   "execution_count": 252,
   "id": "b4c852b7",
   "metadata": {},
   "outputs": [],
   "source": [
    "X=[82,85,87,92,94,97]  # 점수\n",
    "y=['B','B','B','A','A','A']  # 학점"
   ]
  },
  {
   "cell_type": "code",
   "execution_count": 253,
   "id": "b7de9b3a",
   "metadata": {},
   "outputs": [],
   "source": [
    "# 학습에 사용할 수 있도록 형변환\n",
    "arrX = np.array(X).reshape(-1, 1)\n",
    "arrY = np.array(y)"
   ]
  },
  {
   "cell_type": "code",
   "execution_count": 254,
   "id": "fda6d695",
   "metadata": {},
   "outputs": [
    {
     "name": "stdout",
     "output_type": "stream",
     "text": [
      "arrX:  (6, 1) arrY:  (6,)\n"
     ]
    }
   ],
   "source": [
    "# 데이터 체크\n",
    "print('arrX: ', arrX.shape, 'arrY: ', arrY.shape)"
   ]
  },
  {
   "cell_type": "markdown",
   "id": "1d66a52a",
   "metadata": {},
   "source": [
    "### (2) 데이터 확인 => 시각화"
   ]
  },
  {
   "cell_type": "code",
   "execution_count": 255,
   "id": "cdcd1a57",
   "metadata": {},
   "outputs": [
    {
     "data": {
      "image/png": "[encoded data removed]",
      "text/plain": [
       "<Figure size 432x288 with 1 Axes>"
      ]
     },
     "metadata": {
      "needs_background": "light"
     },
     "output_type": "display_data"
    }
   ],
   "source": [
    "# 현재 데이터 시각화\n",
    "plt.scatter(X, y)\n",
    "plt.xlabel('Score')\n",
    "plt.ylabel('Result')\n",
    "plt.show()"
   ]
  },
  {
   "cell_type": "markdown",
   "id": "8c3dcb52",
   "metadata": {},
   "source": [
    "###  모델 생성 & 학습"
   ]
  },
  {
   "cell_type": "code",
   "execution_count": 256,
   "id": "34399c0c",
   "metadata": {},
   "outputs": [],
   "source": [
    "model=LogisticRegression()"
   ]
  },
  {
   "cell_type": "code",
   "execution_count": 257,
   "id": "4eca4490",
   "metadata": {},
   "outputs": [
    {
     "data": {
      "text/plain": [
       "LogisticRegression()"
      ]
     },
     "execution_count": 257,
     "metadata": {},
     "output_type": "execute_result"
    }
   ],
   "source": [
    "# 학습\n",
    "model.fit(arrX, arrY)"
   ]
  },
  {
   "cell_type": "code",
   "execution_count": 258,
   "id": "b32a1888",
   "metadata": {},
   "outputs": [
    {
     "name": "stdout",
     "output_type": "stream",
     "text": [
      "분류 종류 :  ['A' 'B']\n",
      "가중치 값 :  [[-0.8204321]]\n",
      "절 편  값 :  [73.42867468]\n",
      "특성 갯수 :  1\n"
     ]
    }
   ],
   "source": [
    "# 학습 후 설정된 속성\n",
    "print('분류 종류 : ', model.classes_)\n",
    "print('가중치 값 : ', model.coef_)\n",
    "print('절 편  값 : ', model.intercept_)\n",
    "print('특성 갯수 : ', model.n_features_in_)"
   ]
  },
  {
   "cell_type": "markdown",
   "id": "a631b461",
   "metadata": {},
   "source": [
    "### [4] 평가 => score() 학습용 데이터 점수, 테스트용 데이터 점수\n",
    "---\n",
    "- 2개 점수 비교해서 과대적합, 과소적합 체크"
   ]
  },
  {
   "cell_type": "code",
   "execution_count": 259,
   "id": "31896a7d",
   "metadata": {},
   "outputs": [
    {
     "data": {
      "text/plain": [
       "1.0"
      ]
     },
     "execution_count": 259,
     "metadata": {},
     "output_type": "execute_result"
    }
   ],
   "source": [
    "model.score(arrX, arrY)"
   ]
  },
  {
   "cell_type": "markdown",
   "id": "c93506c1",
   "metadata": {},
   "source": [
    "### [5] 테스트 => predict(): 새로운 데이터로 진행"
   ]
  },
  {
   "cell_type": "code",
   "execution_count": 260,
   "id": "05b5a720",
   "metadata": {},
   "outputs": [
    {
     "data": {
      "text/plain": [
       "array(['B', 'B', 'B', 'A', 'A', 'A'], dtype='<U1')"
      ]
     },
     "execution_count": 260,
     "metadata": {},
     "output_type": "execute_result"
    }
   ],
   "source": [
    "preY=model.predict(arrX)\n",
    "\n",
    "preY"
   ]
  },
  {
   "cell_type": "code",
   "execution_count": 261,
   "id": "dc12b3bc",
   "metadata": {},
   "outputs": [
    {
     "name": "stdout",
     "output_type": "stream",
     "text": [
      "예측결과 :  ['B']\n"
     ]
    }
   ],
   "source": [
    "# 1개 데이터\n",
    "preY=model.predict([[87]])\n",
    "\n",
    "print('예측결과 : ', preY)"
   ]
  },
  {
   "cell_type": "code",
   "execution_count": 262,
   "id": "de7bff98",
   "metadata": {},
   "outputs": [
    {
     "name": "stdout",
     "output_type": "stream",
     "text": [
      "분류항목 :  ['A' 'B']\n",
      "예측확률 :  [[0.11394314 0.88605686]]\n"
     ]
    }
   ],
   "source": [
    "probaY=model.predict_proba([[87]])\n",
    "print('분류항목 : ', model.classes_)\n",
    "print('예측확률 : ', probaY)"
   ]
  },
  {
   "cell_type": "code",
   "execution_count": 263,
   "id": "8d7ccb91",
   "metadata": {},
   "outputs": [
    {
     "name": "stdout",
     "output_type": "stream",
     "text": [
      "[2.051]\n"
     ]
    }
   ],
   "source": [
    "# 결정함수 y=wx+b\n",
    "ret=model.decision_function([[87]])\n",
    "print(np.round(ret, 3))"
   ]
  },
  {
   "cell_type": "code",
   "execution_count": 264,
   "id": "56b1e0da",
   "metadata": {},
   "outputs": [
    {
     "name": "stdout",
     "output_type": "stream",
     "text": [
      "result :  [[2.051]]\n"
     ]
    }
   ],
   "source": [
    "# y=Wx+b : 모델 파라미터\n",
    "result=(model.coef_*87) + model.intercept_\n",
    "print('result : ', np.round(result, 3))"
   ]
  },
  {
   "cell_type": "code",
   "execution_count": 265,
   "id": "5ceeacce",
   "metadata": {},
   "outputs": [
    {
     "name": "stdout",
     "output_type": "stream",
     "text": [
      "예측확률 :  [0.88606]\n",
      "예측확률 :  [[0.11394 0.88606]]\n"
     ]
    }
   ],
   "source": [
    "# 시그모이드 함수 expit(ax+b) 후 결과 확인\n",
    "# predict_proba() 함수의 양성에 대한 결과와 동일\n",
    "from scipy.special import expit\n",
    "sigValue2=expit(ret)\n",
    "print('예측확률 : ', np.round(sigValue2, 5))\n",
    "print('예측확률 : ', np.round(probaY, 5))"
   ]
  },
  {
   "cell_type": "markdown",
   "id": "655f1740",
   "metadata": {},
   "source": [
    "# "
   ]
  },
  {
   "cell_type": "markdown",
   "id": "ac17a436",
   "metadata": {},
   "source": [
    "# LogisticRegression multi\n",
    "---\n",
    "- 인공신경망의 기본 개념과 동일\n",
    "- Regression이지만 다중분류로 사용\n",
    "- 선형모델 기반으로 y=wx+b 그대로 사용\n",
    "- y=wx+b의 결과 => 분류 변환 함수 => softmax()"
   ]
  },
  {
   "cell_type": "markdown",
   "id": "5715b512",
   "metadata": {},
   "source": [
    "### 성적 - 합격/불합격 분류 실습"
   ]
  },
  {
   "cell_type": "code",
   "execution_count": 266,
   "id": "d3339588",
   "metadata": {},
   "outputs": [],
   "source": [
    "# 사용 모듈 로딩\n",
    "from sklearn.linear_model import LogisticRegression\n",
    "import matplotlib.pyplot as plt\n",
    "import numpy as np"
   ]
  },
  {
   "cell_type": "markdown",
   "id": "6cb27c93",
   "metadata": {},
   "source": [
    "### (1) 데이터 준비"
   ]
  },
  {
   "cell_type": "code",
   "execution_count": 267,
   "id": "731639c1",
   "metadata": {},
   "outputs": [],
   "source": [
    "X=[71,74,78,82,85,87,92,94,97]  # 점수\n",
    "y=['C','C','C','B','B','B','A','A','A']  # 학점"
   ]
  },
  {
   "cell_type": "code",
   "execution_count": 268,
   "id": "f7b485c9",
   "metadata": {},
   "outputs": [],
   "source": [
    "# 학습에 사용할 수 있도록 형변환\n",
    "arrX = np.array(X).reshape(-1, 1)\n",
    "arrY = np.array(y)"
   ]
  },
  {
   "cell_type": "code",
   "execution_count": 269,
   "id": "4b05b413",
   "metadata": {},
   "outputs": [
    {
     "name": "stdout",
     "output_type": "stream",
     "text": [
      "arrX:  (9, 1) arrY :  (9,)\n"
     ]
    }
   ],
   "source": [
    "# 데이터 체크\n",
    "print('arrX: ', arrX.shape, 'arrY : ', arrY.shape)"
   ]
  },
  {
   "cell_type": "markdown",
   "id": "ad75f3d6",
   "metadata": {},
   "source": [
    "### 데이터 확인 => 시각화"
   ]
  },
  {
   "cell_type": "code",
   "execution_count": 270,
   "id": "5c6c8cfd",
   "metadata": {},
   "outputs": [
    {
     "data": {
      "image/png": "[encoded data removed]",
      "text/plain": [
       "<Figure size 432x288 with 1 Axes>"
      ]
     },
     "metadata": {
      "needs_background": "light"
     },
     "output_type": "display_data"
    }
   ],
   "source": [
    "# 현재 데이터 시각화\n",
    "plt.scatter(X, y)\n",
    "plt.xlabel('Score')\n",
    "plt.ylabel('Result')\n",
    "plt.show()"
   ]
  },
  {
   "cell_type": "markdown",
   "id": "a84649d0",
   "metadata": {},
   "source": [
    "### [3] 모델 생성 & 학습"
   ]
  },
  {
   "cell_type": "code",
   "execution_count": 271,
   "id": "428ca291",
   "metadata": {},
   "outputs": [],
   "source": [
    "model = LogisticRegression()"
   ]
  },
  {
   "cell_type": "code",
   "execution_count": 272,
   "id": "9e98c211",
   "metadata": {},
   "outputs": [
    {
     "data": {
      "text/plain": [
       "LogisticRegression()"
      ]
     },
     "execution_count": 272,
     "metadata": {},
     "output_type": "execute_result"
    }
   ],
   "source": [
    "# 학습\n",
    "model.fit(arrX, arrY)"
   ]
  },
  {
   "cell_type": "code",
   "execution_count": 273,
   "id": "d6a72f53",
   "metadata": {},
   "outputs": [
    {
     "name": "stdout",
     "output_type": "stream",
     "text": [
      "분류 종류 :  ['A' 'B' 'C']\n",
      "가중치 값 :  [[ 0.81689356]\n",
      " [-0.00293966]\n",
      " [-0.8139539 ]]\n",
      "절 편  값 :  [-70.52883025   2.84206703  67.68676322]\n",
      "특성 갯수 :  1\n"
     ]
    }
   ],
   "source": [
    "# 학습 후 설정된 속성\n",
    "print('분류 종류 : ', model.classes_)\n",
    "print('가중치 값 : ', model.coef_)\n",
    "print('절 편  값 : ', model.intercept_)\n",
    "print('특성 갯수 : ', model.n_features_in_)"
   ]
  },
  {
   "cell_type": "markdown",
   "id": "c064b687",
   "metadata": {},
   "source": [
    "### [4] 평가 => score() 학습용 데이터 점수, 테스트용 데이터 점수\n",
    "---\n",
    "- 2개 점수 비교해서 과대적합, 과소적합 체크"
   ]
  },
  {
   "cell_type": "code",
   "execution_count": 274,
   "id": "996492ef",
   "metadata": {},
   "outputs": [
    {
     "data": {
      "text/plain": [
       "1.0"
      ]
     },
     "execution_count": 274,
     "metadata": {},
     "output_type": "execute_result"
    }
   ],
   "source": [
    "model.score(arrX, arrY)"
   ]
  },
  {
   "cell_type": "markdown",
   "id": "95d5fb6d",
   "metadata": {},
   "source": [
    "### [5] 테스트 => predict() : 새로운 데이터로 진행"
   ]
  },
  {
   "cell_type": "code",
   "execution_count": 275,
   "id": "64a41580",
   "metadata": {},
   "outputs": [
    {
     "data": {
      "text/plain": [
       "array(['C', 'C', 'C', 'B', 'B', 'B', 'A', 'A', 'A'], dtype='<U1')"
      ]
     },
     "execution_count": 275,
     "metadata": {},
     "output_type": "execute_result"
    }
   ],
   "source": [
    "preY=model.predict(arrX)\n",
    "\n",
    "preY"
   ]
  },
  {
   "cell_type": "code",
   "execution_count": 276,
   "id": "74c92547",
   "metadata": {},
   "outputs": [
    {
     "name": "stdout",
     "output_type": "stream",
     "text": [
      "예측결과 :  ['B']\n"
     ]
    }
   ],
   "source": [
    "# 1개 데이터\n",
    "preY=model.predict([[87]])\n",
    "\n",
    "print('예측결과 : ', preY)"
   ]
  },
  {
   "cell_type": "code",
   "execution_count": 277,
   "id": "0d48882d",
   "metadata": {},
   "outputs": [
    {
     "name": "stdout",
     "output_type": "stream",
     "text": [
      "분류항목:  ['A' 'B' 'C']\n",
      "예측확률:  [[0.11418348 0.88290209 0.00291442]]\n"
     ]
    }
   ],
   "source": [
    "probaY=model.predict_proba([[87]])\n",
    "print('분류항목: ', model.classes_)\n",
    "print('예측확률: ', probaY)"
   ]
  },
  {
   "cell_type": "code",
   "execution_count": 278,
   "id": "6533d2b0",
   "metadata": {},
   "outputs": [
    {
     "name": "stdout",
     "output_type": "stream",
     "text": [
      "[[ 0.541  2.586 -3.127]]\n"
     ]
    }
   ],
   "source": [
    "# 결정함수 y=wx+b\n",
    "ret=model.decision_function([[87]])\n",
    "print(np.round(ret, 3))"
   ]
  },
  {
   "cell_type": "code",
   "execution_count": 279,
   "id": "7296ee2f",
   "metadata": {},
   "outputs": [
    {
     "name": "stdout",
     "output_type": "stream",
     "text": [
      "result :  [[   0.541   73.912  138.757]\n",
      " [ -70.785    2.586   67.431]\n",
      " [-141.343  -67.972   -3.127]]\n"
     ]
    }
   ],
   "source": [
    "# y=wx+b : 모델 파라미터\n",
    "result=(model.coef_*87) + model.intercept_\n",
    "print('result : ', np.round(result, 3))"
   ]
  },
  {
   "cell_type": "code",
   "execution_count": 280,
   "id": "6d2d0b9b",
   "metadata": {},
   "outputs": [
    {
     "name": "stdout",
     "output_type": "stream",
     "text": [
      "예측확률 :  [[0.11418 0.8829  0.00291]]\n",
      "예측확률 :  [[0.11418 0.8829  0.00291]]\n"
     ]
    }
   ],
   "source": [
    "# 다중분류 소프트맥스 함수 softmax(ax+b) 후 결과 확인\n",
    "# predict_proba() 함수의 양성에 대한 결과와 동일\n",
    "from scipy.special import softmax\n",
    "sigValue2 = softmax(ret)\n",
    "print('예측확률 : ', np.round(sigValue2, 5))\n",
    "print('예측확률 : ', np.round(probaY, 5))"
   ]
  },
  {
   "cell_type": "markdown",
   "id": "d9c25372",
   "metadata": {},
   "source": [
    "# "
   ]
  },
  {
   "cell_type": "markdown",
   "id": "a2014cfc",
   "metadata": {},
   "source": [
    "# SVM(Support Vector Machine)\n",
    "---\n",
    "- ML에서 오랫동안 연구되었고 성능이 좋은 모델\n",
    "- DL볻 성능이 좋은 경우도 있음"
   ]
  },
  {
   "cell_type": "code",
   "execution_count": 281,
   "id": "75a81d5f",
   "metadata": {},
   "outputs": [],
   "source": [
    "# 모듈 로딩\n",
    "from sklearn.svm import SVC\n",
    "from sklearn.datasets import load_digits\n",
    "from sklearn.model_selection import train_test_split\n",
    "import numpy as np\n",
    "import matplotlib.pyplot as plt"
   ]
  },
  {
   "cell_type": "markdown",
   "id": "b18b1f00",
   "metadata": {},
   "source": [
    "### [1] 데이터 준비\n",
    "---"
   ]
  },
  {
   "cell_type": "code",
   "execution_count": 282,
   "id": "6d9dc8d1",
   "metadata": {},
   "outputs": [
    {
     "name": "stdout",
     "output_type": "stream",
     "text": [
      "(1797, 64)\n"
     ]
    },
    {
     "data": {
      "text/plain": [
       "<Figure size 432x288 with 0 Axes>"
      ]
     },
     "metadata": {},
     "output_type": "display_data"
    },
    {
     "data": {
      "image/png": "[encoded data removed]",
      "text/plain": [
       "<Figure size 288x288 with 1 Axes>"
      ]
     },
     "metadata": {
      "needs_background": "light"
     },
     "output_type": "display_data"
    }
   ],
   "source": [
    "digits = load_digits()\n",
    "print(digits.data.shape)\n",
    "\n",
    "import matplotlib.pyplot as plt\n",
    "plt.gray()\n",
    "plt.matshow(digits.images[0])\n",
    "plt.show()"
   ]
  },
  {
   "cell_type": "code",
   "execution_count": 283,
   "id": "a4424f6f",
   "metadata": {},
   "outputs": [],
   "source": [
    "digit = load_digits()"
   ]
  },
  {
   "cell_type": "code",
   "execution_count": 284,
   "id": "1c7db22c",
   "metadata": {},
   "outputs": [],
   "source": [
    "# data, target 분리\n",
    "data = digit['data']\n",
    "target = digit['target']"
   ]
  },
  {
   "cell_type": "code",
   "execution_count": 285,
   "id": "587e8320",
   "metadata": {},
   "outputs": [
    {
     "name": "stdout",
     "output_type": "stream",
     "text": [
      "data : (1797, 64), target : (1797,)\n"
     ]
    }
   ],
   "source": [
    "print(f'data : {data.shape}, target : {target.shape}')"
   ]
  },
  {
   "cell_type": "code",
   "execution_count": 286,
   "id": "9d1d8784",
   "metadata": {},
   "outputs": [
    {
     "name": "stdout",
     "output_type": "stream",
     "text": [
      "data[0]: [ 0.  0.  5. 13.  9.  1.  0.  0.  0.  0. 13. 15. 10. 15.  5.  0.  0.  3.\n",
      " 15.  2.  0. 11.  8.  0.  0.  4. 12.  0.  0.  8.  8.  0.  0.  5.  8.  0.\n",
      "  0.  9.  8.  0.  0.  4. 11.  0.  1. 12.  7.  0.  0.  2. 14.  5. 10. 12.\n",
      "  0.  0.  0.  0.  6. 13. 10.  0.  0.  0.]\n"
     ]
    }
   ],
   "source": [
    "print(f'data[0]: {data[0]}')"
   ]
  },
  {
   "cell_type": "code",
   "execution_count": 287,
   "id": "bc253973",
   "metadata": {},
   "outputs": [
    {
     "name": "stdout",
     "output_type": "stream",
     "text": [
      "target : 2 - imamge[2] \n",
      "\n",
      "[[ 0.  0.  0.  4. 15. 12.  0.  0.]\n",
      " [ 0.  0.  3. 16. 15. 14.  0.  0.]\n",
      " [ 0.  0.  8. 13.  8. 16.  0.  0.]\n",
      " [ 0.  0.  1.  6. 15. 11.  0.  0.]\n",
      " [ 0.  1.  8. 13. 15.  1.  0.  0.]\n",
      " [ 0.  9. 16. 16.  5.  0.  0.  0.]\n",
      " [ 0.  3. 13. 16. 16. 11.  5.  0.]\n",
      " [ 0.  0.  0.  3. 11. 16.  9.  0.]]\n"
     ]
    }
   ],
   "source": [
    "print(f'target : {target[2]} - imamge[2] \\n\\n{digit[\"images\"][2]}')"
   ]
  },
  {
   "cell_type": "markdown",
   "id": "3ebc488f",
   "metadata": {},
   "source": [
    "### [2] 학습용 & 테스트용"
   ]
  },
  {
   "cell_type": "code",
   "execution_count": 288,
   "id": "5fa310e4",
   "metadata": {},
   "outputs": [],
   "source": [
    "train_input, test_input, train_target, test_target = train_test_split(\n",
    "data, target, random_state=42)"
   ]
  },
  {
   "cell_type": "markdown",
   "id": "9b9600a2",
   "metadata": {},
   "source": [
    "### [3] 모델 생성\n",
    "---\n",
    "- 0 ~ 9 : 10개 분류\n",
    "- LR, SVC"
   ]
  },
  {
   "cell_type": "markdown",
   "id": "712df9a0",
   "metadata": {},
   "source": [
    "- 모델 객체 생성\n",
    "- 모델.fit()\n",
    "- 모델.score()\n",
    "- <- 성능 튜닝(하이퍼파라미어)\n",
    "- 모델.predict([[]])"
   ]
  }
 ],
 "metadata": {
  "kernelspec": {
   "display_name": "Python 3 (ipykernel)",
   "language": "python",
   "name": "python3"
  },
  "language_info": {
   "codemirror_mode": {
    "name": "ipython",
    "version": 3
   },
   "file_extension": ".py",
   "mimetype": "text/x-python",
   "name": "python",
   "nbconvert_exporter": "python",
   "pygments_lexer": "ipython3",
   "version": "3.9.12"
  }
 },
 "nbformat": 4,
 "nbformat_minor": 5
}
