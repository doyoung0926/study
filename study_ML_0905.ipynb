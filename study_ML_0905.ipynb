{
 "cells": [
  {
   "cell_type": "markdown",
   "id": "0362003a",
   "metadata": {},
   "source": [
    "# 교차 검증(Cross Validation)\n",
    "---\n",
    "- 데이터셋 부족에 대한 과소적합 해결\n",
    "- 테스트 데이터셋에 대한 과대적합(Overfitting) 해결\n",
    "- cross_validate()함수 사용\n",
    "    - 기본 값 cv = 5-Fold ===> 모델 5개"
   ]
  },
  {
   "cell_type": "code",
   "execution_count": 209,
   "id": "fe24ae7f",
   "metadata": {},
   "outputs": [],
   "source": [
    "from sklearn.model_selection import cross_validate\n",
    "from sklearn.datasets import load_iris\n",
    "from sklearn.linear_model import LogisticRegression\n",
    "import numpy as np"
   ]
  },
  {
   "cell_type": "code",
   "execution_count": 210,
   "id": "9413a4e2",
   "metadata": {},
   "outputs": [],
   "source": [
    "# 데이터 준비\n",
    "data=load_iris()\n",
    "input_data=data['data']\n",
    "input_target=data['target']"
   ]
  },
  {
   "cell_type": "code",
   "execution_count": 211,
   "id": "2fbce9b9",
   "metadata": {},
   "outputs": [
    {
     "data": {
      "text/plain": [
       "((150, 4), (150,))"
      ]
     },
     "execution_count": 211,
     "metadata": {},
     "output_type": "execute_result"
    }
   ],
   "source": [
    "input_data.shape, input_target.shape"
   ]
  },
  {
   "cell_type": "code",
   "execution_count": 212,
   "id": "518776de",
   "metadata": {},
   "outputs": [],
   "source": [
    "# 모델 객체 생성\n",
    "model=LogisticRegression(max_iter=500)"
   ]
  },
  {
   "cell_type": "code",
   "execution_count": 213,
   "id": "4fbed89c",
   "metadata": {},
   "outputs": [],
   "source": [
    "# 5-Fold로 5등분으로 나누어서 학습/검증 모델 생성 진행\n",
    "result=cross_validate(model,\n",
    "                     input_data,\n",
    "                     input_target,\n",
    "                     return_train_score=True,\n",
    "                     cv=10)"
   ]
  },
  {
   "cell_type": "code",
   "execution_count": 214,
   "id": "4a986b26",
   "metadata": {},
   "outputs": [
    {
     "data": {
      "text/plain": [
       "{'fit_time': array([0.02704334, 0.02248096, 0.02855062, 0.0181694 , 0.03029275,\n",
       "        0.02159429, 0.03493953, 0.01737523, 0.02378416, 0.02137303]),\n",
       " 'score_time': array([0.        , 0.        , 0.        , 0.        , 0.        ,\n",
       "        0.        , 0.        , 0.        , 0.        , 0.00362945]),\n",
       " 'test_score': array([1.        , 0.93333333, 1.        , 1.        , 0.93333333,\n",
       "        0.93333333, 0.93333333, 1.        , 1.        , 1.        ]),\n",
       " 'train_score': array([0.97037037, 0.97777778, 0.97037037, 0.97037037, 0.97777778,\n",
       "        0.97777778, 0.98518519, 0.97037037, 0.97037037, 0.97777778])}"
      ]
     },
     "execution_count": 214,
     "metadata": {},
     "output_type": "execute_result"
    }
   ],
   "source": [
    "result"
   ]
  },
  {
   "cell_type": "code",
   "execution_count": 215,
   "id": "924d6fb1",
   "metadata": {},
   "outputs": [
    {
     "data": {
      "text/plain": [
       "0.9733333333333334"
      ]
     },
     "execution_count": 215,
     "metadata": {},
     "output_type": "execute_result"
    }
   ],
   "source": [
    "result['test_score'].mean()"
   ]
  },
  {
   "cell_type": "markdown",
   "id": "48cb0f8d",
   "metadata": {},
   "source": [
    "# "
   ]
  },
  {
   "cell_type": "markdown",
   "id": "8444a836",
   "metadata": {},
   "source": [
    "# 결정트리(Decision Tree)\n",
    "---\n",
    "- 직관적이고 쉬운 모델 방식\n",
    "- 스무고개 퀴즈 형식\n",
    "- 과적합의 발생으로 다른 모델 대비 성능이 좋지 않은 모델\n",
    "- 단독으로 사용되는 경우보다 여러개의 DT가 모여서 사용됨"
   ]
  },
  {
   "cell_type": "code",
   "execution_count": 216,
   "id": "aa50f5ad",
   "metadata": {},
   "outputs": [],
   "source": [
    "# 모듈 로딩\n",
    "from sklearn.datasets import load_breast_cancer\n",
    "from sklearn.model_selection import train_test_split\n",
    "from sklearn.tree import DecisionTreeClassifier\n",
    "from sklearn.tree import plot_tree  # 트리 시각화 함수\n",
    "import pandas as pd"
   ]
  },
  {
   "cell_type": "markdown",
   "id": "ca8efcc5",
   "metadata": {},
   "source": [
    "### [1] 데이터 로딩\n",
    "---"
   ]
  },
  {
   "cell_type": "code",
   "execution_count": 217,
   "id": "37e8f785",
   "metadata": {},
   "outputs": [],
   "source": [
    "# numpy => DataFrame 형태로 데이터 로딩\n",
    "# return_X_y=True, as_frame=True\n",
    "dataX, datay = load_breast_cancer(return_X_y=True, as_frame=True)\n",
    "\n",
    "# Bunch 타입 => Key로 data, target, target_names, feature_names...\n",
    "# dataX, datay = load_breast_cancer"
   ]
  },
  {
   "cell_type": "code",
   "execution_count": 218,
   "id": "48a5e7dd",
   "metadata": {},
   "outputs": [
    {
     "name": "stdout",
     "output_type": "stream",
     "text": [
      "<class 'pandas.core.frame.DataFrame'>\n",
      "RangeIndex: 569 entries, 0 to 568\n",
      "Data columns (total 30 columns):\n",
      " #   Column                   Non-Null Count  Dtype  \n",
      "---  ------                   --------------  -----  \n",
      " 0   mean radius              569 non-null    float64\n",
      " 1   mean texture             569 non-null    float64\n",
      " 2   mean perimeter           569 non-null    float64\n",
      " 3   mean area                569 non-null    float64\n",
      " 4   mean smoothness          569 non-null    float64\n",
      " 5   mean compactness         569 non-null    float64\n",
      " 6   mean concavity           569 non-null    float64\n",
      " 7   mean concave points      569 non-null    float64\n",
      " 8   mean symmetry            569 non-null    float64\n",
      " 9   mean fractal dimension   569 non-null    float64\n",
      " 10  radius error             569 non-null    float64\n",
      " 11  texture error            569 non-null    float64\n",
      " 12  perimeter error          569 non-null    float64\n",
      " 13  area error               569 non-null    float64\n",
      " 14  smoothness error         569 non-null    float64\n",
      " 15  compactness error        569 non-null    float64\n",
      " 16  concavity error          569 non-null    float64\n",
      " 17  concave points error     569 non-null    float64\n",
      " 18  symmetry error           569 non-null    float64\n",
      " 19  fractal dimension error  569 non-null    float64\n",
      " 20  worst radius             569 non-null    float64\n",
      " 21  worst texture            569 non-null    float64\n",
      " 22  worst perimeter          569 non-null    float64\n",
      " 23  worst area               569 non-null    float64\n",
      " 24  worst smoothness         569 non-null    float64\n",
      " 25  worst compactness        569 non-null    float64\n",
      " 26  worst concavity          569 non-null    float64\n",
      " 27  worst concave points     569 non-null    float64\n",
      " 28  worst symmetry           569 non-null    float64\n",
      " 29  worst fractal dimension  569 non-null    float64\n",
      "dtypes: float64(30)\n",
      "memory usage: 133.5 KB\n"
     ]
    },
    {
     "data": {
      "text/plain": [
       "(None,\n",
       " Index(['mean radius', 'mean texture', 'mean perimeter', 'mean area',\n",
       "        'mean smoothness', 'mean compactness', 'mean concavity',\n",
       "        'mean concave points', 'mean symmetry', 'mean fractal dimension',\n",
       "        'radius error', 'texture error', 'perimeter error', 'area error',\n",
       "        'smoothness error', 'compactness error', 'concavity error',\n",
       "        'concave points error', 'symmetry error', 'fractal dimension error',\n",
       "        'worst radius', 'worst texture', 'worst perimeter', 'worst area',\n",
       "        'worst smoothness', 'worst compactness', 'worst concavity',\n",
       "        'worst concave points', 'worst symmetry', 'worst fractal dimension'],\n",
       "       dtype='object'))"
      ]
     },
     "execution_count": 218,
     "metadata": {},
     "output_type": "execute_result"
    }
   ],
   "source": [
    "dataX.info(), dataX.columns"
   ]
  },
  {
   "cell_type": "code",
   "execution_count": 219,
   "id": "f86f5598",
   "metadata": {},
   "outputs": [],
   "source": [
    "f_names = dataX.columns"
   ]
  },
  {
   "cell_type": "code",
   "execution_count": 220,
   "id": "c94711c1",
   "metadata": {},
   "outputs": [
    {
     "data": {
      "text/plain": [
       "mean radius                0\n",
       "mean texture               0\n",
       "mean perimeter             0\n",
       "mean area                  0\n",
       "mean smoothness            0\n",
       "mean compactness           0\n",
       "mean concavity             0\n",
       "mean concave points        0\n",
       "mean symmetry              0\n",
       "mean fractal dimension     0\n",
       "radius error               0\n",
       "texture error              0\n",
       "perimeter error            0\n",
       "area error                 0\n",
       "smoothness error           0\n",
       "compactness error          0\n",
       "concavity error            0\n",
       "concave points error       0\n",
       "symmetry error             0\n",
       "fractal dimension error    0\n",
       "worst radius               0\n",
       "worst texture              0\n",
       "worst perimeter            0\n",
       "worst area                 0\n",
       "worst smoothness           0\n",
       "worst compactness          0\n",
       "worst concavity            0\n",
       "worst concave points       0\n",
       "worst symmetry             0\n",
       "worst fractal dimension    0\n",
       "dtype: int64"
      ]
     },
     "execution_count": 220,
     "metadata": {},
     "output_type": "execute_result"
    }
   ],
   "source": [
    "dataX.isnull().sum()"
   ]
  },
  {
   "cell_type": "markdown",
   "id": "3d0f8180",
   "metadata": {},
   "source": [
    "### [2] 학습 & 테스트 데이터 분리"
   ]
  },
  {
   "cell_type": "code",
   "execution_count": 221,
   "id": "aec93a58",
   "metadata": {},
   "outputs": [
    {
     "data": {
      "text/plain": [
       "(numpy.ndarray, numpy.ndarray)"
      ]
     },
     "execution_count": 221,
     "metadata": {},
     "output_type": "execute_result"
    }
   ],
   "source": [
    "type(dataX.values), type(datay.values)"
   ]
  },
  {
   "cell_type": "code",
   "execution_count": 222,
   "id": "73d6a9ab",
   "metadata": {},
   "outputs": [],
   "source": [
    "dataX = dataX.to_numpy()\n",
    "datay = datay.to_numpy()"
   ]
  },
  {
   "cell_type": "code",
   "execution_count": 223,
   "id": "d5141855",
   "metadata": {},
   "outputs": [],
   "source": [
    "# train : test = 75:25 <- test_size로 조절 하면 됨\n",
    "# stratify=라벨 즉 타겟 데이터 지정 : 학습&테스트 데이터에도 비율 맞추기\n",
    "train_X, test_X, train_y, test_y = train_test_split(dataX,\n",
    "                                                   datay,\n",
    "#                                                    shuffle=False,  # stratify 랑 같이 못 씀?\n",
    "                                                   stratify=datay,\n",
    "                                                   random_state=42)"
   ]
  },
  {
   "cell_type": "code",
   "execution_count": 224,
   "id": "e10e0bd1",
   "metadata": {},
   "outputs": [
    {
     "name": "stdout",
     "output_type": "stream",
     "text": [
      "train_X : (426, 30), test_X : (143, 30)\n"
     ]
    }
   ],
   "source": [
    "print(f'train_X : {train_X.shape}, test_X : {test_X.shape}')"
   ]
  },
  {
   "cell_type": "markdown",
   "id": "67021309",
   "metadata": {},
   "source": [
    "### [3] 학습\n",
    "---\n",
    "- DecisionTreeClassifier 학습 방법"
   ]
  },
  {
   "cell_type": "code",
   "execution_count": 225,
   "id": "47202dab",
   "metadata": {},
   "outputs": [],
   "source": [
    "# 모델 객체 생성\n",
    "dtModel = DecisionTreeClassifier()"
   ]
  },
  {
   "cell_type": "code",
   "execution_count": 226,
   "id": "3346a0be",
   "metadata": {},
   "outputs": [
    {
     "data": {
      "text/plain": [
       "DecisionTreeClassifier()"
      ]
     },
     "execution_count": 226,
     "metadata": {},
     "output_type": "execute_result"
    }
   ],
   "source": [
    "# 학습용 데이터로 학습 진행\n",
    "dtModel.fit(train_X, train_y)  # values 안주면 predict 에서 warning 뜸"
   ]
  },
  {
   "cell_type": "markdown",
   "id": "af3e2133",
   "metadata": {},
   "source": [
    "### [4] 평가"
   ]
  },
  {
   "cell_type": "code",
   "execution_count": 227,
   "id": "19ce42fb",
   "metadata": {},
   "outputs": [],
   "source": [
    "train_score=dtModel.score(train_X, train_y)\n",
    "test_score=dtModel.score(test_X, test_y)\n",
    "# 여기도 values 줘야 warning 안뜸"
   ]
  },
  {
   "cell_type": "code",
   "execution_count": 228,
   "id": "b1e7e57d",
   "metadata": {},
   "outputs": [
    {
     "data": {
      "text/plain": [
       "array([1.275e+01, 1.670e+01, 8.251e+01, 4.938e+02, 1.125e-01, 1.117e-01,\n",
       "       3.880e-02, 2.995e-02, 2.120e-01, 6.623e-02, 3.834e-01, 1.003e+00,\n",
       "       2.495e+00, 2.862e+01, 7.509e-03, 1.561e-02, 1.977e-02, 9.199e-03,\n",
       "       1.805e-02, 3.629e-03, 1.445e+01, 2.174e+01, 9.363e+01, 6.241e+02,\n",
       "       1.475e-01, 1.979e-01, 1.423e-01, 8.045e-02, 3.071e-01, 8.557e-02])"
      ]
     },
     "execution_count": 228,
     "metadata": {},
     "output_type": "execute_result"
    }
   ],
   "source": [
    "test_X[0]"
   ]
  },
  {
   "cell_type": "code",
   "execution_count": 229,
   "id": "9de6469b",
   "metadata": {},
   "outputs": [
    {
     "name": "stdout",
     "output_type": "stream",
     "text": [
      "train_score : 1.0 - test_score : 0.9090909090909091\n"
     ]
    }
   ],
   "source": [
    "print(f'train_score : {train_score} - test_score : {test_score}')"
   ]
  },
  {
   "cell_type": "code",
   "execution_count": 230,
   "id": "ed2af892",
   "metadata": {},
   "outputs": [
    {
     "data": {
      "text/plain": [
       "array([1])"
      ]
     },
     "execution_count": 230,
     "metadata": {},
     "output_type": "execute_result"
    }
   ],
   "source": [
    "dtModel.predict([test_X[0]])"
   ]
  },
  {
   "cell_type": "markdown",
   "id": "bf203c3b",
   "metadata": {},
   "source": [
    "### DTree 시각화\n",
    "---\n",
    "- plot_tree()"
   ]
  },
  {
   "cell_type": "code",
   "execution_count": 231,
   "id": "e93c3c49",
   "metadata": {},
   "outputs": [
    {
     "data": {
      "image/png": "[encoded data removed]",
      "text/plain": [
       "<Figure size 792x720 with 1 Axes>"
      ]
     },
     "metadata": {
      "needs_background": "light"
     },
     "output_type": "display_data"
    }
   ],
   "source": [
    "import matplotlib.pyplot as plt\n",
    "\n",
    "plt.figure(figsize=(11, 10))\n",
    "plot_tree(dtModel, max_depth=1, filled=True, feature_names=f_names)\n",
    "plt.show()"
   ]
  },
  {
   "cell_type": "markdown",
   "id": "19817cc1",
   "metadata": {},
   "source": [
    "### 모델 속성 확인\n",
    "---\n",
    "- DT에서 속성들 중에서 속성도 중요도를 감지 간으\n",
    "- Feature별로 특성들의 중요도 값\n",
    "- 모든 값 합치면 1"
   ]
  },
  {
   "cell_type": "code",
   "execution_count": 232,
   "id": "0d19f3ec",
   "metadata": {},
   "outputs": [
    {
     "data": {
      "text/plain": [
       "(0.6954632181471273, 20, 'worst radius')"
      ]
     },
     "execution_count": 232,
     "metadata": {},
     "output_type": "execute_result"
    }
   ],
   "source": [
    "dtModel.feature_importances_.max(), dtModel.feature_importances_.argmax(), f_names[20]"
   ]
  },
  {
   "cell_type": "code",
   "execution_count": 233,
   "id": "e40330cb",
   "metadata": {},
   "outputs": [
    {
     "data": {
      "image/png": "[encoded data removed]",
      "text/plain": [
       "<Figure size 432x288 with 1 Axes>"
      ]
     },
     "metadata": {
      "needs_background": "light"
     },
     "output_type": "display_data"
    }
   ],
   "source": [
    "plt.barh(y=f_names, width=dtModel.feature_importances_)\n",
    "plt.show()"
   ]
  },
  {
   "cell_type": "markdown",
   "id": "5dfc217a",
   "metadata": {},
   "source": [
    "### RandomForest 학습 모델\n",
    "---\n",
    "- 100개 DecisionTree 모델\n",
    "- 중복허용된 랜덤샘플 데이터 + DecisionTree 모델"
   ]
  },
  {
   "cell_type": "code",
   "execution_count": 234,
   "id": "111e8e81",
   "metadata": {},
   "outputs": [],
   "source": [
    "from sklearn.ensemble import RandomForestClassifier"
   ]
  },
  {
   "cell_type": "code",
   "execution_count": 235,
   "id": "39b4888f",
   "metadata": {},
   "outputs": [],
   "source": [
    "# oob_score_ : 중복허용랜덤샘플에 포함되지 않은 데이터 => 검증용으로 사용\n",
    "forestModel = RandomForestClassifier(max_depth=5,\n",
    "                                    oob_score=True)"
   ]
  },
  {
   "cell_type": "code",
   "execution_count": 236,
   "id": "3cb14b53",
   "metadata": {},
   "outputs": [
    {
     "data": {
      "text/plain": [
       "RandomForestClassifier(max_depth=5, oob_score=True)"
      ]
     },
     "execution_count": 236,
     "metadata": {},
     "output_type": "execute_result"
    }
   ],
   "source": [
    "forestModel.fit(train_X, train_y)"
   ]
  },
  {
   "cell_type": "code",
   "execution_count": 237,
   "id": "5b31d419",
   "metadata": {},
   "outputs": [
    {
     "name": "stdout",
     "output_type": "stream",
     "text": [
      "classes_ : [0 1]\n"
     ]
    }
   ],
   "source": [
    "# 모델 학습 후 속성\n",
    "print(f'classes_ : {forestModel.classes_}')"
   ]
  },
  {
   "cell_type": "code",
   "execution_count": 238,
   "id": "7be75cd0",
   "metadata": {},
   "outputs": [
    {
     "name": "stdout",
     "output_type": "stream",
     "text": [
      "base_estimator_ : DecisionTreeClassifier()\n"
     ]
    }
   ],
   "source": [
    "print(f'base_estimator_ : {forestModel.base_estimator_}')"
   ]
  },
  {
   "cell_type": "code",
   "execution_count": 239,
   "id": "e1f9a1c6",
   "metadata": {},
   "outputs": [
    {
     "name": "stdout",
     "output_type": "stream",
     "text": [
      "estimators_ : [DecisionTreeClassifier(max_depth=5, max_features='auto', random_state=907274078), DecisionTreeClassifier(max_depth=5, max_features='auto',\n",
      "                       random_state=1293174870), DecisionTreeClassifier(max_depth=5, max_features='auto',\n",
      "                       random_state=1407022785), DecisionTreeClassifier(max_depth=5, max_features='auto', random_state=31610548), DecisionTreeClassifier(max_depth=5, max_features='auto',\n",
      "                       random_state=1558634735), DecisionTreeClassifier(max_depth=5, max_features='auto',\n",
      "                       random_state=1152868616), DecisionTreeClassifier(max_depth=5, max_features='auto',\n",
      "                       random_state=1628642224), DecisionTreeClassifier(max_depth=5, max_features='auto',\n",
      "                       random_state=1378933319), DecisionTreeClassifier(max_depth=5, max_features='auto', random_state=184961531), DecisionTreeClassifier(max_depth=5, max_features='auto',\n",
      "                       random_state=1256134610), DecisionTreeClassifier(max_depth=5, max_features='auto',\n",
      "                       random_state=2088290151), DecisionTreeClassifier(max_depth=5, max_features='auto',\n",
      "                       random_state=1376046506), DecisionTreeClassifier(max_depth=5, max_features='auto',\n",
      "                       random_state=1790051812), DecisionTreeClassifier(max_depth=5, max_features='auto',\n",
      "                       random_state=1394852208), DecisionTreeClassifier(max_depth=5, max_features='auto', random_state=619706311), DecisionTreeClassifier(max_depth=5, max_features='auto',\n",
      "                       random_state=2011650863), DecisionTreeClassifier(max_depth=5, max_features='auto',\n",
      "                       random_state=1713045012), DecisionTreeClassifier(max_depth=5, max_features='auto',\n",
      "                       random_state=1616935075), DecisionTreeClassifier(max_depth=5, max_features='auto',\n",
      "                       random_state=1279951967), DecisionTreeClassifier(max_depth=5, max_features='auto',\n",
      "                       random_state=1807517827), DecisionTreeClassifier(max_depth=5, max_features='auto', random_state=253050603), DecisionTreeClassifier(max_depth=5, max_features='auto',\n",
      "                       random_state=1845768976), DecisionTreeClassifier(max_depth=5, max_features='auto', random_state=903638215), DecisionTreeClassifier(max_depth=5, max_features='auto',\n",
      "                       random_state=1290748271), DecisionTreeClassifier(max_depth=5, max_features='auto',\n",
      "                       random_state=1174749731), DecisionTreeClassifier(max_depth=5, max_features='auto', random_state=262956591), DecisionTreeClassifier(max_depth=5, max_features='auto',\n",
      "                       random_state=1360945885), DecisionTreeClassifier(max_depth=5, max_features='auto',\n",
      "                       random_state=2024264215), DecisionTreeClassifier(max_depth=5, max_features='auto',\n",
      "                       random_state=1385089236), DecisionTreeClassifier(max_depth=5, max_features='auto',\n",
      "                       random_state=1974913695), DecisionTreeClassifier(max_depth=5, max_features='auto',\n",
      "                       random_state=1273548479), DecisionTreeClassifier(max_depth=5, max_features='auto',\n",
      "                       random_state=1315357402), DecisionTreeClassifier(max_depth=5, max_features='auto',\n",
      "                       random_state=1748844110), DecisionTreeClassifier(max_depth=5, max_features='auto',\n",
      "                       random_state=1327505353), DecisionTreeClassifier(max_depth=5, max_features='auto',\n",
      "                       random_state=1581620602), DecisionTreeClassifier(max_depth=5, max_features='auto',\n",
      "                       random_state=1319911268), DecisionTreeClassifier(max_depth=5, max_features='auto',\n",
      "                       random_state=1679624063), DecisionTreeClassifier(max_depth=5, max_features='auto',\n",
      "                       random_state=1159564967), DecisionTreeClassifier(max_depth=5, max_features='auto',\n",
      "                       random_state=1000484319), DecisionTreeClassifier(max_depth=5, max_features='auto',\n",
      "                       random_state=2146938017), DecisionTreeClassifier(max_depth=5, max_features='auto', random_state=630085529), DecisionTreeClassifier(max_depth=5, max_features='auto',\n",
      "                       random_state=1992328090), DecisionTreeClassifier(max_depth=5, max_features='auto', random_state=676975979), DecisionTreeClassifier(max_depth=5, max_features='auto',\n",
      "                       random_state=1749075095), DecisionTreeClassifier(max_depth=5, max_features='auto',\n",
      "                       random_state=1012429511), DecisionTreeClassifier(max_depth=5, max_features='auto',\n",
      "                       random_state=1537525108), DecisionTreeClassifier(max_depth=5, max_features='auto', random_state=311601987), DecisionTreeClassifier(max_depth=5, max_features='auto', random_state=574041867), DecisionTreeClassifier(max_depth=5, max_features='auto',\n",
      "                       random_state=1242860566), DecisionTreeClassifier(max_depth=5, max_features='auto', random_state=69223705), DecisionTreeClassifier(max_depth=5, max_features='auto', random_state=367741318), DecisionTreeClassifier(max_depth=5, max_features='auto',\n",
      "                       random_state=1417077148), DecisionTreeClassifier(max_depth=5, max_features='auto', random_state=337821818), DecisionTreeClassifier(max_depth=5, max_features='auto',\n",
      "                       random_state=1165084701), DecisionTreeClassifier(max_depth=5, max_features='auto',\n",
      "                       random_state=1179598077), DecisionTreeClassifier(max_depth=5, max_features='auto',\n",
      "                       random_state=1438899676), DecisionTreeClassifier(max_depth=5, max_features='auto',\n",
      "                       random_state=2081934867), DecisionTreeClassifier(max_depth=5, max_features='auto', random_state=891036227), DecisionTreeClassifier(max_depth=5, max_features='auto',\n",
      "                       random_state=1574406192), DecisionTreeClassifier(max_depth=5, max_features='auto',\n",
      "                       random_state=1198244846), DecisionTreeClassifier(max_depth=5, max_features='auto',\n",
      "                       random_state=2027320756), DecisionTreeClassifier(max_depth=5, max_features='auto',\n",
      "                       random_state=2047335576), DecisionTreeClassifier(max_depth=5, max_features='auto',\n",
      "                       random_state=1282934328), DecisionTreeClassifier(max_depth=5, max_features='auto',\n",
      "                       random_state=1192008088), DecisionTreeClassifier(max_depth=5, max_features='auto',\n",
      "                       random_state=1894918629), DecisionTreeClassifier(max_depth=5, max_features='auto',\n",
      "                       random_state=1753999088), DecisionTreeClassifier(max_depth=5, max_features='auto',\n",
      "                       random_state=1741207338), DecisionTreeClassifier(max_depth=5, max_features='auto',\n",
      "                       random_state=1230242214), DecisionTreeClassifier(max_depth=5, max_features='auto',\n",
      "                       random_state=1380639865), DecisionTreeClassifier(max_depth=5, max_features='auto',\n",
      "                       random_state=1588148666), DecisionTreeClassifier(max_depth=5, max_features='auto', random_state=154216489), DecisionTreeClassifier(max_depth=5, max_features='auto',\n",
      "                       random_state=1544781365), DecisionTreeClassifier(max_depth=5, max_features='auto', random_state=434342716), DecisionTreeClassifier(max_depth=5, max_features='auto',\n",
      "                       random_state=1374356770), DecisionTreeClassifier(max_depth=5, max_features='auto',\n",
      "                       random_state=1829440514), DecisionTreeClassifier(max_depth=5, max_features='auto', random_state=351057280), DecisionTreeClassifier(max_depth=5, max_features='auto',\n",
      "                       random_state=1213175571), DecisionTreeClassifier(max_depth=5, max_features='auto', random_state=59137130), DecisionTreeClassifier(max_depth=5, max_features='auto', random_state=349986470), DecisionTreeClassifier(max_depth=5, max_features='auto', random_state=406122980), DecisionTreeClassifier(max_depth=5, max_features='auto', random_state=315711147), DecisionTreeClassifier(max_depth=5, max_features='auto', random_state=86475686), DecisionTreeClassifier(max_depth=5, max_features='auto',\n",
      "                       random_state=1781502417), DecisionTreeClassifier(max_depth=5, max_features='auto', random_state=948556061), DecisionTreeClassifier(max_depth=5, max_features='auto',\n",
      "                       random_state=1750151275), DecisionTreeClassifier(max_depth=5, max_features='auto',\n",
      "                       random_state=1816408480), DecisionTreeClassifier(max_depth=5, max_features='auto',\n",
      "                       random_state=1320229023), DecisionTreeClassifier(max_depth=5, max_features='auto',\n",
      "                       random_state=1759544263), DecisionTreeClassifier(max_depth=5, max_features='auto', random_state=764021629), DecisionTreeClassifier(max_depth=5, max_features='auto',\n",
      "                       random_state=1873161330), DecisionTreeClassifier(max_depth=5, max_features='auto',\n",
      "                       random_state=1871711630), DecisionTreeClassifier(max_depth=5, max_features='auto',\n",
      "                       random_state=1563226889), DecisionTreeClassifier(max_depth=5, max_features='auto',\n",
      "                       random_state=1879491653), DecisionTreeClassifier(max_depth=5, max_features='auto',\n",
      "                       random_state=1833979706), DecisionTreeClassifier(max_depth=5, max_features='auto', random_state=773697429), DecisionTreeClassifier(max_depth=5, max_features='auto', random_state=700643154), DecisionTreeClassifier(max_depth=5, max_features='auto', random_state=440338777), DecisionTreeClassifier(max_depth=5, max_features='auto',\n",
      "                       random_state=1916312045), DecisionTreeClassifier(max_depth=5, max_features='auto', random_state=775727440), DecisionTreeClassifier(max_depth=5, max_features='auto',\n",
      "                       random_state=1515259083)]\n"
     ]
    }
   ],
   "source": [
    "print(f'estimators_ : {forestModel.estimators_}')"
   ]
  },
  {
   "cell_type": "code",
   "execution_count": 240,
   "id": "51e7f78f",
   "metadata": {},
   "outputs": [
    {
     "name": "stdout",
     "output_type": "stream",
     "text": [
      "oob_score : 0.960093896713615\n"
     ]
    }
   ],
   "source": [
    "print(f'oob_score : {forestModel.oob_score_}')"
   ]
  },
  {
   "cell_type": "code",
   "execution_count": 241,
   "id": "e7bc45ca",
   "metadata": {},
   "outputs": [],
   "source": [
    "bestModel = forestModel.base_estimator_"
   ]
  },
  {
   "cell_type": "code",
   "execution_count": 242,
   "id": "53c864f0",
   "metadata": {},
   "outputs": [],
   "source": [
    "## 평가\n",
    "train_score=forestModel.score(train_X, train_y)\n",
    "test_score=forestModel.score(test_X, test_y)"
   ]
  },
  {
   "cell_type": "code",
   "execution_count": 243,
   "id": "504770c0",
   "metadata": {},
   "outputs": [
    {
     "data": {
      "text/plain": [
       "(0.9929577464788732, 0.958041958041958)"
      ]
     },
     "execution_count": 243,
     "metadata": {},
     "output_type": "execute_result"
    }
   ],
   "source": [
    "train_score, test_score"
   ]
  },
  {
   "cell_type": "code",
   "execution_count": 244,
   "id": "1d3f4adf",
   "metadata": {},
   "outputs": [
    {
     "data": {
      "text/plain": [
       "array([0.03669516, 0.01496348, 0.04391492, 0.04983216, 0.00757844,\n",
       "       0.00939898, 0.01679008, 0.10850236, 0.00335414, 0.00300914,\n",
       "       0.00563341, 0.00397676, 0.02515183, 0.03590133, 0.00428732,\n",
       "       0.00388214, 0.00583709, 0.00191104, 0.00409192, 0.00490149,\n",
       "       0.11328428, 0.01629697, 0.11990752, 0.11145392, 0.0153687 ,\n",
       "       0.0215806 , 0.04205877, 0.15352633, 0.01358514, 0.0033246 ])"
      ]
     },
     "execution_count": 244,
     "metadata": {},
     "output_type": "execute_result"
    }
   ],
   "source": [
    "# 특정 중요도 저장 속성 그래프 출력\n",
    "forestModel.feature_importances_"
   ]
  },
  {
   "cell_type": "code",
   "execution_count": 245,
   "id": "807180f5",
   "metadata": {},
   "outputs": [
    {
     "name": "stderr",
     "output_type": "stream",
     "text": [
      "C:\\ProgramData\\Anaconda3\\lib\\site-packages\\sklearn\\utils\\deprecation.py:103: FutureWarning: Attribute `n_features_` was deprecated in version 1.0 and will be removed in 1.2. Use `n_features_in_` instead.\n",
      "  warnings.warn(msg, category=FutureWarning)\n"
     ]
    },
    {
     "data": {
      "text/plain": [
       "30"
      ]
     },
     "execution_count": 245,
     "metadata": {},
     "output_type": "execute_result"
    }
   ],
   "source": [
    "forestModel.n_features_"
   ]
  },
  {
   "cell_type": "code",
   "execution_count": 246,
   "id": "76adabc5",
   "metadata": {},
   "outputs": [
    {
     "data": {
      "image/png": "[encoded data removed]",
      "text/plain": [
       "<Figure size 432x288 with 1 Axes>"
      ]
     },
     "metadata": {
      "needs_background": "light"
     },
     "output_type": "display_data"
    }
   ],
   "source": [
    "plt.barh(y=f_names,\n",
    "        width=forestModel.feature_importances_)\n",
    "plt.show()"
   ]
  },
  {
   "cell_type": "markdown",
   "id": "d9fd39d8",
   "metadata": {},
   "source": [
    "# "
   ]
  },
  {
   "cell_type": "markdown",
   "id": "4097f331",
   "metadata": {},
   "source": [
    "# Sklearn 모델 추천 함수 활용\n",
    "---\n",
    "- sklearn.utils 모듈의 all_estimatores(type_filter)\n",
    "    - type_filter 파라미터 : 'classifier', 'regressor' 지정\n",
    "    - 반환 : 해당 타입의 모델 리스트 => 모델이름, 모델 객체"
   ]
  },
  {
   "cell_type": "code",
   "execution_count": 247,
   "id": "c24a284b",
   "metadata": {},
   "outputs": [],
   "source": [
    "# 모듈 로딩\n",
    "from sklearn.utils import all_estimators\n",
    "from sklearn.datasets import load_iris\n",
    "from sklearn.model_selection import train_test_split\n",
    "import numpy as np"
   ]
  },
  {
   "cell_type": "markdown",
   "id": "def039a6",
   "metadata": {},
   "source": [
    "### [1] 데이터 로딩 및 확인\n",
    "---"
   ]
  },
  {
   "cell_type": "code",
   "execution_count": 248,
   "id": "24c2a7c6",
   "metadata": {},
   "outputs": [],
   "source": [
    "# Bunch 데이터 타입 => dict와 유사한 형태\n",
    "data = load_iris()"
   ]
  },
  {
   "cell_type": "code",
   "execution_count": 249,
   "id": "56a47a12",
   "metadata": {},
   "outputs": [
    {
     "data": {
      "text/plain": [
       "dict_keys(['data', 'target', 'frame', 'target_names', 'DESCR', 'feature_names', 'filename', 'data_module'])"
      ]
     },
     "execution_count": 249,
     "metadata": {},
     "output_type": "execute_result"
    }
   ],
   "source": [
    "data.keys()"
   ]
  },
  {
   "cell_type": "code",
   "execution_count": 250,
   "id": "10b79c45",
   "metadata": {},
   "outputs": [],
   "source": [
    "# data, target => numpy 타입\n",
    "# target_names => 라벨 ---> setosa, versicolor, ...\n",
    "# feature_names => 컬럼명\n",
    "input_data=data['data']\n",
    "input_target=data['target']"
   ]
  },
  {
   "cell_type": "code",
   "execution_count": 251,
   "id": "15dbf56d",
   "metadata": {},
   "outputs": [
    {
     "data": {
      "text/plain": [
       "((150, 4), (150,))"
      ]
     },
     "execution_count": 251,
     "metadata": {},
     "output_type": "execute_result"
    }
   ],
   "source": [
    "input_data.shape, input_target.shape"
   ]
  },
  {
   "cell_type": "markdown",
   "id": "7f535f60",
   "metadata": {},
   "source": [
    "### [2] 학습 데이터 분리\n",
    "---"
   ]
  },
  {
   "cell_type": "code",
   "execution_count": 252,
   "id": "9543434f",
   "metadata": {},
   "outputs": [],
   "source": [
    "# 학습-테스트 데이터셋 80:20\n",
    "train_X, test_X, train_y, test_y = train_test_split(input_data,\n",
    "                                                   input_target,\n",
    "                                                   test_size=0.2)"
   ]
  },
  {
   "cell_type": "markdown",
   "id": "8f7b9fd4",
   "metadata": {},
   "source": [
    "### [3] 학습\n",
    "---\n",
    "- 학습방법 선정 => 분류 / 회귀\n",
    "    - 분류 => knn, LogisticRegression, DecisionTreeClassifier, SGDClassifier, SVC ...\n",
    "    - 분류 모델 적용 후 결과 => all_estimators()"
   ]
  },
  {
   "cell_type": "code",
   "execution_count": 253,
   "id": "77e12b91",
   "metadata": {},
   "outputs": [],
   "source": [
    "# 필터 타입에 해당하는 sklearn에 존재하는 모든 모델 이름과 객체 리스트로 반환\n",
    "models = all_estimators(type_filter='classifier')"
   ]
  },
  {
   "cell_type": "code",
   "execution_count": 254,
   "id": "150ff5e6",
   "metadata": {},
   "outputs": [
    {
     "name": "stderr",
     "output_type": "stream",
     "text": [
      "C:\\ProgramData\\Anaconda3\\lib\\site-packages\\sklearn\\svm\\_base.py:1206: ConvergenceWarning: Liblinear failed to converge, increase the number of iterations.\n",
      "  warnings.warn(\n",
      "C:\\ProgramData\\Anaconda3\\lib\\site-packages\\sklearn\\svm\\_base.py:1206: ConvergenceWarning: Liblinear failed to converge, increase the number of iterations.\n",
      "  warnings.warn(\n",
      "C:\\ProgramData\\Anaconda3\\lib\\site-packages\\sklearn\\svm\\_base.py:1206: ConvergenceWarning: Liblinear failed to converge, increase the number of iterations.\n",
      "  warnings.warn(\n",
      "C:\\ProgramData\\Anaconda3\\lib\\site-packages\\sklearn\\svm\\_base.py:1206: ConvergenceWarning: Liblinear failed to converge, increase the number of iterations.\n",
      "  warnings.warn(\n",
      "C:\\ProgramData\\Anaconda3\\lib\\site-packages\\sklearn\\svm\\_base.py:1206: ConvergenceWarning: Liblinear failed to converge, increase the number of iterations.\n",
      "  warnings.warn(\n",
      "C:\\ProgramData\\Anaconda3\\lib\\site-packages\\sklearn\\svm\\_base.py:1206: ConvergenceWarning: Liblinear failed to converge, increase the number of iterations.\n",
      "  warnings.warn(\n",
      "C:\\ProgramData\\Anaconda3\\lib\\site-packages\\sklearn\\linear_model\\_logistic.py:814: ConvergenceWarning: lbfgs failed to converge (status=1):\n",
      "STOP: TOTAL NO. of ITERATIONS REACHED LIMIT.\n",
      "\n",
      "Increase the number of iterations (max_iter) or scale the data as shown in:\n",
      "    https://scikit-learn.org/stable/modules/preprocessing.html\n",
      "Please also refer to the documentation for alternative solver options:\n",
      "    https://scikit-learn.org/stable/modules/linear_model.html#logistic-regression\n",
      "  n_iter_i = _check_optimize_result(\n",
      "C:\\ProgramData\\Anaconda3\\lib\\site-packages\\sklearn\\linear_model\\_logistic.py:814: ConvergenceWarning: lbfgs failed to converge (status=1):\n",
      "STOP: TOTAL NO. of ITERATIONS REACHED LIMIT.\n",
      "\n",
      "Increase the number of iterations (max_iter) or scale the data as shown in:\n",
      "    https://scikit-learn.org/stable/modules/preprocessing.html\n",
      "Please also refer to the documentation for alternative solver options:\n",
      "    https://scikit-learn.org/stable/modules/linear_model.html#logistic-regression\n",
      "  n_iter_i = _check_optimize_result(\n",
      "C:\\ProgramData\\Anaconda3\\lib\\site-packages\\sklearn\\linear_model\\_logistic.py:814: ConvergenceWarning: lbfgs failed to converge (status=1):\n",
      "STOP: TOTAL NO. of ITERATIONS REACHED LIMIT.\n",
      "\n",
      "Increase the number of iterations (max_iter) or scale the data as shown in:\n",
      "    https://scikit-learn.org/stable/modules/preprocessing.html\n",
      "Please also refer to the documentation for alternative solver options:\n",
      "    https://scikit-learn.org/stable/modules/linear_model.html#logistic-regression\n",
      "  n_iter_i = _check_optimize_result(\n",
      "C:\\ProgramData\\Anaconda3\\lib\\site-packages\\sklearn\\linear_model\\_logistic.py:814: ConvergenceWarning: lbfgs failed to converge (status=1):\n",
      "STOP: TOTAL NO. of ITERATIONS REACHED LIMIT.\n",
      "\n",
      "Increase the number of iterations (max_iter) or scale the data as shown in:\n",
      "    https://scikit-learn.org/stable/modules/preprocessing.html\n",
      "Please also refer to the documentation for alternative solver options:\n",
      "    https://scikit-learn.org/stable/modules/linear_model.html#logistic-regression\n",
      "  n_iter_i = _check_optimize_result(\n",
      "C:\\ProgramData\\Anaconda3\\lib\\site-packages\\sklearn\\linear_model\\_logistic.py:814: ConvergenceWarning: lbfgs failed to converge (status=1):\n",
      "STOP: TOTAL NO. of ITERATIONS REACHED LIMIT.\n",
      "\n",
      "Increase the number of iterations (max_iter) or scale the data as shown in:\n",
      "    https://scikit-learn.org/stable/modules/preprocessing.html\n",
      "Please also refer to the documentation for alternative solver options:\n",
      "    https://scikit-learn.org/stable/modules/linear_model.html#logistic-regression\n",
      "  n_iter_i = _check_optimize_result(\n",
      "C:\\ProgramData\\Anaconda3\\lib\\site-packages\\sklearn\\linear_model\\_logistic.py:814: ConvergenceWarning: lbfgs failed to converge (status=1):\n",
      "STOP: TOTAL NO. of ITERATIONS REACHED LIMIT.\n",
      "\n",
      "Increase the number of iterations (max_iter) or scale the data as shown in:\n",
      "    https://scikit-learn.org/stable/modules/preprocessing.html\n",
      "Please also refer to the documentation for alternative solver options:\n",
      "    https://scikit-learn.org/stable/modules/linear_model.html#logistic-regression\n",
      "  n_iter_i = _check_optimize_result(\n",
      "C:\\ProgramData\\Anaconda3\\lib\\site-packages\\sklearn\\neural_network\\_multilayer_perceptron.py:692: ConvergenceWarning: Stochastic Optimizer: Maximum iterations (200) reached and the optimization hasn't converged yet.\n",
      "  warnings.warn(\n"
     ]
    }
   ],
   "source": [
    "scores = []\n",
    "for name, model in models:\n",
    "    try:\n",
    "        # 모델 객체 생성\n",
    "        md=model()\n",
    "        # 학습\n",
    "        md.fit(train_X, train_y)\n",
    "        # 평가\n",
    "        result = md.score(test_X, test_y)\n",
    "        scores.append((name, np.round(result, 3)))\n",
    "    except:\n",
    "        pass"
   ]
  },
  {
   "cell_type": "code",
   "execution_count": 255,
   "id": "178aec00",
   "metadata": {},
   "outputs": [
    {
     "data": {
      "text/plain": [
       "[('AdaBoostClassifier', 1.0),\n",
       " ('BaggingClassifier', 1.0),\n",
       " ('BernoulliNB', 0.233),\n",
       " ('CalibratedClassifierCV', 0.933),\n",
       " ('CategoricalNB', 0.967),\n",
       " ('ComplementNB', 0.767),\n",
       " ('DecisionTreeClassifier', 1.0),\n",
       " ('DummyClassifier', 0.233),\n",
       " ('ExtraTreeClassifier', 1.0),\n",
       " ('ExtraTreesClassifier', 1.0),\n",
       " ('GaussianNB', 1.0),\n",
       " ('GaussianProcessClassifier', 1.0),\n",
       " ('GradientBoostingClassifier', 1.0),\n",
       " ('HistGradientBoostingClassifier', 1.0),\n",
       " ('KNeighborsClassifier', 1.0),\n",
       " ('LabelPropagation', 1.0),\n",
       " ('LabelSpreading', 1.0),\n",
       " ('LinearDiscriminantAnalysis', 1.0),\n",
       " ('LinearSVC', 1.0),\n",
       " ('LogisticRegression', 1.0),\n",
       " ('LogisticRegressionCV', 1.0),\n",
       " ('MLPClassifier', 1.0),\n",
       " ('MultinomialNB', 0.633),\n",
       " ('NearestCentroid', 1.0),\n",
       " ('NuSVC', 1.0),\n",
       " ('PassiveAggressiveClassifier', 0.933),\n",
       " ('Perceptron', 0.833),\n",
       " ('QuadraticDiscriminantAnalysis', 1.0),\n",
       " ('RadiusNeighborsClassifier', 1.0),\n",
       " ('RandomForestClassifier', 1.0),\n",
       " ('RidgeClassifier', 0.867),\n",
       " ('RidgeClassifierCV', 0.867),\n",
       " ('SGDClassifier', 0.933),\n",
       " ('SVC', 1.0)]"
      ]
     },
     "execution_count": 255,
     "metadata": {},
     "output_type": "execute_result"
    }
   ],
   "source": [
    "scores"
   ]
  },
  {
   "cell_type": "code",
   "execution_count": null,
   "id": "2440eae2",
   "metadata": {},
   "outputs": [],
   "source": []
  }
 ],
 "metadata": {
  "kernelspec": {
   "display_name": "Python 3 (ipykernel)",
   "language": "python",
   "name": "python3"
  },
  "language_info": {
   "codemirror_mode": {
    "name": "ipython",
    "version": 3
   },
   "file_extension": ".py",
   "mimetype": "text/x-python",
   "name": "python",
   "nbconvert_exporter": "python",
   "pygments_lexer": "ipython3",
   "version": "3.9.12"
  }
 },
 "nbformat": 4,
 "nbformat_minor": 5
}
