{
 "cells": [
  {
   "cell_type": "markdown",
   "metadata": {},
   "source": [
    "# tkinter를 이용한 GUI 프로그래밍"
   ]
  },
  {
   "cell_type": "markdown",
   "metadata": {},
   "source": [
    "### tkinter 란?\n",
    "---\n",
    "- tkinter는 파이썬에서 그래픽 사용자 인터페이스(GUI: graphical user interface)를 개발할 때 필요한 모듈"
   ]
  },
  {
   "cell_type": "markdown",
   "metadata": {},
   "source": [
    "### tkinter의 유래\n",
    "---\n",
    "- tkinter는 예전부터 유닉스 계열에서 사용되던 Tcl/Tk 위에 객체 지향 계층을 입힌 것이다.\n",
    "- Tk는 John Ousterhout에 의하여 Tcl 스크립팅 언어를 위한 GUI 확장으로 개발"
   ]
  },
  {
   "cell_type": "code",
   "execution_count": 3,
   "metadata": {},
   "outputs": [],
   "source": [
    "# 첫 번째 tkinter 프로그래밍\n",
    "\n",
    "from tkinter import *\n",
    "\n",
    "window = Tk()\n",
    "\n",
    "label = Label(window, text = 'Hello World!')\n",
    "label.pack()\n",
    "\n",
    "window.mainloop()"
   ]
  },
  {
   "cell_type": "code",
   "execution_count": 4,
   "metadata": {},
   "outputs": [],
   "source": [
    "# 버튼과 이벤트 처리\n",
    "\n",
    "from tkinter import *\n",
    "\n",
    "window = Tk()\n",
    "\n",
    "b1 = Button(window, text='이것이 파이썬 버튼입니다.')\n",
    "b1.pack()\n",
    "\n",
    "window.mainloop()"
   ]
  },
  {
   "cell_type": "code",
   "execution_count": 5,
   "metadata": {},
   "outputs": [],
   "source": [
    "# 배치 관리자 소개\n",
    "\n",
    "from tkinter import *\n",
    "\n",
    "window = Tk()\n",
    "\n",
    "b1 = Button(window, text='첫번째 버튼')\n",
    "b2 = Button(window, text='두번째 버튼')\n",
    "\n",
    "b1.pack()\n",
    "b2.pack()\n",
    "\n",
    "window.mainloop()"
   ]
  },
  {
   "cell_type": "code",
   "execution_count": 11,
   "metadata": {},
   "outputs": [],
   "source": [
    "# 배치 관리자 소개\n",
    "\n",
    "from tkinter import *\n",
    "\n",
    "window = Tk()\n",
    "\n",
    "b1 = Button(window, text='첫번째 버튼')\n",
    "b2 = Button(window, text='두번째 버튼')\n",
    "\n",
    "b1.pack(side=LEFT)\n",
    "b2.pack(side=LEFT)\n",
    "\n",
    "window.mainloop()"
   ]
  },
  {
   "cell_type": "code",
   "execution_count": 13,
   "metadata": {},
   "outputs": [],
   "source": [
    "# 배치 관리자\n",
    "\n",
    "from tkinter import *\n",
    "\n",
    "window = Tk()\n",
    "\n",
    "b1 = Button(window, text = '첫번째 버튼')\n",
    "b2 = Button(window, text='두번째 버튼')\n",
    "\n",
    "b1.pack(side=LEFT, padx=10)\n",
    "b2.pack(side=LEFT, padx=10)\n",
    "\n",
    "window.mainloop()"
   ]
  },
  {
   "cell_type": "code",
   "execution_count": 16,
   "metadata": {},
   "outputs": [],
   "source": [
    "# 버튼의 텍스트 변경\n",
    "\n",
    "from tkinter import *\n",
    "\n",
    "window = Tk()\n",
    "\n",
    "b1 = Button(window, text ='첫번째 버튼')\n",
    "b2 = Button(window, text='두번째 버튼')\n",
    "\n",
    "b1.pack(side=LEFT, padx=10)\n",
    "b2.pack(side=LEFT, padx=10)\n",
    "b1['text'] = 'One'\n",
    "b2['text'] = 'Two'\n",
    "\n",
    "window.mainloop()"
   ]
  },
  {
   "cell_type": "markdown",
   "metadata": {},
   "source": [
    "### 이벤트 처리 소개\n",
    "---\n",
    "- tkinter 프로그램은 이벤트에 기반을 두고 동작된다.\n",
    "\n",
    "애플리케이션 프로그램  \n",
    "메인 프로그램 - 호출한다 > 라이브러리 함수(소프트웨어 라이브러리) - 호출한다 > 콜백함수  \n",
    "\n",
    "이벤트가 발생하면 라이브러리에서 사용자가 지정한 콜백함수를 호출하는 개념이다."
   ]
  },
  {
   "cell_type": "code",
   "execution_count": 17,
   "metadata": {},
   "outputs": [],
   "source": [
    "# 버튼의 이벤트를 처리하려면\n",
    "\n",
    "# 전체적인 구조\n",
    "# button = Button(window, text='one', command=함수 이름)\n",
    "\n",
    "from tkinter import *\n",
    "\n",
    "def callback():\n",
    "    button['text'] = '버튼이 클릭되었음!'\n",
    "\n",
    "window = Tk()\n",
    "button = Button(window, text='클릭', command=callback)\n",
    "button.pack(side=LEFT)\n",
    "\n",
    "window.mainloop()"
   ]
  },
  {
   "cell_type": "code",
   "execution_count": 21,
   "metadata": {},
   "outputs": [],
   "source": [
    "# 예제\n",
    "\n",
    "from tkinter import *\n",
    "\n",
    "window = Tk()\n",
    "\n",
    "label = Label(window, text = '안녕하세요!')\n",
    "label.pack()\n",
    "\n",
    "button = Button(window, text='tkinter로 버튼을 쉽게 만들 수 있습니다.')\n",
    "button.pack()\n",
    "\n",
    "window.mainloop()"
   ]
  },
  {
   "cell_type": "code",
   "execution_count": 22,
   "metadata": {},
   "outputs": [
    {
     "name": "stdout",
     "output_type": "stream",
     "text": [
      "Hello 버튼이 클릭되었음!\n",
      "Hello 버튼이 클릭되었음!\n",
      "Hello 버튼이 클릭되었음!\n",
      "Hello 버튼이 클릭되었음!\n",
      "Hello 버튼이 클릭되었음!\n",
      "Hello 버튼이 클릭되었음!\n",
      "Hello 버튼이 클릭되었음!\n",
      "Quit 버튼이 클릭되었음!\n",
      "Quit 버튼이 클릭되었음!\n",
      "Quit 버튼이 클릭되었음!\n",
      "Quit 버튼이 클릭되었음!\n",
      "Quit 버튼이 클릭되었음!\n",
      "Quit 버튼이 클릭되었음!\n",
      "Quit 버튼이 클릭되었음!\n",
      "Quit 버튼이 클릭되었음!\n"
     ]
    },
    {
     "data": {
      "text/plain": [
       "<__main__.App at 0x14dda97ddc0>"
      ]
     },
     "execution_count": 22,
     "metadata": {},
     "output_type": "execute_result"
    }
   ],
   "source": [
    "# 클래스로 프레임 감싸기\n",
    "\n",
    "from tkinter import *\n",
    "\n",
    "class App:\n",
    "    def __init__(self):\n",
    "        window = Tk()\n",
    "        helloB = Button(window, text='Hello', command=self.hello, fg='red')\n",
    "        helloB.pack(side=LEFT)\n",
    "        quitB = Button(window, text='Quit', command=self.quit)\n",
    "        quitB.pack(side=LEFT)\n",
    "        window.mainloop()\n",
    "\n",
    "    def hello(self):\n",
    "        print('Hello 버튼이 클릭되었음!')\n",
    "    \n",
    "    def quit(self):\n",
    "        print('Quit 버튼이 클릭되었음!')\n",
    "\n",
    "App()"
   ]
  },
  {
   "cell_type": "markdown",
   "metadata": {},
   "source": [
    "### tkinter의 위젯들\n",
    "---\n",
    "- Button\n",
    "- Canvas\n",
    "- Checkbutton\n",
    "- Entry\n",
    "- Frame\n",
    "- Label\n",
    "- Listbox\n",
    "- Menu\n",
    "- Menubutton\n",
    "- Message\n",
    "- Radiobutton\n",
    "- Scale\n",
    "- Scrollbar\n",
    "- Text\n",
    "- Toplevel\n",
    "- LabelFrame\n",
    "- PanedWindow\n",
    "- Spinbox"
   ]
  },
  {
   "cell_type": "markdown",
   "metadata": {},
   "source": [
    "### 단순 위젯과 컨테이너 위젯\n",
    "---\n",
    "\n",
    "- 컨테이너\n",
    "- 단순 위젯\n",
    "\n",
    "- 컨테이너는 위젯을 넣을 수 있는 상자 같은 것이다."
   ]
  },
  {
   "cell_type": "markdown",
   "metadata": {},
   "source": [
    "### 배치 관리자\n",
    "---\n",
    "- Grid\n",
    "    - 격자 배치 관리자(grid geometry manager)는 테이블 형태의 배치\n",
    "\n",
    "- Pack\n",
    "    - 압축 배치 관리자(pack geometry manager)는 위젯들을 부모 위젯 안에 압축\n",
    "\n",
    "- Place\n",
    "    - 절대 배치 관리자(place geometry manager)는 주어진 위치에 위젯을 배치"
   ]
  },
  {
   "cell_type": "code",
   "execution_count": 26,
   "metadata": {},
   "outputs": [],
   "source": [
    "# 색상\n",
    "\n",
    "# 색상: 부분의 윗젯은 배경(bg)과 전경(fg) 변수를 사용하여 위젯 및 텍스트 색상을 지정\n",
    "\n",
    "from tkinter import *\n",
    "\n",
    "window = Tk()\n",
    "\n",
    "button = Button(window, text = '버튼을 클릭하세요.')\n",
    "button.pack()\n",
    "\n",
    "button['fg'] = 'yellow'\n",
    "button['bg'] = 'green'\n",
    "\n",
    "window.mainloop()"
   ]
  },
  {
   "cell_type": "code",
   "execution_count": 37,
   "metadata": {},
   "outputs": [
    {
     "ename": "NameError",
     "evalue": "name 'colorchooser' is not defined",
     "output_type": "error",
     "traceback": [
      "\u001b[1;31m---------------------------------------------------------------------------\u001b[0m",
      "\u001b[1;31mNameError\u001b[0m                                 Traceback (most recent call last)",
      "\u001b[1;32mc:\\Users\\USER\\Desktop\\vs코드\\doyoung_vs\\study\\study_1114_1.ipynb 셀 18\u001b[0m in \u001b[0;36m<cell line: 6>\u001b[1;34m()\u001b[0m\n\u001b[0;32m      <a href='vscode-notebook-cell:/c%3A/Users/USER/Desktop/vs%EC%BD%94%EB%93%9C/doyoung_vs/study/study_1114_1.ipynb#X24sZmlsZQ%3D%3D?line=0'>1</a>\u001b[0m \u001b[39m# 색상 대화상자\u001b[39;00m\n\u001b[0;32m      <a href='vscode-notebook-cell:/c%3A/Users/USER/Desktop/vs%EC%BD%94%EB%93%9C/doyoung_vs/study/study_1114_1.ipynb#X24sZmlsZQ%3D%3D?line=1'>2</a>\u001b[0m \u001b[39m# 사용자에게 색상을 선택하게 한다.\u001b[39;00m\n\u001b[0;32m      <a href='vscode-notebook-cell:/c%3A/Users/USER/Desktop/vs%EC%BD%94%EB%93%9C/doyoung_vs/study/study_1114_1.ipynb#X24sZmlsZQ%3D%3D?line=3'>4</a>\u001b[0m \u001b[39mfrom\u001b[39;00m \u001b[39mtkinter\u001b[39;00m \u001b[39mimport\u001b[39;00m \u001b[39m*\u001b[39m\n\u001b[1;32m----> <a href='vscode-notebook-cell:/c%3A/Users/USER/Desktop/vs%EC%BD%94%EB%93%9C/doyoung_vs/study/study_1114_1.ipynb#X24sZmlsZQ%3D%3D?line=5'>6</a>\u001b[0m color \u001b[39m=\u001b[39m colorchooser\u001b[39m.\u001b[39maskcolor()\n\u001b[0;32m      <a href='vscode-notebook-cell:/c%3A/Users/USER/Desktop/vs%EC%BD%94%EB%93%9C/doyoung_vs/study/study_1114_1.ipynb#X24sZmlsZQ%3D%3D?line=7'>8</a>\u001b[0m \u001b[39mprint\u001b[39m(color)\n",
      "\u001b[1;31mNameError\u001b[0m: name 'colorchooser' is not defined"
     ]
    }
   ],
   "source": [
    "# 색상 대화상자\n",
    "# 사용자에게 색상을 선택하게 한다.\n",
    "\n",
    "from tkinter import *\n",
    "\n",
    "color = colorchooser.askcolor()\n",
    "\n",
    "print(color)   # 왜 안돼?"
   ]
  },
  {
   "cell_type": "markdown",
   "metadata": {},
   "source": [
    "### 폰트\n",
    "---\n",
    "- 폰트를 튜플로 지정할 수 있는데 여기에는 (폰트이름, 폰트의 크기, 폰트 스타일)과 같은 형식을 사용함  \n",
    "('Times', 10, 'bold')  \n",
    "('Helvetica', 10, 'bold italic')  \n",
    "('Symbol', 8)  \n",
    "\n",
    "- 문자열로도 지정  \n",
    "w = Label(master, text='Helvetica', font='Helvetica 16')"
   ]
  },
  {
   "cell_type": "code",
   "execution_count": 40,
   "metadata": {},
   "outputs": [],
   "source": [
    "# 예제\n",
    "\n",
    "import tkinter as tk\n",
    "import tkinter.font as font\n",
    "\n",
    "class App:\n",
    "    def __init__(self):\n",
    "        root = tk.Tk()\n",
    "\n",
    "        self.customFont = font.Font(family='Helvetica', size=12)\n",
    "\n",
    "        buttonframe = tk.Frame()\n",
    "        label = tk.Label(root, text='Hello, World!', font=self.customFont)\n",
    "        buttonframe.pack()\n",
    "        label.pack()\n",
    "\n",
    "        bigger = tk.Button(root, text='폰트를 크게', command=self.BigFont)\n",
    "        smaller = tk.Button(root, text='폰트를 작게', command=self.SmallFont)\n",
    "        bigger.pack()\n",
    "        smaller.pack()\n",
    "        root.mainloop()\n",
    "\n",
    "    def BigFont(self):\n",
    "        size = self.customFont['size']\n",
    "        self.customFont.configure(size=size+2)\n",
    "\n",
    "    def SmallFont(self):\n",
    "        size = self.customFont['size']\n",
    "        self.customFont.configure(size=size-2)\n",
    "\n",
    "app=App()"
   ]
  },
  {
   "cell_type": "code",
   "execution_count": 41,
   "metadata": {},
   "outputs": [],
   "source": [
    "# 레이블\n",
    "\n",
    "# 전체적인 구조\n",
    "\n",
    "# w = Label(parent, option, ...)"
   ]
  },
  {
   "cell_type": "code",
   "execution_count": 63,
   "metadata": {},
   "outputs": [
    {
     "ename": "TclError",
     "evalue": "couldn't recognize data in image file \"./data/a1.gif\"",
     "output_type": "error",
     "traceback": [
      "\u001b[1;31m---------------------------------------------------------------------------\u001b[0m",
      "\u001b[1;31mTclError\u001b[0m                                  Traceback (most recent call last)",
      "\u001b[1;32mc:\\Users\\USER\\Desktop\\vs코드\\doyoung_vs\\study\\study_1114_1.ipynb 셀 22\u001b[0m in \u001b[0;36m<cell line: 7>\u001b[1;34m()\u001b[0m\n\u001b[0;32m      <a href='vscode-notebook-cell:/c%3A/Users/USER/Desktop/vs%EC%BD%94%EB%93%9C/doyoung_vs/study/study_1114_1.ipynb#X31sZmlsZQ%3D%3D?line=3'>4</a>\u001b[0m \u001b[39m# from PIL import ImageTk\u001b[39;00m\n\u001b[0;32m      <a href='vscode-notebook-cell:/c%3A/Users/USER/Desktop/vs%EC%BD%94%EB%93%9C/doyoung_vs/study/study_1114_1.ipynb#X31sZmlsZQ%3D%3D?line=5'>6</a>\u001b[0m window \u001b[39m=\u001b[39m Tk()\n\u001b[1;32m----> <a href='vscode-notebook-cell:/c%3A/Users/USER/Desktop/vs%EC%BD%94%EB%93%9C/doyoung_vs/study/study_1114_1.ipynb#X31sZmlsZQ%3D%3D?line=6'>7</a>\u001b[0m photo \u001b[39m=\u001b[39m PhotoImage(file\u001b[39m=\u001b[39;49m\u001b[39m'\u001b[39;49m\u001b[39m./data/a1.gif\u001b[39;49m\u001b[39m'\u001b[39;49m)\n\u001b[0;32m      <a href='vscode-notebook-cell:/c%3A/Users/USER/Desktop/vs%EC%BD%94%EB%93%9C/doyoung_vs/study/study_1114_1.ipynb#X31sZmlsZQ%3D%3D?line=7'>8</a>\u001b[0m w \u001b[39m=\u001b[39m Label(window, image\u001b[39m=\u001b[39mphoto)\n\u001b[0;32m      <a href='vscode-notebook-cell:/c%3A/Users/USER/Desktop/vs%EC%BD%94%EB%93%9C/doyoung_vs/study/study_1114_1.ipynb#X31sZmlsZQ%3D%3D?line=8'>9</a>\u001b[0m w\u001b[39m.\u001b[39mphoto \u001b[39m=\u001b[39m photo\n",
      "File \u001b[1;32mc:\\Users\\USER\\anaconda3\\envs\\pytorch38\\lib\\tkinter\\__init__.py:4064\u001b[0m, in \u001b[0;36mPhotoImage.__init__\u001b[1;34m(self, name, cnf, master, **kw)\u001b[0m\n\u001b[0;32m   4059\u001b[0m \u001b[39mdef\u001b[39;00m \u001b[39m__init__\u001b[39m(\u001b[39mself\u001b[39m, name\u001b[39m=\u001b[39m\u001b[39mNone\u001b[39;00m, cnf\u001b[39m=\u001b[39m{}, master\u001b[39m=\u001b[39m\u001b[39mNone\u001b[39;00m, \u001b[39m*\u001b[39m\u001b[39m*\u001b[39mkw):\n\u001b[0;32m   4060\u001b[0m     \u001b[39m\"\"\"Create an image with NAME.\u001b[39;00m\n\u001b[0;32m   4061\u001b[0m \n\u001b[0;32m   4062\u001b[0m \u001b[39m    Valid resource names: data, format, file, gamma, height, palette,\u001b[39;00m\n\u001b[0;32m   4063\u001b[0m \u001b[39m    width.\"\"\"\u001b[39;00m\n\u001b[1;32m-> 4064\u001b[0m     Image\u001b[39m.\u001b[39;49m\u001b[39m__init__\u001b[39;49m(\u001b[39mself\u001b[39;49m, \u001b[39m'\u001b[39;49m\u001b[39mphoto\u001b[39;49m\u001b[39m'\u001b[39;49m, name, cnf, master, \u001b[39m*\u001b[39;49m\u001b[39m*\u001b[39;49mkw)\n",
      "File \u001b[1;32mc:\\Users\\USER\\anaconda3\\envs\\pytorch38\\lib\\tkinter\\__init__.py:4009\u001b[0m, in \u001b[0;36mImage.__init__\u001b[1;34m(self, imgtype, name, cnf, master, **kw)\u001b[0m\n\u001b[0;32m   4007\u001b[0m         v \u001b[39m=\u001b[39m \u001b[39mself\u001b[39m\u001b[39m.\u001b[39m_register(v)\n\u001b[0;32m   4008\u001b[0m     options \u001b[39m=\u001b[39m options \u001b[39m+\u001b[39m (\u001b[39m'\u001b[39m\u001b[39m-\u001b[39m\u001b[39m'\u001b[39m\u001b[39m+\u001b[39mk, v)\n\u001b[1;32m-> 4009\u001b[0m \u001b[39mself\u001b[39;49m\u001b[39m.\u001b[39;49mtk\u001b[39m.\u001b[39;49mcall((\u001b[39m'\u001b[39;49m\u001b[39mimage\u001b[39;49m\u001b[39m'\u001b[39;49m, \u001b[39m'\u001b[39;49m\u001b[39mcreate\u001b[39;49m\u001b[39m'\u001b[39;49m, imgtype, name,) \u001b[39m+\u001b[39;49m options)\n\u001b[0;32m   4010\u001b[0m \u001b[39mself\u001b[39m\u001b[39m.\u001b[39mname \u001b[39m=\u001b[39m name\n",
      "\u001b[1;31mTclError\u001b[0m: couldn't recognize data in image file \"./data/a1.gif\""
     ]
    }
   ],
   "source": [
    "# 레이블로 화면에 이미지 표시하기   # 왜 안돼?\n",
    "\n",
    "from tkinter import *\n",
    "# from PIL import ImageTk\n",
    "\n",
    "window = Tk()\n",
    "photo = PhotoImage(file='./data/a1.gif')\n",
    "w = Label(window, image=photo)\n",
    "w.photo = photo\n",
    "w.pack()\n",
    "window.mainloop()"
   ]
  },
  {
   "cell_type": "code",
   "execution_count": 64,
   "metadata": {},
   "outputs": [
    {
     "ename": "TclError",
     "evalue": "couldn't recognize data in image file \"./data/a1.gif\"",
     "output_type": "error",
     "traceback": [
      "\u001b[1;31m---------------------------------------------------------------------------\u001b[0m",
      "\u001b[1;31mTclError\u001b[0m                                  Traceback (most recent call last)",
      "\u001b[1;32mc:\\Users\\USER\\Desktop\\vs코드\\doyoung_vs\\study\\study_1114_1.ipynb 셀 23\u001b[0m in \u001b[0;36m<cell line: 6>\u001b[1;34m()\u001b[0m\n\u001b[0;32m      <a href='vscode-notebook-cell:/c%3A/Users/USER/Desktop/vs%EC%BD%94%EB%93%9C/doyoung_vs/study/study_1114_1.ipynb#X32sZmlsZQ%3D%3D?line=2'>3</a>\u001b[0m \u001b[39mfrom\u001b[39;00m \u001b[39mtkinter\u001b[39;00m \u001b[39mimport\u001b[39;00m \u001b[39m*\u001b[39m\n\u001b[0;32m      <a href='vscode-notebook-cell:/c%3A/Users/USER/Desktop/vs%EC%BD%94%EB%93%9C/doyoung_vs/study/study_1114_1.ipynb#X32sZmlsZQ%3D%3D?line=4'>5</a>\u001b[0m window \u001b[39m=\u001b[39m Tk()\n\u001b[1;32m----> <a href='vscode-notebook-cell:/c%3A/Users/USER/Desktop/vs%EC%BD%94%EB%93%9C/doyoung_vs/study/study_1114_1.ipynb#X32sZmlsZQ%3D%3D?line=5'>6</a>\u001b[0m photo \u001b[39m=\u001b[39m PhotoImage(file\u001b[39m=\u001b[39;49m\u001b[39m'\u001b[39;49m\u001b[39m./data/a1.gif\u001b[39;49m\u001b[39m'\u001b[39;49m)\n\u001b[0;32m      <a href='vscode-notebook-cell:/c%3A/Users/USER/Desktop/vs%EC%BD%94%EB%93%9C/doyoung_vs/study/study_1114_1.ipynb#X32sZmlsZQ%3D%3D?line=6'>7</a>\u001b[0m w \u001b[39m=\u001b[39m Label(window, image\u001b[39m=\u001b[39mphoto)\u001b[39m.\u001b[39mpack(side\u001b[39m=\u001b[39m\u001b[39m'\u001b[39m\u001b[39mright\u001b[39m\u001b[39m'\u001b[39m)\n\u001b[0;32m      <a href='vscode-notebook-cell:/c%3A/Users/USER/Desktop/vs%EC%BD%94%EB%93%9C/doyoung_vs/study/study_1114_1.ipynb#X32sZmlsZQ%3D%3D?line=7'>8</a>\u001b[0m message \u001b[39m=\u001b[39m\u001b[39m'''\u001b[39m\u001b[39m삶이 그대를 속일지라도\u001b[39m\n\u001b[0;32m      <a href='vscode-notebook-cell:/c%3A/Users/USER/Desktop/vs%EC%BD%94%EB%93%9C/doyoung_vs/study/study_1114_1.ipynb#X32sZmlsZQ%3D%3D?line=8'>9</a>\u001b[0m \u001b[39m슬퍼하거나 노하지 말라 !\u001b[39m\n\u001b[0;32m     <a href='vscode-notebook-cell:/c%3A/Users/USER/Desktop/vs%EC%BD%94%EB%93%9C/doyoung_vs/study/study_1114_1.ipynb#X32sZmlsZQ%3D%3D?line=9'>10</a>\u001b[0m \u001b[39m우울한 날들을 견디면 : 믿으라,\u001b[39m\n\u001b[1;32m   (...)\u001b[0m\n\u001b[0;32m     <a href='vscode-notebook-cell:/c%3A/Users/USER/Desktop/vs%EC%BD%94%EB%93%9C/doyoung_vs/study/study_1114_1.ipynb#X32sZmlsZQ%3D%3D?line=14'>15</a>\u001b[0m \u001b[39m그리고 지나가는 것은 훗날 소중하게 되리니.\u001b[39m\n\u001b[0;32m     <a href='vscode-notebook-cell:/c%3A/Users/USER/Desktop/vs%EC%BD%94%EB%93%9C/doyoung_vs/study/study_1114_1.ipynb#X32sZmlsZQ%3D%3D?line=15'>16</a>\u001b[0m \u001b[39m'''\u001b[39m\n",
      "File \u001b[1;32mc:\\Users\\USER\\anaconda3\\envs\\pytorch38\\lib\\tkinter\\__init__.py:4064\u001b[0m, in \u001b[0;36mPhotoImage.__init__\u001b[1;34m(self, name, cnf, master, **kw)\u001b[0m\n\u001b[0;32m   4059\u001b[0m \u001b[39mdef\u001b[39;00m \u001b[39m__init__\u001b[39m(\u001b[39mself\u001b[39m, name\u001b[39m=\u001b[39m\u001b[39mNone\u001b[39;00m, cnf\u001b[39m=\u001b[39m{}, master\u001b[39m=\u001b[39m\u001b[39mNone\u001b[39;00m, \u001b[39m*\u001b[39m\u001b[39m*\u001b[39mkw):\n\u001b[0;32m   4060\u001b[0m     \u001b[39m\"\"\"Create an image with NAME.\u001b[39;00m\n\u001b[0;32m   4061\u001b[0m \n\u001b[0;32m   4062\u001b[0m \u001b[39m    Valid resource names: data, format, file, gamma, height, palette,\u001b[39;00m\n\u001b[0;32m   4063\u001b[0m \u001b[39m    width.\"\"\"\u001b[39;00m\n\u001b[1;32m-> 4064\u001b[0m     Image\u001b[39m.\u001b[39;49m\u001b[39m__init__\u001b[39;49m(\u001b[39mself\u001b[39;49m, \u001b[39m'\u001b[39;49m\u001b[39mphoto\u001b[39;49m\u001b[39m'\u001b[39;49m, name, cnf, master, \u001b[39m*\u001b[39;49m\u001b[39m*\u001b[39;49mkw)\n",
      "File \u001b[1;32mc:\\Users\\USER\\anaconda3\\envs\\pytorch38\\lib\\tkinter\\__init__.py:4009\u001b[0m, in \u001b[0;36mImage.__init__\u001b[1;34m(self, imgtype, name, cnf, master, **kw)\u001b[0m\n\u001b[0;32m   4007\u001b[0m         v \u001b[39m=\u001b[39m \u001b[39mself\u001b[39m\u001b[39m.\u001b[39m_register(v)\n\u001b[0;32m   4008\u001b[0m     options \u001b[39m=\u001b[39m options \u001b[39m+\u001b[39m (\u001b[39m'\u001b[39m\u001b[39m-\u001b[39m\u001b[39m'\u001b[39m\u001b[39m+\u001b[39mk, v)\n\u001b[1;32m-> 4009\u001b[0m \u001b[39mself\u001b[39;49m\u001b[39m.\u001b[39;49mtk\u001b[39m.\u001b[39;49mcall((\u001b[39m'\u001b[39;49m\u001b[39mimage\u001b[39;49m\u001b[39m'\u001b[39;49m, \u001b[39m'\u001b[39;49m\u001b[39mcreate\u001b[39;49m\u001b[39m'\u001b[39;49m, imgtype, name,) \u001b[39m+\u001b[39;49m options)\n\u001b[0;32m   4010\u001b[0m \u001b[39mself\u001b[39m\u001b[39m.\u001b[39mname \u001b[39m=\u001b[39m name\n",
      "\u001b[1;31mTclError\u001b[0m: couldn't recognize data in image file \"./data/a1.gif\""
     ]
    }
   ],
   "source": [
    "# 레이블에 이미지와 텍스트를 동시에 나타내기\n",
    "\n",
    "from tkinter import *\n",
    "\n",
    "window = Tk()\n",
    "photo = PhotoImage(file='./data/a1.gif')\n",
    "w = Label(window, image=photo).pack(side='right')\n",
    "message ='''삶이 그대를 속일지라도\n",
    "슬퍼하거나 노하지 말라 !\n",
    "우울한 날들을 견디면 : 믿으라,\n",
    "기쁨의 날이 오리니.\n",
    "마음은 미래에 사는 것\n",
    "현재는 슬픈 것:\n",
    "모든 것은 순간적인 것, 지나가는 것이니\n",
    "그리고 지나가는 것은 훗날 소중하게 되리니.\n",
    "'''\n",
    "w2 = Label(window,\n",
    "justify=LEFT,\n",
    "padx = 10,\n",
    "text = message).pack(side='left')\n",
    "window.mainloop()"
   ]
  },
  {
   "cell_type": "code",
   "execution_count": 66,
   "metadata": {},
   "outputs": [],
   "source": [
    "# 레이블의 색상과 폰트 변경하기\n",
    "\n",
    "from tkinter import *\n",
    "\n",
    "window = Tk()\n",
    "\n",
    "Label(window,\n",
    "text='Times Font 폰트와 빨강색을 사용합니다.',\n",
    "fg='red',\n",
    "font='Times 32 bold italic').pack()\n",
    "Label(window,\n",
    "text='Helvetica 폰트와 녹색을 사용합니다.',\n",
    "fg='blue',\n",
    "bg='yellow',\n",
    "font='Helvetica 32 bold italic').pack()\n",
    "\n",
    "window.mainloop()\n"
   ]
  }
 ],
 "metadata": {
  "kernelspec": {
   "display_name": "Python 3.8.13 ('pytorch38')",
   "language": "python",
   "name": "python3"
  },
  "language_info": {
   "codemirror_mode": {
    "name": "ipython",
    "version": 3
   },
   "file_extension": ".py",
   "mimetype": "text/x-python",
   "name": "python",
   "nbconvert_exporter": "python",
   "pygments_lexer": "ipython3",
   "version": "3.8.13"
  },
  "orig_nbformat": 4,
  "vscode": {
   "interpreter": {
    "hash": "e713db361fd0c0a151521921a307db5316dc01e9b741659f15d8bea985d071ea"
   }
  }
 },
 "nbformat": 4,
 "nbformat_minor": 2
}
