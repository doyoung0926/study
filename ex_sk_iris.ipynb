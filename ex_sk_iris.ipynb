{
 "cells": [
  {
   "cell_type": "markdown",
   "id": "4dd592b5",
   "metadata": {},
   "source": [
    "## IRIS Dataste 활용 분류\n",
    "---"
   ]
  },
  {
   "cell_type": "code",
   "execution_count": 92,
   "id": "f756874d",
   "metadata": {},
   "outputs": [],
   "source": [
    "# 모듈 로딩 ------------------------------------------\n",
    "from sklearn.linear_model import LogisticRegression\n",
    "from sklearn.datasets import load_iris\n",
    "import matplotlib.pyplot as plt\n",
    "import numpy as np"
   ]
  },
  {
   "cell_type": "markdown",
   "id": "48c10d8d",
   "metadata": {},
   "source": [
    "### [1] 데이터 로딩 및 확인"
   ]
  },
  {
   "cell_type": "code",
   "execution_count": 140,
   "id": "6047524c",
   "metadata": {},
   "outputs": [
    {
     "data": {
      "text/plain": [
       "(tuple, pandas.core.frame.DataFrame, pandas.core.series.Series)"
      ]
     },
     "execution_count": 140,
     "metadata": {},
     "output_type": "execute_result"
    }
   ],
   "source": [
    "# return_X_y => X => 특징들,데이터 , y => 라벨, 타겟\n",
    "data, target = load_iris(as_frame=True, return_X_y=True)\n",
    "\n",
    "type(iris), type(data), type(target)"
   ]
  },
  {
   "cell_type": "code",
   "execution_count": 141,
   "id": "f30a517f",
   "metadata": {},
   "outputs": [
    {
     "name": "stdout",
     "output_type": "stream",
     "text": [
      "<class 'pandas.core.frame.DataFrame'>\n",
      "RangeIndex: 150 entries, 0 to 149\n",
      "Data columns (total 4 columns):\n",
      " #   Column             Non-Null Count  Dtype  \n",
      "---  ------             --------------  -----  \n",
      " 0   sepal length (cm)  150 non-null    float64\n",
      " 1   sepal width (cm)   150 non-null    float64\n",
      " 2   petal length (cm)  150 non-null    float64\n",
      " 3   petal width (cm)   150 non-null    float64\n",
      "dtypes: float64(4)\n",
      "memory usage: 4.8 KB\n",
      "None\n",
      "\n",
      "   sepal length (cm)  sepal width (cm)  petal length (cm)  petal width (cm)\n",
      "0                5.1               3.5                1.4               0.2\n",
      "1                4.9               3.0                1.4               0.2\n",
      "2                4.7               3.2                1.3               0.2\n"
     ]
    }
   ],
   "source": [
    "print(data.info(), data.head(3), sep='\\n\\n')"
   ]
  },
  {
   "cell_type": "code",
   "execution_count": 142,
   "id": "a18322b5",
   "metadata": {},
   "outputs": [
    {
     "name": "stdout",
     "output_type": "stream",
     "text": [
      "0    0\n",
      "1    0\n",
      "2    0\n",
      "Name: target, dtype: int32\n",
      "\n",
      "[0 1 2]\n",
      "\n",
      "0    50\n",
      "1    50\n",
      "2    50\n",
      "Name: target, dtype: int64\n"
     ]
    }
   ],
   "source": [
    "print(target.head(3), target.unique(), target.value_counts(), sep='\\n\\n')"
   ]
  },
  {
   "cell_type": "markdown",
   "id": "88fded57",
   "metadata": {},
   "source": [
    "### [2] 학습 데이터 준비"
   ]
  },
  {
   "cell_type": "code",
   "execution_count": 143,
   "id": "e2d12072",
   "metadata": {},
   "outputs": [
    {
     "name": "stdout",
     "output_type": "stream",
     "text": [
      "data =>  (150, 2)\n",
      "target =>  (150,)\n"
     ]
    }
   ],
   "source": [
    "# 데이터 => petal_length (cm), petal_width (cm)\n",
    "# 타  겟 => 0, 2  \n",
    "data = data.loc[:, data.columns[2:]]\n",
    "\n",
    "print('data => ', data.shape)\n",
    "print('target => ', target.shape)"
   ]
  },
  {
   "cell_type": "code",
   "execution_count": 144,
   "id": "ce2e1be1",
   "metadata": {},
   "outputs": [],
   "source": [
    "# ------------------------------------------------"
   ]
  },
  {
   "cell_type": "code",
   "execution_count": 145,
   "id": "dd4e1d8b",
   "metadata": {},
   "outputs": [],
   "source": [
    "data.drop(range(50, 100), inplace=True)\n",
    "target.drop(range(50, 100), inplace=True)"
   ]
  },
  {
   "cell_type": "code",
   "execution_count": 146,
   "id": "f81d60d3",
   "metadata": {},
   "outputs": [],
   "source": [
    "# 학습용 , 테스트용 데이터 분리\n",
    "from sklearn.model_selection import train_test_split"
   ]
  },
  {
   "cell_type": "code",
   "execution_count": 147,
   "id": "52937c28",
   "metadata": {},
   "outputs": [],
   "source": [
    "# train:test=75%:25%\n",
    "# test_size=0.X\n",
    "# stratify => 분류 항목 비율 맞추어서 데이터셋 설정\n",
    "# random_state => 매번 동일하게 데이터 구성하는 경우 지정\n",
    "train_X, test_X, train_y, test_y = train_test_split(data,\n",
    "                                                    target,\n",
    "                                                    test_size=0.2,\n",
    "                                                    stratify=target,\n",
    "                                                    random_state=4)"
   ]
  },
  {
   "cell_type": "code",
   "execution_count": 148,
   "id": "88fdf713",
   "metadata": {},
   "outputs": [
    {
     "name": "stdout",
     "output_type": "stream",
     "text": [
      "(80, 2) (20, 2)\n",
      "0    40\n",
      "2    40\n",
      "Name: target, dtype: int64 0    10\n",
      "2    10\n",
      "Name: target, dtype: int64\n"
     ]
    }
   ],
   "source": [
    "print(train_X.shape, test_X.shape)\n",
    "print(train_y.value_counts(), test_y.value_counts())"
   ]
  },
  {
   "cell_type": "code",
   "execution_count": 165,
   "id": "8de8cc7b",
   "metadata": {},
   "outputs": [],
   "source": [
    "# 모델 생성 학습\n",
    "model = LogisticRegression()"
   ]
  },
  {
   "cell_type": "code",
   "execution_count": 166,
   "id": "702224df",
   "metadata": {},
   "outputs": [
    {
     "data": {
      "text/plain": [
       "LogisticRegression()"
      ]
     },
     "execution_count": 166,
     "metadata": {},
     "output_type": "execute_result"
    }
   ],
   "source": [
    "# 학습\n",
    "model.fit(train_X.values, train_y)"
   ]
  },
  {
   "cell_type": "code",
   "execution_count": 167,
   "id": "e3eb881a",
   "metadata": {},
   "outputs": [
    {
     "name": "stdout",
     "output_type": "stream",
     "text": [
      "분류 종류 :  [0 2]\n",
      "가중치 값 :  [[1.87871631 0.84564202]]\n",
      "절 편  값 :  [-7.34250753]\n",
      "특성 갯수 :  2\n"
     ]
    }
   ],
   "source": [
    "# 학습 후 설정된 속성\n",
    "print(\"분류 종류 : \", model.classes_)\n",
    "print(\"가중치 값 : \", model.coef_)\n",
    "print(\"절 편  값 : \", model.intercept_)\n",
    "print(\"특성 갯수 : \", model.n_features_in_)"
   ]
  },
  {
   "cell_type": "code",
   "execution_count": 168,
   "id": "45a76596",
   "metadata": {},
   "outputs": [],
   "source": [
    "# 평가 => score() 학습용 데이터 점수, 테스트용 데이터 점수"
   ]
  },
  {
   "cell_type": "code",
   "execution_count": 169,
   "id": "72e8ac60",
   "metadata": {},
   "outputs": [
    {
     "data": {
      "text/plain": [
       "1.0"
      ]
     },
     "execution_count": 169,
     "metadata": {},
     "output_type": "execute_result"
    }
   ],
   "source": [
    "model.score(train_X.values, train_y)"
   ]
  },
  {
   "cell_type": "code",
   "execution_count": 170,
   "id": "2c72bf4a",
   "metadata": {},
   "outputs": [
    {
     "data": {
      "text/plain": [
       "array([0, 2, 0, 0, 2, 0, 2, 2, 2, 0, 2, 2, 2, 2, 0, 2, 0, 0, 2, 2, 0, 2,\n",
       "       0, 2, 2, 2, 0, 0, 0, 0, 0, 0, 2, 0, 0, 0, 0, 0, 2, 0, 0, 2, 2, 0,\n",
       "       0, 0, 2, 2, 2, 2, 2, 2, 0, 2, 2, 2, 0, 0, 2, 2, 0, 0, 0, 0, 0, 0,\n",
       "       2, 2, 2, 2, 2, 2, 2, 2, 0, 0, 0, 0, 0, 2])"
      ]
     },
     "execution_count": 170,
     "metadata": {},
     "output_type": "execute_result"
    }
   ],
   "source": [
    "# 테스트 => predict(): 새로운 데이터로 진행\n",
    "preY = model.predict(train_X.values)\n",
    "\n",
    "preY"
   ]
  },
  {
   "cell_type": "code",
   "execution_count": 171,
   "id": "da304027",
   "metadata": {},
   "outputs": [
    {
     "name": "stdout",
     "output_type": "stream",
     "text": [
      "예측결과 :  [0]\n"
     ]
    }
   ],
   "source": [
    "# 1개 데이터\n",
    "preY = model.predict([[1, 1]])\n",
    "print('예측결과 : ', preY)"
   ]
  },
  {
   "cell_type": "code",
   "execution_count": 172,
   "id": "b3a8dd20",
   "metadata": {},
   "outputs": [
    {
     "name": "stdout",
     "output_type": "stream",
     "text": [
      "분류항목 :  [0 2]\n",
      "예측확률 :  [[0.99022544 0.00977456]]\n"
     ]
    }
   ],
   "source": [
    "probaY = model.predict_proba([[1, 1]])\n",
    "print('분류항목 : ', model.classes_)\n",
    "print('예측확률 : ', probaY)"
   ]
  },
  {
   "cell_type": "code",
   "execution_count": 173,
   "id": "84bff2d5",
   "metadata": {},
   "outputs": [
    {
     "data": {
      "text/plain": [
       "array([-4.6181492])"
      ]
     },
     "execution_count": 173,
     "metadata": {},
     "output_type": "execute_result"
    }
   ],
   "source": [
    "# 결정함수\n",
    "model.decision_function([[1, 1]])"
   ]
  },
  {
   "cell_type": "code",
   "execution_count": null,
   "id": "ec23bbfd",
   "metadata": {},
   "outputs": [],
   "source": []
  },
  {
   "cell_type": "code",
   "execution_count": null,
   "id": "e13fe9dc",
   "metadata": {},
   "outputs": [],
   "source": []
  }
 ],
 "metadata": {
  "kernelspec": {
   "display_name": "Python 3 (ipykernel)",
   "language": "python",
   "name": "python3"
  },
  "language_info": {
   "codemirror_mode": {
    "name": "ipython",
    "version": 3
   },
   "file_extension": ".py",
   "mimetype": "text/x-python",
   "name": "python",
   "nbconvert_exporter": "python",
   "pygments_lexer": "ipython3",
   "version": "3.9.12"
  }
 },
 "nbformat": 4,
 "nbformat_minor": 5
}
