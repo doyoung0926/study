{
 "cells": [
  {
   "cell_type": "markdown",
   "id": "bc4a1938",
   "metadata": {},
   "source": [
    "# 인공신경망(artifical neural network)"
   ]
  },
  {
   "cell_type": "code",
   "execution_count": 2,
   "id": "e36b7990",
   "metadata": {},
   "outputs": [],
   "source": [
    "# 인공신경망\n",
    "# 탐색,추론, ... -> ML -> DL"
   ]
  },
  {
   "cell_type": "code",
   "execution_count": 3,
   "id": "ea04954d",
   "metadata": {},
   "outputs": [],
   "source": [
    "# 인공신경망\n",
    "# Sequencial computer\n",
    "# data -> computer, program -> Result\n",
    "\n",
    "# machine learning -> 많은 데이터 + 고성능 computer -> DL\n",
    "# data, result -> computer, learning -> model program"
   ]
  },
  {
   "cell_type": "code",
   "execution_count": 4,
   "id": "7db8707e",
   "metadata": {},
   "outputs": [],
   "source": [
    "# 인공신경망\n",
    "# 인간의 신경 세포(neuron) 구조에 많은 영향을 받은 알고리즈\n",
    "# 우리 몸의 각 신경 세포는 시냅스(synapse)를 통해 결합\n",
    "# 자극이 들어왔을 때 가지 돌기와 축삭 돌기를 거쳐 시냅스를 통해\n",
    "# 서로 전기적인 신호를 사용하여 통신\n",
    "# 들어오는 자극이 일정하더라도 각 신경 세포마다 자극에 반응하는 정도가\n",
    "# 조금씩 달라, 자극을 강화시켜 전달하기도 하고 축소시켜 전달하기도 함"
   ]
  },
  {
   "cell_type": "code",
   "execution_count": 5,
   "id": "292b3875",
   "metadata": {},
   "outputs": [],
   "source": [
    "# 인공신경망\n",
    "# 퍼셉트론(perceptron)\n",
    "# 1945년 개념 제안, 1958년 구체적인 공학적 구현 제안\n",
    "# 생물학적 뉴런을 공학적인 구조로 변형한 것\n",
    "# 1969년 XOR문제 해결할 수 없는 단순선형분리기 불과함 증명\n",
    "# 인기하락 -> 논리적인 추론으로 인공지능 트랜드 변화\n",
    "# 최초 인공 신경망 개념을 공학적 구조로 구현한 것으로 큰 의미"
   ]
  },
  {
   "cell_type": "code",
   "execution_count": 6,
   "id": "15138382",
   "metadata": {},
   "outputs": [],
   "source": [
    "# 인공신경망\n",
    "# 퍼셉트론(perceptron)"
   ]
  },
  {
   "cell_type": "code",
   "execution_count": 7,
   "id": "7bf32dc2",
   "metadata": {},
   "outputs": [],
   "source": [
    "# 인공신경망\n",
    "# 퍼셉트론(perceptron)\n",
    "# 입력값(트레이닝 데이터)\n",
    "# 실제값과 예측값의 활성 함수 리턴값이 다를 경우 가중치 업데이트\n",
    "# 순입력함수\n",
    "# 임계값\n",
    "# 활성함수\n",
    "# 예측값\n",
    "# y=선형이진분류기(Linear Binary Classifier)"
   ]
  },
  {
   "cell_type": "code",
   "execution_count": 8,
   "id": "e92696d1",
   "metadata": {},
   "outputs": [],
   "source": [
    "# 인공신경망\n",
    "# 퍼셉트론(Perceptron)\n",
    "# [동작방식]\n",
    "# Feed-Forward(전방향 연산)\n",
    "# 각 입력값에 일정한 가중치(weight) 곱셈\n",
    "# 출력층까지 전달 후 에러(손실) 계산\n",
    "# Back-Propagate(역전파)\n",
    "# 실제 목표 출력치와 비교\n",
    "# 다음 입력 때 출력치가 목표치에 근접하도록 가중치 조절 과정 반복\n",
    "# Feed-Forward & Back-Propagate + 많은 데이터 + 반복 수행\n",
    "# 모든 학습 데이터가 정확하게 분류될 때까지 반복 진행\n",
    "# 선형적 분리에 적합"
   ]
  },
  {
   "cell_type": "code",
   "execution_count": 9,
   "id": "da721b3f",
   "metadata": {},
   "outputs": [],
   "source": [
    "# 인공신경망\n",
    "# 퍼셉트론(Perceptron)\n",
    "# 함수 종류     기능 및 특징\n",
    "# step function \n",
    "# 퍼셉트론에서 사용 즉 이진분류에 사용\n",
    "# 값이 0보다 작으면 0 출력 / 크면 1 출력\n",
    "\n",
    "# sigmoid function\n",
    "# 0~1 사이의 값 출력, 평균 0.5\n",
    "# 분류에서 확률 표현 위해서 사용\n",
    "\n",
    "# ReLU Function(Rectified Linear Unit)\n",
    "# 입력이 0을 넘으면 그 입력을 그대로 출력\n",
    "# 입력이 0이하면 0을 출력"
   ]
  },
  {
   "cell_type": "code",
   "execution_count": 10,
   "id": "bc5fa78a",
   "metadata": {},
   "outputs": [],
   "source": [
    "# 인공신경망\n",
    "# 퍼셉트론(Perceptron)\n",
    "# Vanishing Gradient Problem (기울기 소실 문제)\n",
    "# 함수 종류         기능 및 특징\n",
    "# step function \n",
    "# -2이하 +2이상 시 미분값 0 되는 문제\n",
    "\n",
    "# sigmoid function\n",
    "# -6이하 +6이상 시 미분값 0 되는 문제\n",
    "\n",
    "# ReLU function(Rectified Linear Unit)\n",
    "# step function, sigmoid function 처럼 발생함, 정도가 약함"
   ]
  },
  {
   "cell_type": "code",
   "execution_count": 11,
   "id": "e9bc4850",
   "metadata": {},
   "outputs": [],
   "source": [
    "# 인공신경망\n",
    "# 퍼셉트론(perceptron)\n",
    "# PLA(Perceptron Learning Algorithm)\n",
    "# 입력층 -> 출력층 -> 결과값\n",
    "\n",
    "# MLP(Multi-Layer Perceptron Learning Algorithm)\n",
    "# 입력층 -> 중간층(노드 또는 뉴런) -> 출력층 결과값"
   ]
  },
  {
   "cell_type": "code",
   "execution_count": null,
   "id": "5a8fde4a",
   "metadata": {},
   "outputs": [],
   "source": [
    "# 다층퍼셉트론\n",
    "# 퍼셉트론을 여러층 쌓아 올린 구조\n",
    "# 선형분리 불가능한 문제도 해결 가능\n",
    "# 인공신경망(ANN)을 의미함\n",
    "# 경사하강법 손실 함수 사용\n",
    "\n",
    "#"
   ]
  }
 ],
 "metadata": {
  "kernelspec": {
   "display_name": "Python 3 (ipykernel)",
   "language": "python",
   "name": "python3"
  },
  "language_info": {
   "codemirror_mode": {
    "name": "ipython",
    "version": 3
   },
   "file_extension": ".py",
   "mimetype": "text/x-python",
   "name": "python",
   "nbconvert_exporter": "python",
   "pygments_lexer": "ipython3",
   "version": "3.9.12"
  }
 },
 "nbformat": 4,
 "nbformat_minor": 5
}
