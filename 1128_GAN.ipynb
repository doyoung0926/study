{
 "cells": [
  {
   "cell_type": "code",
   "execution_count": 2,
   "metadata": {},
   "outputs": [],
   "source": [
    "# https://github.com/godeastone/GAN-torch/blob/main/models/GAN.py"
   ]
  },
  {
   "cell_type": "code",
   "execution_count": 3,
   "metadata": {},
   "outputs": [
    {
     "name": "stderr",
     "output_type": "stream",
     "text": [
      "c:\\Users\\USER\\anaconda3\\envs\\ff38\\lib\\site-packages\\tqdm\\auto.py:22: TqdmWarning: IProgress not found. Please update jupyter and ipywidgets. See https://ipywidgets.readthedocs.io/en/stable/user_install.html\n",
      "  from .autonotebook import tqdm as notebook_tqdm\n"
     ]
    }
   ],
   "source": [
    "import os\n",
    "import torch.nn as nn\n",
    "import torch.utils.data\n",
    "import torchvision\n",
    "from torchvision import transforms\n",
    "from torchvision.utils import save_image"
   ]
  },
  {
   "cell_type": "code",
   "execution_count": 4,
   "metadata": {},
   "outputs": [],
   "source": [
    "# Hyper-parameters & Variables setting\n",
    "num_epoch = 200\n",
    "batch_size = 100\n",
    "learning_rate = 0.0002\n",
    "img_size = 28 * 28\n",
    "num_channel = 1\n",
    "dir_name = 'GAN_results'\n",
    "\n",
    "noise_size = 100\n",
    "hidden_size1 = 256\n",
    "hidden_size2 = 512\n",
    "hidden_size3 = 1024"
   ]
  },
  {
   "cell_type": "code",
   "execution_count": 5,
   "metadata": {},
   "outputs": [
    {
     "name": "stdout",
     "output_type": "stream",
     "text": [
      "Now using cpu device\n"
     ]
    }
   ],
   "source": [
    "# Device setting\n",
    "device = torch.device('cuda' if torch.cuda.is_available() else 'cpu')\n",
    "print('Now using {} device'.format(device))\n",
    "\n",
    "# Create a directory for saving samples\n",
    "if not os.path.exists(dir_name):\n",
    "    os.makedirs(dir_name)"
   ]
  },
  {
   "cell_type": "code",
   "execution_count": 6,
   "metadata": {},
   "outputs": [],
   "source": [
    "# Dataset transform setting\n",
    "transform = transforms.Compose([\n",
    "    transforms.ToTensor(),\n",
    "    transforms.Normalize(0.5, 0.5)])"
   ]
  },
  {
   "cell_type": "code",
   "execution_count": 7,
   "metadata": {},
   "outputs": [],
   "source": [
    "# MNIST dataset setting\n",
    "MNIST_dataset = torchvision.datasets.MNIST(root='../../data',\n",
    "                                            train=True,\n",
    "                                            transform=transform,\n",
    "                                            download=True)"
   ]
  },
  {
   "cell_type": "code",
   "execution_count": 8,
   "metadata": {},
   "outputs": [],
   "source": [
    "# Data loader\n",
    "data_loader = torch.utils.data.DataLoader(dataset=MNIST_dataset,\n",
    "                                            batch_size=batch_size,\n",
    "                                            shuffle=True)"
   ]
  },
  {
   "cell_type": "code",
   "execution_count": 9,
   "metadata": {},
   "outputs": [],
   "source": [
    "# Declares discriminator\n",
    "class Discriminator(nn.Module):\n",
    "    def __init__(self):\n",
    "        super(Discriminator, self).__init__()\n",
    "\n",
    "        self.linear1 = nn.Linear(img_size, hidden_size3)\n",
    "        self.linear2 = nn.Linear(hidden_size3, hidden_size2)\n",
    "        self.linear3 = nn.Linear(hidden_size2, hidden_size1)\n",
    "        self.linear4 = nn.Linear(hidden_size1, 1)\n",
    "        self.leaky_relu = nn.LeakyReLU(0.2)\n",
    "        self.sigmoid = nn.Sigmoid()\n",
    "\n",
    "    def forward(self, x):\n",
    "        x = self.leaky_relu(self.linear1(x))\n",
    "        x = self.leaky_relu(self.linear2(x))\n",
    "        x = self.leaky_relu(self.linear3(x))\n",
    "        x = self.linear4(x)\n",
    "        x = self.sigmoid(x)\n",
    "        return x"
   ]
  },
  {
   "cell_type": "code",
   "execution_count": 10,
   "metadata": {},
   "outputs": [],
   "source": [
    "# Declares generator\n",
    "class Generator(nn.Module):\n",
    "    def __init__(self):\n",
    "        super(Generator, self).__init__()\n",
    "\n",
    "        self.linear1 = nn.Linear(noise_size, hidden_size1)\n",
    "        self.linear2 = nn.Linear(hidden_size1, hidden_size2)\n",
    "        self.linear3 = nn.Linear(hidden_size2, hidden_size3)\n",
    "        self.linear4 = nn.Linear(hidden_size3, img_size)\n",
    "        self.relu = nn.ReLU()\n",
    "        self.tanh = nn.Tanh()\n",
    "\n",
    "    def forward(self, x):\n",
    "        x = self.relu(self.linear1(x))\n",
    "        x = self.relu(self.linear2(x))\n",
    "        x = self.relu(self.linear3(x))\n",
    "        x = self.linear4(x)\n",
    "        x = self.tanh(x)\n",
    "        return x"
   ]
  },
  {
   "cell_type": "code",
   "execution_count": 11,
   "metadata": {},
   "outputs": [],
   "source": [
    "# Initialize generator/Discriminator\n",
    "discriminator = Discriminator()\n",
    "generator = Generator()\n",
    "\n",
    "# Device setting\n",
    "discriminator = discriminator.to(device)\n",
    "generator = generator.to(device)\n",
    "\n",
    "# Loss function & Optimizer setting\n",
    "criterion = nn.BCELoss()\n",
    "d_optimizer = torch.optim.Adam(discriminator.parameters(), lr=learning_rate)\n",
    "g_optimizer = torch.optim.Adam(generator.parameters(), lr=learning_rate)"
   ]
  },
  {
   "cell_type": "code",
   "execution_count": 13,
   "metadata": {},
   "outputs": [
    {
     "name": "stdout",
     "output_type": "stream",
     "text": [
      "Epoch [ 0/200 ] Step [ 150/600 ] d_loss : 0.00346 g_loss : 5.94724\n",
      "Epoch [ 0/200 ] Step [ 300/600 ] d_loss : 0.01195 g_loss : 7.58132\n",
      "Epoch [ 0/200 ] Step [ 450/600 ] d_loss : 0.00474 g_loss : 9.49991\n",
      "Epoch [ 0/200 ] Step [ 600/600 ] d_loss : 0.05915 g_loss : 11.94468\n",
      " Epock 0's discriminator performance : 0.98 generator performance : 0.01\n",
      "Epoch [ 1/200 ] Step [ 150/600 ] d_loss : 1.26506 g_loss : 3.36980\n",
      "Epoch [ 1/200 ] Step [ 300/600 ] d_loss : 0.28695 g_loss : 3.41164\n",
      "Epoch [ 1/200 ] Step [ 450/600 ] d_loss : 0.27602 g_loss : 1.90944\n",
      "Epoch [ 1/200 ] Step [ 600/600 ] d_loss : 2.02220 g_loss : 4.21905\n",
      " Epock 1's discriminator performance : 0.95 generator performance : 0.21\n",
      "Epoch [ 2/200 ] Step [ 150/600 ] d_loss : 0.64651 g_loss : 1.44640\n",
      "Epoch [ 2/200 ] Step [ 300/600 ] d_loss : 1.54195 g_loss : 3.25332\n",
      "Epoch [ 2/200 ] Step [ 450/600 ] d_loss : 0.02219 g_loss : 5.01066\n",
      "Epoch [ 2/200 ] Step [ 600/600 ] d_loss : 0.13064 g_loss : 2.34361\n",
      " Epock 2's discriminator performance : 0.95 generator performance : 0.11\n",
      "Epoch [ 3/200 ] Step [ 150/600 ] d_loss : 0.20881 g_loss : 2.25123\n",
      "Epoch [ 3/200 ] Step [ 300/600 ] d_loss : 0.33004 g_loss : 6.32151\n",
      "Epoch [ 3/200 ] Step [ 450/600 ] d_loss : 1.50037 g_loss : 0.71703\n",
      "Epoch [ 3/200 ] Step [ 600/600 ] d_loss : 1.20594 g_loss : 0.77336\n",
      " Epock 3's discriminator performance : 0.44 generator performance : 0.57\n",
      "Epoch [ 4/200 ] Step [ 150/600 ] d_loss : 0.86335 g_loss : 0.77866\n",
      "Epoch [ 4/200 ] Step [ 300/600 ] d_loss : 0.41298 g_loss : 1.97885\n",
      "Epoch [ 4/200 ] Step [ 450/600 ] d_loss : 0.23838 g_loss : 3.11900\n"
     ]
    }
   ],
   "source": [
    "'''\n",
    "Traing part\n",
    "'''\n",
    "\n",
    "for epoch in range(num_epoch):\n",
    "    for i, (images, label) in enumerate(data_loader):\n",
    "        \n",
    "        # make ground truth (labels) -> 1 for real, 0 for fake\n",
    "        real_label = torch.full((batch_size, 1), 1, dtype=torch.float32).to(device)\n",
    "        fake_label = torch.full((batch_size, 1), 0, dtype=torch.float32).to(device)\n",
    "\n",
    "        # reshape real images from MNIST dataset\n",
    "        real_images = images.reshape(batch_size, -1).to(device)\n",
    "\n",
    "        # ----------------\n",
    "        # train Generator\n",
    "        # ----------------\n",
    "\n",
    "        # Initialize grad\n",
    "        g_optimizer.zero_grad()\n",
    "        d_optimizer.zero_grad()\n",
    "\n",
    "        # make fake images with generatoro & noise vector 'z'1128.ipynb\n",
    "        z = torch.randn(batch_size, noise_size).to(device)\n",
    "        fake_images = generator(z)\n",
    "\n",
    "        # Compare result of discriminator with fake images & real labels\n",
    "        # If generator deceives discriminator, g_loss will decrease\n",
    "        g_loss = criterion(discriminator(fake_images), real_label)\n",
    "\n",
    "        # Train generator with backpropagation\n",
    "        g_loss.backward()\n",
    "        g_optimizer.step()\n",
    "\n",
    "        # -------------------\n",
    "        # train Discriminator\n",
    "        # -------------------\n",
    "\n",
    "        # Initialize grad\n",
    "        d_optimizer.zero_grad()\n",
    "        g_optimizer.zero_grad()\n",
    "        \n",
    "        # make fake images with generator & noise vector 'z'\n",
    "        z = torch.randn(batch_size, noise_size).to(device)\n",
    "        fake_images = generator(z)\n",
    "\n",
    "        # Calculate fake & real loss with generated images above & real images\n",
    "        fake_loss = criterion(discriminator(fake_images), fake_label)\n",
    "        real_loss = criterion(discriminator(real_images), real_label)\n",
    "        d_loss = (fake_loss + real_loss) / 2\n",
    "\n",
    "        # Train discriminator with backpropagation\n",
    "        # In this part, we don't train generator\n",
    "        d_loss.backward()\n",
    "        d_optimizer.step()\n",
    "\n",
    "        d_performance = discriminator(real_images).mean()\n",
    "        g_performance = discriminator(fake_images).mean()\n",
    "\n",
    "        if (i + 1) % 150 == 0:\n",
    "            print('Epoch [ {}/{} ] Step [ {}/{} ] d_loss : {:.5f} g_loss : {:.5f}'\n",
    "                    .format(epoch, num_epoch, i+1, len(data_loader), d_loss.item(), g_loss.item()))\n",
    "    \n",
    "    # print discriminator & generator's performance\n",
    "    print(\" Epock {}'s discriminator performance : {:.2f} generator performance : {:.2f}\"\n",
    "            .format(epoch, d_performance, g_performance))\n",
    "\n",
    "    # Save fake images in each epoch\n",
    "    samples = fake_images.reshape(batch_size, 1, 28, 28)\n",
    "    save_image(samples, os.path.join(dir_name, 'GAN_fake_samples{}.png' .format(epoch + 1)))"
   ]
  },
  {
   "cell_type": "code",
   "execution_count": null,
   "metadata": {},
   "outputs": [],
   "source": []
  }
 ],
 "metadata": {
  "kernelspec": {
   "display_name": "Python 3.8.15 ('ff38')",
   "language": "python",
   "name": "python3"
  },
  "language_info": {
   "codemirror_mode": {
    "name": "ipython",
    "version": 3
   },
   "file_extension": ".py",
   "mimetype": "text/x-python",
   "name": "python",
   "nbconvert_exporter": "python",
   "pygments_lexer": "ipython3",
   "version": "3.8.15"
  },
  "orig_nbformat": 4,
  "vscode": {
   "interpreter": {
    "hash": "134a072d5721038f7a0566ad89b8f20ad013922691df7c94a07b0dcd69bf1785"
   }
  }
 },
 "nbformat": 4,
 "nbformat_minor": 2
}
