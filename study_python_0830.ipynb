{
 "cells": [
  {
   "cell_type": "code",
   "execution_count": 2,
   "id": "689a2928",
   "metadata": {},
   "outputs": [],
   "source": [
    "# python 자료형\n",
    "# 맵핑 자료형\n",
    "# Dictionary   dic타입   class 'dic'   다양한 데이터"
   ]
  },
  {
   "cell_type": "code",
   "execution_count": 3,
   "id": "800df98f",
   "metadata": {},
   "outputs": [],
   "source": [
    "# Dict 자료형\n",
    "# Key와 Value를 쌍으로 구성\n",
    "# Key를 통해서 Value을 얻는 방식\n",
    "# 연관 배열 또는 해시(Hash)라고 함\n",
    "# 중괄호{}로 묶고 key:value를 콤마(,)로 구분\n",
    "# 순서가 의미 없음\n",
    "# 주의!! Key 중복, 중복 시 하나의 키 제외한 나머지 무시\n",
    "# 변수명={'key1':'value1','key2':'value2','key3':'value3'}"
   ]
  },
  {
   "cell_type": "code",
   "execution_count": 4,
   "id": "d1331fef",
   "metadata": {},
   "outputs": [],
   "source": [
    "# Dict 자료형\n",
    "# 생성\n",
    "dic={}\n",
    "dic1={'name':'Tom', 'age':10, 'birth':'1224'}\n",
    "dic2={1:'Hi', 2:'Apple', 'Num':1}\n",
    "dic3={'a':[1,2,3], 'b':123}\n",
    "dic4={1:('A','B',123), 2:'Happy'}"
   ]
  },
  {
   "cell_type": "code",
   "execution_count": 5,
   "id": "979b7aef",
   "metadata": {},
   "outputs": [
    {
     "name": "stdout",
     "output_type": "stream",
     "text": [
      "\n",
      "=== Dic객체 요소 값 읽기 ===\n",
      "dic1[1] => Tom\n",
      "dic4[1] => ('A', 'B', 123)\n"
     ]
    },
    {
     "ename": "KeyError",
     "evalue": "(1, 2)",
     "output_type": "error",
     "traceback": [
      "\u001b[1;31m---------------------------------------------------------------------------\u001b[0m",
      "\u001b[1;31mKeyError\u001b[0m                                  Traceback (most recent call last)",
      "Input \u001b[1;32mIn [5]\u001b[0m, in \u001b[0;36m<cell line: 6>\u001b[1;34m()\u001b[0m\n\u001b[0;32m      4\u001b[0m \u001b[38;5;28mprint\u001b[39m(\u001b[38;5;124mf\u001b[39m\u001b[38;5;124m\"\u001b[39m\u001b[38;5;124mdic1[1] => \u001b[39m\u001b[38;5;132;01m{\u001b[39;00mdic1[\u001b[38;5;124m'\u001b[39m\u001b[38;5;124mname\u001b[39m\u001b[38;5;124m'\u001b[39m]\u001b[38;5;132;01m}\u001b[39;00m\u001b[38;5;124m\"\u001b[39m)\n\u001b[0;32m      5\u001b[0m \u001b[38;5;28mprint\u001b[39m(\u001b[38;5;124mf\u001b[39m\u001b[38;5;124m\"\u001b[39m\u001b[38;5;124mdic4[1] => \u001b[39m\u001b[38;5;132;01m{\u001b[39;00mdic4[\u001b[38;5;241m1\u001b[39m]\u001b[38;5;132;01m}\u001b[39;00m\u001b[38;5;124m\"\u001b[39m)\n\u001b[1;32m----> 6\u001b[0m \u001b[38;5;28mprint\u001b[39m(\u001b[38;5;124mf\u001b[39m\u001b[38;5;124m\"\u001b[39m\u001b[38;5;124mdic4[(1,2)] => \u001b[39m\u001b[38;5;132;01m{\u001b[39;00mdic4[(\u001b[38;5;241m1\u001b[39m,\u001b[38;5;241m2\u001b[39m)]\u001b[38;5;132;01m}\u001b[39;00m\u001b[38;5;124m\"\u001b[39m)\n",
      "\u001b[1;31mKeyError\u001b[0m: (1, 2)"
     ]
    }
   ],
   "source": [
    "# Dict 자료형\n",
    "# 값 읽기 -> 객체변수명 [Key]\n",
    "print('\\n=== Dic객체 요소 값 읽기 ===')\n",
    "print(f\"dic1[1] => {dic1['name']}\")\n",
    "print(f\"dic4[1] => {dic4[1]}\")\n",
    "print(f\"dic4[(1,2)] => {dic4[(1,2)]}\")"
   ]
  },
  {
   "cell_type": "code",
   "execution_count": 6,
   "id": "04aadbff",
   "metadata": {},
   "outputs": [
    {
     "name": "stdout",
     "output_type": "stream",
     "text": [
      "\n",
      "=== Dic객체 요소 값 변경 & 추가 ===\n",
      "[전] dic1 => {'name': 'Tom', 'age': 10, 'birth': '1224'}\n",
      "[후] dic1 => {'name': 'KKK', 'age': 10, 'birth': '1224'}\n",
      "[후] dic1 => {'name': 'KKK', 'age': 10, 'birth': '1224', 'location': 'DAEGU'}\n"
     ]
    }
   ],
   "source": [
    "# Dict 자료형\n",
    "# 값 변경 및 요소 추가 => 객체변수명[Key] = Value\n",
    "print('\\n=== Dic객체 요소 값 변경 & 추가 ===')\n",
    "print(f'[전] dic1 => {dic1}')\n",
    "\n",
    "dic1['name']='KKK'  # 존재 키일 경우 '변경'\n",
    "print(f'[후] dic1 => {dic1}')\n",
    "\n",
    "dic1['location']='DAEGU'  # 미존재 키일 경우 '추가'\n",
    "print(f'[후] dic1 => {dic1}')"
   ]
  },
  {
   "cell_type": "code",
   "execution_count": 7,
   "id": "a182d2a6",
   "metadata": {},
   "outputs": [
    {
     "name": "stdout",
     "output_type": "stream",
     "text": [
      "\n",
      " === Dic객체 요소 삭제 ===\n",
      "[후] dic1 => {'age': 10, 'birth': '1224', 'location': 'DAEGU'}\n",
      "[후] dic1 => {'age': 10, 'birth': '1224'}\n"
     ]
    }
   ],
   "source": [
    "# Dict 자료형\n",
    "# 요소 삭제\n",
    "print('\\n === Dic객체 요소 삭제 ===')\n",
    "del dic1['name']\n",
    "print(f'[후] dic1 => {dic1}')\n",
    "\n",
    "del(dic1['location'])\n",
    "print(f'[후] dic1 => {dic1}')"
   ]
  },
  {
   "cell_type": "code",
   "execution_count": 8,
   "id": "e30a0dc7",
   "metadata": {},
   "outputs": [],
   "source": [
    "# Dict 자료형\n",
    "# 메서드 => dict 객체변수명.메서드명()\n",
    "# 함수                                 기능\n",
    "# keys() 딕셔너리의 Key 리스트 리턴 => 2.7까지\n",
    "#        딕셔너리의 dict_keys 객체 리턴 => 3.0 이후\n",
    "# values() 딕셔너리의 Value 리스트 리턴 => 2.7까지\n",
    "#          딕셔너리의 dict_values 객체 리턴 => 3.0이후\n",
    "# items()  딕셔너리의 Key-Value 쌍 튜플로 묶은 dict_items 객체 리턴\n",
    "# clear()  모든 쌍 지우기 즉, 딕셔너리 안의 모든 요소 삭제\n",
    "# get(Key) Key로 Value 값 얻기\n",
    "#          Key에 해당 값이 없으면 None 리턴\n",
    "# get(Key, default) Key에 해당 값이 없으면 기본값 리턴\n",
    "# Key in 변수명 Key가 딕셔너리 안에 존재하는 지 체크 True / False 리턴"
   ]
  },
  {
   "cell_type": "code",
   "execution_count": 11,
   "id": "0493b090",
   "metadata": {},
   "outputs": [
    {
     "name": "stdout",
     "output_type": "stream",
     "text": [
      "\n",
      "=== Dic객체 메서드 ===\n",
      "values => <class 'dict_values'>, dict_values(['Tom', 10, '1224'])\n",
      "keys => <class 'dict_keys'>, dict_keys(['name', 'age', 'birth'])\n",
      "items => <class 'dict_items'>, dict_items([('name', 'Tom'), ('age', 10), ('birth', '1224')])\n"
     ]
    }
   ],
   "source": [
    "# Dict 자료형\n",
    "# 메서드\n",
    "mydic={'name':'Tom', 'age':10, 'birth':'1224'}\n",
    "print('\\n=== Dic객체 메서드 ===')\n",
    "values=mydic.values()\n",
    "print(f'values => {type(values)}, {values}')\n",
    "\n",
    "keys=mydic.keys()\n",
    "print(f'keys => {type(keys)}, {keys}')\n",
    "\n",
    "items=mydic.items()\n",
    "print(f'items => {type(items)}, {items}')"
   ]
  },
  {
   "cell_type": "code",
   "execution_count": 18,
   "id": "d4180bfc",
   "metadata": {},
   "outputs": [
    {
     "name": "stdout",
     "output_type": "stream",
     "text": [
      "mydic.get('name') => Blue Sky\n",
      "mydic.get('location', '---') => ---\n",
      "[전] mydic => <class 'dict'>, {'name': 'Blue Sky', 'age': 99, 'birth': '1224', 'gender': 'F'}\n",
      "[후] mydic => <class 'dict'>, {'name': 'Blue Sky', 'age': 99, 'birth': '1224', 'gender': 'F'}\n",
      "[후] mydic => <class 'dict'>, {}\n"
     ]
    }
   ],
   "source": [
    "# Dict 자료형\n",
    "# 메서드\n",
    "print(f\"mydic.get('name') => {mydic.get('name')}\")\n",
    "print(f\"mydic.get('location', '---') => {mydic.get('location', '---')}\")\n",
    "\n",
    "print(f\"[전] mydic => {type(mydic)}, {mydic}\")\n",
    "mydic.update({'name':'Blue Sky', 'age':99, 'gender':'F'})\n",
    "print(f'[후] mydic => {type(mydic)}, {mydic}')\n",
    "\n",
    "mydic.clear()\n",
    "print(f'[후] mydic => {type(mydic)}, {mydic}')"
   ]
  }
 ],
 "metadata": {
  "kernelspec": {
   "display_name": "Python 3 (ipykernel)",
   "language": "python",
   "name": "python3"
  },
  "language_info": {
   "codemirror_mode": {
    "name": "ipython",
    "version": 3
   },
   "file_extension": ".py",
   "mimetype": "text/x-python",
   "name": "python",
   "nbconvert_exporter": "python",
   "pygments_lexer": "ipython3",
   "version": "3.9.12"
  }
 },
 "nbformat": 4,
 "nbformat_minor": 5
}
