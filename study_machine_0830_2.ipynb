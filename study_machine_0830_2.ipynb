{
 "cells": [
  {
   "cell_type": "code",
   "execution_count": 1,
   "id": "3a24ca48",
   "metadata": {},
   "outputs": [],
   "source": [
    "# 머신러닝 2장\n",
    "# (데이터 다루기)\n",
    "# 혼자 공부하는 머신러닝+딥러닝"
   ]
  },
  {
   "cell_type": "code",
   "execution_count": 2,
   "id": "1bbcfdd2",
   "metadata": {},
   "outputs": [],
   "source": [
    "# 지도 학습과 비지도 학습\n",
    "# 지도 학습(Supervised Learning)\n",
    "# 훈련을 위한 데이터(training data)와 정답이 필요\n",
    "# 훈련 데이터 = 입력(input) + 정답(target)\n",
    "# 알고리즘이 정답을 맞추는지 학습\n",
    "# 분류, 회귀\n",
    "\n",
    "# 비지도 학습(Unsupervised Learning)\n",
    "# 정답(target)이 없고, 입력 데이터만 사용\n",
    "# 비슷한 특징끼리 군집화\n",
    "# 새로운 데이터에 대한 결과 예측\n",
    "# 클러스터링(Clustering)\n",
    "\n",
    "# 강화 학습(Reinforcement Learning)\n",
    "# 현재 상태에서 어떤 행동을 취하는 것이 최선인지를 학습\n",
    "# {입력값-출력값}의 쌍이 정해지지 않음\n",
    "# 보상(reward)을 최대화하는 방법으로 학습\n",
    "# 바둑에서 승리, 주식 거래의 비용, 최종적으로 벌어들인 돈 등"
   ]
  },
  {
   "cell_type": "code",
   "execution_count": 3,
   "id": "29c4ce1b",
   "metadata": {},
   "outputs": [],
   "source": [
    "# 훈련 세트와 테스트 세트\n",
    "# 1장 모델의 문제점\n",
    "# 모든 데이터를 가지고 있음: 정답을 알고 있음\n",
    "# 정확도: 100%\n",
    "\n",
    "# 훈련 세트와 테스트 세트 분리\n",
    "# 알고리즘의 정확한 평가\n",
    "# 훈련 데이터와 평가할 데이터가 달라야 됨\n",
    "\n",
    "# 정확한 평가를 위한 데이터 세트 준비 방법\n",
    "# 새로운 데이터를 준비\n",
    "# 이미 준비된 데이터의 일부분을 사용\n",
    "\n",
    "# 훈련 세트(train set)\n",
    "# 훈련에 사용되는 데이터\n",
    "\n",
    "# 테스트 세트(test set)\n",
    "# 평가에 사용되는 데이터"
   ]
  },
  {
   "cell_type": "code",
   "execution_count": 4,
   "id": "17b77ca6",
   "metadata": {},
   "outputs": [],
   "source": [
    "# 훈련 세트와 테스트 세트 만들기\n",
    "# 도미와 빙어 데이터를 2차원 리스트로 변경\n",
    "# 총 49마리의 데이터: 도미 35마리, 빙어 14마리\n",
    "# zip() 함수 사용\n",
    "\n",
    "# 데이터 생성\n",
    "# 길이와 무게를 합친 2차원 리스트 생성: fish_data\n",
    "# 결과 확인을 위한 리스트 생성: fish_target\n",
    "fish_length = [25.4, 26.3, 26.5, 29.0, 29.0, 29.7, 29.7, 30.0, 30.0, \n",
    "              30.7, 31.0, 31.0, 31.5, 32.0, 32.0, 32.0, 33.0, 33.0, \n",
    "              33.5, 33.5, 34.0, 34.0, 34.5, 35.0, 35.0, 35.0, 35.0,\n",
    "              36.0, 36.0, 37.0, 38.5, 38.5, 39.5, 41.0, 41.0, 9.8,  \n",
    "              10.5, 10.6, 11.0, 11.2, 11.3, 11.8, 11.8, 12.0, 12.2, \n",
    "              12.4, 13.0, 14.3, 15.0]\n",
    "fish_weight = [242.0, 290.0, 340.0, 363.0, 430.0, 450.0, 500.0, 390.0, \n",
    "               450.0, 500.0, 475.0, 500.0, 500.0, 340.0, 600.0, 600.0, \n",
    "               700.0, 700.0, 610.0, 650.0, 575.0, 685.0, 620.0, 680.0, \n",
    "               700.0, 725.0, 720.0, 714.0, 850.0, 1000.0, 920.0, 955.0, \n",
    "               925.0, 975.0, 950.0, 6.7,  7.5, 7.0, 9.7, 9.8, 8.7, \n",
    "               10.0, 9.9, 9.8, 12.2, 13.4, 12.2, 19.7, 19.9]"
   ]
  },
  {
   "cell_type": "code",
   "execution_count": 5,
   "id": "c8938fae",
   "metadata": {},
   "outputs": [],
   "source": [
    "fish_data = [[l, w] for l, w in zip(fish_length, fish_weight)]  # 2차원 리스트[길이, 무게]\n",
    "fish_target = [1] * 35 + [0] * 14  # target 값 생성"
   ]
  },
  {
   "cell_type": "code",
   "execution_count": 6,
   "id": "d6aa73c9",
   "metadata": {},
   "outputs": [],
   "source": [
    "# 훈련 세트와 테스트 세트 만들기\n",
    "# fish_data, fish_target 리스트를 훈련 세트와 테스트 세트로 분리\n",
    "# 훈련 세트: 35개, 테스트 세트: 14개로 분리\n",
    "\n",
    "# 훈련 세트 구성\n",
    "# train_input: 훈련용 입력 데이터\n",
    "# train_target: 훈련용 정답 데이터\n",
    "\n",
    "# 테스트 세트 구성\n",
    "# test_input: 테스트 입력 데이터\n",
    "# test_target: 테스트 정답 데이터"
   ]
  },
  {
   "cell_type": "code",
   "execution_count": 8,
   "id": "d5d54072",
   "metadata": {},
   "outputs": [],
   "source": [
    "# 훈련 세트 생성(35개)\n",
    "train_input = fish_data[:35]\n",
    "train_target = fish_target[:35]\n",
    "\n",
    "# 테스트 세트 생성(14개)\n",
    "test_input = fish_data[35:]\n",
    "test_target = fish_target[35:]"
   ]
  },
  {
   "cell_type": "code",
   "execution_count": 9,
   "id": "b0a57e4b",
   "metadata": {},
   "outputs": [
    {
     "data": {
      "text/plain": [
       "0.0"
      ]
     },
     "execution_count": 9,
     "metadata": {},
     "output_type": "execute_result"
    }
   ],
   "source": [
    "# 테스트 세트로 평가하기\n",
    "# k-최근접 알고리즘 모델 생성 및 평가하기\n",
    "# 훈련 세트로 모델을 훈련\n",
    "# 테스트 세트로 정확도 평가\n",
    "from sklearn.neighbors import KNeighborsClassifier\n",
    "\n",
    "kn = KNeighborsClassifier()  # 객체 생성\n",
    "kn = kn.fit(train_input, train_target)  # 모델 훈련\n",
    "kn.score(test_input, test_target)  # 테스트 세트로 평가 (정확도 출력)"
   ]
  },
  {
   "cell_type": "code",
   "execution_count": 10,
   "id": "932b8b35",
   "metadata": {},
   "outputs": [],
   "source": [
    "# 잘못된 훈련 데이터 사용 결과\n",
    "# 정확도 0.0\n",
    "# 훈련 세트(도미), 테스트 세트(빙어)\n",
    "# 잘못된 훈련 데이터(샘플링 편향) => 올바른 훈련 데이터"
   ]
  },
  {
   "cell_type": "code",
   "execution_count": 14,
   "id": "6d413973",
   "metadata": {},
   "outputs": [
    {
     "name": "stdout",
     "output_type": "stream",
     "text": [
      "[[  25.4  242. ]\n",
      " [  26.3  290. ]\n",
      " [  26.5  340. ]\n",
      " [  29.   363. ]\n",
      " [  29.   430. ]\n",
      " [  29.7  450. ]\n",
      " [  29.7  500. ]\n",
      " [  30.   390. ]\n",
      " [  30.   450. ]\n",
      " [  30.7  500. ]\n",
      " [  31.   475. ]\n",
      " [  31.   500. ]\n",
      " [  31.5  500. ]\n",
      " [  32.   340. ]\n",
      " [  32.   600. ]\n",
      " [  32.   600. ]\n",
      " [  33.   700. ]\n",
      " [  33.   700. ]\n",
      " [  33.5  610. ]\n",
      " [  33.5  650. ]\n",
      " [  34.   575. ]\n",
      " [  34.   685. ]\n",
      " [  34.5  620. ]\n",
      " [  35.   680. ]\n",
      " [  35.   700. ]\n",
      " [  35.   725. ]\n",
      " [  35.   720. ]\n",
      " [  36.   714. ]\n",
      " [  36.   850. ]\n",
      " [  37.  1000. ]\n",
      " [  38.5  920. ]\n",
      " [  38.5  955. ]\n",
      " [  39.5  925. ]\n",
      " [  41.   975. ]\n",
      " [  41.   950. ]\n",
      " [   9.8    6.7]\n",
      " [  10.5    7.5]\n",
      " [  10.6    7. ]\n",
      " [  11.     9.7]\n",
      " [  11.2    9.8]\n",
      " [  11.3    8.7]\n",
      " [  11.8   10. ]\n",
      " [  11.8    9.9]\n",
      " [  12.     9.8]\n",
      " [  12.2   12.2]\n",
      " [  12.4   13.4]\n",
      " [  13.    12.2]\n",
      " [  14.3   19.7]\n",
      " [  15.    19.9]]\n",
      "(49, 2)\n"
     ]
    }
   ],
   "source": [
    "# Numpy를 활용한 배열 생성\n",
    "# Numpy 사용\n",
    "# 다차원 배열을 쉽게 조작할 수 있음\n",
    "\n",
    "# 기존 fish_data와 fish_target를 Numpy 배열로 변경\n",
    "# Numpy.array(list): 파이썬의 list를 Numpy의 array로 변경\n",
    "import numpy as np\n",
    "\n",
    "input_arr = np.array(fish_data)\n",
    "target_arr = np.array(fish_target)\n",
    "\n",
    "print(input_arr)\n",
    "print(input_arr.shape)  # shape: 배열의 크기 리턴"
   ]
  },
  {
   "cell_type": "code",
   "execution_count": 15,
   "id": "a74d56b4",
   "metadata": {},
   "outputs": [],
   "source": [
    "# Numpy를 이용하여 데이터 섞기\n",
    "# Numpy 사용\n",
    "# random.seed(seed): 랜덤값 생성을 위한 초기값 지정\n",
    "# 초기값(seed)값이 같으면 동일한 랜덤값을 뽑을 수 있음\n",
    "# Numpy.arange(stop): stop-1까지 1의 간격으로 배열 생성\n",
    "# arange: array range\n",
    "# random.shuffle(x): 배열 x(ndarray 타입)를 무작위로 섞음"
   ]
  },
  {
   "cell_type": "code",
   "execution_count": 16,
   "id": "2884c2ba",
   "metadata": {},
   "outputs": [
    {
     "name": "stdout",
     "output_type": "stream",
     "text": [
      "[ 0  1  2  3  4  5  6  7  8  9 10 11 12 13 14 15 16 17 18 19 20 21 22 23\n",
      " 24 25 26 27 28 29 30 31 32 33 34 35 36 37 38 39 40 41 42 43 44 45 46 47\n",
      " 48]\n"
     ]
    }
   ],
   "source": [
    "import numpy as np\n",
    "\n",
    "np.random.seed(42)\n",
    "index_list = np.arange(49)  # 0~48까지 값을 가지는 배열 생성\n",
    "print(index_list)"
   ]
  },
  {
   "cell_type": "code",
   "execution_count": 17,
   "id": "fe518b7a",
   "metadata": {},
   "outputs": [
    {
     "name": "stdout",
     "output_type": "stream",
     "text": [
      "[13 45 47 44 17 27 26 25 31 19 12  4 34  8  3  6 40 41 46 15  9 16 24 33\n",
      " 30  0 43 32  5 29 11 36  1 21  2 37 35 23 39 10 22 18 48 20  7 42 14 28\n",
      " 38]\n"
     ]
    }
   ],
   "source": [
    "np.random.shuffle(index_list)  # 배열 내용을 무작위로 섞음\n",
    "print(index_list)"
   ]
  },
  {
   "cell_type": "code",
   "execution_count": null,
   "id": "bfc1c40b",
   "metadata": {},
   "outputs": [],
   "source": []
  }
 ],
 "metadata": {
  "kernelspec": {
   "display_name": "Python 3 (ipykernel)",
   "language": "python",
   "name": "python3"
  },
  "language_info": {
   "codemirror_mode": {
    "name": "ipython",
    "version": 3
   },
   "file_extension": ".py",
   "mimetype": "text/x-python",
   "name": "python",
   "nbconvert_exporter": "python",
   "pygments_lexer": "ipython3",
   "version": "3.9.12"
  }
 },
 "nbformat": 4,
 "nbformat_minor": 5
}
