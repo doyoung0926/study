{
 "cells": [
  {
   "cell_type": "markdown",
   "metadata": {},
   "source": [
    "# 클래스와 객체\n",
    "\n",
    "- 파이썬 프로그래밍"
   ]
  },
  {
   "cell_type": "markdown",
   "metadata": {},
   "source": [
    "### 객체 지향 프로그래밍\n",
    "---\n",
    "- 객체 지향 프로그래밍(OOP: object-oriented programming)\n",
    "    - 우리가 살고 있는 실제 세계가 객체(object)들로 구성되어 있음\n",
    "    - 소프트웨어도 객체로 구성하는 방법\n",
    "    - 실제 세계에는 사람, 텔레비전, 세탁기, 냉장고 등 많은 객체가 존재함\n",
    "    - 객체들은 고유한 기능을 수행하며, 다른 객체들과 상호 작용을 함"
   ]
  },
  {
   "cell_type": "markdown",
   "metadata": {},
   "source": [
    "### 절차 지향과 객체 지향\n",
    "---\n",
    "- 절차 지향 프로그래밍(procedural programming)\n",
    "    - 프로시저(procedure)를 기반으로 하는 프로그래밍 방법\n",
    "\n",
    "- 객체 지향 프로그래밍(object-oriented programming)\n",
    "    - 데이터와 함수를 하나의 덩어리로 묶어서 생각하는 방법"
   ]
  },
  {
   "cell_type": "markdown",
   "metadata": {},
   "source": [
    "### 객체\n",
    "---\n",
    "- 객체는 상태와 동작을 가지고 있다.\n",
    "- 객체의 상태(state)는 객체의 속성이다.\n",
    "- 객체의 동작(behavior)은 객체가 취할 수 있는 동작(기능)이다."
   ]
  },
  {
   "cell_type": "markdown",
   "metadata": {},
   "source": [
    "### 인스턴스 변수와 메소드\n",
    "---\n",
    "- 객체 = 인스턴스 변수 + 메소드\n",
    "    - 텔레비전 객체\n",
    "\n",
    "- 인스턴스 변수\n",
    "    - channel\n",
    "    - volume\n",
    "    - on\n",
    "\n",
    "- 메소드\n",
    "    - turnOn()\n",
    "    - turnOff()\n",
    "    - changeChannel()\n",
    "    - changeVolume()\n",
    "\n",
    "- 상태는 인스턴스 변수로, 동작은 메소드로 구현 됨"
   ]
  },
  {
   "cell_type": "markdown",
   "metadata": {},
   "source": [
    "### 클래스란?\n",
    "---\n",
    "- 객체에 대한 설게도를 클래스(class)라고 한다.\n",
    "- 클래스로부터 만들어지는 각각의 객체를 그 클래스의 인스턴스(instance)라고 한다.\n",
    "- 파이썬에서는 모든 것이 객체로 구성\n",
    "    - 정수, 문자열, 리스트도 객체임\n",
    "    - 객체의 특징: 사용할 수 있는 메소드를 가지고 있음\n",
    "\n",
    "\n",
    "- 클래스는 객체를 찍어내는 틀과 같다.\n",
    "클래스(와플 기계) - 객체 생성 > 객체(와플1, 와플2, ...)\n",
    "\n",
    "설계도(자동차 설계도-클래스) - 여러 번 찍어내기 > 완성품(자동차-인스턴스)"
   ]
  },
  {
   "cell_type": "markdown",
   "metadata": {},
   "source": [
    "### 캡슐화\n",
    "---\n",
    "- 캡슐화 (encapsulation)\n",
    "    - 데이터와 알고리즘을 하나로 묶고 공용 인터페이스만 제공\n",
    "    - 구현 세부 사항을 감추는 것\n",
    "\n",
    "- 정보 은닉: 공용 인터페이스만 제공함\n",
    "\n",
    "- 캡슐화 : 알고리즘 + 데이터\n",
    "- 캡슐화는 데이터와 알고리즘을 하나로 묶는 것이다.\n",
    "- 공용 인터페이스"
   ]
  },
  {
   "cell_type": "markdown",
   "metadata": {},
   "source": [
    "### 클래스 작성하기\n",
    "---\n",
    "\n",
    "전체적인 구조\n",
    "class 클래스 이름:\n",
    "    def 메소드1 (self, ...):\n",
    "        ...\n",
    "                                           메소드를 정의함\n",
    "    def 메소드2 (self, ...):\n",
    "        ...\n",
    "\n",
    "모든 메소드의 매개변수에 기본적으로 self가 추가 됨"
   ]
  },
  {
   "cell_type": "markdown",
   "metadata": {},
   "source": [
    "### 클래스의 예\n",
    "---\n",
    "- Counter 클래스를 작성하여 보자.\n",
    "- Counter 클래스는 기계식 계수기를 나타내며 경기장이나 콘서트에 입장하는 관객 수를 세기 위하여 사용할 수 있다.\n",
    "\n",
    "\n",
    "기계식 계수기 -> reset(), increment(), Get()  >  count  0"
   ]
  },
  {
   "cell_type": "code",
   "execution_count": 1,
   "metadata": {},
   "outputs": [
    {
     "name": "stdout",
     "output_type": "stream",
     "text": [
      "카운터 a의 값은 1\n"
     ]
    }
   ],
   "source": [
    "# Counter 클래스\n",
    "\n",
    "class Counter:\n",
    "    def reset(self):  # 모든 메소드의 첫번째 매개 변수는 자기 자신을 가리키는 self 변수임\n",
    "        self.count = 0\n",
    "\n",
    "    def increment(self):\n",
    "        self.count += 1\n",
    "\n",
    "    def get(self):\n",
    "        return self.count\n",
    "\n",
    "a = Counter()  # Counter 클래스의 객체 생성\n",
    "# <- Counter()를 호출하면 객체가 생성\n",
    "\n",
    "# 객체의 멤버 접근: 객체.메소드 또는 객체.변수\n",
    "a.reset()  \n",
    "a.increment()\n",
    "print('카운터 a의 값은', a.get())"
   ]
  },
  {
   "cell_type": "code",
   "execution_count": 4,
   "metadata": {},
   "outputs": [],
   "source": [
    "# 객체 2개 생성하기\n",
    "\n",
    "a = Counter()\n",
    "b = Counter()\n",
    "\n",
    "a.reset()\n",
    "b.reset()"
   ]
  },
  {
   "cell_type": "markdown",
   "metadata": {},
   "source": [
    "### 객체 참조(Object Refrence)\n",
    "---\n",
    "- 객체 변수는 실제로 객체를 저장하지 않고, 단지 객체의 메모리 주소를 저장함.\n",
    "- 객체 자체는 메모리의 다른 곳에 생성됨"
   ]
  },
  {
   "cell_type": "code",
   "execution_count": 8,
   "metadata": {},
   "outputs": [],
   "source": [
    "class Television:\n",
    "    def __init__(self, channel, volume, on):\n",
    "        self.channel = channel\n",
    "        self.volume = volume\n",
    "        self.on = on\n",
    "    \n",
    "    def setChannel(self, channel):\n",
    "        self.channel = channel\n",
    "\n",
    "t = Television(11, 10, True)\n",
    "# 변수 t는 객체의 주소를 저장"
   ]
  },
  {
   "cell_type": "markdown",
   "metadata": {},
   "source": [
    "### 참조 공유\n",
    "---\n",
    "- 객체의 참조값을 저장하고 있는 변수를 다른 변수로 복사\n",
    "    - 객체가 복사되는 것이 아니라 참조값(객체의 주소)만 복사되어 저장\n",
    "    - 동일한 객체를 가리키게 됨"
   ]
  },
  {
   "cell_type": "code",
   "execution_count": 10,
   "metadata": {},
   "outputs": [],
   "source": [
    "t = Television(11, 10, True)\n",
    "s = t\n",
    "s.channel = 9"
   ]
  },
  {
   "cell_type": "markdown",
   "metadata": {},
   "source": [
    "### 생성자\n",
    "---\n",
    "- 생성자(constructor)\n",
    "    - 객체가 생성될 때 객체를 기본값으로 초기화하는 특수한 메소드\n",
    "    - 파이썬은 한 클래스에 하나의 생성자만을 허용\n",
    "    - 객체가 생성될 때 자동을 호출됨"
   ]
  },
  {
   "cell_type": "markdown",
   "metadata": {},
   "source": [
    "### 생성자의 예\n",
    "---\n",
    "전체적인 구조\n",
    "class 클래스 이름:\n",
    "    def __init__(self, ...):\n",
    "        ...\n",
    "\n",
    "__init__() 메소드가 생성자이다.\n",
    "여기서 객체의 초기화를 담당한다."
   ]
  },
  {
   "cell_type": "code",
   "execution_count": 11,
   "metadata": {},
   "outputs": [],
   "source": [
    "class Counter:\n",
    "    def __init__(self):  # 생성자(객체 초기화를 담당)  객체가 생성될 때 자동으로 호출 됨\n",
    "        self.count = 0\n",
    "    def reset(self):\n",
    "        self.count = 0\n",
    "    def increment(self):\n",
    "        self.count += 1\n",
    "    def get(self):\n",
    "        return self.count"
   ]
  },
  {
   "cell_type": "markdown",
   "metadata": {},
   "source": [
    "### 매개변수를 가지는 생성자의 예\n",
    "---\n",
    "- 생성자도 매개변수를 가질 수 있음"
   ]
  },
  {
   "cell_type": "code",
   "execution_count": 12,
   "metadata": {},
   "outputs": [],
   "source": [
    "class Counter:\n",
    "    def __init__(self, initValue=0):  # 사용자가 값을 전달하지 않으면 0으로 초기화 됨\n",
    "        self.count = initValue\n",
    "    # ...\n",
    "\n",
    "a = Counter(100)  # count의 초기값은 100이 됨(initValue = 100)\n",
    "b = Counter()  # count의 초기값은 0이 됨(initValue = 0)"
   ]
  },
  {
   "cell_type": "markdown",
   "metadata": {},
   "source": [
    "### 메소드 정의\n",
    "---\n",
    "- 메소드\n",
    "    - 클래스 안에 정의된 함수이므로 함수를 정의하는 것과 아주 유사함\n",
    "- 첫 번째 매개변수는 항상 self이어야 한다.\n",
    "- 어떤 작업을 수행하려면, 반드시 객체를 생성해야 됨"
   ]
  },
  {
   "cell_type": "code",
   "execution_count": 13,
   "metadata": {},
   "outputs": [],
   "source": [
    "class Television:\n",
    "    def __init__(self, channel, volume, on):\n",
    "        self.channel = channel\n",
    "        self.volume = volume\n",
    "        self.on = on\n",
    "\n",
    "    def show(self):\n",
    "        print(self.channel, self.volume, self.on)\n",
    "\n",
    "    def setChannel(self, channel):\n",
    "        self.channel = channel\n",
    "\n",
    "    def getChannel(self):\n",
    "        return self.channel"
   ]
  },
  {
   "cell_type": "code",
   "execution_count": 15,
   "metadata": {},
   "outputs": [
    {
     "name": "stdout",
     "output_type": "stream",
     "text": [
      "9 10 True\n",
      "11 10 True\n"
     ]
    }
   ],
   "source": [
    "# 메소드 호출\n",
    "\n",
    "t = Television(9, 10, True)\n",
    "\n",
    "t.show()\n",
    "t.setChannel(11)\n",
    "t.show()"
   ]
  },
  {
   "cell_type": "markdown",
   "metadata": {},
   "source": [
    "### self 매개 변수\n",
    "---\n",
    "- self 매개 변수\n",
    "    - 메소드의 첫 번째 매개 변수는 항상 self임\n",
    "    - self 객체 자신을 참조하는 변수임\n",
    "    - 객체의 인스턴스 변수나 메소드에 접근할 때는\n",
    "        - self.변수이름\n",
    "        - self.메소드이름()\n",
    "\n",
    "- 클래스 변수\n",
    "    - 생성자 내부에서 생성되면, 이 변수는 해당 클래스 전체에서 사용\n",
    "    - self.channel 의 범위는 Television 클래스 전체"
   ]
  },
  {
   "cell_type": "code",
   "execution_count": 17,
   "metadata": {},
   "outputs": [],
   "source": [
    "class Television:\n",
    "    def __init__(self, channel, volume, on):\n",
    "        self.channel = channel\n",
    "        self.volume = volume   # 클래스 변수들 - 해당 클래스 전체에서 사용\n",
    "        self.on = on \n",
    "\n",
    "    def show(self):\n",
    "        print(self.channel, self.volume, self.on)"
   ]
  },
  {
   "cell_type": "markdown",
   "metadata": {},
   "source": [
    "### 정보 은닉\n",
    "---\n",
    "- 구현의 세부 사항을 클래스 안에 감추는 것\n",
    "- 인스턴스 변수를 private 으로 정의하려면\n",
    "    - 변수 이름 앞에 _을 붙이면 된다.\n",
    "- private이 붙은 인스턴스 변수\n",
    "    - 클래스 내부에서만 접근될 수 있음\n",
    "\n",
    "클래스\n",
    "메소드\n",
    "변수선언\n",
    "\n",
    "변수는 안에 감추고 외부에서는 메소드들만 사용하도록 하는 것입니다."
   ]
  },
  {
   "cell_type": "markdown",
   "metadata": {},
   "source": [
    "### 접근자와 설정자\n",
    "---\n",
    "- 접근자(getter)\n",
    "    - 인스턴스 변수값을 반환하는 접근자\n",
    "\n",
    "- 설정자(setter)\n",
    "    - 인스턴스 변수값을 설정하는 설정자\n",
    "\n",
    "- 정보 은닉을 위해 접근자, 설정자를 사용\n",
    "\n",
    "접근자 메소드 또는 변경자 메소드 ->  객체  <->  필드\n",
    "\n",
    "접근자와 설정자 메소드만을 통하여 인스턴스 변수에 접근하여야 한다."
   ]
  },
  {
   "cell_type": "code",
   "execution_count": 18,
   "metadata": {},
   "outputs": [
    {
     "name": "stdout",
     "output_type": "stream",
     "text": [
      "Hong\n"
     ]
    }
   ],
   "source": [
    "# 접근자와 설정자\n",
    "\n",
    "class Student:\n",
    "    def __init__(self, name=None, age=0):\n",
    "        self.name = name\n",
    "        self.age = age\n",
    "\n",
    "    # 접근자\n",
    "    def getAge(self):\n",
    "        return self.age\n",
    "\n",
    "    def getName(self):\n",
    "        return self.name\n",
    "\n",
    "    # 설정자\n",
    "    def setAge(self, age):\n",
    "        self.age = age\n",
    "    \n",
    "    def setName(self, name):\n",
    "        self.name = name\n",
    "\n",
    "obj = Student('Hong', 20)\n",
    "print(obj.getName())    "
   ]
  },
  {
   "cell_type": "markdown",
   "metadata": {},
   "source": [
    "### Lab: 원을 클래스로 표현\n",
    "---\n",
    "- 원을 클래스로 표시해보자.\n",
    "원은 반지름(radius)을 가지고 있다.\n",
    "원의 넓이와 둘레를 계산하는 메소드도 정의해보자.\n",
    "설정자와 접근자 메소드도 작성한다.\n",
    "\n",
    "원의 반지름 = 10  \n",
    "원의 넓이 = 314.1592653589793  \n",
    "원의 둘레 = 62.83185307179586"
   ]
  },
  {
   "cell_type": "code",
   "execution_count": 20,
   "metadata": {},
   "outputs": [
    {
     "name": "stdout",
     "output_type": "stream",
     "text": [
      "원의 반지름= 10\n",
      "원의 넓이= 314.1592653589793\n",
      "원의 둘레= 62.83185307179586\n"
     ]
    }
   ],
   "source": [
    "# Solution\n",
    "\n",
    "import math\n",
    "\n",
    "class Circle:\n",
    "    def __init__(self, radius=1.0):\n",
    "        self.radius = radius\n",
    "\n",
    "    def setRadius(self, r):\n",
    "        self.redius = r\n",
    "\n",
    "    def getRadius(self):\n",
    "        return self.radius\n",
    "\n",
    "    def calcArea(self):\n",
    "        area = math.pi*self.radius*self.radius\n",
    "        return area\n",
    "\n",
    "    def calcCircum(self):\n",
    "        circumference = 2.0*math.pi*self.radius\n",
    "        return circumference\n",
    "\n",
    "c1=Circle(10)\n",
    "print('원의 반지름=', c1.getRadius())\n",
    "print('원의 넓이=', c1.calcArea())\n",
    "print('원의 둘레=', c1.calcCircum())"
   ]
  },
  {
   "cell_type": "code",
   "execution_count": null,
   "metadata": {},
   "outputs": [],
   "source": []
  }
 ],
 "metadata": {
  "kernelspec": {
   "display_name": "Python 3.8.13 ('pytorch38')",
   "language": "python",
   "name": "python3"
  },
  "language_info": {
   "codemirror_mode": {
    "name": "ipython",
    "version": 3
   },
   "file_extension": ".py",
   "mimetype": "text/x-python",
   "name": "python",
   "nbconvert_exporter": "python",
   "pygments_lexer": "ipython3",
   "version": "3.8.13"
  },
  "orig_nbformat": 4,
  "vscode": {
   "interpreter": {
    "hash": "e713db361fd0c0a151521921a307db5316dc01e9b741659f15d8bea985d071ea"
   }
  }
 },
 "nbformat": 4,
 "nbformat_minor": 2
}
