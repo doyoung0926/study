{
 "cells": [
  {
   "cell_type": "markdown",
   "id": "7414def0",
   "metadata": {},
   "source": [
    "## 퍼셉트론(Perceptron)\n",
    "---\n",
    "- 뉴런을 컴퓨터 프로그램화 한 클래스\n",
    "- 단순한 구조의 분류(Classification) 모델\n",
    "- AND, OR 문제 분류 성공\n",
    "- XOR문제 분류 실패"
   ]
  },
  {
   "cell_type": "code",
   "execution_count": 89,
   "id": "c2ac6e4b",
   "metadata": {},
   "outputs": [],
   "source": [
    "from sklearn.linear_model import Perceptron\n",
    "import numpy as np"
   ]
  },
  {
   "cell_type": "markdown",
   "id": "f0928fe4",
   "metadata": {},
   "source": [
    "### [1] AND 분류\n",
    "---\n",
    "x1 x2 y  \n",
    "0  0  0  \n",
    "1  0  0  \n",
    "0  1  0  \n",
    "1  1  1"
   ]
  },
  {
   "cell_type": "code",
   "execution_count": 90,
   "id": "7b8ed50d",
   "metadata": {},
   "outputs": [],
   "source": [
    "# 데이터 준비\n",
    "X1 = [[0., 0.], [1., 0.], [0., 1.], [1., 1.]]\n",
    "y1 = [0, 0, 0, 1]"
   ]
  },
  {
   "cell_type": "code",
   "execution_count": 91,
   "id": "1a7ced71",
   "metadata": {},
   "outputs": [],
   "source": [
    "# 모델 객체 생성\n",
    "andModel = Perceptron()"
   ]
  },
  {
   "cell_type": "code",
   "execution_count": 92,
   "id": "032d8b34",
   "metadata": {},
   "outputs": [
    {
     "data": {
      "text/plain": [
       "Perceptron()"
      ]
     },
     "execution_count": 92,
     "metadata": {},
     "output_type": "execute_result"
    }
   ],
   "source": [
    "# 학습\n",
    "andModel.fit(X1, y1)"
   ]
  },
  {
   "cell_type": "code",
   "execution_count": 93,
   "id": "a3cfdbe9",
   "metadata": {},
   "outputs": [],
   "source": [
    "# 모델 객체 속성 출력 함수\n",
    "def showAttribute(model):\n",
    "    print(f'classes_ : {model.classes_}')\n",
    "    print(f'coef_ : {model.coef_}')\n",
    "    print(f'intercept_ : {model.intercept_}')\n",
    "    print(f'n_iter_ : {model.n_iter_}')"
   ]
  },
  {
   "cell_type": "code",
   "execution_count": 94,
   "id": "322ff917",
   "metadata": {},
   "outputs": [
    {
     "name": "stdout",
     "output_type": "stream",
     "text": [
      "classes_ : [0 1]\n",
      "coef_ : [[2. 2.]]\n",
      "intercept_ : [-2.]\n",
      "n_iter_ : 10\n"
     ]
    }
   ],
   "source": [
    "showAttribute(andModel)"
   ]
  },
  {
   "cell_type": "code",
   "execution_count": 113,
   "id": "1884410d",
   "metadata": {},
   "outputs": [
    {
     "data": {
      "text/plain": [
       "array([0, 0, 0, 1])"
      ]
     },
     "execution_count": 113,
     "metadata": {},
     "output_type": "execute_result"
    }
   ],
   "source": [
    "# 예측\n",
    "pre_and = andModel.predict(X1)\n",
    "pre_and"
   ]
  },
  {
   "cell_type": "code",
   "execution_count": 96,
   "id": "861e3e48",
   "metadata": {},
   "outputs": [
    {
     "name": "stdout",
     "output_type": "stream",
     "text": [
      "정답 : [0, 0, 0, 1]\n",
      "예측 : [0 0 0 1]\n"
     ]
    }
   ],
   "source": [
    "print(f'정답 : {y1}')\n",
    "print(f'예측 : {pre_and}')"
   ]
  },
  {
   "cell_type": "code",
   "execution_count": 97,
   "id": "3f2b92bf",
   "metadata": {},
   "outputs": [],
   "source": [
    "from sklearn.metrics import accuracy_score"
   ]
  },
  {
   "cell_type": "code",
   "execution_count": 98,
   "id": "11bb8b24",
   "metadata": {},
   "outputs": [
    {
     "name": "stdout",
     "output_type": "stream",
     "text": [
      "1.0\n"
     ]
    }
   ],
   "source": [
    "print(f'{accuracy_score(y1, pre_and)}')"
   ]
  },
  {
   "cell_type": "markdown",
   "id": "892cee59",
   "metadata": {},
   "source": [
    "### [2] OR 연산 분류\n",
    "---\n",
    "x1 x2 y  \n",
    "0  0  0  \n",
    "1  0  1  \n",
    "0  1  1  \n",
    "1  1  1"
   ]
  },
  {
   "cell_type": "code",
   "execution_count": 99,
   "id": "ea14d927",
   "metadata": {},
   "outputs": [],
   "source": [
    "# 데이터 준비\n",
    "X2 = [[0., 0.], [1., 0.], [0., 1.], [1., 1.]]\n",
    "y2 = [0, 1, 1, 1]"
   ]
  },
  {
   "cell_type": "code",
   "execution_count": 100,
   "id": "ab72d4e9",
   "metadata": {},
   "outputs": [],
   "source": [
    "# 모델 객체 생성\n",
    "orModel = Perceptron()"
   ]
  },
  {
   "cell_type": "code",
   "execution_count": 101,
   "id": "4020f56f",
   "metadata": {},
   "outputs": [
    {
     "data": {
      "text/plain": [
       "Perceptron()"
      ]
     },
     "execution_count": 101,
     "metadata": {},
     "output_type": "execute_result"
    }
   ],
   "source": [
    "# 학습\n",
    "orModel.fit(X2, y2)"
   ]
  },
  {
   "cell_type": "code",
   "execution_count": 102,
   "id": "0a8a0b8a",
   "metadata": {},
   "outputs": [
    {
     "name": "stdout",
     "output_type": "stream",
     "text": [
      "classes_ : [0 1]\n",
      "coef_ : [[2. 2.]]\n",
      "intercept_ : [-1.]\n",
      "n_iter_ : 7\n"
     ]
    }
   ],
   "source": [
    "# 모델 객체 속성 출력 함수\n",
    "showAttribute(orModel)"
   ]
  },
  {
   "cell_type": "code",
   "execution_count": 112,
   "id": "edfc746e",
   "metadata": {},
   "outputs": [
    {
     "data": {
      "text/plain": [
       "array([0, 1, 1, 1])"
      ]
     },
     "execution_count": 112,
     "metadata": {},
     "output_type": "execute_result"
    }
   ],
   "source": [
    "# 예측\n",
    "pre_or = orModel.predict(X2)\n",
    "pre_or"
   ]
  },
  {
   "cell_type": "code",
   "execution_count": 104,
   "id": "d4f64764",
   "metadata": {},
   "outputs": [
    {
     "name": "stdout",
     "output_type": "stream",
     "text": [
      "1.0\n"
     ]
    }
   ],
   "source": [
    "print(f'{accuracy_score(y2, pre_or)}')"
   ]
  },
  {
   "cell_type": "markdown",
   "id": "7d495ef3",
   "metadata": {},
   "source": [
    "### [3] XOR 연산 분류\n",
    "---\n",
    "x1 x2 y  \n",
    "0  0  0  \n",
    "1  0  1  \n",
    "0  1  1  \n",
    "1  1  0"
   ]
  },
  {
   "cell_type": "code",
   "execution_count": 105,
   "id": "53fe98f3",
   "metadata": {},
   "outputs": [],
   "source": [
    "# 데이터 준비\n",
    "X3 = [[0., 0.], [1., 0.], [0., 1.], [1., 1.]]\n",
    "y3 = [0, 1, 1, 0]"
   ]
  },
  {
   "cell_type": "code",
   "execution_count": 106,
   "id": "845a39b9",
   "metadata": {},
   "outputs": [],
   "source": [
    "# 모델 객체 생성\n",
    "xorModel = Perceptron()"
   ]
  },
  {
   "cell_type": "code",
   "execution_count": 107,
   "id": "33a914b2",
   "metadata": {},
   "outputs": [
    {
     "data": {
      "text/plain": [
       "Perceptron()"
      ]
     },
     "execution_count": 107,
     "metadata": {},
     "output_type": "execute_result"
    }
   ],
   "source": [
    "# 학습\n",
    "xorModel.fit(X3, y3)"
   ]
  },
  {
   "cell_type": "code",
   "execution_count": 108,
   "id": "b8d1b7f1",
   "metadata": {},
   "outputs": [
    {
     "name": "stdout",
     "output_type": "stream",
     "text": [
      "classes_ : [0 1]\n",
      "coef_ : [[0. 0.]]\n",
      "intercept_ : [0.]\n",
      "n_iter_ : 6\n"
     ]
    }
   ],
   "source": [
    "# 모델 객체 속성 출력 함수\n",
    "showAttribute(xorModel)"
   ]
  },
  {
   "cell_type": "code",
   "execution_count": 111,
   "id": "ce75b902",
   "metadata": {},
   "outputs": [
    {
     "data": {
      "text/plain": [
       "array([0, 0, 0, 0])"
      ]
     },
     "execution_count": 111,
     "metadata": {},
     "output_type": "execute_result"
    }
   ],
   "source": [
    "# 예측\n",
    "pre_xor = xorModel.predict(X3)\n",
    "pre_xor"
   ]
  },
  {
   "cell_type": "code",
   "execution_count": 110,
   "id": "86feebd8",
   "metadata": {},
   "outputs": [
    {
     "name": "stdout",
     "output_type": "stream",
     "text": [
      "0.5\n"
     ]
    }
   ],
   "source": [
    "print(f'{accuracy_score(y3, pre_xor)}')"
   ]
  }
 ],
 "metadata": {
  "kernelspec": {
   "display_name": "Python 3 (ipykernel)",
   "language": "python",
   "name": "python3"
  },
  "language_info": {
   "codemirror_mode": {
    "name": "ipython",
    "version": 3
   },
   "file_extension": ".py",
   "mimetype": "text/x-python",
   "name": "python",
   "nbconvert_exporter": "python",
   "pygments_lexer": "ipython3",
   "version": "3.9.12"
  }
 },
 "nbformat": 4,
 "nbformat_minor": 5
}
