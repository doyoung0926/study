{
 "cells": [
  {
   "cell_type": "markdown",
   "id": "0a32c125",
   "metadata": {},
   "source": [
    "# 선형 회귀"
   ]
  },
  {
   "cell_type": "code",
   "execution_count": 3,
   "id": "36ee8fe6",
   "metadata": {},
   "outputs": [],
   "source": [
    "import numpy as np\n",
    "\n",
    "perch_length = np.array([8.4, 13.7, 15.0, 16.2, 17.4, 18.0, 18.7, 19.0, \n",
    "                        19.6, 20.0, 21.0, 21.0, 21.0, 21.3, 22.0, 22.0, \n",
    "                        22.0, 22.0, 22.0, 22.5, 22.5, 22.7, 23.0, 23.5, \n",
    "                        24.0, 24.0, 24.6, 25.0, 25.6, 26.5,\t27.3, 27.5, \n",
    "                        27.5, 27.5, 28.0, 28.7, 30.0, 32.8, 34.5, 35.0,\n",
    "                     \t36.5, 36.0, 37.0, 37.0, 39.0, 39.0, 39.0, 40.0, \n",
    "                        40.0, 40.0,\t40.0, 42.0, 43.0, 43.0, 43.5, 44.0])\n",
    "\n",
    "perch_weight = np.array([5.9, 32.0, 40.0, 51.5, 70.0, 100.0, 78.0, 80.0, \n",
    "                         85.0, 85.0, 110.0, 115.0, 125.0, 130.0, 120.0, \n",
    "                         120.0, 130.0, 135.0, 110.0, 130.0,150.0, 145.0,\n",
    "                         150.0, 170.0, 225.0, 145.0, 188.0, 180.0,197.0,\n",
    "                         218.0,300.0, 260.0, 265.0, 250.0, 250.0, 300.0,\n",
    "                         320.0, 514.0, 556.0, 840.0,685.0, 700.0, 700.0,\n",
    "                         690.0, 900.0, 650.0, 820.0, 850.0, 900.0,\n",
    "                         1015.0, 820.0, 1100.0, 1000.0, 1100.0, \n",
    "                         1000.0, 1000.0])\n"
   ]
  },
  {
   "cell_type": "code",
   "execution_count": 4,
   "id": "9faa49ac",
   "metadata": {},
   "outputs": [
    {
     "name": "stdout",
     "output_type": "stream",
     "text": [
      "50cm:  [1033.33333333]\n",
      "100cm:  [1033.33333333]\n"
     ]
    }
   ],
   "source": [
    "from sklearn.model_selection import train_test_split\n",
    "\n",
    "# 훈련 세트와 테스트 세트로 나눔\n",
    "train_input, test_input, train_target, test_target = train_test_split(\n",
    "perch_length, perch_weight, random_state=42)\n",
    "\n",
    "# 훈련 세트와 테스트 세트를 2차원 배열로 변견\n",
    "train_input = train_input.reshape(-1, 1)\n",
    "test_input = test_input.reshape(-1, 1)\n",
    "\n",
    "from sklearn.neighbors import KNeighborsRegressor\n",
    "\n",
    "knr = KNeighborsRegressor(n_neighbors=3)\n",
    "# k-최근접 이웃 회귀 모델을 훈련\n",
    "knr.fit(train_input, train_target)\n",
    "\n",
    "print('50cm: ', knr.predict([[50]]))\n",
    "print('100cm: ', knr.predict([[100]]))"
   ]
  },
  {
   "cell_type": "code",
   "execution_count": 5,
   "id": "4b040f56",
   "metadata": {},
   "outputs": [
    {
     "data": {
      "image/png": "[encoded data removed]",
      "text/plain": [
       "<Figure size 432x288 with 1 Axes>"
      ]
     },
     "metadata": {
      "needs_background": "light"
     },
     "output_type": "display_data"
    }
   ],
   "source": [
    "# 50cm, 100com 길이의 농어의 이웃 및 산점도 비교\n",
    "import matplotlib.pyplot as plt\n",
    "# 50cm 농어의 이웃을 구함\n",
    "distance_50, indexes_50 = knr.kneighbors([[50]])\n",
    "# 100cm 농어의 이웃을 구함\n",
    "distance_100, indexes_100 = knr.kneighbors([[100]])\n",
    "\n",
    "# 훈련 세트의 산점도\n",
    "plt.scatter(train_input, train_target, label='train set')\n",
    "\n",
    "# 훈련 세트 중에서 50cm 농어의 이웃 데이터만 다시 그림\n",
    "plt.scatter(train_input[indexes_50], train_target[indexes_50],\n",
    "           marker='D', label='50cm neighbors')\n",
    "# 50cm 농어 데이터\n",
    "plt.scatter(50, 1033, marker='^', label='50cm')\n",
    "\n",
    "# 훈련 세트 중에서 100cm 농어의 이웃 데이터만 다시 그림\n",
    "plt.scatter(train_input[indexes_100], train_target[indexes_100],\n",
    "           marker='P', label='100cm neighbors')\n",
    "\n",
    "# 100cm 농어 데이터\n",
    "plt.scatter(100, 1033, marker='s', label='100cm')\n",
    "plt.xlim(0, 110)\n",
    "plt.legend(loc=5)\n",
    "plt.show()"
   ]
  },
  {
   "cell_type": "code",
   "execution_count": 6,
   "id": "3ec057c3",
   "metadata": {},
   "outputs": [
    {
     "name": "stdout",
     "output_type": "stream",
     "text": [
      "50cm neighbor indexes:  [[34  8 14]]\n",
      "100cm neighbor indexes:  [[34  8 14]]\n"
     ]
    }
   ],
   "source": [
    "# 훈련데이터에서 이웃 데이터의 인덱스 확인\n",
    "print('50cm neighbor indexes: ', indexes_50)\n",
    "print('100cm neighbor indexes: ', indexes_100)"
   ]
  },
  {
   "cell_type": "code",
   "execution_count": 7,
   "id": "99a45ef5",
   "metadata": {},
   "outputs": [
    {
     "name": "stdout",
     "output_type": "stream",
     "text": [
      "1033.3333333333333\n",
      "1033.3333333333333\n"
     ]
    }
   ],
   "source": [
    "# 이웃 데이터의 무게 평균 계산\n",
    "print(np.mean(train_target[indexes_50]))\n",
    "print(np.mean(train_target[indexes_100]))"
   ]
  },
  {
   "cell_type": "code",
   "execution_count": 17,
   "id": "7642231a",
   "metadata": {},
   "outputs": [
    {
     "name": "stdout",
     "output_type": "stream",
     "text": [
      "50cm:  [1241.83860323]\n",
      "[39.01714496] -709.0186449535477\n"
     ]
    }
   ],
   "source": [
    "# 훈련 데이터를 이용한 직선 방정식 구하기\n",
    "from sklearn.linear_model import LinearRegression\n",
    "\n",
    "lr = LinearRegression()\n",
    "# 선형 회귀 모델 훈련\n",
    "lr.fit(train_input, train_target)\n",
    "# 50cm 농어에 대한 예측\n",
    "print('50cm: ', lr.predict([[50]]))\n",
    "\n",
    "# 기울기(a): coef_, 절편(bias): intercept_\n",
    "print(lr.coef_, lr.intercept_)"
   ]
  },
  {
   "cell_type": "code",
   "execution_count": 20,
   "id": "11bfa59b",
   "metadata": {},
   "outputs": [
    {
     "data": {
      "image/png": "[encoded data removed]",
      "text/plain": [
       "<Figure size 432x288 with 1 Axes>"
      ]
     },
     "metadata": {
      "needs_background": "light"
     },
     "output_type": "display_data"
    }
   ],
   "source": [
    "# 기울기와 절편을 이용한 1차 방정식 그래프\n",
    "import matplotlib.pyplot as plt\n",
    "\n",
    "plt.scatter(train_input, train_target)\n",
    "\n",
    "# 15에서 50까지 1차 방정식 그래프 그리기\n",
    "# plot([x축 데이터: 시작 ,끝], [y축 데이터: 시작, 끝])\n",
    "plt.plot([15, 50], [15*lr.coef_ + lr.intercept_, 50*lr.coef_ + lr.intercept_],\n",
    "        color='red', linestyle='--')\n",
    "\n",
    "# 50cm 농어 데이터\n",
    "plt.scatter(50, 1241.8, marker='^', color='orangered')\n",
    "plt.show()"
   ]
  },
  {
   "cell_type": "code",
   "execution_count": 21,
   "id": "ce853117",
   "metadata": {},
   "outputs": [
    {
     "name": "stdout",
     "output_type": "stream",
     "text": [
      "train data score:  0.939846333997604\n",
      "test data score:  0.8247503123313558\n"
     ]
    }
   ],
   "source": [
    "print('train data score: ',\n",
    "     lr.score(train_input, train_target))\n",
    "print('test data score: ',\n",
    "     lr.score(test_input, test_target))  # 과소 적합"
   ]
  },
  {
   "cell_type": "markdown",
   "id": "fa113510",
   "metadata": {},
   "source": [
    "## 다항 회귀"
   ]
  },
  {
   "cell_type": "code",
   "execution_count": 22,
   "id": "14895146",
   "metadata": {},
   "outputs": [
    {
     "name": "stdout",
     "output_type": "stream",
     "text": [
      "[[ 384.16   19.6 ]\n",
      " [ 484.     22.  ]\n",
      " [ 349.69   18.7 ]\n",
      " [ 302.76   17.4 ]\n",
      " [1296.     36.  ]]\n",
      "(42, 2) (14, 2)\n"
     ]
    }
   ],
   "source": [
    "# 훈련 세트에 데이터 추가\n",
    "train_poly = np.column_stack((train_input**2, train_input))\n",
    "test_poly = np.column_stack((test_input**2, test_input))\n",
    "\n",
    "print(train_poly[0:5])\n",
    "print(train_poly.shape, test_poly.shape)"
   ]
  },
  {
   "cell_type": "code",
   "execution_count": 23,
   "id": "ecb4e084",
   "metadata": {},
   "outputs": [
    {
     "name": "stdout",
     "output_type": "stream",
     "text": [
      "[1573.98423528]\n",
      "[  1.01433211 -21.55792498] 116.05021078278259\n"
     ]
    }
   ],
   "source": [
    "lr = LinearRegression()\n",
    "lr.fit(train_poly, train_target)\n",
    "\n",
    "print(lr.predict([[50**2, 50]]))  # 50cm 농어의 무게 예측\n",
    "print(lr.coef_, lr.intercept_)"
   ]
  },
  {
   "cell_type": "code",
   "execution_count": 25,
   "id": "dd8a998e",
   "metadata": {},
   "outputs": [
    {
     "data": {
      "image/png": "[encoded data removed]",
      "text/plain": [
       "<Figure size 432x288 with 1 Axes>"
      ]
     },
     "metadata": {
      "needs_background": "light"
     },
     "output_type": "display_data"
    }
   ],
   "source": [
    "# 다항 회귀식을 이용한 그래프 그리기\n",
    "# 구간별 직선을 그리기 위해 15에서 50까지 정수 배열을 만듦\n",
    "point = np.arange(15, 51)\n",
    "# 훈련 세트의 산점도 그리기\n",
    "plt.scatter(train_input, train_target)\n",
    "# 15에서 49까지 2차 방정식 그래프 그리기\n",
    "plt.plot(point, 1.01*point**2 - 21.6*point + 116.05,\n",
    "        color='red', linestyle='--')\n",
    "# 50cm 농어 데이터(무게:1574g)\n",
    "plt.scatter([50], [1574], marker='^')\n",
    "plt.xlabel('length')\n",
    "plt.ylabel('weight')\n",
    "plt.show()"
   ]
  },
  {
   "cell_type": "code",
   "execution_count": 26,
   "id": "e59a7dd0",
   "metadata": {},
   "outputs": [
    {
     "name": "stdout",
     "output_type": "stream",
     "text": [
      "0.9706807451768623\n",
      "0.9775935108325121\n"
     ]
    }
   ],
   "source": [
    "print(lr.score(train_poly, train_target))\n",
    "print(lr.score(test_poly, test_target))"
   ]
  },
  {
   "cell_type": "code",
   "execution_count": null,
   "id": "450b9a5b",
   "metadata": {},
   "outputs": [],
   "source": []
  }
 ],
 "metadata": {
  "kernelspec": {
   "display_name": "Python 3 (ipykernel)",
   "language": "python",
   "name": "python3"
  },
  "language_info": {
   "codemirror_mode": {
    "name": "ipython",
    "version": 3
   },
   "file_extension": ".py",
   "mimetype": "text/x-python",
   "name": "python",
   "nbconvert_exporter": "python",
   "pygments_lexer": "ipython3",
   "version": "3.9.12"
  }
 },
 "nbformat": 4,
 "nbformat_minor": 5
}
